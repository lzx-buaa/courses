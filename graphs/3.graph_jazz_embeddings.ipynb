{
 "cells": [
  {
   "cell_type": "code",
   "execution_count": 1,
   "id": "bored-addiction",
   "metadata": {},
   "outputs": [],
   "source": [
    "import spotipy\n",
    "from spotipy.oauth2 import SpotifyClientCredentials"
   ]
  },
  {
   "cell_type": "code",
   "execution_count": null,
   "id": "veterinary-williams",
   "metadata": {},
   "outputs": [],
   "source": [
    "client_id = \n",
    "client_secret = \"\""
   ]
  },
  {
   "cell_type": "code",
   "execution_count": 3,
   "id": "invisible-professor",
   "metadata": {},
   "outputs": [],
   "source": [
    "sp = spotipy.Spotify(auth_manager=SpotifyClientCredentials(client_id=\"YOUR_APP_CLIENT_ID\",\n",
    "                                                           client_secret=\"YOUR_APP_CLIENT_SECRET\"))"
   ]
  },
  {
   "cell_type": "code",
   "execution_count": null,
   "id": "christian-addition",
   "metadata": {},
   "outputs": [],
   "source": []
  },
  {
   "cell_type": "markdown",
   "id": "appropriate-mercury",
   "metadata": {},
   "source": [
    "## Source\n",
    "1. [Getting Jazz information](https://github.com/wjlevay/discog-parser)\n",
    "2. [Spotify APIs](https://developer.spotify.com/documentation/web-api/reference/#category-artists)"
   ]
  },
  {
   "cell_type": "code",
   "execution_count": null,
   "id": "dutch-magic",
   "metadata": {},
   "outputs": [],
   "source": [
    "#!pip install spotipy"
   ]
  },
  {
   "cell_type": "code",
   "execution_count": null,
   "id": "documentary-monitor",
   "metadata": {},
   "outputs": [],
   "source": []
  }
 ],
 "metadata": {
  "kernelspec": {
   "display_name": "torch",
   "language": "python",
   "name": "torch"
  },
  "language_info": {
   "codemirror_mode": {
    "name": "ipython",
    "version": 3
   },
   "file_extension": ".py",
   "mimetype": "text/x-python",
   "name": "python",
   "nbconvert_exporter": "python",
   "pygments_lexer": "ipython3",
   "version": "3.7.2"
  }
 },
 "nbformat": 4,
 "nbformat_minor": 5
}
