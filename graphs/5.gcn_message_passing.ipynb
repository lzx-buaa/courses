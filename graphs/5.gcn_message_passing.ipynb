{
 "cells": [
  {
   "cell_type": "code",
   "execution_count": 1,
   "id": "abroad-hepatitis",
   "metadata": {},
   "outputs": [],
   "source": [
    "import numpy as np\n",
    "from scipy.linalg import sqrtm \n",
    "from scipy.special import softmax\n",
    "import networkx as nx\n",
    "from networkx.algorithms.community.modularity_max import greedy_modularity_communities\n",
    "import matplotlib.pyplot as plt\n",
    "from matplotlib import animation\n",
    "%matplotlib inline\n",
    "from IPython.display import HTML"
   ]
  },
  {
   "cell_type": "code",
   "execution_count": 2,
   "id": "pharmaceutical-marine",
   "metadata": {},
   "outputs": [
    {
     "data": {
      "text/plain": [
       "array([[0, 1, 0, 0, 0],\n",
       "       [1, 0, 1, 0, 0],\n",
       "       [0, 1, 0, 1, 1],\n",
       "       [0, 0, 1, 0, 0],\n",
       "       [0, 0, 1, 0, 0]])"
      ]
     },
     "execution_count": 2,
     "metadata": {},
     "output_type": "execute_result"
    }
   ],
   "source": [
    "A = np.array(\n",
    "    [[0, 1, 0, 0, 0], [1, 0, 1, 0, 0], [0, 1, 0, 1, 1], [0, 0, 1, 0, 0], [0, 0, 1, 0, 0]]\n",
    ")\n",
    "A.shape\n",
    "A"
   ]
  },
  {
   "cell_type": "code",
   "execution_count": 3,
   "id": "described-overall",
   "metadata": {},
   "outputs": [
    {
     "data": {
      "text/plain": [
       "array([[1],\n",
       "       [2],\n",
       "       [3],\n",
       "       [4],\n",
       "       [5]])"
      ]
     },
     "execution_count": 3,
     "metadata": {},
     "output_type": "execute_result"
    }
   ],
   "source": [
    "feats = np.arange(A.shape[0]).reshape((-1,1))+1\n",
    "feats"
   ]
  },
  {
   "cell_type": "code",
   "execution_count": 4,
   "id": "surgical-static",
   "metadata": {},
   "outputs": [
    {
     "data": {
      "text/plain": [
       "array([[3, 1],\n",
       "       [0, 0],\n",
       "       [1, 8],\n",
       "       [4, 7],\n",
       "       [2, 1]])"
      ]
     },
     "execution_count": 4,
     "metadata": {},
     "output_type": "execute_result"
    }
   ],
   "source": [
    "feats_2d = np.random.randint(low=0, high=10, size=(5,2))\n",
    "feats_2d"
   ]
  },
  {
   "cell_type": "code",
   "execution_count": 5,
   "id": "controlling-fifty",
   "metadata": {},
   "outputs": [
    {
     "data": {
      "text/plain": [
       "(5, 2)"
      ]
     },
     "execution_count": 5,
     "metadata": {},
     "output_type": "execute_result"
    }
   ],
   "source": [
    "feats_2d.shape"
   ]
  },
  {
   "cell_type": "code",
   "execution_count": 7,
   "id": "original-latex",
   "metadata": {},
   "outputs": [
    {
     "data": {
      "text/plain": [
       "array([[ 2],\n",
       "       [ 4],\n",
       "       [11],\n",
       "       [ 3],\n",
       "       [ 3]])"
      ]
     },
     "execution_count": 7,
     "metadata": {},
     "output_type": "execute_result"
    }
   ],
   "source": [
    "H = A @ feats\n",
    "H"
   ]
  },
  {
   "cell_type": "code",
   "execution_count": 7,
   "id": "hourly-friendship",
   "metadata": {},
   "outputs": [
    {
     "data": {
      "text/plain": [
       "array([[ 6,  8],\n",
       "       [ 5, 17],\n",
       "       [ 7, 18],\n",
       "       [ 5,  9],\n",
       "       [ 5,  9]])"
      ]
     },
     "execution_count": 7,
     "metadata": {},
     "output_type": "execute_result"
    }
   ],
   "source": [
    "H2 = A @ feats_2d\n",
    "H2"
   ]
  },
  {
   "cell_type": "markdown",
   "id": "spanish-routine",
   "metadata": {},
   "source": [
    "#### Result of message passing\n",
    "\n",
    "$H$ and $H_{2}$ represent the sum of the connected neighborhs\n",
    "\n",
    "Other aggration functions can be used:\n",
    "\n",
    "$D \\rightarrow$ Degree matrix, same size of $A$ but with neighbor size of each node in diagonal\n"
   ]
  },
  {
   "cell_type": "code",
   "execution_count": 8,
   "id": "chicken-monte",
   "metadata": {},
   "outputs": [
    {
     "data": {
      "text/plain": [
       "array([[1],\n",
       "       [2],\n",
       "       [3],\n",
       "       [1],\n",
       "       [1]])"
      ]
     },
     "execution_count": 8,
     "metadata": {},
     "output_type": "execute_result"
    }
   ],
   "source": [
    "row_sum = A.sum(axis=1).reshape(-1,1)\n",
    "row_sum"
   ]
  },
  {
   "cell_type": "code",
   "execution_count": 9,
   "id": "average-spirit",
   "metadata": {},
   "outputs": [
    {
     "data": {
      "text/plain": [
       "array([[1., 0., 0., 0., 0.],\n",
       "       [0., 2., 0., 0., 0.],\n",
       "       [0., 0., 3., 0., 0.],\n",
       "       [0., 0., 0., 1., 0.],\n",
       "       [0., 0., 0., 0., 1.]])"
      ]
     },
     "execution_count": 9,
     "metadata": {},
     "output_type": "execute_result"
    }
   ],
   "source": [
    "D = np.eye(A.shape[0],A.shape[1]) * row_sum\n",
    "D"
   ]
  },
  {
   "cell_type": "code",
   "execution_count": 10,
   "id": "rapid-roulette",
   "metadata": {},
   "outputs": [
    {
     "data": {
      "text/plain": [
       "array([[1., 0., 0., 0., 0.],\n",
       "       [0., 2., 0., 0., 0.],\n",
       "       [0., 0., 3., 0., 0.],\n",
       "       [0., 0., 0., 1., 0.],\n",
       "       [0., 0., 0., 0., 1.]])"
      ]
     },
     "execution_count": 10,
     "metadata": {},
     "output_type": "execute_result"
    }
   ],
   "source": [
    "D = np.zeros(A.shape)\n",
    "np.fill_diagonal(D, A.sum(axis=0))\n",
    "D"
   ]
  },
  {
   "cell_type": "code",
   "execution_count": 11,
   "id": "executive-beads",
   "metadata": {},
   "outputs": [
    {
     "data": {
      "text/plain": [
       "array([[1.        , 0.        , 0.        , 0.        , 0.        ],\n",
       "       [0.        , 0.5       , 0.        , 0.        , 0.        ],\n",
       "       [0.        , 0.        , 0.33333333, 0.        , 0.        ],\n",
       "       [0.        , 0.        , 0.        , 1.        , 0.        ],\n",
       "       [0.        , 0.        , 0.        , 0.        , 1.        ]])"
      ]
     },
     "execution_count": 11,
     "metadata": {},
     "output_type": "execute_result"
    }
   ],
   "source": [
    "D_inv = np.linalg.inv(D)\n",
    "D_inv"
   ]
  },
  {
   "cell_type": "markdown",
   "id": "hourly-runner",
   "metadata": {},
   "source": [
    "In order to get Average of each row, we can multiply $D^{-1}$ by the adjacency matrix $A$:\n",
    "\n",
    " $D^{-1}.A = A_{avg}$"
   ]
  },
  {
   "cell_type": "code",
   "execution_count": 13,
   "id": "seasonal-replication",
   "metadata": {},
   "outputs": [
    {
     "data": {
      "text/plain": [
       "array([[0.        , 1.        , 0.        , 0.        , 0.        ],\n",
       "       [0.5       , 0.        , 0.5       , 0.        , 0.        ],\n",
       "       [0.        , 0.33333333, 0.        , 0.33333333, 0.33333333],\n",
       "       [0.        , 0.        , 1.        , 0.        , 0.        ],\n",
       "       [0.        , 0.        , 1.        , 0.        , 0.        ]])"
      ]
     },
     "execution_count": 13,
     "metadata": {},
     "output_type": "execute_result"
    }
   ],
   "source": [
    "D_inv @ A"
   ]
  },
  {
   "cell_type": "markdown",
   "id": "compound-lingerie",
   "metadata": {},
   "source": [
    "Now if we used the scaled adjacency matrix $A_{avg}$ to multiply the features, we will get the average feature of each node (another way to aggreagate nodes instead of sum)"
   ]
  },
  {
   "cell_type": "code",
   "execution_count": 18,
   "id": "sudden-runner",
   "metadata": {},
   "outputs": [
    {
     "data": {
      "text/plain": [
       "array([[2.        ],\n",
       "       [2.        ],\n",
       "       [3.66666667],\n",
       "       [3.        ],\n",
       "       [3.        ]])"
      ]
     },
     "execution_count": 18,
     "metadata": {},
     "output_type": "execute_result"
    }
   ],
   "source": [
    "H = D_inv @ A @ feats\n",
    "H"
   ]
  },
  {
   "cell_type": "markdown",
   "id": "written-survivor",
   "metadata": {},
   "source": [
    "## Normalized Adjacency Matrix $\\hat{A}$\n",
    "\n",
    "- Adding self-connections to adjacency matrix\n",
    "- If include self connection, we include the node itself in the aggregation (comes from the derivation of convolution on graph see paper for derivation)"
   ]
  },
  {
   "cell_type": "code",
   "execution_count": 19,
   "id": "given-congo",
   "metadata": {},
   "outputs": [
    {
     "data": {
      "text/plain": [
       "array([[1., 0., 0., 0., 0.],\n",
       "       [0., 1., 0., 0., 0.],\n",
       "       [0., 0., 1., 0., 0.],\n",
       "       [0., 0., 0., 1., 0.],\n",
       "       [0., 0., 0., 0., 1.]])"
      ]
     },
     "execution_count": 19,
     "metadata": {},
     "output_type": "execute_result"
    }
   ],
   "source": [
    "A_self = np.eye(A.shape[0],A.shape[1])\n",
    "A_self"
   ]
  },
  {
   "cell_type": "code",
   "execution_count": 20,
   "id": "solid-replica",
   "metadata": {},
   "outputs": [
    {
     "data": {
      "text/plain": [
       "array([[1., 1., 0., 0., 0.],\n",
       "       [1., 1., 1., 0., 0.],\n",
       "       [0., 1., 1., 1., 1.],\n",
       "       [0., 0., 1., 1., 0.],\n",
       "       [0., 0., 1., 0., 1.]])"
      ]
     },
     "execution_count": 20,
     "metadata": {},
     "output_type": "execute_result"
    }
   ],
   "source": [
    "A_tilde = A_self + A\n",
    "A_tilde"
   ]
  },
  {
   "cell_type": "code",
   "execution_count": 21,
   "id": "marked-minnesota",
   "metadata": {},
   "outputs": [],
   "source": [
    "g = nx.from_numpy_array(A)\n",
    "pos = nx.planar_layout(g)\n",
    "node_labels = {i: i+1 for i in range(g.number_of_nodes())}"
   ]
  },
  {
   "cell_type": "code",
   "execution_count": 22,
   "id": "thirty-recognition",
   "metadata": {},
   "outputs": [
    {
     "data": {
      "text/plain": [
       "False"
      ]
     },
     "execution_count": 22,
     "metadata": {},
     "output_type": "execute_result"
    }
   ],
   "source": [
    "nx.is_eulerian(g)"
   ]
  },
  {
   "cell_type": "code",
   "execution_count": 23,
   "id": "labeled-traveler",
   "metadata": {},
   "outputs": [
    {
     "data": {
      "text/plain": [
       "{0: 1, 1: 2, 2: 3, 3: 4, 4: 5}"
      ]
     },
     "execution_count": 23,
     "metadata": {},
     "output_type": "execute_result"
    }
   ],
   "source": [
    "node_labels"
   ]
  },
  {
   "cell_type": "code",
   "execution_count": 24,
   "id": "partial-whole",
   "metadata": {},
   "outputs": [
    {
     "data": {
      "image/png": "[encoded data removed]",
      "text/plain": [
       "<Figure size 720x720 with 1 Axes>"
      ]
     },
     "metadata": {},
     "output_type": "display_data"
    }
   ],
   "source": [
    "fig, ax = plt.subplots(figsize=(10,10))\n",
    "nx.draw(\n",
    "    g, pos, with_labels=True, \n",
    "    labels=node_labels, \n",
    "    node_color='#83C167', \n",
    "    ax=ax, edge_color='gray', node_size=1500, font_size=30, font_family='serif'\n",
    ")"
   ]
  },
  {
   "cell_type": "markdown",
   "id": "underlying-organizer",
   "metadata": {},
   "source": [
    "$\n",
    "\\hat{A} = \\tilde{D}^{-1/2} \\; \\tilde{A} \\; \\tilde{D}^{-1/2}\n",
    "$\n",
    "\n",
    "or put differently, normalize connections on the adjacency matrix but using connections of both source and destination nodes\n",
    "\n",
    "For a particular value in the adjecenty matrix:  \n",
    "$\n",
    "\\hat{A}_{i,j} = \\frac{1}{\\sqrt{\\tilde{d}_{i}\\tilde{d}_{j}}} \\tilde{A}_{i,j} \n",
    "$"
   ]
  },
  {
   "cell_type": "code",
   "execution_count": 25,
   "id": "industrial-canadian",
   "metadata": {},
   "outputs": [
    {
     "data": {
      "text/plain": [
       "array([[0.70710678, 0.        , 0.        , 0.        , 0.        ],\n",
       "       [0.        , 0.57735027, 0.        , 0.        , 0.        ],\n",
       "       [0.        , 0.        , 0.5       , 0.        , 0.        ],\n",
       "       [0.        , 0.        , 0.        , 0.70710678, 0.        ],\n",
       "       [0.        , 0.        , 0.        , 0.        , 0.70710678]])"
      ]
     },
     "execution_count": 25,
     "metadata": {},
     "output_type": "execute_result"
    }
   ],
   "source": [
    "D = np.zeros(A_tilde.shape)\n",
    "np.fill_diagonal(D, A_tilde.sum(axis=0))\n",
    "# D_inv = np.linalg.inv(D)\n",
    "# D_inv\n",
    "D_tilde = np.linalg.inv(sqrtm(D))\n",
    "D_tilde"
   ]
  },
  {
   "cell_type": "code",
   "execution_count": 28,
   "id": "eligible-distribution",
   "metadata": {},
   "outputs": [
    {
     "data": {
      "text/plain": [
       "(5, 5)"
      ]
     },
     "execution_count": 28,
     "metadata": {},
     "output_type": "execute_result"
    }
   ],
   "source": [
    "A_hat = D_tilde @ A_tilde @ D_tilde\n",
    "A_hat.shape"
   ]
  },
  {
   "cell_type": "code",
   "execution_count": 29,
   "id": "quality-harris",
   "metadata": {},
   "outputs": [
    {
     "data": {
      "text/plain": [
       "array([0.5       , 0.40824829, 0.        , 0.        , 0.        ,\n",
       "       0.40824829, 0.33333333, 0.28867513, 0.        , 0.        ,\n",
       "       0.        , 0.28867513, 0.25      , 0.35355339, 0.35355339,\n",
       "       0.        , 0.        , 0.35355339, 0.5       , 0.        ,\n",
       "       0.        , 0.        , 0.35355339, 0.        , 0.5       ])"
      ]
     },
     "execution_count": 29,
     "metadata": {},
     "output_type": "execute_result"
    }
   ],
   "source": [
    "A_hat.flatten()"
   ]
  },
  {
   "cell_type": "markdown",
   "id": "severe-grass",
   "metadata": {},
   "source": [
    "## Water Drop Experiment"
   ]
  },
  {
   "cell_type": "code",
   "execution_count": 38,
   "id": "accepted-thesaurus",
   "metadata": {},
   "outputs": [
    {
     "name": "stdout",
     "output_type": "stream",
     "text": [
      "Initial Matrix H \n",
      "[[20.]\n",
      " [ 0.]\n",
      " [ 0.]\n",
      " [ 0.]\n",
      " [ 0.]]\n",
      "------------------------------\n",
      "Iteration \n",
      "0\n",
      "Matrix H \n",
      "[[10.        ]\n",
      " [ 8.16496581]\n",
      " [ 0.        ]\n",
      " [ 0.        ]\n",
      " [ 0.        ]]\n",
      "------------------------------\n",
      "Iteration \n",
      "5\n",
      "Matrix H \n",
      "[[4.82317387]\n",
      " [4.90241831]\n",
      " [3.5840702 ]\n",
      " [2.05198688]\n",
      " [2.05198688]]\n",
      "------------------------------\n",
      "Iteration \n",
      "10\n",
      "Matrix H \n",
      "[[3.5357773 ]\n",
      " [4.06686307]\n",
      " [4.14925521]\n",
      " [2.80771001]\n",
      " [2.80771001]]\n",
      "------------------------------\n",
      "Iteration \n",
      "15\n",
      "Matrix H \n",
      "[[3.19754058]\n",
      " [3.84688898]\n",
      " [4.2982832 ]\n",
      " [3.00615574]\n",
      " [3.00615574]]\n",
      "------------------------------\n"
     ]
    }
   ],
   "source": [
    "H = np.zeros((g.number_of_nodes(), 1))\n",
    "H[0,0] = 20 # the \"water drop\"\n",
    "#H[-1,0] = -2\n",
    "## \n",
    "iters = 20\n",
    "results = [H.flatten()]\n",
    "print(f\"Initial Matrix H \\n{H}\")\n",
    "print(\"-\"*30)\n",
    "for i in range(iters):\n",
    "    H = A_hat @ H\n",
    "    results.append(H.flatten())\n",
    "    if i%5 ==0:\n",
    "        print(f\"Iteration \\n{i}\")\n",
    "        print(f\"Matrix H \\n{H}\")\n",
    "        print(\"-\"*30)"
   ]
  },
  {
   "cell_type": "code",
   "execution_count": 31,
   "id": "invisible-holocaust",
   "metadata": {},
   "outputs": [
    {
     "data": {
      "text/plain": [
       "(0.0, 20.0)"
      ]
     },
     "execution_count": 31,
     "metadata": {},
     "output_type": "execute_result"
    }
   ],
   "source": [
    "results[0].min(), results[0].max()"
   ]
  },
  {
   "cell_type": "code",
   "execution_count": 32,
   "id": "refined-class",
   "metadata": {},
   "outputs": [
    {
     "name": "stdout",
     "output_type": "stream",
     "text": [
      "Initial signal input: \n",
      "[20.  0.  0.  0.  0.]\n",
      "Final signal output after running 20 steps of message-passing:  \n",
      "[3.11834192 3.79538238 4.33317752 3.05262228 3.05262228]\n"
     ]
    }
   ],
   "source": [
    "print(f\"Initial signal input: \\n{results[0]}\")\n",
    "print(f\"Final signal output after running {iters} steps of message-passing:  \\n{results[-1]}\")"
   ]
  },
  {
   "cell_type": "code",
   "execution_count": 33,
   "id": "activated-forestry",
   "metadata": {},
   "outputs": [
    {
     "data": {
      "text/plain": [
       "array([3.11834192, 3.79538238, 4.33317752, 3.05262228, 3.05262228])"
      ]
     },
     "execution_count": 33,
     "metadata": {},
     "output_type": "execute_result"
    }
   ],
   "source": [
    "results[-1]"
   ]
  },
  {
   "cell_type": "code",
   "execution_count": 34,
   "id": "digital-technology",
   "metadata": {},
   "outputs": [
    {
     "data": {
      "image/png": "[encoded data removed]",
      "text/plain": [
       "<Figure size 720x720 with 1 Axes>"
      ]
     },
     "metadata": {},
     "output_type": "display_data"
    }
   ],
   "source": [
    "\n",
    "fig, ax = plt.subplots(figsize=(10, 10))\n",
    "\n",
    "kwargs = {'cmap': 'hot', 'node_size': 1500, 'edge_color': 'gray', \n",
    "          'vmin': np.array(results).min(), 'vmax': np.array(results).max()*1.1}\n",
    "\n",
    "def update(idx):\n",
    "    ax.clear()\n",
    "    colors = results[idx]\n",
    "    nx.draw(g, pos, node_color=colors, ax=ax, **kwargs)\n",
    "    ax.set_title(f\"Iter={idx}\", fontsize=20)\n",
    "\n",
    "anim = animation.FuncAnimation(fig, update, frames=len(results), interval=1000, repeat=True)"
   ]
  },
  {
   "cell_type": "code",
   "execution_count": null,
   "id": "moved-permit",
   "metadata": {},
   "outputs": [],
   "source": [
    "# anim.save(\n",
    "#     'water_drop.gif', \n",
    "#     writer='PillowWriter', \n",
    "#     fps=2,\n",
    "#     savefig_kwargs={'transparent': True, 'facecolor': 'none'},\n",
    "# )"
   ]
  },
  {
   "cell_type": "code",
   "execution_count": 35,
   "id": "alert-crown",
   "metadata": {},
   "outputs": [],
   "source": [
    "anim.save(\n",
    "    'water_drop.mp4', \n",
    "    dpi=600, bitrate=-1,\n",
    "    savefig_kwargs={'transparent': True, 'facecolor': 'none'},\n",
    ")"
   ]
  },
  {
   "cell_type": "code",
   "execution_count": 36,
   "id": "proof-lighting",
   "metadata": {},
   "outputs": [
    {
     "name": "stdout",
     "output_type": "stream",
     "text": [
      "1.label_propagation.ipynb        sbm.gpickle\r\n",
      "2.embeddings_benchmark_GEM.ipynb sbm_node_labels.pickle\r\n",
      "3.graph_jazz_embeddings.ipynb    water_drop.gif\r\n",
      "4.spectral_clustering.ipynb      water_drop.mp4\r\n",
      "5.gcn_message_passing.ipynb      water_drop_2.mp4\r\n",
      "6.gcn_paper.ipynb                water_drop_3.mp4\r\n",
      "karate.edgelist                  water_drop_4.mp4\r\n",
      "requirements.txt\r\n"
     ]
    }
   ],
   "source": [
    "!ls"
   ]
  },
  {
   "cell_type": "code",
   "execution_count": 37,
   "id": "veterinary-broad",
   "metadata": {},
   "outputs": [
    {
     "data": {
      "text/html": [
       "<video width=\"720\" height=\"720\" controls autoplay loop>\n",
       "  <source type=\"video/mp4\" src=\"data:video/mp4;base64,AAAAIGZ0eXBNNFYgAAACAE00ViBpc29taXNvMmF2YzEAAAAIZnJlZQAAROhtZGF0AAACrgYF//+q\n",
       "3EXpvebZSLeWLNgg2SPu73gyNjQgLSBjb3JlIDE2MSByMzA0OSA1NWQ1MTdiIC0gSC4yNjQvTVBF\n",
       "Ry00IEFWQyBjb2RlYyAtIENvcHlsZWZ0IDIwMDMtMjAyMSAtIGh0dHA6Ly93d3cudmlkZW9sYW4u\n",
       "b3JnL3gyNjQuaHRtbCAtIG9wdGlvbnM6IGNhYmFjPTEgcmVmPTMgZGVibG9jaz0xOjA6MCBhbmFs\n",
       "eXNlPTB4MzoweDExMyBtZT1oZXggc3VibWU9NyBwc3k9MSBwc3lfcmQ9MS4wMDowLjAwIG1peGVk\n",
       "X3JlZj0xIG1lX3JhbmdlPTE2IGNocm9tYV9tZT0xIHRyZWxsaXM9MSA4eDhkY3Q9MSBjcW09MCBk\n",
       "ZWFkem9uZT0yMSwxMSBmYXN0X3Bza2lwPTEgY2hyb21hX3FwX29mZnNldD0tMiB0aHJlYWRzPTIy\n",
       "IGxvb2thaGVhZF90aHJlYWRzPTMgc2xpY2VkX3RocmVhZHM9MCBucj0wIGRlY2ltYXRlPTEgaW50\n",
       "ZXJsYWNlZD0wIGJsdXJheV9jb21wYXQ9MCBjb25zdHJhaW5lZF9pbnRyYT0wIGJmcmFtZXM9MyBi\n",
       "X3B5cmFtaWQ9MiBiX2FkYXB0PTEgYl9iaWFzPTAgZGlyZWN0PTEgd2VpZ2h0Yj0xIG9wZW5fZ29w\n",
       "PTAgd2VpZ2h0cD0yIGtleWludD0yNTAga2V5aW50X21pbj0xIHNjZW5lY3V0PTQwIGludHJhX3Jl\n",
       "ZnJlc2g9MCByY19sb29rYWhlYWQ9NDAgcmM9Y3JmIG1idHJlZT0xIGNyZj0yMy4wIHFjb21wPTAu\n",
       "NjAgcXBtaW49MCBxcG1heD02OSBxcHN0ZXA9NCBpcF9yYXRpbz0xLjQwIGFxPTE6MS4wMACAAAAX\n",
       "pmWIhAAX//731LfMsu1Tb7YLqPeiniZfQ3UlAZuWxO06gAAAAwAAAwAAAwDpVIJjfO4A0Yy0AAAD\n",
       "AFPACpgXKxLUtLwHeGfiAKL2hw9L2aJ/Umro+8ylJFXVZxvdzuzGGDbVJ6bax3YgL0dAiV8gBQ0C\n",
       "JqZDwtGw7ko4qbeS0kXS+pCEOg113G6YyHEsBDqIFfdg1Y88LfR1W9u4+acygBmBo6JroF698smc\n",
       "I0ciD2qAQw8Yx9Am/e6NRWqXwKwGWsjS+RRRQz6Wdi7EA5ZVGLTeTPmz9SUAPspJSF9UdGC37lDZ\n",
       "gd8ytLlZVctCdsmZg/vElWM3+1qdL89fwkqRPbvAKd2BjQSri1zfSoB8VU7Bm71P1Qn9vuNhZJ7r\n",
       "lrWwK+Cso3LTYFJnB91L0e2Aw3mKdg8fRdBEGWc3TyD96P+/Ccxwh9TZbRrCWT1M17oYNQLObkhU\n",
       "b/28YJd1rHkhHA/or3UnUF6azhSL7rU/zbNFPKe5iOjNl9pj9wlIBr8l00cPY7cui1xsWhudSIsT\n",
       "cjEbPe6wyl36DciNKDqwp5YhhpRS0P1gAvyGhfeSPYbyE2mxsIj0mG9T1e66Lxcvgf8d0MiOdacr\n",
       "Yooohz6UilzvpGXXtTXHR3XHQxoZ/Z6zB30QSnbhZemDZHAHLpqZO/6ikSiQBBZNOicDuGjPfAgg\n",
       "HmVegdUwlO2Xh5oVFsaNcUcZBHMruZHYLmq1WuqbWAiBArOWetynPwhfcQHTkKr3iiK7gl4Z32+c\n",
       "SyIPC//DPc/7kO4cIv5+e8Tcr+AGVS7D3171ukVhcuCOXiOrP1dmZQO6ccFT3xdDupgXrf/crIaI\n",
       "l//ULQHBRILdKPkHKD7t5M5MEeKd8O2ccLQEVuBEoroTHOi9S+YR+FbkVuXLuRyU5smg2/m+57Pt\n",
       "tO9cPRYna4VB0XKbqZ6ueFye7Efleo7L93/ZrTDtH1nW247BNVF5nTpTDSs9vXOLJ3a7kS9WeKLb\n",
       "6X8bxN6SI1aIObe8wXPeLq1CD4VutYiX/DYo48lghNmRUMssiiuUQd8iZjdfB/XW4GwVZ+vT+h6r\n",
       "f/UcLSdUQp8b53DNBIfCf0hFny4Zx/+7DJOMp6n0HatVbJlY38ixc1c1y4rfpp4MQUKQMnEnvTvM\n",
       "Rsk0D3htJEjTxaM2J1seUh/HmlXf3dZ0v7cxMHJdx0Gc2w/80szxqkHlhdiNW0sBdh30r/p62PDG\n",
       "aqdcWJGuNHDvthmj7AFmKFPNyW8YrKVVD2EimzIJQlwiueOV6s62JrG7jvcwe9kopisu9NOXlAfr\n",
       "plrahKz/VoiEOpQUYH7vabsPmdnuCjic24GimoLphx4MSp+3wa1+QbYQl7S+5RR9x0noIQMY2PAK\n",
       "murwZU7sMly2yS8IIr0H26+vBBIw5uUC1Cr5PiLFRsJalC5Wh0ZmEXi6ZyIWGt0TGtiZmYL2YRHM\n",
       "9xP3iba6Hd+rGLPm2TOBM/p/3QP4b1PtzyG8MhThiYHK8BpCGga1A1dQS2Aa9Z5t3VTQ97DbXKZj\n",
       "oXlfwzTCOmF1lR7fMbAFkhzKgctGshwWipnEWjY4oq6i19XtV2Wt8udMKY8gU5iXIuLPeEJ/+B48\n",
       "MnruhX4XpolP21SR1Yj7spigX6nq4hgh3q27l42zTiRGzFSorXKn5H9TrPVaZs6bWs9/x1U+YheM\n",
       "HmhabeMXq35sgObN3M1OzKbxSesBeIxf4gtbGZP4f9xOf6Suo65W5dRhmuZLn2vO0s8E3KeHSQ43\n",
       "fYx0O2ycizhOLxZU8LSqVG0+SpmeaCIiVjGgnDhxLYWFnJNaT1H8b4g3UH4I5m1AJx48qnz3FeBB\n",
       "19QJALCFYM6065oXTdsuN5RgHzNDpw1NTYPwXZelr6hoQeo9diOwUNmQQiirF7U++9lizqicqFVF\n",
       "JDHQRrUqWV/SsfzzrDeWGrXWxtcbvg70nkmoAPdMXTP9lwEFnFvPjDcHFzACCEqnQ0lHpUdOniN6\n",
       "DBZxNPxnBjxC2hYo8o0Z4LCx4t24yBw5g9TrfvdqN75WVjWdtljfBIiTcYBygnWEP0lsblJRgvzO\n",
       "4XDPZwy4NauHeEwgeY0duCwn3x4q/4f0/kXsGHVvI0gBW9UCmeGYOy1sGUmNlUEcWBdx0XTXItPo\n",
       "GEntnL1nEb2yciyaXgla5rtEfSAhaKCR9LfvBc8MAqkXNa2KL0vZQUib/s6pUCsH3XaNuPJJ0N3S\n",
       "NqcnVQ1uRSImeEAOjz3wZ8V6+UJ3zg77N7hRHlFa0q+HhQr2RGtyyOYwEjvmtN4vM2uppLYIpXB6\n",
       "k/urcHEvicQkuAqyU26qWG7rY/mV1hSnaO26nbt+yeG4EL91jMiTUm7oDB/X8ZuSGk36q8u2d4Dy\n",
       "sYm9s2e9h/7uQBqHBolb7IKz74BexxBlhtXik8TTfOAyAX50ySNdbzTceyrRT5Pb3k0CHSfMQ+yR\n",
       "C30f5U0SgAhftzVViYQYcwPZojXx4kEpxjMw0MndRNc3wP7A9tVJV8qGmRc1jVlpYekucL/deh7S\n",
       "P2RjimcvneX24ZL/MFbKU4wgHDFRGCTlw71aw9DSeKF6tqfrn4qjC4IF9ZBHMwGSPguEyUI+Tq5X\n",
       "oqHzSA8gU0Vt0qqRK6AmqojbK33+NW0UpzrfSjUZkY7AZxlJdFTNuQ41wZjIvoTXeWGzIaPoP43b\n",
       "puREeA6fjjEK6Yp7rFXxeGVrKcmNP3E4GScc1A7PmAcDITeCKpN/J9q4RMwY8e6rFd1Nw8SfEATJ\n",
       "EwHhZAmkRlVJcLKuWY0lFzlnuDz31jyhy4tfsImHIp76SezxnveZ7YIpfm4zjJQLj8FUrLRBO9FW\n",
       "+tCfBUVlvCE9s+aedk2A3vcg6mcN6Q2N1l5lvYn9kX8h0mPK61Dq9LZVhkCNvXiNuYzGXcsi2W2D\n",
       "N2cFj75eJ8a9+Yh6VDRJlPA1uiAyGOIQ2CRg8wRmQKECOYKqacEjfsLU135PUYkSIqlFyAtWU2s+\n",
       "Vrc9iG8QY7prFDvr9fjhLLJCDIalV4DbOAdo4drTRqH//eXG/VaJ4TPwSnZz3/5mZt8skV60mADN\n",
       "Gs3Ho6pOPlGLU8Lkzc8sxFZsvrIDjw6JLat3Q4YyruUEE+doZFosvwa3xbiMKR5if4JlCFqzEYNV\n",
       "SDxGPn53K5u3ywEpBpyqlM9scUxbZLrcREvrAmY9lwKEvWR5m2JhQ6NAJE/uTWy56F6hwxXQuHpB\n",
       "ZoiekcYxbmdGoGkFYxtKys0ljOtP1cpj98BnBG7JIucSASZ5y7hm2+8VwlvyZwtN3lpA7mPBqeRZ\n",
       "qsoEIpLxlg8T539kBb9s37ToMnn6Lf+yPxZdRD0u45LC4Q88k3nB1ArAj4GW5kOXbmg/+QTUAwAD\n",
       "jgoiY+XkUOLmw6YuARtX4NnT+2KRrUz/kbtKF9MLyIJwZnHhGoflhS0AA1Zub/bh3XFSG3v4/lCO\n",
       "9K7WIaNSmDu6ZApFCEyFhujwI5UaSswxI9DvwwtnqzUb5HSRCa+WB2boREJFOgus7Nf04sMAw96F\n",
       "QsDaIXUebySN9/y896V5cd77E7Lx/FqsOSAXem2iTf3WmA7mH52SXU0E70LJc+V2Ddu/YhO523lb\n",
       "wklY0tkqpWeNSMQmQJWYcgFzJOlr0FXh7NHeAqzoM/3QqsMdrJB0NWD0ubhVXqI/8LRJ/jYAPAQL\n",
       "Vw5RHCTO9jS4bxytdqesKYnJFOnc1dltWUaHLahUgLC0SN/I8dB9093y5l4bTfKxVub1Ptl8rolq\n",
       "MAFQE4s//Hr9nHrU91rnTaxPjBrehTfYMOkwnZb7Gr8EtqhIfcngGzcVbMmIsVUAYxmk8nscxWai\n",
       "HVJ3ttJfpWDQs9UZkASiJeJzQ+c2qao+qBlD1V/UzJH48r+g8wpatD/AZBKviYQ4GkBR6j9aK4Au\n",
       "Z33dimR19wzTEyJYC8JfoLqIT7+6RXTpdcKB7TJ/fc/hY7pV8jmKcW2eZuScAUoZgrjxPkXue312\n",
       "qB5awutjb71QvR1dfqZ9u1J+VCvT+umfTJeLRcV2tgeW0lCoiXzXnFT6OljhdEinKf5OJpyVr7BK\n",
       "PIZU5TNzXt6csFZAcLbxaSNpqC9a+7KrAQY+h/AGRlILXvsnsXCBp+5Dp9nH2rBqzzDRXDkB8Fiw\n",
       "uW790N78/BJY6mAnfXZ7F+cHor34kmO3mllaNdCGupv3+XDjMtxGJ0bD6hYrYdjyJzkJJHQ5QpJC\n",
       "+3EPp3UE1bG7r4IzHZ870hWA+/wmv8/FyMEaGfvzUPzsjef38K5Kk9N3kkd7QHbxOpfjbhF/hZWA\n",
       "DHj3FrPz5zLqSOjj1naK9oLnoU88ZaIRinjovzJeUl8ARcMN2NSPLYCtz/EV6Or53QZEXllubdiq\n",
       "uA7lms3OcBbwLqyvQl+0p/9CwBart+ZwSJfZaVx6IVNK9Ls31uWka2Ja+sqrjpy+tM9H4vXBE4Cs\n",
       "djdHV42u8nlI/T8g0SJDDkG9UIXJPfnb+X+7v+ZRnf/U1f5fI4fZ7tSjKiKjzZWFxjssn0VmNlNO\n",
       "ZCjG1K50zdxb4P36G1ds+pNKFm+vS6o7I/5OjtqGNgx7jo97mlLx8YmqDw79E5zTqlcA6xaIfvax\n",
       "seb3FJ4qHqmgQM6K5MBRn5dFWjaa8MQbU3s7YejBXe37vFQzKmT1y4EHnnV/nTnLi+tDaLnaTfSs\n",
       "WT4AxvBf7WZc6qX6KpjfuKuF5Y6ry/rA/U39znifyyJW9xwtYUYhQdNeOF7tdCVb/t89jusEReT/\n",
       "JCc80JET8TnaNS+ZT/sd4dAPKzj58AsMsjtI3oxwxL3bl5vorJ3EJeweT18KMtrjnXCWJJGPAS88\n",
       "MpLN7iIiMJssgZoU4V08kW0BJVaFl7weArLp8krUf7acNeV3J2f/AWAUviQClOPrW4Pd/RmrmHWi\n",
       "px/LKdVEOGC3zdqM9e6ncU/2ghmNdm9AzhtafSwF+xXZiN47avBhn3cBbTJeHRDy9T9hbW3LvtTJ\n",
       "+cf3g4ihGGTeu3LjkbLO6VzHKy8LLkiYVP8GXn8PD1mz80Tf+NiMtw0pGTr8ikW+xDdqAw0DhURd\n",
       "AhYwplR1U8z/C5L35bXm8jx55vS3R0NBhEfvbZjLhf+6WiKKRtZws3VBtKDYaESKJEfpLuFKrp0E\n",
       "aNzwxJyL3OhC+S7FXDELSqWorOo/71jkvdlRnHWJZ3lLDasFFQh8JyUBXDyZ7LCphk/hqBFwpuzH\n",
       "8sfTZ2weWAhDX5tRbs7ZKlqY5FHiT/bW9BBZeuBgDfj3Dfj6+erPYkZugEEGEjBXpaaDTRZzAV5f\n",
       "NaKMss07XH5T+L8KlI4t42rXvn8JbopWAiLyJ5j8y6/M/ErqJJNHFtW68AtVhlBNBTwyzmNSosxM\n",
       "Tf3Dq7tGjKyllo1qxl5FWBtX112CyxVx5xFZmXbt7kCAMUaQPqpDQB5e84wx1W7LXcSDXkfV1+EC\n",
       "DeSul+BqCErYXZIjiys8TzOHzubFlN2ilUd6ncdPvX5+UAQlrUL0B8v5zIKSJIcnF2i025MRRxOt\n",
       "98ADLyZ5znLUcSQ2j1eOPvBPPMjmMHyp3/AG60YJsIiWGPr0QCCN3UzKMeaFoPnRylK6QJx6SVGI\n",
       "sTN/Og+mHvbnBqwFGxLgYJlZyaf+B6+jwk07IV//epm2WVGIJ0tuDLwYyAXgJe6iajabKBfgB0aO\n",
       "cZlY7IaJF1N/HgEg4LVWjt4WCc93QP/hb1/7yeO2zL8NPdUMzeDw0QVXj7VYsZhPxuuNzZXlMQ6C\n",
       "HDR9B1bvhDzYiegtsBCy5EdAr5B46B0J/mLNkum6Pm+pDUbSMQ+C5PyL0BMe0rmUM+ye2JhIORFR\n",
       "frZbOTJKp8HpWZTIi2swThDPcRj5GoyMpWouWdeg74HlwyGqW5SaSHeKuoq5jTAfTOliGIFzvNoQ\n",
       "Jcbn5fjdcAWbYdVQ7aSkhCB1TGRoohAkbVoDdRYYvZv0HxcqYjoySdT6Vq56F8zfiI2PGK9jWsx8\n",
       "2Vn+B2zT0HhoSrT50oGlaQvSOtdRqBFtQJRZDFMaP7CkxxBDOG9g52YgEuPnzwezF0Q7tDwiEpCR\n",
       "hCiH6MxaQ3WsMAtpIgRBxlhKR0YK1KShvO9ha9cR8XFoyrt+61pjdsnXC0fJJ4KBM45MQbaF40Vw\n",
       "LyOGFNGcNwQ+U9KTpwXbwNwPXUCVJYFpux+2CABQTKFGhjrX0Zl4Wl2jJWtRFyJgZloMbJcJFnid\n",
       "AfMg2uuD+3Vxkka3fspePzmqFUAd9/OntlLi0CNANUcih1DQijgxB2bqJnVqzYEeAVvuVXyrkQz8\n",
       "VuG1vUucY7oKH7Q18/WTtiWYQHO2oPTgSwuZfc1kmvHGAeX+W4E4AfmAMNPPWDm8lKLcfkbETYjm\n",
       "jPPvxjxtjmfe+C6yGTkIXDFGKhyAQZX+8RV+vZex9R8p1x4R/aUKH9rHoshF0gWWa0UjgANL6BdV\n",
       "FnWW+9fvYRl20Dr5OuxtGp0B63e1saVU/aVk4uJeL2ceQfwEemTf5UftaylPRNvl8aQSa28vJR56\n",
       "vnHABsZu9gcYow78nk/LkxGhfe+ePaeDuoB7agMXGmh9Ld/13IvBhP7GejaldvIbwbycSoW7RkKO\n",
       "O4vwJ70nnXqjRNEa+IAVAEY6c5OnhRFhlT47PyvvO0CkZh/mi2rNU2l4ioQ0nBzBwLSc9AfTenyN\n",
       "vSQy+zJP9IKpXCx8HQQGJfWXrczfzaADkC9GE0bvRrexnRGQenpQAPwCuoDD0GJDqCAUEdgm45gp\n",
       "BJ1hS2YQSuv81qrngy1l1XwvSu8WlA8A6tu40dQ66C0J2nZqBGUAamfSQR/e3QLzT4hC3O7mWndQ\n",
       "fMjs3glG/d2I1HlgUa/9PkgpzJbGcQuc+ytqEOTfuS5HJ+zw6RpEVBB59W5IPWBs16HYxXcu4AEL\n",
       "hf8fO2te2Cfo8BJaSBxhxCnuMLF2ifyXERNL4w3djFtO4IDeDGavGPAiaoXJqdtCIu9zWHFmHgox\n",
       "7QbAn4Kbr8WGDl+ghYIrOONuthRWDa3/A/8f7pFwtylJ/bGFRei37aIv+LPdN9QdEm2OcNQZgwIX\n",
       "5SxEaJXHik/u4H1Ms0Rap+rzN1T/HfDzyVUZCmWHLPYf/9sWDPdDyli40bfejs5vKwvklONnTQbv\n",
       "5BxPV8BvClXOi9hnJ8js/1MizPTitOjcnU3mKBH+TEqT6hFbwegX1G1ikVSwZgP5qz+pcrXu66sC\n",
       "chIVVOQu2Y7HwI25GbuQZqBWXpyZWYhl5nhpTAEJ8OXKHcvFTDddMGlNrxzeuWeQ+pURF9u8sMB8\n",
       "HcCuBsnyoF63KueWj/3f+UJK7SePYcubQZgrUEtdJDLD8mLuCaMziOP5tfP+1vZuXyIXusIXCKwB\n",
       "kAuV31it4WPzomwBjVRVw30X94atjfbmeqSl1gdr7oCAw9/+yf7lfOMDPHPaIwl4afbGSjGjfLCk\n",
       "ov7fUWhoz0u8w5cju35AUV22OSQfZqyHac/L2BBN+N4qa/9zPIzxo7t6ku4m7wIQh7UEVGy1gnwZ\n",
       "UQpBhPzKEmmUa3Ga3gLpPjMMH4rhRf5FaZERhnR3Izb8WrK2vs3dhFMLomLAbRK4fO20HIpcYNBM\n",
       "gPm30nepm/AjL9IodaQ/WLJnovlqsXjiq2UXgXCiU52wJjDPD98ub15EB+jqR128Kw2X9RklaCf0\n",
       "i+VMbmGN2bK1Y5jXZYZWyAeq1neiKUrtvv/eX2M6Pqsaf08lfx+YhrBeeWqSsbcX3zpHd22OLrM6\n",
       "GynAfq+vjrXZjY5/VuuCmT0NoqfPKEsyYEqNPiVH4ACmfspSJ4A+mutSOPXigUcOL84HAqnVlELs\n",
       "kFC2egczBKUADq8V5rKW6nJeiHQrqrjkfUYHVIJXr2kiogq38vzWKT5wHbG5YgPSjSsjC8gwdDdu\n",
       "D/atgT5sS/lAu4EDrKLQQZYcOuG/TcK/C9BgAmeqw8gJjDrAYmuYupLRbrClh7FEp4AOFTZ0d9lK\n",
       "oqebAeq47rO5AbR82/dbUGFNaWQ5qUZzqcWsftEPriT9//Vm4v/Qczhp0EjTdu5yiJ0RJT1vKRMs\n",
       "VsdxQ9nFqEGs9VCIJw2x5M2FDwFoTeVvTPvseiiud1vRbsB9h8vWqZtPN6F2+QoByYTwFu7M+Imi\n",
       "wAAAAwAAAwAAAwBMQQAACOZBmiJsQX/+2qZYABXeRYEA1x64omgADr/K/Pc7z8LwOqsDPYzvvrNP\n",
       "sGg+7hkYrO4f/wPxCJIwO/it6Tq4EIUnhP4dp1o1WgtWtv3rZctFpBTEPYcrpcd/PJPHcUuVmawm\n",
       "xIZfMG32xv5/lTBYSE4qgEEnsYLO1ID955zmoggDuktVtHbHJ//HsHczjXTnV517iwgNEVZK0RQw\n",
       "C999DLYBHqNyTk2/t4QzIOyhZ3M92WhRADng9w/xwRBIuDXC/TVvmRo2iK0WM6Naa3xis4WpoHL+\n",
       "gA/4L97Hf+CVS/hgf/+Nctgl5/+JvVjl0izHETGWTPFCx8xzIsuGyJ8oxDBCXNtymCLXGXuP/mKk\n",
       "BKjuSWiN/B16l1OHth1qoTzfZxYECcH6s+s+tgfDlBRljL51vwBXoqa9+WmeN4GCVrVrNsYLTJht\n",
       "bJ2K30Sy98zyM0HvnGw2OONGcY4DZffCfxutcG60wBrx//VRAgrPdTPSxnso1b0ynCiL8qSxAt4v\n",
       "v0wPcjQqGwBpUluWwn9T3HjllWypZJ3tdS1tbdb00onxnaEDhQEyZQnAMXyofIVAn+aEcs0049fr\n",
       "CXfKrBFpOGKXowJdzurcej9cyB3Xc2a1RARkNkiL/h8AbF8CCNkUyVQhSUmcdB6PRFco42aRbTiY\n",
       "bF1p0j3Ulw876VFv7pduirGMRRbaxRM/P/O7zXhRUZVKRaL2VTk9u7sbx6uCgAHAsuLoiq6RGaaV\n",
       "diUAxweabTFj5dRoBxl8CZBaycYBb/5tMSE4LkX5D436pGbnxgHP46Z+M/vd2T/L74v3nte3ZrRX\n",
       "SXdL0eDnYKHbpEC6rVCO8tJ6CneCe0si3YMOgc9IEdEe6fH61U2cP4ljUi38AJCPiZ/BJqt94HSc\n",
       "ASzvUet4hTR4vauAAAOjPX8SgjKbhuLyQklgG5GwQTk4v8AivdWH6sxy1zh8eKwAzF0oS3tJ2jkp\n",
       "BblIsfEb9o7Xc76Ge6A4mNVFolkwgxzKdHrsvaTcw8hnc7pgZRHHASKhhNVw5+QLbzC+XNZVFFvB\n",
       "tpWUrHFfhieRZELtvFyDZN+pbvMowLAKmaUmEGcCt5NQfZmdyHLmYeN5yjXdlD7SN25PIdb7opat\n",
       "tcr14X4Z1HVkuZT3+shM30n/P5MZ1t5QWCYqZNWR27RMaKlYy5cfbRtacHRUA8TVKwfdIsMwoQHM\n",
       "hWtyBnNWi77ZHs0ZyoasI31IlZDnivCrVlZ9HhIiprzlUL9OEUPSJXt27zTTcvMBdSZZNo24PCbw\n",
       "+U/4SZ7Ic8xo9Ci7xGAKDC7lu2GPLiBRz4DAIXk6w1B7+nfJolbfecbVkbW+gCb4j3Clq/AhXm26\n",
       "fsqwwu9sPgfGobFndI5tdwDkjvfEVKA9rbrHp2ODr4kOCtdavYsHXN7TNi8EGWvT28CPHOGuHdFX\n",
       "btZs4MjnulPDW9t5h8eFn/+3BS0JEvvYjkNieTvXHogxRKArUHsGSmu6pIsXpNDjdiPPcwh6IfYZ\n",
       "w0lzO0CtX0PVKwg1k1NPTqehTsR/w529tntoK2Qe6EOlbL0MUKy41tf8PhkF9CsPLl6VzofSVeto\n",
       "PqqKCAuIl2YLEgWrBGMHm1LcN67cMpdoGK1OKrTwArnqHl2DT14X5Tsng8QkUpBmsmGOZM0aNj/9\n",
       "9+FCb2bMMwWxW1g0jCHPG2v/wuWqB4fIrSFTaX8ggCun4L7a8L7wYKYAaPZ5PqC4rp42eaBVf7Kp\n",
       "T4HnFkHmZfLivZNWbCTCC23F1QtC3M8H2fkFfZJawfrQn2ohmMmUNZZPTN/hkd8RrI0VlU+fG5vc\n",
       "pd63pPMbbc6meLaZugk3I8lWV0e6qI0cOl8gXanc0lo2uilxiO3/FjpBBGElQ8M87F9KUIeobk5m\n",
       "ArU1xWWBtEf+A09DgwynYo0AxCkTnB2xUkXTVY93q75vbuzWjoIop+03UtKUfE4EHsIJ/9dDYIbk\n",
       "7mR8rWMfyupu+f95hdRJ4hhmlZTw8G1egWnSflHTclhwD6Al/VkupTbSyjJZYcRMHj07jxG1DlnY\n",
       "Hbq9RQNP+wBzz/qw+70vLSqJzjt1UGc4368FAMr0rahYXUUc6S2GXIkCzp0FH8yLX0IqjSvHqqps\n",
       "XYNan1YIffAR17hgNvFLY9NHc5QsElv/yvys0G4L8NARJSRHOUqLdW9fjP/Sj9r6sKvgXQDd0cGe\n",
       "E05Y9zByyIahSxv7EJ8k/89ynmz3SOdUxxjIk29msbRPvQ6A4uDpBiQY1lAaqnJpR9QeVDCf/aOK\n",
       "dBthvv3M5TUTWTFCiTgZ+GzLk6tro67LvPpr1IVnepw6UevTNM9GIqe+vlGVd4PaMFvcsVTv6AD+\n",
       "Gm+ou+YATVV+2N17t8YCNJ0isBEa5QuzsHxaO0zslAAFP0og0R3De8RWFAMhU6J4F4NSl+VAShVF\n",
       "h+WvyvJZIA3tQQK+MNCogLyjLSQSyepFwvG7g/cbejIU7BaDLTGOJWc1suFn30e4QFPZiGkQdaam\n",
       "trpwYyr7ayC8mjT4N+S1TwbhR/rzbAxYydHVboApxfPlxR60+NAKdcAQcK3e8bSODN5lW8QX1Ap0\n",
       "AHg2NZNUI+Tma9lsUoVVLGtsw4AhQ+sVz4RCqysc1CMch1EA1WE2DjzxoVu1ssFig1Wy+hb6Pzrx\n",
       "HKcLuMRhMIHjaFdx3RA0/hkzJsE6Xa9IKNv0ltdo+3RAgaMLwRl6XrrMAO7etu+dA8aDtjPE4Dwr\n",
       "n+P2ZqyFRS/GZybCXvHJsKpe7zkunnysvTjrpnQPDkVyK9sZjgTCU7YxrBha/GIgY2muJjjzVrVF\n",
       "FrLNQyMISUzck3sR+vQTwumOTenXKgpKgCngop9iI1RRylc7vANragH7EJGvCF8wzQqe3ETE02Fw\n",
       "OKv8iQfg6VAfC/WSCpsg6RbHC7ZAJpt+Dtq/WdgSX7BtspbEkJ+uIoZZZkVM0bbVnII6zdD/+v/g\n",
       "634UUS9RyG+RIciozChRLU+NGRFsEsoCIOMVuwV8Y7Fics91wb9mlhsvBbJN8x+FvMBct6JcMcrW\n",
       "JC4G04JyBwrHQS9OakOBAAACfgGeQXkFfwAADk83cLyZQV9GsPAAdMkwXmNdryOc15wZs27//7A8\n",
       "s/L0hOYpNFEs+Brx3uhp4IGPEMw0UrC9stgqt8P/QO3KWZBd4nOZiLPiTAodsHGsrJnhPNZL7Yp1\n",
       "XbWo7Qj9VfO2c93LR48GtJA8z/HK8tIYxXSvu0RfxLAD06GHFOoPbRgtp0gVjG4AACepmm9VNU4G\n",
       "EVWHsVgG/L5UnJul+Xdy8f51U/r9xhodbUu5euB9uHfDq0DNqSOmjzmA7HDT8Gb0hobgOnH+8UgQ\n",
       "D9Rkk8wwzJq5qiFsMRscnwtQ/cw9Uy9PpGa5DBBEvvSFNiwpNcdmn5Zpnlp3TqJIy6YRdl+5MrL2\n",
       "N/WvG22t3D471sseevOt8B1nGn5xQ+AN271r3nuTrgqEed6Kp/5tNykCs+szZTYPCJFMVrv1DvY2\n",
       "L067dITOh3Zry3DiQTGp23zBFZPHZgrPtL4WBkZr+YbUQYVkrq/yLNYCcdlz2/0e2kzZ5I9U5Cp1\n",
       "JITePt4soCvLFGuw6qKw1p/jye6LW1kjWVPj38fjEivovhh/EHd8SZztWlAdAbjPRv3teV6LsAs2\n",
       "9UnSAOtlfLRpJfKksEI83SfIx5yyRGwjgJhFKYWrI3U3xxFNOrfRvfEp+6hZGfvAfLGubzDziKJj\n",
       "UcXLu8l+VyJl+g5HB9QQlSoizqO/Bb4VRLzxN5rOb4nIs80679G033aXk9yV4ILuVveH761QSRdY\n",
       "jJt3ck1rvbyEV44jKvCv7tbDDYOgDbF7zg3XWf5g9zp9M8ZN+e4/oYkAG4Ee7CISkDaahbURoatz\n",
       "NCSlThNRCkype430FepMnuL7ayqvujhHRrEqbjKhAAAIlkGaRTwhkymEF//+2qZYABXAAlKkgj53\n",
       "QAQ7PzyqeJhaL1C4YY5VfskEwSnBGa075WZA3Fkck7O3b8NGCNoRAIhN0jOlZHqKcHRXTINeWUx4\n",
       "CeIdrtQ7+pZ6ddCG2JFePFqGcfUlSBFrEJNC66wjVpEj6MekHowP3vmk2oPNmswmplRUdV/APExf\n",
       "eUDtEMsFIatrawlu6cqpflduBxINMzaFXycvusKCQq7IbB7ZSbqPX6AQbam5XcTgWMWTMA2tg39o\n",
       "7PRPU+LmoooNWg8habZbAiDyvG0d3n/oiwrG6knhRE9qwGaje0YdEYQRgLiOcfqA1IKcV/ECfpYr\n",
       "pyZQ2mejAekX7u9aOvH1GPFrvsGSjHOM4tYoISTfYViozE8C8Qc9dzaejNc6E6MnW3LmEP80EO6q\n",
       "ysBsSbobE3gb7aDUjLVQXWWreFjdjdIMRX8yt+yjOU0Q/r+uPeuErcRFJNZhLIs16EpFkFZZOIkR\n",
       "ME2Gvw9FqbMG10xgiG6MbE10wGMgn8fEOinWD/26XTTJpjyarLQd3BmjIJ0jLDfGTOoYi7TabzsH\n",
       "WDBGUnqzFg0vV8lP/mfuGNiACVzWV++fPFnxxNswwA2evMwzqnkFVNOJPWB5/v5CNqeu1/BqWAEF\n",
       "One4s3zipNkc/GgiBQI8liPT0nzHQoDTQm+pPYZskcCk3N2Z3iKRTr/YK8T9lSN1VbMqE+P72uE+\n",
       "vogU5qhKdnO28Mq/nACjRommsxQFKbtP9xrfxNC+6JcM6RzSLU3C/eNKZAruvfoMljYYkNyh2u3+\n",
       "gIqzEp6s0GsDn2CSqpJmOPyB2Fu5QHQ4sdSeDicUUHk9VcdxDueIysVcC2PRkfB8el4Lvvu4ohZ6\n",
       "sw2zz3pVgFFCoKoRttqx/SoQ/FWXcOAc8TlBdz9dvJLlSv7rPJIMXmH1KRt+2M+XKmzbJcn/YEfQ\n",
       "8xpindfdkhsh8/RwVs9ETB7LtjVT+StQ4jxTd9DgfqlR9t+2Gp6tkKZuHS4HD+T41AfFJ1HzTOGk\n",
       "eYa22kNMFILfICa62zAQTUGqx2cu/mszrkIDLrbFjGnLJxM2dhnXDu7prPAQWmCBSITXR0QWapWA\n",
       "MNzC+M5sp7anrTD/AzdBIS5MUUnUEucyfjvanoxvBfCfEsB22KFcyuf9rmVPm3j8yGaDpn+XOVtq\n",
       "YdF2aWwk/hvDIAM+YrArhDWAYXywwTSyoMiZBPWNzOL0BCaPuWQQnv2Lx3/Qd0A2zyDKYaiVGzco\n",
       "6nvvGX54W9HTx2VicIInW31DdXoRwJlwA0pkrJS03lBzM0NlU/7N37J/QJXC8yqeEIsJEIf55iX3\n",
       "w2S1GxbxYnWizrN4+q4gdHE9/0GnU5WznD9Sv2dXSl1Tapi4EE4KNOZqXer3KKmDZytj/r5gdmBe\n",
       "bNPwt5mSk1lxgepJu+2ROfceV4lb7mr1zA1KdiuZGI+SRKnJ5iGnamRNjIIdO4GmYRsz/ohaRSD6\n",
       "6xMp9YTnVnVdXzMhB1fcJM733k8pl3xqLN65qa8FESFIW98eUWLJQodtYWHnSLTaG6G/0qmDG8j5\n",
       "EsC9BQzC0rxbe56RaqRLUrLo/x1r1WLhC4gd36LU79pKxsyDslnfLBm9noPi81BIJSksgDijLXL7\n",
       "TbFb7x72pKAhQggEoTqCMmnOWrrNL3qu8fWJU/m+puTl/Szo+ogdwPP6344n3TgqERqjuy193BDD\n",
       "nl254jZFKZqQW+VFl3lQSPqsxXygF4HeBzyT2Fnmisi294FnBifEsT3YGkWhxaSSN0CyMOt1tgAh\n",
       "W2FruRQvo6whabGNvdla0vdmaksGKe/z0+JrWm297Rp5u3BCTtuZXkEK/uoWsci1BJToiThyB/WD\n",
       "Wn/biAD7RDPnuH0vgsxgZrwzOaRwThYi5bDOsr3DYZbTvCDnCpTXP7xJjcKdsgYBjhN4Ggp24Zb5\n",
       "4h3TbCibjBMAHTg+ZKpeGcXz8KqbL00IfsT5IrpjEsiDRy4QU8rAFCiVs/NJ7yj9bZA+tr7hUSVm\n",
       "qOV4T5dRnapHWyiKkMwJ67JPtnmff7RYB7PEijoUgms40fSvV1081D2w0895AG95LsDLduD8lMLK\n",
       "lffd/Vq82x0AukSemwkBhKH8EZQVD33lEA/JfOZ5ZdUn5qoBkccHuztYccqpCWvhlh+gUr8TYki0\n",
       "sz1Ub1n08AgxwfSXfPkZJyeVoGwKEmg0eATBxhzmKjg5rYxnkOvDy+hbVP7f+OZyu3oSMG4ZmwQ+\n",
       "gNDWtbQV0RScqyJHkTa+r7Oce9mQCW6ye3DDvigIZrA7ds7mhQ2sBMMkWwnxDtHphRtVbOBCb1Af\n",
       "HHU0KkH4kjPocBANU9X9sdVb64O4ZFzT5/kKYpO4cw8oUhxyAYuL8CY6nArGIitNf8CQ6EBbdFK/\n",
       "TR9fty/EsV/6c3t8d2svuv2Ge15sgxh+MgdrnDy/X/mVu2g2EIM72QjaI5lr+pN1Eg+Nnvy6ZZKh\n",
       "+NGYe9e+sXzAyyn10rvG+WVpn9g2Bozjj8eBTMG1GKHTt1G9wMcdOGWMFy02yGGabbSh/C/q/eTx\n",
       "+tr/vj0VyXOTxaBWK3Kwhr27rvo/6vghdqBRTMFMlZ5HPtP21pp9j7hQuJ90VmXf8euNr1lE7tCP\n",
       "S3PKw6scnMZOE4J7LXXcuBv7t0doicdjMwqzQC91m1nPV6z+nx3qHh6TKWpDDyq+Izh2nHY3scDC\n",
       "aUfuif8lYLN//eIBn2gtUuYOj0jrbQYMUXK85z0z/Uj1oGojdIXnpqXxhpdvhwBF5nTlHF/WgQj8\n",
       "0INBbSlX0RhxBGgkRAIYOGqSYUDwMVdYkTalvoVvexwJALAKFPc1XtdLW3EZz42hug6FKklQhY7N\n",
       "Br4JAFM+ry+J9WykSB7fcb9Gr/+DRA3q9bWIJatG9i/jvL+Q7T2yc0NS4w90598hMizC7rhVgIL2\n",
       "9+2sn6B5APmAAAAA/kGeY2pTwV8AAA5PCH2cEK0ACHREzDkRbKOMJ2xSGrv+PjEqZ6kWvYujdNpP\n",
       "JeD2onEahb2VygVgoPpOkIAfjgRKFQ8xoRopFHqZ49mCOsPMojw1uWnxvAbUSpqpcKt+OyEiGrD0\n",
       "jSEtEWTaZyb/+A1b2li6dwZoMBbI8yKJgQtn8QSyZHYOrEQC9206pAy3Y0Bs+dEO2RJm/csuRN7s\n",
       "BHfvfgL+dma6/eZI1ZYvfnkZn/DR8ADNn0vUbxzV9H4Xy4poy6xgF+PibYBAtln9u+p0tNcBbGnc\n",
       "Yss/tLtyJBpDP2hnmgk3PWAZFHFUOxuKNCiqPD5kVeXyFAmxtBlRAAAA3QGehGpBXwAADlpNEkll\n",
       "JeJqeoAObdB3yaT9NiTXp+SfuvH1aLP2aPJmKYtpCTzQstQwlsesew9QJbNsi9KrEp/dPNnwvRi1\n",
       "alatOHV3+OF3ylk3mY6VvbZRKrHRjrsBj9oLLHMulABR0gpQ4Y53AD3WRuJ59+iJ9PI+xzlE1T1t\n",
       "SH2+i6Yi3YvUrv5EPFzdWT1NSLfAzQ1hvHwzb44fuqADG72SVzzQ7Qwpkk7hK1EIDIhg33/gCaiG\n",
       "VhNk3F13/x9s1bWxmFKToLOp1ExuYaSZlFZaVN874GH2FwEnAAAGpUGaiUmoQWiZTAgv//7aplgA\n",
       "FdYXmAAEIwpENClv5c/vvaB8aj2oDHlkmbfLe+P8XFVZTHrlDsfdI5VPP6pYHu9qhI8Uo6emBzMa\n",
       "fg1TA7J15KjrXLBLezeu8u+rA/+2TIWy4PDEmMJJmP/jQ+V93A79qZy19QLYuCrnBufUGye2lFWg\n",
       "dwwdistd8LdPEu4a9nju33HZTV9LVf72RhiaK6qX5rp4IxYULI3J5cQBrYKaRj0UjYswnym/gdI/\n",
       "2M9NDLRTefLJF8nXtGqq5PNkKgC/QxFsLk4P85T554rNr4GvcH0qGx/ccy3pITBjfoGH9veUlmSv\n",
       "5WiyPsD5mChkhXvfJ48ZFRAQf8x4tHSWJOa4HdZ3ykgKw3fjz3A3IqgunVJutO2GggxN7NxjkWbQ\n",
       "vF8WsLOy9q/0FDi15Lgd8pUmWUY1KMo+CyWxCWk7aJL3YCr/rs7T9o9qo/8QIY8bJGu/MyMzFV7v\n",
       "nIxCjzPFBIb7OEyU7yH9TrtqbV7j9lsBOJ+dswWqIa7mSKSqN0zCPGgMptz42aiJL8i1B1BzE0qz\n",
       "8aVcC3hyMdf2rN8E5hmMDrrt4b9KeJUjQQb+k53i3AwNxrgY5R9myI6VTHiDOCDvwYGNr1euwMSW\n",
       "cDOK0wVnNE8KF6fkHoQc8ppP9CV6PRt5AA+yEc1vIrpKpIAzhT6Ee3Alx1PDOpnWlnKIsqRe28bQ\n",
       "1q7k0taRVEbnH0hdhv1rH8NqYtncK+6BtVvdRnW7uMCnLUJjU0whlbVlBQibOV0H23T9lJUzhcMB\n",
       "y0BHCRSYeGhnOn2A6n3o21Lm30ZMA+C7dry+xlBQNyzDPpsEVeMnnAwZBGdkFVkGkpJw5kIQ/mLM\n",
       "2Jb0c9snj/7VMZ17BmNY1nLRZzjuXgVStmqQNEL7a+gn4LIIByiExV2YW8PSBDsI84ggVtJnKr4u\n",
       "JSwWvYRB5lFVBidGz6lKOD94bVzuwO9lqH1sMBq7Lj2DE7Au3RevR3SXhGsDl0bXA+OMkoK5F1B9\n",
       "xK37x2tVSrFsUZOhQtsKtmGl1shSSc0LmxDnrhrIfS5z9kOgu6cau7v88CD5kegDB6r44Kc8c6mj\n",
       "f9hgOU/jDLIOujMCPheI5kYwwRcWlAWm/uqGCyBoC9laa+3iK1CR8/mJFAzoBnB9O2bxSxBswQdN\n",
       "1+YI38aE4rpS3mbfRfAwdFCdHHUeEOYa5Ur3a2YvuvnVxJP9C/fY5tWTW41PH9brFsCeZzbSZwJw\n",
       "x531EK4QMrYkKa7Y/2NcY0h5pb31GbbNQYjk1i/aMnn44LTLifJu7xscXCUJzVNXnCEUlI5kNtG4\n",
       "xQeTIuyDkKqWPlEtLG2MGfo7EnGd1H0uMp+UiE1Nlaj3APM9tgXcSvw4cmxvWmzvUuEO0kNg7gCK\n",
       "V2aOjMmkLSHTOJaqeBKfpuCj/soTqgrlnIp9ZeR49ynDQ9D137lYq5h968tZNMxfocXLDslrDhiy\n",
       "MQoJ51m/h1I43rsqvnqoz838tpiM8sfO/5y9kwzESlF2zj5GAIuu0kAWnrgeImvWCH771YLZBmVY\n",
       "KTlr4zmImO6XNa7y9pPmq22keikUl/hYzjF/MW5JII4cN9awBIqUso7OYmo6HF1OxESrPgZmXPnI\n",
       "nhAOCo0mZeU6GvDEbvVvTdpc0fC+6vTH2XP0AvLirJn0AuoWn6K6jn3jLiMO47lhoFvZZIlQr3Lx\n",
       "ULnff3qQgLE79GOLKpOb+0uv86nxH1fpvpY5saI5iA46k305AQUMuFI7yr8qIlG93lsuHZDe7PQw\n",
       "GiSTOdLOYprpZ8i7durYBODvd+dVddHA8wO4Bf5ndXzhgyEwJVqLI2zJe4JAJuxA2Xg2TJX4oVqD\n",
       "+urvKY5xqVUx5rhSsEoxsPzVb0Z8RuJaEuAgyfeslYswhBCQC+aOjib4GH7WIhOyBEF6QqWfK+GW\n",
       "xUb2Rlr30mePaWigN9opbgTUvCgW9LBhZCBtbYmGWKKROs7yP37iPcEZAdnXjCWM7cc3DBSCsNXD\n",
       "0VJajUI4suO6GLUg+sm3TvZobgJGO1NhHFaO6hK830iZwQNAwnvCZRWPtPO4jUlS5wZ6BcLDCy0v\n",
       "ou40gyoaimp3GD627Y9ytsY3EC3ho66A7+Gr4TgiJ+cfBWAXxZxWin/yhqocL+Esbxaa+jf4GL9z\n",
       "1wSy3lGs4jg7jIJhGQZMwflJAT/MX92YD1iL6uY9mfY0Ry+O/MmBn+KpU9P6JwptmpELYk19YdDK\n",
       "ftmp029Wz23EAiY8O3AVNOyvTnIuN5IBAa/3YGMCTwAAANNBnqdFESwW/wAACUuIW0/XGh4fg/QA\n",
       "Kex8gjY42A7gDGiZVE0PYwFbT/ME3Dtf5998wyGdbmx2gm4PZo736QGDBWLxFN3ng1C6VUbLdsBg\n",
       "SpS8uGAKvcoMGmIWBeVjCl8oSUZFW5Mtcw2qS+tgWiRIC1GtxeSXPDdj5Y71DoJUgHVOVstIAaew\n",
       "6+HyAQbwEs8l99ehbxpR6CY0As1ETHcmaLmWoBI3pEQeAyeeL2//PtaldPAjax9++l4yo0FK424b\n",
       "ApBkBzpqXMmrPixj1JARIB/hAAAA0gGexnRBXwAADmYAa4YADr2qWjxCEtY+YUMrxRqTJcRQRBCT\n",
       "NuLYi8CsHU7mUp9x3wpXNKWY7ZDHBnBR6Li9j+ntX0F3Vch/CJ6xyx9eP7XHqpVOYTxooRq1VfDD\n",
       "aw1W2HzkGGswDPI/wh7XdG6nIJXaSftjGZOVEBEq9MNwmJxT9sWRgZQMszwHDcdZxq0vlxeVP8BW\n",
       "hoDNBFRcYoxBCBpD8mt7ctQQYtDbzkmMPNEVj6MWSM4ACm64sCSsqpfYf6v3E9RYTZHgmxiyfj6O\n",
       "86BHwAAAAMsBnshqQV8AAA5ImWOKaPF7xU5ABeUab4QTnYs9cgrMSLnB6nLjc+epsaqkoMM8i9Zw\n",
       "Uk8UQb+mzuuOl9wfjNwTCt1nz5gWt63uC9rLhuz5dNBfTvFz+zDgx7If/X9Qbby7CpEDSD9YQRxH\n",
       "93a6KcjqfucG4QskKHJ+TFyiGhYO/tIpOs5cLX5Nlcsyxz27mu+liWwC1ZD97BwssR/qLgAADXMf\n",
       "eRo60ak285a//vQWlK2yXYZwoumRtg5ji/fTh/aZHpl3XkJu6MgK+AAAA0xBms1JqEFsmUwIL//+\n",
       "2qZYABgN32iVJ2evTZkFEJX+U+rL4sdR0gAWzlY2u/LtAc2YTpFTUmrqE2/slIqOVH7gT15dwZpq\n",
       "RdNRppOHvMVUCeXoH68r7kv6+cuIA0oo5D05vzsnCNz/XX5IZ8ibau1dQkaVX04SDQp1L9913e5b\n",
       "h04plgS5JKIOEgmI61hyi8LBcHh7T1ATbSfioxp7sDZ0ZRB6XwNJX4vzZvPrtkxV/SyfvydTDHh0\n",
       "1bFxDQH48EbARSlqy/RwIDULkgVr10KbsA2xKm9IhXBZg24jo8Ph1gjd003cj+0huiT9FHAW+h19\n",
       "NtP4dWrtU7yId6E8s51h/G5FAm0HZp1d6kymKu63PhgN0I91uh3pvU1l27CkiqT8jADOFbTmYv0m\n",
       "K2KPX5NNiuELtDr+ZJ6NAHfyMv4BGj7R1229jIS+Ljb8ALbWzwf/iHTMQHT+mHpnrxCPoVCYFur4\n",
       "AAADAAyveHhoYYRi573GlOcWGIjTeB5E6aI5ZFNKVW44hxQzaC33+yoOe69NV1jXWplAnE+wAZwA\n",
       "BaS/i3kLfFzUFB7TlPNQtBAb+BLs9x2GvOCmEA68vsLQfpMEtwSNNzT5Gq2nS8RzZtlbC1istbT9\n",
       "fds2CLU5ZRB1QK6DGxRqzqpMvlKV6BT1rOaGXdYr8fiiPw9s8+mY8rMnEnlcacoayZA7j/9DVMR1\n",
       "4EMAtl4fJyhZ8XQjtdUxW7C274XBD49iHs6lZZqJYeAkv/AzXKd2Za9ziLOFIQ3huhyAww6A1rOA\n",
       "+2KAKhY9e810aCRsktu3J9zNSGJ9cDK2+1u3i32vnchPk1Nd2uy7bErBDqg8qnuNFjCsOLvEj/ac\n",
       "OfLD27TxrALlIhNb11MviYwgzXSEKcFrdNm0qEA29X9RnPRZV6nq78PYQ6+4IzdtrOORu4X/O0Xj\n",
       "yj6xg4PR/TjgRYLiH1axm0cqnbjV1mrP0BlExrQDzRdZB948DTFx8x3JKCq7xpaYBJDyztPO8RzL\n",
       "3BFvNex/sWcAKFv1uARtFm4BxGHR3ZvBJOm/8SCQabO/eNEUEL+COrC+vlP5rmW59rxFaxa/ltWd\n",
       "SMxYr6Vr2WOEuvaJ9hjAN81n2QZQC5vUu4Ozka75KAYFAAAAs0Ge60UVLBb/AAAKdz85rig8WafV\n",
       "9oKwpIhiiFqKcACHWJjCz6AyPNZU5r+scUC/O9/KpEh0fXiyEnJjAYRivtYl9d0qgdaLzFK4gwjU\n",
       "6KGxqf1/NDb2+i/aceGuHAAvhvDvz0f1Vgr7MMa/dOJCp0fNtogiproQBOom/4zjOLxoOF4I8d3u\n",
       "U2nq69Kthsfle8n7ADb/xG9UhYQeRywEbYDm1zv4cXr9vd3qj22hdX2JOTFgAAAAwAGfCnRBXwAA\n",
       "D9Ud6JzD4PNSo5JuINmQ18HE4AB14qZ6ANyrzlJsEoopPSyzhQQ8qkmD194Ma/PldGm4G+Hee4fc\n",
       "YKPMWGJ5cCWtHazAYXI9+2NOqBltc1CEmWsQjYsbTXnylCY3qlzRpYZCpVktuOiGD6Ujs/h5IY0T\n",
       "GNawKZShfi6G0sfryMY0JumgluAAiyH+Wm3mSWwAVBq8ZTgAK+1oYdbNjwlTaclsv8gwynpycqjQ\n",
       "TgmQJBeC0GJ5egD5gAAAAK4BnwxqQV8AAA6PiIAL3W99UGgvZWx6cj7VsKM5PH7QdqfItbs9jig6\n",
       "DTuvWN1DKAn6cU9VAMKgCoAbMldTHhstf/7KPvHL0AoJUcJeZkVl0u1CqG8UFab1IciHtXIrCNEr\n",
       "9L65vjdD2v6vZ38x866Sl9qMSq/2FTVo7hK88N91QBMI2NQVir6c9cd+SrrmcWtclXUCDaALsXV5\n",
       "FVKeLX+E6lkWQhp2CER5a4qAe0EAAAE6QZsRSahBbJlMCC///tqmWAAVwHNuz7V1ABDsgsW5uKZO\n",
       "cvY44Ig3Ic0nxQ/ev/Npx8e8zK31SFGDgfhnj/qe2tkgcZ9sAUCZKinVsu8yu8G/fZYmpgnMqHqx\n",
       "sd0EA13q8lhLu1B3mDsEUCGmJqEOUFW2D3ZtnOItxtEvtQqqFJ4lgemcnCZ+32M7kezoiJi7owII\n",
       "+GBSqc0X9QcfSboXFc3H+H8mI0Mf/D1SySzMuAlCsYKv6in/hG3bQLhkoc17U52GjEzm28RoC6bU\n",
       "Y5ien+pkWKR1C1Cr7B+PVPLG9xjZ+U8ROicTxFE5EveVEw8eFOG93SUBa8j8OrMxsfNhnr5Fh1OC\n",
       "N8KxQW6a3HsFQcI7uu7AWKn68END282b08fFcLwvbGKKjmZ8n9SuxrMaVMPIMa4tOpcVp/kAAADa\n",
       "QZ8vRRUsFv8AAAmiwkCvr98CAAQ6y0YtBnLdhJ2IPsxLoNVr+3Zhr3Wyo0R3u4TyRZOuvRliMJ2Q\n",
       "0jVcVklqtdYhcAAQNAIxgDRy4ndchq0xjPc2WdV51tf407ARFOXpgjyp/491cECCCCTe099y6pZv\n",
       "uPslsFncKVnCScT4do0HfiznrgwPR89I3aSYy1bm6sAfhHL0PWBp1zlTQ2tdLpGE0p2OXzVjhW/+\n",
       "Sa3UdOFabc/Dmj9chOF9CmqAk9xX/KVSOnpPnQCE4It4yyQ3dmdLo16OUd8wLuEAAAC0AZ9OdEFf\n",
       "AAAOUGS68UHsZxtp9jQAHaOcE/drpzcd8IX0SBiIl6B3qipMUiD3BohDNmAWnf85z/K7YbxaJ7Em\n",
       "dysv06/k1SDgBTiZ8Nu2/K3ASBPhdR3qViWwvXWB3MF/ZB+itFRxoNQc25+Nl3AFHlrkFZnCBZYM\n",
       "tN45xeLXTIj6N5ftowBlVu2qCZdQ7rG6JzIS/wVj7RlvwIhQ7tFD7rh0aQFf1b33EgT9vsAAADY+\n",
       "QyTgAAAAsgGfUGpBXwAADo+IgAvaT71ttxPdWSTpis/QppxXyoq1Hk589JNURygJaXnVWYxn86c/\n",
       "bnMcurg7RMGCl0Nnw9Qdw4yFdESe0wO291XZ5KDOKHcMST11fm5bTw0DbHmwnaPB5xONaKzwWFdm\n",
       "sKixWpUheBWuxDMBqIQzcOfoxbcznoquS/TSwci32OMy0tSOAtXlrqMAZ/YLkp49DUA1w4bBGuPI\n",
       "aQr03O3X10LEp1aUDUgAAAEkQZtUSahBbJlMCCv//talUAAYDaJRjYwcfRrO0AGyyReVDS6/G7fP\n",
       "di1vvyikGwuYzWV8Z8WE+xdqZ52ZI+BB0l04dG8UuC/n7Eqz18tyhN5maaOH0e3O6SCPSdvNBtzZ\n",
       "zeeMJbNxslmRcetvF8/UmoYN7ZKG66zrGu7D8kwMnLNk/plz1CZJXDzEEKn1OO5oD2gV5GlxYDv0\n",
       "ykznopNBjdnYY893HbISz6Tz/o01avzrqPJy+uVgCk+x9gfb5C6BXvZ8usvVFlvEX68bBGFgnISr\n",
       "JMBbvCkSXhONC5tRGN+Z3mkAxNhyYV1p2iiJPzD+Xm9q3RjCXk5ZDL8GXxLjUgf9vn2YQPlpPnUt\n",
       "TnSYhJ52DIAAABS/ecJtAoBpHCmKs3CVgQAAAKZBn3JFFSwV/wAAD9Wx+jfCfk2CMQwSpjM6YATJ\n",
       "Qd62GP9QScFXRSoNj9+RN0caWtRd/ZWYeaUQEkhBY4YnBckLSYgOStr7iQZc1y7mqvMXL+Z3cpxq\n",
       "0LLRh52glF6gSPANpPoFKOAnLAitJkbrAMqsBlr7dvxXSidLWRj4J41nR1unBp+UBNF5ezoLNAAa\n",
       "6mX8WqVhQAqIZKcGFL9B55rTACKGoAd0AAAAmQGfk2pBXwAAD9Wx+jfCoHT7pbhxgixop2EAF7rj\n",
       "rbPhYavkGxTFFUjMYqVYJXjySV3dRIzy3bmoaFU062fqK7iHOl9mqGRxIjDP+JXrzgQe7yzaLGHX\n",
       "biPKSfCW2+A6MRUQ96yHKps69tLdSSx1Omb5mvROXt1oERLcvs+BGRsD5j3cNIQrWZJRATSM2rxa\n",
       "iW4QAAADAAAIOAAABB9tb292AAAAbG12aGQAAAAAAAAAAAAAAAAAAAPoAABSCAABAAABAAAAAAAA\n",
       "AAAAAAAAAQAAAAAAAAAAAAAAAAAAAAEAAAAAAAAAAAAAAAAAAEAAAAAAAAAAAAAAAAAAAAAAAAAA\n",
       "AAAAAAAAAAAAAAACAAADSXRyYWsAAABcdGtoZAAAAAMAAAAAAAAAAAAAAAEAAAAAAABSCAAAAAAA\n",
       "AAAAAAAAAAAAAAAAAQAAAAAAAAAAAAAAAAAAAAEAAAAAAAAAAAAAAAAAAEAAAAAC0AAAAtAAAAAA\n",
       "ACRlZHRzAAAAHGVsc3QAAAAAAAAAAQAAUggAAIAAAAEAAAAAAsFtZGlhAAAAIG1kaGQAAAAAAAAA\n",
       "AAAAAAAAAEAAAAVAAFXEAAAAAAAtaGRscgAAAAAAAAAAdmlkZQAAAAAAAAAAAAAAAFZpZGVvSGFu\n",
       "ZGxlcgAAAAJsbWluZgAAABR2bWhkAAAAAQAAAAAAAAAAAAAAJGRpbmYAAAAcZHJlZgAAAAAAAAAB\n",
       "AAAADHVybCAAAAABAAACLHN0YmwAAAC4c3RzZAAAAAAAAAABAAAAqGF2YzEAAAAAAAAAAQAAAAAA\n",
       "AAAAAAAAAAAAAAAC0ALQAEgAAABIAAAAAAAAAAEAAAAAAAAAAAAAAAAAAAAAAAAAAAAAAAAAAAAA\n",
       "AAAAAAAY//8AAAA2YXZjQwFkAB//4QAZZ2QAH6zZQLQW6EAAAAMAQAAAAwCDxgxlgAEABmjr48si\n",
       "wP34+AAAAAAcdXVpZGtoQPJfJE/FujmlG88DI/MAAAAAAAAAGHN0dHMAAAAAAAAAAQAAABUAAEAA\n",
       "AAAAFHN0c3MAAAAAAAAAAQAAAAEAAACoY3R0cwAAAAAAAAATAAAAAQAAgAAAAAABAADAAAAAAAEA\n",
       "AEAAAAAAAQABAAAAAAACAABAAAAAAAEAAUAAAAAAAQAAgAAAAAABAAAAAAAAAAEAAEAAAAAAAQAB\n",
       "QAAAAAABAACAAAAAAAEAAAAAAAAAAQAAQAAAAAABAAFAAAAAAAEAAIAAAAAAAQAAAAAAAAABAABA\n",
       "AAAAAAEAAQAAAAAAAgAAQAAAAAAcc3RzYwAAAAAAAAABAAAAAQAAABUAAAABAAAAaHN0c3oAAAAA\n",
       "AAAAAAAAABUAABpcAAAI6gAAAoIAAAiaAAABAgAAAOEAAAapAAAA1wAAANYAAADPAAADUAAAALcA\n",
       "AADEAAAAsgAAAT4AAADeAAAAuAAAALYAAAEoAAAAqgAAAJ0AAAAUc3RjbwAAAAAAAAABAAAAMAAA\n",
       "AGJ1ZHRhAAAAWm1ldGEAAAAAAAAAIWhkbHIAAAAAAAAAAG1kaXJhcHBsAAAAAAAAAAAAAAAALWls\n",
       "c3QAAAAlqXRvbwAAAB1kYXRhAAAAAQAAAABMYXZmNTguNzYuMTAw\n",
       "\">\n",
       "  Your browser does not support the video tag.\n",
       "</video>"
      ],
      "text/plain": [
       "<IPython.core.display.HTML object>"
      ]
     },
     "execution_count": 37,
     "metadata": {},
     "output_type": "execute_result"
    }
   ],
   "source": [
    "HTML(anim.to_html5_video())\n"
   ]
  },
  {
   "cell_type": "markdown",
   "id": "responsible-coalition",
   "metadata": {},
   "source": [
    "## Playing w/ NX"
   ]
  },
  {
   "cell_type": "code",
   "execution_count": 39,
   "id": "short-explorer",
   "metadata": {},
   "outputs": [],
   "source": [
    "num_nodes = 10\n",
    "edge_list = [\n",
    "    [4], #1\n",
    "    [5], #2\n",
    "    [4], #3\n",
    "    [1,3,5,6], #4\n",
    "    [4], #5\n",
    "    [4,7], #6\n",
    "    [8], #7\n",
    "    [7, 9, 10], #8\n",
    "    [8], #9\n",
    "    [8] #19\n",
    "]"
   ]
  },
  {
   "cell_type": "code",
   "execution_count": 40,
   "id": "beginning-wyoming",
   "metadata": {},
   "outputs": [],
   "source": [
    "G = nx.make_small_graph(\n",
    "    [\"adjacencylist\", \"C_4\", num_nodes, edge_list]\n",
    ")\n",
    "A = nx.adjacency_matrix(G).todense()"
   ]
  },
  {
   "cell_type": "markdown",
   "id": "happy-factor",
   "metadata": {},
   "source": [
    "## Layout Types\n",
    "\n",
    "- [Source](https://networkx.org/documentation/latest/_modules/networkx/drawing/layout.html)\n",
    "```\n",
    "    \"bipartite_layout\",\n",
    "    \"circular_layout\",\n",
    "    \"kamada_kawai_layout\",\n",
    "    \"random_layout\",\n",
    "    \"rescale_layout\",\n",
    "    \"rescale_layout_dict\",\n",
    "    \"shell_layout\",\n",
    "    \"spring_layout\",\n",
    "    \"spectral_layout\",\n",
    "    \"planar_layout\",\n",
    "    \"fruchterman_reingold_layout\",\n",
    "    \"spiral_layout\",\n",
    "    \"multipartite_layout\"\n",
    "```"
   ]
  },
  {
   "cell_type": "code",
   "execution_count": 41,
   "id": "emotional-worcester",
   "metadata": {},
   "outputs": [
    {
     "data": {
      "image/png": "[encoded data removed]",
      "text/plain": [
       "<Figure size 720x720 with 1 Axes>"
      ]
     },
     "metadata": {},
     "output_type": "display_data"
    }
   ],
   "source": [
    "pos = nx.kamada_kawai_layout(G)\n",
    "node_labels = {i: i+1 for i in range(G.number_of_nodes())}\n",
    "fig, ax = plt.subplots(figsize=(10,10))\n",
    "nx.draw(\n",
    "    G, pos, with_labels=True, \n",
    "    labels=node_labels, \n",
    "    node_color='#83C167', \n",
    "    ax=ax, edge_color='gray', node_size=1500, font_size=30, font_family='serif'\n",
    ")"
   ]
  },
  {
   "cell_type": "code",
   "execution_count": 77,
   "id": "opposite-therapist",
   "metadata": {},
   "outputs": [
    {
     "data": {
      "text/plain": [
       "matrix([[2., 0., 0., 1., 0., 0., 0., 0., 0., 0.],\n",
       "        [0., 2., 0., 0., 1., 0., 0., 0., 0., 0.],\n",
       "        [0., 0., 2., 1., 0., 0., 0., 0., 0., 0.],\n",
       "        [1., 0., 1., 2., 1., 1., 0., 0., 0., 0.],\n",
       "        [0., 1., 0., 1., 2., 0., 0., 0., 0., 0.],\n",
       "        [0., 0., 0., 1., 0., 2., 1., 0., 0., 0.],\n",
       "        [0., 0., 0., 0., 0., 1., 2., 1., 0., 0.],\n",
       "        [0., 0., 0., 0., 0., 0., 1., 2., 1., 1.],\n",
       "        [0., 0., 0., 0., 0., 0., 0., 1., 2., 0.],\n",
       "        [0., 0., 0., 0., 0., 0., 0., 1., 0., 2.]])"
      ]
     },
     "execution_count": 77,
     "metadata": {},
     "output_type": "execute_result"
    }
   ],
   "source": [
    "## Prepare A_tilde\n",
    "λ = 2\n",
    "A_self = np.eye(A.shape[0],A.shape[1])\n",
    "A_tilde = A + λ*A_self\n",
    "A_tilde"
   ]
  },
  {
   "cell_type": "code",
   "execution_count": 78,
   "id": "bridal-diamond",
   "metadata": {},
   "outputs": [
    {
     "data": {
      "text/plain": [
       "array([[0.57735027, 0.        , 0.        , 0.        , 0.        ,\n",
       "        0.        , 0.        , 0.        , 0.        , 0.        ],\n",
       "       [0.        , 0.57735027, 0.        , 0.        , 0.        ,\n",
       "        0.        , 0.        , 0.        , 0.        , 0.        ],\n",
       "       [0.        , 0.        , 0.57735027, 0.        , 0.        ,\n",
       "        0.        , 0.        , 0.        , 0.        , 0.        ],\n",
       "       [0.        , 0.        , 0.        , 0.40824829, 0.        ,\n",
       "        0.        , 0.        , 0.        , 0.        , 0.        ],\n",
       "       [0.        , 0.        , 0.        , 0.        , 0.5       ,\n",
       "        0.        , 0.        , 0.        , 0.        , 0.        ],\n",
       "       [0.        , 0.        , 0.        , 0.        , 0.        ,\n",
       "        0.5       , 0.        , 0.        , 0.        , 0.        ],\n",
       "       [0.        , 0.        , 0.        , 0.        , 0.        ,\n",
       "        0.        , 0.5       , 0.        , 0.        , 0.        ],\n",
       "       [0.        , 0.        , 0.        , 0.        , 0.        ,\n",
       "        0.        , 0.        , 0.4472136 , 0.        , 0.        ],\n",
       "       [0.        , 0.        , 0.        , 0.        , 0.        ,\n",
       "        0.        , 0.        , 0.        , 0.57735027, 0.        ],\n",
       "       [0.        , 0.        , 0.        , 0.        , 0.        ,\n",
       "        0.        , 0.        , 0.        , 0.        , 0.57735027]])"
      ]
     },
     "execution_count": 78,
     "metadata": {},
     "output_type": "execute_result"
    }
   ],
   "source": [
    "## Prepare D_tilde\n",
    "D = np.zeros(A_tilde.shape)\n",
    "np.fill_diagonal(D, A_tilde.sum(axis=0))\n",
    "D_tilde = np.linalg.inv(sqrtm(D))\n",
    "D_tilde"
   ]
  },
  {
   "cell_type": "code",
   "execution_count": 79,
   "id": "desirable-telescope",
   "metadata": {},
   "outputs": [
    {
     "data": {
      "text/plain": [
       "(10, 10)"
      ]
     },
     "execution_count": 79,
     "metadata": {},
     "output_type": "execute_result"
    }
   ],
   "source": [
    "A_hat = D_tilde @ A_tilde @ D_tilde\n",
    "A_hat.shape"
   ]
  },
  {
   "cell_type": "code",
   "execution_count": 80,
   "id": "bulgarian-aside",
   "metadata": {},
   "outputs": [
    {
     "name": "stdout",
     "output_type": "stream",
     "text": [
      "Initial Matrix H \n",
      "[[ 0.]\n",
      " [10.]\n",
      " [ 0.]\n",
      " [ 0.]\n",
      " [ 0.]\n",
      " [ 0.]\n",
      " [ 0.]\n",
      " [ 0.]\n",
      " [ 0.]\n",
      " [ 0.]]\n",
      "------------------------------\n",
      "Iteration \n",
      "0\n",
      "Matrix H \n",
      "[[0.        ]\n",
      " [6.66666667]\n",
      " [0.        ]\n",
      " [0.        ]\n",
      " [2.88675135]\n",
      " [0.        ]\n",
      " [0.        ]\n",
      " [0.        ]\n",
      " [0.        ]\n",
      " [0.        ]]\n",
      "------------------------------\n",
      "Iteration \n",
      "10\n",
      "Matrix H \n",
      "[[0.9478365 ]\n",
      " [2.15573815]\n",
      " [0.9478365 ]\n",
      " [1.48899786]\n",
      " [2.03519495]\n",
      " [0.71353735]\n",
      " [0.34594487]\n",
      " [0.12940439]\n",
      " [0.05117107]\n",
      " [0.05117107]]\n",
      "------------------------------\n",
      "Iteration \n",
      "20\n",
      "Matrix H \n",
      "[[1.0629903 ]\n",
      " [1.38289856]\n",
      " [1.0629903 ]\n",
      " [1.48742381]\n",
      " [1.46690856]\n",
      " [0.88941935]\n",
      " [0.58772659]\n",
      " [0.3888905 ]\n",
      " [0.24301457]\n",
      " [0.24301457]]\n",
      "------------------------------\n"
     ]
    }
   ],
   "source": [
    "## Water Droping\n",
    "H = np.zeros((G.number_of_nodes(), 1))\n",
    "H[1,0] = 10 # the \"water drop\"\n",
    "# H[5,0] = 1\n",
    "# H[-2,0] = 1\n",
    "##\n",
    "iters = 30\n",
    "results = [np.array(H.flatten())]\n",
    "print(f\"Initial Matrix H \\n{H}\")\n",
    "print(\"-\"*30)\n",
    "for i in range(iters):\n",
    "    H = A_hat @ H\n",
    "    results.append(np.array(H.flatten()))\n",
    "    if i%10 ==0:\n",
    "        print(f\"Iteration \\n{i}\")\n",
    "        print(f\"Matrix H \\n{H}\")\n",
    "        print(\"-\"*30)"
   ]
  },
  {
   "cell_type": "code",
   "execution_count": 81,
   "id": "superior-samoa",
   "metadata": {},
   "outputs": [
    {
     "data": {
      "image/png": "[encoded data removed]",
      "text/plain": [
       "<Figure size 720x720 with 1 Axes>"
      ]
     },
     "metadata": {},
     "output_type": "display_data"
    }
   ],
   "source": [
    "all_results = np.vstack((results))\n",
    "fig, ax = plt.subplots(figsize=(10, 10))\n",
    "\n",
    "kwargs = {'cmap': 'hot', 'node_size': 1500, 'edge_color': 'gray', \n",
    "          'vmin':all_results.min(), 'vmax': all_results.max()*1.1}\n",
    "def update(idx):\n",
    "    ax.clear()\n",
    "    colors = results[idx]\n",
    "    nx.draw(G, pos, node_color=colors, ax=ax, **kwargs)\n",
    "    ax.set_title(f\"Iter={idx}\", fontsize=20)\n",
    "\n",
    "anim = animation.FuncAnimation(fig, update, frames=len(results), interval=1000, repeat=True)"
   ]
  },
  {
   "cell_type": "code",
   "execution_count": 82,
   "id": "judicial-fellowship",
   "metadata": {},
   "outputs": [
    {
     "name": "stderr",
     "output_type": "stream",
     "text": [
      "MovieWriter PillowWriter unavailable; using Pillow instead.\n"
     ]
    }
   ],
   "source": [
    "anim.save(\n",
    "    'water_drop.gif', \n",
    "    writer='PillowWriter', \n",
    "    fps=2,\n",
    "    savefig_kwargs={'transparent': True, 'facecolor': 'none'},\n",
    ")"
   ]
  },
  {
   "cell_type": "code",
   "execution_count": 83,
   "id": "charitable-prerequisite",
   "metadata": {},
   "outputs": [],
   "source": [
    "# anim.save(\n",
    "#     'water_drop_4.mp4', \n",
    "#     dpi=600, bitrate=-1,\n",
    "#     savefig_kwargs={'transparent': True, 'facecolor': 'none'},\n",
    "# )"
   ]
  },
  {
   "cell_type": "code",
   "execution_count": 84,
   "id": "adverse-humor",
   "metadata": {},
   "outputs": [
    {
     "data": {
      "text/html": [
       "<video width=\"720\" height=\"720\" controls autoplay loop>\n",
       "  <source type=\"video/mp4\" src=\"data:video/mp4;base64,AAAAIGZ0eXBNNFYgAAACAE00ViBpc29taXNvMmF2YzEAAAAIZnJlZQAAZoVtZGF0AAACrgYF//+q\n",
       "3EXpvebZSLeWLNgg2SPu73gyNjQgLSBjb3JlIDE2MSByMzA0OSA1NWQ1MTdiIC0gSC4yNjQvTVBF\n",
       "Ry00IEFWQyBjb2RlYyAtIENvcHlsZWZ0IDIwMDMtMjAyMSAtIGh0dHA6Ly93d3cudmlkZW9sYW4u\n",
       "b3JnL3gyNjQuaHRtbCAtIG9wdGlvbnM6IGNhYmFjPTEgcmVmPTMgZGVibG9jaz0xOjA6MCBhbmFs\n",
       "eXNlPTB4MzoweDExMyBtZT1oZXggc3VibWU9NyBwc3k9MSBwc3lfcmQ9MS4wMDowLjAwIG1peGVk\n",
       "X3JlZj0xIG1lX3JhbmdlPTE2IGNocm9tYV9tZT0xIHRyZWxsaXM9MSA4eDhkY3Q9MSBjcW09MCBk\n",
       "ZWFkem9uZT0yMSwxMSBmYXN0X3Bza2lwPTEgY2hyb21hX3FwX29mZnNldD0tMiB0aHJlYWRzPTIy\n",
       "IGxvb2thaGVhZF90aHJlYWRzPTMgc2xpY2VkX3RocmVhZHM9MCBucj0wIGRlY2ltYXRlPTEgaW50\n",
       "ZXJsYWNlZD0wIGJsdXJheV9jb21wYXQ9MCBjb25zdHJhaW5lZF9pbnRyYT0wIGJmcmFtZXM9MyBi\n",
       "X3B5cmFtaWQ9MiBiX2FkYXB0PTEgYl9iaWFzPTAgZGlyZWN0PTEgd2VpZ2h0Yj0xIG9wZW5fZ29w\n",
       "PTAgd2VpZ2h0cD0yIGtleWludD0yNTAga2V5aW50X21pbj0xIHNjZW5lY3V0PTQwIGludHJhX3Jl\n",
       "ZnJlc2g9MCByY19sb29rYWhlYWQ9NDAgcmM9Y3JmIG1idHJlZT0xIGNyZj0yMy4wIHFjb21wPTAu\n",
       "NjAgcXBtaW49MCBxcG1heD02OSBxcHN0ZXA9NCBpcF9yYXRpbz0xLjQwIGFxPTE6MS4wMACAAAAg\n",
       "ZGWIhAAX//731LfMsu1Tb7YLqPeiniZfQ3UlAZuWxO06gAAAAwAAAwAAAwDpVIJjfO4A0Yy0AAAD\n",
       "AFPACpgXKxLUtLwHeGfiANY0zgo8NbJpvcr7JDeU8fbpzeFAXZvHkvIIUno5KVdt/jSisvFKRsel\n",
       "a3uJIg4sVNr/zcGE6pxcHvTMvryi+5nM9zAt6ogPK/HqBqu2ZkVpElAVoY5bmN26eebgnBu0h49T\n",
       "LkRhDOLgskVEQjn7Y+f8ZRVuorfbokX7hXI5C89s6K4l8vGM45Me2bq4Hll+dgzSKEyFFylH0y/L\n",
       "hwtIJQQ0pkem8OICHLLo1u3hznfB332q16NQbnsEEeIi71EnrQj8uVumWf0+nZk0pKEJNov1mvDx\n",
       "z8UWKgb6rJOLYQAcynNU/smUEVxZQbbI6JeLdLYmgnygZ6An6d8rOJxf8MJd46ZCu3gj3jOuIIUX\n",
       "8FpFtk4LiMV2WPsJ5NKfKFquJRzuvTY/Sra6h28/U2sIzPJQ7XjC1Gdidn+26UY0jIyKdhHD2Ovw\n",
       "dER/931JxGLWXKuG73usM89F7PZc9baqWz/bOJLFLQ/WARCYad95I9hvL7f7GwiPSYb1PadeRvKy\n",
       "+B/x3SST+xpytiiiiG/tRpPO+kZ1e1NcdHdcdDT0UPlhvMvD82XbjRhHUpSyVV01Gw3DAYl5G7dk\n",
       "ytdq7PkTKMFQIB5lXod100GLEnAW35/5H1fIR/oDTJoLI9y95n8t74FWSk6q44UPrXTSVy2H0ZI5\n",
       "g9B9yb1OckFfKbyPcpizWKnzyCwYGlb/WLH0KU7//tFkthdaXg4PDr7MEAAUn+u7L3jGFlt5evFs\n",
       "ex9lIHR7K/EHWAy5aDrSo9CQUpq1EuiMu5TPRVyOXCFY7NfuEucPRvbIBEQ4h/98zGMSgKNKS4kv\n",
       "eyV2ROhMsSOOn6C5153P6aHF03zzbaMtecRwHS5PHFubQ8KGOHbm5tRHw0ivWBvyPsBRpAyP3jMq\n",
       "Emr14BeP/wnQzTKTT6MQHu7UE3oq57xtm7nxVuC/pJ7SNIRb8tk/D0/phZlff7nnZe8nlUCruR9D\n",
       "ADhoGFlVNlQ17HpSVKO1IEEEBWGGS+AiDiIQLOWq2PiuXWn1mB7KnF/xznOvjLTKQecYYc7Pu+I0\n",
       "awb6nRMUq2U9Wrakf4QiOlyY5Wj9v81uhM8uTtcwEYEXpchGUXX45/KaiWNKh2+w3iWYF6wTvpcI\n",
       "vD5oF8mxwsH/OZw/n3WhW6U4x1Qz+KX211MBGRJouGVJEdj0C3h328Xpx7h067fV0wwAGV3xPX9o\n",
       "VQMGKTVyeOUPvSWuIAoacrJE+Zv12SYuw5eaDYPJ8fIF4gg2OWMa4Qr4oh2MEKltToc39UQgyKGU\n",
       "brGRHDB7Tk5r/7fg3aqNbYvOrDgPJKWpBZ/UeQ9p6oJTG7cxHACxZPSS5C8+ZabvUZ4bb0pg6D14\n",
       "oqNbpKdpAGk8jv6ePdyx5cvjjAMIRXtSkisd//OCqP3TW5oQs1nyY+RAm6ShfGHHmpANUoK5e5yN\n",
       "emegAEWBxz7/9frIz12Zp8eLFE4aWp4X5yeW58fXr9jlSAChe0KLpH6mm25JIXb/3JsoOB6mWraA\n",
       "5U2l99SWDsVES441x+hEucq3kKiTWdZ9k6/O2905KX/pLYjuzrZ2nDlFTBIZ/iPq3aGCBg5suYML\n",
       "/3G/OwSifyJR+uff4VuO3Mgq2YmxC2ak26lMfhbaPzeft0WivPfK3uzJQtqHB6DJyaHi/YAYfe/J\n",
       "HwGkscjJXaxlPS5lx4UXH2FMQHjlxjB3lhWOKgBlLhsqPo9CD6Toootx9DdT1bU98lh/k/Gxo8qH\n",
       "QOwdt049PU52p58CtSJyFB5W5lX6eAHPsxHyN0yHhUaSDlhbiXNuck4zIyMcr1h6hp0bZVExdWpQ\n",
       "Cl8tV4Set1eIQF1u3pxskslxCcIGf3Sz3l9EyIAK2JyrAGJ8sNVOFJPdoxbOYCwDtczrh8Ay+88E\n",
       "FARNa+xC5/dWQLlDfiwAiauh2db0GKLescpcN2V06iArcvH34c6jOpy2qezZsB94BsCpNoqqYW1x\n",
       "tKsILzNOxooP7MVZE9m/KYRx74xpaobVMl+FCgpbCDdak++GxusNn4dXPBYYJ6fP5oZBN9c5SIm5\n",
       "ozZQxh4BZEJKdTQdoBOVEE/uEaceDezbe6fO3vQIuoWWFUHYg/jrz3nrjvNitHg9n/82ICHk2zof\n",
       "PMNidpL+z8REyCX3qYrMm6iO39Nug2QtnHfTLxpjtjwUUTT0WIt6XShl+BRb9+MgwG4UjX/E+tl/\n",
       "UFZu6+MoKI7eXxHuAC59oMlPMh/DVqB2zJPPteEquGDvZ0W04Z9HDxMmgkf0wABFepWT3EXWi9Kq\n",
       "NXOfXr3HYTPa+ICMZXsoQx2GvNYyy3Aea2m7m4btSRBYL/OoulHhnWe2rcvIOo4Eoulz6AmB0qHB\n",
       "1adT/lagfqpR4+5eXk5CqAVsmw/8ta9tnjUNWfrjY/lZojKI2OeASU8F3G4JqBRNjAXog3EzGmi3\n",
       "xeb6Acw/IQ6F1OOX7MmaNeBSWYRhLwBwyR6Rp4phuuvkpqjebkUDwRyPJeFqmNW3Tsj4AuySXoA+\n",
       "TDCp9ZXulii8ucHlFQdzrNKK/5jSYAcP9ypCY7qmRddh3Hs5CzOQcuGLc22QP1cvvJPCESPq3Cwa\n",
       "ThmvMKQt3pbQJpBjwj95np7bc34y0eu31KCPp9/n7+LW0C65CcfofoQGLc9hQT9DSb9U1FCVl+kt\n",
       "Fztcp4HJ0lcVkAMQjEgmQcbyuVLkL8aQ/2T6Nz18Owu/JGy+QdYZiWL3bP3LJN5t2veQa1YwBVZL\n",
       "VE0TFTd+fEJCiwqO1Ttqxf7KcRYtmey501tGbOKZfAOm+StKqAdboDcqT3hB7IlZ0Bwn7kQ7cyA8\n",
       "tyPjscoQUxayV8I6cvJt6kbAlkea/VTDmSFkhgISLskpeyckFcHtGHL94FQfXzRpCxotQigqHY//\n",
       "zMAGyZlA6sMlVHzgpjpffEgcHiP9GzCEhWkcBL3XFkdqp+G95aVIOBvqFWvFq0u8en7wulTbHYYV\n",
       "N7pLwiANcZog50fWff0MdAjGink2K9fPKuhvOzUsV8po3fwp/HGLtLzYxAfw1o7Y+Chz5ARRGWpd\n",
       "BcQAAgregeZJjFxUjn/hJqvDIk7279x8HNwv0XPKZ650sKFC7rzFyR/SwylqmZZ1sCi6dVp/05zP\n",
       "pcET0lsLASTe428t8kx7z761C9SoC69xf6rqcmnGik3zAbDrTPkSJs3zZM6btGnub4dvlA3j/pzJ\n",
       "NW/RbnyRwCoFtvPcv4CeIzHW++Kr3JuWxrHH7it3IVUkpiXRjGCkB03VMvylh3WIT7ARjy18/4OE\n",
       "ZaDLYPrnPLyD2vD+mqZCK/qLzxr9KGVTpTBM1ddtMkh6z0GXEMODKBZ45laUFGGbjIS/bncI6Mhb\n",
       "iUArwhlJosIqbdtOTfWSUZJs30Icjcc1Ba+z1OyvAbCFd9k4SkengQPZBCy7jJKTjZCrN2OQpEEr\n",
       "8GaBXLtese+NJv5TlVMAKbII3UZczHToNsBlEEqs//Y5a91ciKchyyk67gdzWnjhW14frMtLSXC4\n",
       "i2ziVS5amIT6Wv1L1+OX9Eukc5l8nbmw89kilRtKnkV+jq8kr6rtjKdT5NWX0AlBYHwoTMDQD89i\n",
       "nQfv/MNIyaDl5ZKVivM6rVOuZb5kJ2PlC9u96fozKEmzYwU6g9Yd/hTVQ/3M/0L4smSXLRmWOglv\n",
       "kOT8vYoa6G2tdUA2oBfsS6FiKApd6F+t9jEr0WsWfrWJpPPHK9i+iGyRmzFBO7hRg1bVyRS1m4iQ\n",
       "x3sy6VGxKvdfHN7bybvS23FgSIO94S8gk/BRw38GmzheglKFBScplhSsN5U2nRecQo+prN37xoOg\n",
       "MkOITr3xe576w8no3+zLjHk4TKMr7Lu8DkOd9CEIt0HLz7O8K8TIUJl0zPkmSLb2/DAM2FTsuHZj\n",
       "F9iLRX5MEo3Sv9anWTHiRfLst//unvJdL3ArpbY2mYwbGXHeOv1+I6MZQNr2iKg1OdJgaSBL/L9e\n",
       "F7f+ORisoPtq1vKMyyXjEh8YmsezlglHO6RQCsSw8rv4wGHAO+7SA6yedPzQn39CoYLIpylfW89P\n",
       "1gUZtR1Hrcao+GizCUSb33EsAJZbtyfFfU/mqgSG8gaJ99uJo5m2j6SvUpD7OBplyB4JieN8yIFl\n",
       "ApE1U1DrNTk8Sn3ONbeV+HNAHfmNIrfzs+7H6vvVlT4FsWJZfrByaXybx54AxG18oXmfJ9qK38QX\n",
       "zZyqRYkz/5osDQdoKjMK70ISK6F8p4BuqzQJBHeQgNPD6YIz0xhngFqve/w8n4drbRcVAMO4Wlr/\n",
       "nJQ7sdzjKZdlsFS6z+12nwkYp8F7hxJcWY7VldcYEGEL9G+mSiU7dlpEKFkCqhQtVjF/k+zdnNj7\n",
       "KML9at9H8BWKIPA6XrIZ6aCglctzGVh5Vtf2syR3UWs474OMj0CE3YE+dYO3mwyWAA5UtmPvuL9k\n",
       "BMxYYluS0BbrXWi4Y6TaY/4/BZ5NLNX5bMJT6s5o6SwkgDiTwxpAi1QjyT++83bUMtU5jyEHLJgo\n",
       "it24OPFydELgbHNDB4qY2gZ7XdMMgH++w68DSAmTvGtwK8+qCEvd7erlkkCfrzznJaQ3DCAvCmYd\n",
       "YjjkAjRgBOzVpKSwhmHKq3DH+CNoOFfwv8nTNvZYO5vLA7vWeuJHrc4j0ip3CGGCD18yQdJYHl1a\n",
       "y6QvrRfPqB4STTNkbdRZI8GjWd14gmo4a+NXsI575uvdFOVu/kzTicAVaril/VzRrtlEBZlld6y0\n",
       "F8WXQB54Ns+SNX5sRhf23x0T7iBdy5j5ngvWFCnUrOv2jyrMGeEDKnFWR2l+3OTbjN3+lNDtfwpn\n",
       "uL8rtFtImTteVP/Pl1BG2aMwy2E6whE1aKPLdNp76D5Dmwfx26aatjf9s2wcIUZQXdcKkYDrf+AF\n",
       "LCBAXHQlizyk28OVHKz4c+TTaq4gRWz0NHUukpUAvw+bevfJXE55PpOPo3lbBCvJQYux9GqdzHWy\n",
       "+0duWrRHYiJezveHXAvMaubxFn/WsNatcaI55eDymJUNPy49ghWhz/ve650eK3hsLDpnpAPq3gw9\n",
       "OU2qHlPOdbeI7JxBVgC5Pka3UntzVR0ADgDZsnDHgK/K5RummcDZ1L/HN8Mi2ReTc/IFPN2LY2CD\n",
       "zo4r534y7473hGiSJFMZY72ur4lhxMFvIFJM8PEQTZF6/Pj9bdp8K15MAtzwuuLVsFyMH8fGnfmV\n",
       "mMbPstA7UpezQGKy0rlWM8ImDg6o36qozzzmJj1MBxqvkm+35DzzGYXCkoyEh+Tl+G5cRkXpbsN2\n",
       "lrYicsGtFouIA5xu9TC+eS3P8RcuZZ8K3VyjNLMSPxuOKioP/+l5jCZbNWgJeL+UQOAZ0+EXuBjo\n",
       "bt51jOUPeFwAmz2hEBuIlpxHO/9m4IIPYAOtB4qnz0h1NIU17cU1rvJGQZJJ70ePjdQxhMCdhAsc\n",
       "738iac7ekmsqv7NbeNhKueK50W1A5o8yLwsFq6hhYvgz9C6AfWtROQFmDTCVznYl1FdMvPsV+TCC\n",
       "AAAjC//giNwMHBITnle6YDe1+rcgHRQ8RwUQGwV9iykROgp3FMRbd+FDFgjBqPAmeHgpMUEYsmtb\n",
       "RWg8k6CnXiziAkGTqeWUVNBJQSN2gIZANXbV8/c8NOJl/oFGvGNf3zSyaA/WV3Y0CTQpPAAkZpGn\n",
       "VviFk7jtHzTNly/KhejKZKL+PFCEooIl9FCIxznND+Rz07FIYrFGl+Gt/ojwZYK+c9m6tPKa7uM4\n",
       "pFoxNBSyKCk/rmOMvLc9sZLxE5aEqKE1R4tc81uM4AWuE9go+5bzHP0/uugITyroyqr+ktaKpY53\n",
       "V8+va/ROD13TXiaaiLF/cz7Tv6lHQOLwsAKVBomFcN2Bs41ZGT078lKvOv/DqD5/LwDQiokxaKiX\n",
       "vvXBM9WGEbWOMf4YByhSzuXznkJcHpaJ25OkZrHrE2+T/7ySVMuAlM34Lg35Xal3u5e4qx3yNBFh\n",
       "bz/nnFKstegqFxp9JHNjmSN1hxZkszvlY9Qdeh/KFHwR0MQWHByTyeD7YmIoqoHLxWX6KYPua1Jj\n",
       "4S0oQVwVLjhhY/Q1xfJslylc7eueEXeInPKZO0Pbh+W5LaEK5pFGWN4ksTWABolYT1zEQlp9bUY3\n",
       "4leu5OFBsTX+jwAB5MCoRVhafuRgFMDZUItSQAlxVEB2lmjChG/d/IL3iqYKwKqwGnOpcmsvnkt7\n",
       "DFWLsV0GkmmWHtxkXyeOJZ0PKEQXfvsI6QVHlkT0s1MOE//e4PK/eF43YX5g+wJ3yP//u77n7UWj\n",
       "pTKpPhG0vEbKZoHv2qO3g2mlirDz1uy+hUKppZNJTm1KxY/UUlIhBz+ayJCvruRMAsqi3u4tXvBx\n",
       "IHNi01accIFB7GfACxDBC0z1S5FeQreh66AcILN+xrd70cd2+vtqNX5JHpeLdKCH2U40HqvB2CEl\n",
       "Nn/0XNm6MnuJb0kBAQ9TPCLm2+/MUUbukyaXD0pqmM4CnUBmyK/NaEUbnQN2lGH9Pj0uNbgydp17\n",
       "wBryAjsve/rVVOoG3qINQ+Bm5455YW8QEBThgF658Vx2I3Fk0VJKizhkeQFltIZAAMEXHy5DXsoM\n",
       "QiMnJ5JxmANCugUmJ1l9vvCGD1i+NcAlETp/tYb81PWJdIQuOtqp7z1wQW27yNKgoFvMCvG3shwO\n",
       "j05jO0Ry98prd17mcxRbY/jDL1ixQsKm1ivCgiQB88cOy0F7+BWbkjgCMT2mZ1G8KC2ITPoCYuQR\n",
       "+zjkHNZmheHhEX17cqUltAxwwtBnCdW5S50r58h7ekMjwYyOfWBNWm8nNZ2omEireerCufVj+fEW\n",
       "CwQOES4J+ZXN+1k/6d476lwB1SE0X2FcbGCvPOMNT1zIe1ie9pCwUT4evahw9UXN5q0xmvaiAamT\n",
       "TvfPQwx9Mn/TEIoEE2ZWOjtuSt3arqT3Zy2++PN5HpTzu7AUJuGLV/jahv5uN6RkbnBGE8PTlb2G\n",
       "IsAB8eeYlmAM1xJ4JK9jjlrMzdAAfkhWjXvH8KXm4Cdy04nuUAFa3cY+XoqytvT0ZsgJ2LnzmVkZ\n",
       "mzbKq3UuX/2N+P89xgHpnkV8lt+cITEVEtGLB7iYPMg9BhqOQzibSwhvxNrYXiQ8MvCA7iTAwJdr\n",
       "iyr3mSoPMx04pRjwfStMBOu4toOVaXd/lqEHXBpchFcgnOSNI3XtUhILSp7KWKqE8HQQogKIrUUk\n",
       "7rh2ydTbbUsATLOGENn9ze1JrMsybavy6WqU/nS/B0w6RKUBu+Ymi2xhXTqK1YchuFwBIXIin3Kp\n",
       "KMgSprwXgzhwGXmIViFOJBjvLACJif0fXzCfhTnqhysW9YbBgn/q7PUGsSx7wAjgxJjeV3YdZrod\n",
       "xRRckgNfesrCopVp5gEkA9r/PASKxAZX/e0powFlym9NwX30MgiC/NdyKdaDL5mK3WenMwUcYdQe\n",
       "eTMDbt7zt7OZ28UrQRm4nC/i4H4B2Xx6XU2xkIhEot1Y0INYUZxyrvte0Sb3vArX3+2bCPnU7g2w\n",
       "aSEG+rrilb6AVhtWibhjgDmY/4m5ToGLGBSR8MEp4Y3ZJcQsrO+eF3kC5bXpZG/z3CIpuCrIuqL8\n",
       "dHhjoGoD2r73Q3LbVCi+ak/1Th5RbSEIA3DSvWH/FPBLFaRIXAZFW+NGUfh/Xy9jjNx+2gz1/bZ6\n",
       "gARfkC/KvgMCu11at5GeH8cRfFH3gwMx02NE4oDw58aFpHu06Rt/RDDyu2x+AbYjqScNN6R8OcKL\n",
       "JSp2J9nwz6Lr2GJttY0IMMx4FwXiDCmiZzKOBSwmxUK/Fc6dRhlp3TgoutOYtGr2Cd6E36DbK2GL\n",
       "UjgQY3lJerKcGqkEnOvawu0d0ubbVr6sotZ9tPapH8meXF3psBnzaSSybXs2/JnUJulZxU73PsPi\n",
       "r39a82E4S0Q0I1rdy/vvqezqxVN/JJEgDrH0Zs5nVXwMfnBoQpiiZRbLYK8CFHyVFoNMZyaf77kA\n",
       "Iki0Q6SW+RQTwtDDB5gJsIp5JNY7vwLtkNlltQwaP1WNDrwqS78D1k8ol0tEo7B7j7+GCQl3HcZq\n",
       "ndQJ3ZjykOyW4ZztP+KzlisSU1mUk2gilKNOMLBrbsUOKNpZ1IJHlJPhdjlMzSsvUiT/JkjqdS3g\n",
       "NSsFwQdbRPqWr2RRzrlXOuUDOriEOY4+0YAHa+n4lRvqLq+WNUkX2bhbAsKONSUoTVt7X5atyMmk\n",
       "sk4qqAQemnS+AWJiv9dChL1kRRe5a3uc+Ne7NiatH6q0bYpBsx4K/3f6vJRJIdAykTVBHMF8cbxS\n",
       "aZoHt5Qtaut/SqFkV9Qvxlx+Kckz1zeWme0gibRU3pJAfYgolZ5Hddzp0uK0bF5f9d/LpJK+nZjb\n",
       "/NQ65wzMTaKOn8y/YapQYSHJHaRuErIpJZpRTuwVF72mOLvpU8Ykv70b9TpLgVCTyhmidTFbcaAg\n",
       "VOTu0cKEZYEFBiXgToUQkiByYxBrUgXc4u2L3lS2NOFpkyAtzd+pdi7d3aO31XCiA8s0LawbAOhA\n",
       "MgsjiRzpiFg16sgxlXz5DNG3RDGQ4bYMSxj36oAex9prCWvGW6luXdj1iNw2jp9n0bn5IAsmBm7+\n",
       "K/ATJs9L77O7QxzB0eD3sS+jM3bBnKBBUeiKux3Ry81ydTIScDfl16+cfxXGsr8w0hreHWiNnyr0\n",
       "fg2hB+/fso3E9xSHz+hepQkUavPhudkho2mAb/4S2wYRfsm+N+c/OW6RuYZ1aE62NhSvpIxiIoqW\n",
       "Elyi1tFNHb+nldy6Ia36x+i8lF3Kt7wgqfqRBJwWr0foxbU6zpUMet9QIES7ch2sR8X0+mSP8omk\n",
       "v18O6hmJSOlgP/l2t4RmcMa1v2M1LLBurxGwANzDHy4Wf+VnbWsxtrVibHA7Ub0vDZrXvT132sD/\n",
       "8UWoofIDgg5hiBdjBDw89LooiYPe3BJXk3YIMeaDwc61xFqNfFA/gyzr2WpN68bAERcOrsR0jkBf\n",
       "FmV8tPhTHodRSe6cGL+jcy74d/TQrKCt5pQ9taZx6npp7ziaUuJp1lrMV7YquH9zZ7BxNFEFNGxR\n",
       "3sTCuGW5uIYO3d56n1MWrQBmkmml3iPMuBAvwLs4fM/YbnB+7w+LNlXNVfBPeny5df95/2aH7Can\n",
       "3dHm1PeamOHxadlRP4yPhbGZSHJokRwtbgNtwHM39uxQo/rpv7eOW+GFcAq3ijkry/FXoJSH+huw\n",
       "TaO4WcLiARylEk0+VQ/wDHnnYQWbM4UXir92Ey2IvJokUBzNvhkvalOig2PQ6YeAkZlorwS/ZuxU\n",
       "Qggn2ABnINcRSF2E1sKvuTYduQ3r0hPcmwwLJN333R6+nmUfVN5BYL6jWcJ+FTJ0ON8pnvoRNURT\n",
       "xqwNoqEORHakf7uQSYRPGCh/KHp7GxGJYLMzmOfdqgCBHu/7LVyhWrTzjgppAMrVQI85E6OD0E9O\n",
       "QT535jUFo7JdSSw/9ih/JohDXReVjN+SwFRz/sH6N1oLj0q720nDmoNwruwpk7LUtTrOLzC9ibae\n",
       "t0N9WZQyDVkIZq6cSqbBeFwVPbl+BufqXXo1R6bGDKIvhKVG+PmIsOHnLiANTbGSv+qYKs6E+Nhf\n",
       "MPYMTcyjSh6Mmzm2Phgq8lBF75oqYh65Wki1DzshwIvizbSEo5N/PuCTmCWDyVg61viHCCl2FrHW\n",
       "g0AB5pQKlb//kj9BZOtf/oBlWYVbW+yTzH31n/j57WDHM2BcZL2ZUSsqoFrVcTLWgQdsxvku/CwM\n",
       "40/NAX6aipcy1G24nBrSigwx+DDWYjINRR9cVT/+3CpVkAXZ87PGyeJvUMcs9mZ6HTa+HO0ExpEI\n",
       "ZjL1BS2PWui4PksOwdMNXLFiv9zMLFmqechyFOBliynYC+OGOBzmu5wuuVoYo5W+Q3W6LnHBVmJ3\n",
       "9F7R6B8hJfeMxe0xJRCrEPntDkwiDUpk2DYs6co0i+iQ5D+g2AW1ST6Z6YWhZjdJAwO6EnWkkx4Y\n",
       "wyJPNJFcNr9zHCm5sLzpMVr7aNSaGjbhyn/89UPpQ0ToLVESYYNI4bM9SzUAbO8SI0iAm1NEHidc\n",
       "OOAvWfLkROAa5KOLt4DuOu1d89J827F5qU9zzMbVIpiRIx+38zeCYlYanb6zjbMHEfjJc+574N5V\n",
       "57JhAdVBUW4xXvPD9S1GSg31ow0+DEokB9CxPpK/sVT0V5YLvnTLbgRAeMKojggq0w4WkKdixgdx\n",
       "r9SC5wZTM0lyXsN4y5O2Dk5A/CrqVbTom0kqSf0J/k7iMm1xuFmUTjXIeoXAenllPcaE8o13SqEU\n",
       "aX7TT5aNYB4BFMPPOG3p2ulBiqkQ/nZC0JE49HXgCdyoEHjy215oyEhQFGmiA6ImZPdwwlNNpD5w\n",
       "4ItsbEVILO+QKJ94XtY4dQ5wd6NQMqjSFU8DvMRkU5GtvHMP7dqMJujX6Jz8JZtLbRmSbBYv7KEh\n",
       "gX3QgaoEUYlHGAt8onolQ6T7/ZXlJFE/OzYvbHqCah13QwFAT87Cw4kqbbdVdAEui5F7odVQjxH9\n",
       "MqW+3J1YcRrClIyrSDZT4JL6Bi40GHOTX1cpjWs6d1xaSwbzHBYhovUNSuN6gSJMIngldB+b4cwF\n",
       "Eo9NBNKA1u6AEJy3YX5FieO4/mPa5UQtVutwKmR8aqgIIywSGYTBNSw5v3ByVUU68NAH1coJs1Sa\n",
       "IN+Kk4kXAUzg9tZa/M2DY/XhFEC8jwAVZ6KKoEiINytjzVOsYZKQkikGNkEdJiUONnTrV1AvcYX8\n",
       "+yRLMDHyniTM2CfS1sKB99GIC71nz7HuPs+2fuY/sZwZ2uFBboSI7lcGn95yy5GaF/MMxeuYf9GN\n",
       "pt0hSaeKqDVEl/sAj/DjrEt1SFviVWfsIVEweJ2YDY6KS8RbWOMIO1kPxJf/o+88L3PDeyR2HAYG\n",
       "rUeRlpxJL3BQmb6LKIQmTn2Vt7IPXl0l3SAISGazf5LPnrzrNf1r5uY5qqLX0hErHOMv2a5VRzNM\n",
       "Ri6lkLr980G55Xadzms30yhyQvGYijtqI/snh8onK+iImMAwxXcw1k3DII63V2tN8W5cDmmRmfsS\n",
       "aJ9OdFvMNPFmogUs0TC2gAAAAwAAAwAAAwAPaQAACH5BmiJsQX/+2qZYABXeRYEA1wvhm8RABy/l\n",
       "fnud5+F4HVWBnsZ331mn2DQfdwyMVncP/4H4hEkYHfxW9J1cCEKTwn8O060arQWrW371suWi0gpi\n",
       "HsOV0uO/nknjuKXKzNYTYkMvmDb7Y38+JjgsJCcVQCCT2MFnakB/CW6JE4onzktVtHbHJ//HsHcz\n",
       "jXTnV517iwgNEVZK0RQwC999DL8BHqNyTk2/t4QzIOyiRd//hgbJmm48nVNuMu+Bu0VAe8gEwfta\n",
       "v5SMQJN77K8F1Tb0WHT8n8FASpCoGwMmov16dvupeyaC/Mmd96+FGnOj1twraGFYc0lKhfIcSKb0\n",
       "MtjV/nHZZB/2aht2G/KR7oOhPyWZKd8lPgdzEyXYX6g00iF1BfRn3dxM/YQwkMvaKKbgdMPVr4eX\n",
       "HrP0yy9HWRlC97JPop9Hv+aPTgCvRAEL/9oMrXltxKDSX/WU1JB1N7kv+xp5jXf2d0Iyx7769Cnx\n",
       "gmXWePZdZlr78HysxkW1VnfrKHNXTgMubI+rCHmUff34uUb6mY41QnnvV0efgRXug9FRjWfoVVNR\n",
       "52wcReJfaukOrGEUptHVVhn2gsJ2IqfrI7nncOmNmYjC/uc6LnQtOu5/eaQmbs3zvxPfAZH046Jp\n",
       "4mUvy3oYJzd8aWilQu6fTrncWUaRGBnHz54Qw/D5eJB1G7dnRoaOOUu+vZJaPzr6bKWeIkz/eSiL\n",
       "qgj7A4EFKnd8vR9VqTfhUi6QJDy07jK3K9euJa8YVvASjHO3tqBKlIyyPUrYCevWUq6pS3BA+3dl\n",
       "RZl9WWjbFk9fzCoyQ+RFhCDmQOlEcmFsOWne7+xmgb7hDHb5ODW2cMRD8TXT0A0ZTiQYItKa/MO3\n",
       "GSaWAKOx7jWrQEzPW0bVD6gUw5t5Df4+NuKYDaaCnuj7p2lZLXS5J5hF4GMpqRjO+kK85educENi\n",
       "z6bOb/QUc31M/QCqvGfqIwXdxI7qr7JbBwHHmfuIlrew9KL5QPfukt33Pd+GmWwh1t5xiIkxcwTh\n",
       "z3jw1Zl0MgNNEoJdU6CVj6bwJtyZ/XrGmP4VNlGXm+kYcicCy+AFLK4Q3IzTxTqqkkHUvOsh5/tg\n",
       "ll1qLyK2DCbuosDssrdH+fiUrNylhUEG9FobDf04exHVtJbgTxW79fK75rQtBNkZC2e8kVUd2tRa\n",
       "y+0ultFDHMeJt5nMkvHUzACXbWm6XRzTwPSmHoBCKF8n8cboe6xuOlNv6lXWNtdENQrZJVNMc2ZV\n",
       "kOlOhSQYTAtsvpdSgcOxYhoh4AmNcaCzn1RngOXYXNAqB6p0mu/gvKWd+qJ+bahHc72xEhXRePLg\n",
       "NTkETQ7LMPU+JqeZiLd6YtKiE1yTTA1eKuWIA4gPACqlqk6qsRsyjo/KTWF9o5JeNm4Y84kLIYWc\n",
       "XeMmVVAm7opesR5Dzg7mHBvn1FotQ2nOH9wrK6lJfJjFsNZv4XVYSWKJUvq1dVB5TzHJclN0Df7R\n",
       "92iyzRibrJTQOqXZXWCABv5bxtWhy1tPnrw8mdeGoyS6jS7WeN1wv/wsi2WOgxjBI63smhdhy8v7\n",
       "D2h64xDTrad6x0DkfhwQlgloHAg+wnP/tefXJRyH/9lkkAAD/qzescR/jmvohNWCp4omZtxMsOWj\n",
       "dBau+2wHhiaB6ZobJT+MlOM01RWso4IoJUCl/otZFlINI1A9hUWqHFplzCD6ba8TKcn+Y+09oOjM\n",
       "pKma7ZeVpuKRKF6jQT1JPypLyZrrxbWHs15TMkKtyRnnjHMHMNBO/5ZQhn5gdusYouaYrRQFM/rh\n",
       "y8qnOT/26P/QjzGq7aS30hX4mX26ynhyVrIo0lm/VqGqQWaPQGllg2JKiDwjJS4pL+sDB+SIiYNr\n",
       "DDLpcOwMffCJE7yQXZniYjhFk6AHxhKrJ+/VYhRrZE88V3I+Xha7brGFxupsyYJZ921kC+JJo+kh\n",
       "rDNHUs9W7ihqOhIb6PteqTXs1L2j8cZkdHixOTEWR9/PqIJdI3u9OEiCW+3+3CDkxGOpuwB7dv5s\n",
       "7j7x5FTOOnC+ti5ReOYm/kvJkslayzdkdXWWFvH5TYc2rgfDS/T0BHXEtIhdZWPqjoGjSIyjBoqn\n",
       "Lla+lUkp6IK765GDOAK1WVx2QwbEDrVJUUhhelxYYmUh6aG1ciXJY8AecON9tR5HVjt7OCnYi3q2\n",
       "YkZys4QcSXyBfTykUrEVodC4hh5ya9fWSXhz22KCyju5L/z8ZU9ukxvLMOFwnSr9aUoRLY/gLliC\n",
       "+ZBWaTmCTg1c+ZCNeq1ybL/zogp+teaLyVZWHL/QEnvs2DMTv2laFATnWqv5mG+sf0pk9c+OXCAX\n",
       "wl3xo5qjF9Czn+87ypQ2dE9HIjZxsMVOKRwUqJ0UH+mUk3q5Y02Eql6x7+ug8SpAuakZTZ2KDL1s\n",
       "kmyJDr1eEkr1knXGTHdS4svpR0nplVKm95S+DdR8rCuiSt/K8jJ5pZSAbCdYv8dA9y/+IgY5BYoj\n",
       "PpfNcD5M6gdz2M0joZLKDPrbSvXYxM/X9qcXklLeBt/LPHwANLVQv9piiKsChinHILUyMSIWTRfT\n",
       "JzmtxV4gEPhaODKrVn9U7DczUqjuLrbZP6G+fLQ4Hb5O4u1Q2ze1O7jK1Mz/II3qrHYdtrlVVvwZ\n",
       "SHjwaAqQCeRhYWqELiLzqArJCQlHVjc8eDGDKJpLv30+9z5b1onpbVpwovaayyymVeC4lzyzCtvI\n",
       "fujXqmF6tRLxm6zZ+nSZgVtniw4tAO57pI6Jkv8Hy1s/QPVs7k5Fo3gJk0Q+Ucvr4v+jy+pD8tcn\n",
       "/gpfhgA0hkXeU3wtfVCmUvJn+bxp5HtJfdVep5AzXIino1O07Lo/5MI2aWodib02FvWP4EpSUuWo\n",
       "AF8627zLPLrPxGkqiYIZJSQ7UQkiiaX4uAg52d4JOycw2AAAAwADZgAAAicBnkF5BX8AAA5PN3C8\n",
       "mUFfQadoADpkmC8xrteRzmvODNm3f//YHln5ekJzFJoolnwNeO90NPBAx4hmGilYXtlssxkkiV40\n",
       "B8r/jg3cPco2FvLfWI6fqPr4eRVNqC01zsLIcP+iQIUbe113rzfcdN3G2kYEY7VRXTdx+INxhBnc\n",
       "kv+JHs+nL5MZUrPeclMEM4tTugZt2m8cr7jM20Yl9H4C9ya6PTjGht8/uSahc2rt6LtrS4xqkvyK\n",
       "9ZNDBzbaFuMRsnkzFuzcsPGej/WWGJg4wpjk9VR5zNdJCf/oXygqXLfDGlKYjJpr7ReqJ+tz+3Rt\n",
       "V75kjsNUfNZw4j2RrMU3PyjDiC4BsqxvN6VrbleoLfVZrBPLVIjBK2KgvB5kH2vQ7OooIAC41+1q\n",
       "bUlKtUZUzIpCSrbYPvvF/Gvdz1QVp2dHlLnBUR2uaPDdpYmvbSLN4WrAuz8xy1OA9TvP/xMA5DXm\n",
       "kRPgPgKuUQrgAZ1m3vdSnUTzYoNFO9the8Ksa3gHkEFueDld4k4qrC4H6g6MaTnGAapewMZDWLf/\n",
       "MVUabcK3MN5IEoeiD681tAWqb+UTlg6O7UxhFNwvrxIj0cTtJ2uxWp7WzcB3Qx3oRhAWij9G3X6S\n",
       "4OGiH8610LDwRNO3oHUOnrDNzaTfffYkdQANTDFMvxXS+FF0qIclkE6og/sOdA24Cabr/kJopyTT\n",
       "xfwYEVmA3nvspvWkh5KblZcAAAMAAAMDAwAACQVBmkU8IZMphBf//tqmWAAVwAJSpHVW0AADZfKy\n",
       "FTxMLReoXDDHKr9kgmCU4IzWnfKzIG4sjknZ27fhowRtCIBEJukZ0rI9RTg6K6ZBryymPATxDtdq\n",
       "Hf1LPTroQ2xIrx4tP5+4/OELdduSPYCCuZ2c9S0RU3HFFizPt12Laxo5mYMS735vMS9USfWlI+Ox\n",
       "2P4BO7v2Ymc+A/6XdpKX62dhLeXOPx2T6gtAQaZm0b6cAAYXGBucMT4awUM1l5ixZ8MHNzxb/v9t\n",
       "W63bI5nroyzi8onXMYm1Wc3OPSeRfs24BUhSQTJI1bAeCRSml//sps7QaW+k3HD9MywBmn3YNWXx\n",
       "3dV3DyJII1TkRZ3NuJsaV+NzXtHqqT1hvuLibOD9jcgm7Ng5llwzBNo+qRtyxUOQct9G5J414dKu\n",
       "Xi1jah1xVNaXga2Roi7Vq6CVc9385xdBc3kFHwM4fE28Of8GyNMuV5TmQfLemiWjz9cobA9umeRl\n",
       "bVy694fAhcTuZbtvFEpycuxjT/+IR5oCrwP+Zy3jX9bgJakxbRlUM5Np1bfhIMBzvQVbUdX3NOwZ\n",
       "gRFYjHq2u54PY2jZgBDqiKYIc9Nwlerd3+wwpwFL5+ix1sqAh2bmtcdgl82Wbgow6AP8knXC5/wd\n",
       "//IHmFfKVIuzgbZpwDFsnXwCzg5gmvsh5Ksco7CfxuAfUpsnkt+J2bV5i4CLWPAUn5ALlbbBINxw\n",
       "TZzPCN7s1P0kdMBOBEgGXyulnXLkLr9XVbFCVga5lcQrXRbKmWHqUX/8xhIrYEt9OjXGbJiWI+v2\n",
       "y/5brWk+ZBEnImfYz8VJG9TkhMarLWYu38zK22L3U0sWfVsc7JAs9NvgY2fJXevWtaOvknLGixPZ\n",
       "9sfRKISZG2cgOLv+UQn1FA8vuG974zlvu44Axs0sohL6Kah7x2IGqntuYeyWvQYj0VQByoLynzQJ\n",
       "tBBdrvyYMnSwrjR++6Fw+liGfcA5aLsuzSg/QF495OUX9Huv8Uh3cxNRO/6sHEUAE7PnMDb5YzDL\n",
       "tt53JHkUk7Yn6ZZfF2OJ4DHLb31CDT3yqALHJXJtn7KlNVRE/fFMlyXFNA5ZSV0rmdafdiPZYXfg\n",
       "Durp2Ctdsg4A/CBZYgCSAWOpdeYT4di+uNYuvxRf+1XefnKLjEiY2i7wPRxwm39rSkEJxXMyXFr0\n",
       "DNf0Q2e3+5SSclFiNhGvzuIHodHqD6bzA0HHh//HnYjku+urICk0WBQK6HLRY+HpJcOGPK2oZB8N\n",
       "fZzA3Ru3jw1PvPhqXlzDKt0Xl9WgLm+DLMiLRj6BNcI79SK8bUrQGBgdcR4rpngJU1Vqgu4xFAfY\n",
       "sUAsieX71Uq4CNjsA3S4PxFICNppKlwI0rIVnLXHyLpZou8XFDglxlJcTFisMCgx0JMo46vP5gwo\n",
       "xwslkBotsnmh4AiAqCR50srP5W716YojusmvSsAWrbT7izqO8K+dqC+71pQkT8HSSTbI3espNDRh\n",
       "lzg20PJ4YfPh7A2TPo9b4Zss966nWqAW9OnDpWEzWWfdPHg2DHx/V+qvYhbq/KbJzMKNdxpwBGI7\n",
       "BmUu14GPirsjJowy13S333tm/29jEqV4sBpUCIX1YCxhvWmc8y9z4Q0BAjDOtmzXYSla86GGMka9\n",
       "GZqSVKRwaLC1aMoPVcb6jht+ewQ63yPALM4xxPwCXmCpMT5gQiqol+54aukcWEo75JdHCO4VWeWc\n",
       "u1rKIpCKL1RiH2vWMj5IdpjJWaJTqaJYo12/4DLOAojbLNLLCnuTW6+pyiUn5+nIgB1594J+rB0R\n",
       "2aL2EG+bIA7KQeTuMlKrN1/9Zcq3LWYbfms7Brymkj+rCB8RpF9ux0aSyzJ1OsIR13Z9v7uWd2HF\n",
       "UhYjug03TVo+DXFyrYe62Vn9HQqs323XqB1Kb5ems3hxgYlQRfXxPCQ8Zl1FlfdST44H9uMJOlt+\n",
       "sT6NIVbEI9seN6G4z0XMvVcMRAHQDJ5wUt34RRTEoCXg5OQrUmSRStoWBJ/yV7XZZyNN3goKudb9\n",
       "dagINrjsWtEzAmr6XgsUUGORIMDYGcC3rnlFRozSSQx6t/FtfHF1ozyQJv/0Eyyyfv0Jmwm8kkLR\n",
       "FttzJZxLH3mDcnjFgf09BMAhJfaBWrFYINgSWwqWHww5p6AqMgxQ5P81SOK2MVLjIP9qwRTNA+Sp\n",
       "OMOmMf9U7xf8k00VGjMR3eO3ND1Gy/iubAQtoWYx9ldbDWwZ1XmdX3Z3cFFXCeCtzxrIUBu0IhMA\n",
       "I6buMSznCGnF2iSGj9zqenRRJCA3t29YjBHOyCvS8CspvOZmxGZppwl87NsF/o1IDD6nQmXmG6TK\n",
       "Ktp2jUYnGU3sSJVZbwoqbZuhK0D6lEMx/40z/wLJGFkhqjMfLja1imlYB0ldh6ricVxZ/8D9Ef7k\n",
       "JIcwVcnxW0l2/wYKAvffCwKfQf+yioBxmX/Zaqkwt+G4Bde7P6FztFI0fhiqt9wWfxT84GKDqsPj\n",
       "YwreP8t5lOFm5DZivTtpxHhJcracLT0pjW13rTXkKsh+NSldjCuNOoHoDskTfmVJqZ0+/ubRe0f9\n",
       "e+cqHJEmiDMGS/UOZqlNuF5BOPp1LVgROMG7f10uNTcEZLPhYIvHqXZ90xqpdvopph8aMJLLITlm\n",
       "7gc6Mmo1mCDejDKvMACDVfCbqi+OWhWjQgZzaTfZSZhUWEh9rCCjVmfW33NwqaJcRlKQjHolQnNx\n",
       "TjQ3krgJIls9/m0JB1UHuglewtqIygt+0gH5pnKm+ujvbJB9exGlem/d4rQe10pDXMGFzvJd/nXh\n",
       "MA9GmpOOS0DRk1cjzMn0+yR1PkmDo4Ko2eh8wWuxKfKvTYPlhVVe1ikwIDH4NvmjtUsCUIcfPrPm\n",
       "J3FxgZd6qhYcYYFQTjx4fD/HzyWMbx+Z73/0ieLiApIQdVekqJMjUJ+6pNoG+uKJHG/iEMAVbWaT\n",
       "oPDa0rNmuKooawzeCMrifdOgbpFmFocEnyo6o+oJXR1f/wKdFuX5WSp6MhuPgCqWA7mcqNCPYIKU\n",
       "jjoDdB3Z9RmRpFcfHPRCRZ9oq+IJJLIx/xom7tJHOiRNu8YDB602Fvqn7awK2xqebUoMgAJnJykk\n",
       "PAAAAWNBnmNqU8FfAAAOTwh9nBCtAAh0RMw5EWyjjCdsUhq7/j4xKmepFr2Lo3TaTyXg9qJxGoW9\n",
       "lcoFYKD6TpCAH43XqhUEHInMlT3mutQ72SighmAQH/teNwDaiVNVLhVwFGMRQ1YekaRnSGI05nJv\n",
       "/3/uP1gdrdYo9xzOF+GOT8ErpDj3801D/dMuhv10j+VH4WSUAXb+Zz5om6GX9gqTlKUbmjhcxPag\n",
       "rMl/XCC8JADo2esoI9/L8HuMwNBLdXaSXoslmZh1tEGgw/lxuP0XwZidEBR+mC1MlRthKavN95G2\n",
       "3lIv4e+WOb8PCqZsUJDHSib3Omal0c+VaNrN7OM1GgZH7ZraqABeiyHPBS+CGsZnj2OYKLGceuBf\n",
       "sGuXpDcP+ZUPK948RTtK5n+GX8DlSX1REI7tb7Ddbd8KljABv5qhe3bTBOR9KZOefcLxzaFohwjo\n",
       "BvgCLYsqNFeRdw9oAAADAAIvAAABVgGehGpBXwAADn+yAC92NkTIKNA7vIFAZyf7lVAebz/Pj5X+\n",
       "dTo9+yqoCnGwTNrcZuHu66Lp3kJfMYkE6R6tVVjlMZNi/MtSm1a2RU0Y5w5uooycHqMpn6NicNCb\n",
       "OLvErRZx42QRiGOvJxMBrB9Ag5adQLjtxRHfMPxtLvobkLlPTUMpOFxH/vUZaVvehed9eILr8zT9\n",
       "HhEBw6mr1cYHzXQKgssw5FDX5v5JxwA37wtwy2pZxNmVA+a47OxdifhLw5/Cu0C3xG7MGbL7EzNp\n",
       "/gP5plYwIQnZwcockhQgZr+IZeGFXY2jpwOy8T7U9xC2zI0NzLsm0YaFOvaVnlhuDbO4sn/yceWD\n",
       "pX76ShEV/Qqs8LppZZrc4t4vWHRfEyW/+dMvVNBWCzuICybmsideniA0VK1vJofz/+5iSTPTPC8O\n",
       "xEOvGQ2SIbr3K5PAATSrDqmYAAAQ8QAACUFBmolJqEFomUwIL//+2qZYABXWF5gABM8KRDSF9Z72\n",
       "2d9Ul0xcOoB31xHs+iMFM4Kxl2qZWzhUa/7F+82Tl75JH3UxWpOE3p+DoLKLlgS7jd4pk11Xao1s\n",
       "+SFITJILUHa7EDg1lry4L6H5VPpQX/wphvLQOpa2IY5zio9wrdrN/7fgLNPkMC9rfc22wN2vEBT/\n",
       "qmamNV5w3UYvKgGER2lO+fe8EZy13BwMT6+c45LOu6ZNtgIc3NJxzC6WUAHYV98FlE8FzGZ0eYFJ\n",
       "EYrO1XOPj1Av9RtrQaFY1uA9fown6MfNzNeCHff+lZtdCcSrjiqgyRAq+AAt0K7KPIfWFeERJP11\n",
       "oyFDteYKXDupxg75HzIy4MZJEqZ8jDJzszKbD3xG43QbD7pL5AlXKmZJ8oCb28L9FezZ4FSfyPHg\n",
       "wHuix1nF+m8wpH3k9eLPrH4CUDjlY//iEOBbHDcUSmN0jHSjR56BTEHMSSVAgruYZE52KLIIKKCa\n",
       "uMYRGvD4mm3pGwpreK4hjbTIZGd06yOPWMegdHhRRil2bthUatvpUiEbentLPzGgkEctlaoP6+WN\n",
       "Plve7wwpXY9r+j23Fl3Y7iF5yPFj0eW/GXMJioLdReyTR7xLH/EbtODPsw4HeKg2euX5j27+qIwK\n",
       "lWJD67lcftC2Z2+qVi8brRFPSCiRuxRoQ0SMv4MOPAoGrrw5kvkv6qwVf2qrwy8xYzoPCGHSuoWK\n",
       "mHsJ3Ly+JBplDYQCgK55BnOmygas6LVEhgdjts9xyz4WjDlR/LnHN88RqXm/P7w/wO80ar5PBWCa\n",
       "dxVypOvX99eHpnESs9icD0rK6Txu7ahIeBeZ2GJsuZz771Ro7L78ut3jYNAY5ychWXIKV/KnywSI\n",
       "LPKir70XBtSTvOR3tZh8jPfz2BFk4WuofQnL8T1WrwOqMYXXhb9D9uLQbaBN+5evVKTDdjrO0Ydf\n",
       "krsk2uOEYyShGRsFL1ov1TgGootnQd/36Oupsi2niqy8KxV+uHymFg0HAxcOp1y9zBQTrCSUHXVc\n",
       "hC4t39+7bYqwVpAUebmZBiBBnafZa+PSSd4aCliX1DNezAmEYpUAx2lsPxqokuQ4mROxdL02HDqz\n",
       "aL7pW1BMDNgcRpa+vCpnd21mY6K2yEhRpbZexpRve1FX3TO2are/fDjDZP4ri4Sx779zvYvRfBLb\n",
       "8R7UM8RFMS4o9Oaq0GFaUS+we5ysNAAOx+HIw/g7u60sPnMWF0kDBElIk+B43hl2Fx8HZ40preZg\n",
       "LHjisIOL62kO+wKnbrdW5Qo3g9wS6EW7aInQqvTPeCXhOhcIOqQMj0Kryy3OxkpwDtNg5/3YpLqt\n",
       "ctsoUHO3t0nnrAYucisNPwQWP+fwnsBBLf409lAAjynEH77El0BS6EOOMMBPvB0KBANZGBbOwjFx\n",
       "Rco+dQ0o8NiVSOZFMfDPfiHhWvSIyV3LUmKWm1rnuFwG6gxwyFl/U2HRzaeDRkfstZMdLSfcaP0Z\n",
       "pen7jWPNwgWpE3i8nnd9Y4w6kM8w94UlvyIEpC5iUq6/uOYcAXLEgBv+xOam/WKrX16EENt1z0OD\n",
       "WFd6TrdCueOAnuFDRONDJWGCIZQn6vIdw/IpzmITTg1SvlD0ntE2guMIMU2T64YnTpfRwRGLmNQk\n",
       "dDXiwtqx4EBv5e0tf+1AP+zdR+lnf1YVP1kNq6azN0y8FjvtTGMWrY35cBcOAvZlm0WfYP4C/DqI\n",
       "vqkFCvedMTjGfmNxX1NrB273G29H4uTyAmXx02VB9Adi9tznSGfrMPsMmkNgXbwJT23eypvXEAJh\n",
       "8UFBf4/oo9O2asRzPXaLADw8U5Bdu4QvToZfaE0rqRKImB71H5GgsJhdD4Bx2GdxM41xOq69VxMX\n",
       "95fDe/z+mS+pJgc0kVqRqpgxhYU784CIBjPdwaBfNVI7QRd45X7uP27YpE2K/UAqE+i3EP27zyzR\n",
       "1V525aw/haOYDMTgXbQdhJP2zRZhiQlz5i8QXY7cEKKMQd3BzqwKW1KT2z/7Mm8OIhzR0ERnFRcV\n",
       "WtqtzCR5IBDpzMJKF1dMUSMDRimrUHgwIqrzap38jX3Wuh8dPU93QIdaJiFC3+Sn4uvSFQiHCwiG\n",
       "O3/2RGzGbLEpF+EYWciCHwojYyFKvxJ7Hp1Jz9/e0D/vC0xH7NmrVi/w9q7/S7akEHy5X97PFZCp\n",
       "SwyXMHBGCORFM7KtB4LRceoynjxsCUkqaLBinJ6Xr2Mr5hmpXOkSUFVtOpGHwEC1qvlRKd5KWPvM\n",
       "3Qx6PTZbZCTDpUpPAZ7M8AI6kbq9IAtmRXu6DDHtOeFGNXXUyVNUzb6iN4pzzI6Q0w8UudRXsJvG\n",
       "xsxdk9MAjrPxfjtOEzcBeWVeEA/QEUoYFPAtc8GW3DMCyDhnC1vstUB0/DSXPKnoG6nasOj+dAmn\n",
       "LQS/oQjc3ev8H6y7gIf7V7ZCEuv7gIgnMO933GvLWLLbmhCVATSLeJXnybOXvQLHMD1pdJTTbXfg\n",
       "QgONOJLmHBPbqm14CWlc3VD9/wqVqb6j2LE7CDmwXMmPYXSNaHARu8mJTctNlFPVv5PyLKvLFB+u\n",
       "pySyqMI+Qcs3KEGAADRhDRPbd1drNFeBKZU6X7AuTirxXfJ6saBGAFdDgTeO/ZYyNXA0oubt6I1P\n",
       "mYDG8SmtnKl+tKud/Id9ehEbbMiWV8HtUnXojsuaNn2LSBWtWDmY9lFJ6We80lG1qkxhR7LULiuV\n",
       "b8aBvIi3ArPutfZPErWPRCsqeodFmqzvD+ouERKuNRuyP/C64y6JWYa+V0gn3GXFSnwLS/K0rotm\n",
       "/wtxS006YBov3Mo3h6orrJPiqnz8oTJrcy7OF9h4iSXWwqgZRZeJHT5gyPBYt1oUS457ngt4T9+j\n",
       "UzwrmvT7t7s+MSucCqLQawvtCGhnUS+UE+RKAlVlp0QxMOfdIBS/PEYzPcO1bzQ1hcbyAqogzBHy\n",
       "cPx+x5fePUZp1lxO5K8TG+9pY4XbgvgDc1w9EGbOqiVcKjqGcj8WR8jTJJjRPi6ZIQEK2yPnaG47\n",
       "SqQS6i2VgXbrKBdgRoFoD0/HwzGyr/b9Ibx3c4ulqT2P9nJdA/tQZBV8w73jpp2K+SM479ngfTWC\n",
       "rjrQVjIQOtzqMKS8Ln9ymvWK//AaxjClsvjOul9xgDONCEXcoZcORlDucKpxcZAeYPQW7Niyt8AD\n",
       "uwAAARpBnqdFESwW/wAACUuIW0/XGh4fg/QAKex8gjY42A7gDGiZVE0PYwFbT/ME3Dtf5998wzXH\n",
       "Nr8pIm4PZktSUafo3qRgLA7opcl6tydVLtgQWAR3k2mk7aj9bZejL5LDAtkSF+5vXQ4C9Jdan5OA\n",
       "snQcTc3vf7BrySn+xPxuIEdqMPq6g5drCc4/IMtnoa89qljGjckZwrG4e33pxndZllfUBFewb3PA\n",
       "DyULm+sdPRGQRsT6TASYj5csYE1m5fqXZOkHR3vK6YhCD8lBck9dmNegfTm8JFx4N+atMwxYrY5l\n",
       "+eznRshe29VSLO96I7nA/E3nEvGZB/vqqVJ6UsBh8zxUidsM3IWh+1MpBzaBspJAAdeB7emeh8AA\n",
       "xYEAAADmAZ7GdEFfAAAOZgBrhgAOvapaPEIS1j5hQyvMJUmTWjVh9kgWgFFOAePuFz0TMv8O+E0t\n",
       "Wi7cJrcWooKvP9NAEz9ceEo8OQvIwvFyV62GZVTJKpSOqS8OxoX67OiVr7vMiM4WXgkSLS0wHRcA\n",
       "xg4pliM9tOy7lcqILCd4YDRRp5in7uI174E4InOp8r3hHU/n3966cmT6hFyaNCH9jiTXxeN/qvaf\n",
       "YEEZD7i7flFJD9puaeEb7g21JI2xI1ZlNwqEOeQUTy56fL2Tzbb5d0u0RPsxLWrGfFI7FnC8vos+\n",
       "7zBnyAAAFtAAAADfAZ7IakFfAAAOSJljilqq29kAB1abKQfB5Yz7mNfIH6jTg9TotXYqnpIqN8ov\n",
       "n717/8DjXNS2xRvMC1+/MVKzEIhOh9XXQgP/sy6f19hNqLEDYo8QZja5OldQs3zWPvdlSj6t1qvf\n",
       "NpEcXivw/aWm2OiSXDF05FHVrycmUDJoP4JbdODkhCDviNpYqF1qfxXalllE5sl+ZG1gyYAhI6O/\n",
       "7hZGF2+4Jf9MH+bcTS145S2aezNBfwUFnKg1riMfCTEKd+0D8SKZoPlixXodJFewRx1c6T3H2PiQ\n",
       "t+SAAADugAAABsxBms1JqEFsmUwIL//+2qZYABgN32iVJ2evTZkFEJnBgBzL8GQqsvp4XLh0H1WR\n",
       "wXxY6gD6sXAtCHYYA7MJ0ipqTV1Cbov3FcTQvWSo9eXcGabS1S0rhUjrNij0Y+r78KTKBT5n9GGG\n",
       "fvilX3P0vN2FeKjLEz3HlUU7g6X4SJBbrMnfPo66B1fw7USa8JAGlAlySUQcJLSU+FUZXPA8weHt\n",
       "PUAznh/FRjT3YGzog1IevgaSvxfmzefXbJhOtZ7JnjkABKFqpT0qQZU8AsmiHbTvYx6+TvYuNddG\n",
       "7P/MznOXOoNDBhSKfkUiqj0oO4jECDpxLugMs+8o+4Njh66xnpSGK+xK/M9LAP+gbgQ1BFcqxyBz\n",
       "4wApN3ojJQRd+ipSZCDgNlBj8XF5pkJq6V9CtTkkM2NAPglsm+P/7YhZ+z9TmIdSfIZu7HH/wUEZ\n",
       "nMf7/62Fggr3BvX+wyIbN5sf+vdycMXVsMAft2KMj3IK9F75M/ODW86ikEx0qqnHFV8ZY7gfBu1S\n",
       "RPXfbKOUfwhs6kzcV/4HIlIzhHbGAHxQn86il6Iwjqyl7mFTXdW5qiXS9T2ROFwseSWv4uU/As5Y\n",
       "Umg4IdGUH0Wc0w4rRHtK/BqeGBkgdqqyx1RuCjWTJLhjo/a23Z5m0Va424DkJU3UTqWMzpvrcnLS\n",
       "DlcumXajtIBZyQVL3snnIt6ss6bhYt/kG0OqkMXSIxdcQkliP3SKuij3/30PWoExnbONpI4B51gZ\n",
       "D8Ij+F3QnNeet3JD2htfHxANlkZKlT9wN0Gn0ulbkwV0EOZkxmh/VK8/HpqyiFHAatQNoyKGCBmu\n",
       "0Qu9uMJjPtHqIWUKIEj8Gnn8mWSVAg/9mIO5qDtcxHn3gcy7YDd/FShZT+iF16F0866AGDoqbB5B\n",
       "A/2HE5XJCFJd9FCPpmdbOAZKo7cyDNCB06roAUedfq8GZuXRGvw+sFWJCfapI0Idu4w2jEIZWAq/\n",
       "FeqyCew5uFp5LyPdtxyAzB3086okfVix4OGCrwigIjA0ZcHrVwRyYLoB2cI7/9gvGamnzNDdfMFP\n",
       "k9F+k4T9jxu93VbRYi3AyKWvgxU5k0QAY/o860i+B0/yACJnpf8G7/qmfaafKHG9GXDmyNdcLNl4\n",
       "LBQt40jpnYemVr8oaFpIU0Q6lRsxrTb0qWinWcV+3ySelvkARcYMwIl1OrdNwLw+TFxuVW4OHQdy\n",
       "/GznyP64f6JuN3fXXNuXbsICwzx7cq5zeH2t96X4JlCfvnjk9Fm5yD0OuL2Wkoce5bfxRINhkf9C\n",
       "bXSrAJ0G2IJIarZZgLSiG1gDoc8K8gc8zoqfRBBmTCC4+MGZxvUiD6bprrvn4KUwwnCBC7P3aj8E\n",
       "MklNqd/2OWAp1+HL7LOQ5Q4YmVPMTHsrkq5xbiMKACjnzEgkFyLPfAw9GP1SXX6tL5X5WIYhYvY8\n",
       "9gTZgTvSM5pI/h5ompsknu419fOgYRbwKkyaDdT+Z857py5T7dclPar8yp0IyDesKEbFvA5oiqR9\n",
       "+uPVywSS23khX9j5el4HgoKF4VCqAESIx3ezJCJ2q7dXtsqztazlKPp0DL3fjq2350tcpsAO4uFE\n",
       "SuyH5+ZqpYR6BiIwCiTiFKMVxgSfSVWLqjduHThux4oslCot6ARdsBGtZdfZogczOcUj4ZUYaew3\n",
       "IG/4spdtB0SzR+/BaOgjWlGzeA3hocF8oi1s29/0B6AAOdLvBiwvznRAAlkAAAMBsjx/nJ4xdRqC\n",
       "JegeCxl6vEgrk1PLfc+pjxHhPaX4H1FthPsdZruDJa4L73315+3rykfYE5YUCBKSWW84qu0Bq4ow\n",
       "bcbI2CbdtbGD3aPkGtzn6f1DUz4sLHTh2JRXOGfYzgANOu3+qJkMDSQuusarLpBnrtjkKeq7O2L0\n",
       "frOw4JWbRumj+zKAwWOzN7auPDuUBBb1Gr1x1c1vfAccyyuh+vRNJuSIUu8ZQv3LXDKEqTlUUJ7i\n",
       "ryr/Kmc1+X6IIFbm38l6Sm7JmmGp+PWgIFmbfAxKz8f0EWOGJItibppUgA2kuHznu/5QGROjEA77\n",
       "8cllKSgh59u+nB60ehjHTXEe2YxyN9/Gkj2nt7rvJzILaRuPDT6cnW1uofnkICl44ASeYy4huAsx\n",
       "4mXrImfXy7H6y57cJ2P4jkaQ58V9tyC13JuD1lKmmLyZDRdrO3LTdiobd1n/wtHUfkChXYxO0Dr+\n",
       "80AAAB/IdzzTtRUfeiee1q2HMMXvJHdxVl430QuUNShY5BaVz3VH9GWYSohPjzx4jJgnyg3TwCs6\n",
       "N4mRGeu9OEfgxTAF+WOD9M8UxE6BoV7OnqvuIq1SkO4nAUKBs++PAh8AAADTQZ7rRRUsFv8AAAp3\n",
       "PzmuKE0ZWMOKZex0wfWpABCLExhZ9AZHmsqc1/WOKBfngPbgacabbt7pl6SnFtNGdKo/XdLRnWJq\n",
       "3/Jap+NDQNsa79eYULqx7802DU+awLSIjJ3Vo0dW/JJuDmUFPPbOBHzbaG58hOuDZsZVtd8FsRby\n",
       "tZWI+PW/Ew6ZAbMuxmVne0+Qi8Y5bp0dQdRqxd6vDSfV8bGrYJARhjFn4N1o4eNUdoA+tCvWvJ+6\n",
       "tt3RD3WPPh7cOVxO/9zp3O6lOtQHuzBargBFwAAAAOsBnwp0QV8AAA/VHeicw+DzUqOSbiDZkNfB\n",
       "xoEAGxxM3VHOKUdMsIovwX2LCl/DiAhX6gHZw1v5oWFQJKrzrB2D5BbIsSnZGpaNXu0IPXN3stPi\n",
       "iYzBlvZqeEU6OSd4SjdnLtkId1mYA/bLZmPoV46+SVzRaLtYosLOYyb4v0fQUTpnTW5nydWIrhZ/\n",
       "6s5d6KQxZn7cTO5j5bdj4jek4v3H22gB6XkVm4Jja1imxET1biRAdpMcvwhjis9QmTE+HgN8oHAG\n",
       "+NUAL3tk6dQA+0+kSasoE6sjdqu2TK4UX0QzNzMdl8e6mWJVYMCAAAAAqgGfDGpBXwAADk+TTGVW\n",
       "2AA6c02wR5K2b+dxVunFjUWHGS+6204zjyicBCSuOL8HkSVbA3zqYcQnrAAIi58u2TK1/Q00c+jt\n",
       "cv8SdxkF7BTwSBDzMDJ5FCsphu0/EFhAOnb41tMf6uzjgyF1Rh25oW5SY+t0VV+Rv3Y1CzxMqoAQ\n",
       "i6AF01cdajgtLtPAmNo+WBrdYB01eq6SimHAAomLlak6okgqx1bBwAD/AAADW0GbD0moQWyZTBRM\n",
       "F//+2qZYABXDSZgAJnn55aL49oAxSZQuxrPeMRDHGsiFt3bB7v5s9+QY2oPp6Z/JeJo8AFB8/yZK\n",
       "e8h2n/goJIqHm5WihjW9e0hPhAQPSl7q5iHpb+vtNqDAjMf36UjEGL2DcDVxw4gUd+kZu9nJPf7H\n",
       "zZ2C7u9M5byFB8Y6xVx9XF4ASNTPekLC3WL9xeyq1Qwh76Os/vheXuQuf2fNeb2uoztWsf1+T67p\n",
       "PbTiiMa7X8Q7t6k5WkZeolHMfL7A/NctWQqsyJhqD3NSKfziJ+cmihBsKIYz4kGLHqcW9RGOWYVD\n",
       "FsIdWqCyCYVnXBQ21kDPuM/xIDLdbteZAz9rUhEjNJEeCNGJD4JfP2Jj74B0VD68bpzYDolZUhu9\n",
       "+gjX7jxnSp0BBBOZHrO0WDD0hPxuZGPHl4YNRa/EIl/SN/w9ax6UKZv92n2wqGRpq0+kA064+RME\n",
       "RoZs02JO81zqRTlz5/YNsR2LYHw/scc/IJaJEvwy0dbAHwePTdYwIDBmM71Y5NUBekSI9bciFYR5\n",
       "dVBjaDmFH+rsTPfaEdKcEDRIu5OEAsQwrWm2bvDxkhIBttKQuJ/sAeGC0MSAYzX/oVyqX7yqPeUd\n",
       "oCCZo0O9iefYnHQ1OPs1pVwjYRRDl6Nw2FIralkXCnLci1/qMomdVUAvrQhio/Rklt1g/VmC0W1m\n",
       "5/YmxyZ9z5vp+uTnQoOHCLFCC9oAAIEx0wABIpkAGr0ZzAJvYlRBGPyct3ZgahnjywsL9uhOoPKL\n",
       "h2/IASt1YCQAAZR9FyIid5Z640wRSU3sKbq82TzZq09lit2ob8HJaOPousXfCe5jYNN1zaHDyeor\n",
       "DZ7aXN07X2HxthX9LvBY2oh9ksj4KTvtnwAZVaMzMnjRFe9P8v4SeUWD/xekcbkAzFYVZKL+66HK\n",
       "Tkhi1gAAxQ0tRSvhjWaAbSefZvyvxaMZXD/L344mWRnlq/Zxx5/AtFwdgHUnc9oG6X8lsAtJxCvs\n",
       "NVUKmbsXazDHp7DV6mXDdxdB5aCV6Zl3APSpYbHV7UzP+UK7Sfh+9DYyKhAEigCVAYTA1MhzAylL\n",
       "2aMTfpFb0ADIg5b4rGwwTmTQZe0HtrAAHnvvuQ6n8QQ+LbTP1j+077b2rOwelEAA1IEAAADSAZ8u\n",
       "akFfAAAOatDvw9b4bAAdpv53rXtLtKHHWDG+RikrKmf0pLZkWmPhubrVmrkJlGW5AewiAmF9MbiK\n",
       "1+RICeJa7RG8EiaamjkGn5q5WeY9hSPxR50W5/IcydlN6USZq8knwLn5kAdy4yQ28gURJVr9T11s\n",
       "7XpwzTLA6nAOyGUW3spktxbjbDwdJmQvIoDFccVp8q8n2d7liojAsYrJO8ev0P/5NI2bpTw2siyM\n",
       "UREOvSrFx9oxoa8jmijOEHeAQLOzXZL3vYwXkYgx+LUopgKHAAADoEGbM0nhClJlMCC///7aplgA\n",
       "FcGTJgAHL+S/bzHyMR1yd1mb/iN8TswR/S76CGTdmPEedJQvlSyzg/ax4JwgatSqB3EtYGlZcHMC\n",
       "Qb05LLW/f2Gjh/h3gAoAVGFB+QHcQOjmyAPc6uOxgF+Acq8UBG4J2lEh0M6CVIG85OweMzZTFeuV\n",
       "kyMq99snt6nRhMbFusHZWSulU43eGsQ7uVYMbuoH8UbCM50sO4Z6q5+J8cebpcffK3PeSUwO1q/h\n",
       "+YI8SvYo84vNuvgqCaFfxFh9hZyj9xTeA5FQW9YqENK2hS2faqC8eOWeHRd9uzAiXT4eSBne5l7K\n",
       "RmQhID2DQCRBuYxNfomHVCpXBfWAC4Jjd+hONutTuqAWIhgpKpLFhykMkPKgGufjy5r2JIN2Judd\n",
       "Br/YuN7ykWDzYm/cAcwLk+lQQ+2ufm/K2kdv81RSqgIU/B6vwv+HIj1kMg+hebtiEAM5vMmnQ8cu\n",
       "y5Visuyvc/L3mvX65DsCO0h45C+ge9/AY49qOcPTkyIlRdnKmC1ylKVd+3sY78PY1dwXLxwbWRl0\n",
       "RyTY6rvCUwxQnzKP7eIOFMPaJeQ5VQGtt4KGObNyXJ3aGKwgH9VChGXNoiMWsmEMtSGquvtPSh7M\n",
       "u8HTuPXzz/FSleLeBxlzHXfcF4BcD/5LEkLa34HyFS7Dk6JVtrPjCTJ+X+BZN1nJ4zhvROotEB3t\n",
       "lemuGtXeBWIqNXI7wWWpn7Bj5K4o0xYAKWi5cLaFU7GDgw7AMCAYVqvdUELnPmDeQ3FZb7cK4MEZ\n",
       "t3fIB1avJVm4wCHek0HVquUbBZ7N7Q0w9OeCz0NoMNaw0a0jeeOXcuNjRZyGOJLdM0NXBUB/K6Tj\n",
       "ADWnpEAB8yx6PaohN2BxLEwtghmhjvJZm78BrvbzbKPj+Vo8CalKzyRLIfH6XJnjkHI2IYZZsVpt\n",
       "gGd5IP7naYmKPzIjB3K7+Jz9oga18JFsAAD4XmRJzO8df5JKJ97irOPlqVZN+L1xzLUBCCe6oKDn\n",
       "KwA3rIj8YWiY1KmBAII8uzGztvuQ6MfTib2o1HkEMNPglscwUbZ2yCWOpWPrlotABvcxBVg0YD93\n",
       "//jDjx9s35qf8pHNeDi8jVs4SDGVGGjDqf7NJdwh57EfNM6Oh+ZFzQvarbAQvv6Rz4NABRzwl2Hq\n",
       "GEjmZoRxY0AnPa0lIDI804ABlW69VxcdACgjyObTvKQNgFQG9qZTMUAGBuuDIpDbBsEJg595hHwA\n",
       "AAC+QZ9RRTRMFv8AAAlMboLBBdtAA5eFGCMqcVGNkderW1BN+OeX+cTmp9MsXOLpRir5vfWw/8Xu\n",
       "SFUNz/+L4DNQajCoaop2MFETr1bi1g8YnW01FLDv3fUDiDFAJ/HjpJzXUtUlQ1R4FQIG2xI7DS9R\n",
       "/M/i4UDSMs0F8OFfoxgiZhjJUOlrysB6WxHwbKnboBHyYq2VWtvw/P5j2GIDC6Gz7/HOV9QJqjqr\n",
       "TUAULmEdHdnjcATYA47CWVMibQCggAAAAJwBn3B0QV8AAA6PiIAL2k+9bbcT3VU0yYrP0KacV8qK\n",
       "tR5OfPM7VEcoCWl26rMYz+dOftzmJdscCkAz+TkHf35I0ez7mqEM/RJh5qahAsVFOXzwJPvmf+Ut\n",
       "WwMW5xujl7Tep3GSTm3L3dvThwNMWdbeHvy1EhxlgMLKEndfCfGWEV1yMd0If8JDUQersoKb1tL+\n",
       "+odl/QAAICAAUEEAAACxAZ9yakFfAAAOT5V6yFfWgAOsznUvX0pFX+I+BhjDxIwZ7yDSSkOHOK9E\n",
       "pu/+zkmCco+wqdtl1G7wQ9aRt9H2JckxFVt4XIxkWdKYANqj7kLBo0Yq2DOMqavar8yHneLr2EaV\n",
       "yJNIzhlnE9JErcIOhOB8PRJwyNSQPXsqkN15QDsW7tMCENCu8SPXgntZdjxfr7VQAUG2JFjpjSOw\n",
       "DMkHgAKcTdOC6w3Bh+A5mmtxAKmAAAADhEGbd0moQWiZTAgv//7aplgAFlNJmABD12pzyGuY3xkw\n",
       "Yjla1DMzDPAFr04UM6/gfFcmjbVUVa2MYAF66JMyReKjplf3UINUR+VYRyTAiINfRyRYbJj08fxJ\n",
       "swD7bPbLxMOR/UPUMqZxLNk6zdskVApRO64BbW2nSSFQY/0hYP98I19MottRezwLRBiCiMwuAKOW\n",
       "9jRd9SQUCVkT1MvpXRRSsqdvCJ4Y8u/R7ozwW/rjX5YpDPLibyjp2i/R59H9X/O/2EcMENWSajqv\n",
       "k+sWXnEJ+qNMcoTXpMpgz3FCtUTsAI1F5JoYCkv6GPY5ymWImmPr91O/Ju8AuarqpTcHgfxP80G0\n",
       "I49/cHMic9b+M+/0TG0uDu2oIa/ap6RLU64hl4y0+2Vq7RetVcr19kl1fvEHF7p+nLie6WWQTeP9\n",
       "g73F3Hpnx2FcfX+X4bcOqZGl8dHevOLP4rzynFAbHGIO7RxJaa6saQ/8LTgsw0Ag0PBYIMTk41sU\n",
       "c4YEUJX9fTtp61qDsKiZuvLb2ocZeF5WlYYn1LBqdAGfC9/fLns8y+GroY23enXJ6/Ep45FdaFaX\n",
       "IwyusSdU5GCkkBWr4/zYLhohbPKyJ6WZ+dIhqXFcJ7EcK3brPJ5quYruzxchBds3A8OU9++EKeqP\n",
       "qIe8u0RpkF92tC5mXs6aiG3JiXyG6TOabOj7W8FSunxzIqtZJ/A+HgZMA0p4PCwhInUiD1Qfn1GM\n",
       "Q8RedWDTPvuCcn2hMeJ2PHJ/PYchU3bkkqYNwoaeMXB0FUj4GgxXapIFfuoJYXIO54WJ8d1wADLv\n",
       "Vw0T5nueutkaSzKzLHDasasrQmYJe5NZWtRcL3hLSPllKeej2VNeXuXMckLyw+Jy49lCyezXnqji\n",
       "C0mFEcz+BQLmNONnXuirM0/yVmi0qRs7LiJtmiWN7SymUuilbhs/bjdw8enQdDF2Li7E5nA6Mpcs\n",
       "GTE7+WfstnEq9ByLbvNH9JA+9HSsmm8AHTU9halKl/eH8boE+I654pY3AGO3vsJ0NUbmefOQwiGi\n",
       "h5StzvRDuz6HnFZ36TYbU7C13J3hSKPwBVwjyLJU7JIxOpatqu0xNPL6o7vFPhz6kXOeypqGM2qC\n",
       "qYV6a/NzvjMQ+reiJtzdiuLAAdsKembP+oRn2AjldUAcUY6ge3njBmoUlCc1mT8NYmhA+lDQmqSl\n",
       "9DoTX3p2TzsN10BSQAAAAM1Bn5VFESwW/wAACaKQTm4vRX3UKgANlmppg8+znOj/p104GIe/OK5s\n",
       "pXDtMWrfQgaki2y46UXAcJu2xMdzNQwaq7DZ+FMY7PdUK+1iX16ZwWOmKk1ow5D7CgDumZ/ZvBbb\n",
       "zs+3wQpcBNgAvhvDvz0e+PtIJ2/QbppFvGIjfMoScQuGJXPOUh7ttvzMuVhz7iYzNS0InRp02j01\n",
       "BqhM2QfkePx65VRq/cIXQubceJeZlgUEYxTTrajGTqMuowsm6MACBYc3cndL8rMfPwfdAAAAxwGf\n",
       "tHRBXwAAD9WCFGti9x8s9ICe6a9AhHTAAOuYjNHirc3I8ANPXWnAIPJJJrlmZUCoeeb7aSUxYnb6\n",
       "BUXPk+bkCpAwjywPfszHEqbhnkXorScQDry93i6PNEW7rfPcqekopZLATJDoBarI+I/5s2OAoiv2\n",
       "zOvzgO5Zo3k/aiX9huDKgRI8QVFuYSlxoudJP++HJ3QA8L2WnzpeSkCgABeAsaeKq4dsY/N3Iz8I\n",
       "C9xRgxPsCul5pWVDyOWpsGpVEy7jqSbQAbMAAACmAZ+2akFfAAAOj4iAC91x2DA3g4hJw5IpKHra\n",
       "NpiC3Xu8VjKjdKeyglGGQz4RsZIZQU/s66UJMkCAQBDB7X9X+aIHwg1p7fhvrXsvJ8xFEfQwGe3t\n",
       "BId4odf5CxFhMsb/cmk5ea32oEc9HFvQpy8+5pL0+DzlNBQQMGOEUKQRgernJf6AkanqiVb7VZ/l\n",
       "l2HuxYXwMfzJ40chXr46HzHF0jBGMBQKmQAAAb1Bm7tJqEFsmUwIL//+2qZYABXZXKlABDs7mjRh\n",
       "FcDkJh7IOwzzRCIaS74Q0kqN4lTO+v/3neLlLBeF1qX07gfhnj/WNtVgDOjtYJU/9Om89T1UUgfZ\n",
       "TkdoDdqi2gbDCAkHSyX58E5RIhzwAZv+MUJLf4/c+y6ZLAeaNUs3npXmUvLQAh3cdg3mRh1os3eA\n",
       "kRRSz+McWbcmsBdpyKQLhXR8K+sQnkVmPklrUz0TApDTF8y0A0ypsEhaLOlsy2RoU3PWtHTX1szt\n",
       "xOMd6PNxWiqSnwz6HJoPQM/PYRN0/govFyHAfspVRSl3M0nUQ5HyFa+gA1rkWMTO3NsNVAhiM6nZ\n",
       "RRXmrH1uMAFMFnrsR5h1bx8Lmxj0JsFbL2vcxxX/sPdIyDXTKySajUxsckF2WU8Q5qslhWIqptlQ\n",
       "jBo1aQ0szY1ai63SPiqq7NHr+W580NQ2bNeT3cpCZTJ5XxhULTeIXZzmtnY5PfVCXDa9zcBVZ23g\n",
       "P0BIgsWD3RjB7e+ivYr8Jo0ygJKW22BANUAzaBFrbsJPnkWoi3+OfUVdhNlFsq2AABT0iafrAlGH\n",
       "Cz/O360QCkxMAAXWp/iLAAq5AAABAkGf2UUVLBb/AAAJYtoSAAHXzU0nQRvY6UcXQ17ugF+hgkDR\n",
       "5RFCCLXn3FKLptFquC2q5qX5SwtsPhejGOoNTo4bRRU4vbQXsylH6/sPNokiQM5tApwohAPE/N0d\n",
       "nVroJSDIrMHlieTCkbvrLPgWUFYyoBwHusT7qH59eDhQlMWdlCR4vRUd1ifT53al3/ZF39TAcSTm\n",
       "PI+m0w3POdbUlfuvenm5VyvFBnCbzYxERrfCV5B6Z1gew3qQUNjiBzGuV8qRZC3f87KWVD4whch1\n",
       "O3KlG1R1oblJ++3OB23nBCHQ5qIhdLhMlhedAK1a7gFqLbx/oFWJ+9j3eEinqkeWQAggYAAAAOgB\n",
       "n/h0QV8AAA508NzgA5eSLy3GD6j4mYaH3IClPx308SnSIj1akMNYeN3ZqwKpSD/BS27j0ge3u6Gx\n",
       "ATvocxeaRGxpBD+vNluBeV/f52a1fXfwXl7tV56u5vfj9qwWs7YxjHChO437wDXz0acoi20SH3SL\n",
       "sxknboGCBHRUABDCV6xZ0ZmhE8B7viSnHQR5hPIEn/5RRKVX/wKXVZDLzbLhhOP4Jq1Y2JKiTweM\n",
       "lCvQrFHxHRa8G1VRvYYBN+obrNskuQDYswAXlWVm8Vt/I6VLRgpqOXS47Ux19zGzACKjICBu9CPT\n",
       "AC0hAAAAwwGf+mpBXwAADo+IgAvaT71oA0sDITBPfdd8K1BaT14kN2JYOxbTQjbjioPbFxuipndf\n",
       "aqDIRC2aeiNF0sOg554L0J5u0wPQStpnp6w5zklspREOQw93LK10u5KnkC8Va5Ssj2z2PD/uPFm8\n",
       "Jc9PLpfB6VO2bKgb+lBOa/pI2ZOfQj8oBntLoBzhZtRjrQvfhkOAIRhvPUDnn0chWEcHv2Fwot4x\n",
       "UplhOYazgKaz4iUvBezS5f1pSDQFl/4gI8S0/dqA/wAAAbdBm/5JqEFsmUwIK//+1qVQABgNolGN\n",
       "jBx7x2OVOfAAQ6lEMbeodubL2TpjVIsx8Kga9cPXdx93OM+n07FoWKmrsFQ2FFDIjYus7niFAdNw\n",
       "uKvFa7nvtQcSGhdnwor3LvgXwi8sOhWoarALYv6VUGv3LibXgWQ1fsw1CBZOiVv7q3Z7a4HgYytJ\n",
       "6kw5vOc7jZ9dpaTBTYYTC+bVriTMtAE6asRp/wp6hbNSgFA55ZByXvnpnh4KiHyYaLtsZU5aeJAg\n",
       "LYm5O4jhXM4cnYWTXTcNBphg8rclcoJ2fmpItwgwzeqDgEh6Cl4C6r29YcEQ845G1sFkFWFXMqqJ\n",
       "CYAPRWlegjMi6xGXz6Y+3rK9HTWxP8HVxy+xQCFEqvJ9imdznvz6ADvm6AKWC7BSiKkmBa6bdbU+\n",
       "A4M8nWDqd36kyzZ4ZNDSsf6BfORSC2Ir13Y1CN+fGVuzWoY2G8QGITn562jNt/fwSriFn2tkZLYx\n",
       "9lqzPb9p3WbIWsio6NHMXVY/K22YV5zbduIYyit4liVZPNPQ3f1Dw6RFeIk3cFACxq4NutBx80cU\n",
       "OrSAk/ggWnYp6PyIeeaUuAUFAAAAzEGeHEUVLBX/AAAP1bH6N8KgdPwPSKS4KEwAmdKTyVgBYhU9\n",
       "94RHylA07eLe+pnCRapPfK2XOuG4SUMb7M47JF6gr0xsgLaaOB3rqV6nbDVd8AjmgsaZAhmdbakZ\n",
       "fYR/++zHbxMaT1vfMfs9FSxjT7e+Rj2Mla7HArnEyhmc6nTYmOz1lQiaUSOH4anLRJMqFHV/bO8J\n",
       "LX41H+uOBu8hSLXmyiALNckhzI/qzH3bttKQgADnANGJw7WTaoPClOBb973oa97nu/i60Fgk4QAA\n",
       "ALEBnj1qQV8AAA/Vsfo3wqB5E8IAL2NhSXIaEHshDOR90k9UFKV4xtX5rCuu8fEXc9IsTRxcMppS\n",
       "+cM6zbpwOr0KZUQTH38OLsb5tc6EktxDd6nhknO44zVSKi55CHHLr/nXJJv3iFxZYhDFLOJgI5CA\n",
       "ZKDwrRtAU5754/LPxEhFGjv95tPMVduxzDvysAAFz8iKb+bcujqbB7W6+B6FS9v2Jr0HXr4bv5Lm\n",
       "R7npok4wVsAAAASXbW9vdgAAAGxtdmhkAAAAAAAAAAAAAAAAAAAD6AAAeRgAAQAAAQAAAAAAAAAA\n",
       "AAAAAAEAAAAAAAAAAAAAAAAAAAABAAAAAAAAAAAAAAAAAABAAAAAAAAAAAAAAAAAAAAAAAAAAAAA\n",
       "AAAAAAAAAAAAAgAAA8F0cmFrAAAAXHRraGQAAAADAAAAAAAAAAAAAAABAAAAAAAAeRgAAAAAAAAA\n",
       "AAAAAAAAAAAAAAEAAAAAAAAAAAAAAAAAAAABAAAAAAAAAAAAAAAAAABAAAAAAtAAAALQAAAAAAAk\n",
       "ZWR0cwAAABxlbHN0AAAAAAAAAAEAAHkYAACAAAABAAAAAAM5bWRpYQAAACBtZGhkAAAAAAAAAAAA\n",
       "AAAAAABAAAAHwABVxAAAAAAALWhkbHIAAAAAAAAAAHZpZGUAAAAAAAAAAAAAAABWaWRlb0hhbmRs\n",
       "ZXIAAAAC5G1pbmYAAAAUdm1oZAAAAAEAAAAAAAAAAAAAACRkaW5mAAAAHGRyZWYAAAAAAAAAAQAA\n",
       "AAx1cmwgAAAAAQAAAqRzdGJsAAAAuHN0c2QAAAAAAAAAAQAAAKhhdmMxAAAAAAAAAAEAAAAAAAAA\n",
       "AAAAAAAAAAAAAtAC0ABIAAAASAAAAAAAAAABAAAAAAAAAAAAAAAAAAAAAAAAAAAAAAAAAAAAAAAA\n",
       "AAAAGP//AAAANmF2Y0MBZAAf/+EAGWdkAB+s2UC0FuhAAAADAEAAAAMAg8YMZYABAAZo6+PLIsD9\n",
       "+PgAAAAAHHV1aWRraEDyXyRPxbo5pRvPAyPzAAAAAAAAABhzdHRzAAAAAAAAAAEAAAAfAABAAAAA\n",
       "ABRzdHNzAAAAAAAAAAEAAAABAAAA+GN0dHMAAAAAAAAAHQAAAAEAAIAAAAAAAQAAwAAAAAABAABA\n",
       "AAAAAAEAAQAAAAAAAgAAQAAAAAABAAFAAAAAAAEAAIAAAAAAAQAAAAAAAAABAABAAAAAAAEAAUAA\n",
       "AAAAAQAAgAAAAAABAAAAAAAAAAEAAEAAAAAAAQAAwAAAAAABAABAAAAAAAEAAUAAAAAAAQAAgAAA\n",
       "AAABAAAAAAAAAAEAAEAAAAAAAQABQAAAAAABAACAAAAAAAEAAAAAAAAAAQAAQAAAAAABAAFAAAAA\n",
       "AAEAAIAAAAAAAQAAAAAAAAABAABAAAAAAAEAAQAAAAAAAgAAQAAAAAAcc3RzYwAAAAAAAAABAAAA\n",
       "AQAAAB8AAAABAAAAkHN0c3oAAAAAAAAAAAAAAB8AACMaAAAIggAAAisAAAkJAAABZwAAAVoAAAlF\n",
       "AAABHgAAAOoAAADjAAAG0AAAANcAAADvAAAArgAAA18AAADWAAADpAAAAMIAAACgAAAAtQAAA4gA\n",
       "AADRAAAAywAAAKoAAAHBAAABBgAAAOwAAADHAAABuwAAANAAAAC1AAAAFHN0Y28AAAAAAAAAAQAA\n",
       "ADAAAABidWR0YQAAAFptZXRhAAAAAAAAACFoZGxyAAAAAAAAAABtZGlyYXBwbAAAAAAAAAAAAAAA\n",
       "AC1pbHN0AAAAJal0b28AAAAdZGF0YQAAAAEAAAAATGF2ZjU4Ljc2LjEwMA==\n",
       "\">\n",
       "  Your browser does not support the video tag.\n",
       "</video>"
      ],
      "text/plain": [
       "<IPython.core.display.HTML object>"
      ]
     },
     "execution_count": 84,
     "metadata": {},
     "output_type": "execute_result"
    }
   ],
   "source": [
    "HTML(anim.to_html5_video())"
   ]
  },
  {
   "cell_type": "code",
   "execution_count": null,
   "id": "raised-selection",
   "metadata": {},
   "outputs": [],
   "source": []
  }
 ],
 "metadata": {
  "kernelspec": {
   "display_name": "torch",
   "language": "python",
   "name": "torch"
  },
  "language_info": {
   "codemirror_mode": {
    "name": "ipython",
    "version": 3
   },
   "file_extension": ".py",
   "mimetype": "text/x-python",
   "name": "python",
   "nbconvert_exporter": "python",
   "pygments_lexer": "ipython3",
   "version": "3.7.2"
  }
 },
 "nbformat": 4,
 "nbformat_minor": 5
}
