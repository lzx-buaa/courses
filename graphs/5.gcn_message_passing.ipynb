{
 "cells": [
  {
   "cell_type": "code",
   "execution_count": 1,
   "id": "abroad-hepatitis",
   "metadata": {},
   "outputs": [],
   "source": [
    "import numpy as np\n",
    "from scipy.linalg import sqrtm \n",
    "from scipy.special import softmax\n",
    "import networkx as nx\n",
    "from networkx.algorithms.community.modularity_max import greedy_modularity_communities\n",
    "import matplotlib.pyplot as plt\n",
    "from matplotlib import animation\n",
    "%matplotlib inline\n",
    "from IPython.display import HTML"
   ]
  },
  {
   "cell_type": "code",
   "execution_count": 59,
   "id": "pharmaceutical-marine",
   "metadata": {},
   "outputs": [
    {
     "data": {
      "text/plain": [
       "array([[0, 1, 0, 0, 0],\n",
       "       [1, 0, 1, 0, 0],\n",
       "       [0, 1, 0, 1, 1],\n",
       "       [0, 0, 1, 0, 0],\n",
       "       [0, 0, 1, 0, 0]])"
      ]
     },
     "execution_count": 59,
     "metadata": {},
     "output_type": "execute_result"
    }
   ],
   "source": [
    "A = np.array(\n",
    "    [[0, 1, 0, 0, 0], [1, 0, 1, 0, 0], [0, 1, 0, 1, 1], [0, 0, 1, 0, 0], [0, 0, 1, 0, 0]]\n",
    ")\n",
    "A.shape\n",
    "A"
   ]
  },
  {
   "cell_type": "code",
   "execution_count": 60,
   "id": "described-overall",
   "metadata": {},
   "outputs": [
    {
     "data": {
      "text/plain": [
       "array([[1],\n",
       "       [2],\n",
       "       [3],\n",
       "       [4],\n",
       "       [5]])"
      ]
     },
     "execution_count": 60,
     "metadata": {},
     "output_type": "execute_result"
    }
   ],
   "source": [
    "feats = np.arange(A.shape[0]).reshape((-1,1))+1\n",
    "feats"
   ]
  },
  {
   "cell_type": "code",
   "execution_count": 61,
   "id": "surgical-static",
   "metadata": {},
   "outputs": [
    {
     "data": {
      "text/plain": [
       "array([[1, 0],\n",
       "       [5, 0],\n",
       "       [3, 0],\n",
       "       [5, 8],\n",
       "       [5, 8]])"
      ]
     },
     "execution_count": 61,
     "metadata": {},
     "output_type": "execute_result"
    }
   ],
   "source": [
    "feats_2d = np.random.randint(low=0, high=10, size=(5,2))\n",
    "feats_2d"
   ]
  },
  {
   "cell_type": "code",
   "execution_count": 62,
   "id": "controlling-fifty",
   "metadata": {},
   "outputs": [
    {
     "data": {
      "text/plain": [
       "(5, 2)"
      ]
     },
     "execution_count": 62,
     "metadata": {},
     "output_type": "execute_result"
    }
   ],
   "source": [
    "feats_2d.shape"
   ]
  },
  {
   "cell_type": "code",
   "execution_count": 63,
   "id": "original-latex",
   "metadata": {},
   "outputs": [
    {
     "data": {
      "text/plain": [
       "array([[ 2],\n",
       "       [ 4],\n",
       "       [11],\n",
       "       [ 3],\n",
       "       [ 3]])"
      ]
     },
     "execution_count": 63,
     "metadata": {},
     "output_type": "execute_result"
    }
   ],
   "source": [
    "H = A @ feats\n",
    "H"
   ]
  },
  {
   "cell_type": "code",
   "execution_count": 64,
   "id": "hourly-friendship",
   "metadata": {},
   "outputs": [
    {
     "data": {
      "text/plain": [
       "array([[ 5,  0],\n",
       "       [ 4,  0],\n",
       "       [15, 16],\n",
       "       [ 3,  0],\n",
       "       [ 3,  0]])"
      ]
     },
     "execution_count": 64,
     "metadata": {},
     "output_type": "execute_result"
    }
   ],
   "source": [
    "H2 = A @ feats_2d\n",
    "H2"
   ]
  },
  {
   "cell_type": "markdown",
   "id": "spanish-routine",
   "metadata": {},
   "source": [
    "#### Result of message passing\n",
    "\n",
    "$H$ and $H_{2}$ represent the sum of the connected neighborhs\n",
    "\n",
    "Other aggration functions can be used:\n",
    "\n",
    "$D \\rightarrow$ Degree matrix, same size of $A$ but with neighbor size of each node in diagonal\n"
   ]
  },
  {
   "cell_type": "code",
   "execution_count": 65,
   "id": "chicken-monte",
   "metadata": {},
   "outputs": [
    {
     "data": {
      "text/plain": [
       "array([[1],\n",
       "       [2],\n",
       "       [3],\n",
       "       [1],\n",
       "       [1]])"
      ]
     },
     "execution_count": 65,
     "metadata": {},
     "output_type": "execute_result"
    }
   ],
   "source": [
    "row_sum = A.sum(axis=1).reshape(-1,1)\n",
    "row_sum"
   ]
  },
  {
   "cell_type": "code",
   "execution_count": 66,
   "id": "average-spirit",
   "metadata": {},
   "outputs": [
    {
     "data": {
      "text/plain": [
       "array([[1., 0., 0., 0., 0.],\n",
       "       [0., 2., 0., 0., 0.],\n",
       "       [0., 0., 3., 0., 0.],\n",
       "       [0., 0., 0., 1., 0.],\n",
       "       [0., 0., 0., 0., 1.]])"
      ]
     },
     "execution_count": 66,
     "metadata": {},
     "output_type": "execute_result"
    }
   ],
   "source": [
    "D = np.eye(A.shape[0],A.shape[1]) * row_sum\n",
    "D"
   ]
  },
  {
   "cell_type": "code",
   "execution_count": 67,
   "id": "rapid-roulette",
   "metadata": {},
   "outputs": [
    {
     "data": {
      "text/plain": [
       "array([[1., 0., 0., 0., 0.],\n",
       "       [0., 2., 0., 0., 0.],\n",
       "       [0., 0., 3., 0., 0.],\n",
       "       [0., 0., 0., 1., 0.],\n",
       "       [0., 0., 0., 0., 1.]])"
      ]
     },
     "execution_count": 67,
     "metadata": {},
     "output_type": "execute_result"
    }
   ],
   "source": [
    "D = np.zeros(A.shape)\n",
    "np.fill_diagonal(D, A.sum(axis=0))\n",
    "D"
   ]
  },
  {
   "cell_type": "code",
   "execution_count": 68,
   "id": "executive-beads",
   "metadata": {},
   "outputs": [
    {
     "data": {
      "text/plain": [
       "array([[1.        , 0.        , 0.        , 0.        , 0.        ],\n",
       "       [0.        , 0.5       , 0.        , 0.        , 0.        ],\n",
       "       [0.        , 0.        , 0.33333333, 0.        , 0.        ],\n",
       "       [0.        , 0.        , 0.        , 1.        , 0.        ],\n",
       "       [0.        , 0.        , 0.        , 0.        , 1.        ]])"
      ]
     },
     "execution_count": 68,
     "metadata": {},
     "output_type": "execute_result"
    }
   ],
   "source": [
    "D_inv = np.linalg.inv(D)\n",
    "D_inv"
   ]
  },
  {
   "cell_type": "markdown",
   "id": "hourly-runner",
   "metadata": {},
   "source": [
    "In order to get Average of each row, we can multiply $D^{-1}$ by the adjacency matrix $A$:\n",
    "\n",
    " $D^{-1}.A = A_{avg}$"
   ]
  },
  {
   "cell_type": "code",
   "execution_count": 69,
   "id": "seasonal-replication",
   "metadata": {},
   "outputs": [
    {
     "data": {
      "text/plain": [
       "array([[0.        , 1.        , 0.        , 0.        , 0.        ],\n",
       "       [0.5       , 0.        , 0.5       , 0.        , 0.        ],\n",
       "       [0.        , 0.33333333, 0.        , 0.33333333, 0.33333333],\n",
       "       [0.        , 0.        , 1.        , 0.        , 0.        ],\n",
       "       [0.        , 0.        , 1.        , 0.        , 0.        ]])"
      ]
     },
     "execution_count": 69,
     "metadata": {},
     "output_type": "execute_result"
    }
   ],
   "source": [
    "D_inv @ A"
   ]
  },
  {
   "cell_type": "markdown",
   "id": "compound-lingerie",
   "metadata": {},
   "source": [
    "Now if we used the scaled adjacency matrix $A_{avg}$ to multiply the features, we will get the average feature of each node (another way to aggreagate nodes instead of sum)"
   ]
  },
  {
   "cell_type": "code",
   "execution_count": 70,
   "id": "sudden-runner",
   "metadata": {},
   "outputs": [
    {
     "data": {
      "text/plain": [
       "array([[2.        ],\n",
       "       [2.        ],\n",
       "       [3.66666667],\n",
       "       [3.        ],\n",
       "       [3.        ]])"
      ]
     },
     "execution_count": 70,
     "metadata": {},
     "output_type": "execute_result"
    }
   ],
   "source": [
    "H = D_inv @ A @ feats\n",
    "H"
   ]
  },
  {
   "cell_type": "markdown",
   "id": "written-survivor",
   "metadata": {},
   "source": [
    "## Normalized Adjacency Matrix $\\hat{A}$\n",
    "\n",
    "- Adding self-connections to adjacency matrix\n",
    "- If include self connection, we include the node itself in the aggregation (comes from the derivation of convolution on graph see paper for derivation)"
   ]
  },
  {
   "cell_type": "code",
   "execution_count": 71,
   "id": "given-congo",
   "metadata": {},
   "outputs": [
    {
     "data": {
      "text/plain": [
       "array([[1., 0., 0., 0., 0.],\n",
       "       [0., 1., 0., 0., 0.],\n",
       "       [0., 0., 1., 0., 0.],\n",
       "       [0., 0., 0., 1., 0.],\n",
       "       [0., 0., 0., 0., 1.]])"
      ]
     },
     "execution_count": 71,
     "metadata": {},
     "output_type": "execute_result"
    }
   ],
   "source": [
    "A_self = np.eye(A.shape[0],A.shape[1])\n",
    "A_self"
   ]
  },
  {
   "cell_type": "code",
   "execution_count": 72,
   "id": "solid-replica",
   "metadata": {},
   "outputs": [
    {
     "data": {
      "text/plain": [
       "array([[1., 1., 0., 0., 0.],\n",
       "       [1., 1., 1., 0., 0.],\n",
       "       [0., 1., 1., 1., 1.],\n",
       "       [0., 0., 1., 1., 0.],\n",
       "       [0., 0., 1., 0., 1.]])"
      ]
     },
     "execution_count": 72,
     "metadata": {},
     "output_type": "execute_result"
    }
   ],
   "source": [
    "A_tilde = A_self + A\n",
    "A_tilde"
   ]
  },
  {
   "cell_type": "code",
   "execution_count": 73,
   "id": "marked-minnesota",
   "metadata": {},
   "outputs": [],
   "source": [
    "g = nx.from_numpy_array(A)\n",
    "pos = nx.planar_layout(g)\n",
    "node_labels = {i: i+1 for i in range(g.number_of_nodes())}"
   ]
  },
  {
   "cell_type": "code",
   "execution_count": 74,
   "id": "thirty-recognition",
   "metadata": {},
   "outputs": [
    {
     "data": {
      "text/plain": [
       "False"
      ]
     },
     "execution_count": 74,
     "metadata": {},
     "output_type": "execute_result"
    }
   ],
   "source": [
    "nx.is_eulerian(g)"
   ]
  },
  {
   "cell_type": "code",
   "execution_count": 75,
   "id": "labeled-traveler",
   "metadata": {},
   "outputs": [
    {
     "data": {
      "text/plain": [
       "{0: 1, 1: 2, 2: 3, 3: 4, 4: 5}"
      ]
     },
     "execution_count": 75,
     "metadata": {},
     "output_type": "execute_result"
    }
   ],
   "source": [
    "node_labels"
   ]
  },
  {
   "cell_type": "code",
   "execution_count": 76,
   "id": "partial-whole",
   "metadata": {},
   "outputs": [
    {
     "data": {
      "image/png": "[encoded data removed]",
      "text/plain": [
       "<Figure size 720x720 with 1 Axes>"
      ]
     },
     "metadata": {},
     "output_type": "display_data"
    }
   ],
   "source": [
    "fig, ax = plt.subplots(figsize=(10,10))\n",
    "nx.draw(\n",
    "    g, pos, with_labels=True, \n",
    "    labels=node_labels, \n",
    "    node_color='#83C167', \n",
    "    ax=ax, edge_color='gray', node_size=1500, font_size=30, font_family='serif'\n",
    ")"
   ]
  },
  {
   "cell_type": "markdown",
   "id": "underlying-organizer",
   "metadata": {},
   "source": [
    "$\n",
    "\\hat{A} = \\tilde{D}^{1/2} \\; \\tilde{A} \\; \\tilde{D}^{1/2}\n",
    "$\n",
    "\n",
    "or put differently, normalize connections on the adjacency matrix but using connections of both source and destination nodes\n",
    "\n",
    "For a particular value in the adjecenty matrix:  \n",
    "$\n",
    "\\hat{A}_{i,j} = \\frac{1}{\\sqrt{\\tilde{d}_{i}\\tilde{d}_{j}}} \\tilde{A}_{i,j} \n",
    "$"
   ]
  },
  {
   "cell_type": "code",
   "execution_count": 77,
   "id": "industrial-canadian",
   "metadata": {},
   "outputs": [
    {
     "data": {
      "text/plain": [
       "array([[0.70710678, 0.        , 0.        , 0.        , 0.        ],\n",
       "       [0.        , 0.57735027, 0.        , 0.        , 0.        ],\n",
       "       [0.        , 0.        , 0.5       , 0.        , 0.        ],\n",
       "       [0.        , 0.        , 0.        , 0.70710678, 0.        ],\n",
       "       [0.        , 0.        , 0.        , 0.        , 0.70710678]])"
      ]
     },
     "execution_count": 77,
     "metadata": {},
     "output_type": "execute_result"
    }
   ],
   "source": [
    "D = np.zeros(A_tilde.shape)\n",
    "np.fill_diagonal(D, A_tilde.sum(axis=0))\n",
    "# D_inv = np.linalg.inv(D)\n",
    "# D_inv\n",
    "D_tilde = np.linalg.inv(sqrtm(D))\n",
    "D_tilde"
   ]
  },
  {
   "cell_type": "code",
   "execution_count": 78,
   "id": "eligible-distribution",
   "metadata": {},
   "outputs": [
    {
     "data": {
      "text/plain": [
       "(5, 5)"
      ]
     },
     "execution_count": 78,
     "metadata": {},
     "output_type": "execute_result"
    }
   ],
   "source": [
    "A_hat = D_tilde @ A_tilde @ D_tilde\n",
    "A_hat.shape"
   ]
  },
  {
   "cell_type": "code",
   "execution_count": 79,
   "id": "quality-harris",
   "metadata": {},
   "outputs": [
    {
     "data": {
      "text/plain": [
       "array([0.5       , 0.40824829, 0.        , 0.        , 0.        ,\n",
       "       0.40824829, 0.33333333, 0.28867513, 0.        , 0.        ,\n",
       "       0.        , 0.28867513, 0.25      , 0.35355339, 0.35355339,\n",
       "       0.        , 0.        , 0.35355339, 0.5       , 0.        ,\n",
       "       0.        , 0.        , 0.35355339, 0.        , 0.5       ])"
      ]
     },
     "execution_count": 79,
     "metadata": {},
     "output_type": "execute_result"
    }
   ],
   "source": [
    "A_hat.flatten()"
   ]
  },
  {
   "cell_type": "markdown",
   "id": "severe-grass",
   "metadata": {},
   "source": [
    "## Water Drop Experiment"
   ]
  },
  {
   "cell_type": "code",
   "execution_count": 80,
   "id": "accepted-thesaurus",
   "metadata": {},
   "outputs": [
    {
     "name": "stdout",
     "output_type": "stream",
     "text": [
      "Initial Matrix H \n",
      "[[20.]\n",
      " [ 0.]\n",
      " [ 0.]\n",
      " [ 0.]\n",
      " [ 0.]]\n",
      "------------------------------\n",
      "Iteration \n",
      "0\n",
      "Matrix H \n",
      "[[10.        ]\n",
      " [ 8.16496581]\n",
      " [ 0.        ]\n",
      " [ 0.        ]\n",
      " [ 0.        ]]\n",
      "------------------------------\n",
      "Iteration \n",
      "5\n",
      "Matrix H \n",
      "[[4.82317387]\n",
      " [4.90241831]\n",
      " [3.5840702 ]\n",
      " [2.05198688]\n",
      " [2.05198688]]\n",
      "------------------------------\n",
      "Iteration \n",
      "10\n",
      "Matrix H \n",
      "[[3.5357773 ]\n",
      " [4.06686307]\n",
      " [4.14925521]\n",
      " [2.80771001]\n",
      " [2.80771001]]\n",
      "------------------------------\n",
      "Iteration \n",
      "15\n",
      "Matrix H \n",
      "[[3.19754058]\n",
      " [3.84688898]\n",
      " [4.2982832 ]\n",
      " [3.00615574]\n",
      " [3.00615574]]\n",
      "------------------------------\n"
     ]
    }
   ],
   "source": [
    "H = np.zeros((g.number_of_nodes(), 1))\n",
    "H[0,0] = 20 # the \"water drop\"\n",
    "#H[-1,0] = -2\n",
    "## \n",
    "iters = 20\n",
    "results = [H.flatten()]\n",
    "print(f\"Initial Matrix H \\n{H}\")\n",
    "print(\"-\"*30)\n",
    "for i in range(iters):\n",
    "    H = A_hat @ H\n",
    "    results.append(H.flatten())\n",
    "    if i%5 ==0:\n",
    "        print(f\"Iteration \\n{i}\")\n",
    "        print(f\"Matrix H \\n{H}\")\n",
    "        print(\"-\"*30)"
   ]
  },
  {
   "cell_type": "code",
   "execution_count": 84,
   "id": "invisible-holocaust",
   "metadata": {},
   "outputs": [
    {
     "data": {
      "text/plain": [
       "(0.0, 20.0)"
      ]
     },
     "execution_count": 84,
     "metadata": {},
     "output_type": "execute_result"
    }
   ],
   "source": [
    "results[0].min(), results[0].max()"
   ]
  },
  {
   "cell_type": "code",
   "execution_count": 85,
   "id": "refined-class",
   "metadata": {},
   "outputs": [
    {
     "name": "stdout",
     "output_type": "stream",
     "text": [
      "Initial signal input: \n",
      "[20.  0.  0.  0.  0.]\n",
      "Final signal output after running 20 steps of message-passing:  \n",
      "[3.11834192 3.79538238 4.33317752 3.05262228 3.05262228]\n"
     ]
    }
   ],
   "source": [
    "print(f\"Initial signal input: \\n{results[0]}\")\n",
    "print(f\"Final signal output after running {iters} steps of message-passing:  \\n{results[-1]}\")"
   ]
  },
  {
   "cell_type": "code",
   "execution_count": 86,
   "id": "activated-forestry",
   "metadata": {},
   "outputs": [
    {
     "data": {
      "text/plain": [
       "array([3.11834192, 3.79538238, 4.33317752, 3.05262228, 3.05262228])"
      ]
     },
     "execution_count": 86,
     "metadata": {},
     "output_type": "execute_result"
    }
   ],
   "source": [
    "results[-1]"
   ]
  },
  {
   "cell_type": "code",
   "execution_count": 87,
   "id": "digital-technology",
   "metadata": {},
   "outputs": [
    {
     "data": {
      "image/png": "[encoded data removed]",
      "text/plain": [
       "<Figure size 720x720 with 1 Axes>"
      ]
     },
     "metadata": {},
     "output_type": "display_data"
    }
   ],
   "source": [
    "\n",
    "fig, ax = plt.subplots(figsize=(10, 10))\n",
    "\n",
    "kwargs = {'cmap': 'hot', 'node_size': 1500, 'edge_color': 'gray', \n",
    "          'vmin': np.array(results).min(), 'vmax': np.array(results).max()*1.1}\n",
    "\n",
    "def update(idx):\n",
    "    ax.clear()\n",
    "    colors = results[idx]\n",
    "    nx.draw(g, pos, node_color=colors, ax=ax, **kwargs)\n",
    "    ax.set_title(f\"Iter={idx}\", fontsize=20)\n",
    "\n",
    "anim = animation.FuncAnimation(fig, update, frames=len(results), interval=1000, repeat=True)"
   ]
  },
  {
   "cell_type": "code",
   "execution_count": 88,
   "id": "moved-permit",
   "metadata": {},
   "outputs": [],
   "source": [
    "# anim.save(\n",
    "#     'water_drop.gif', \n",
    "#     writer='PillowWriter', \n",
    "#     fps=2,\n",
    "#     savefig_kwargs={'transparent': True, 'facecolor': 'none'},\n",
    "# )"
   ]
  },
  {
   "cell_type": "code",
   "execution_count": 89,
   "id": "alert-crown",
   "metadata": {},
   "outputs": [],
   "source": [
    "anim.save(\n",
    "    'water_drop.mp4', \n",
    "    dpi=600, bitrate=-1,\n",
    "    savefig_kwargs={'transparent': True, 'facecolor': 'none'},\n",
    ")"
   ]
  },
  {
   "cell_type": "code",
   "execution_count": 90,
   "id": "proof-lighting",
   "metadata": {},
   "outputs": [
    {
     "name": "stdout",
     "output_type": "stream",
     "text": [
      "1.label_propagation.ipynb        requirements.txt\r\n",
      "2.embeddings_benchmark_GEM.ipynb sbm.gpickle\r\n",
      "3.graph_jazz_embeddings.ipynb    sbm_node_labels.pickle\r\n",
      "4.spectral_clustering.ipynb      water_drop.gif\r\n",
      "5.gcn_message_passing.ipynb      water_drop.mp4\r\n",
      "karate.edgelist\r\n"
     ]
    }
   ],
   "source": [
    "!ls"
   ]
  },
  {
   "cell_type": "code",
   "execution_count": 91,
   "id": "veterinary-broad",
   "metadata": {},
   "outputs": [
    {
     "data": {
      "text/html": [
       "<video width=\"720\" height=\"720\" controls autoplay loop>\n",
       "  <source type=\"video/mp4\" src=\"data:video/mp4;base64,AAAAIGZ0eXBNNFYgAAACAE00ViBpc29taXNvMmF2YzEAAAAIZnJlZQAAROhtZGF0AAACrgYF//+q\n",
       "3EXpvebZSLeWLNgg2SPu73gyNjQgLSBjb3JlIDE2MSByMzA0OSA1NWQ1MTdiIC0gSC4yNjQvTVBF\n",
       "Ry00IEFWQyBjb2RlYyAtIENvcHlsZWZ0IDIwMDMtMjAyMSAtIGh0dHA6Ly93d3cudmlkZW9sYW4u\n",
       "b3JnL3gyNjQuaHRtbCAtIG9wdGlvbnM6IGNhYmFjPTEgcmVmPTMgZGVibG9jaz0xOjA6MCBhbmFs\n",
       "eXNlPTB4MzoweDExMyBtZT1oZXggc3VibWU9NyBwc3k9MSBwc3lfcmQ9MS4wMDowLjAwIG1peGVk\n",
       "X3JlZj0xIG1lX3JhbmdlPTE2IGNocm9tYV9tZT0xIHRyZWxsaXM9MSA4eDhkY3Q9MSBjcW09MCBk\n",
       "ZWFkem9uZT0yMSwxMSBmYXN0X3Bza2lwPTEgY2hyb21hX3FwX29mZnNldD0tMiB0aHJlYWRzPTIy\n",
       "IGxvb2thaGVhZF90aHJlYWRzPTMgc2xpY2VkX3RocmVhZHM9MCBucj0wIGRlY2ltYXRlPTEgaW50\n",
       "ZXJsYWNlZD0wIGJsdXJheV9jb21wYXQ9MCBjb25zdHJhaW5lZF9pbnRyYT0wIGJmcmFtZXM9MyBi\n",
       "X3B5cmFtaWQ9MiBiX2FkYXB0PTEgYl9iaWFzPTAgZGlyZWN0PTEgd2VpZ2h0Yj0xIG9wZW5fZ29w\n",
       "PTAgd2VpZ2h0cD0yIGtleWludD0yNTAga2V5aW50X21pbj0xIHNjZW5lY3V0PTQwIGludHJhX3Jl\n",
       "ZnJlc2g9MCByY19sb29rYWhlYWQ9NDAgcmM9Y3JmIG1idHJlZT0xIGNyZj0yMy4wIHFjb21wPTAu\n",
       "NjAgcXBtaW49MCBxcG1heD02OSBxcHN0ZXA9NCBpcF9yYXRpbz0xLjQwIGFxPTE6MS4wMACAAAAX\n",
       "pmWIhAAX//731LfMsu1Tb7YLqPeiniZfQ3UlAZuWxO06gAAAAwAAAwAAAwDpVIJjfO4A0Yy0AAAD\n",
       "AFPACpgXKxLUtLwHeGfiAKL2hw9L2aJ/Umro+8ylJFXVZxvdzuzGGDbVJ6bax3YgL0dAiV8gBQ0C\n",
       "JqZDwtGw7ko4qbeS0kXS+pCEOg113G6YyHEsBDqIFfdg1Y88LfR1W9u4+acygBmBo6JroF698smc\n",
       "I0ciD2qAQw8Yx9Am/e6NRWqXwKwGWsjS+RRRQz6Wdi7EA5ZVGLTeTPmz9SUAPspJSF9UdGC37lDZ\n",
       "gd8ytLlZVctCdsmZg/vElWM3+1qdL89fwkqRPbvAKd2BjQSri1zfSoB8VU7Bm71P1Qn9vuNhZJ7r\n",
       "lrWwK+Cso3LTYFJnB91L0e2Aw3mKdg8fRdBEGWc3TyD96P+/Ccxwh9TZbRrCWT1M17oYNQLObkhU\n",
       "b/28YJd1rHkhHA/or3UnUF6azhSL7rU/zbNFPKe5iOjNl9pj9wlIBr8l00cPY7cui1xsWhudSIsT\n",
       "cjEbPe6wyl36DciNKDqwp5YhhpRS0P1gAvyGhfeSPYbyE2mxsIj0mG9T1e66Lxcvgf8d0MiOdacr\n",
       "Yooohz6UilzvpGXXtTXHR3XHQxoZ/Z6zB30QSnbhZemDZHAHLpqZO/6ikSiQBBZNOicDuGjPfAgg\n",
       "HmVegdUwlO2Xh5oVFsaNcUcZBHMruZHYLmq1WuqbWAiBArOWetynPwhfcQHTkKr3iiK7gl4Z32+c\n",
       "SyIPC//DPc/7kO4cIv5+e8Tcr+AGVS7D3171ukVhcuCOXiOrP1dmZQO6ccFT3xdDupgXrf/crIaI\n",
       "l//ULQHBRILdKPkHKD7t5M5MEeKd8O2ccLQEVuBEoroTHOi9S+YR+FbkVuXLuRyU5smg2/m+57Pt\n",
       "tO9cPRYna4VB0XKbqZ6ueFye7Efleo7L93/ZrTDtH1nW247BNVF5nTpTDSs9vXOLJ3a7kS9WeKLb\n",
       "6X8bxN6SI1aIObe8wXPeLq1CD4VutYiX/DYo48lghNmRUMssiiuUQd8iZjdfB/XW4GwVZ+vT+h6r\n",
       "f/UcLSdUQp8b53DNBIfCf0hFny4Zx/+7DJOMp6n0HatVbJlY38ixc1c1y4rfpp4MQUKQMnEnvTvM\n",
       "Rsk0D3htJEjTxaM2J1seUh/HmlXf3dZ0v7cxMHJdx0Gc2w/80szxqkHlhdiNW0sBdh30r/p62PDG\n",
       "aqdcWJGuNHDvthmj7AFmKFPNyW8YrKVVD2EimzIJQlwiueOV6s62JrG7jvcwe9kopisu9NOXlAfr\n",
       "plrahKz/VoiEOpQUYH7vabsPmdnuCjic24GimoLphx4MSp+3wa1+QbYQl7S+5RR9x0noIQMY2PAK\n",
       "murwZU7sMly2yS8IIr0H26+vBBIw5uUC1Cr5PiLFRsJalC5Wh0ZmEXi6ZyIWGt0TGtiZmYL2YRHM\n",
       "9xP3iba6Hd+rGLPm2TOBM/p/3QP4b1PtzyG8MhThiYHK8BpCGga1A1dQS2Aa9Z5t3VTQ97DbXKZj\n",
       "oXlfwzTCOmF1lR7fMbAFkhzKgctGshwWipnEWjY4oq6i19XtV2Wt8udMKY8gU5iXIuLPeEJ/+B48\n",
       "MnruhX4XpolP21SR1Yj7spigX6nq4hgh3q27l42zTiRGzFSorXKn5H9TrPVaZs6bWs9/x1U+YheM\n",
       "HmhabeMXq35sgObN3M1OzKbxSesBeIxf4gtbGZP4f9xOf6Suo65W5dRhmuZLn2vO0s8E3KeHSQ43\n",
       "fYx0O2ycizhOLxZU8LSqVG0+SpmeaCIiVjGgnDhxLYWFnJNaT1H8b4g3UH4I5m1AJx48qnz3FeBB\n",
       "19QJALCFYM6065oXTdsuN5RgHzNDpw1NTYPwXZelr6hoQeo9diOwUNmQQiirF7U++9lizqicqFVF\n",
       "JDHQRrUqWV/SsfzzrDeWGrXWxtcbvg70nkmoAPdMXTP9lwEFnFvPjDcHFzACCEqnQ0lHpUdOniN6\n",
       "DBZxNPxnBjxC2hYo8o0Z4LCx4t24yBw5g9TrfvdqN75WVjWdtljfBIiTcYBygnWEP0lsblJRgvzO\n",
       "4XDPZwy4NauHeEwgeY0duCwn3x4q/4f0/kXsGHVvI0gBW9UCmeGYOy1sGUmNlUEcWBdx0XTXItPo\n",
       "GEntnL1nEb2yciyaXgla5rtEfSAhaKCR9LfvBc8MAqkXNa2KL0vZQUib/s6pUCsH3XaNuPJJ0N3S\n",
       "NqcnVQ1uRSImeEAOjz3wZ8V6+UJ3zg77N7hRHlFa0q+HhQr2RGtyyOYwEjvmtN4vM2uppLYIpXB6\n",
       "k/urcHEvicQkuAqyU26qWG7rY/mV1hSnaO26nbt+yeG4EL91jMiTUm7oDB/X8ZuSGk36q8u2d4Dy\n",
       "sYm9s2e9h/7uQBqHBolb7IKz74BexxBlhtXik8TTfOAyAX50ySNdbzTceyrRT5Pb3k0CHSfMQ+yR\n",
       "C30f5U0SgAhftzVViYQYcwPZojXx4kEpxjMw0MndRNc3wP7A9tVJV8qGmRc1jVlpYekucL/deh7S\n",
       "P2RjimcvneX24ZL/MFbKU4wgHDFRGCTlw71aw9DSeKF6tqfrn4qjC4IF9ZBHMwGSPguEyUI+Tq5X\n",
       "oqHzSA8gU0Vt0qqRK6AmqojbK33+NW0UpzrfSjUZkY7AZxlJdFTNuQ41wZjIvoTXeWGzIaPoP43b\n",
       "puREeA6fjjEK6Yp7rFXxeGVrKcmNP3E4GScc1A7PmAcDITeCKpN/J9q4RMwY8e6rFd1Nw8SfEATJ\n",
       "EwHhZAmkRlVJcLKuWY0lFzlnuDz31jyhy4tfsImHIp76SezxnveZ7YIpfm4zjJQLj8FUrLRBO9FW\n",
       "+tCfBUVlvCE9s+aedk2A3vcg6mcN6Q2N1l5lvYn9kX8h0mPK61Dq9LZVhkCNvXiNuYzGXcsi2W2D\n",
       "N2cFj75eJ8a9+Yh6VDRJlPA1uiAyGOIQ2CRg8wRmQKECOYKqacEjfsLU135PUYkSIqlFyAtWU2s+\n",
       "Vrc9iG8QY7prFDvr9fjhLLJCDIalV4DbOAdo4drTRqH//eXG/VaJ4TPwSnZz3/5mZt8skV60mADN\n",
       "Gs3Ho6pOPlGLU8Lkzc8sxFZsvrIDjw6JLat3Q4YyruUEE+doZFosvwa3xbiMKR5if4JlCFqzEYNV\n",
       "SDxGPn53K5u3ywEpBpyqlM9scUxbZLrcREvrAmY9lwKEvWR5m2JhQ6NAJE/uTWy56F6hwxXQuHpB\n",
       "ZoiekcYxbmdGoGkFYxtKys0ljOtP1cpj98BnBG7JIucSASZ5y7hm2+8VwlvyZwtN3lpA7mPBqeRZ\n",
       "qsoEIpLxlg8T539kBb9s37ToMnn6Lf+yPxZdRD0u45LC4Q88k3nB1ArAj4GW5kOXbmg/+QTUAwAD\n",
       "jgoiY+XkUOLmw6YuARtX4NnT+2KRrUz/kbtKF9MLyIJwZnHhGoflhS0AA1Zub/bh3XFSG3v4/lCO\n",
       "9K7WIaNSmDu6ZApFCEyFhujwI5UaSswxI9DvwwtnqzUb5HSRCa+WB2boREJFOgus7Nf04sMAw96F\n",
       "QsDaIXUebySN9/y896V5cd77E7Lx/FqsOSAXem2iTf3WmA7mH52SXU0E70LJc+V2Ddu/YhO523lb\n",
       "wklY0tkqpWeNSMQmQJWYcgFzJOlr0FXh7NHeAqzoM/3QqsMdrJB0NWD0ubhVXqI/8LRJ/jYAPAQL\n",
       "Vw5RHCTO9jS4bxytdqesKYnJFOnc1dltWUaHLahUgLC0SN/I8dB9093y5l4bTfKxVub1Ptl8rolq\n",
       "MAFQE4s//Hr9nHrU91rnTaxPjBrehTfYMOkwnZb7Gr8EtqhIfcngGzcVbMmIsVUAYxmk8nscxWai\n",
       "HVJ3ttJfpWDQs9UZkASiJeJzQ+c2qao+qBlD1V/UzJH48r+g8wpatD/AZBKviYQ4GkBR6j9aK4Au\n",
       "Z33dimR19wzTEyJYC8JfoLqIT7+6RXTpdcKB7TJ/fc/hY7pV8jmKcW2eZuScAUoZgrjxPkXue312\n",
       "qB5awutjb71QvR1dfqZ9u1J+VCvT+umfTJeLRcV2tgeW0lCoiXzXnFT6OljhdEinKf5OJpyVr7BK\n",
       "PIZU5TNzXt6csFZAcLbxaSNpqC9a+7KrAQY+h/AGRlILXvsnsXCBp+5Dp9nH2rBqzzDRXDkB8Fiw\n",
       "uW790N78/BJY6mAnfXZ7F+cHor34kmO3mllaNdCGupv3+XDjMtxGJ0bD6hYrYdjyJzkJJHQ5QpJC\n",
       "+3EPp3UE1bG7r4IzHZ870hWA+/wmv8/FyMEaGfvzUPzsjef38K5Kk9N3kkd7QHbxOpfjbhF/hZWA\n",
       "DHj3FrPz5zLqSOjj1naK9oLnoU88ZaIRinjovzJeUl8ARcMN2NSPLYCtz/EV6Or53QZEXllubdiq\n",
       "uA7lms3OcBbwLqyvQl+0p/9CwBart+ZwSJfZaVx6IVNK9Ls31uWka2Ja+sqrjpy+tM9H4vXBE4Cs\n",
       "djdHV42u8nlI/T8g0SJDDkG9UIXJPfnb+X+7v+ZRnf/U1f5fI4fZ7tSjKiKjzZWFxjssn0VmNlNO\n",
       "ZCjG1K50zdxb4P36G1ds+pNKFm+vS6o7I/5OjtqGNgx7jo97mlLx8YmqDw79E5zTqlcA6xaIfvax\n",
       "seb3FJ4qHqmgQM6K5MBRn5dFWjaa8MQbU3s7YejBXe37vFQzKmT1y4EHnnV/nTnLi+tDaLnaTfSs\n",
       "WT4AxvBf7WZc6qX6KpjfuKuF5Y6ry/rA/U39znifyyJW9xwtYUYhQdNeOF7tdCVb/t89jusEReT/\n",
       "JCc80JET8TnaNS+ZT/sd4dAPKzj58AsMsjtI3oxwxL3bl5vorJ3EJeweT18KMtrjnXCWJJGPAS88\n",
       "MpLN7iIiMJssgZoU4V08kW0BJVaFl7weArLp8krUf7acNeV3J2f/AWAUviQClOPrW4Pd/RmrmHWi\n",
       "px/LKdVEOGC3zdqM9e6ncU/2ghmNdm9AzhtafSwF+xXZiN47avBhn3cBbTJeHRDy9T9hbW3LvtTJ\n",
       "+cf3g4ihGGTeu3LjkbLO6VzHKy8LLkiYVP8GXn8PD1mz80Tf+NiMtw0pGTr8ikW+xDdqAw0DhURd\n",
       "AhYwplR1U8z/C5L35bXm8jx55vS3R0NBhEfvbZjLhf+6WiKKRtZws3VBtKDYaESKJEfpLuFKrp0E\n",
       "aNzwxJyL3OhC+S7FXDELSqWorOo/71jkvdlRnHWJZ3lLDasFFQh8JyUBXDyZ7LCphk/hqBFwpuzH\n",
       "8sfTZ2weWAhDX5tRbs7ZKlqY5FHiT/bW9BBZeuBgDfj3Dfj6+erPYkZugEEGEjBXpaaDTRZzAV5f\n",
       "NaKMss07XH5T+L8KlI4t42rXvn8JbopWAiLyJ5j8y6/M/ErqJJNHFtW68AtVhlBNBTwyzmNSosxM\n",
       "Tf3Dq7tGjKyllo1qxl5FWBtX112CyxVx5xFZmXbt7kCAMUaQPqpDQB5e84wx1W7LXcSDXkfV1+EC\n",
       "DeSul+BqCErYXZIjiys8TzOHzubFlN2ilUd6ncdPvX5+UAQlrUL0B8v5zIKSJIcnF2i025MRRxOt\n",
       "98ADLyZ5znLUcSQ2j1eOPvBPPMjmMHyp3/AG60YJsIiWGPr0QCCN3UzKMeaFoPnRylK6QJx6SVGI\n",
       "sTN/Og+mHvbnBqwFGxLgYJlZyaf+B6+jwk07IV//epm2WVGIJ0tuDLwYyAXgJe6iajabKBfgB0aO\n",
       "cZlY7IaJF1N/HgEg4LVWjt4WCc93QP/hb1/7yeO2zL8NPdUMzeDw0QVXj7VYsZhPxuuNzZXlMQ6C\n",
       "HDR9B1bvhDzYiegtsBCy5EdAr5B46B0J/mLNkum6Pm+pDUbSMQ+C5PyL0BMe0rmUM+ye2JhIORFR\n",
       "frZbOTJKp8HpWZTIi2swThDPcRj5GoyMpWouWdeg74HlwyGqW5SaSHeKuoq5jTAfTOliGIFzvNoQ\n",
       "Jcbn5fjdcAWbYdVQ7aSkhCB1TGRoohAkbVoDdRYYvZv0HxcqYjoySdT6Vq56F8zfiI2PGK9jWsx8\n",
       "2Vn+B2zT0HhoSrT50oGlaQvSOtdRqBFtQJRZDFMaP7CkxxBDOG9g52YgEuPnzwezF0Q7tDwiEpCR\n",
       "hCiH6MxaQ3WsMAtpIgRBxlhKR0YK1KShvO9ha9cR8XFoyrt+61pjdsnXC0fJJ4KBM45MQbaF40Vw\n",
       "LyOGFNGcNwQ+U9KTpwXbwNwPXUCVJYFpux+2CABQTKFGhjrX0Zl4Wl2jJWtRFyJgZloMbJcJFnid\n",
       "AfMg2uuD+3Vxkka3fspePzmqFUAd9/OntlLi0CNANUcih1DQijgxB2bqJnVqzYEeAVvuVXyrkQz8\n",
       "VuG1vUucY7oKH7Q18/WTtiWYQHO2oPTgSwuZfc1kmvHGAeX+W4E4AfmAMNPPWDm8lKLcfkbETYjm\n",
       "jPPvxjxtjmfe+C6yGTkIXDFGKhyAQZX+8RV+vZex9R8p1x4R/aUKH9rHoshF0gWWa0UjgANL6BdV\n",
       "FnWW+9fvYRl20Dr5OuxtGp0B63e1saVU/aVk4uJeL2ceQfwEemTf5UftaylPRNvl8aQSa28vJR56\n",
       "vnHABsZu9gcYow78nk/LkxGhfe+ePaeDuoB7agMXGmh9Ld/13IvBhP7GejaldvIbwbycSoW7RkKO\n",
       "O4vwJ70nnXqjRNEa+IAVAEY6c5OnhRFhlT47PyvvO0CkZh/mi2rNU2l4ioQ0nBzBwLSc9AfTenyN\n",
       "vSQy+zJP9IKpXCx8HQQGJfWXrczfzaADkC9GE0bvRrexnRGQenpQAPwCuoDD0GJDqCAUEdgm45gp\n",
       "BJ1hS2YQSuv81qrngy1l1XwvSu8WlA8A6tu40dQ66C0J2nZqBGUAamfSQR/e3QLzT4hC3O7mWndQ\n",
       "fMjs3glG/d2I1HlgUa/9PkgpzJbGcQuc+ytqEOTfuS5HJ+zw6RpEVBB59W5IPWBs16HYxXcu4AEL\n",
       "hf8fO2te2Cfo8BJaSBxhxCnuMLF2ifyXERNL4w3djFtO4IDeDGavGPAiaoXJqdtCIu9zWHFmHgox\n",
       "7QbAn4Kbr8WGDl+ghYIrOONuthRWDa3/A/8f7pFwtylJ/bGFRei37aIv+LPdN9QdEm2OcNQZgwIX\n",
       "5SxEaJXHik/u4H1Ms0Rap+rzN1T/HfDzyVUZCmWHLPYf/9sWDPdDyli40bfejs5vKwvklONnTQbv\n",
       "5BxPV8BvClXOi9hnJ8js/1MizPTitOjcnU3mKBH+TEqT6hFbwegX1G1ikVSwZgP5qz+pcrXu66sC\n",
       "chIVVOQu2Y7HwI25GbuQZqBWXpyZWYhl5nhpTAEJ8OXKHcvFTDddMGlNrxzeuWeQ+pURF9u8sMB8\n",
       "HcCuBsnyoF63KueWj/3f+UJK7SePYcubQZgrUEtdJDLD8mLuCaMziOP5tfP+1vZuXyIXusIXCKwB\n",
       "kAuV31it4WPzomwBjVRVw30X94atjfbmeqSl1gdr7oCAw9/+yf7lfOMDPHPaIwl4afbGSjGjfLCk\n",
       "ov7fUWhoz0u8w5cju35AUV22OSQfZqyHac/L2BBN+N4qa/9zPIzxo7t6ku4m7wIQh7UEVGy1gnwZ\n",
       "UQpBhPzKEmmUa3Ga3gLpPjMMH4rhRf5FaZERhnR3Izb8WrK2vs3dhFMLomLAbRK4fO20HIpcYNBM\n",
       "gPm30nepm/AjL9IodaQ/WLJnovlqsXjiq2UXgXCiU52wJjDPD98ub15EB+jqR128Kw2X9RklaCf0\n",
       "i+VMbmGN2bK1Y5jXZYZWyAeq1neiKUrtvv/eX2M6Pqsaf08lfx+YhrBeeWqSsbcX3zpHd22OLrM6\n",
       "GynAfq+vjrXZjY5/VuuCmT0NoqfPKEsyYEqNPiVH4ACmfspSJ4A+mutSOPXigUcOL84HAqnVlELs\n",
       "kFC2egczBKUADq8V5rKW6nJeiHQrqrjkfUYHVIJXr2kiogq38vzWKT5wHbG5YgPSjSsjC8gwdDdu\n",
       "D/atgT5sS/lAu4EDrKLQQZYcOuG/TcK/C9BgAmeqw8gJjDrAYmuYupLRbrClh7FEp4AOFTZ0d9lK\n",
       "oqebAeq47rO5AbR82/dbUGFNaWQ5qUZzqcWsftEPriT9//Vm4v/Qczhp0EjTdu5yiJ0RJT1vKRMs\n",
       "VsdxQ9nFqEGs9VCIJw2x5M2FDwFoTeVvTPvseiiud1vRbsB9h8vWqZtPN6F2+QoByYTwFu7M+Imi\n",
       "wAAAAwAAAwAAAwBMQQAACOZBmiJsQX/+2qZYABXeRYEA1x64omgADr/K/Pc7z8LwOqsDPYzvvrNP\n",
       "sGg+7hkYrO4f/wPxCJIwO/it6Tq4EIUnhP4dp1o1WgtWtv3rZctFpBTEPYcrpcd/PJPHcUuVmawm\n",
       "xIZfMG32xv5/lTBYSE4qgEEnsYLO1ID955zmoggDuktVtHbHJ//HsHczjXTnV517iwgNEVZK0RQw\n",
       "C999DLYBHqNyTk2/t4QzIOyhZ3M92WhRADng9w/xwRBIuDXC/TVvmRo2iK0WM6Naa3xis4WpoHL+\n",
       "gA/4L97Hf+CVS/hgf/+Nctgl5/+JvVjl0izHETGWTPFCx8xzIsuGyJ8oxDBCXNtymCLXGXuP/mKk\n",
       "BKjuSWiN/B16l1OHth1qoTzfZxYECcH6s+s+tgfDlBRljL51vwBXoqa9+WmeN4GCVrVrNsYLTJht\n",
       "bJ2K30Sy98zyM0HvnGw2OONGcY4DZffCfxutcG60wBrx//VRAgrPdTPSxnso1b0ynCiL8qSxAt4v\n",
       "v0wPcjQqGwBpUluWwn9T3HjllWypZJ3tdS1tbdb00onxnaEDhQEyZQnAMXyofIVAn+aEcs0049fr\n",
       "CXfKrBFpOGKXowJdzurcej9cyB3Xc2a1RARkNkiL/h8AbF8CCNkUyVQhSUmcdB6PRFco42aRbTiY\n",
       "bF1p0j3Ulw876VFv7pduirGMRRbaxRM/P/O7zXhRUZVKRaL2VTk9u7sbx6uCgAHAsuLoiq6RGaaV\n",
       "diUAxweabTFj5dRoBxl8CZBaycYBb/5tMSE4LkX5D436pGbnxgHP46Z+M/vd2T/L74v3nte3ZrRX\n",
       "SXdL0eDnYKHbpEC6rVCO8tJ6CneCe0si3YMOgc9IEdEe6fH61U2cP4ljUi38AJCPiZ/BJqt94HSc\n",
       "ASzvUet4hTR4vauAAAOjPX8SgjKbhuLyQklgG5GwQTk4v8AivdWH6sxy1zh8eKwAzF0oS3tJ2jkp\n",
       "BblIsfEb9o7Xc76Ge6A4mNVFolkwgxzKdHrsvaTcw8hnc7pgZRHHASKhhNVw5+QLbzC+XNZVFFvB\n",
       "tpWUrHFfhieRZELtvFyDZN+pbvMowLAKmaUmEGcCt5NQfZmdyHLmYeN5yjXdlD7SN25PIdb7opat\n",
       "tcr14X4Z1HVkuZT3+shM30n/P5MZ1t5QWCYqZNWR27RMaKlYy5cfbRtacHRUA8TVKwfdIsMwoQHM\n",
       "hWtyBnNWi77ZHs0ZyoasI31IlZDnivCrVlZ9HhIiprzlUL9OEUPSJXt27zTTcvMBdSZZNo24PCbw\n",
       "+U/4SZ7Ic8xo9Ci7xGAKDC7lu2GPLiBRz4DAIXk6w1B7+nfJolbfecbVkbW+gCb4j3Clq/AhXm26\n",
       "fsqwwu9sPgfGobFndI5tdwDkjvfEVKA9rbrHp2ODr4kOCtdavYsHXN7TNi8EGWvT28CPHOGuHdFX\n",
       "btZs4MjnulPDW9t5h8eFn/+3BS0JEvvYjkNieTvXHogxRKArUHsGSmu6pIsXpNDjdiPPcwh6IfYZ\n",
       "w0lzO0CtX0PVKwg1k1NPTqehTsR/w529tntoK2Qe6EOlbL0MUKy41tf8PhkF9CsPLl6VzofSVeto\n",
       "PqqKCAuIl2YLEgWrBGMHm1LcN67cMpdoGK1OKrTwArnqHl2DT14X5Tsng8QkUpBmsmGOZM0aNj/9\n",
       "9+FCb2bMMwWxW1g0jCHPG2v/wuWqB4fIrSFTaX8ggCun4L7a8L7wYKYAaPZ5PqC4rp42eaBVf7Kp\n",
       "T4HnFkHmZfLivZNWbCTCC23F1QtC3M8H2fkFfZJawfrQn2ohmMmUNZZPTN/hkd8RrI0VlU+fG5vc\n",
       "pd63pPMbbc6meLaZugk3I8lWV0e6qI0cOl8gXanc0lo2uilxiO3/FjpBBGElQ8M87F9KUIeobk5m\n",
       "ArU1xWWBtEf+A09DgwynYo0AxCkTnB2xUkXTVY93q75vbuzWjoIop+03UtKUfE4EHsIJ/9dDYIbk\n",
       "7mR8rWMfyupu+f95hdRJ4hhmlZTw8G1egWnSflHTclhwD6Al/VkupTbSyjJZYcRMHj07jxG1DlnY\n",
       "Hbq9RQNP+wBzz/qw+70vLSqJzjt1UGc4368FAMr0rahYXUUc6S2GXIkCzp0FH8yLX0IqjSvHqqps\n",
       "XYNan1YIffAR17hgNvFLY9NHc5QsElv/yvys0G4L8NARJSRHOUqLdW9fjP/Sj9r6sKvgXQDd0cGe\n",
       "E05Y9zByyIahSxv7EJ8k/89ynmz3SOdUxxjIk29msbRPvQ6A4uDpBiQY1lAaqnJpR9QeVDCf/aOK\n",
       "dBthvv3M5TUTWTFCiTgZ+GzLk6tro67LvPpr1IVnepw6UevTNM9GIqe+vlGVd4PaMFvcsVTv6AD+\n",
       "Gm+ou+YATVV+2N17t8YCNJ0isBEa5QuzsHxaO0zslAAFP0og0R3De8RWFAMhU6J4F4NSl+VAShVF\n",
       "h+WvyvJZIA3tQQK+MNCogLyjLSQSyepFwvG7g/cbejIU7BaDLTGOJWc1suFn30e4QFPZiGkQdaam\n",
       "trpwYyr7ayC8mjT4N+S1TwbhR/rzbAxYydHVboApxfPlxR60+NAKdcAQcK3e8bSODN5lW8QX1Ap0\n",
       "AHg2NZNUI+Tma9lsUoVVLGtsw4AhQ+sVz4RCqysc1CMch1EA1WE2DjzxoVu1ssFig1Wy+hb6Pzrx\n",
       "HKcLuMRhMIHjaFdx3RA0/hkzJsE6Xa9IKNv0ltdo+3RAgaMLwRl6XrrMAO7etu+dA8aDtjPE4Dwr\n",
       "n+P2ZqyFRS/GZybCXvHJsKpe7zkunnysvTjrpnQPDkVyK9sZjgTCU7YxrBha/GIgY2muJjjzVrVF\n",
       "FrLNQyMISUzck3sR+vQTwumOTenXKgpKgCngop9iI1RRylc7vANragH7EJGvCF8wzQqe3ETE02Fw\n",
       "OKv8iQfg6VAfC/WSCpsg6RbHC7ZAJpt+Dtq/WdgSX7BtspbEkJ+uIoZZZkVM0bbVnII6zdD/+v/g\n",
       "634UUS9RyG+RIciozChRLU+NGRFsEsoCIOMVuwV8Y7Fics91wb9mlhsvBbJN8x+FvMBct6JcMcrW\n",
       "JC4G04JyBwrHQS9OakOBAAACfgGeQXkFfwAADk83cLyZQV9GsPAAdMkwXmNdryOc15wZs27//7A8\n",
       "s/L0hOYpNFEs+Brx3uhp4IGPEMw0UrC9stgqt8P/QO3KWZBd4nOZiLPiTAodsHGsrJnhPNZL7Yp1\n",
       "XbWo7Qj9VfO2c93LR48GtJA8z/HK8tIYxXSvu0RfxLAD06GHFOoPbRgtp0gVjG4AACepmm9VNU4G\n",
       "EVWHsVgG/L5UnJul+Xdy8f51U/r9xhodbUu5euB9uHfDq0DNqSOmjzmA7HDT8Gb0hobgOnH+8UgQ\n",
       "D9Rkk8wwzJq5qiFsMRscnwtQ/cw9Uy9PpGa5DBBEvvSFNiwpNcdmn5Zpnlp3TqJIy6YRdl+5MrL2\n",
       "N/WvG22t3D471sseevOt8B1nGn5xQ+AN271r3nuTrgqEed6Kp/5tNykCs+szZTYPCJFMVrv1DvY2\n",
       "L067dITOh3Zry3DiQTGp23zBFZPHZgrPtL4WBkZr+YbUQYVkrq/yLNYCcdlz2/0e2kzZ5I9U5Cp1\n",
       "JITePt4soCvLFGuw6qKw1p/jye6LW1kjWVPj38fjEivovhh/EHd8SZztWlAdAbjPRv3teV6LsAs2\n",
       "9UnSAOtlfLRpJfKksEI83SfIx5yyRGwjgJhFKYWrI3U3xxFNOrfRvfEp+6hZGfvAfLGubzDziKJj\n",
       "UcXLu8l+VyJl+g5HB9QQlSoizqO/Bb4VRLzxN5rOb4nIs80679G033aXk9yV4ILuVveH761QSRdY\n",
       "jJt3ck1rvbyEV44jKvCv7tbDDYOgDbF7zg3XWf5g9zp9M8ZN+e4/oYkAG4Ee7CISkDaahbURoatz\n",
       "NCSlThNRCkype430FepMnuL7ayqvujhHRrEqbjKhAAAIlkGaRTwhkymEF//+2qZYABXAAlKkgj53\n",
       "QAQ7PzyqeJhaL1C4YY5VfskEwSnBGa075WZA3Fkck7O3b8NGCNoRAIhN0jOlZHqKcHRXTINeWUx4\n",
       "CeIdrtQ7+pZ6ddCG2JFePFqGcfUlSBFrEJNC66wjVpEj6MekHowP3vmk2oPNmswmplRUdV/APExf\n",
       "eUDtEMsFIatrawlu6cqpflduBxINMzaFXycvusKCQq7IbB7ZSbqPX6AQbam5XcTgWMWTMA2tg39o\n",
       "7PRPU+LmoooNWg8habZbAiDyvG0d3n/oiwrG6knhRE9qwGaje0YdEYQRgLiOcfqA1IKcV/ECfpYr\n",
       "pyZQ2mejAekX7u9aOvH1GPFrvsGSjHOM4tYoISTfYViozE8C8Qc9dzaejNc6E6MnW3LmEP80EO6q\n",
       "ysBsSbobE3gb7aDUjLVQXWWreFjdjdIMRX8yt+yjOU0Q/r+uPeuErcRFJNZhLIs16EpFkFZZOIkR\n",
       "ME2Gvw9FqbMG10xgiG6MbE10wGMgn8fEOinWD/26XTTJpjyarLQd3BmjIJ0jLDfGTOoYi7TabzsH\n",
       "WDBGUnqzFg0vV8lP/mfuGNiACVzWV++fPFnxxNswwA2evMwzqnkFVNOJPWB5/v5CNqeu1/BqWAEF\n",
       "One4s3zipNkc/GgiBQI8liPT0nzHQoDTQm+pPYZskcCk3N2Z3iKRTr/YK8T9lSN1VbMqE+P72uE+\n",
       "vogU5qhKdnO28Mq/nACjRommsxQFKbtP9xrfxNC+6JcM6RzSLU3C/eNKZAruvfoMljYYkNyh2u3+\n",
       "gIqzEp6s0GsDn2CSqpJmOPyB2Fu5QHQ4sdSeDicUUHk9VcdxDueIysVcC2PRkfB8el4Lvvu4ohZ6\n",
       "sw2zz3pVgFFCoKoRttqx/SoQ/FWXcOAc8TlBdz9dvJLlSv7rPJIMXmH1KRt+2M+XKmzbJcn/YEfQ\n",
       "8xpindfdkhsh8/RwVs9ETB7LtjVT+StQ4jxTd9DgfqlR9t+2Gp6tkKZuHS4HD+T41AfFJ1HzTOGk\n",
       "eYa22kNMFILfICa62zAQTUGqx2cu/mszrkIDLrbFjGnLJxM2dhnXDu7prPAQWmCBSITXR0QWapWA\n",
       "MNzC+M5sp7anrTD/AzdBIS5MUUnUEucyfjvanoxvBfCfEsB22KFcyuf9rmVPm3j8yGaDpn+XOVtq\n",
       "YdF2aWwk/hvDIAM+YrArhDWAYXywwTSyoMiZBPWNzOL0BCaPuWQQnv2Lx3/Qd0A2zyDKYaiVGzco\n",
       "6nvvGX54W9HTx2VicIInW31DdXoRwJlwA0pkrJS03lBzM0NlU/7N37J/QJXC8yqeEIsJEIf55iX3\n",
       "w2S1GxbxYnWizrN4+q4gdHE9/0GnU5WznD9Sv2dXSl1Tapi4EE4KNOZqXer3KKmDZytj/r5gdmBe\n",
       "bNPwt5mSk1lxgepJu+2ROfceV4lb7mr1zA1KdiuZGI+SRKnJ5iGnamRNjIIdO4GmYRsz/ohaRSD6\n",
       "6xMp9YTnVnVdXzMhB1fcJM733k8pl3xqLN65qa8FESFIW98eUWLJQodtYWHnSLTaG6G/0qmDG8j5\n",
       "EsC9BQzC0rxbe56RaqRLUrLo/x1r1WLhC4gd36LU79pKxsyDslnfLBm9noPi81BIJSksgDijLXL7\n",
       "TbFb7x72pKAhQggEoTqCMmnOWrrNL3qu8fWJU/m+puTl/Szo+ogdwPP6344n3TgqERqjuy193BDD\n",
       "nl254jZFKZqQW+VFl3lQSPqsxXygF4HeBzyT2Fnmisi294FnBifEsT3YGkWhxaSSN0CyMOt1tgAh\n",
       "W2FruRQvo6whabGNvdla0vdmaksGKe/z0+JrWm297Rp5u3BCTtuZXkEK/uoWsci1BJToiThyB/WD\n",
       "Wn/biAD7RDPnuH0vgsxgZrwzOaRwThYi5bDOsr3DYZbTvCDnCpTXP7xJjcKdsgYBjhN4Ggp24Zb5\n",
       "4h3TbCibjBMAHTg+ZKpeGcXz8KqbL00IfsT5IrpjEsiDRy4QU8rAFCiVs/NJ7yj9bZA+tr7hUSVm\n",
       "qOV4T5dRnapHWyiKkMwJ67JPtnmff7RYB7PEijoUgms40fSvV1081D2w0895AG95LsDLduD8lMLK\n",
       "lffd/Vq82x0AukSemwkBhKH8EZQVD33lEA/JfOZ5ZdUn5qoBkccHuztYccqpCWvhlh+gUr8TYki0\n",
       "sz1Ub1n08AgxwfSXfPkZJyeVoGwKEmg0eATBxhzmKjg5rYxnkOvDy+hbVP7f+OZyu3oSMG4ZmwQ+\n",
       "gNDWtbQV0RScqyJHkTa+r7Oce9mQCW6ye3DDvigIZrA7ds7mhQ2sBMMkWwnxDtHphRtVbOBCb1Af\n",
       "HHU0KkH4kjPocBANU9X9sdVb64O4ZFzT5/kKYpO4cw8oUhxyAYuL8CY6nArGIitNf8CQ6EBbdFK/\n",
       "TR9fty/EsV/6c3t8d2svuv2Ge15sgxh+MgdrnDy/X/mVu2g2EIM72QjaI5lr+pN1Eg+Nnvy6ZZKh\n",
       "+NGYe9e+sXzAyyn10rvG+WVpn9g2Bozjj8eBTMG1GKHTt1G9wMcdOGWMFy02yGGabbSh/C/q/eTx\n",
       "+tr/vj0VyXOTxaBWK3Kwhr27rvo/6vghdqBRTMFMlZ5HPtP21pp9j7hQuJ90VmXf8euNr1lE7tCP\n",
       "S3PKw6scnMZOE4J7LXXcuBv7t0doicdjMwqzQC91m1nPV6z+nx3qHh6TKWpDDyq+Izh2nHY3scDC\n",
       "aUfuif8lYLN//eIBn2gtUuYOj0jrbQYMUXK85z0z/Uj1oGojdIXnpqXxhpdvhwBF5nTlHF/WgQj8\n",
       "0INBbSlX0RhxBGgkRAIYOGqSYUDwMVdYkTalvoVvexwJALAKFPc1XtdLW3EZz42hug6FKklQhY7N\n",
       "Br4JAFM+ry+J9WykSB7fcb9Gr/+DRA3q9bWIJatG9i/jvL+Q7T2yc0NS4w90598hMizC7rhVgIL2\n",
       "9+2sn6B5APmAAAAA/kGeY2pTwV8AAA5PCH2cEK0ACHREzDkRbKOMJ2xSGrv+PjEqZ6kWvYujdNpP\n",
       "JeD2onEahb2VygVgoPpOkIAfjgRKFQ8xoRopFHqZ49mCOsPMojw1uWnxvAbUSpqpcKt+OyEiGrD0\n",
       "jSEtEWTaZyb/+A1b2li6dwZoMBbI8yKJgQtn8QSyZHYOrEQC9206pAy3Y0Bs+dEO2RJm/csuRN7s\n",
       "BHfvfgL+dma6/eZI1ZYvfnkZn/DR8ADNn0vUbxzV9H4Xy4poy6xgF+PibYBAtln9u+p0tNcBbGnc\n",
       "Yss/tLtyJBpDP2hnmgk3PWAZFHFUOxuKNCiqPD5kVeXyFAmxtBlRAAAA3QGehGpBXwAADlpNEkll\n",
       "JeJqeoAObdB3yaT9NiTXp+SfuvH1aLP2aPJmKYtpCTzQstQwlsesew9QJbNsi9KrEp/dPNnwvRi1\n",
       "alatOHV3+OF3ylk3mY6VvbZRKrHRjrsBj9oLLHMulABR0gpQ4Y53AD3WRuJ59+iJ9PI+xzlE1T1t\n",
       "SH2+i6Yi3YvUrv5EPFzdWT1NSLfAzQ1hvHwzb44fuqADG72SVzzQ7Qwpkk7hK1EIDIhg33/gCaiG\n",
       "VhNk3F13/x9s1bWxmFKToLOp1ExuYaSZlFZaVN874GH2FwEnAAAGpUGaiUmoQWiZTAgv//7aplgA\n",
       "FdYXmAAEIwpENClv5c/vvaB8aj2oDHlkmbfLe+P8XFVZTHrlDsfdI5VPP6pYHu9qhI8Uo6emBzMa\n",
       "fg1TA7J15KjrXLBLezeu8u+rA/+2TIWy4PDEmMJJmP/jQ+V93A79qZy19QLYuCrnBufUGye2lFWg\n",
       "dwwdistd8LdPEu4a9nju33HZTV9LVf72RhiaK6qX5rp4IxYULI3J5cQBrYKaRj0UjYswnym/gdI/\n",
       "2M9NDLRTefLJF8nXtGqq5PNkKgC/QxFsLk4P85T554rNr4GvcH0qGx/ccy3pITBjfoGH9veUlmSv\n",
       "5WiyPsD5mChkhXvfJ48ZFRAQf8x4tHSWJOa4HdZ3ykgKw3fjz3A3IqgunVJutO2GggxN7NxjkWbQ\n",
       "vF8WsLOy9q/0FDi15Lgd8pUmWUY1KMo+CyWxCWk7aJL3YCr/rs7T9o9qo/8QIY8bJGu/MyMzFV7v\n",
       "nIxCjzPFBIb7OEyU7yH9TrtqbV7j9lsBOJ+dswWqIa7mSKSqN0zCPGgMptz42aiJL8i1B1BzE0qz\n",
       "8aVcC3hyMdf2rN8E5hmMDrrt4b9KeJUjQQb+k53i3AwNxrgY5R9myI6VTHiDOCDvwYGNr1euwMSW\n",
       "cDOK0wVnNE8KF6fkHoQc8ppP9CV6PRt5AA+yEc1vIrpKpIAzhT6Ee3Alx1PDOpnWlnKIsqRe28bQ\n",
       "1q7k0taRVEbnH0hdhv1rH8NqYtncK+6BtVvdRnW7uMCnLUJjU0whlbVlBQibOV0H23T9lJUzhcMB\n",
       "y0BHCRSYeGhnOn2A6n3o21Lm30ZMA+C7dry+xlBQNyzDPpsEVeMnnAwZBGdkFVkGkpJw5kIQ/mLM\n",
       "2Jb0c9snj/7VMZ17BmNY1nLRZzjuXgVStmqQNEL7a+gn4LIIByiExV2YW8PSBDsI84ggVtJnKr4u\n",
       "JSwWvYRB5lFVBidGz6lKOD94bVzuwO9lqH1sMBq7Lj2DE7Au3RevR3SXhGsDl0bXA+OMkoK5F1B9\n",
       "xK37x2tVSrFsUZOhQtsKtmGl1shSSc0LmxDnrhrIfS5z9kOgu6cau7v88CD5kegDB6r44Kc8c6mj\n",
       "f9hgOU/jDLIOujMCPheI5kYwwRcWlAWm/uqGCyBoC9laa+3iK1CR8/mJFAzoBnB9O2bxSxBswQdN\n",
       "1+YI38aE4rpS3mbfRfAwdFCdHHUeEOYa5Ur3a2YvuvnVxJP9C/fY5tWTW41PH9brFsCeZzbSZwJw\n",
       "x531EK4QMrYkKa7Y/2NcY0h5pb31GbbNQYjk1i/aMnn44LTLifJu7xscXCUJzVNXnCEUlI5kNtG4\n",
       "xQeTIuyDkKqWPlEtLG2MGfo7EnGd1H0uMp+UiE1Nlaj3APM9tgXcSvw4cmxvWmzvUuEO0kNg7gCK\n",
       "V2aOjMmkLSHTOJaqeBKfpuCj/soTqgrlnIp9ZeR49ynDQ9D137lYq5h968tZNMxfocXLDslrDhiy\n",
       "MQoJ51m/h1I43rsqvnqoz838tpiM8sfO/5y9kwzESlF2zj5GAIuu0kAWnrgeImvWCH771YLZBmVY\n",
       "KTlr4zmImO6XNa7y9pPmq22keikUl/hYzjF/MW5JII4cN9awBIqUso7OYmo6HF1OxESrPgZmXPnI\n",
       "nhAOCo0mZeU6GvDEbvVvTdpc0fC+6vTH2XP0AvLirJn0AuoWn6K6jn3jLiMO47lhoFvZZIlQr3Lx\n",
       "ULnff3qQgLE79GOLKpOb+0uv86nxH1fpvpY5saI5iA46k305AQUMuFI7yr8qIlG93lsuHZDe7PQw\n",
       "GiSTOdLOYprpZ8i7durYBODvd+dVddHA8wO4Bf5ndXzhgyEwJVqLI2zJe4JAJuxA2Xg2TJX4oVqD\n",
       "+urvKY5xqVUx5rhSsEoxsPzVb0Z8RuJaEuAgyfeslYswhBCQC+aOjib4GH7WIhOyBEF6QqWfK+GW\n",
       "xUb2Rlr30mePaWigN9opbgTUvCgW9LBhZCBtbYmGWKKROs7yP37iPcEZAdnXjCWM7cc3DBSCsNXD\n",
       "0VJajUI4suO6GLUg+sm3TvZobgJGO1NhHFaO6hK830iZwQNAwnvCZRWPtPO4jUlS5wZ6BcLDCy0v\n",
       "ou40gyoaimp3GD627Y9ytsY3EC3ho66A7+Gr4TgiJ+cfBWAXxZxWin/yhqocL+Esbxaa+jf4GL9z\n",
       "1wSy3lGs4jg7jIJhGQZMwflJAT/MX92YD1iL6uY9mfY0Ry+O/MmBn+KpU9P6JwptmpELYk19YdDK\n",
       "ftmp029Wz23EAiY8O3AVNOyvTnIuN5IBAa/3YGMCTwAAANNBnqdFESwW/wAACUuIW0/XGh4fg/QA\n",
       "Kex8gjY42A7gDGiZVE0PYwFbT/ME3Dtf5998wyGdbmx2gm4PZo736QGDBWLxFN3ng1C6VUbLdsBg\n",
       "SpS8uGAKvcoMGmIWBeVjCl8oSUZFW5Mtcw2qS+tgWiRIC1GtxeSXPDdj5Y71DoJUgHVOVstIAaew\n",
       "6+HyAQbwEs8l99ehbxpR6CY0As1ETHcmaLmWoBI3pEQeAyeeL2//PtaldPAjax9++l4yo0FK424b\n",
       "ApBkBzpqXMmrPixj1JARIB/hAAAA0gGexnRBXwAADmYAa4YADr2qWjxCEtY+YUMrxRqTJcRQRBCT\n",
       "NuLYi8CsHU7mUp9x3wpXNKWY7ZDHBnBR6Li9j+ntX0F3Vch/CJ6xyx9eP7XHqpVOYTxooRq1VfDD\n",
       "aw1W2HzkGGswDPI/wh7XdG6nIJXaSftjGZOVEBEq9MNwmJxT9sWRgZQMszwHDcdZxq0vlxeVP8BW\n",
       "hoDNBFRcYoxBCBpD8mt7ctQQYtDbzkmMPNEVj6MWSM4ACm64sCSsqpfYf6v3E9RYTZHgmxiyfj6O\n",
       "86BHwAAAAMsBnshqQV8AAA5ImWOKaPF7xU5ABeUab4QTnYs9cgrMSLnB6nLjc+epsaqkoMM8i9Zw\n",
       "Uk8UQb+mzuuOl9wfjNwTCt1nz5gWt63uC9rLhuz5dNBfTvFz+zDgx7If/X9Qbby7CpEDSD9YQRxH\n",
       "93a6KcjqfucG4QskKHJ+TFyiGhYO/tIpOs5cLX5Nlcsyxz27mu+liWwC1ZD97BwssR/qLgAADXMf\n",
       "eRo60ak285a//vQWlK2yXYZwoumRtg5ji/fTh/aZHpl3XkJu6MgK+AAAA0xBms1JqEFsmUwIL//+\n",
       "2qZYABgN32iVJ2evTZkFEJX+U+rL4sdR0gAWzlY2u/LtAc2YTpFTUmrqE2/slIqOVH7gT15dwZpq\n",
       "RdNRppOHvMVUCeXoH68r7kv6+cuIA0oo5D05vzsnCNz/XX5IZ8ibau1dQkaVX04SDQp1L9913e5b\n",
       "h04plgS5JKIOEgmI61hyi8LBcHh7T1ATbSfioxp7sDZ0ZRB6XwNJX4vzZvPrtkxV/SyfvydTDHh0\n",
       "1bFxDQH48EbARSlqy/RwIDULkgVr10KbsA2xKm9IhXBZg24jo8Ph1gjd003cj+0huiT9FHAW+h19\n",
       "NtP4dWrtU7yId6E8s51h/G5FAm0HZp1d6kymKu63PhgN0I91uh3pvU1l27CkiqT8jADOFbTmYv0m\n",
       "K2KPX5NNiuELtDr+ZJ6NAHfyMv4BGj7R1229jIS+Ljb8ALbWzwf/iHTMQHT+mHpnrxCPoVCYFur4\n",
       "AAADAAyveHhoYYRi573GlOcWGIjTeB5E6aI5ZFNKVW44hxQzaC33+yoOe69NV1jXWplAnE+wAZwA\n",
       "BaS/i3kLfFzUFB7TlPNQtBAb+BLs9x2GvOCmEA68vsLQfpMEtwSNNzT5Gq2nS8RzZtlbC1istbT9\n",
       "fds2CLU5ZRB1QK6DGxRqzqpMvlKV6BT1rOaGXdYr8fiiPw9s8+mY8rMnEnlcacoayZA7j/9DVMR1\n",
       "4EMAtl4fJyhZ8XQjtdUxW7C274XBD49iHs6lZZqJYeAkv/AzXKd2Za9ziLOFIQ3huhyAww6A1rOA\n",
       "+2KAKhY9e810aCRsktu3J9zNSGJ9cDK2+1u3i32vnchPk1Nd2uy7bErBDqg8qnuNFjCsOLvEj/ac\n",
       "OfLD27TxrALlIhNb11MviYwgzXSEKcFrdNm0qEA29X9RnPRZV6nq78PYQ6+4IzdtrOORu4X/O0Xj\n",
       "yj6xg4PR/TjgRYLiH1axm0cqnbjV1mrP0BlExrQDzRdZB948DTFx8x3JKCq7xpaYBJDyztPO8RzL\n",
       "3BFvNex/sWcAKFv1uARtFm4BxGHR3ZvBJOm/8SCQabO/eNEUEL+COrC+vlP5rmW59rxFaxa/ltWd\n",
       "SMxYr6Vr2WOEuvaJ9hjAN81n2QZQC5vUu4Ozka75KAYFAAAAs0Ge60UVLBb/AAAKdz85rig8WafV\n",
       "9oKwpIhiiFqKcACHWJjCz6AyPNZU5r+scUC/O9/KpEh0fXiyEnJjAYRivtYl9d0qgdaLzFK4gwjU\n",
       "6KGxqf1/NDb2+i/aceGuHAAvhvDvz0f1Vgr7MMa/dOJCp0fNtogiproQBOom/4zjOLxoOF4I8d3u\n",
       "U2nq69Kthsfle8n7ADb/xG9UhYQeRywEbYDm1zv4cXr9vd3qj22hdX2JOTFgAAAAwAGfCnRBXwAA\n",
       "D9Ud6JzD4PNSo5JuINmQ18HE4AB14qZ6ANyrzlJsEoopPSyzhQQ8qkmD194Ma/PldGm4G+Hee4fc\n",
       "YKPMWGJ5cCWtHazAYXI9+2NOqBltc1CEmWsQjYsbTXnylCY3qlzRpYZCpVktuOiGD6Ujs/h5IY0T\n",
       "GNawKZShfi6G0sfryMY0JumgluAAiyH+Wm3mSWwAVBq8ZTgAK+1oYdbNjwlTaclsv8gwynpycqjQ\n",
       "TgmQJBeC0GJ5egD5gAAAAK4BnwxqQV8AAA6PiIAL3W99UGgvZWx6cj7VsKM5PH7QdqfItbs9jig6\n",
       "DTuvWN1DKAn6cU9VAMKgCoAbMldTHhstf/7KPvHL0AoJUcJeZkVl0u1CqG8UFab1IciHtXIrCNEr\n",
       "9L65vjdD2v6vZ38x866Sl9qMSq/2FTVo7hK88N91QBMI2NQVir6c9cd+SrrmcWtclXUCDaALsXV5\n",
       "FVKeLX+E6lkWQhp2CER5a4qAe0EAAAE6QZsRSahBbJlMCC///tqmWAAVwHNuz7V1ABDsgsW5uKZO\n",
       "cvY44Ig3Ic0nxQ/ev/Npx8e8zK31SFGDgfhnj/qe2tkgcZ9sAUCZKinVsu8yu8G/fZYmpgnMqHqx\n",
       "sd0EA13q8lhLu1B3mDsEUCGmJqEOUFW2D3ZtnOItxtEvtQqqFJ4lgemcnCZ+32M7kezoiJi7owII\n",
       "+GBSqc0X9QcfSboXFc3H+H8mI0Mf/D1SySzMuAlCsYKv6in/hG3bQLhkoc17U52GjEzm28RoC6bU\n",
       "Y5ien+pkWKR1C1Cr7B+PVPLG9xjZ+U8ROicTxFE5EveVEw8eFOG93SUBa8j8OrMxsfNhnr5Fh1OC\n",
       "N8KxQW6a3HsFQcI7uu7AWKn68END282b08fFcLwvbGKKjmZ8n9SuxrMaVMPIMa4tOpcVp/kAAADa\n",
       "QZ8vRRUsFv8AAAmiwkCvr98CAAQ6y0YtBnLdhJ2IPsxLoNVr+3Zhr3Wyo0R3u4TyRZOuvRliMJ2Q\n",
       "0jVcVklqtdYhcAAQNAIxgDRy4ndchq0xjPc2WdV51tf407ARFOXpgjyp/491cECCCCTe099y6pZv\n",
       "uPslsFncKVnCScT4do0HfiznrgwPR89I3aSYy1bm6sAfhHL0PWBp1zlTQ2tdLpGE0p2OXzVjhW/+\n",
       "Sa3UdOFabc/Dmj9chOF9CmqAk9xX/KVSOnpPnQCE4It4yyQ3dmdLo16OUd8wLuEAAAC0AZ9OdEFf\n",
       "AAAOUGS68UHsZxtp9jQAHaOcE/drpzcd8IX0SBiIl6B3qipMUiD3BohDNmAWnf85z/K7YbxaJ7Em\n",
       "dysv06/k1SDgBTiZ8Nu2/K3ASBPhdR3qViWwvXWB3MF/ZB+itFRxoNQc25+Nl3AFHlrkFZnCBZYM\n",
       "tN45xeLXTIj6N5ftowBlVu2qCZdQ7rG6JzIS/wVj7RlvwIhQ7tFD7rh0aQFf1b33EgT9vsAAADY+\n",
       "QyTgAAAAsgGfUGpBXwAADo+IgAvaT71ttxPdWSTpis/QppxXyoq1Hk589JNURygJaXnVWYxn86c/\n",
       "bnMcurg7RMGCl0Nnw9Qdw4yFdESe0wO291XZ5KDOKHcMST11fm5bTw0DbHmwnaPB5xONaKzwWFdm\n",
       "sKixWpUheBWuxDMBqIQzcOfoxbcznoquS/TSwci32OMy0tSOAtXlrqMAZ/YLkp49DUA1w4bBGuPI\n",
       "aQr03O3X10LEp1aUDUgAAAEkQZtUSahBbJlMCCv//talUAAYDaJRjYwcfRrO0AGyyReVDS6/G7fP\n",
       "di1vvyikGwuYzWV8Z8WE+xdqZ52ZI+BB0l04dG8UuC/n7Eqz18tyhN5maaOH0e3O6SCPSdvNBtzZ\n",
       "zeeMJbNxslmRcetvF8/UmoYN7ZKG66zrGu7D8kwMnLNk/plz1CZJXDzEEKn1OO5oD2gV5GlxYDv0\n",
       "ykznopNBjdnYY893HbISz6Tz/o01avzrqPJy+uVgCk+x9gfb5C6BXvZ8usvVFlvEX68bBGFgnISr\n",
       "JMBbvCkSXhONC5tRGN+Z3mkAxNhyYV1p2iiJPzD+Xm9q3RjCXk5ZDL8GXxLjUgf9vn2YQPlpPnUt\n",
       "TnSYhJ52DIAAABS/ecJtAoBpHCmKs3CVgQAAAKZBn3JFFSwV/wAAD9Wx+jfCfk2CMQwSpjM6YATJ\n",
       "Qd62GP9QScFXRSoNj9+RN0caWtRd/ZWYeaUQEkhBY4YnBckLSYgOStr7iQZc1y7mqvMXL+Z3cpxq\n",
       "0LLRh52glF6gSPANpPoFKOAnLAitJkbrAMqsBlr7dvxXSidLWRj4J41nR1unBp+UBNF5ezoLNAAa\n",
       "6mX8WqVhQAqIZKcGFL9B55rTACKGoAd0AAAAmQGfk2pBXwAAD9Wx+jfCoHT7pbhxgixop2EAF7rj\n",
       "rbPhYavkGxTFFUjMYqVYJXjySV3dRIzy3bmoaFU062fqK7iHOl9mqGRxIjDP+JXrzgQe7yzaLGHX\n",
       "biPKSfCW2+A6MRUQ96yHKps69tLdSSx1Omb5mvROXt1oERLcvs+BGRsD5j3cNIQrWZJRATSM2rxa\n",
       "iW4QAAADAAAIOAAABB9tb292AAAAbG12aGQAAAAAAAAAAAAAAAAAAAPoAABSCAABAAABAAAAAAAA\n",
       "AAAAAAAAAQAAAAAAAAAAAAAAAAAAAAEAAAAAAAAAAAAAAAAAAEAAAAAAAAAAAAAAAAAAAAAAAAAA\n",
       "AAAAAAAAAAAAAAACAAADSXRyYWsAAABcdGtoZAAAAAMAAAAAAAAAAAAAAAEAAAAAAABSCAAAAAAA\n",
       "AAAAAAAAAAAAAAAAAQAAAAAAAAAAAAAAAAAAAAEAAAAAAAAAAAAAAAAAAEAAAAAC0AAAAtAAAAAA\n",
       "ACRlZHRzAAAAHGVsc3QAAAAAAAAAAQAAUggAAIAAAAEAAAAAAsFtZGlhAAAAIG1kaGQAAAAAAAAA\n",
       "AAAAAAAAAEAAAAVAAFXEAAAAAAAtaGRscgAAAAAAAAAAdmlkZQAAAAAAAAAAAAAAAFZpZGVvSGFu\n",
       "ZGxlcgAAAAJsbWluZgAAABR2bWhkAAAAAQAAAAAAAAAAAAAAJGRpbmYAAAAcZHJlZgAAAAAAAAAB\n",
       "AAAADHVybCAAAAABAAACLHN0YmwAAAC4c3RzZAAAAAAAAAABAAAAqGF2YzEAAAAAAAAAAQAAAAAA\n",
       "AAAAAAAAAAAAAAAC0ALQAEgAAABIAAAAAAAAAAEAAAAAAAAAAAAAAAAAAAAAAAAAAAAAAAAAAAAA\n",
       "AAAAAAAY//8AAAA2YXZjQwFkAB//4QAZZ2QAH6zZQLQW6EAAAAMAQAAAAwCDxgxlgAEABmjr48si\n",
       "wP34+AAAAAAcdXVpZGtoQPJfJE/FujmlG88DI/MAAAAAAAAAGHN0dHMAAAAAAAAAAQAAABUAAEAA\n",
       "AAAAFHN0c3MAAAAAAAAAAQAAAAEAAACoY3R0cwAAAAAAAAATAAAAAQAAgAAAAAABAADAAAAAAAEA\n",
       "AEAAAAAAAQABAAAAAAACAABAAAAAAAEAAUAAAAAAAQAAgAAAAAABAAAAAAAAAAEAAEAAAAAAAQAB\n",
       "QAAAAAABAACAAAAAAAEAAAAAAAAAAQAAQAAAAAABAAFAAAAAAAEAAIAAAAAAAQAAAAAAAAABAABA\n",
       "AAAAAAEAAQAAAAAAAgAAQAAAAAAcc3RzYwAAAAAAAAABAAAAAQAAABUAAAABAAAAaHN0c3oAAAAA\n",
       "AAAAAAAAABUAABpcAAAI6gAAAoIAAAiaAAABAgAAAOEAAAapAAAA1wAAANYAAADPAAADUAAAALcA\n",
       "AADEAAAAsgAAAT4AAADeAAAAuAAAALYAAAEoAAAAqgAAAJ0AAAAUc3RjbwAAAAAAAAABAAAAMAAA\n",
       "AGJ1ZHRhAAAAWm1ldGEAAAAAAAAAIWhkbHIAAAAAAAAAAG1kaXJhcHBsAAAAAAAAAAAAAAAALWls\n",
       "c3QAAAAlqXRvbwAAAB1kYXRhAAAAAQAAAABMYXZmNTguNzYuMTAw\n",
       "\">\n",
       "  Your browser does not support the video tag.\n",
       "</video>"
      ],
      "text/plain": [
       "<IPython.core.display.HTML object>"
      ]
     },
     "execution_count": 91,
     "metadata": {},
     "output_type": "execute_result"
    }
   ],
   "source": [
    "HTML(anim.to_html5_video())\n"
   ]
  },
  {
   "cell_type": "markdown",
   "id": "responsible-coalition",
   "metadata": {},
   "source": [
    "## Playing w/ NX"
   ]
  },
  {
   "cell_type": "code",
   "execution_count": 92,
   "id": "short-explorer",
   "metadata": {},
   "outputs": [],
   "source": [
    "num_nodes = 10\n",
    "edge_list = [\n",
    "    [4], #1\n",
    "    [5], #2\n",
    "    [4], #3\n",
    "    [1,3,5,6], #4\n",
    "    [4], #5\n",
    "    [4,7], #6\n",
    "    [8], #7\n",
    "    [7, 9, 10], #8\n",
    "    [8], #9\n",
    "    [8] #19\n",
    "]"
   ]
  },
  {
   "cell_type": "code",
   "execution_count": 93,
   "id": "beginning-wyoming",
   "metadata": {},
   "outputs": [],
   "source": [
    "G = nx.make_small_graph(\n",
    "    [\"adjacencylist\", \"C_4\", num_nodes, edge_list]\n",
    ")\n",
    "A = nx.adjacency_matrix(G).todense()"
   ]
  },
  {
   "cell_type": "markdown",
   "id": "happy-factor",
   "metadata": {},
   "source": [
    "## Layout Types\n",
    "\n",
    "- [Source](https://networkx.org/documentation/latest/_modules/networkx/drawing/layout.html)\n",
    "```\n",
    "    \"bipartite_layout\",\n",
    "    \"circular_layout\",\n",
    "    \"kamada_kawai_layout\",\n",
    "    \"random_layout\",\n",
    "    \"rescale_layout\",\n",
    "    \"rescale_layout_dict\",\n",
    "    \"shell_layout\",\n",
    "    \"spring_layout\",\n",
    "    \"spectral_layout\",\n",
    "    \"planar_layout\",\n",
    "    \"fruchterman_reingold_layout\",\n",
    "    \"spiral_layout\",\n",
    "    \"multipartite_layout\"\n",
    "```"
   ]
  },
  {
   "cell_type": "code",
   "execution_count": 94,
   "id": "emotional-worcester",
   "metadata": {},
   "outputs": [
    {
     "data": {
      "image/png": "[encoded data removed]",
      "text/plain": [
       "<Figure size 720x720 with 1 Axes>"
      ]
     },
     "metadata": {},
     "output_type": "display_data"
    }
   ],
   "source": [
    "pos = nx.kamada_kawai_layout(G)\n",
    "node_labels = {i: i+1 for i in range(G.number_of_nodes())}\n",
    "fig, ax = plt.subplots(figsize=(10,10))\n",
    "nx.draw(\n",
    "    G, pos, with_labels=True, \n",
    "    labels=node_labels, \n",
    "    node_color='#83C167', \n",
    "    ax=ax, edge_color='gray', node_size=1500, font_size=30, font_family='serif'\n",
    ")"
   ]
  },
  {
   "cell_type": "code",
   "execution_count": 95,
   "id": "opposite-therapist",
   "metadata": {},
   "outputs": [
    {
     "data": {
      "text/plain": [
       "matrix([[1., 0., 0., 1., 0., 0., 0., 0., 0., 0.],\n",
       "        [0., 1., 0., 0., 1., 0., 0., 0., 0., 0.],\n",
       "        [0., 0., 1., 1., 0., 0., 0., 0., 0., 0.],\n",
       "        [1., 0., 1., 1., 1., 1., 0., 0., 0., 0.],\n",
       "        [0., 1., 0., 1., 1., 0., 0., 0., 0., 0.],\n",
       "        [0., 0., 0., 1., 0., 1., 1., 0., 0., 0.],\n",
       "        [0., 0., 0., 0., 0., 1., 1., 1., 0., 0.],\n",
       "        [0., 0., 0., 0., 0., 0., 1., 1., 1., 1.],\n",
       "        [0., 0., 0., 0., 0., 0., 0., 1., 1., 0.],\n",
       "        [0., 0., 0., 0., 0., 0., 0., 1., 0., 1.]])"
      ]
     },
     "execution_count": 95,
     "metadata": {},
     "output_type": "execute_result"
    }
   ],
   "source": [
    "## Prepare A_tilde\n",
    "A_self = np.eye(A.shape[0],A.shape[1])\n",
    "A_tilde = A_self + A\n",
    "A_tilde"
   ]
  },
  {
   "cell_type": "code",
   "execution_count": 96,
   "id": "bridal-diamond",
   "metadata": {},
   "outputs": [
    {
     "data": {
      "text/plain": [
       "array([[0.70710678, 0.        , 0.        , 0.        , 0.        ,\n",
       "        0.        , 0.        , 0.        , 0.        , 0.        ],\n",
       "       [0.        , 0.70710678, 0.        , 0.        , 0.        ,\n",
       "        0.        , 0.        , 0.        , 0.        , 0.        ],\n",
       "       [0.        , 0.        , 0.70710678, 0.        , 0.        ,\n",
       "        0.        , 0.        , 0.        , 0.        , 0.        ],\n",
       "       [0.        , 0.        , 0.        , 0.4472136 , 0.        ,\n",
       "        0.        , 0.        , 0.        , 0.        , 0.        ],\n",
       "       [0.        , 0.        , 0.        , 0.        , 0.57735027,\n",
       "        0.        , 0.        , 0.        , 0.        , 0.        ],\n",
       "       [0.        , 0.        , 0.        , 0.        , 0.        ,\n",
       "        0.57735027, 0.        , 0.        , 0.        , 0.        ],\n",
       "       [0.        , 0.        , 0.        , 0.        , 0.        ,\n",
       "        0.        , 0.57735027, 0.        , 0.        , 0.        ],\n",
       "       [0.        , 0.        , 0.        , 0.        , 0.        ,\n",
       "        0.        , 0.        , 0.5       , 0.        , 0.        ],\n",
       "       [0.        , 0.        , 0.        , 0.        , 0.        ,\n",
       "        0.        , 0.        , 0.        , 0.70710678, 0.        ],\n",
       "       [0.        , 0.        , 0.        , 0.        , 0.        ,\n",
       "        0.        , 0.        , 0.        , 0.        , 0.70710678]])"
      ]
     },
     "execution_count": 96,
     "metadata": {},
     "output_type": "execute_result"
    }
   ],
   "source": [
    "## Prepare D_tilde\n",
    "D = np.zeros(A_tilde.shape)\n",
    "np.fill_diagonal(D, A_tilde.sum(axis=0))\n",
    "D_tilde = np.linalg.inv(sqrtm(D))\n",
    "D_tilde"
   ]
  },
  {
   "cell_type": "code",
   "execution_count": 97,
   "id": "desirable-telescope",
   "metadata": {},
   "outputs": [
    {
     "data": {
      "text/plain": [
       "(10, 10)"
      ]
     },
     "execution_count": 97,
     "metadata": {},
     "output_type": "execute_result"
    }
   ],
   "source": [
    "A_hat = D_tilde @ A_tilde @ D_tilde\n",
    "A_hat.shape"
   ]
  },
  {
   "cell_type": "code",
   "execution_count": 146,
   "id": "bulgarian-aside",
   "metadata": {},
   "outputs": [
    {
     "name": "stdout",
     "output_type": "stream",
     "text": [
      "Initial Matrix H \n",
      "[[0.]\n",
      " [1.]\n",
      " [0.]\n",
      " [0.]\n",
      " [0.]\n",
      " [1.]\n",
      " [0.]\n",
      " [0.]\n",
      " [1.]\n",
      " [0.]]\n",
      "------------------------------\n",
      "Iteration \n",
      "0\n",
      "Matrix H \n",
      "[[0.        ]\n",
      " [0.5       ]\n",
      " [0.        ]\n",
      " [0.25819889]\n",
      " [0.40824829]\n",
      " [0.33333333]\n",
      " [0.33333333]\n",
      " [0.35355339]\n",
      " [0.5       ]\n",
      " [0.        ]]\n",
      "------------------------------\n",
      "Iteration \n",
      "10\n",
      "Matrix H \n",
      "[[0.21418063]\n",
      " [0.24133324]\n",
      " [0.21418063]\n",
      " [0.3472558 ]\n",
      " [0.28591889]\n",
      " [0.27479345]\n",
      " [0.28488889]\n",
      " [0.34130565]\n",
      " [0.24407708]\n",
      " [0.2435888 ]]\n",
      "------------------------------\n",
      "Iteration \n",
      "20\n",
      "Matrix H \n",
      "[[0.2262234 ]\n",
      " [0.22707763]\n",
      " [0.2262234 ]\n",
      " [0.35882065]\n",
      " [0.27793429]\n",
      " [0.28128624]\n",
      " [0.28507397]\n",
      " [0.33315139]\n",
      " [0.23634154]\n",
      " [0.23634107]]\n",
      "------------------------------\n"
     ]
    }
   ],
   "source": [
    "## Water Droping\n",
    "H = np.zeros((G.number_of_nodes(), 1))\n",
    "H[1,0] = 1 # the \"water drop\"\n",
    "H[5,0] = 1\n",
    "H[-2,0] = 1\n",
    "##\n",
    "iters = 30\n",
    "results = [np.array(H.flatten())]\n",
    "print(f\"Initial Matrix H \\n{H}\")\n",
    "print(\"-\"*30)\n",
    "for i in range(iters):\n",
    "    H = A_hat @ H\n",
    "    results.append(np.array(H.flatten()))\n",
    "    if i%10 ==0:\n",
    "        print(f\"Iteration \\n{i}\")\n",
    "        print(f\"Matrix H \\n{H}\")\n",
    "        print(\"-\"*30)"
   ]
  },
  {
   "cell_type": "code",
   "execution_count": 147,
   "id": "superior-samoa",
   "metadata": {},
   "outputs": [
    {
     "data": {
      "image/png": "[encoded data removed]",
      "text/plain": [
       "<Figure size 720x720 with 1 Axes>"
      ]
     },
     "metadata": {},
     "output_type": "display_data"
    }
   ],
   "source": [
    "all_results = np.vstack((results))\n",
    "fig, ax = plt.subplots(figsize=(10, 10))\n",
    "\n",
    "kwargs = {'cmap': 'hot', 'node_size': 1500, 'edge_color': 'gray', \n",
    "          'vmin':all_results.min(), 'vmax': all_results.max()*1.1}\n",
    "def update(idx):\n",
    "    ax.clear()\n",
    "    colors = results[idx]\n",
    "    nx.draw(G, pos, node_color=colors, ax=ax, **kwargs)\n",
    "    ax.set_title(f\"Iter={idx}\", fontsize=20)\n",
    "\n",
    "anim = animation.FuncAnimation(fig, update, frames=len(results), interval=1000, repeat=True)"
   ]
  },
  {
   "cell_type": "code",
   "execution_count": 148,
   "id": "charitable-prerequisite",
   "metadata": {},
   "outputs": [],
   "source": [
    "anim.save(\n",
    "    'water_drop_4.mp4', \n",
    "    dpi=600, bitrate=-1,\n",
    "    savefig_kwargs={'transparent': True, 'facecolor': 'none'},\n",
    ")"
   ]
  },
  {
   "cell_type": "code",
   "execution_count": 149,
   "id": "adverse-humor",
   "metadata": {},
   "outputs": [
    {
     "data": {
      "text/html": [
       "<video width=\"720\" height=\"720\" controls autoplay loop>\n",
       "  <source type=\"video/mp4\" src=\"data:video/mp4;base64,AAAAIGZ0eXBNNFYgAAACAE00ViBpc29taXNvMmF2YzEAAAAIZnJlZQAAfOxtZGF0AAACrgYF//+q\n",
       "3EXpvebZSLeWLNgg2SPu73gyNjQgLSBjb3JlIDE2MSByMzA0OSA1NWQ1MTdiIC0gSC4yNjQvTVBF\n",
       "Ry00IEFWQyBjb2RlYyAtIENvcHlsZWZ0IDIwMDMtMjAyMSAtIGh0dHA6Ly93d3cudmlkZW9sYW4u\n",
       "b3JnL3gyNjQuaHRtbCAtIG9wdGlvbnM6IGNhYmFjPTEgcmVmPTMgZGVibG9jaz0xOjA6MCBhbmFs\n",
       "eXNlPTB4MzoweDExMyBtZT1oZXggc3VibWU9NyBwc3k9MSBwc3lfcmQ9MS4wMDowLjAwIG1peGVk\n",
       "X3JlZj0xIG1lX3JhbmdlPTE2IGNocm9tYV9tZT0xIHRyZWxsaXM9MSA4eDhkY3Q9MSBjcW09MCBk\n",
       "ZWFkem9uZT0yMSwxMSBmYXN0X3Bza2lwPTEgY2hyb21hX3FwX29mZnNldD0tMiB0aHJlYWRzPTIy\n",
       "IGxvb2thaGVhZF90aHJlYWRzPTMgc2xpY2VkX3RocmVhZHM9MCBucj0wIGRlY2ltYXRlPTEgaW50\n",
       "ZXJsYWNlZD0wIGJsdXJheV9jb21wYXQ9MCBjb25zdHJhaW5lZF9pbnRyYT0wIGJmcmFtZXM9MyBi\n",
       "X3B5cmFtaWQ9MiBiX2FkYXB0PTEgYl9iaWFzPTAgZGlyZWN0PTEgd2VpZ2h0Yj0xIG9wZW5fZ29w\n",
       "PTAgd2VpZ2h0cD0yIGtleWludD0yNTAga2V5aW50X21pbj0xIHNjZW5lY3V0PTQwIGludHJhX3Jl\n",
       "ZnJlc2g9MCByY19sb29rYWhlYWQ9NDAgcmM9Y3JmIG1idHJlZT0xIGNyZj0yMy4wIHFjb21wPTAu\n",
       "NjAgcXBtaW49MCBxcG1heD02OSBxcHN0ZXA9NCBpcF9yYXRpbz0xLjQwIGFxPTE6MS4wMACAAAAd\n",
       "6WWIhAAX//731LfMsu1Tb7YLqPeiniZfQ3UlAZuWxO06gAAAAwAAAwAAAwDpVIJjfO4A0Yy0AAAD\n",
       "AFPACpgXKxLUtLwHeGfiANY0zgo8NbJpvcr7JDeU8fbpzeFAXZvHkvIIUno5KVdt/jSisvFKRsel\n",
       "a3uJIg4sVNr/zcGE6pxcHvTMvryi+5nM9zAt6ogPK/HqBqu2ZkVpElAVoY5bmN26eebgnBu0h49T\n",
       "LkRhDOLgskVEQjn7Y+f8ZRVuorfbokX7hXI5C89s6K4l8vGM45Me2bq4Hll+dgzSKEyFFylH0y/L\n",
       "hwtIJQQ0pkem8OICHLLo1u3hznfB332q16NQbnsEEeIi71EnrQj8uVumWf0+nZk0pKEJNov1mvDx\n",
       "z8UWKgb6rJOLYQAcynNU/smUEVxZQbbI6JeLdLYmgnygZ6An6d8rOJxf8MJd46ZCu3gj3jOuIIUX\n",
       "8FpFtk4LiMV2WPsJ5NKfKFquJRzuvTY/Sra6h28/U2sIzPJQ7XjC1Gdidn+26UY0jIyKdhHD2Ovw\n",
       "dER/931JxGLWXKuG73usM89F7PZc9baqWz/bOJLFLQ/WARCYad95I9hvL7f7GwiPSYb1PadeRvKy\n",
       "+B/x3SST+xpytiiiiG/tRpPO+kZ1e1NcdHdcdDT0UPlhvMvD82XbjRhHUpSyVV01Gw3DAYl5G7dk\n",
       "ytdq7PkTKMFQIB5lXod100Fi8LOX8Qn9L8dDhavRWUneq7v9BZhCVoveJBHq44UPrXTUth07Xv4Y\n",
       "stDljiYfsjPWvnyOhzDK6Ib5nZqN3WdJafohNiBXQhf2affZWg6vuId2XvGKvYamO6KY+ZqVeaT4\n",
       "/QrqtKMmkdv9HcxEPB+OepnBNMMuGe3O7y3h+PG7f+PfMD4WMDh/JRWWwCuVlAir7RDFMFqMF/J2\n",
       "J7jlKfSoEGdeumXvcOLBgk9O00k7xrc5ubSQqG3gOy2dpy7EOyftupwhS86KnXzXuwZclQMOdw2R\n",
       "awMgQ4rnEaJVpyg6GGfUtoNtZw64GM5uNP5w/p7XHW4b0IQS9RAssvu9C9Pte6vuzbYxRsWJ2WRN\n",
       "8eA69l1wLB9f+nTInIcT2G1PxDwiCoRAMRXt8fq8Ao5WdfmUZHZq4ltlu1F8zFBX22NEgehmNkdp\n",
       "bgrkWauzZL/bxtCNvRS9st/IB0q4b1S25Z+0PqJgsLPK7lqHFq8fO49pidpwFvWYKJU/whzhsQsz\n",
       "aDdjKrWUnaPFGt6hVeT6Ci8OhExcb/0TzeHSXVhn9KLGd59DcGYP5dL8Uti9gDvgVMlkd5Zlw/NW\n",
       "M9oqPy/kl9VIQUeIHicU0OZROtffQxUzxSS+k8uvZlm5frSu5C/uMrJoWfDinlxjfBPcFZ/qRVgX\n",
       "SCaTJQecd7Tea0wdB68UVGt0j566P+M0ZO7RbXa2hPOVSGm5nrkXZLxaoFTHLEk9bfL/z9Ipj3mA\n",
       "jAFxL8PjTk6dFV0m4SToCDPbxvH0H79fqVLNVPk4rWsJiMaPjIr0vtZFnJi8HV9EpXFcW7ux9Jph\n",
       "5BMWOJa0/dbfJhMPhV8ljehwDJ1T5Rzj2qB6qQBU6EwK22uz5EeQlkVOBlRmuwtWbhJJTlHWijxW\n",
       "ZAhbxxkvPfxA5TeGvb+BZ0czmE3YzcJCFsj9hQl4aHrgiQ5Hma18+rtxYeLpweMwZuiFQO0hcPmN\n",
       "3Enx5on1UA/7VHhnIAzSm0F1fVAPnmtbFu/0bJfQWk+qn+AGlVmHO9deJOblQ0NAMhXz+m2UNLBM\n",
       "es6lXlPHbePdffb8uFT9zLz/1ahRaYTfewvchpKdDkZX7lkFqqC//dNWiKY5vvZE1SLf5/lu3Qcd\n",
       "VTXjGDjERZwLiWzhdtbt4ThAFGkBJTCO6geGYC6df5tEPq0jbfSQL7Dj0RZCw5zv8wPWb8fFYOfp\n",
       "epw+v/dYE8XC1XOC1pr/ZvTWX9h4P2K4bWOksurUe5SR2KcROZVUvpY0edKmfR0fscXjzP0TRyov\n",
       "ffSks9dJyyq7eMuITa7ZJey8Y3Ei+mvXtgYsomm/3A1+pg0Uik+sEIVHaoBDTS/Bos+6lBz+B0Z1\n",
       "nbKDFct05AVzDehO62gScXpu4Ve1aPn4uMSzPqR0yjH8iSz3gO1WIktjnPiCazjENlPKnMsD8bHq\n",
       "MUd5QFXSn9hcoxaWPWc/HndT70HlLLQ7/O67D4ZePKFCCV9pgBCvqt7LlCuaqrHDIwrusDnO4uq2\n",
       "f1tdc+zqwyZkP4atQO2ZJiNI4gqXzC4nTw+4AFVoNMygjsK+YqcRP4CLqnEOMnqCbmFTlu0JfgYU\n",
       "jiFSmh7Q7qkCI7E8UmOQYVSaSuSX7v+My13u2H3L/TGS8NiiKzVOIYH9/cLgJwIf/WmiMTzXk493\n",
       "CCBudqMcZ+qpk1FCXt94ymOGCBrx70VFNNUwkcrUHiJ+IdBHmQ/6o8w4AFIHr6i6S1CNX/nnE2Nr\n",
       "Z2PL/yUXrMwiCMPW+6fDW8OWT6SN7/1DQfCEdXfGHi4RydRK/YgGrysQoGA8aFPYNmhROLGq25jk\n",
       "BcHTb52rg6BEU51hx1d8n1emSU9lT/NLbxCUml9qbXu/qSlX9HaOmp//83xVXpLT4kvuGrvF0+kz\n",
       "UkaLgX42SpmtawjIyvZYEn31UF/tYz+jbNmcH5jHYvPQdyXHTXUTvooereS6/7yQrTutxF0/9s6C\n",
       "q08cjtBP30lx4XVbCqeXPJNOjpV1SFPT1G/pdY6AJb6HtLjv8BgOuEhz/4ETUurXXih0nQm/CUnO\n",
       "yebCeoMgAvZDp8FfhTceKk3hCegFGPBEXm2A50Sn2y8wHgrsu2Ymuxb+Gy5KgxKBP5SoV218o0Gd\n",
       "mmnagm+XgIqAXQw+a6NGp9s8206+lzsRCgE0Hr/AmLROWvvf/6hCOf/JPiEWxXoJTAOb1T41IC45\n",
       "UVQOkPeXj4SnHK6bNux8MLUz8vHa09SHJ2djOcppVkJpE/htFZ2hMJBQes9lO2cil/a0mdsGeIU3\n",
       "2zDSSJoIYs54wCiifVmA02F/Yef0ImP083Bsnm+epsA1daEIRBY4NfR+7EREiA79TuACwVEh3Ujf\n",
       "/JIh6W8mH7x/B9WdE1ycMtfMKXN5bF235Adjog/ovW6GmH8GT89/rp5ai6V11kgHRVwSiTecHm3h\n",
       "JM2FzkusZLP7mC57aR00YKvNZbrdZHTnFew0cm0g774e6YmbuvPCH6yeui9VZHOCdWkLRvEtF6qf\n",
       "kwg6NvmP6GT1f+cj1EBiFxCs4OcTPY3inD7o+MJFNhjB9QfwcIzxlSrNlQ0RHC/cDsK4YKP8IkB4\n",
       "WzV4eG50C/1aBgcVmOzMzUYCMEyOFxZ/eYlAz9fwjWE4xHIkcO2K+3M0fnrn6QV/u0TV/AFm/Y/r\n",
       "1LoERSzfzF/42bM6OpyWVi38s40+aJxEgoL1bEXtJcYdFEaBzgUixNIcNUyQiHynKd08+bICDut9\n",
       "0h4gHpDR/21C/myk0GcW9eWODbmQPyijPdsFrTi6/cWkuXkJu/Z6ott0SlGknznuPklJMiwJLiYw\n",
       "QrtmZtUBOHFjqqREr6FkOgTVmYMBK/M6pjMDQD9LjSWRwALFgHYJQVwoX8YKpMzideu9CPlMTJJg\n",
       "EnrwKYvFvrzUF3lhk80X/3Q3hw07nzLK4IGkd2lJCNxiOTGWa33JfFTgoKFy+ZZ/ZVrPsGrMY/1q\n",
       "z5SWEXvn94wJ92GHyoifMGfgd44rn7Lb5WnB2QWjEg+HbvauesUvCpUNSsHKvQeQelsTWSgbYeR3\n",
       "12WroVCfEGVCfa9iYdjZYn9USIhzaJ3TVP/N7pkaMh7Nncy4dTMXlJH313QNEEJ8jfIVOXrVKFN/\n",
       "VaDO+V+IjCmNGLuSuVFOVj0ZcaMCaVBWAxJ4Xyc4wP//+HJrB6CLcCiNHC6jAMtEePdtgdnovCzf\n",
       "2S19PrbH7Yj+FLIIFk5glWAQ2id+J2uymsEwrg2I6TQhy5EQlzI7jIoZANbL8ogy/0S+DWr/6snE\n",
       "OJ52TNCff0d0uE6/KV9dYEfWBRkuZU7sMyOTpxWIwSXY93PYRgu/B8PmD+aqBIdbvdw3lp9TmbaP\n",
       "r91SkPs4nAOete9es7zIgWoCkTVTUugfJPf3ffnKirVc+BioT72l9V7/A6Qsx/Gngkz/0ldZxMRy\n",
       "aXybWswAxI2YIfmfKCHp7T9G2kFZHBQv/4kzUYcgJiwD2kFCIcqE+8BBFZoEgfxjNqjw7KCM9OYZ\n",
       "4Basdga2mdDKW0Xws0+CmYvn+sEpqE14D/7t8PUey1sH9o4/tO9N6w3TNnDxuLsi1qKKd435V+8H\n",
       "xwXaXklQxY/L/aqDCefCVkwUvhJLQ3AOSZDTOKxRRWxA2wXebgIj9FCMG41cZh3KAcmW8aNCn8MO\n",
       "KpPFif7b3cNRK+gxJF3TVxZAWY+pVvnYCu212B2jHwT6O3WPbbkIK8OokNikoDhUVALAeiEDblFz\n",
       "MTju6fAYST8vH35qVUyWNXTNWjR2dFszxleEXGlLVhEgVWKAXadsUJwsjw5SF+c2vOd5VNXgDwGv\n",
       "wgnvJFnwIk4Kk8AUuh/1br2oMdq9FOzaW9WCsjzjgT7I7Qv8aXtPUYBCGXpPRXQUlZveexfxSbbv\n",
       "RQmZH1G1/bcqkb/T1YFWAaYwkWp0F7BkwYnKdCPql/nkDzJFZeq8uK0ATIAjL5wanXdnRmKrRtHE\n",
       "4EBe3iVbIS11iifJQy0mNa5W8NEKtjp7lNbeUMu+3Iqr2mLf6uimjhrMoLpSOaJF98Xbt7LbxfXu\n",
       "7uskf2v8f5an8wvzdY4jx7P+XfQGFK9yMUSAS07aaSxXFsCkIzhxz+H1z5njDkkZkrj9SOkG1IsP\n",
       "cN7k/Klknu7dlFoIgPMvaSOOCIz0xgCM0ENWhMXaL6SeSdywqWZo2oxqd6nGmrW4TUuem4iqKe3X\n",
       "QsQjprjvdtiS75gU0YP5pkkEz7DrnlwL672NOZUj9qs3We8tmmo2PLFx4BKI26pHEy6UaKoLLKeM\n",
       "mNtYkhy4KRKt7wZN9Wbz3fNCuJ/9wEod5ueoM8R+k5nlLgUA3O2QR9QUbp+7Bkw3L6fq5jSuAj7L\n",
       "JQff/7nl8W4G1j3H5BMQV/KNGBJojSIVv/kutzyddXEUJWuuC18YgdYjH+WuG8oupT4ix/JF7aZB\n",
       "dZ5TczlOFKawFBPNNNN6mDgYl8hy57GRLOg/v0CByPimqvnnBYPCw7LeAFDPQqbw/i44JLfnJ6oh\n",
       "+froN8GTJo2xa/jy///vb39MlxASumuoVWS9/qyX71jTGGHCHUe6bmpwE7AVh3GtymcEPnxlBvCD\n",
       "0xzEt1NBBmU58aaA/NmXZP3SwVzbsBvzMGn89ZRmWZcCXoizQUkIBOSd8Dl2yVJSxNxrGhswpqIC\n",
       "BQdbblFaKx2bYwFioNsCGWeWuiaatzEYaZDdQwXA0DTRQRuxk+VRprW1lXKVQbtHxh1HwQZVj8on\n",
       "+dhTTXtihwbwgH6omJhfCwu+sShbM4+vyShLhir1X8I7XPC8pAmJQFU2N1zlH3Kqxl0tl2SD/roF\n",
       "6N3dxO3+fOXOBLddWwVgvHGx5BZ2BiNvlrv8W+v0FnXtPeU0o6bFMQwRHbfL3W769QLxTfEW/PF6\n",
       "PQD40VITvjl555SVEz7kHLJq8UStEz3IfCp2AES3tVP8V3gSij75iwyEVZhnm88jtCMajwWjIGM8\n",
       "FNwh5yy1cTVzMIxmOkiYF5kP9FDnSydA6SgfFZsmutKZ3kLQn5oRJdmIVW9zOjaj18gUotywABSd\n",
       "dRi7E+GYCAFiXPao0Q5AQWvZ69CrM40EdHMzb/nFgivJV4ZyAZ9sqEXbx2cCA6XYIwJw9XvMNBIN\n",
       "ONI9hjjEJT967I2XlS8LrownMoFyJuqQ4Ybbhjhxk7NF8aJgWpat0SNhkAMkRY5gbmCGZkegYbyl\n",
       "/YRJbrZAQ4RoT7B2StvS4otIdy/FkJ/FdVaOFnxgw8SXO2+lnDHRwDdbK5rU6v6FK+yyUiFxeW4I\n",
       "cMLJ1SyNyRAC+B47nDpfXf19p52hSS0QJbf8uOFIzfuS+Eo8DZFNpUMox+cWtJHDDnowSf4OM0Mt\n",
       "6Ik4Ce6/hjfTq0RvslYDV+yXJAiEIyfeuX9qq3fKXvcXkFd0597Nsc10JEpZpUGjduVfyGC34+VL\n",
       "uTswvc383tfVsqg7t3beMJKnOVUaIvzd3XRtW8g45S26iOfphSqV+zQR/p0xcx6A6KQ3cPNkT9lk\n",
       "rqkInA3fSA0yGhm+8IXESfdsRJ6alhgdovm/A6S+uMMKQnKPl769zVJdiwvdzj3rFa/3I6wX6OhC\n",
       "0TdG1FehyF2ODSgWNv1ZRYHBby88RILxPU47mtqXKXTKzcbFufSMTyPy58uPPaGi+QV/rVTr5on+\n",
       "eRDRYsjF30M7H/TooH/1pCrh9sTT6d4txz5KCGGsBjlxrYKmmx5gV2x1OXfHXjY6OoG1PRAjRz9i\n",
       "25XQ+WnVsLcKskJShhwd+FELmGs9W75I1wbilLRy+DDCoK+LHNbg5H2wGo1xy00JRmuUGwqWKnXi\n",
       "jnbr2aR/9n6ovltA8AlDtszPJivzXIwe/j5YBZHt+qaJuXFhTYPBMa6RD494cioRIqEqY+0yDiGS\n",
       "/hz9PBPdzeLsYcgcSpm7gMUejM6dqH1nibcnWmivFG8lCR4381pjj+EFE2elcNhEICZIOeL8zqek\n",
       "0wmoC4xzockl9Q1eeTYHMdWXCjUpv5cKjCh+SPE1Ng9dx24Q5HeyaU73ZZWtY/7XnqmTBPeOSpvQ\n",
       "qofB9Iaeiudj7OAAdiWDa2V/ZwKZb01w75QIpoFJyQmarGRSSauzmtaDBq8PehsgZpqA82G+IBrd\n",
       "L7YhlGt0hHoaZn+d8cY8RZKCUBzUnc7iLv7tMRZXxTFsNn2uUtRQFLBr+RoftFLsYZ4zkDyJ16+O\n",
       "WXruq+DVFgbsnMoQpwOgPcoIvu29vT7InaI3kJTYnsLW7aEVmUoDE2G1wXX3x5HecFqYWpfXE7JL\n",
       "vXyQirz/UykOpkSVhlcUMEO2z6BBJG2gprv47n6yPdi/pe2TIN0Lh5uNwZxn1mydSIsQyWNx8W95\n",
       "RgWm7OIvWCKuVm9xkZsMKumuNkc59fzXacemxTd7Q9/756cevYO9J8zBI1g1Ca3ECUHQOURrHZCm\n",
       "lpfJgpqLHXxaRiABfVuj+2gz1/QQIvlkPQZxnwihI0+VkldWb6QXFR2D8GBmOmxonFAd5ZwJ4ix8\n",
       "UnX5ioWMin2R4s8BV17ZDOaDvlBdVIBmjjtvc01UakW+SZow972DEBu2AgwpomcyjgUmuMklFG4S\n",
       "K/Dls7XOguOhEbKPGozKFdAQLvW5VC5RBBBFWxSbJxRLrsm8AiLfQ5UxLYt3gzTGjgeSmPUf0RZm\n",
       "GK0XKvmajZuF0A6p8aP1/3uIybm1UPmMEAYGyPZ2CUHtIPs/sfY91Viqb0Wn1hOdPRmzmdVfAx+a\n",
       "MJvmFsIpVyO9YyfqF58thuv+k/zPGvGfwh79LqRPweFoYYPMBNhFPJJcn0+BdshsstqGDR+jX0tJ\n",
       "bOXfgesnlEnWov0EMENIkuPo1EZ7q+Ga1tNF7WAvefjlNdcikeOYknsoINSvY33X822T2b+RN2n+\n",
       "xmnhExzweByukcv1P6vMHpERtsNzRWuARe4UigoeamJybcQGpjCaCaj6gx2IPpvF7E6WtvTiH+K3\n",
       "8cByI0xzk4qSlKAQxYrccZV9SYpEBrl5Wwl86jo+vFuAAET7qt0z/79NgPGLLPxfhcLpgOMVK1Md\n",
       "2LSaHpSq5nXZdbRli93u51ax52ObgbPof9qeqIIJEzxFJlURTrUbUYvcrtuftf1Zvzl9KlzSzT7E\n",
       "UTIj46OQk/XsPkpcv9N2f1qu77cU1/bf0ySTgUg7Opf5vNqZLqtD1bmIHsMH30qeMSX96N+p0lwK\n",
       "g/lKeTJCuFvNCC45EMXYFCysCCgxLwJ0KHlb/Kqh8Nd5AIGWU23nwVGnC0yZAW5u/Uut4O7tHb6r\n",
       "hRAeWaFtYBDZNNlGUZScc5c0M2ubmAB59U5rm4W60hOG2DEsY72qAHsfaawlrxlupbUGUHfB7OI6\n",
       "fZ9G5+SD1XPQd6aeaLKhifDG+qZ9p9xI1y6fS/uVvOo6KP3tnJLunQqpEg3HPYmjpSUVOE8PXcU0\n",
       "tw7/e0D03Gpn6Nt8e5dLkS45bl5xeN5JE3PCCrjhwJWLObl74xzdasUUOcH3ahywiPCpHcm3xjdl\n",
       "CJiqqxXQ+ykY2QZNIcvfb47GpEBYurg8IFkFmo1BnHwD1tNpHToSfOyuUakugKfz2j3VF5GdbtP/\n",
       "EN5nF/Qpfn39YxEnLl/Jwsw+UOjuw/CdrhQVx7HXE7bpeHTRIqEMTfw5doc4x1l67VYpPYWoojLn\n",
       "F3o1QkTQR7xJjWWBOXy9czTSyhmoDSmpwZv0JnZ0kxXK62GH9D8p+dlfi5HVFy20NS3q0J7fLT4U\n",
       "kXfDqEMPSnf0bmMfDv6p1mJVSaUPbWmcep6aKG0qq1xNOstZivbFQ3NY/XsHE0UQU0bEXy5Pe5LD\n",
       "eeAgwyyTo16Np6R4v9DJ/A+fz9htYtlIGC/bpXWfu8PizZVzSa+K10+XLr/vP+zQ+0FjunR5tSta\n",
       "nJr1Qae0bqgyCn28h/fjseZStV8qM/az8zgqWxennlMCTil8VU+kzAI+BA5K8vxV6CUh/oa2J8R3\n",
       "tukffxNnNm0wLCpOZ+1/3NH6Z4UXgte7CZbEXk0SKA5m3u+vtSnUUGZcBPKXT1v2mlN2GCSTEWIJ\n",
       "9gAZyDXEUhbq9+cDTs1uim1R9IIAJsMCyTd990evp4P8pzeQWC+o1nCfhUv0jk7VqhsRZKkBR//I\n",
       "8n5bNiUh51cVlXd9KyNufh6exsRiWCC4vq6AOHOWHwECy1coVq0844KGpbi8/CakU3jg9BPTetKB\n",
       "FI2j7Ey1ycw9qJsfWKbDWUXlYzfksBUdCMWPgqa24q1S+tGFsvU+y3+kBiogVm1N+hI8msPLg+bx\n",
       "zQbMmLJlRDm5eKs9SENSVlsXKmN+Y4JcrKoIjG725MQyE7XPvO5vGWGBN0H4Etw+b1gAbx+hEMKV\n",
       "I9k/FfheF5NNSoFV+qrtgIZNoBUNy61pBt/u9XwmjCfkyVwvywf4tty7IgGPkMua/8bijoHFBfcx\n",
       "KnPeleplGnRlXijpbY/vU8Qlgu+5nn01ay5iZ/bpDID87AvwDBSwXOVo9VPcWiO8Kit/EemR8BtN\n",
       "6RMbv+q/7j4EuA2lQGrZHGTHRX5sVux2U2TWKsOEjQM8YibWfni1cj188tKvGP57eGOJHo4mOgMX\n",
       "/PmDSxcz0ACER4H7RZAd0kAO1VX790S2+Beo2/em6lmDvobfwFCIZO1qbLDMKqccHwWch+0YExTq\n",
       "Up29Q7APgjZ5UEk//zxZaxa97wBQB8Rsojs7bWbn2Wxpez1aIs+aE26bvAlBlBAlz4B4QzMO2lHF\n",
       "28B3HXau+ek+dNl/EQjQ/cImd4TxYKjgVR+dljYQ1w7LaVanklrhvKmnlQrvHsH0qwW9UDGJB7jD\n",
       "cMNRkoN9cWnfhsIpwv18u2HOJYMaY9LBd86ZbcCIDxv9gH7ZgXGgKmb08JZjDBcuklekHLL425iw\n",
       "XB6GowM0Rvvv+e+yT5YJ6zTCtKF3JXIAuTrdoHG4qd33HjNHKK/cKIYa4jzIi6AbVt5pr6G80x6Q\n",
       "F7K5J3j5Q82Hdt7FzD9yAuwyx5K/CL4pyBvpMJ9/seN/PNpGpCuZWHbHQ1oopTlNCTWg+8k+qZb1\n",
       "WIqWRyZrkITP2ernf0Womea/NMVoas1a27/ldBtPPqnTLFGg9iY39D/YQN48uDpfIWffHE+ZGhU6\n",
       "PbI3EMWyItcJaE/8YJ+Y0iNEHUexaglo0LtqvH7aSyGEssANbUrtso1DDwTBuJ7MmTqO3lReEX1y\n",
       "9ysx4/u+xH28yBFGcStC5/YQye170qhJmQWI1bQsj+hxmBcZDvnKb4hIbIYO6Vjpnoi9nHuFLjYC\n",
       "Iwm5DcyIrI7zB7UXxToBez5dUnw6aRek3Lxt6cmrYrZpxPOUky50npSdqJCVLhm/cQyIj1LNU6Bn\n",
       "03XrytiHnklKkbt/32PkTr6Z+nnBFvUKDZuM4eq6AFBKqWWdAiikgVkx4SA5T28eYEA9bR7f8cpx\n",
       "Mvf3Vm4a2nxxk5RwnSVRNohjimOHuliE+vCcKoVf572Z16lpuBL16Wxw4YfwxOn9yE7phsKZBBp2\n",
       "YE/x0tMc8z1lBqXXnxycto/5sOoN0wz6Bc2oRJj4Kgmo77ph/nizQuKSq29CdjYoFUlfVg0nQVAO\n",
       "vNE8jYALbaAAAAMAAAMAAAMATMEAAB5RQZoiYRgPYJVIAQFBf/7aplgAF3LCogDaTKaw8uiYPPKw\n",
       "w9gLSeG0CDcFAlpNcKa4N/f7AnDhJevCYaBK/PpzegNtBZ0CAe5+Km6VfgevZesb0uipia+m7zI1\n",
       "J7xpn4BxocZxE/ueIQBuhidKrCDn6fySmuEeg3HzMQ7HfhJBxR9VRfe7onLl0QF5ExANceuKV0Ap\n",
       "4sqxliogv+UuiIO0MQ0vA2LZULlvF1d82d/Zun1Mw9YlsV6t4w8QrK8CpukipW5NbG112j01Wmg5\n",
       "QDYu6hLjgXIlM12unFBuqNSFOOOurzpla5MVmGCkuPCaJAosTtUaOiler7PtHxdr8HFvC9/BjzgB\n",
       "rfwzlPWRbhsRcZ/xCb2pd5Z81gIrIvLH7LYRYXbUMpQH/+K5DkgJhbGSBvP0ZmQ2YPrenPCGt8wD\n",
       "oFjkNEylAzCC4GqjDmewbBeCNf/clVJ3qWOp5k+qPNrKCA7VTd1bmctynRPJkbh6rbCILOXRtGAX\n",
       "1nAkC25N1f2p77bLWvbWuPA0wFDlQoXseHeaMQwbwQ1EsMF3M9InfBsYizihs0IfHsmfjZsnJAcm\n",
       "nQgwi9vdP0Us+NVFsKq+kbJ7mM3zCyBW4/zQ7+2e+a82ryzL533S1Rc+CgvB1X+w3+ZskILiamQP\n",
       "CY9SY0JBdN0HoArpDLZlcmMkalFDZcoDcooYRJ3r+l7AI6JjhEls280nCC2A/KTVYEGnvMlbZAo0\n",
       "v/rsQsBhaxXbDtVSvc/CTwOkobgZP1IhExQO1x/GL4fPVRCnDPS48qpsrTRL25XyrHAqqDOkZ0rB\n",
       "khTx98fNTwjqDkkTAyWbbqrCArhjpmFqkT9ST5UbwSZmlq7D0t7ZhU8sr/GkGwbo4Z4MP9LSNMgK\n",
       "eXVxnfJHNzPOLRbisaJRWcD0DbeOszSj8k1wr5VUExFWlDuBm5/cSeSLswZ9EfBNOdtFyOZ7KxcS\n",
       "O1E78HktHtGg+K2aUwpfZ5Gh3Z6Af212dJEcH2HwXeccEmUgR16cgfmNViKa8riSx3uFMH346hZc\n",
       "12wJzyP5idsQj/MrI+Ljz5+VtYDfITlEp9YoF25IkQqZ3bN5Xffw55wowVHlx8Fpan+8MTLEIPBI\n",
       "J7TlD9Z3K0NfRkapFIgIc6mRWxKGqv8AMZbVAgmC2N3ddLqEj3afVW9fUVCuibChCLVbuKMQNw2h\n",
       "jnuLSCXn93tApvcFIFYrj+B8XGyoKUUX7vcGe2JBIC7kGHPUx+MPM+8EY8HfAw5cLmyPZSVeOYA2\n",
       "TIazjaC7X+tzl0ZJlhYV9qIL/IJ8/jlOB9CUkK1F44FqukIwLLpLT2MFWgann7x8faFIgGvZrBzB\n",
       "dARH1rsWufa3lfpyLf97t/xhYrpneJcUmZAqOxMdz3XeYkr+TxYuVMEUJxbhnLml6fTooe8Gt2cw\n",
       "uz7k1bH9nSRavB/t0FpoIdWYeLyIUEaylTqgJ5N38MdWpR4QDkzbsYC+sBtA90yNXYbYsMDFJ9dm\n",
       "TcoQm9kZp26DCTy5cyOV4xZcHt22I4cyXggA30Gcx43kX4qNzc9CQssQjPv/L/dGMJSeSWjL1m3N\n",
       "a6EY9pZU3tMAtNyQ46Vciu42g2UlDfq8I4hGXE70l33IAMGr86K6MBNEGUNJCzzAWP6DEcvAutjI\n",
       "6M4N6/RRKPuC65d6D3SgtMn9et85fqn7AhajCkGLeMXsprbdNVK5S/snjVe3AqaZSzEyGovSEeBg\n",
       "YZAXkdfEK3jXBxb+Ypm2lQesR4k69YAYINmYaYEDGviduvyfm/Cs179+5QJ4w7Way4FEmGQoSxbU\n",
       "UFwq8vmo66oCB135kZKx3QOXZRmZrPwJ1IRwqQp1ZmPq6NsWeSM/8HPiQLyJxQpGABfSOvwfvHsU\n",
       "Rg2vt7vcGNQFxqSZ/LfUgfjcKoTFMYvW3lPHjktKIOgOBy522waPrKNtUbMH62W7fNPs9IRmfzQt\n",
       "gxpZSWbjYzvw8UQ+/7byCLMHi7YeRMKMav65roR6X9i0B8LNs0AB0sz0rZg5MnN/UT5UzKaNOQJF\n",
       "8S/5GcsKNbSDBj7UXyO1/PSFyUfXIWlw/3TcdZjb3E2bzg8brPmEDGYiLOs0pZhkJ4w7YzeRVgFn\n",
       "x9o0lIQQwajxkYLM8lFIiBeJ5/DLLMVWlgMkH9QmkNeAGa0gJxFlg4nSqmy+9nBbuxGHhGaiQEsj\n",
       "VSaH+LpCcE6/HMFuJII9tq01mjESCA4wz7knbmTYRdhDMZWdfRjS+V2JgBknGPVrcCuB6o/ffa4Z\n",
       "0NWMvnjjNoZ8c5msrFv5Qjrvla4jA/6xs9Yx0VBywxBDuE9LaEcGnQ/pyW+0+YYZMkoM2z6r5OFK\n",
       "0s4PeE6FyMEdA6/sYw2y8qGwDn3eYcd5ga5BmBIznfEl30g9ChXhIuTNlnLooixfyy+M0Oswj8bf\n",
       "xLGHOhBakMPASE5AEjnrJD5/Yrtifyo/NdrhAH+XpdxhHj6UPyKczECcDaKijuhf8Dw/dyNjZJvK\n",
       "Sv4kfXAm3iI1Po8oss6KGHFru5rBu7fEBmdiBNOn2mbOaZEsuDfOkzfXkmKz9uralV9UZA5cI55h\n",
       "xz3K187q3LwXoxnQ2ynHBTYmQ6JF7DvcNfcPwUhOAueR1cLPkLONDBl6A3my1yNmLyrcM8HWoLnQ\n",
       "/jUmYDsUPZJakTH/AI9xUWSYtDSv7VxxT5wNryZS6bLKIsB5ahHTkCfiP/+Axua4A/YUHr/d9+hd\n",
       "Umn9xtUFMJpXyixGXn6NwHY4em9aj9nJFozVolCnMXWgyKzfypa3LPj3p1OxB7kycOeM2zQKsM9F\n",
       "pMGM0igXDKNEWSpRts/13yYtEJCpsp4T9f05EDugCPxhAMYRk7JtVF6JPHLOGtNQqxPlPxUAoMYv\n",
       "QNd5QL7UaSYyglF4hc5DpzoXMtRWFqhbjIDr71fMeNkLCWnDtB8hM6X/MA9T0s1BvH5ngzLM6C7/\n",
       "rZFlM+lgnkJYXE9eRfaAwBFlEwD+QSivA0hikdZkFMINAssipZKflCGylmJ2RrjfEO8XyTC6eljS\n",
       "VL1YiO3XlOiRIocelfOxd36FttBYBDG0WEXgRUlrpLz2RtpEtKE0amQkr1AZ7JsUGY81hKW+QM5o\n",
       "UO6z8OU29dfJ5s5q6m1cd+gXCtIQ4fEUiQ477TsC4oObsYOvdEKZ3nENd9jQJkUW5AiOz8oF5yW6\n",
       "8fGwAD23gov1dtzJ9CFDBDJnFzHQut2I5EVrRrzrQW9FgI/9sYBrhiMCJ7PQwrH7HB0E+0NUI8s9\n",
       "SU9VY682Btud1v35dBagJoyhzY0X1PynExYD413wHE781kgxUe1eGgA1o6dEE31eRI+pWclv0hXN\n",
       "F8GjrplIUQWNDRn9F4wJ5X2oHgijOTGYyDGU5X129fVWfUZhPM1ejYLlULxdxpMNiCa/zN6uyGEx\n",
       "uE5H+wFDht23lcTffzxneTYrCAZ0Ro567vTnGURoemDQQfxkV2lhygqZp0F9yq+9Ml3wvXPrir1X\n",
       "2pwRf913TlFeHdqAS17bpAVm7yDX/IZKYcuEalJmosrDYSz6b66EfbVpcZ9SQhenh4ZScWUESqs4\n",
       "2aiNVYFVlGdIFrxm6hSgDXX/n4eli0rTifJMmAENCvs+8MKgaedJc1jpgtZ55EsF7ooo28IwO95X\n",
       "T7GAv7mdneU/uyENM867yhulOkz+HEaE+j+mTZnrT6JGCgx/dMvIri78og9QygZC6Qbu2kAUb6md\n",
       "p81Y/VHilZLbUb4YvKsM+Civ8bFkM2NA9TP03vba2a/xfFxnJASYxORLq85zmiqnSqGC+xT85nJ+\n",
       "EYGpiJmreuTFZz798hbFw7fbWMtlLifkpNlhV+/srGK2Mxk0DhPzK+UboH/4NFj/nJIt2qz2tNLT\n",
       "CJ16USUkwHPy6kpr045pWkrLg1bNh4gLl4v8MMFzfzhDl52diFpTA04Wt88z5esPhApb82CHLBMs\n",
       "SHoPMMAyOE6cNfngzyQkQfjMkO9EuQiXkd5lIZ/hQbj9RlWSRIG56tpevIcfTxnvADOTf1PYgCMw\n",
       "bUC2f25zfsZv4gQB8eQmr1Hd+8hlGq1pBc6neiTOVWPg1L1+dYzW3kKd74HwdkkeXYQAoBB8YCOE\n",
       "PqWMWpaKJ4Odcw6rhwMQv0pP/PipgUSdaMF911S8ZZdnO6RdDuD06IgI4Ujs4p5uMYlLwHSsluyl\n",
       "m8tgI/wH+Pf8QtPZ9q+PKuWDIkXLzMsxBSiSRuVXZxSxWh15xa9l//koGYdbu3l6BjGgVhYKhWc3\n",
       "b1TgW3StBlTlLZsxXdUh5wTdytQ+TpgPzUI6nqIjTloVx2delmFzMKWRGFv1Q66XYXeE7zVXSngd\n",
       "mKLAd2ZeFbOR3VdZjPd8TclFW/Z3KlatHbaKnzQtE4Cnv72W3x3Lw8TEtWvJgXt3+OrgCR8zei8D\n",
       "kMoxN18e5rQUMd7a2di+XsFSSx/teUIrNS0DJYQUcWOst3AD28bkRgHJtxtFxlLcsYoUdQ3Ys52X\n",
       "rD09eXkJwFz7tO18PEyVvavJsr/+5jMEwAdKUrfigCbZb2kqERKFWSd6zDIeeJdqiN5OgyCltHbb\n",
       "lm+WJFxmezeV/snAQ/TQm1IYLzcvpl7q3iMjfnY4In3IMu1ll+5FwqRcBr/rJQV+9M1Im0fcWKvn\n",
       "upYU6XwQ75ezMoKEufRxwCcXngd8qRcsgx7nk2pQXUVTr6KMUoMeU2K9Z9mIv/VqFb+z2jrUZRdL\n",
       "F54bC/svgz+e0LHZOn8SFiPcJSfG6jm79yrXFcSd66at4Tub60uqC1RazalDtcNtaCmjZDckj8Qf\n",
       "pJ+zoiYRugS5oy12dM1tExa8K7M+Jcit/QeZIkrC1AWtfHVQSo1hU2Yww1v+JW5d89U7pq8pihDx\n",
       "kEE2/ZcHny/eDhOhFWY9/kyVqqheI8sMNqJmgU1cEIDkRCXpap1h+TtFz4KYe8m/nl4Bv6B04cT7\n",
       "3GNWW3wGxm0nmtOVanPfummAC7/GaGZmhkLLgqAMqUuxZxwZOIg2XFRN0BF6tHQKp4ZypkHYjBq+\n",
       "gB58W2h/QGsjcgppQ8NMllEoUoCqfu+B5Fxt3trMaDmr8K1/C3UiHYajoLuXqWbIQB4e4vtKK3xf\n",
       "Zw5YhgRI6Co5re6nxx4tOhaY24QoqqLcr18uhowqwPJKKBAtgr8S5DSFUSVTg4SM8ZUewwqROWWp\n",
       "Rn3KmxrhWK3Klrj+O7rcoeGpElFUOgX263GKSRrFSeMU9zY04neByeoMebAwfrLqp5+vEcEbZGyn\n",
       "5urkrdmfzqFk0jEa68yGSGe9xAQGdZw7Fft2n09NF22L6OVj3OyMkgvVzicZ05uUgCIKG77asnjp\n",
       "sJExvT31ljuQJEt/t1JfLOnxPRLlREqsx+WINeQEjOjXmbm6vFs9k6xzpQ4BZ5bEZthK0voqgBSW\n",
       "a0wIBxLIaX0KwW4e7KmtV0fQuYgnT/qBgwxMloK5bnZJtzkfnJm62nTPrSPalJTiTiX7RF3I59kS\n",
       "WJxeSn/kCNM+Y9S9QbHmuBRkIiQNVACqKo1uqF0UmhGWvUS+mcvogssRwWJml8+lRCN6RhmTeQF7\n",
       "JwVKiktMOuT3grqqLYrCGdpejMzQjJD5sFO6W2VipQT7nePQd0C8zaf3j2sqOZ4KSDXY4EvSzZ3v\n",
       "sQEFPCV7BmhPZPxMk0/NEErRwslJ8ZaX6YOPNWnC+8qlFy6I6iINeJisvhkoHQL7Hn2jMFyc8icM\n",
       "80xqL5PupTYTfvaJsvXzr7OJv0SbXNj1WImYztrr1rtFPXF4zQMDi2doVjhPWDGDcYNgugNPtJgV\n",
       "SEyPHbjJgsUQT5ArJqMflkFttvoBspAAK/gbq7N5ASQw0Pl9o27hKnrjhJwSUDBhBSqRSSKXv11d\n",
       "/ik8OAGumlpOrVGCtCbot3ROd2u0VrE3OQzRgIL7CtgICL9nuQRlD8StBYqRDn6pQQC6dEqsFGeJ\n",
       "xpbhYqmeo7KlDQytlaSXx48kejbt+vbaqKS5igc9mP16Q5gFzCLQEP8+JGRFXwQ9UFcqnQ+qZQ/i\n",
       "1uxAiqvV2O7jYzcin8fFQaf1NuRwwElYhNNGE6Za70lzpuIBe7r7D7kedj8Ueb07UxdXXkV6H/ed\n",
       "55XSY6s4u8bY45FHlFGDIQsTP0AL4dTShn/PL9x7O6/1bvxkuozkdNCbZtDCDcs6wmCnjorjjZC0\n",
       "l51cdlQJkq9no+UmAlYxgYhS1S2PqdiKb9HC8kFqwqi9PeptNo/UDGwGuUlKyZhPoP1mcriRiT7m\n",
       "YMLgAke6ot/OpUrGof3GWx/oDfkWGC3gQ22wjx1rhFR5s0NIbrYW+89TuhyS70ilrAYEJkQLAnWd\n",
       "KBG9udPiah7ceR983Wd4dz8Y6UCjInEq7/5t2mfetbMzcAncgYZdvwHzWMKBChDpQVR2pfVEAsRT\n",
       "LCLdiLC03w7+UobPLAJFzGnoAr2WllCHd58qkB8tIc5gt4PPTiSBUMt65OmDidwqEUhM0goU8Rqv\n",
       "FFLoJIzQXXdu7Iujp8RJ/sAN7WPFj4NY9AmNt2VpG08ijkYnaIrtvP1utaa9iy2/DwkzKbYNo+gn\n",
       "fpZYWPc6R2AvM6sxBYrXnqy75CeqK8c2ua32CDE1/GNN+9uytMwzXyzUDXSagfi8B9x4+c4gbYsk\n",
       "OgdXvZvPWn+LvTme11Rdwid1xt/gw61OzYmEInjvtDXYPeMnL2If0SKIKJ/ouiAV3tJ3y6LydOjg\n",
       "MHHWvL8ZY2VHPaiwIqnj9FuJUElcLJ/V6rY1f6z74+mrj2BioXO1faIdJxI4RfFxDRVLh7n9jhGy\n",
       "6STMW3aUv2d+ngUDssn84+NdCwZFCa103CHVHLAK+pDMMXQZAH9lR4m61xzKBZFEiRAZ2qR7wa8w\n",
       "WLN6DQ4C/evayAPRqlGzswDAwuLH1oAgABnQjUmoSXWFS5td5TiLvb221VJTJR1f30FOK2J/ju/r\n",
       "P5VeOMtSsGsocGcqQtkdj37Eo/urQpUKOgBzMh5u2YAU2buuSurARr9QTTRrUVxUHRSMgfduV7wV\n",
       "RGh4c54i1HWADTWFCu8vF3xleVEE+45LIQU/xT00efufaoWpd32jr1eDmDb+8twd7a1PpSpT+5V4\n",
       "x0aqvLNcbFuIbfd7uk0XVyejRn9tS9IQ2/be0dJDU3LdnpZv6UbPUiiRAkEfACs97k6pUvnol3YV\n",
       "1QIic6PCLa07hnwprwE+6vwMJmeoVOiowyGtkdp/AjtwLhcMiq4QGN2R7i+LK0ypOZYgdPXoGBTJ\n",
       "ReUcwU9oXl4v83Xb+kD5xmyJfUBH9cwo3a1Wb2lhgcfWFWBTYjfu9JX8VIMNaUL0ToFhRgxFPwL9\n",
       "rq+o0d9/wbJdngbfEzlcdzXFJxUqbn53aoOikAQ2Ym2XEadHFOQPC7jClU/M7Og9egf/wutRuoVf\n",
       "FGuC/HSDWLFKtNKIugXR6IuRFc4pdBQxJ/d66f4eQNPL01LBhHEBLnuOIa549YzuugSDMGBke9+p\n",
       "L/jZ+y6Jiu1IwhK3G4XYpYeAP+kSN7IWca3p7GlbGJE3NsBViWxNnGJqjuqhE0QkuJDl5/XvIdei\n",
       "Rql2QA1z6oxRhhXJq30VLz5RQG8Fe4E0wdRNKkxR/R+KTJDtUVDqJCfgbyi1seo3umJcruuUVpcF\n",
       "lQ7I5uYcA7WBfhLe/VjGiI8WbTVcGnJER3Ok3NK+cNM9AZwYvQ5JlXEKemyBS/XQOp3MyEcEWTHb\n",
       "AqY86etOH0utm2q3K5uGHcXCICOF6HWfK7ohJ/s9HYZNZvVo8xtzG+Y9QTRZpVwXfEh47X/uE8qR\n",
       "BO4MZE0AEvhIlZDujY5YySKd6HO7RF1Fu0v/CkHhndO50OrdtsKZiFpCMaMip77ut05P+0qKYRHh\n",
       "BQOt8RWZW8hvxnGiyAqUwNA5l+b6kEXmA9tooCrnbVmp89RReYD+1rSRxHigVk3Tqxe0c4/1rlD5\n",
       "GgrHX6pgFEFY2JZ5g8IvfBB4vVP2XQUTQh7OnA5ipHwMs3itm9dpkQGejj5zDgxCz4ewBppe6jJx\n",
       "FaGh3Rf6/XYTxAAqTsdyxg53HuVgK2Zsim72L8UQiWu4s7CKx4eNolNLF5VY7TDLvnL2VGqbhLxi\n",
       "kVJQaqERVtWQzcN11x8aS1z/p2p3zTiz3LIUpTtxOSKuXdwqrjjfIpopAvgmRmlz8reYu4HrKK0f\n",
       "/9fiknfu7Qbz17ZkUDvH+wXOWLQnwEJPL/14fxChPI6ZJCVwWHJNMq7ThvmiZxORZlvaRhBuqL/s\n",
       "bigrmHiDP/9NgwYA8NpHRgUxbkTgh9m1uTHwkymMf74ul/SwZj+ITutChFO5tWOBaGMkXd6UZ+/j\n",
       "KCGLiwz7cTXsHGwIavy/S2ebshw3yY8f8JK8mT6pO919u/8dk6jwmy5kKGc1D04xrAhPDTo793m5\n",
       "V1PLsoZSBFsDP0jwkMGgJnCuBJMefNOOG9fMpsiGujlHNXIGHKAfxtaZCDGvUslAwnap2aMA87PU\n",
       "3zr2ZadlXirwMnjXRvrdep6IprKz0wiGf08n0IthkVU+wPtBwk7Wx9LpRD8O3D5IOFP2Spm8SZOy\n",
       "1PQIeKTc/WjbUxccREDuCMEVqgXIhilSAqdlDqWITK0Uro3/JOiMoxs6OqXMZfqIfuvnczJEiY+M\n",
       "JXPDJXUYUlC5DFxpDnF35iZVoBjxwFeA0H+PNpuc8XQVs2iawtjxzP7IemzUi2s1ZbH6xNuFDcjn\n",
       "U8zrxWwB1gyxcj6bGYM2Bj73HOSur+i3fQToNblPKwkfYS2aanCaVUydQhHIAoy2wT7uBC2y4YBy\n",
       "Bm6yvATD0pvr216y0E9WBjg6nr3+wX/++tD/Ysi5gqNTCxL8o81u2Z7paT745SEkC+KYt/QoyxbZ\n",
       "ID1JlsExiMP5UCtTwaIGsa2WQLj+/OQWxRWnkzv6WfziGtVGa3OPiV7tDDP/AgjM8sPtIJnIkI3W\n",
       "6PQWW6U2uetjOqT7N3nrypz4hn44eCcQjz7Zmz2e1p70LERBDMEn3Uxqoscv6enhGPiQ8Jwy0whW\n",
       "SWPf/sWrR5N3mOQKHL7EycZIrTEbeRLHgLRkvzBcb7E1/VA5mK2iKFXlDu3JNc+62Xvq/bO7QkpA\n",
       "bMoekaHUFm++54WAJ5yI0du4KhGcD0ej+avpu7wP2cd6Dn+WNGmZVavFWbXBbarRE54XQNUHhbcC\n",
       "QQGBuhUVt5dKMod7MQlT0BZ9BKYwbogvH/qemJXPu4wLMLv0hcZxTL9F/+f6Te2p5phe/ZJYsKXi\n",
       "BasFrBcEppU3hEAtCUyR2igwiWobnPySJEZdJNRCwYFrYeLL0rr9coiXDsjtxt4xmZMg0xvffXG+\n",
       "GA/913cmWDJkXzlzRxk1JEjBxfqbsQvtjuKOmDYQOhkm7pL4Z9i2uHXmY8LcJKg9ODAriB/y/1Lj\n",
       "AtLwYUWTeQ+BuuVYPPeD/ayAb06MM/+rpHtS+95m6XZS2U5RbMJYDMSWMd9gd/0oRRsOrWVMZJuK\n",
       "WQAFADt00D+RstFNSPqvtAHsfLHve28HsJAd+sqzdqGedlHCe7NiAKF5hXEGmTu/hXxvfDft085u\n",
       "Z465o02SExAnmxDFzAhlJj35VWdiM+L6IFLSDp1Gx71N9U7zQFQEU2ME73oDrn08wbY/jHdPrn7B\n",
       "hKKV8nQIcDZAr4O7RiPBczb3PXPjuehcjlfIIk7h/nryMIjdGWphKqhNdbYeHULJyJYkEljPJ4An\n",
       "aPMPx2h2y+jKu6tCvUxvklUnyCXYlOQD8k3xIzqb8GzrB3D+LOiWdOXb4hkyXFmdBnE37qB2lleM\n",
       "rfsjAjVwvk6B6H1zo0DL+YNOyLvBu0JYpr0J2g8wjoBjZUZ0IfBywFF64Qf/4nf/myH7dgrOPPDl\n",
       "oU77Pkozii9XvGyn73jEEfjEefINwrWu5GlpfWZ6ohaZO8gjm6L1IwRt7ebaVX4Pf9rFdtARyBXt\n",
       "zxJ5NlXs7VA3iWvM/x9oClvYOG8vWgTVhOXw10/knknVAhBj2P4JVOg3fPTiwWbddJjMhtj2xK2F\n",
       "BPLT0euU+RKMMaJy0IfXPH8jhzZXEsr70VIttxSSUV7YOlWlAJEYhDJafdlFdGvn1laeqLxwQKS9\n",
       "QRfeTtLjiboSCngdNzmhhWke39XbFXQCAb2tfWMfI73///ubzATK4b79FSzIXHOZYtNVplArUOz2\n",
       "c5v3lC8Y3eshV44FhGsGgL+jMXnCdaoMl8NQ+bk5gJeg2wzHwQzbwQN9oN+72V9c8CUOt38W4RQ8\n",
       "M6MivpJ4tcaFtP8uTHG+CQl7h2YFO8zdNByC8+OyPJ5eKBV2a34V8nr37pGLNtB1mfSfUSLm9l0z\n",
       "hqTmsElRQ0jETpm7+wsV9n1rru68qwX8nGTM2ILoHzGqJksQ5Q5JLzeTLtEeKbf310mv428UjzRD\n",
       "EYmAhL2zWNQKxJD1950xhHJJfruwlbO0sSrPs0pxQMCAAAAEuAGeQXkFfwAADyWfQTkwimJk+YjX\n",
       "wIAB01eAvMIoXd/EUTQOZfd3PCGnln5ekJzFODnrvhveOMBA1RkQV3rfvVcL2y2BzRiJWh25SzIL\n",
       "vE3NN5/CaecxBGOi0cnX/SRVGIuVZjEvzBmua1NI47LIfIEDliDbjbeedDR0H4BWAUI0v9rM4IA8\n",
       "dVGBH3oML3DT/ZN9/wSJw8epWyoJo7uTTVtHx/dvGiqD9gj8uDmQ9KoQeDFAPvACg/wMIIKqDfBt\n",
       "7UYW2+3XX3iG0SH9mHo/BQTMxt6eXT4YVCGS2GHPe8nG/nLOlcsBn/8QiS/BcS0FP6+E2Obg3U1j\n",
       "w0CLI+HNnFUR7u+9SNJkLMwNIWmYz7k5/9XW3zhK7es9xFx6eaQbGQQWhGbxjI9mFB6U9KJpbPUA\n",
       "elnGFvNIKAuLppVJLsQCkWs5VKnQ1Fx2AmPtVKRwTxe1yrSpaPtghQdLUV8iDBbBQykTq+kXu82v\n",
       "A1x6jpbnUb+ZRQn7sxhjVub5AKo/cLt7p1RESE+jV/ZVKRALSOx9Ax1rQIcwtQx7zYd9qLWEwWmH\n",
       "y4EJfBQF4SdaW9m2vEakPZ82MAG1MgLl4bm/wQFeLjBJhBWSYzWsR39UBx5IGNlGsJJeR33kl3d/\n",
       "JuFGhMIXE0vQ79sROMWNPNdd589jMwSpfUk7HCz9PzrKj6k4I6DJ7Pq+2Mhwcl12NvnIn/POx+S9\n",
       "lhMmVtqZIsRJcLXeIuMqlelRYbyzBqzHzgrQ59JcAtZQogAAkfFK9Hnoka+v8ifYWSqEqOd/2rr1\n",
       "QipRAkSpLJp/hNVWCQbUXPoQFHaQYYOo+rbhP5cNMNBtePXFmmaT1qF1mJYrWY0zgx8YFAYefmM4\n",
       "6GR0LqzvSYN7IOjMAAJInVgAAz8oKV+TwHgepHfTm8aam0W7sPdiPvCtMph2GLg/ck0VhnMNhvaJ\n",
       "TZSJCCw0TdSDkzFBMKFy5CifgicrMqF5qEKQ6yhgbaSo5t9ApP3s36jFghL6BMxSksZ9qdczxCkt\n",
       "36gXtmwJAEi+w6hFWA4N9C+gvY2f2ZXr2zDgAWsGq9Afmfzy87RjBQ/HctPqEsOWAAF6N3M5cnfS\n",
       "Lsj1fKtwJeTn2xHTXxRqCsOadqmsK+IN0HJirDBPxHMkbk6C45+ZTSqgUHqn57JGiHuPpPK48Xz8\n",
       "ahE93eUvhVyCa1W3rJr5yMUo9qjCFOLXlHMw3+Bua6MxN6dKgQwVzjx7Naoe+styfULz/JN1oXKk\n",
       "GtjZGAEqurCZ9xvrMPOXqEx5a4SDhYlhz4tPPwNZEyDqHXYQEDNcACQJdBjKbPDsMo7/IKiO+E/C\n",
       "aMNmDhAeXN8DvaZZMbIyAdSm8Qwe6G8w8OhRE0nSQggPecP1Pqb60TLnh4p9UbjkXgAenTnVbDZZ\n",
       "QXsb+M0DS4lMZcXaa7WqQKfXHw7H0FZR5/iT+OGcOd0d7VEAGvkKxT7N0CRCgt1flUWDJIyVr3zy\n",
       "dE2CUvOcsaaJLR5pVDWfiEth7Yb63OrE5Oz/mSaLE4hbTj2oNHR64UcDdPP9Idet1qFtMYQEpGwL\n",
       "bas7IIvFTWQudX13fewyn34ruU42LeL4+Q36is+LgE7NKrnb2LTqaltp5B+TMYKDAAAKSUGaQzwh\n",
       "kymEF//+2qZYABdxR+dMxQu914fd2IADZYADGzDS3nfaZ6hA5rcCE4m+sROkKHRvXSRMAYC195bP\n",
       "HnxJytW0ZAh/6veJBvjjs88wR1TPmE0IdL7JlyxSu2JLwysD1J9BQfT3mNqm6FVNkJydwrmvEif9\n",
       "3JsQoZdW1o2TeMa7FbgVzMAWYkXSCLJfPDQOw7bgBUmkZJohYZ0i6EA/GyRFtwM/WLFKe8ocKv/J\n",
       "x9eFOjJa3O/eNLOn7MC6OpNNEPOwxQq+j8b+eGB+6U+OFgK9sA9XXYiro1hlqLmgRkwI55oJCQ2e\n",
       "nMCw22UWzXlDKwbi1oYCUk/uKpKeUSYiwGRlJ40IhR+XdFOPwMaeUrOCikPUfPNeDUUBkd3PXz7u\n",
       "JOOXH6gT+w89BMgVazhgeK6+1A9rqda1g9OT6S3FRhqhitDt6cqEUTk2VAXzBRPlKKzCfiBPykLI\n",
       "BkR+tXnQrQIy4yhawC1sjmJBgxAG5EM/wN5xqjRvu6hrT6Oogp9fW/UNe0je5As9eKxUHHK+faKB\n",
       "FW2mfTixjWcnUNIAIG1XgFZu+uKFNNU9llmFsKppcovZFuooU5fPeDIFZwYbT6kwcTZJoMhwgmCB\n",
       "yDRW/gerD6ymUWP9V5JTIO+jwt8wy5CoP4C9q49VyQodgagkA3r1ez61tzMLUCJicCnDJ4ec5um0\n",
       "Rz7i8QWfvfu6bPjF34+7Y/TKD9TkjWQl3ST0gmpljihxMT28s8px+k9FEf/oJxi3Vsyw8T6M/wcE\n",
       "Vdx5wiifWhjLckNuDbzzU8b7Kaf9Nwox7U3eqF4fOcgRdlTnwPlNXWJmjiSfxaWk5uVFa5MJgIhG\n",
       "IrQSiNj7CbiJaBF2M46GMkNXLx7ex8o6QroWxQV0EdoX0DJiEIib7zM/Lo4ZGcTKfditn3Eur4sZ\n",
       "brd71sRaDXeTgtXG0Hyvz0mYezsoO5A77bwRUummK1PchehhGeH8WeK9PLimZcxXJYHp5wxBSu3V\n",
       "Di1PmbBM8OTLv9YHEiTplQtgjMs7zzkO1JTW+C5Rc+m5liu8P0bAAxDdVQCn8/db8HWJ81WWkPc6\n",
       "K3Rn+ZaPqHjzVabNo1bbCZM0vAt7pglkQBOkNsbiVaCKN2vA8kD5L3J2v+sw5rCBnAKB0qWfI4Ph\n",
       "KvLtIadceRxe4s1b5sZTrKJ3PyAPAyE9O8vrmkGd57aAvsmxpcBlic9PPQm0Efd3jWmXfL1PvLKO\n",
       "J+wuIdF0u5FNRrQgcsrJaeJdX+5b4u/sIuElDe4uOpG5kB1CbOJAToO4HUc/k41q5hDCqNMJ+VXD\n",
       "NKEByPpiGIhcI3UroKKFPi/6UzvHLn9bwCV7sp/3l8vjez7TG1+wpLVnnj763vHbG9MH5lyHNPwe\n",
       "HdEqpPCq0b8DUkvO5Unl9L+RaYL3MJPo7hqC3XcfHjI6i41M7lhar9h1rAkuQmNPSN6UFg5MdcTC\n",
       "+lieYZCcFTAFFcfxof+9Kf/erMfIFZchClGlLDPSlVvHE6UEnBD8gVO9OObkKXAJfBrRLcfMG2n4\n",
       "tpzqPhS9hiSb1SKO+nXCnZg6ZfTlOf+nQGV0+m0otXz9VSOwANe2Cvt8K+bpTki9P6B600RPAHPX\n",
       "CxapGkLV8OaChq+5KqC9+YPfwJnbBagpZ1ouIy1nDjVvVwwfTCu3exgPJOZHNipxB/BwXNq3WvBQ\n",
       "DduEHW+ZHZEPD0DyO4LOIy01gdjSBBK85QXZmyVDpkGXYWvTyYFQK0cVEO5ANCK1CwB7+a4xldta\n",
       "tzhhoMppNFt/0WwHjpfPFENtVB1Hd8njPzPjP58XTdykYGQUAeHQFSqTvdgmy9V8t5P61KgvY+ig\n",
       "EYAvldxkc9H/tIrjwHnxtEs/XGUc141SpZXTOBBmfVJDB0T7lZQCu5PfxQitFCpCkWmdx+5lxGv7\n",
       "X3eaBRnjLd0Q3qMoQL3nmAEMOMOrWF/bvsvf8sumq6onTQSW2J+XjFzKVv0o56VlqH8+T6aIvDrG\n",
       "VCbFoQqG5ZYBK3gVUsLKkv0rwgqecU9vqFnvpzaH8RNunpEw0o1BjOKgOr3mLjoniixSY9gGZNvZ\n",
       "d3QlwwbhLeW2Ejvnb8LMJEB+80ictcU9isEyV1l/W8cQX+wkw0ijwzZaro54mwfTKlQ4KL4GVrtJ\n",
       "/CPkeRgs3+eQ6r3uf8PDD33ZbMGuW+dwzpTOJQaFtyoFi15yhHSykc8vYRV4R0YpxvxksM86/1P7\n",
       "aoJbYPY2Oaqr1WKdM9A0hCV94mhvg0LiA9tQVgO3c/nT5liTmT/02MN+ppJ388vRdzSh5Q+frd+Y\n",
       "zOguEb7OdPvjRXpa2/1tl8NRQulEwg61wy5Lpb4PNuiatoac/o6qa7CxBtY1uJeqVhdH5CPsXCOW\n",
       "BWwSL5g1+mhIqWGXt1qZTClr3OqF9s5eNvsWCpaXvVrog8JS71D1DMCuqPMLxh9l6cJsCYfrgtvb\n",
       "kDhOmKJkjk+TmK5hX+BPETW0zfPQSjkE3s4bhI/d7wnQo8D3QI6hoimQFWyTwu058LbM8FkrAKYR\n",
       "5Kv0G7q4zmOuk29dlOjxj7BHcan5q61KCNT5uMozBUOalIAR5u+/jARmiUOfG5FAK6XbhO1UYq8K\n",
       "ufHBdsDBnudsU398rJOVrjkAA+MXgQhwGXoqMpP1AOiVQ1jd7wcHH0hs65WwPtZ1WIo+hfFBfviE\n",
       "XR6Ox6uUYEv3inGeVfZjghhQyK35bJOURMq2uO8TaYgaZ1Mg4JnQVj5jMdluOos5TT5UaLS/UReu\n",
       "e2hnMqhOsPKWzxa5xnSx+b2/MFsVxVdRpw+guwQYut9eGH6h5TTIZaPP5bDorJr7/qV0cwEJymAq\n",
       "xTacbuZLixbciWypPtupYIQ7LwI7pR1/R1us/rMi+HrMcLt4LWCsTRsxpB5zd1/Tlw5VmENl0F74\n",
       "a1hyJHSvv7Z6jMvOPDPhk/lLEM+AZEq+jBhSasMrc3RvOrKmltRNGKZFXm0eQK8h9j4mDCHkyzgD\n",
       "pLhTVRTTrL9B9y8cHwcF5lNs1F+6QU5f80oFkABMkvqMJBhGXeiJfa1qz/T6cyF9ZiTBHTGjuFif\n",
       "+trZiG2zT+IwLLT3VWccKUX3jv0vbbHt4kBDn1MeFBqjODqu6KGPSBT3mKllMh5Pmn2H/0jc+UrG\n",
       "FuoV0fD5TrkE4otYn38bIza8Zpx5o/mgE3E0pA8JvNnwhcTO39jcMliVjQ5Gh7klxrXOvwEXR4HJ\n",
       "W2O8/RVc/SaIfvRUADmL+fcwk+Jw/RMFCwL8eoQCBUmdp6hiEl8fRJIbyyO9SjQMiMLlIS+A/B5V\n",
       "3tLvZNUoSTjjp7t/uDsAAAMAAAMDvgEXEezrgLz1ZX245kCb5odKYKqlY52inbT6QWDP8IZoC8Vn\n",
       "v0VTapzEoWZGYHFJ9OfB89FFO2A/ruV0lLeKbf3SqP7izw9ioCOY2zId1x2q/fY1Glxu7mFx+04W\n",
       "j83nlLidSxQXJHucbMg3GGnYXwJOCnfwmtApeBFnl/K01EJsVYtX6OyJ0zqCsOgbj6710VXWk4ED\n",
       "K4z9sgVMAAALj0GaZUnhDyZTBTwX//7aplgAFcBcC8g4AAhGfnmnR3MyO/FOyzrwL3DXA5ACh8cg\n",
       "GiyedcUwjo5NbQ4YH81lV2GsAg+Aw35GyPGinaBB5JMHoKLK3oehjlNNThZY/i7/sdAJhx6wEp+9\n",
       "GY2U9bUNgAL/96MmeYh3LiHcrUTW+0VjM/rdXzl1XiiGqqeQMPYIjPtoVbv9/wK99qyALeC/3r0K\n",
       "OK/VASmADVOpOVhRMmbDGP2EkXHSS4rpe82gQ+ivIqA32GX9xo1XtjOkozUNup4uZoLk1A5PhJiG\n",
       "mccO3EU2To+xapkz9toxRQnY6r4c2Uykleq+86dLBL7kEwPaiRqAk8NuQZ2OkRwfJGuOYf+Kkk6N\n",
       "JWCruLGSyUnw7LE3WRwtwcRYoiKO0E6KruRdXmvXy/KvhH3kgav0gMlIXsnE0tuxc2QAoh7hSNBl\n",
       "Ek382KXc/kZNDMMeVUYyRzdj8A+mLD/FFSOssUjy4GMuXse3Th/SwtBx98rdqMJP4OGWhRpd6ync\n",
       "uXdK8R4PCZRTbTtuJY6G4/Qcqs8wjCVe/K+KJH/skV6dw9z+n5Z1Uqc55FKVy34LMnZ+ET9b+KaX\n",
       "B0TnMLzcZuOwfFOcUURXwSLC5GQrD/A3H2qHX+qILu7/iOKsmzUzH+eDmMh27FAtEjcnT+k0Viee\n",
       "nTa0P/gQdRjTkA+QgCDho8cn6czOKRtvRw27WzzEkuIl9zOmNQmQ5UH8E1aruoD6YbTpbdKbIIII\n",
       "QKjJQEhWsnLjEu09jw/ECTpyKYQYCMWH0hUqwZkTLbLPdGi10LphRDv1m0hPS5pZSSf5TPNdZIrf\n",
       "YJ8AhvuFRWyObSOKT3qBRtP7Xp4Ur1KHzzZBtHH1w4o/dIEmrMM0Zt8lvyByD4kubEpG3Ks1VUfb\n",
       "rP2y4L6vsNIg5k+FastA/kU0YLpaiZ6bYdMEYJrYFVfKt42pjYGW1NBBMQh0lJoP4bfQTMeyScSf\n",
       "mDSdXmWj9DPpDu/d1yE/gfdd8VX5SeVv4locJM8r1zJ9+9Xdd8yZImiFBTQgyJceBo/kaKDW0bTV\n",
       "I5u7BibQ07TfoArH+h00aw6NKJ/X9hfsNfWvpG8C116AiSw+PNhAXZBZzvEtfANFbMhpCc9uAUg4\n",
       "TxzPvFCfAr2gENbwSqG0S8RHfUhRJZdUnUGLXPGu0xB2GWKEXGFXS/KMrOJu6Xcnrz/kxh+M62D4\n",
       "XqueU/n5ajIxgP9W2+pJgFWPTWwLADUgfbmMmQOVbjn4q/wOCQ6q9/pSFPSClRYC5RVZSklWHmQd\n",
       "Fw2KSmteamlK4LfV6T4e+exH11aDENGsb3uCfoHdgje5u4fENxua73pkd3I1zvrUqtqZ0sOsel63\n",
       "02lmvq+3Jkm0BegBZI5ztPtEYfC3ablZ6i1MZJyioPe2cC3qXeta9A7eeQNJg2ZozzMT0QguJZIt\n",
       "JFKO01KROmaLiwsM2f3aO4kSLaZHad1NS48VNLsxW3ARB1jx6uimL/cmV2l/JRJs0Zq0IFmQnviQ\n",
       "J79jLVs78Xv5629tPxGUgLMQqug+8oF59BxRD0KMBkpjalmv8Hu9Yg423wtxwlPtSNW6XCv8j1CW\n",
       "oAEPswIdcfZdRXgB5cMP/WLpqpaEmjySHeSfZ1yGwsvtxmjpq5P7pPIRjFrws/DY4YfL5JwFeNFd\n",
       "nris0KI3mHjBe/a5Gmi+rFy7L+jITCqB7WCIpL9Dpra7XjveHzsZ3hThAur+aiR5LIaAhI85XRP5\n",
       "fqU0hk1bEr2WChmqp0Z1eiPxMAUSyJCGD5dlcJdN+U8vEFu8/G10m1CTZXjL64l/Q7uePRKBTxxA\n",
       "+WCcii1eg0gV1+9iHjaDw7scQZJcdnF2DC0FanVtE2AjovA3dlhZiN0BAH76+c9nEPN8Km29crpx\n",
       "CocanCGXEkfs+WoNBReR6x/+N+901hcV6U3KTWrVfGFDQW9iOSoTlcov9JeCqqI51d8VkawauOLf\n",
       "ferOczBvwNDHtfSF0UEI/dXOslmqxyFKPIuYx3JMtekBSsWkqOLbsARj9XozSI5tWx6yU7APccby\n",
       "8fqMqYi3znwLD/6RkuP+dnCgE7pBBrK9cI9QgiVis6SKEwJ6ra9yf5OjcpcOTOyrwUxZNT2gLU1s\n",
       "lF1ATkX8Q3O3W+XmQc5ySdfCAhszUQENXk3pxAZlRb1MQEjVtNSe+CfXzX+Y/P2nV0sbur2P4c1V\n",
       "Bp2PZuJJfDhqRPrl6/8iVEfM5b1Q6fjvcSuB8qmMB/ypJSMRTnwZt9hbzeAJNuXHg2ytliDIE4Cw\n",
       "Q7s3W8IfbuA4MiCiBnNQGnAd02RsD4rUcJO0j+k06tx5AXclslV3qYvEYM8pvdHPdP9CyeTQy2Xe\n",
       "z7aubeoRQPE7vAS6NLBnpYyQQoBHl/THebO2Xn+5cU2i3hPzbXQYRhSuMSRFgmYCMszERpAUlAHk\n",
       "d/oNg4TAj165BZ054h7fr5HpXGARSckEV8C+h048Hs1G+n/LDAatVk+UmgAIMaabwTVdOabwW1va\n",
       "DURK7UITa+nj78/Xf6xhHo00ivSNcxf7gPVvFmbw2wINZ7Hb2CuyF2nTdJjpWRcGN0yA+lMMqwhl\n",
       "doWpiKlP6vVyOOjxwKS7tvxYKGgTrGV81tHxStXLxMX0hj+U/ZR2VSeL9BqosQJsIhNBUKu5rTzd\n",
       "XOCpyBthRUkteBlPxWZWJn/WFPWRy1J0Au9UKWpWA3mJLIk9I2uDe35l+Be+e2oDDv2E3BDVIvQk\n",
       "mIcL9JViLyPn9kRSVC21ncyfP14p5TzOjuhaKnbrf6RquH2adtWIXa/8VbhWndlAJdZBrZTYbHNy\n",
       "fvaOataS2BwRV50mzBAKP4EUOXbdA9pzipYNIKelgu0wDyUa9gpowy5+f7BTOiz7Up2GWEK3ezEo\n",
       "XeBQuoewIYOXp64amlgWxmsba3Q2yq628Mrn0OKlp7dwjkt2Mu+iwX3tGvNGOoMNJ7uxDUFc+2dh\n",
       "1muJGRs7IW5mhKdUfTDEG+1GPTOUuhUEdNCu5vHJQOUj9CI+U9GrtGh3DAWmo+pOtSxykkm/u1uS\n",
       "VMmnV9DEFvWLfbePKxRQeNrrNGtDhBZ22fA+Owlay8r5Poc26hMY6nNty7eAKaag4i+ARKJ59G/+\n",
       "pJmK+aglDVgei0v8Z0ApZmrmhGEu4dl7S2Hstq4vqWP2oHV3nQIepaWV9N66I7wtooQuDakom8Ia\n",
       "Wgi/BeJaoyOqbe8rNCBo0TUswgFJwSRakOwQiZLtuKtKxwXMlVOxedk8K1KFB1ATf8brAM6FDD9K\n",
       "y/BM7ay/9sUsc1RCtT1cGeHmkuq/cVhqJEaab6DOGbRtDwNfxbj30WPBaRiIjipHn/+0UDRJTHsx\n",
       "etC4p/RBFMm+SU9e0VxQqqGQRbYTbaYOlUS0a3ioRAiKIfw2iSK7dmsYHCYAIePN5nL4BFwn+7sN\n",
       "VNoghXINul4dJkTKWt6zKG1Obv1uERuEh4t+rAkEG87ians5mlPbX1E+ZK/obKgKqeuhhLRDtnyx\n",
       "XEqrT3mx8Sqo88JPqsKR0NXjJCV0jgfJ8ILzkh73GeLM7tMzvwzG8vDkVcT9hYJ0JpZjd1F6JsGU\n",
       "sWmQ8LQuC3Y4HqTRhIeZbRvEtWSrYljtnf4MOgJlwMtwECAiqcZtKDTdPUXj4wUGgC+JOC6cDq52\n",
       "2dNJA6uZHahtSwhiLMsUj56dopn6rabsGOlAAmvjHuX3grADPfPCPoAG7T7510fcMM5vTjFLEpN8\n",
       "G3x4qKUUvc4vJUPxERp4VEK++N6of5GVmuZ84i3UkAbCNOiNcbGCoZCASy8QGoHsaHqffZM2P4GB\n",
       "J9vbkzN8Jsx26YrC2L2ODLRd+MlIrt6yXUatu5R5OvmZfEf/oRB4x+Ww5hdjBUmjPczs7jBSf8ch\n",
       "4GdaSmKP8AS2fUK+RXrpOjmr65/B7sQyBzBE4cke0aG8fZMKBMK5By7+FJuyA1ahc9HBLmlaUuiY\n",
       "tMfA3oEAAAEuAZ6EakFfAAAOWk0SSWUl4mp6gA5t0HfJpP02JNen5J+68fVos/Zo8mYpi2kJPNCy\n",
       "1DCWx6x7D1Als2yL0qsSn9082fC9GLVqVq04dXf44XfKWTeZWNu9tlEqsdGtS5VOswCsdOQckeBv\n",
       "UnULLC77a2AGvAFoKydH6vrgs8VASENEVr/JMWq2/K92FC3ACQb+qppUUNiqJMH+v/ETXstp7Am/\n",
       "8dany3YODEfsJCW8+3YuRqKIInf5rEySVBgbWXrJB9garkar2pIfQnLKMGiJ1sa4kSwinSDyADdM\n",
       "ziZwbstUyUoweG/bAFLBES90jfIG+16+v2JyMbe45dXcanqBcR98chb/HqC3lSzsVtdvtiwAjgb4\n",
       "vkzRD7TWSatzMhbapB6DopQpAylgwRBwR8EAAAitQZqJSeEPJlMCC//+2qZYABXWF5gABM8KRDSJ\n",
       "WXK2R4q5pHckXksnuA3ri2sSTS2Gqo4nfw8Mxz9sHKzK1Ob6k5qrzoALUunJH1dXdOcX8VB1XZg2\n",
       "ctlwIdcr/BQ6ID5vcg8ZxL0XhSNwHdV3xA6JY/IbbVqg20hkxAXjbCKizi57wnBJesT89nGHsRsS\n",
       "l6nprBjXLQPLRC0LtrFim/yevlLSck0RO8Ku69wRuI2tWg8MAKAz4sxPayBvdxKYUTJmwxjDcomw\n",
       "W93RArQjL8urrOFG3fKPDGv/MkJ2B6DmZ9iexfflKRva5cJj1AmPZrdTp6+NXefjtV6I2do4Rnyw\n",
       "OMzrbHYKuF2CbgjV7kBRvhIgHeMzAoBVDZ5xYxri5Pn0PXCfmnCe4volVPXb8kwzcxYcgPX6NZ5Y\n",
       "+DQiFH+auUuB+mSjmAMviU7/0KH3c6zSKd/bVM4/XvSq0fVWR0hGEer5dMbHT1Wqa9WAhTRS4ItK\n",
       "1WxyMakRlH2x5+9eSfB0cVF+1WhzYVNRQL97HA+V3qgP7rrP+aocfV1xVa1309FW0102ww8g8DO5\n",
       "mbj5rJYsUQJTau7LThyoYKPU+5bp1mRN84bMiqkY292DtKei3+BpC1MA0J/oE3r5/FsBwVtxCuRf\n",
       "m2KiDYTWj2BSKKDWXOvbtoMlMy24GTtnixu2RZP3hemuENG5XJ/J6AzcbdB1ru0c04BYTc/bJIFM\n",
       "gxnBI/R4UEj7ncIstszjqqBEiz8TjZE2oZEwUWAeQb32HsLwkAbEUTC2tdVtepRUMsL2l7vuo4GT\n",
       "z2ayiqNMfsJ6mqLQJyQdWdulWbJ4Aa3NuU0KkQ9A91qezbjGsTouXOXdtZDAI7OoAOm04f8IXoG3\n",
       "1elOq+4DSXps9doeJs1qYFmCSdDHPbuTQ7TgeXC18fz8/924b601FZ1mJ7SyQz1CHGi79e+GVO3C\n",
       "03sSIxtViFByvCRoh0A9u0C6y8LyaAJlf9FGP0IXftBKnxGEFlu52jzvY7BRZ+z7KEtM+v2Iqynd\n",
       "RDRb1L4QCBsfYj0HEUCxMu5jGPMqRJZJgxCnwyNroUmMQwZ8kEQC19inyfPpTk2WRSPWj4ItNdxO\n",
       "ifoGfqHwz2jcFNV2NelBY2e4uJUG+R6SHMNZ5V8FglJZ/W9g+E2s+eKOR/eh2wt4ylX9b6L9UjW+\n",
       "nWwygvr++60lZ1A5OPmwnKOU4efvqk65RrKHuf10AFXnUqu+69abb72gv2nVMXSJwFHEVuTD/ew9\n",
       "yvWqbR497p6IFFBRbXle2RZbmExNnqMXMyX5uTWHsxmrEmPVmKhJ3MNM0uy7skmxrgCwvO3R3Ejp\n",
       "ZPrlKdkV5EXQ/BpWWtbbj6SKkwYAZfZ2nirZ+04E4oo0XTmlNK7gPjY9ABhbGXqWcOgnP5Ou7Pmd\n",
       "zCbDxxniegKKjlWczbViCxcT4VhCFJ9A3VrzgkLZRxMclI5tLlEkB3JMUjNBN0zZHLwqW0zycl2O\n",
       "U+7kCb5EkDkKFH6qtIe8f8tUXclRfGmgyCWHlycgG+B10J0J5JF0+jCrwdTZs0FW/5d7FMy0lvYH\n",
       "4+VsBfM0DaRyxb9ejKe/WNBGzfBqQr6tpjv9CeE6bMDX4N0YM40aWEuHX8w9PzwOy4enZd2QXc+W\n",
       "olnrXTXCfDEeqQyd0hQ4qkkxEOvPWSX/d3aJjIdrOos9ov6ufFXGKdrP7X5W7bBJULPogkv+EUVY\n",
       "ssST8p5+5s+N88wXNjJo9ctrLv8BgDHi/X635ZEC/3CRtiSHc5d1MfUmtLT0Ae2D3ThIWCBQUEHa\n",
       "AiE/mopv9aNoYh/zqQbNCdezzqSPA83CVbseCdEJ0GEzVbXFyd/thRYem3lht4o3mEiBalyNqjJo\n",
       "oXPQe6DP5a7IMSw7MwhncPdYHQXJkjNQ6NU1SOfm/MQ0WI5CbWcxSM3VmmEq1OhTLK7UVwmSTCgm\n",
       "A6zMGzCTWZX5JdVMoCHGC9cGypIXR5j5QyxxLtZFW6lcVA6SkdWpLYETwZva08VBvpW90uv6x7wY\n",
       "VePvDj25xpbD/eI8UafpsIvYZQWfFe6rkRo7PBZwUnk/kwnCw4300HuAunEMW4wadl2mojhT44X3\n",
       "YGHYRsn7geks++n3pJYyY75pT6F+yaYx7qBSgVnSkFOs4cv+ftguxsKizK4x5Ca43gbjtuZOxsVa\n",
       "kMmj3fn1si+nvUhTe10AZKjBjV+3eZomvNyIiQT7em0chvQVhiEvJ6gQ4VS5v+jlcYEuSHu3DVl7\n",
       "PFops2v+QsGDm9ML0YiYfDdsMg5iQNEzYQRTqLY1OUtLODvxmb7OWtGLxWBdjVS+Fp+pSIakWjFG\n",
       "cDuo1OnsDlWU/2xgLGvJJqtajgnQle21vxOKXlw/9QZQOMuVdqnDki88qOVGONHfb8CTyyN0AU5N\n",
       "OkVoPTHYUhrwzOa1BamZEKABLomrEhk1sOF7WZVzgUK5AqF44zYKFr3BZIYNsENkeHZh+XV/9Pt7\n",
       "1OxVnEfNHpZjK08K36aAkY2kdNQwXuh/UMzGMJB8Km3MonukvS3zT6fWxF2mjLKKl9Y/QxXSoHm/\n",
       "kzCZsX7RnDxzzV+qpOy2HuEbq1ft1M0WaUwgc9rvH9+NFnsIZp6xNQSQfF3rXC40TE6PO7S8S5JY\n",
       "cvEeJVF/+JRQBR2HodUYvq978uKAoj5r0r8ogB3etKnsHG1UDz0FrLvoPg/XENEWrH3Y4S5Jfp4Y\n",
       "Wqd7EUhPTrSKiKUzcGkBcarmQqskQtxiIcKY9uv6DujPVQy0MJ7m9/XUl6SwDLz3wg5IcyPRn9EJ\n",
       "A5SYxgwk85KjiN0Xs0lqTVM7veRZoF11KViZ0QinJAzPuwPPysbKvA/srGMrzUNSkS40jyhD5/zT\n",
       "a2qP5y3OkDzJVCZYMcWqD++d12nDd3tJfsqashnGw57Qt+XRTglu0rBkcs7EIa/sDFA20wYdC/pq\n",
       "/RVvGHqN5icEJplt/cD5uGJQkL1zOQHPOxgE3QAAARpBnqdFETwW/wAACUuIW0/XGh4fg/QAKhYW\n",
       "GdscbAdwBfHErpqO3eJ80EObXTI5NCcEC1y36l4/cVuNvCqMfl+Z2JfC31YVF+TcWb9AsRR5gJsT\n",
       "UFg+0ox8hzyz2KZej3D+tFbLoweTYnbLX8g2oKMQ89cC8mbc//P6soQ11KZ9XgtiLe8Gjsab9oUM\n",
       "sYOD8APy5p1KZHbHytQOXeeMFSJR6L76num5oOha18oPl+jAgGdkcUozyV7IIe29Rl3LDDljOlU0\n",
       "ImDreRgWRjgRW4JObB41i/xxTRJvg5VbgBK+EhjTQxfnoHWbP2qtzQ+wsIzpcsbXsZ2oZbGBGjLA\n",
       "8RODYE2d46GjpUgZYVSHvryOviiMYQOteHzAZUEAAAEUAZ7GdEFfAAAOZgBrhgAOvapR1aQhe+WO\n",
       "xt/xJIE4ACKC9YWtIkwbcdx9bhzvZnOelzBU+W9shjgw3lRL36+w0ceAV68ddlb1LXdSDXAfAXp5\n",
       "WmPGRr74dgE6a/HiAxkXQ/jyna+1PIY+/MWx6Nnri/dcHKzzWplSqTjDWFxdoeSSilQiKrY5+6/X\n",
       "IxCAtAuUKc6/r1ISoA0en+VvQgCrhJ2E7LPxdElAP13PVpvlAPpA4J/gTE3y8JUVuODt6cF6MG0G\n",
       "WcA+QT9QLBc89IAHrXDcSHkIXbnjs6TvWW3e8qCtGNbagiG2FlrFo8B7Pyh94KTH7IQ1xAwKhsxk\n",
       "F5mjprUfypjfwkIL8Y2/uMqZb/C/wG9AAAAA3QGeyGpBXwAADkiZY4po8XvFTkAF6w2mBRPGS1bI\n",
       "KykDwOfsLvf9CHdDe2KCZA2lIuhKPu9yjnTvfKsHfZ0mZIslwrd6ETQ6z3ynKB8K5H9nWIUcSuM/\n",
       "RWSY6EuwBtCInvYBuhBDQh2dcNChZpPNgpcgJEw6ZgPpMzB2D6xOC8IFowhS0enZyOVrL4qirW9p\n",
       "iaRkIGN8qZJoRbbiq+rhsFh88pykrmmafGjdwSM/eflxK203UYG+C1VcJvXyMl/elQxm6lZG3G7w\n",
       "X8WVDPXkq0ABOTNqoFZDSMAb4ALaAAAEl0GazUmoQWiZTAgv//7aplgAGA3faJUnZ69NmQUQlwQA\n",
       "F/9ARPHyvEMw2D4gJz4j7p4ZrQRP0X5ZhH7ykR63XVk0JFEfoJTBWULmEh34quKKJ8O5lPBNFwuT\n",
       "difytFwSSFNfCPO8ALIMq/dRwnNqs7h93mhmavpVwxGY40jgAO1q1DOzCJRhLg51PBYjqc4pIJwi\n",
       "SxMDeNEIsFrGNQagAxECFr8zM+azXSFJlxJqpN4U8k8QyAWlSvctCM0jZd1Sz//4j8XQgs5ct2QR\n",
       "NmauFIfUQCudfWFSGwMoRbRci31vnHjT7U5ed8+HpFhqxfnJxMQeof3Rg/mR8RBNhqubWn/Nr1Kp\n",
       "sKDeoNupCLGify1yCepsCP9OZpDu47cjcg7PdeJtXnrGcYKXjSUQj4QcwxR7KvJwlYz3uhqdHTQX\n",
       "Xu/KX/9anulGO3LeumtB6rlwm+WDCLI97YOOKOA8aVtK850f2mklnDCcF6pO0DXd8eltwV9v+t9G\n",
       "FsaSLzTOrkg77Bn2u4AZTL0SB4nLYcBnW0VoWSaPPxTKsAGf2KtmeSHjnvdXVIV7hahdRSAwxnpt\n",
       "qrnLa2NuOcQlEsoS++hmFmbbe5OFplo4zozHcMUlzmrHdd1MpbzhNwA2qYU9EBdR+nbsbeQR9CoC\n",
       "NAkROs79nmO5hskyG/V7fMoju5xjKn2gBd3uCx5BDA+xL76I1QrPTkj7eF7YM2se+CP4ZWPJAX04\n",
       "EuVHo44skDhM1QbfzNwzMQwKlbB+TewjWlsALgX0MPunSIgX4+dVEjHakzHa64+io82vOSknv85L\n",
       "55fK7GF1EX6bmECF4SY5dsgbIIizrVkG4ChPxnCxMFfRWeb6ZAQwYi5qMC90zTelS7yyCyU3q3ZU\n",
       "Y6NsdTlURNSOaBYwGyd5uf9MLI0eb+v9yW9fGa1tCsHuuDzWP69Wfzvw63PltIzqpfX9OE86SyYr\n",
       "5WHvd8KJXDVnGJPz9nGiE+VMYSnEFTAENy6nVtpEdKUZyCe9I7iP7AAk2oMptZgCDqTjz28VfH1b\n",
       "zTdyELebemcUQ3fnuTCtal+aX2qXqEUBxIFAbCK1HZ2QJbjyxMyBlT4uRth9xRQl4FdL1aCnJy6k\n",
       "sRJ9MNrJEMh7PYwP7n7iyvTQQwV28HP/H2fRigAAAwAYu9UeVJjbJla5MITy0ieXlHx4jsnOP8Cy\n",
       "+PEnuqSIedOEuOrgjJjpIptB213q4gN3LWTivMdvvRh0wKxJ/jERmAAoRsKIGb6GGW1xEc4ICFuq\n",
       "oY9ePnTZukDcMQVdUO1YFfFm0RVUD5lXa9pK+DH0mF596DjUEFtYFeJKqwmfnSm3KB91FbBTgwrY\n",
       "at7NTHPKWFC3kF3WsBMvRhWxEYMEemahLAASnoZbHNVe/Qdnt6c5azoD9nXvyFw6mF4jcnb/spr7\n",
       "B8tKhA7T/K+bjzCiryMHx53QnTzkFkNDJU1H59m/3xAdtTZbr6AHwR1TpfMezECFTpdpZ39YTZX5\n",
       "ogSED3tsmkx97piHIhxPt58IT9xzk31+tcj/UYww7JKbY/SZYprvc/6c0TZtmAgVw4wk52ju58aS\n",
       "ACvhAAAA2EGe60URLBb/AAAKdz85rigukp9fIXoOPYiH+iinAAh1iZDL0IG9qSI5xdDHvLJz5iPl\n",
       "UhKCyQz8p6bUZ81HnSqP13R02jKn/IriDCKlUP/NqfwIDxtCp89ovp/0yzdh9RK/A4pcn4bm54vg\n",
       "kwLdfR822hvPysV8Hkx60GuBFcv0UI1m0UdMhhlt0J4q4zR103N8CGlSq4kE6p1nPRoycwylwaVE\n",
       "LRF+nfxzVRYvQ1hOMCDJ4DCGtE7fWW15wAKePq04VHHvScKDCmFvSWbWnzrbkNhYKzAuIAAAAMoB\n",
       "nwp0QV8AAA/VHeicw+DzUqOSbiDZkNfBxoEAG/1cZciy0oa8cFUnYsZM1i8XgrZMM6DgSsMsmC/w\n",
       "XRkXDGq673p3JDow1LRq92hI9wfos+KJjMGW9mp4RTo5DsblJxd0LbP5j3NqC4uRhFkwSfiyfH4l\n",
       "rDLs5qruXjgl37114dVHKjXDNm285tbjES7J+Fi2SBba4u61Bv7vxAHFOIsFQuiLEgPIDDBmdBCS\n",
       "TSW8VJBSbOkWuACOX1TkC1dTUGMVaCQlIPGxgI+AAAAAqgGfDGpBXwAADo+IgAvdcA2DHgogYSHs\n",
       "r6qLATZ5iTq2t84k6JaZFJ8qUSat8/YDjYzinqoBhUAVADYfU+crWXXVbh4vRyNF+irz5tgyVoIs\n",
       "jmKCYsJuuBLwSzXNEA6dvjXwjJm75z7a/q9nfzH2HyIVt/yWITk9JUANQLzw33VJA5Nq0oG3WNn/\n",
       "wmZ5sSMtM6L9gwqlUrkb5PZgA6gbPDWb3unHfqXAAASdAAAClkGbEUmoQWyZTAgv//7aplgAFlFH\n",
       "5kcUhW/2gAnOQWLc9+sV1A2RqYnStngiD3rkM/7J9XatTbuInnFdnhofYPj/qdWQT9/2SIZXOu/N\n",
       "6swQVEHmsfkiU8m1HBE7Zue/nIbHdxdO6Zu1GhK6mJTtAjVAK/pxtVno4HfnjW5s0qVNjd2syfB/\n",
       "efasToi9yHCwBPNyV2IL9YLvbcpAxb139s1dhjUei9Y5Iy55s9zFDEMCpLDso3c78apNJP0t2nQm\n",
       "WPfuCpS2YOYoJkOduCeQlWdFjrIzELHseHVbiI/VO9kUKBxlutlEmBrGl3Xf8qd1x/PiMId39mdm\n",
       "9f+ErZ5QxNFYZXkkyuExnyGG1/LlwCK1f+INkoJSXg8kfc3qMOWS3LgLk4RDF+uak1Tu5QJ+C5P+\n",
       "H8r4SbOJrg0qlbZjYxVwCG+UWXy4R/fsE1htbJTtgwlFLNP867MCaDbxAALiIx/Jd5unJFwgAuYH\n",
       "uMeVBkICY3RGw0FE/6rfEtZU63CiXnYhTcltPgY8hz4RxjPELb7WxI8abgO59yLH3t5GdtfvQJys\n",
       "iaHHoda80bigZ5jiaNOn82OAHADwFL/2yqaZGnLJDpKHxaiSMl4YVVdT/rliGnv88WsxOM+9s6K2\n",
       "N6kdnqDbdCrz5RCXUo+GEQL66MV87OAAALAk0dogf3l9hD3F0o2r1JeETIebv9j852TWoCq8+teO\n",
       "NJ7efMFixcDfydr7qYDGNvAzrD8J13lgv605iLFGaUmlAJbLbj6yNmJzVbs0DtaFAjHtx39x5+FE\n",
       "mPairZuGc+GJ38QdfwOd/IRoqxzqRqk0PtHj7IO/PS5GVZq3ZXbkz86+w+yc4ZXJnOWupz8YNdsA\n",
       "RAfF4n0CqL0ksBOOQGjBAAAA2UGfL0UVLBb/AAAJT8yIAAh1lowjAPe9kdMBPqfDjbsiPd5+lh5f\n",
       "K9bOj4ujSkVAIW+bxM/YpcesOTA1RqQuAAIGgEYwBo5cTumeYU2EqU29NENjPvrRhNPwCQNTi1nY\n",
       "M525tFlkpyN54ZI9l2eCtHkIbJvan7sRxRQ51C8A0JJt2uUxaL2zyX5tRw93D/+eNKDEfCkZLeuP\n",
       "A0dOfPVsANFVsYX1JkTGErQEkSuRR3DoSvFXe2xbWf+xJO+sAe88zZP6EYxeuWIwAAV1i7kQSgdE\n",
       "zqr9ZXI4AjcAAADRAZ9OdEFfAAAOdH1fnABy8kXiOToxu55dVZKMuQWxYjlShrSiwtw6oh1FeY1J\n",
       "2J0Sa6dOmfSPAunWF4qFOhVLZumijOE45Lg36dfydXMy66al7ugyimIt1lOMUgNXxmLNK9xMwbRq\n",
       "XXJqI/ZT3UgN4gCJsYXGpGgb3rQ2IPPisLVr1lMQY5RE+sZAke8CdYHZSWtIW1dLbkQWTBCfuc8y\n",
       "rKwH+NNrbxfUzgShAo/LMoyCPIdaclo+Yh7yggDhHSSygAAA9VS2I7/EhmW0g87gAwIAAACeAZ9Q\n",
       "akFfAAAOj4iAC9pPvW22KAhrWGUQXgmfnINZUYIEnRoIr0EuR7inCT86JM0FpfA0vEEN1mY5FHzc\n",
       "8ckx36ofkeBF+hAriZLJl0NNUhVQASgIu9w/MAwPDQxSOXk8eQfeKZYSl7upUS0IzCKujf38v68o\n",
       "K7bTVnGuYwt1k/JheZxRE95HBzroPH533x5HOYkA5NcAAAMACsrADmgAAAGgQZtVSahBbJlMCC//\n",
       "/tqmWAAWU1SmgBGYpxX+LDh7/WysLN35eplXs5Qp/KeCB1zoHMJKJVSSHCqJj9x72KrS9UNVR/2O\n",
       "5sVwQXW7X83KkdYQPEijgdYmGe0Dnv/y8WOgVvIvQnJvBPmthZqRPqwwCE4R4EPkgbIlw9yr7PZx\n",
       "QfbxolaOLc7ZbwqVYq329j5iN1GvgtgJM0uFOH66O/q1QYr+RnSTOvo12pWfOBNdVxZ8WDUrqrmx\n",
       "viR1x7Le24DZNZONR40AtRw76z09VZns6gFeunEkD1q3kK37OYohE1o086N10L7d2hy/ZgcZx5cU\n",
       "ZxghL9/G+Fg6//NFKJbEZlLklrDbKcEem+k1ArDqgFf370Kr4TFt3anOsko8HotDq4oi75KT9t8G\n",
       "JJ5pDX1PLMCSld1uHVn+wgUa5f2T1HKIdnaRKIM0umv8cQaVFkQfMVxGKzmoS8RT6+IqBh3u4nSn\n",
       "33xRyI45clHHLDbKAAAEK+DugTXoAArM4EYVW0NtdAAHMRap7/Ej6k39L2aiWHjbd1vGHDqiQnl2\n",
       "jz24akEAAAC7QZ9zRRUsFv8AAAmi2o2210EgAhx6N1bxVq2GrDz4uFZYUTWLfEJlGcRsDiGdR89z\n",
       "zGJyzUZKFHz+RSkeSx8El08vuYyzPkuz95YprFaNKagvsyjZMlejsoaTPB2nTMiyzH1qTrAolsLp\n",
       "KkTeuvLtsxYVdbAx65EarAj0OxrmnpY1VvDpX/la6VgD3k6aWbCbO7ps36KPAGfBE5ZkBwnGKZOS\n",
       "DXNaePYVXTZ5HAAG0Brgq2RBvjWvb1ApIAAAAKcBn5J0QV8AAA51OR0AB1vTALd9hB61BS+rFpU8\n",
       "LcztyGxgywS3hmg5Etp/oEl5nyT8tc9PIhbFjucZ+VImq6En9NaaSpe9IBjsrK35mMfRn1mplPpY\n",
       "NnQSSgFkl7gIKvqUiTRIlph6e3ihZD7poPfxlKfpao2JEU5KrAs6ekutdoaHpigBN9s1Z5KX7s6X\n",
       "VABsnl2w+2nzAACCVVmLcaYWPA6fWWAQ8AAAAKMBn5RqQV8AAA/U7K7M4udCGjkm5rSVAiJYCADe\n",
       "PGjFX51Wo0KYRNqfu+EYpMetN+tDY8LChCZiXP1Fl+NS8SbHxiiyQ2lGVaolHa2noG9hqce9m8NK\n",
       "8J1JWV5b7FT+ht9R8z3ad2c822/5B1m3EHN0C5NVg8x7cKfzFFP/rxWjmPJV3rxg0IGTKaQEklbN\n",
       "zafP7tdbuvwSCtAADXAU7m54AB8xAAAA8UGbmUmoQWyZTAgv//7aplgAFcNJmAAmeeDy3PjeS7yf\n",
       "pI6Q7x4+xRWbsN0mD6QT+HWtJB7DnGjtrukvBFUl3u8fS+htQiDL+AJ0PeRszPKGxf/AnbSDA9Ik\n",
       "vmIICr/WXKukXz4l/LSFb4a0MuqRUR5WC/b8uLu9vOHEv/YWCy6Z3TNadNoccmQ2tLrYpWmvh8FH\n",
       "Wz4ObDoTlPPEoTL1bDoABFRP/5Nyj+AAABjKWNmNiynahmtiAiI8b6pxg4PlpsyghodiS2HZEf8N\n",
       "q23W8prr73n1zpz48kwvQcxd3f4qR7csLn+e8W+kvrbpoILd+VMAAACqQZ+3RRUsFv8AAAlhR0lw\n",
       "ANlmppfN0fqjo3XMcVHjnXNQsfBMBszi9kNxaruaFTao9vz74Vsq+gxiVq1bKIfy94fBs8Idz/h0\n",
       "7N7Owhj+Yh+xOjpuFS/owMs3aUTC/Bbfn027T5mXGwAqSVxf1PMH3iuYL3ZTqcIb6mW2F1muYBMA\n",
       "Mg3px5vPfqWt+5BOZ9wAAAiBhQgE5jBxFqgvNojuseyGDIQsBjAo3oEAAACbAZ/WdEFfAAAOj4iA\n",
       "C91x2DA3g4hJyagKlsS28aYJx3UaQyVqOQ9qynrL7p6cs61E7zP0Q1EhVYABENW3WFPD/z//E+lh\n",
       "RThE7Cv3BTbQRZCWfFnORQ0tmRa9XNEA6dvjW0x/l2Oh7X9Xs7+Y+ddI84Np7UHmXW8Dn6o7lYC9\n",
       "OPy4U4Aw1HyQgAAACerc0u5P7oYa4Uk2bwLh4/0AAACjAZ/YakFfAAAOdYWqIAL3Y2efQTvUI9oZ\n",
       "yKS7QFXFBlkAZR/DMzPGsSCJUGxPxEjCLcXnRqcqtErWr+0Ps3L1l6Rp8O8Vf3PdgA0bXfX6MGqk\n",
       "ajf8TpIV0ybE0z26zB4jFWgSfdah2HIKGR0HCSIp0Wi8VP3dG9kOFqgA6fO4H0A8PWt68Og3RrgU\n",
       "RPzOrR17KQA4b7aXIXfYAAAGuwgfoCwbMAAAANxBm91JqEFsmUwILf/+1qVQABXBSIuABe7K3iTe\n",
       "DOTp1wT6FsDHgl6CVC3jhgigINUg71u2XhQ5S5eeT1nRozkQ90OVxRnHOIhQnoinokrf64w96o2k\n",
       "CAIKMt3AZShfuKWP+yoRShIU0BXC8M1DXwIcn1f3Ud9KfQVRL8d/XUcErd7FLH1/Y/szvzQALECA\n",
       "LiBBeBLXrXgzBI1wPirmrTxkSiP2XbdyY4aV7epyD9gk/8CfIQ2JvZipPpTbt7HsCSzD8Acf0q53\n",
       "HgABTdmoDZ5aya3MyekyzP1dAFfBAAAAlkGf+0UVLBb/AAAJTT1LgAXuyiFA9p/yaY4aGLNMmGpI\n",
       "mrJgkLr7DS/6tvDUnM1gxrmduB+GeP+g3gkUixBBRd1M1MPX+FWKLVCPMct0BJVUHyZRMFppIPYT\n",
       "fOYkEtddTvk+iTpj54LoRfbXyaBEsGVfe7XFLaas4Aij4E0zVXmI2ayEyrvsQgABYTQirLNe89We\n",
       "RiAEfAAAAJEBnhp0QV8AAA50fV+cAHLwOhc84sSyeG3z+UmiPPKUo4A+eTG1EnjjTCROXKfaLZXq\n",
       "kRp69a4rdLUB4J4s7sjIrsGi7IHFTU7iVal1r50BXg2Q8Wa4CCCWe4kw3Bll31KzDWcWs3w4PEOL\n",
       "ycdGR7tDsX87tGQdcF8pwCOVHY//EqTiM4XZLmGGvAAAAwAAAwLLAAAAoAGeHGpBXwAADk+VrsS0\n",
       "AB1vov4Pfv81gotCco/5LidWSxgTvaJWob5RA4dLgA3CR+6R5xwCaOKNrf14xENfYpqZ+Z9VYEt3\n",
       "6dCBl/BWe2DVAySGRc3w2FDNgeMx7udYR9gmJhCE+smjJ3G9iMXEs1SYcbNsECsQr8zfa7veUaV4\n",
       "tUOJ2Pb9BikAOHonmZ6GWhnWNI50EAAD5WtKrVGAAx8AAAEkQZoeSahBbJlMCCv//talUAAYDaJR\n",
       "jYwce8djlTnwAEOkuNk7Koh3ufsQqC3bVwKWq8DD13cfA7YTLTZ7n4nwE1RieajldRikzDsPx6H3\n",
       "xqkDs2oUV8f5UaykroW2xSreXNEVXfjh7SjpxboZcQOuz9E2vAshq/ZleNo0Rb5e0su0H5NsD94X\n",
       "MTE1AF5PdGvAzLUcAldQOLqEwd7iPvOLWu101wDmTHNSGQLe2tVxfDIY8LWXV55rgIu2nSv+X3JG\n",
       "a81E33hPqXi4W7x47FMr2+vI+HXvQJXvcQCgv6HKeFIMYAdu8bm/exgFoKfl2sWeaH6CSJfEoo02\n",
       "aMWIrrWdPkMzDIATmwV/KHi4UdDjfXwQ5XAHrPgpIkJ5z1lAAAADAAB9wAAABKdtb292AAAAbG12\n",
       "aGQAAAAAAAAAAAAAAAAAAAPoAAB5GAABAAABAAAAAAAAAAAAAAAAAQAAAAAAAAAAAAAAAAAAAAEA\n",
       "AAAAAAAAAAAAAAAAAEAAAAAAAAAAAAAAAAAAAAAAAAAAAAAAAAAAAAAAAAACAAAD0XRyYWsAAABc\n",
       "dGtoZAAAAAMAAAAAAAAAAAAAAAEAAAAAAAB5GAAAAAAAAAAAAAAAAAAAAAAAAQAAAAAAAAAAAAAA\n",
       "AAAAAAEAAAAAAAAAAAAAAAAAAEAAAAAC0AAAAtAAAAAAACRlZHRzAAAAHGVsc3QAAAAAAAAAAQAA\n",
       "eRgAAIAAAAEAAAAAA0ltZGlhAAAAIG1kaGQAAAAAAAAAAAAAAAAAAEAAAAfAAFXEAAAAAAAtaGRs\n",
       "cgAAAAAAAAAAdmlkZQAAAAAAAAAAAAAAAFZpZGVvSGFuZGxlcgAAAAL0bWluZgAAABR2bWhkAAAA\n",
       "AQAAAAAAAAAAAAAAJGRpbmYAAAAcZHJlZgAAAAAAAAABAAAADHVybCAAAAABAAACtHN0YmwAAAC4\n",
       "c3RzZAAAAAAAAAABAAAAqGF2YzEAAAAAAAAAAQAAAAAAAAAAAAAAAAAAAAAC0ALQAEgAAABIAAAA\n",
       "AAAAAAEAAAAAAAAAAAAAAAAAAAAAAAAAAAAAAAAAAAAAAAAAAAAY//8AAAA2YXZjQwFkAB//4QAZ\n",
       "Z2QAH6zZQLQW6EAAAAMAQAAAAwCDxgxlgAEABmjr48siwP34+AAAAAAcdXVpZGtoQPJfJE/Fujml\n",
       "G88DI/MAAAAAAAAAGHN0dHMAAAAAAAAAAQAAAB8AAEAAAAAAFHN0c3MAAAAAAAAAAQAAAAEAAAEI\n",
       "Y3R0cwAAAAAAAAAfAAAAAQAAgAAAAAABAADAAAAAAAEAAEAAAAAAAQAAgAAAAAABAADAAAAAAAEA\n",
       "AEAAAAAAAQABQAAAAAABAACAAAAAAAEAAAAAAAAAAQAAQAAAAAABAAFAAAAAAAEAAIAAAAAAAQAA\n",
       "AAAAAAABAABAAAAAAAEAAUAAAAAAAQAAgAAAAAABAAAAAAAAAAEAAEAAAAAAAQABQAAAAAABAACA\n",
       "AAAAAAEAAAAAAAAAAQAAQAAAAAABAAFAAAAAAAEAAIAAAAAAAQAAAAAAAAABAABAAAAAAAEAAUAA\n",
       "AAAAAQAAgAAAAAABAAAAAAAAAAEAAEAAAAAAAQAAgAAAAAAcc3RzYwAAAAAAAAABAAAAAQAAAB8A\n",
       "AAABAAAAkHN0c3oAAAAAAAAAAAAAAB8AACCfAAAeVQAABLwAAApNAAALkwAAATIAAAixAAABHgAA\n",
       "ARgAAADhAAAEmwAAANwAAADOAAAArgAAApoAAADdAAAA1QAAAKIAAAGkAAAAvwAAAKsAAACnAAAA\n",
       "9QAAAK4AAACfAAAApwAAAOAAAACaAAAAlQAAAKQAAAEoAAAAFHN0Y28AAAAAAAAAAQAAADAAAABi\n",
       "dWR0YQAAAFptZXRhAAAAAAAAACFoZGxyAAAAAAAAAABtZGlyYXBwbAAAAAAAAAAAAAAAAC1pbHN0\n",
       "AAAAJal0b28AAAAdZGF0YQAAAAEAAAAATGF2ZjU4Ljc2LjEwMA==\n",
       "\">\n",
       "  Your browser does not support the video tag.\n",
       "</video>"
      ],
      "text/plain": [
       "<IPython.core.display.HTML object>"
      ]
     },
     "execution_count": 149,
     "metadata": {},
     "output_type": "execute_result"
    }
   ],
   "source": [
    "HTML(anim.to_html5_video())"
   ]
  },
  {
   "cell_type": "code",
   "execution_count": null,
   "id": "raised-selection",
   "metadata": {},
   "outputs": [],
   "source": []
  }
 ],
 "metadata": {
  "kernelspec": {
   "display_name": "torch",
   "language": "python",
   "name": "torch"
  },
  "language_info": {
   "codemirror_mode": {
    "name": "ipython",
    "version": 3
   },
   "file_extension": ".py",
   "mimetype": "text/x-python",
   "name": "python",
   "nbconvert_exporter": "python",
   "pygments_lexer": "ipython3",
   "version": "3.7.2"
  }
 },
 "nbformat": 4,
 "nbformat_minor": 5
}
