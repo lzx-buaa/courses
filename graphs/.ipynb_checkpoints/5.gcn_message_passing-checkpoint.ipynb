{
 "cells": [
  {
   "cell_type": "code",
   "execution_count": 1,
   "id": "abroad-hepatitis",
   "metadata": {},
   "outputs": [],
   "source": [
    "import numpy as np\n",
    "from scipy.linalg import sqrtm \n",
    "from scipy.special import softmax\n",
    "import networkx as nx\n",
    "from networkx.algorithms.community.modularity_max import greedy_modularity_communities\n",
    "import matplotlib.pyplot as plt\n",
    "from matplotlib import animation\n",
    "%matplotlib inline\n",
    "from IPython.display import HTML"
   ]
  },
  {
   "cell_type": "code",
   "execution_count": 2,
   "id": "pharmaceutical-marine",
   "metadata": {},
   "outputs": [
    {
     "data": {
      "text/plain": [
       "array([[0, 1, 0, 0, 0],\n",
       "       [1, 0, 1, 0, 0],\n",
       "       [0, 1, 0, 1, 1],\n",
       "       [0, 0, 1, 0, 0],\n",
       "       [0, 0, 1, 0, 0]])"
      ]
     },
     "execution_count": 2,
     "metadata": {},
     "output_type": "execute_result"
    }
   ],
   "source": [
    "A = np.array(\n",
    "    [[0, 1, 0, 0, 0], [1, 0, 1, 0, 0], [0, 1, 0, 1, 1], [0, 0, 1, 0, 0], [0, 0, 1, 0, 0]]\n",
    ")\n",
    "A.shape\n",
    "A"
   ]
  },
  {
   "cell_type": "code",
   "execution_count": 3,
   "id": "described-overall",
   "metadata": {},
   "outputs": [
    {
     "data": {
      "text/plain": [
       "array([[1],\n",
       "       [2],\n",
       "       [3],\n",
       "       [4],\n",
       "       [5]])"
      ]
     },
     "execution_count": 3,
     "metadata": {},
     "output_type": "execute_result"
    }
   ],
   "source": [
    "feats = np.arange(A.shape[0]).reshape((-1,1))+1\n",
    "feats"
   ]
  },
  {
   "cell_type": "code",
   "execution_count": 4,
   "id": "surgical-static",
   "metadata": {},
   "outputs": [
    {
     "data": {
      "text/plain": [
       "array([[0, 8],\n",
       "       [6, 8],\n",
       "       [5, 9],\n",
       "       [0, 1],\n",
       "       [1, 9]])"
      ]
     },
     "execution_count": 4,
     "metadata": {},
     "output_type": "execute_result"
    }
   ],
   "source": [
    "feats_2d = np.random.randint(low=0, high=10, size=(5,2))\n",
    "feats_2d"
   ]
  },
  {
   "cell_type": "code",
   "execution_count": 5,
   "id": "controlling-fifty",
   "metadata": {},
   "outputs": [
    {
     "data": {
      "text/plain": [
       "(5, 2)"
      ]
     },
     "execution_count": 5,
     "metadata": {},
     "output_type": "execute_result"
    }
   ],
   "source": [
    "feats_2d.shape"
   ]
  },
  {
   "cell_type": "code",
   "execution_count": 6,
   "id": "original-latex",
   "metadata": {},
   "outputs": [
    {
     "data": {
      "text/plain": [
       "array([[ 2],\n",
       "       [ 4],\n",
       "       [11],\n",
       "       [ 3],\n",
       "       [ 3]])"
      ]
     },
     "execution_count": 6,
     "metadata": {},
     "output_type": "execute_result"
    }
   ],
   "source": [
    "H = A @ feats\n",
    "H"
   ]
  },
  {
   "cell_type": "code",
   "execution_count": 7,
   "id": "hourly-friendship",
   "metadata": {},
   "outputs": [
    {
     "data": {
      "text/plain": [
       "array([[ 6,  8],\n",
       "       [ 5, 17],\n",
       "       [ 7, 18],\n",
       "       [ 5,  9],\n",
       "       [ 5,  9]])"
      ]
     },
     "execution_count": 7,
     "metadata": {},
     "output_type": "execute_result"
    }
   ],
   "source": [
    "H2 = A @ feats_2d\n",
    "H2"
   ]
  },
  {
   "cell_type": "markdown",
   "id": "spanish-routine",
   "metadata": {},
   "source": [
    "#### Result of message passing\n",
    "\n",
    "$H$ and $H_{2}$ represent the sum of the connected neighborhs\n",
    "\n",
    "Other aggration functions can be used:\n",
    "\n",
    "$D \\rightarrow$ Degree matrix, same size of $A$ but with neighbor size of each node in diagonal\n"
   ]
  },
  {
   "cell_type": "code",
   "execution_count": 8,
   "id": "chicken-monte",
   "metadata": {},
   "outputs": [
    {
     "data": {
      "text/plain": [
       "array([[1],\n",
       "       [2],\n",
       "       [3],\n",
       "       [1],\n",
       "       [1]])"
      ]
     },
     "execution_count": 8,
     "metadata": {},
     "output_type": "execute_result"
    }
   ],
   "source": [
    "row_sum = A.sum(axis=1).reshape(-1,1)\n",
    "row_sum"
   ]
  },
  {
   "cell_type": "code",
   "execution_count": 9,
   "id": "average-spirit",
   "metadata": {},
   "outputs": [
    {
     "data": {
      "text/plain": [
       "array([[1., 0., 0., 0., 0.],\n",
       "       [0., 2., 0., 0., 0.],\n",
       "       [0., 0., 3., 0., 0.],\n",
       "       [0., 0., 0., 1., 0.],\n",
       "       [0., 0., 0., 0., 1.]])"
      ]
     },
     "execution_count": 9,
     "metadata": {},
     "output_type": "execute_result"
    }
   ],
   "source": [
    "D = np.eye(A.shape[0],A.shape[1]) * row_sum\n",
    "D"
   ]
  },
  {
   "cell_type": "code",
   "execution_count": 10,
   "id": "rapid-roulette",
   "metadata": {},
   "outputs": [
    {
     "data": {
      "text/plain": [
       "array([[1., 0., 0., 0., 0.],\n",
       "       [0., 2., 0., 0., 0.],\n",
       "       [0., 0., 3., 0., 0.],\n",
       "       [0., 0., 0., 1., 0.],\n",
       "       [0., 0., 0., 0., 1.]])"
      ]
     },
     "execution_count": 10,
     "metadata": {},
     "output_type": "execute_result"
    }
   ],
   "source": [
    "D = np.zeros(A.shape)\n",
    "np.fill_diagonal(D, A.sum(axis=0))\n",
    "D"
   ]
  },
  {
   "cell_type": "code",
   "execution_count": 11,
   "id": "executive-beads",
   "metadata": {},
   "outputs": [
    {
     "data": {
      "text/plain": [
       "array([[1.        , 0.        , 0.        , 0.        , 0.        ],\n",
       "       [0.        , 0.5       , 0.        , 0.        , 0.        ],\n",
       "       [0.        , 0.        , 0.33333333, 0.        , 0.        ],\n",
       "       [0.        , 0.        , 0.        , 1.        , 0.        ],\n",
       "       [0.        , 0.        , 0.        , 0.        , 1.        ]])"
      ]
     },
     "execution_count": 11,
     "metadata": {},
     "output_type": "execute_result"
    }
   ],
   "source": [
    "D_inv = np.linalg.inv(D)\n",
    "D_inv"
   ]
  },
  {
   "cell_type": "markdown",
   "id": "hourly-runner",
   "metadata": {},
   "source": [
    "In order to get Average of each row, we can multiply $D^{-1}$ by the adjacency matrix $A$:\n",
    "\n",
    " $D^{-1}.A = A_{avg}$"
   ]
  },
  {
   "cell_type": "code",
   "execution_count": 12,
   "id": "seasonal-replication",
   "metadata": {},
   "outputs": [
    {
     "data": {
      "text/plain": [
       "array([[0.        , 1.        , 0.        , 0.        , 0.        ],\n",
       "       [0.5       , 0.        , 0.5       , 0.        , 0.        ],\n",
       "       [0.        , 0.33333333, 0.        , 0.33333333, 0.33333333],\n",
       "       [0.        , 0.        , 1.        , 0.        , 0.        ],\n",
       "       [0.        , 0.        , 1.        , 0.        , 0.        ]])"
      ]
     },
     "execution_count": 12,
     "metadata": {},
     "output_type": "execute_result"
    }
   ],
   "source": [
    "D_inv @ A"
   ]
  },
  {
   "cell_type": "markdown",
   "id": "compound-lingerie",
   "metadata": {},
   "source": [
    "Now if we used the scaled adjacency matrix $A_{avg}$ to multiply the features, we will get the average feature of each node (another way to aggreagate nodes instead of sum)"
   ]
  },
  {
   "cell_type": "code",
   "execution_count": 13,
   "id": "sudden-runner",
   "metadata": {},
   "outputs": [
    {
     "data": {
      "text/plain": [
       "array([[2.        ],\n",
       "       [2.        ],\n",
       "       [3.66666667],\n",
       "       [3.        ],\n",
       "       [3.        ]])"
      ]
     },
     "execution_count": 13,
     "metadata": {},
     "output_type": "execute_result"
    }
   ],
   "source": [
    "H = D_inv @ A @ feats\n",
    "H"
   ]
  },
  {
   "cell_type": "markdown",
   "id": "written-survivor",
   "metadata": {},
   "source": [
    "## Normalized Adjacency Matrix $\\hat{A}$\n",
    "\n",
    "- Adding self-connections to adjacency matrix\n",
    "- If include self connection, we include the node itself in the aggregation (comes from the derivation of convolution on graph see paper for derivation)"
   ]
  },
  {
   "cell_type": "code",
   "execution_count": 14,
   "id": "given-congo",
   "metadata": {},
   "outputs": [
    {
     "data": {
      "text/plain": [
       "array([[1., 0., 0., 0., 0.],\n",
       "       [0., 1., 0., 0., 0.],\n",
       "       [0., 0., 1., 0., 0.],\n",
       "       [0., 0., 0., 1., 0.],\n",
       "       [0., 0., 0., 0., 1.]])"
      ]
     },
     "execution_count": 14,
     "metadata": {},
     "output_type": "execute_result"
    }
   ],
   "source": [
    "A_self = np.eye(A.shape[0],A.shape[1])\n",
    "A_self"
   ]
  },
  {
   "cell_type": "code",
   "execution_count": 15,
   "id": "solid-replica",
   "metadata": {},
   "outputs": [
    {
     "data": {
      "text/plain": [
       "array([[1., 1., 0., 0., 0.],\n",
       "       [1., 1., 1., 0., 0.],\n",
       "       [0., 1., 1., 1., 1.],\n",
       "       [0., 0., 1., 1., 0.],\n",
       "       [0., 0., 1., 0., 1.]])"
      ]
     },
     "execution_count": 15,
     "metadata": {},
     "output_type": "execute_result"
    }
   ],
   "source": [
    "A_tilde = A_self + A\n",
    "A_tilde"
   ]
  },
  {
   "cell_type": "code",
   "execution_count": 16,
   "id": "marked-minnesota",
   "metadata": {},
   "outputs": [],
   "source": [
    "g = nx.from_numpy_array(A)\n",
    "pos = nx.planar_layout(g)\n",
    "node_labels = {i: i+1 for i in range(g.number_of_nodes())}"
   ]
  },
  {
   "cell_type": "code",
   "execution_count": 17,
   "id": "thirty-recognition",
   "metadata": {},
   "outputs": [
    {
     "data": {
      "text/plain": [
       "False"
      ]
     },
     "execution_count": 17,
     "metadata": {},
     "output_type": "execute_result"
    }
   ],
   "source": [
    "nx.is_eulerian(g)"
   ]
  },
  {
   "cell_type": "code",
   "execution_count": 18,
   "id": "labeled-traveler",
   "metadata": {},
   "outputs": [
    {
     "data": {
      "text/plain": [
       "{0: 1, 1: 2, 2: 3, 3: 4, 4: 5}"
      ]
     },
     "execution_count": 18,
     "metadata": {},
     "output_type": "execute_result"
    }
   ],
   "source": [
    "node_labels"
   ]
  },
  {
   "cell_type": "code",
   "execution_count": 19,
   "id": "partial-whole",
   "metadata": {},
   "outputs": [
    {
     "data": {
      "image/png": "[encoded data removed]",
      "text/plain": [
       "<Figure size 720x720 with 1 Axes>"
      ]
     },
     "metadata": {},
     "output_type": "display_data"
    }
   ],
   "source": [
    "fig, ax = plt.subplots(figsize=(10,10))\n",
    "nx.draw(\n",
    "    g, pos, with_labels=True, \n",
    "    labels=node_labels, \n",
    "    node_color='#83C167', \n",
    "    ax=ax, edge_color='gray', node_size=1500, font_size=30, font_family='serif'\n",
    ")"
   ]
  },
  {
   "cell_type": "markdown",
   "id": "underlying-organizer",
   "metadata": {},
   "source": [
    "$\n",
    "\\hat{A} = \\tilde{D}^{1/2} \\; \\tilde{A} \\; \\tilde{D}^{1/2}\n",
    "$\n",
    "\n",
    "or put differently, normalize connections on the adjacency matrix but using connections of both source and destination nodes\n",
    "\n",
    "For a particular value in the adjecenty matrix:  \n",
    "$\n",
    "\\hat{A}_{i,j} = \\frac{1}{\\sqrt{\\tilde{d}_{i}\\tilde{d}_{j}}} \\tilde{A}_{i,j} \n",
    "$"
   ]
  },
  {
   "cell_type": "code",
   "execution_count": 20,
   "id": "industrial-canadian",
   "metadata": {},
   "outputs": [
    {
     "data": {
      "text/plain": [
       "array([[0.70710678, 0.        , 0.        , 0.        , 0.        ],\n",
       "       [0.        , 0.57735027, 0.        , 0.        , 0.        ],\n",
       "       [0.        , 0.        , 0.5       , 0.        , 0.        ],\n",
       "       [0.        , 0.        , 0.        , 0.70710678, 0.        ],\n",
       "       [0.        , 0.        , 0.        , 0.        , 0.70710678]])"
      ]
     },
     "execution_count": 20,
     "metadata": {},
     "output_type": "execute_result"
    }
   ],
   "source": [
    "D = np.zeros(A_tilde.shape)\n",
    "np.fill_diagonal(D, A_tilde.sum(axis=0))\n",
    "# D_inv = np.linalg.inv(D)\n",
    "# D_inv\n",
    "D_tilde = np.linalg.inv(sqrtm(D))\n",
    "D_tilde"
   ]
  },
  {
   "cell_type": "code",
   "execution_count": 21,
   "id": "eligible-distribution",
   "metadata": {},
   "outputs": [
    {
     "data": {
      "text/plain": [
       "(5, 5)"
      ]
     },
     "execution_count": 21,
     "metadata": {},
     "output_type": "execute_result"
    }
   ],
   "source": [
    "A_hat = D_tilde @ A_tilde @ D_tilde\n",
    "A_hat.shape"
   ]
  },
  {
   "cell_type": "code",
   "execution_count": 22,
   "id": "quality-harris",
   "metadata": {},
   "outputs": [
    {
     "data": {
      "text/plain": [
       "array([0.5       , 0.40824829, 0.        , 0.        , 0.        ,\n",
       "       0.40824829, 0.33333333, 0.28867513, 0.        , 0.        ,\n",
       "       0.        , 0.28867513, 0.25      , 0.35355339, 0.35355339,\n",
       "       0.        , 0.        , 0.35355339, 0.5       , 0.        ,\n",
       "       0.        , 0.        , 0.35355339, 0.        , 0.5       ])"
      ]
     },
     "execution_count": 22,
     "metadata": {},
     "output_type": "execute_result"
    }
   ],
   "source": [
    "A_hat.flatten()"
   ]
  },
  {
   "cell_type": "markdown",
   "id": "severe-grass",
   "metadata": {},
   "source": [
    "## Water Drop Experiment"
   ]
  },
  {
   "cell_type": "code",
   "execution_count": null,
   "id": "accepted-thesaurus",
   "metadata": {},
   "outputs": [],
   "source": [
    "H = np.zeros((g.number_of_nodes(), 1))\n",
    "H[0,0] = 20 # the \"water drop\"\n",
    "#H[-1,0] = -2\n",
    "## \n",
    "iters = 20\n",
    "results = [H.flatten()]\n",
    "print(f\"Initial Matrix H \\n{H}\")\n",
    "print(\"-\"*30)\n",
    "for i in range(iters):\n",
    "    H = A_hat @ H\n",
    "    results.append(H.flatten())\n",
    "    if i%5 ==0:\n",
    "        print(f\"Iteration \\n{i}\")\n",
    "        print(f\"Matrix H \\n{H}\")\n",
    "        print(\"-\"*30)"
   ]
  },
  {
   "cell_type": "code",
   "execution_count": null,
   "id": "invisible-holocaust",
   "metadata": {},
   "outputs": [],
   "source": [
    "results[0].min(), results[0].max()"
   ]
  },
  {
   "cell_type": "code",
   "execution_count": null,
   "id": "refined-class",
   "metadata": {},
   "outputs": [],
   "source": [
    "print(f\"Initial signal input: \\n{results[0]}\")\n",
    "print(f\"Final signal output after running {iters} steps of message-passing:  \\n{results[-1]}\")"
   ]
  },
  {
   "cell_type": "code",
   "execution_count": null,
   "id": "activated-forestry",
   "metadata": {},
   "outputs": [],
   "source": [
    "results[-1]"
   ]
  },
  {
   "cell_type": "code",
   "execution_count": null,
   "id": "digital-technology",
   "metadata": {},
   "outputs": [],
   "source": [
    "\n",
    "fig, ax = plt.subplots(figsize=(10, 10))\n",
    "\n",
    "kwargs = {'cmap': 'hot', 'node_size': 1500, 'edge_color': 'gray', \n",
    "          'vmin': np.array(results).min(), 'vmax': np.array(results).max()*1.1}\n",
    "\n",
    "def update(idx):\n",
    "    ax.clear()\n",
    "    colors = results[idx]\n",
    "    nx.draw(g, pos, node_color=colors, ax=ax, **kwargs)\n",
    "    ax.set_title(f\"Iter={idx}\", fontsize=20)\n",
    "\n",
    "anim = animation.FuncAnimation(fig, update, frames=len(results), interval=1000, repeat=True)"
   ]
  },
  {
   "cell_type": "code",
   "execution_count": null,
   "id": "moved-permit",
   "metadata": {},
   "outputs": [],
   "source": [
    "# anim.save(\n",
    "#     'water_drop.gif', \n",
    "#     writer='PillowWriter', \n",
    "#     fps=2,\n",
    "#     savefig_kwargs={'transparent': True, 'facecolor': 'none'},\n",
    "# )"
   ]
  },
  {
   "cell_type": "code",
   "execution_count": null,
   "id": "alert-crown",
   "metadata": {},
   "outputs": [],
   "source": [
    "anim.save(\n",
    "    'water_drop.mp4', \n",
    "    dpi=600, bitrate=-1,\n",
    "    savefig_kwargs={'transparent': True, 'facecolor': 'none'},\n",
    ")"
   ]
  },
  {
   "cell_type": "code",
   "execution_count": null,
   "id": "proof-lighting",
   "metadata": {},
   "outputs": [],
   "source": [
    "!ls"
   ]
  },
  {
   "cell_type": "code",
   "execution_count": null,
   "id": "veterinary-broad",
   "metadata": {},
   "outputs": [],
   "source": [
    "HTML(anim.to_html5_video())\n"
   ]
  },
  {
   "cell_type": "markdown",
   "id": "responsible-coalition",
   "metadata": {},
   "source": [
    "## Playing w/ NX"
   ]
  },
  {
   "cell_type": "code",
   "execution_count": 23,
   "id": "short-explorer",
   "metadata": {},
   "outputs": [],
   "source": [
    "num_nodes = 10\n",
    "edge_list = [\n",
    "    [4], #1\n",
    "    [5], #2\n",
    "    [4], #3\n",
    "    [1,3,5,6], #4\n",
    "    [4], #5\n",
    "    [4,7], #6\n",
    "    [8], #7\n",
    "    [7, 9, 10], #8\n",
    "    [8], #9\n",
    "    [8] #19\n",
    "]"
   ]
  },
  {
   "cell_type": "code",
   "execution_count": 24,
   "id": "beginning-wyoming",
   "metadata": {},
   "outputs": [],
   "source": [
    "G = nx.make_small_graph(\n",
    "    [\"adjacencylist\", \"C_4\", num_nodes, edge_list]\n",
    ")\n",
    "A = nx.adjacency_matrix(G).todense()"
   ]
  },
  {
   "cell_type": "markdown",
   "id": "happy-factor",
   "metadata": {},
   "source": [
    "## Layout Types\n",
    "\n",
    "- [Source](https://networkx.org/documentation/latest/_modules/networkx/drawing/layout.html)\n",
    "```\n",
    "    \"bipartite_layout\",\n",
    "    \"circular_layout\",\n",
    "    \"kamada_kawai_layout\",\n",
    "    \"random_layout\",\n",
    "    \"rescale_layout\",\n",
    "    \"rescale_layout_dict\",\n",
    "    \"shell_layout\",\n",
    "    \"spring_layout\",\n",
    "    \"spectral_layout\",\n",
    "    \"planar_layout\",\n",
    "    \"fruchterman_reingold_layout\",\n",
    "    \"spiral_layout\",\n",
    "    \"multipartite_layout\"\n",
    "```"
   ]
  },
  {
   "cell_type": "code",
   "execution_count": 25,
   "id": "emotional-worcester",
   "metadata": {},
   "outputs": [
    {
     "data": {
      "image/png": "[encoded data removed]",
      "text/plain": [
       "<Figure size 720x720 with 1 Axes>"
      ]
     },
     "metadata": {},
     "output_type": "display_data"
    }
   ],
   "source": [
    "pos = nx.kamada_kawai_layout(G)\n",
    "node_labels = {i: i+1 for i in range(G.number_of_nodes())}\n",
    "fig, ax = plt.subplots(figsize=(10,10))\n",
    "nx.draw(\n",
    "    G, pos, with_labels=True, \n",
    "    labels=node_labels, \n",
    "    node_color='#83C167', \n",
    "    ax=ax, edge_color='gray', node_size=1500, font_size=30, font_family='serif'\n",
    ")"
   ]
  },
  {
   "cell_type": "code",
   "execution_count": 26,
   "id": "opposite-therapist",
   "metadata": {},
   "outputs": [
    {
     "data": {
      "text/plain": [
       "matrix([[1., 0., 0., 1., 0., 0., 0., 0., 0., 0.],\n",
       "        [0., 1., 0., 0., 1., 0., 0., 0., 0., 0.],\n",
       "        [0., 0., 1., 1., 0., 0., 0., 0., 0., 0.],\n",
       "        [1., 0., 1., 1., 1., 1., 0., 0., 0., 0.],\n",
       "        [0., 1., 0., 1., 1., 0., 0., 0., 0., 0.],\n",
       "        [0., 0., 0., 1., 0., 1., 1., 0., 0., 0.],\n",
       "        [0., 0., 0., 0., 0., 1., 1., 1., 0., 0.],\n",
       "        [0., 0., 0., 0., 0., 0., 1., 1., 1., 1.],\n",
       "        [0., 0., 0., 0., 0., 0., 0., 1., 1., 0.],\n",
       "        [0., 0., 0., 0., 0., 0., 0., 1., 0., 1.]])"
      ]
     },
     "execution_count": 26,
     "metadata": {},
     "output_type": "execute_result"
    }
   ],
   "source": [
    "## Prepare A_tilde\n",
    "A_self = np.eye(A.shape[0],A.shape[1])\n",
    "A_tilde = A_self + A\n",
    "A_tilde"
   ]
  },
  {
   "cell_type": "code",
   "execution_count": 27,
   "id": "bridal-diamond",
   "metadata": {},
   "outputs": [
    {
     "data": {
      "text/plain": [
       "array([[0.70710678, 0.        , 0.        , 0.        , 0.        ,\n",
       "        0.        , 0.        , 0.        , 0.        , 0.        ],\n",
       "       [0.        , 0.70710678, 0.        , 0.        , 0.        ,\n",
       "        0.        , 0.        , 0.        , 0.        , 0.        ],\n",
       "       [0.        , 0.        , 0.70710678, 0.        , 0.        ,\n",
       "        0.        , 0.        , 0.        , 0.        , 0.        ],\n",
       "       [0.        , 0.        , 0.        , 0.4472136 , 0.        ,\n",
       "        0.        , 0.        , 0.        , 0.        , 0.        ],\n",
       "       [0.        , 0.        , 0.        , 0.        , 0.57735027,\n",
       "        0.        , 0.        , 0.        , 0.        , 0.        ],\n",
       "       [0.        , 0.        , 0.        , 0.        , 0.        ,\n",
       "        0.57735027, 0.        , 0.        , 0.        , 0.        ],\n",
       "       [0.        , 0.        , 0.        , 0.        , 0.        ,\n",
       "        0.        , 0.57735027, 0.        , 0.        , 0.        ],\n",
       "       [0.        , 0.        , 0.        , 0.        , 0.        ,\n",
       "        0.        , 0.        , 0.5       , 0.        , 0.        ],\n",
       "       [0.        , 0.        , 0.        , 0.        , 0.        ,\n",
       "        0.        , 0.        , 0.        , 0.70710678, 0.        ],\n",
       "       [0.        , 0.        , 0.        , 0.        , 0.        ,\n",
       "        0.        , 0.        , 0.        , 0.        , 0.70710678]])"
      ]
     },
     "execution_count": 27,
     "metadata": {},
     "output_type": "execute_result"
    }
   ],
   "source": [
    "## Prepare D_tilde\n",
    "D = np.zeros(A_tilde.shape)\n",
    "np.fill_diagonal(D, A_tilde.sum(axis=0))\n",
    "D_tilde = np.linalg.inv(sqrtm(D))\n",
    "D_tilde"
   ]
  },
  {
   "cell_type": "code",
   "execution_count": 28,
   "id": "desirable-telescope",
   "metadata": {},
   "outputs": [
    {
     "data": {
      "text/plain": [
       "(10, 10)"
      ]
     },
     "execution_count": 28,
     "metadata": {},
     "output_type": "execute_result"
    }
   ],
   "source": [
    "A_hat = D_tilde @ A_tilde @ D_tilde\n",
    "A_hat.shape"
   ]
  },
  {
   "cell_type": "code",
   "execution_count": 29,
   "id": "bulgarian-aside",
   "metadata": {},
   "outputs": [
    {
     "name": "stdout",
     "output_type": "stream",
     "text": [
      "Initial Matrix H \n",
      "[[0.]\n",
      " [1.]\n",
      " [0.]\n",
      " [0.]\n",
      " [0.]\n",
      " [1.]\n",
      " [0.]\n",
      " [0.]\n",
      " [1.]\n",
      " [0.]]\n",
      "------------------------------\n",
      "Iteration \n",
      "0\n",
      "Matrix H \n",
      "[[0.        ]\n",
      " [0.5       ]\n",
      " [0.        ]\n",
      " [0.25819889]\n",
      " [0.40824829]\n",
      " [0.33333333]\n",
      " [0.33333333]\n",
      " [0.35355339]\n",
      " [0.5       ]\n",
      " [0.        ]]\n",
      "------------------------------\n",
      "Iteration \n",
      "10\n",
      "Matrix H \n",
      "[[0.21418063]\n",
      " [0.24133324]\n",
      " [0.21418063]\n",
      " [0.3472558 ]\n",
      " [0.28591889]\n",
      " [0.27479345]\n",
      " [0.28488889]\n",
      " [0.34130565]\n",
      " [0.24407708]\n",
      " [0.2435888 ]]\n",
      "------------------------------\n",
      "Iteration \n",
      "20\n",
      "Matrix H \n",
      "[[0.2262234 ]\n",
      " [0.22707763]\n",
      " [0.2262234 ]\n",
      " [0.35882065]\n",
      " [0.27793429]\n",
      " [0.28128624]\n",
      " [0.28507397]\n",
      " [0.33315139]\n",
      " [0.23634154]\n",
      " [0.23634107]]\n",
      "------------------------------\n"
     ]
    }
   ],
   "source": [
    "## Water Droping\n",
    "H = np.zeros((G.number_of_nodes(), 1))\n",
    "H[1,0] = 1 # the \"water drop\"\n",
    "H[5,0] = 1\n",
    "H[-2,0] = 1\n",
    "##\n",
    "iters = 30\n",
    "results = [np.array(H.flatten())]\n",
    "print(f\"Initial Matrix H \\n{H}\")\n",
    "print(\"-\"*30)\n",
    "for i in range(iters):\n",
    "    H = A_hat @ H\n",
    "    results.append(np.array(H.flatten()))\n",
    "    if i%10 ==0:\n",
    "        print(f\"Iteration \\n{i}\")\n",
    "        print(f\"Matrix H \\n{H}\")\n",
    "        print(\"-\"*30)"
   ]
  },
  {
   "cell_type": "code",
   "execution_count": 30,
   "id": "superior-samoa",
   "metadata": {},
   "outputs": [
    {
     "data": {
      "image/png": "[encoded data removed]",
      "text/plain": [
       "<Figure size 720x720 with 1 Axes>"
      ]
     },
     "metadata": {},
     "output_type": "display_data"
    }
   ],
   "source": [
    "all_results = np.vstack((results))\n",
    "fig, ax = plt.subplots(figsize=(10, 10))\n",
    "\n",
    "kwargs = {'cmap': 'hot', 'node_size': 1500, 'edge_color': 'gray', \n",
    "          'vmin':all_results.min(), 'vmax': all_results.max()*1.1}\n",
    "def update(idx):\n",
    "    ax.clear()\n",
    "    colors = results[idx]\n",
    "    nx.draw(G, pos, node_color=colors, ax=ax, **kwargs)\n",
    "    ax.set_title(f\"Iter={idx}\", fontsize=20)\n",
    "\n",
    "anim = animation.FuncAnimation(fig, update, frames=len(results), interval=1000, repeat=True)"
   ]
  },
  {
   "cell_type": "code",
   "execution_count": 31,
   "id": "judicial-fellowship",
   "metadata": {},
   "outputs": [
    {
     "name": "stderr",
     "output_type": "stream",
     "text": [
      "MovieWriter PillowWriter unavailable; using Pillow instead.\n"
     ]
    }
   ],
   "source": [
    "anim.save(\n",
    "    'water_drop.gif', \n",
    "    writer='PillowWriter', \n",
    "    fps=2,\n",
    "    savefig_kwargs={'transparent': True, 'facecolor': 'none'},\n",
    ")"
   ]
  },
  {
   "cell_type": "code",
   "execution_count": null,
   "id": "charitable-prerequisite",
   "metadata": {},
   "outputs": [],
   "source": [
    "anim.save(\n",
    "    'water_drop_4.mp4', \n",
    "    dpi=600, bitrate=-1,\n",
    "    savefig_kwargs={'transparent': True, 'facecolor': 'none'},\n",
    ")"
   ]
  },
  {
   "cell_type": "code",
   "execution_count": null,
   "id": "adverse-humor",
   "metadata": {},
   "outputs": [],
   "source": [
    "HTML(anim.to_html5_video())"
   ]
  },
  {
   "cell_type": "code",
   "execution_count": null,
   "id": "raised-selection",
   "metadata": {},
   "outputs": [],
   "source": []
  }
 ],
 "metadata": {
  "kernelspec": {
   "display_name": "torch",
   "language": "python",
   "name": "torch"
  },
  "language_info": {
   "codemirror_mode": {
    "name": "ipython",
    "version": 3
   },
   "file_extension": ".py",
   "mimetype": "text/x-python",
   "name": "python",
   "nbconvert_exporter": "python",
   "pygments_lexer": "ipython3",
   "version": "3.7.2"
  }
 },
 "nbformat": 4,
 "nbformat_minor": 5
}
