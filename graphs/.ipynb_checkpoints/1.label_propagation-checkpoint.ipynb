{
 "cells": [
  {
   "cell_type": "code",
   "execution_count": 2,
   "id": "fourth-gates",
   "metadata": {},
   "outputs": [],
   "source": [
    "import numpy as np\n",
    "from sklearn import datasets\n",
    "from sklearn.semi_supervised import LabelPropagation"
   ]
  },
  {
   "cell_type": "code",
   "execution_count": 3,
   "id": "outer-cemetery",
   "metadata": {},
   "outputs": [],
   "source": [
    "label_prop_model = LabelPropagation()\n",
    "iris = datasets.load_iris()\n",
    "rng = np.random.RandomState(42)"
   ]
  },
  {
   "cell_type": "code",
   "execution_count": 4,
   "id": "meaningful-short",
   "metadata": {},
   "outputs": [],
   "source": [
    "random_unlabeled_points = rng.rand(len(iris.target)) < 0.3"
   ]
  },
  {
   "cell_type": "code",
   "execution_count": 5,
   "id": "fatal-purse",
   "metadata": {},
   "outputs": [
    {
     "data": {
      "text/plain": [
       "array([0, 0, 0, 0, 0, 0, 0, 0, 0, 0, 0, 0, 0, 0, 0, 0, 0, 0, 0, 0, 0, 0,\n",
       "       0, 0, 0, 0, 0, 0, 0, 0, 0, 0, 0, 0, 0, 0, 0, 0, 0, 0, 0, 0, 0, 0,\n",
       "       0, 0, 0, 0, 0, 0, 1, 1, 1, 1, 1, 1, 1, 1, 1, 1, 1, 1, 1, 1, 1, 1,\n",
       "       1, 1, 1, 1, 1, 1, 1, 1, 1, 1, 1, 1, 1, 1, 1, 1, 1, 1, 1, 1, 1, 1,\n",
       "       1, 1, 1, 1, 1, 1, 1, 1, 1, 1, 1, 1, 2, 2, 2, 2, 2, 2, 2, 2, 2, 2,\n",
       "       2, 2, 2, 2, 2, 2, 2, 2, 2, 2, 2, 2, 2, 2, 2, 2, 2, 2, 2, 2, 2, 2,\n",
       "       2, 2, 2, 2, 2, 2, 2, 2, 2, 2, 2, 2, 2, 2, 2, 2, 2, 2])"
      ]
     },
     "execution_count": 5,
     "metadata": {},
     "output_type": "execute_result"
    }
   ],
   "source": [
    "labels = np.copy(iris.target)\n",
    "labels"
   ]
  },
  {
   "cell_type": "code",
   "execution_count": 7,
   "id": "generic-christmas",
   "metadata": {},
   "outputs": [
    {
     "data": {
      "text/plain": [
       "array([ 0,  0,  0,  0, -1, -1, -1,  0,  0,  0, -1,  0,  0, -1, -1, -1,  0,\n",
       "        0,  0, -1,  0, -1, -1,  0,  0,  0, -1,  0,  0, -1,  0, -1, -1,  0,\n",
       "        0,  0,  0, -1,  0,  0, -1,  0, -1,  0, -1,  0,  0,  0,  0, -1,  1,\n",
       "        1,  1,  1,  1,  1, -1, -1, -1,  1,  1, -1,  1,  1, -1,  1, -1,  1,\n",
       "       -1,  1,  1, -1, -1,  1,  1,  1,  1, -1,  1, -1,  1,  1,  1, -1,  1,\n",
       "        1,  1,  1,  1,  1, -1,  1,  1,  1,  1,  1,  1,  1, -1, -1, -1,  2,\n",
       "        2,  2,  2, -1,  2,  2, -1, -1, -1, -1,  2,  2,  2,  2,  2, -1,  2,\n",
       "        2,  2,  2,  2, -1, -1,  2,  2,  2, -1,  2,  2, -1, -1,  2,  2,  2,\n",
       "        2,  2,  2,  2,  2, -1,  2,  2, -1, -1,  2,  2, -1, -1])"
      ]
     },
     "execution_count": 7,
     "metadata": {},
     "output_type": "execute_result"
    }
   ],
   "source": [
    "labels[random_unlabeled_points] = -1\n",
    "labels"
   ]
  },
  {
   "cell_type": "code",
   "execution_count": 9,
   "id": "selective-announcement",
   "metadata": {},
   "outputs": [
    {
     "data": {
      "text/plain": [
       "array([0, 0, 0, 0, 0, 0, 0, 0, 0, 0, 0, 0, 0, 0, 0, 0, 0, 0, 0, 0, 0, 0,\n",
       "       0, 0, 0, 0, 0, 0, 0, 0, 0, 0, 0, 0, 0, 0, 0, 0, 0, 0, 0, 0, 0, 0,\n",
       "       0, 0, 0, 0, 0, 0, 1, 1, 1, 1, 1, 1, 1, 1, 1, 1, 1, 1, 1, 1, 1, 1,\n",
       "       1, 1, 1, 1, 1, 1, 2, 1, 1, 1, 1, 1, 1, 1, 1, 1, 1, 2, 1, 1, 1, 1,\n",
       "       1, 1, 1, 1, 1, 1, 1, 1, 1, 1, 1, 1, 2, 2, 2, 2, 2, 2, 2, 2, 2, 2,\n",
       "       2, 2, 2, 2, 2, 2, 2, 2, 2, 2, 2, 2, 2, 2, 2, 2, 2, 2, 2, 2, 2, 2,\n",
       "       2, 2, 2, 2, 2, 2, 2, 2, 2, 2, 2, 2, 2, 2, 2, 2, 2, 2])"
      ]
     },
     "execution_count": 9,
     "metadata": {},
     "output_type": "execute_result"
    }
   ],
   "source": [
    "label_prop_model.fit(iris.data, labels)\n",
    "preds = label_prop_model.predict(iris['data'])\n",
    "preds"
   ]
  },
  {
   "cell_type": "markdown",
   "id": "maritime-liberty",
   "metadata": {},
   "source": [
    "## Label Propagation w/ NetworkX"
   ]
  },
  {
   "cell_type": "code",
   "execution_count": 20,
   "id": "needed-yukon",
   "metadata": {},
   "outputs": [],
   "source": [
    "import networkx as nx\n",
    "import matplotlib.pyplot as plt"
   ]
  },
  {
   "cell_type": "code",
   "execution_count": 21,
   "id": "classified-oxide",
   "metadata": {},
   "outputs": [],
   "source": [
    "G = nx.Graph()"
   ]
  },
  {
   "cell_type": "code",
   "execution_count": 38,
   "id": "fleet-symposium",
   "metadata": {},
   "outputs": [],
   "source": [
    "node_defs = [\n",
    "    ('A', {\"label\": \"green\", \"weight\": 1}),\n",
    "    ('B', {\"label\": \"green\", \"weight\": 1}),\n",
    "    ('C', {\"label\": None, \"weight\": 1}),\n",
    "    ('D', {\"label\": \"green\", \"weight\": 0.2}),\n",
    "    ('E', {\"label\": \"green\", \"weight\": 0.1}),\n",
    "    ('F', {\"label\": \"green\", \"weight\": 0.9}),\n",
    "    ('G', {\"label\": \"red\", \"weight\": 0.2}),\n",
    "    ('H', {\"label\": \"red\", \"weight\": 0.9}),\n",
    "    ('X', {\"label\": None, \"weight\": 1}),\n",
    "    ('Y', {\"label\": None, \"weight\": 1})]\n",
    "\n",
    "edge_defs = [('A','X'), \n",
    "             ('B','X'), \n",
    "             ('X','Y'), \n",
    "             ('C','X'), \n",
    "             ('C','Y'), \n",
    "             ('D','Y'),\n",
    "             ('E','B'),\n",
    "             ('F','B'),\n",
    "             ('G','Y'),\n",
    "             ('H','Y')]\n",
    "G.add_nodes_from(node_defs)\n",
    "G.add_edges_from(edge_defs)"
   ]
  },
  {
   "cell_type": "code",
   "execution_count": 39,
   "id": "simple-bikini",
   "metadata": {},
   "outputs": [],
   "source": [
    "available_colors = {\n",
    "    \"red\":    \"#FF0000\",\n",
    "    \"blue\":   \"#0000FF\",\n",
    "    \"green\":  \"#008000\",\n",
    "    \"yellow\": \"#FFFF00\",\n",
    "    \"fucsia\": \"#FF00FF\",\n",
    "    None: \"#D3D3D3\" ## Light Gray\n",
    "}"
   ]
  },
  {
   "cell_type": "code",
   "execution_count": 40,
   "id": "welcome-tennis",
   "metadata": {},
   "outputs": [],
   "source": [
    "def get_graph_color_map(graph: nx.Graph) -> nx.Graph:\n",
    "    for n in graph:\n",
    "        graph.nodes[n]['current_color']=set_transparency(graph.nodes[n]['weight'], available_colors[graph.nodes[n]['label']])\n",
    "    return graph"
   ]
  },
  {
   "cell_type": "code",
   "execution_count": 41,
   "id": "apparent-syndrome",
   "metadata": {},
   "outputs": [],
   "source": [
    "def set_transparency(percent_transp: float, color: str) -> str:\n",
    "    base_hex = 255\n",
    "    transparency = str(format(round(percent_transp*base_hex), 'x'))\n",
    "    trans_color = color + transparency\n",
    "    return trans_color"
   ]
  },
  {
   "cell_type": "code",
   "execution_count": 42,
   "id": "absent-design",
   "metadata": {},
   "outputs": [],
   "source": [
    "colored_graph = get_graph_color_map(G)"
   ]
  },
  {
   "cell_type": "code",
   "execution_count": 43,
   "id": "boring-actress",
   "metadata": {},
   "outputs": [],
   "source": [
    "color_map = [colored_graph.nodes[x]['current_color'] for x in list(colored_graph.nodes)]"
   ]
  },
  {
   "cell_type": "code",
   "execution_count": 44,
   "id": "incomplete-export",
   "metadata": {},
   "outputs": [
    {
     "data": {
      "image/png": "[encoded data removed]",
      "text/plain": [
       "<Figure size 432x288 with 1 Axes>"
      ]
     },
     "metadata": {},
     "output_type": "display_data"
    }
   ],
   "source": [
    "nx.draw(colored_graph, node_color=color_map, with_labels=True, node_size = 800)\n",
    "plt.show()"
   ]
  },
  {
   "cell_type": "code",
   "execution_count": 45,
   "id": "liquid-adoption",
   "metadata": {},
   "outputs": [
    {
     "name": "stdout",
     "output_type": "stream",
     "text": [
      "Node list ['A', 'B', 'C', 'D', 'E', 'F', 'G', 'H', 'X', 'Y']\n"
     ]
    },
    {
     "data": {
      "text/plain": [
       "array([[0, 0, 0, 0, 0, 0, 0, 0, 1, 0],\n",
       "       [0, 0, 0, 0, 1, 1, 0, 0, 1, 0],\n",
       "       [0, 0, 0, 0, 0, 0, 0, 0, 1, 1],\n",
       "       [0, 0, 0, 0, 0, 0, 0, 0, 0, 1],\n",
       "       [0, 1, 0, 0, 0, 0, 0, 0, 0, 0],\n",
       "       [0, 1, 0, 0, 0, 0, 0, 0, 0, 0],\n",
       "       [0, 0, 0, 0, 0, 0, 0, 0, 0, 1],\n",
       "       [0, 0, 0, 0, 0, 0, 0, 0, 0, 1],\n",
       "       [1, 1, 1, 0, 0, 0, 0, 0, 0, 1],\n",
       "       [0, 0, 1, 1, 0, 0, 1, 1, 1, 0]])"
      ]
     },
     "execution_count": 45,
     "metadata": {},
     "output_type": "execute_result"
    }
   ],
   "source": [
    "node_list = [x[0] for x in node_defs]\n",
    "print(f\"Node list {node_list}\")\n",
    "A = nx.adjacency_matrix(colored_graph, nodelist=node_list).toarray()\n",
    "A"
   ]
  },
  {
   "cell_type": "code",
   "execution_count": null,
   "id": "pending-nitrogen",
   "metadata": {},
   "outputs": [],
   "source": []
  },
  {
   "cell_type": "markdown",
   "id": "selective-crazy",
   "metadata": {},
   "source": [
    "## Label Propagation Algorithms\n",
    "- Propagate Labels through high density areas defined by unlabeled data\n",
    "- Weights $\\rightarrow$ The closer nodes are in Euclidean space, the larger $w_{ij}$\n",
    "\n",
    "$$\n",
    "w_{ij} = \\exp (-\\frac{d_{ij}^2}{\\sigma^2}) =  \\exp (-\\frac{\\sum_{d=1}^D (x_{i}^D-x_{j}^D)^2}{\\sigma^2})\n",
    "$$\n",
    "- All nodes have soft labels $\\rightarrow$ distribution over labels\n",
    "- Labels propagate through edges $\\rightarrow$ larger weights allow labels to propagate more easily\n",
    "- Transition probability\n",
    "$$\n",
    "T_{ij} = P(i\\rightarrow j) = \\frac{w_{ij}}{\\sum_{k=1}^{l+u}w_{kj}}\n",
    "$$\n",
    "\n",
    "- The Algorithm\n",
    "    1. All nodes propagate one step $Y \\leftarrow TY$\n",
    "    2. Row normalize Y to maintain class probability interpretation\n",
    "    3. Clamp the labeled data. Repeat from step 2 until Y converges\n",
    "- Smoothing transition probabilities  \n",
    "$\\tilde{T} = \\epsilon \\textit{U} + (1-\\epsilon T)$ "
   ]
  },
  {
   "cell_type": "code",
   "execution_count": null,
   "id": "requested-glance",
   "metadata": {},
   "outputs": [],
   "source": []
  },
  {
   "cell_type": "code",
   "execution_count": null,
   "id": "opposite-lithuania",
   "metadata": {},
   "outputs": [],
   "source": []
  },
  {
   "cell_type": "markdown",
   "id": "solid-hotel",
   "metadata": {},
   "source": [
    "## Sources\n",
    "1. https://medium.com/@bagelbigcheese/a0cf577ce9ff\n",
    "2. https://medium.com/@graphml/introduction-to-label-propagation-with-networkx-part-1-abcbe954a2e8"
   ]
  },
  {
   "cell_type": "code",
   "execution_count": null,
   "id": "insured-genome",
   "metadata": {},
   "outputs": [],
   "source": []
  }
 ],
 "metadata": {
  "kernelspec": {
   "display_name": "torch",
   "language": "python",
   "name": "torch"
  },
  "language_info": {
   "codemirror_mode": {
    "name": "ipython",
    "version": 3
   },
   "file_extension": ".py",
   "mimetype": "text/x-python",
   "name": "python",
   "nbconvert_exporter": "python",
   "pygments_lexer": "ipython3",
   "version": "3.7.2"
  }
 },
 "nbformat": 4,
 "nbformat_minor": 5
}
