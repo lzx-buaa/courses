{
 "cells": [
  {
   "cell_type": "code",
   "execution_count": 140,
   "id": "statutory-mainland",
   "metadata": {},
   "outputs": [],
   "source": [
    "import numpy as np\n",
    "from mido import MidiFile"
   ]
  },
  {
   "cell_type": "code",
   "execution_count": 141,
   "id": "understanding-copying",
   "metadata": {},
   "outputs": [
    {
     "name": "stdout",
     "output_type": "stream",
     "text": [
      "total 40\r\n",
      "drwxr-xr-x  7 rsilvei  ADESI\\Domain Users   224B May  7 14:25 \u001b[1m\u001b[36m.\u001b[m\u001b[m\r\n",
      "drwxr-xr-x  7 rsilvei  ADESI\\Domain Users   224B May  7 13:15 \u001b[1m\u001b[36m..\u001b[m\u001b[m\r\n",
      "drwxr-xr-x  3 rsilvei  ADESI\\Domain Users    96B May  7 10:29 \u001b[1m\u001b[36m.ipynb_checkpoints\u001b[m\u001b[m\r\n",
      "-rw-r--r--  1 rsilvei  ADESI\\Domain Users   5.5K May  7 14:25 MIDI_converter.ipynb\r\n",
      "-rw-r--r--@ 1 rsilvei  ADESI\\Domain Users   228B May  7 14:24 durations.txt\r\n",
      "-rw-r--r--@ 1 rsilvei  ADESI\\Domain Users   236B May  7 14:24 freqs.txt\r\n",
      "-rw-r--r--@ 1 rsilvei  ADESI\\Domain Users   693B May  7 10:29 old_macdonaldPNO.mid\r\n"
     ]
    }
   ],
   "source": [
    "!ls -lah"
   ]
  },
  {
   "cell_type": "code",
   "execution_count": 142,
   "id": "requested-planning",
   "metadata": {},
   "outputs": [
    {
     "name": "stdout",
     "output_type": "stream",
     "text": [
      "<midi file 'old_macdonaldPNO.mid' type 1, 2 tracks, 137 messages>\n"
     ]
    }
   ],
   "source": [
    "mid = MidiFile('old_macdonaldPNO.mid', clip=True)\n",
    "print(mid)"
   ]
  },
  {
   "cell_type": "code",
   "execution_count": 143,
   "id": "figured-nerve",
   "metadata": {},
   "outputs": [],
   "source": [
    "def convertVelocityDuration(velocity):\n",
    "    base_duration_ms = 10 # 10 ms duration\n",
    "    return 5 + int(10 * velocity/127)"
   ]
  },
  {
   "cell_type": "code",
   "execution_count": 144,
   "id": "removed-latter",
   "metadata": {},
   "outputs": [],
   "source": [
    "def noteToFreq(note):\n",
    "    a = 440 #frequency of A (coomon value is 440Hz)\n",
    "    return int((a / 32) * (2 ** ((note - 9) / 12)))"
   ]
  },
  {
   "cell_type": "code",
   "execution_count": 145,
   "id": "functioning-president",
   "metadata": {},
   "outputs": [],
   "source": [
    "def convert_hex_int(h):\n",
    "    hex_string = \"0x\" + h\n",
    "    return int(hex_string, 16)"
   ]
  },
  {
   "cell_type": "code",
   "execution_count": 209,
   "id": "thermal-insulin",
   "metadata": {},
   "outputs": [],
   "source": [
    "FREQ_DIVIDER = 1"
   ]
  },
  {
   "cell_type": "code",
   "execution_count": 220,
   "id": "another-engagement",
   "metadata": {},
   "outputs": [],
   "source": [
    "def convertMidiArduino(track, freq_file, duration_file):\n",
    "    freqs_list = []\n",
    "    durations_list = []\n",
    "    freqs_file = open(freq_file, 'w')\n",
    "    durations_file  = open(duration_file, 'w')\n",
    "    for i, msg in enumerate(track):\n",
    "        commands = [convert_hex_int(x) for x in msg.hex().split()]\n",
    "        if commands[0] == 144:\n",
    "            note = commands[1]\n",
    "            freq = noteToFreq(note)\n",
    "            freqs_list.append(freq)\n",
    "            freqs_file.write(str(freq) + \",\")\n",
    "        elif commands[0] == 128:\n",
    "            duration = round(1 + int(msg.time/FREQ_DIVIDER)/1000)\n",
    "            durations_file.write(str(duration) + \",\")\n",
    "            durations_list.append(duration)\n",
    "    freqs_file.close()\n",
    "    durations_file.close()\n",
    "    return freqs_list, durations_list"
   ]
  },
  {
   "cell_type": "code",
   "execution_count": 221,
   "id": "descending-microphone",
   "metadata": {},
   "outputs": [],
   "source": [
    "f, d = convertMidiArduino(mid.tracks[1], \"freqs_oldMacDo.txt\", \"durations_oldMacDo.txt\")"
   ]
  },
  {
   "cell_type": "code",
   "execution_count": 222,
   "id": "dressed-transition",
   "metadata": {},
   "outputs": [
    {
     "data": {
      "text/plain": [
       "(59, 59)"
      ]
     },
     "execution_count": 222,
     "metadata": {},
     "output_type": "execute_result"
    }
   ],
   "source": [
    "len(f), len(d)"
   ]
  },
  {
   "cell_type": "code",
   "execution_count": 223,
   "id": "dynamic-cylinder",
   "metadata": {},
   "outputs": [
    {
     "name": "stdout",
     "output_type": "stream",
     "text": [
      "391,391,391,293,329,329,293,493,493,440,440,391,293,391,391,391,293,329,329,293,493,493,440,440,391,293,293,391,391,391,293,293,391,391,391,391,391,391,391,391,391,391,391,391,391,391,391,391,391,391,293,329,329,293,493,493,440,440,391,"
     ]
    }
   ],
   "source": [
    "!cat freqs_oldMacDo.txt"
   ]
  },
  {
   "cell_type": "code",
   "execution_count": 224,
   "id": "together-easter",
   "metadata": {},
   "outputs": [
    {
     "name": "stdout",
     "output_type": "stream",
     "text": [
      "2,2,2,2,2,2,1,2,2,2,2,3,1,2,2,2,2,2,2,1,2,2,2,2,3,1,1,2,2,2,1,1,2,2,3,1,1,2,1,1,2,1,1,1,1,2,2,2,2,2,2,2,2,1,2,2,2,2,3,"
     ]
    }
   ],
   "source": [
    "!cat durations_oldMacDo.txt"
   ]
  },
  {
   "cell_type": "markdown",
   "id": "developmental-venezuela",
   "metadata": {},
   "source": [
    "## Source\n",
    "- https://www.audiocontentanalysis.org/code/helper-functions/midi-pitch-to-frequency-conversion-2/\n",
    "- https://www.cs.cmu.edu/~music/cmsip/readings/MIDI%20tutorial%20for%20programmers.html  \n",
    "- https://www.elektormagazine.com/index.php/files/attachment/331\n",
    "- [Great tutorial](https://arduinoplusplus.wordpress.com/2018/05/11/playing-midi-files-on-arduino-part-1-standard-midi-files/)"
   ]
  },
  {
   "cell_type": "code",
   "execution_count": null,
   "id": "informative-remove",
   "metadata": {},
   "outputs": [],
   "source": []
  }
 ],
 "metadata": {
  "kernelspec": {
   "display_name": "torch",
   "language": "python",
   "name": "torch"
  },
  "language_info": {
   "codemirror_mode": {
    "name": "ipython",
    "version": 3
   },
   "file_extension": ".py",
   "mimetype": "text/x-python",
   "name": "python",
   "nbconvert_exporter": "python",
   "pygments_lexer": "ipython3",
   "version": "3.7.2"
  }
 },
 "nbformat": 4,
 "nbformat_minor": 5
}
