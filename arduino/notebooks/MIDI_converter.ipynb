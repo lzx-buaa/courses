{
 "cells": [
  {
   "cell_type": "code",
   "execution_count": 1,
   "id": "statutory-mainland",
   "metadata": {},
   "outputs": [],
   "source": [
    "import numpy as np\n",
    "from mido import MidiFile"
   ]
  },
  {
   "cell_type": "code",
   "execution_count": 2,
   "id": "understanding-copying",
   "metadata": {},
   "outputs": [
    {
     "name": "stdout",
     "output_type": "stream",
     "text": [
      "total 72\r\n",
      "drwxr-xr-x  9 rsilvei  813930708   288B May  7 22:04 \u001b[1m\u001b[36m.\u001b[m\u001b[m\r\n",
      "drwxr-xr-x  8 rsilvei  813930708   256B May  7 15:45 \u001b[1m\u001b[36m..\u001b[m\u001b[m\r\n",
      "drwxr-xr-x  3 rsilvei  813930708    96B May  7 10:29 \u001b[1m\u001b[36m.ipynb_checkpoints\u001b[m\u001b[m\r\n",
      "-rw-r--r--  1 rsilvei  813930708    16K May  7 22:04 MIDI_converter.ipynb\r\n",
      "-rw-r--r--@ 1 rsilvei  813930708   570B May  7 14:37 durations.txt\r\n",
      "-rw-r--r--  1 rsilvei  813930708   118B May  7 21:41 durations_oldMacDo.txt\r\n",
      "-rw-r--r--@ 1 rsilvei  813930708   236B May  7 14:37 freqs.txt\r\n",
      "-rw-r--r--  1 rsilvei  813930708   236B May  7 21:41 freqs_oldMacDo.txt\r\n",
      "-rw-r--r--@ 1 rsilvei  813930708   693B May  7 10:29 old_macdonaldPNO.mid\r\n"
     ]
    }
   ],
   "source": [
    "!ls -lah"
   ]
  },
  {
   "cell_type": "code",
   "execution_count": 3,
   "id": "requested-planning",
   "metadata": {},
   "outputs": [
    {
     "name": "stdout",
     "output_type": "stream",
     "text": [
      "<midi file 'old_macdonaldPNO.mid' type 1, 2 tracks, 137 messages>\n"
     ]
    }
   ],
   "source": [
    "mid = MidiFile('old_macdonaldPNO.mid', clip=True)\n",
    "print(mid)"
   ]
  },
  {
   "cell_type": "code",
   "execution_count": 4,
   "id": "imperial-ceramic",
   "metadata": {},
   "outputs": [
    {
     "name": "stdout",
     "output_type": "stream",
     "text": [
      "960\n"
     ]
    }
   ],
   "source": [
    "print(mid.ticks_per_beat)"
   ]
  },
  {
   "cell_type": "code",
   "execution_count": 5,
   "id": "figured-nerve",
   "metadata": {},
   "outputs": [],
   "source": [
    "def convertVelocityDuration(velocity):\n",
    "    base_duration_ms = 10 # 10 ms duration\n",
    "    return 5 + int(10 * velocity/127)"
   ]
  },
  {
   "cell_type": "code",
   "execution_count": 6,
   "id": "removed-latter",
   "metadata": {},
   "outputs": [],
   "source": [
    "def noteToFreq(note):\n",
    "    a = 440 #frequency of A (coomon value is 440Hz)\n",
    "    return int((a / 32) * (2 ** ((note - 9) / 12)))"
   ]
  },
  {
   "cell_type": "code",
   "execution_count": 7,
   "id": "functioning-president",
   "metadata": {},
   "outputs": [],
   "source": [
    "def convert_hex_int(h):\n",
    "    hex_string = \"0x\" + h\n",
    "    return int(hex_string, 16)"
   ]
  },
  {
   "cell_type": "code",
   "execution_count": 8,
   "id": "thermal-insulin",
   "metadata": {},
   "outputs": [],
   "source": [
    "FREQ_DIVIDER = 1"
   ]
  },
  {
   "cell_type": "code",
   "execution_count": 12,
   "id": "antique-globe",
   "metadata": {},
   "outputs": [
    {
     "data": {
      "text/plain": [
       "960"
      ]
     },
     "execution_count": 12,
     "metadata": {},
     "output_type": "execute_result"
    }
   ],
   "source": [
    "mid.ticks_per_beat"
   ]
  },
  {
   "cell_type": "code",
   "execution_count": 16,
   "id": "another-engagement",
   "metadata": {},
   "outputs": [],
   "source": [
    "def convertMidiArduino(track, freq_file, duration_file):\n",
    "    freqs_list = []\n",
    "    durations_list = []\n",
    "    freqs_file = open(freq_file, 'w')\n",
    "    durations_file  = open(duration_file, 'w')\n",
    "    for i, msg in enumerate(track):\n",
    "        print(msg)\n",
    "        commands = [convert_hex_int(x) for x in msg.hex().split()]\n",
    "        if commands[0] == 144:\n",
    "            note = commands[1]\n",
    "            freq = noteToFreq(note)\n",
    "            freqs_list.append(freq)\n",
    "            freqs_file.write(str(freq) + \",\")\n",
    "        elif commands[0] == 128:\n",
    "            duration = int(msg.time/mid.ticks_per_beat)\n",
    "            durations_file.write(str(duration) + \",\")\n",
    "            durations_list.append(duration)\n",
    "    freqs_file.close()\n",
    "    durations_file.close()\n",
    "    return freqs_list, durations_list"
   ]
  },
  {
   "cell_type": "code",
   "execution_count": 17,
   "id": "descending-microphone",
   "metadata": {},
   "outputs": [
    {
     "name": "stdout",
     "output_type": "stream",
     "text": [
      "program_change channel=0 program=0 time=0\n",
      "control_change channel=0 control=121 value=0 time=0\n",
      "control_change channel=0 control=64 value=0 time=0\n",
      "control_change channel=0 control=91 value=48 time=0\n",
      "control_change channel=0 control=10 value=51 time=0\n",
      "control_change channel=0 control=7 value=100 time=0\n",
      "note_on channel=0 note=67 velocity=66 time=0\n",
      "control_change channel=0 control=121 value=0 time=0\n",
      "control_change channel=0 control=64 value=0 time=0\n",
      "control_change channel=0 control=91 value=48 time=0\n",
      "control_change channel=0 control=10 value=51 time=0\n",
      "control_change channel=0 control=7 value=100 time=0\n",
      "<meta message track_name name='Piano' time=0>\n",
      "note_off channel=0 note=67 velocity=0 time=960\n",
      "note_on channel=0 note=67 velocity=75 time=0\n",
      "note_off channel=0 note=67 velocity=0 time=960\n",
      "note_on channel=0 note=67 velocity=78 time=0\n",
      "note_off channel=0 note=67 velocity=0 time=960\n",
      "note_on channel=0 note=62 velocity=66 time=0\n",
      "note_off channel=0 note=62 velocity=0 time=960\n",
      "note_on channel=0 note=64 velocity=72 time=0\n",
      "note_off channel=0 note=64 velocity=0 time=960\n",
      "note_on channel=0 note=64 velocity=78 time=0\n",
      "note_off channel=0 note=64 velocity=0 time=960\n",
      "note_on channel=0 note=62 velocity=77 time=0\n",
      "note_on channel=0 note=71 velocity=68 time=1920\n",
      "note_off channel=0 note=62 velocity=0 time=0\n",
      "note_off channel=0 note=71 velocity=0 time=960\n",
      "note_on channel=0 note=71 velocity=76 time=0\n",
      "note_off channel=0 note=71 velocity=0 time=960\n",
      "note_on channel=0 note=69 velocity=74 time=0\n",
      "note_off channel=0 note=69 velocity=0 time=960\n",
      "note_on channel=0 note=69 velocity=77 time=0\n",
      "note_off channel=0 note=69 velocity=0 time=960\n",
      "note_on channel=0 note=67 velocity=74 time=0\n",
      "note_off channel=0 note=67 velocity=0 time=1920\n",
      "note_on channel=0 note=62 velocity=69 time=960\n",
      "note_on channel=0 note=67 velocity=69 time=960\n",
      "note_off channel=0 note=62 velocity=0 time=0\n",
      "note_off channel=0 note=67 velocity=0 time=960\n",
      "note_on channel=0 note=67 velocity=78 time=0\n",
      "note_off channel=0 note=67 velocity=0 time=960\n",
      "note_on channel=0 note=67 velocity=75 time=0\n",
      "note_off channel=0 note=67 velocity=0 time=960\n",
      "note_on channel=0 note=62 velocity=72 time=0\n",
      "note_off channel=0 note=62 velocity=0 time=960\n",
      "note_on channel=0 note=64 velocity=79 time=0\n",
      "note_off channel=0 note=64 velocity=0 time=960\n",
      "note_on channel=0 note=64 velocity=71 time=0\n",
      "note_off channel=0 note=64 velocity=0 time=960\n",
      "note_on channel=0 note=62 velocity=73 time=0\n",
      "note_on channel=0 note=71 velocity=70 time=1920\n",
      "note_off channel=0 note=62 velocity=0 time=0\n",
      "note_off channel=0 note=71 velocity=0 time=960\n",
      "note_on channel=0 note=71 velocity=74 time=0\n",
      "note_off channel=0 note=71 velocity=0 time=960\n",
      "note_on channel=0 note=69 velocity=69 time=0\n",
      "note_off channel=0 note=69 velocity=0 time=960\n",
      "note_on channel=0 note=69 velocity=71 time=0\n",
      "note_off channel=0 note=69 velocity=0 time=960\n",
      "note_on channel=0 note=67 velocity=72 time=0\n",
      "note_off channel=0 note=67 velocity=0 time=1920\n",
      "note_on channel=0 note=62 velocity=64 time=960\n",
      "note_off channel=0 note=62 velocity=0 time=480\n",
      "note_on channel=0 note=62 velocity=75 time=0\n",
      "note_on channel=0 note=67 velocity=69 time=480\n",
      "note_off channel=0 note=62 velocity=0 time=0\n",
      "note_off channel=0 note=67 velocity=0 time=960\n",
      "note_on channel=0 note=67 velocity=75 time=0\n",
      "note_off channel=0 note=67 velocity=0 time=960\n",
      "note_on channel=0 note=67 velocity=77 time=0\n",
      "note_off channel=0 note=67 velocity=0 time=960\n",
      "note_on channel=0 note=62 velocity=70 time=0\n",
      "note_off channel=0 note=62 velocity=0 time=480\n",
      "note_on channel=0 note=62 velocity=73 time=0\n",
      "note_on channel=0 note=67 velocity=65 time=480\n",
      "note_off channel=0 note=62 velocity=0 time=0\n",
      "note_off channel=0 note=67 velocity=0 time=960\n",
      "note_on channel=0 note=67 velocity=75 time=0\n",
      "note_off channel=0 note=67 velocity=0 time=960\n",
      "note_on channel=0 note=67 velocity=76 time=0\n",
      "note_off channel=0 note=67 velocity=0 time=1920\n",
      "note_on channel=0 note=67 velocity=77 time=0\n",
      "note_off channel=0 note=67 velocity=0 time=480\n",
      "note_on channel=0 note=67 velocity=74 time=0\n",
      "note_off channel=0 note=67 velocity=0 time=480\n",
      "note_on channel=0 note=67 velocity=73 time=0\n",
      "note_off channel=0 note=67 velocity=0 time=960\n",
      "note_on channel=0 note=67 velocity=72 time=0\n",
      "note_off channel=0 note=67 velocity=0 time=480\n",
      "note_on channel=0 note=67 velocity=74 time=0\n",
      "note_off channel=0 note=67 velocity=0 time=480\n",
      "note_on channel=0 note=67 velocity=78 time=0\n",
      "note_off channel=0 note=67 velocity=0 time=960\n",
      "note_on channel=0 note=67 velocity=77 time=0\n",
      "note_off channel=0 note=67 velocity=0 time=480\n",
      "note_on channel=0 note=67 velocity=73 time=0\n",
      "note_off channel=0 note=67 velocity=0 time=480\n",
      "note_on channel=0 note=67 velocity=80 time=0\n",
      "note_off channel=0 note=67 velocity=0 time=480\n",
      "note_on channel=0 note=67 velocity=74 time=0\n",
      "note_off channel=0 note=67 velocity=0 time=480\n",
      "note_on channel=0 note=67 velocity=80 time=0\n",
      "note_off channel=0 note=67 velocity=0 time=960\n",
      "note_on channel=0 note=67 velocity=75 time=0\n",
      "note_off channel=0 note=67 velocity=0 time=960\n",
      "note_on channel=0 note=67 velocity=77 time=0\n",
      "note_off channel=0 note=67 velocity=0 time=960\n",
      "note_on channel=0 note=67 velocity=74 time=0\n",
      "note_off channel=0 note=67 velocity=0 time=960\n",
      "note_on channel=0 note=67 velocity=76 time=0\n",
      "note_off channel=0 note=67 velocity=0 time=960\n",
      "note_on channel=0 note=62 velocity=66 time=0\n",
      "note_off channel=0 note=62 velocity=0 time=960\n",
      "note_on channel=0 note=64 velocity=77 time=0\n",
      "note_off channel=0 note=64 velocity=0 time=960\n",
      "note_on channel=0 note=64 velocity=73 time=0\n",
      "note_off channel=0 note=64 velocity=0 time=960\n",
      "note_on channel=0 note=62 velocity=72 time=0\n",
      "note_on channel=0 note=71 velocity=65 time=1920\n",
      "note_off channel=0 note=62 velocity=0 time=0\n",
      "note_off channel=0 note=71 velocity=0 time=960\n",
      "note_on channel=0 note=71 velocity=75 time=0\n",
      "note_off channel=0 note=71 velocity=0 time=960\n",
      "note_on channel=0 note=69 velocity=72 time=0\n",
      "note_off channel=0 note=69 velocity=0 time=960\n",
      "note_on channel=0 note=69 velocity=74 time=0\n",
      "note_off channel=0 note=69 velocity=0 time=960\n",
      "note_on channel=0 note=67 velocity=69 time=0\n",
      "note_off channel=0 note=67 velocity=0 time=1920\n",
      "<meta message end_of_track time=1>\n"
     ]
    }
   ],
   "source": [
    "f, d = convertMidiArduino(mid.tracks[1], \"freqs_oldMacDo.txt\", \"durations_oldMacDo.txt\")"
   ]
  },
  {
   "cell_type": "code",
   "execution_count": 19,
   "id": "dynamic-cylinder",
   "metadata": {},
   "outputs": [
    {
     "name": "stdout",
     "output_type": "stream",
     "text": [
      "391,391,391,293,329,329,293,493,493,440,440,391,293,391,391,391,293,329,329,293,493,493,440,440,391,293,293,391,391,391,293,293,391,391,391,391,391,391,391,391,391,391,391,391,391,391,391,391,391,391,293,329,329,293,493,493,440,440,391,"
     ]
    }
   ],
   "source": [
    "!cat freqs_oldMacDo.txt"
   ]
  },
  {
   "cell_type": "code",
   "execution_count": 20,
   "id": "together-easter",
   "metadata": {},
   "outputs": [
    {
     "name": "stdout",
     "output_type": "stream",
     "text": [
      "1,1,1,1,1,1,0,1,1,1,1,2,0,1,1,1,1,1,1,0,1,1,1,1,2,0,0,1,1,1,0,0,1,1,2,0,0,1,0,0,1,0,0,0,0,1,1,1,1,1,1,1,1,0,1,1,1,1,2,"
     ]
    }
   ],
   "source": [
    "!cat durations_oldMacDo.txt"
   ]
  },
  {
   "cell_type": "markdown",
   "id": "developmental-venezuela",
   "metadata": {},
   "source": [
    "## Source\n",
    "- https://www.audiocontentanalysis.org/code/helper-functions/midi-pitch-to-frequency-conversion-2/\n",
    "- https://www.cs.cmu.edu/~music/cmsip/readings/MIDI%20tutorial%20for%20programmers.html  \n",
    "- https://www.elektormagazine.com/index.php/files/attachment/331\n",
    "- [Great tutorial](https://arduinoplusplus.wordpress.com/2018/05/11/playing-midi-files-on-arduino-part-1-standard-midi-files/)  \n",
    "- http://subsynth.sourceforge.net/midinote2freq.html\n",
    "- https://medium.com/analytics-vidhya/convert-midi-file-to-numpy-array-in-python-7d00531890c"
   ]
  },
  {
   "cell_type": "code",
   "execution_count": null,
   "id": "informative-remove",
   "metadata": {},
   "outputs": [],
   "source": []
  }
 ],
 "metadata": {
  "kernelspec": {
   "display_name": "torch",
   "language": "python",
   "name": "torch"
  },
  "language_info": {
   "codemirror_mode": {
    "name": "ipython",
    "version": 3
   },
   "file_extension": ".py",
   "mimetype": "text/x-python",
   "name": "python",
   "nbconvert_exporter": "python",
   "pygments_lexer": "ipython3",
   "version": "3.7.2"
  }
 },
 "nbformat": 4,
 "nbformat_minor": 5
}
