{
 "cells": [
  {
   "cell_type": "markdown",
   "id": "bb5e22f0-c96f-4012-94d1-9f17b51a348b",
   "metadata": {},
   "source": [
    "## Pydantic Models\n",
    "- https://pydantic-docs.helpmanual.io/usage/models/"
   ]
  },
  {
   "cell_type": "code",
   "execution_count": 1,
   "id": "54593d53-2534-4f7f-bcc5-3506c9523f0a",
   "metadata": {},
   "outputs": [],
   "source": [
    "from enum import Enum\n",
    "from pydantic import BaseModel, Field"
   ]
  },
  {
   "cell_type": "code",
   "execution_count": 2,
   "id": "63916efb-6c04-4377-ba8d-557e57479430",
   "metadata": {},
   "outputs": [],
   "source": [
    "class User(BaseModel):\n",
    "    id: int\n",
    "    name = 'Jane Doe'"
   ]
  },
  {
   "cell_type": "code",
   "execution_count": 3,
   "id": "fd036c6b-ddac-4537-b4bb-9a818d441499",
   "metadata": {},
   "outputs": [
    {
     "data": {
      "text/plain": [
       "User(id=123, name='Jane Doe')"
      ]
     },
     "execution_count": 3,
     "metadata": {},
     "output_type": "execute_result"
    }
   ],
   "source": [
    "user = User(id='123')\n",
    "user"
   ]
  },
  {
   "cell_type": "code",
   "execution_count": 4,
   "id": "16fbc0cc-86b3-40cb-9690-4994df65d394",
   "metadata": {},
   "outputs": [
    {
     "ename": "ValidationError",
     "evalue": "1 validation error for User\nid\n  value is not a valid integer (type=type_error.integer)",
     "output_type": "error",
     "traceback": [
      "\u001b[0;31m---------------------------------------------------------------------------\u001b[0m",
      "\u001b[0;31mValidationError\u001b[0m                           Traceback (most recent call last)",
      "Input \u001b[0;32mIn [4]\u001b[0m, in \u001b[0;36m<cell line: 1>\u001b[0;34m()\u001b[0m\n\u001b[0;32m----> 1\u001b[0m user_x \u001b[38;5;241m=\u001b[39m \u001b[43mUser\u001b[49m\u001b[43m(\u001b[49m\u001b[38;5;28;43mid\u001b[39;49m\u001b[38;5;241;43m=\u001b[39;49m\u001b[38;5;124;43m'\u001b[39;49m\u001b[38;5;124;43m123.45\u001b[39;49m\u001b[38;5;124;43m'\u001b[39;49m\u001b[43m)\u001b[49m\n",
      "File \u001b[0;32m~/.pyenv/versions/torch/lib/python3.10/site-packages/pydantic/main.py:341\u001b[0m, in \u001b[0;36mpydantic.main.BaseModel.__init__\u001b[0;34m()\u001b[0m\n",
      "\u001b[0;31mValidationError\u001b[0m: 1 validation error for User\nid\n  value is not a valid integer (type=type_error.integer)"
     ]
    }
   ],
   "source": [
    "user_x = User(id='123.45')"
   ]
  },
  {
   "cell_type": "code",
   "execution_count": 5,
   "id": "fc25c9ec-6a98-4f26-82bd-9c082fb867a8",
   "metadata": {},
   "outputs": [
    {
     "data": {
      "text/plain": [
       "'Jane Doe'"
      ]
     },
     "execution_count": 5,
     "metadata": {},
     "output_type": "execute_result"
    }
   ],
   "source": [
    "user.name"
   ]
  },
  {
   "cell_type": "code",
   "execution_count": 6,
   "id": "aa149fe3-60e2-49ec-bd95-4ad95781dabd",
   "metadata": {},
   "outputs": [
    {
     "data": {
      "text/plain": [
       "{'id': 123, 'name': 'Jane Doe'}"
      ]
     },
     "execution_count": 6,
     "metadata": {},
     "output_type": "execute_result"
    }
   ],
   "source": [
    "user.dict()"
   ]
  },
  {
   "cell_type": "code",
   "execution_count": 7,
   "id": "7e423462-7f05-419b-90f8-6f4f3561b89e",
   "metadata": {},
   "outputs": [
    {
     "data": {
      "text/plain": [
       "'{\"id\": 123, \"name\": \"Jane Doe\"}'"
      ]
     },
     "execution_count": 7,
     "metadata": {},
     "output_type": "execute_result"
    }
   ],
   "source": [
    "user.json()"
   ]
  },
  {
   "cell_type": "code",
   "execution_count": 8,
   "id": "ff2ccd59-4000-44d2-baf7-e35168dc02d9",
   "metadata": {},
   "outputs": [
    {
     "data": {
      "text/plain": [
       "'Jane Doe'"
      ]
     },
     "execution_count": 8,
     "metadata": {},
     "output_type": "execute_result"
    }
   ],
   "source": [
    "user.name"
   ]
  },
  {
   "cell_type": "code",
   "execution_count": 9,
   "id": "e443c309-adfe-4437-9fa3-c3c2637a5461",
   "metadata": {},
   "outputs": [],
   "source": [
    "user_b = user.copy()"
   ]
  },
  {
   "cell_type": "code",
   "execution_count": 10,
   "id": "4d90fa52-2b58-4c04-85a0-d28e4b40dbf5",
   "metadata": {},
   "outputs": [
    {
     "data": {
      "text/plain": [
       "True"
      ]
     },
     "execution_count": 10,
     "metadata": {},
     "output_type": "execute_result"
    }
   ],
   "source": [
    "user_b == user"
   ]
  },
  {
   "cell_type": "code",
   "execution_count": 11,
   "id": "6892d33b-b53f-47d7-9483-c7d001638179",
   "metadata": {},
   "outputs": [
    {
     "data": {
      "text/plain": [
       "{'id': {'title': 'Id', 'type': 'integer'},\n",
       " 'name': {'title': 'Name', 'default': 'Jane Doe', 'type': 'string'}}"
      ]
     },
     "execution_count": 11,
     "metadata": {},
     "output_type": "execute_result"
    }
   ],
   "source": [
    "user.schema()['properties']"
   ]
  },
  {
   "cell_type": "code",
   "execution_count": 12,
   "id": "1364fb7c-a90a-4134-8d3b-ebc70e119ab0",
   "metadata": {},
   "outputs": [
    {
     "data": {
      "text/plain": [
       "__main__.Config"
      ]
     },
     "execution_count": 12,
     "metadata": {},
     "output_type": "execute_result"
    }
   ],
   "source": [
    "user.__config__"
   ]
  },
  {
   "cell_type": "code",
   "execution_count": 13,
   "id": "cdfc2582-dc0a-469f-8be0-c69b1d2f636e",
   "metadata": {},
   "outputs": [
    {
     "data": {
      "text/plain": [
       "{'id': ModelField(name='id', type=int, required=True),\n",
       " 'name': ModelField(name='name', type=str, required=False, default='Jane Doe')}"
      ]
     },
     "execution_count": 13,
     "metadata": {},
     "output_type": "execute_result"
    }
   ],
   "source": [
    "user.__fields__"
   ]
  },
  {
   "cell_type": "code",
   "execution_count": 14,
   "id": "ea0b17b8-2cfa-4e08-9b53-f10cfe5d621b",
   "metadata": {},
   "outputs": [],
   "source": [
    "from pydantic import BaseModel\n",
    "\n",
    "\n",
    "class Foo(BaseModel):\n",
    "    count: int\n",
    "    size: float | None = None\n",
    "\n",
    "\n",
    "class Bar(BaseModel):\n",
    "    apple = 'x'\n",
    "    banana = 'y'\n",
    "\n",
    "\n",
    "class Spam(BaseModel):\n",
    "    foo: Foo\n",
    "    bars: list[Bar]"
   ]
  },
  {
   "cell_type": "code",
   "execution_count": 15,
   "id": "53e3beb4-5a3f-4250-868b-546f49d5dbce",
   "metadata": {},
   "outputs": [
    {
     "data": {
      "text/plain": [
       "<function BaseModel.mro()>"
      ]
     },
     "execution_count": 15,
     "metadata": {},
     "output_type": "execute_result"
    }
   ],
   "source": [
    "BaseModel.mro"
   ]
  },
  {
   "cell_type": "code",
   "execution_count": 16,
   "id": "a5eff83a-0cb9-4d9d-adc6-65e9fa2f9d5d",
   "metadata": {},
   "outputs": [],
   "source": [
    "a = Foo(count=3, size=23.4)"
   ]
  },
  {
   "cell_type": "code",
   "execution_count": 17,
   "id": "d05c799f-da68-43e8-af2e-05929cb03f81",
   "metadata": {},
   "outputs": [
    {
     "name": "stdout",
     "output_type": "stream",
     "text": [
      "foo=Foo(count=4, size=None) bars=[Bar(apple='x1', banana='y'), Bar(apple='x2', banana='y')]\n"
     ]
    }
   ],
   "source": [
    "m = Spam(foo={'count': 4}, bars=[{'apple': 'x1'}, {'apple': 'x2'}])\n",
    "print(m)"
   ]
  },
  {
   "cell_type": "code",
   "execution_count": 18,
   "id": "74139392-b1d4-40e6-986b-bd1818394095",
   "metadata": {},
   "outputs": [
    {
     "data": {
      "text/plain": [
       "Spam(foo=Foo(count=4, size=None), bars=[Bar(apple='x1', banana='y'), Bar(apple='x2', banana='y')])"
      ]
     },
     "execution_count": 18,
     "metadata": {},
     "output_type": "execute_result"
    }
   ],
   "source": [
    "m"
   ]
  },
  {
   "cell_type": "code",
   "execution_count": 19,
   "id": "65cd91aa-0f81-45bb-bf1c-33a9cc70f1b2",
   "metadata": {},
   "outputs": [
    {
     "name": "stdout",
     "output_type": "stream",
     "text": [
      "{'foo': {'count': 4, 'size': None}, 'bars': [{'apple': 'x1', 'banana': 'y'}, {'apple': 'x2', 'banana': 'y'}]}\n"
     ]
    }
   ],
   "source": [
    "print(m.dict())"
   ]
  },
  {
   "cell_type": "code",
   "execution_count": 20,
   "id": "f6238611-dcb2-4f5d-ae3c-3cc503aafb21",
   "metadata": {},
   "outputs": [],
   "source": [
    "a = Foo(count=3, size=23.4)"
   ]
  },
  {
   "cell_type": "markdown",
   "id": "f8af6455-40d5-4ec5-af54-1a125a1b5b1b",
   "metadata": {},
   "source": [
    "### Validation Errors"
   ]
  },
  {
   "cell_type": "code",
   "execution_count": 21,
   "id": "8f7c0005-7994-4188-b71d-1ad01182401d",
   "metadata": {},
   "outputs": [],
   "source": [
    "from pydantic import BaseModel, ValidationError, conint\n",
    "\n",
    "\n",
    "class Location(BaseModel):\n",
    "    lat = 0.1\n",
    "    lng = 10.1"
   ]
  },
  {
   "cell_type": "code",
   "execution_count": 22,
   "id": "ad408657-834a-4053-9b96-6eebfdd924d9",
   "metadata": {},
   "outputs": [],
   "source": [
    "class Model(BaseModel):\n",
    "    is_required: float\n",
    "    gt_int: conint(ge=5, lt=42)\n",
    "    list_of_ints: list[int] = None\n",
    "    a_float: float = None\n",
    "    recursive_model: Location = None"
   ]
  },
  {
   "cell_type": "code",
   "execution_count": 23,
   "id": "0480b14d-130b-4edd-a711-c75582c73afb",
   "metadata": {},
   "outputs": [],
   "source": [
    "data = dict(\n",
    "    is_required = \"223.211\",\n",
    "    list_of_ints=['1', 2, 3],\n",
    "    a_float=5.44,\n",
    "    recursive_model={'lat': 4.2, 'lng': 5.4},\n",
    "    gt_int=4,\n",
    ")"
   ]
  },
  {
   "cell_type": "code",
   "execution_count": 24,
   "id": "661c5de2-8e9c-45be-b943-7390536df5b8",
   "metadata": {},
   "outputs": [
    {
     "name": "stdout",
     "output_type": "stream",
     "text": [
      "[\n",
      "  {\n",
      "    \"loc\": [\n",
      "      \"gt_int\"\n",
      "    ],\n",
      "    \"msg\": \"ensure this value is greater than or equal to 5\",\n",
      "    \"type\": \"value_error.number.not_ge\",\n",
      "    \"ctx\": {\n",
      "      \"limit_value\": 5\n",
      "    }\n",
      "  }\n",
      "]\n"
     ]
    }
   ],
   "source": [
    "try:\n",
    "    Model(**data)\n",
    "except ValidationError as e:\n",
    "    print(e.json())"
   ]
  },
  {
   "cell_type": "markdown",
   "id": "2dbb5d7f-e590-46cb-bc38-66b9bbae0fd0",
   "metadata": {},
   "source": [
    "## Parse"
   ]
  },
  {
   "cell_type": "code",
   "execution_count": 25,
   "id": "516e82b8-93d3-48e4-b8e9-949a6fcd8d91",
   "metadata": {},
   "outputs": [],
   "source": [
    "import pickle\n",
    "from datetime import datetime\n",
    "from pathlib import Path\n",
    "\n",
    "from pydantic import BaseModel, ValidationError"
   ]
  },
  {
   "cell_type": "code",
   "execution_count": 26,
   "id": "a41ce7ad-fff9-47be-b0c1-0ea91b44e90d",
   "metadata": {},
   "outputs": [],
   "source": [
    " class User(BaseModel):\n",
    "    id: int\n",
    "    name = 'John Doe'\n",
    "    signup_ts: datetime = None"
   ]
  },
  {
   "cell_type": "code",
   "execution_count": 28,
   "id": "920fe5fb-b495-4a82-827a-aea045760521",
   "metadata": {},
   "outputs": [
    {
     "data": {
      "text/plain": [
       "User(id=123, signup_ts=None, name='James')"
      ]
     },
     "execution_count": 28,
     "metadata": {},
     "output_type": "execute_result"
    }
   ],
   "source": [
    "m = User.parse_obj({'id': 123, 'name': 'James'})\n",
    "m"
   ]
  },
  {
   "cell_type": "markdown",
   "id": "179a3166-e216-4c7e-a7f2-2762d0f8c10a",
   "metadata": {},
   "source": [
    "m"
   ]
  },
  {
   "cell_type": "code",
   "execution_count": 29,
   "id": "e0555109-734a-4332-861f-e016ea90ca34",
   "metadata": {},
   "outputs": [],
   "source": [
    "intent_result={'clientSettingCode': 'IntentAgentConfiguration', 'clientSettingID': '98f04d1f-af5f-41fb-95cb-4cc5888b51a7', 'settingValue': [{'key': 'sentence_preprocess', 'value': [{'key': 'preproc', 'value': 'adp-e-chat-sage-preproc', 'version': 'latest', 'endpointType': 'preproc'}, {'key': 'ner', 'value': 'roll-chat-ner', 'version': 'latest', 'endpointType': 'ner'}], 'endpointType': 'pipeline'}, {'key': 'shallow_service', 'value': 'adp-e-chat-sage-intents-shallow', 'version': 'latest', 'endpointType': 'intent'}, {'key': 'sbert_service', 'value': 'adp-e-chat-sage-intents-vectors', 'version': 'latest', 'endpointType': 'intent'}, {'key': 'bert_service', 'value': 'adp-e-chat-sage-intents-bert', 'version': 'latest', 'endpointType': 'intent'}, {'key': 'smalltalk_service', 'value': 'adp-e-chat-sage-smalltalk-bert', 'version': 'latest', 'endpointType': 'smalltalk'}, {'key': 'sentiment_service', 'value': None, 'version': 'latest', 'endpointType': 'emotion'}, {'key': 'facts_service', 'value': 'roll-chat-facts', 'version': 'latest', 'endpointType': 'question'}, {'key': 'kbase_service', 'value': 'roll-chat-knowledge-base', 'version': 'latest', 'endpointType': 'question'}], 'tagText': None, 'contextCountryCode': 'US'}"
   ]
  },
  {
   "cell_type": "code",
   "execution_count": 31,
   "id": "86e3a882-7540-4726-a4b9-6875a0368431",
   "metadata": {},
   "outputs": [
    {
     "data": {
      "text/plain": [
       "[{'key': 'sentence_preprocess',\n",
       "  'value': [{'key': 'preproc',\n",
       "    'value': 'adp-e-chat-sage-preproc',\n",
       "    'version': 'latest',\n",
       "    'endpointType': 'preproc'},\n",
       "   {'key': 'ner',\n",
       "    'value': 'roll-chat-ner',\n",
       "    'version': 'latest',\n",
       "    'endpointType': 'ner'}],\n",
       "  'endpointType': 'pipeline'},\n",
       " {'key': 'shallow_service',\n",
       "  'value': 'adp-e-chat-sage-intents-shallow',\n",
       "  'version': 'latest',\n",
       "  'endpointType': 'intent'},\n",
       " {'key': 'sbert_service',\n",
       "  'value': 'adp-e-chat-sage-intents-vectors',\n",
       "  'version': 'latest',\n",
       "  'endpointType': 'intent'},\n",
       " {'key': 'bert_service',\n",
       "  'value': 'adp-e-chat-sage-intents-bert',\n",
       "  'version': 'latest',\n",
       "  'endpointType': 'intent'},\n",
       " {'key': 'smalltalk_service',\n",
       "  'value': 'adp-e-chat-sage-smalltalk-bert',\n",
       "  'version': 'latest',\n",
       "  'endpointType': 'smalltalk'},\n",
       " {'key': 'sentiment_service',\n",
       "  'value': None,\n",
       "  'version': 'latest',\n",
       "  'endpointType': 'emotion'},\n",
       " {'key': 'facts_service',\n",
       "  'value': 'roll-chat-facts',\n",
       "  'version': 'latest',\n",
       "  'endpointType': 'question'},\n",
       " {'key': 'kbase_service',\n",
       "  'value': 'roll-chat-knowledge-base',\n",
       "  'version': 'latest',\n",
       "  'endpointType': 'question'}]"
      ]
     },
     "execution_count": 31,
     "metadata": {},
     "output_type": "execute_result"
    }
   ],
   "source": [
    "intent_settings = intent_result['settingValue'] if intent_result['clientSettingCode']==\"IntentAgentConfiguration\" else {}\n",
    "intent_settings"
   ]
  },
  {
   "cell_type": "code",
   "execution_count": 33,
   "id": "96e712c1-4963-4f7f-87f2-8888e50642e2",
   "metadata": {},
   "outputs": [],
   "source": [
    "class IntentConfig(BaseModel):\n",
    "    key: str\n",
    "    value: str\n",
    "    version: str = 'latest'\n",
    "    endpointType: str"
   ]
  },
  {
   "cell_type": "code",
   "execution_count": 36,
   "id": "8d837bf7-9f82-49db-9f35-1457dfe6995a",
   "metadata": {},
   "outputs": [
    {
     "data": {
      "text/plain": [
       "{'key': 'kbase_service',\n",
       " 'value': 'roll-chat-knowledge-base',\n",
       " 'version': 'latest',\n",
       " 'endpointType': 'question'}"
      ]
     },
     "execution_count": 36,
     "metadata": {},
     "output_type": "execute_result"
    }
   ],
   "source": [
    "intent_settings[-1]"
   ]
  },
  {
   "cell_type": "code",
   "execution_count": 37,
   "id": "befa6712-1f6c-4121-9246-92b1f55ffbb7",
   "metadata": {},
   "outputs": [],
   "source": [
    "conf_1 = IntentConfig.parse_obj(intent_settings[-1])"
   ]
  },
  {
   "cell_type": "code",
   "execution_count": 38,
   "id": "53363fc2-dd65-4f22-bff7-560d8de4901a",
   "metadata": {},
   "outputs": [
    {
     "data": {
      "text/plain": [
       "IntentConfig(key='kbase_service', value='roll-chat-knowledge-base', version='latest', endpointType='question')"
      ]
     },
     "execution_count": 38,
     "metadata": {},
     "output_type": "execute_result"
    }
   ],
   "source": [
    "conf_1"
   ]
  },
  {
   "cell_type": "markdown",
   "id": "7bce1c85-f6d6-44a2-9279-e61c6dbce812",
   "metadata": {},
   "source": [
    "## Dynamic Create Model"
   ]
  },
  {
   "cell_type": "code",
   "execution_count": 39,
   "id": "d9279f9a-9912-40bb-84b8-491b9749ea11",
   "metadata": {},
   "outputs": [],
   "source": [
    "from pydantic import BaseModel, create_model\n",
    "\n",
    "DynamicFoobarModel = create_model('DynamicFoobarModel', foo=(str, ...), bar=123)\n",
    "\n",
    "\n",
    "class StaticFoobarModel(BaseModel):\n",
    "    foo: str\n",
    "    bar: int = 123"
   ]
  },
  {
   "cell_type": "code",
   "execution_count": 40,
   "id": "c612fceb-7871-4b6c-8e36-a087b331ea90",
   "metadata": {},
   "outputs": [
    {
     "data": {
      "text/plain": [
       "pydantic.main.DynamicFoobarModel"
      ]
     },
     "execution_count": 40,
     "metadata": {},
     "output_type": "execute_result"
    }
   ],
   "source": [
    "DynamicFoobarModel"
   ]
  },
  {
   "cell_type": "code",
   "execution_count": 41,
   "id": "2ad7c185-2db0-48fe-a139-d1a0c4993f16",
   "metadata": {},
   "outputs": [],
   "source": [
    "from pydantic import BaseModel, create_model\n",
    "\n",
    "\n",
    "class FooModel(BaseModel):\n",
    "    foo: str\n",
    "    bar: int = 123"
   ]
  },
  {
   "cell_type": "code",
   "execution_count": 42,
   "id": "5e43dc32-39d7-46c0-aff8-269b031c781f",
   "metadata": {},
   "outputs": [],
   "source": [
    "BarModel = create_model(\n",
    "    'BarModel',\n",
    "    apple='russet',\n",
    "    banana='yellow',\n",
    "    __base__=FooModel,\n",
    ")"
   ]
  },
  {
   "cell_type": "code",
   "execution_count": 43,
   "id": "1cdfe423-8436-44ac-a1a6-8d7ffc470f89",
   "metadata": {},
   "outputs": [
    {
     "name": "stdout",
     "output_type": "stream",
     "text": [
      "<class 'pydantic.main.BarModel'>\n"
     ]
    }
   ],
   "source": [
    "print(BarModel)"
   ]
  },
  {
   "cell_type": "code",
   "execution_count": 46,
   "id": "acc0c119-63cb-4fbc-bad0-eef3122287ce",
   "metadata": {},
   "outputs": [
    {
     "data": {
      "text/plain": [
       "{}"
      ]
     },
     "execution_count": 46,
     "metadata": {},
     "output_type": "execute_result"
    }
   ],
   "source": [
    "BarModel.Config.fields"
   ]
  },
  {
   "cell_type": "code",
   "execution_count": 47,
   "id": "c5060a4c-b5dd-4855-9804-b27b8461ef2e",
   "metadata": {},
   "outputs": [
    {
     "name": "stdout",
     "output_type": "stream",
     "text": [
      "dict_keys(['foo', 'bar', 'apple', 'banana'])\n"
     ]
    }
   ],
   "source": [
    "print(BarModel.__fields__.keys())"
   ]
  },
  {
   "cell_type": "code",
   "execution_count": 53,
   "id": "a1791c3a-a7ef-41f1-aa09-fe36be38df65",
   "metadata": {},
   "outputs": [
    {
     "ename": "TypeError",
     "evalue": "__init__() takes exactly 1 positional argument (2 given)",
     "output_type": "error",
     "traceback": [
      "\u001b[0;31m---------------------------------------------------------------------------\u001b[0m",
      "\u001b[0;31mTypeError\u001b[0m                                 Traceback (most recent call last)",
      "Input \u001b[0;32mIn [53]\u001b[0m, in \u001b[0;36m<cell line: 1>\u001b[0;34m()\u001b[0m\n\u001b[0;32m----> 1\u001b[0m a \u001b[38;5;241m=\u001b[39m \u001b[43mBarModel\u001b[49m\u001b[43m(\u001b[49m\u001b[43m{\u001b[49m\u001b[43m}\u001b[49m\u001b[43m)\u001b[49m\n",
      "File \u001b[0;32m~/.pyenv/versions/torch/lib/python3.10/site-packages/pydantic/main.py:332\u001b[0m, in \u001b[0;36mpydantic.main.BaseModel.__init__\u001b[0;34m()\u001b[0m\n",
      "\u001b[0;31mTypeError\u001b[0m: __init__() takes exactly 1 positional argument (2 given)"
     ]
    }
   ],
   "source": [
    "a = BarModel({})"
   ]
  },
  {
   "cell_type": "code",
   "execution_count": null,
   "id": "11dff9ee-33df-4007-a0cb-87ab4bce5e70",
   "metadata": {},
   "outputs": [],
   "source": []
  },
  {
   "cell_type": "code",
   "execution_count": null,
   "id": "4587d814-d1c8-45c4-81dd-18a7a06f3c80",
   "metadata": {},
   "outputs": [],
   "source": []
  },
  {
   "cell_type": "markdown",
   "id": "bd656779-9171-4091-bab0-4520e45c2dfb",
   "metadata": {},
   "source": [
    "## Dataclass"
   ]
  },
  {
   "cell_type": "code",
   "execution_count": 54,
   "id": "d4262f38-770c-43d0-9de5-bdeecd8e2850",
   "metadata": {},
   "outputs": [],
   "source": [
    "from datetime import datetime\n",
    "from pydantic.dataclasses import dataclass\n",
    "\n",
    "\n",
    "@dataclass\n",
    "class User:\n",
    "    id: int\n",
    "    name: str = 'John Doe'\n",
    "    signup_ts: datetime = None"
   ]
  },
  {
   "cell_type": "code",
   "execution_count": 55,
   "id": "cc7ac68c-6095-431a-87d4-a8ff0a3b122e",
   "metadata": {},
   "outputs": [
    {
     "data": {
      "text/plain": [
       "User(id=42, name='John Doe', signup_ts=datetime.datetime(2032, 6, 21, 12, 0))"
      ]
     },
     "execution_count": 55,
     "metadata": {},
     "output_type": "execute_result"
    }
   ],
   "source": [
    "user_1 = User(id='42', signup_ts='2032-06-21T12:00')\n",
    "user_1"
   ]
  },
  {
   "cell_type": "code",
   "execution_count": 59,
   "id": "c0c11c39-1f41-4f58-8810-fa665d0ac72d",
   "metadata": {},
   "outputs": [
    {
     "data": {
      "text/plain": [
       "User(id=43, name='John Doe', signup_ts=datetime.datetime(2032, 6, 21, 14, 0))"
      ]
     },
     "execution_count": 59,
     "metadata": {},
     "output_type": "execute_result"
    }
   ],
   "source": [
    "user_2 = User(id='43', signup_ts='2032-06-21T14:00')\n",
    "user_2"
   ]
  },
  {
   "cell_type": "code",
   "execution_count": 60,
   "id": "271c4ad5-cd2e-45ed-9444-6e819fa50ddb",
   "metadata": {},
   "outputs": [],
   "source": [
    "class FooModel(BaseModel):\n",
    "    foo: str\n",
    "    bar: int = 123\n",
    "    \n",
    "    Cla"
   ]
  },
  {
   "cell_type": "code",
   "execution_count": 61,
   "id": "a6908554-d1e4-48a7-9253-014026b544bf",
   "metadata": {},
   "outputs": [],
   "source": [
    "user = FooModel(foo=\"testing\", bar=1000)"
   ]
  },
  {
   "cell_type": "code",
   "execution_count": 63,
   "id": "fc91a602-0fa5-40f2-b7a8-168b6cc7a8e7",
   "metadata": {},
   "outputs": [
    {
     "data": {
      "text/plain": [
       "'{\"foo\": \"testing\", \"bar\": 1000}'"
      ]
     },
     "execution_count": 63,
     "metadata": {},
     "output_type": "execute_result"
    }
   ],
   "source": [
    "user.json()"
   ]
  },
  {
   "cell_type": "code",
   "execution_count": 68,
   "id": "4fe53053-b08e-4a22-85a3-184864a9cb94",
   "metadata": {},
   "outputs": [
    {
     "data": {
      "text/plain": [
       "{}"
      ]
     },
     "execution_count": 68,
     "metadata": {},
     "output_type": "execute_result"
    }
   ],
   "source": [
    "user.Config"
   ]
  },
  {
   "cell_type": "code",
   "execution_count": null,
   "id": "3c9eb97e-f7c6-4ff2-b6ba-35a5d33aeb29",
   "metadata": {},
   "outputs": [],
   "source": []
  }
 ],
 "metadata": {
  "kernelspec": {
   "display_name": "torch",
   "language": "python",
   "name": "torch"
  },
  "language_info": {
   "codemirror_mode": {
    "name": "ipython",
    "version": 3
   },
   "file_extension": ".py",
   "mimetype": "text/x-python",
   "name": "python",
   "nbconvert_exporter": "python",
   "pygments_lexer": "ipython3",
   "version": "3.10.4"
  }
 },
 "nbformat": 4,
 "nbformat_minor": 5
}
