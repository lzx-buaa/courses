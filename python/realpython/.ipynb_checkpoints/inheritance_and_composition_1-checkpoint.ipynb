{
 "cells": [
  {
   "cell_type": "code",
   "execution_count": 1,
   "id": "interim-syndication",
   "metadata": {},
   "outputs": [],
   "source": [
    "import abc"
   ]
  },
  {
   "cell_type": "code",
   "execution_count": 2,
   "id": "material-candidate",
   "metadata": {},
   "outputs": [],
   "source": [
    "class Engine(object):\n",
    "    def __init__(self):\n",
    "        self.motor = 2.0\n",
    "        self.num_tires = 4\n",
    "        pass\n",
    "    def _acelerate(self):\n",
    "        pass\n",
    "    def _break(self):\n",
    "        pass"
   ]
  },
  {
   "cell_type": "code",
   "execution_count": 3,
   "id": "excessive-jimmy",
   "metadata": {},
   "outputs": [],
   "source": [
    "class Brand(object):\n",
    "    def __init__():\n",
    "        pass"
   ]
  },
  {
   "cell_type": "code",
   "execution_count": 4,
   "id": "african-transfer",
   "metadata": {},
   "outputs": [],
   "source": [
    "e1 = Engine()"
   ]
  },
  {
   "cell_type": "code",
   "execution_count": 5,
   "id": "accepting-herald",
   "metadata": {},
   "outputs": [
    {
     "data": {
      "text/plain": [
       "2.0"
      ]
     },
     "execution_count": 5,
     "metadata": {},
     "output_type": "execute_result"
    }
   ],
   "source": [
    "e1.motor"
   ]
  },
  {
   "cell_type": "code",
   "execution_count": 6,
   "id": "cardiovascular-configuration",
   "metadata": {},
   "outputs": [
    {
     "data": {
      "text/plain": [
       "4"
      ]
     },
     "execution_count": 6,
     "metadata": {},
     "output_type": "execute_result"
    }
   ],
   "source": [
    "e1.num_tires"
   ]
  },
  {
   "cell_type": "markdown",
   "id": "beginning-pledge",
   "metadata": {},
   "source": [
    "## Composition"
   ]
  },
  {
   "cell_type": "code",
   "execution_count": 12,
   "id": "vertical-convenience",
   "metadata": {},
   "outputs": [],
   "source": [
    "class MyClass:\n",
    "    '''\n",
    "    My class here\n",
    "    '''\n",
    "    pass"
   ]
  },
  {
   "cell_type": "code",
   "execution_count": 13,
   "id": "thrown-collective",
   "metadata": {},
   "outputs": [],
   "source": [
    "c = MyClass()"
   ]
  },
  {
   "cell_type": "code",
   "execution_count": 14,
   "id": "operating-advice",
   "metadata": {},
   "outputs": [
    {
     "data": {
      "text/plain": [
       "['__class__',\n",
       " '__delattr__',\n",
       " '__dict__',\n",
       " '__dir__',\n",
       " '__doc__',\n",
       " '__eq__',\n",
       " '__format__',\n",
       " '__ge__',\n",
       " '__getattribute__',\n",
       " '__gt__',\n",
       " '__hash__',\n",
       " '__init__',\n",
       " '__init_subclass__',\n",
       " '__le__',\n",
       " '__lt__',\n",
       " '__module__',\n",
       " '__ne__',\n",
       " '__new__',\n",
       " '__reduce__',\n",
       " '__reduce_ex__',\n",
       " '__repr__',\n",
       " '__setattr__',\n",
       " '__sizeof__',\n",
       " '__str__',\n",
       " '__subclasshook__',\n",
       " '__weakref__']"
      ]
     },
     "execution_count": 14,
     "metadata": {},
     "output_type": "execute_result"
    }
   ],
   "source": [
    "dir(c)"
   ]
  },
  {
   "cell_type": "code",
   "execution_count": 15,
   "id": "micro-heritage",
   "metadata": {},
   "outputs": [
    {
     "data": {
      "text/plain": [
       "'\\n    My class here\\n    '"
      ]
     },
     "execution_count": 15,
     "metadata": {},
     "output_type": "execute_result"
    }
   ],
   "source": [
    "c.__doc__"
   ]
  },
  {
   "cell_type": "code",
   "execution_count": 16,
   "id": "educated-flashing",
   "metadata": {},
   "outputs": [
    {
     "data": {
      "text/plain": [
       "<method-wrapper '__init__' of MyClass object at 0x1064fcef0>"
      ]
     },
     "execution_count": 16,
     "metadata": {},
     "output_type": "execute_result"
    }
   ],
   "source": [
    "c.__init__"
   ]
  },
  {
   "cell_type": "code",
   "execution_count": 17,
   "id": "expressed-yukon",
   "metadata": {},
   "outputs": [],
   "source": [
    "o = object()"
   ]
  },
  {
   "cell_type": "code",
   "execution_count": 18,
   "id": "favorite-active",
   "metadata": {},
   "outputs": [
    {
     "data": {
      "text/plain": [
       "['__class__',\n",
       " '__delattr__',\n",
       " '__dir__',\n",
       " '__doc__',\n",
       " '__eq__',\n",
       " '__format__',\n",
       " '__ge__',\n",
       " '__getattribute__',\n",
       " '__gt__',\n",
       " '__hash__',\n",
       " '__init__',\n",
       " '__init_subclass__',\n",
       " '__le__',\n",
       " '__lt__',\n",
       " '__ne__',\n",
       " '__new__',\n",
       " '__reduce__',\n",
       " '__reduce_ex__',\n",
       " '__repr__',\n",
       " '__setattr__',\n",
       " '__sizeof__',\n",
       " '__str__',\n",
       " '__subclasshook__']"
      ]
     },
     "execution_count": 18,
     "metadata": {},
     "output_type": "execute_result"
    }
   ],
   "source": [
    "dir(o)"
   ]
  },
  {
   "cell_type": "code",
   "execution_count": 28,
   "id": "peripheral-bhutan",
   "metadata": {},
   "outputs": [],
   "source": [
    "class MyError(Exception):\n",
    "    def __init__(self, message):\n",
    "        super().__init__(message)\n",
    "    pass"
   ]
  },
  {
   "cell_type": "code",
   "execution_count": 29,
   "id": "center-archives",
   "metadata": {},
   "outputs": [
    {
     "ename": "MyError",
     "evalue": "Something went wrong!",
     "output_type": "error",
     "traceback": [
      "\u001b[0;31m---------------------------------------------------------------------------\u001b[0m",
      "\u001b[0;31mMyError\u001b[0m                                   Traceback (most recent call last)",
      "\u001b[0;32m<ipython-input-29-0fac3ff6b2c3>\u001b[0m in \u001b[0;36m<module>\u001b[0;34m\u001b[0m\n\u001b[0;32m----> 1\u001b[0;31m \u001b[0;32mraise\u001b[0m \u001b[0mMyError\u001b[0m\u001b[0;34m(\u001b[0m\u001b[0;34m\"Something went wrong!\"\u001b[0m\u001b[0;34m)\u001b[0m\u001b[0;34m\u001b[0m\u001b[0;34m\u001b[0m\u001b[0m\n\u001b[0m",
      "\u001b[0;31mMyError\u001b[0m: Something went wrong!"
     ]
    }
   ],
   "source": [
    "raise MyError(\"Something went wrong!\")"
   ]
  },
  {
   "cell_type": "markdown",
   "id": "circular-ghana",
   "metadata": {},
   "source": [
    "## Interfaces\n",
    "\n",
    "- Python support multiple inheritances\n",
    "- Interface is more a conceptual construct\n",
    "- For a  class to implement an interface it must have the attributes that describes the interface"
   ]
  },
  {
   "cell_type": "code",
   "execution_count": 54,
   "id": "committed-desktop",
   "metadata": {},
   "outputs": [],
   "source": [
    "from abc import ABC, abstractmethod"
   ]
  },
  {
   "cell_type": "code",
   "execution_count": 56,
   "id": "bearing-mistress",
   "metadata": {},
   "outputs": [],
   "source": [
    "class PayrollObject:\n",
    "    def __init__(self, id, name):\n",
    "        self.id = id\n",
    "        self.name = name\n",
    "    def calculate_payroll(self):\n",
    "        return 1234"
   ]
  },
  {
   "cell_type": "code",
   "execution_count": 57,
   "id": "plastic-minister",
   "metadata": {},
   "outputs": [],
   "source": [
    "class PayrollSystem:\n",
    "    def calculate_payroll(self, employees):\n",
    "        print(\"Calculating Payroll\")\n",
    "        print(\"===================\")\n",
    "        for employee in employees:\n",
    "            print(f\"Payroll for: {employee.id} - {employee.name}\")\n",
    "            print(f\"- Check amount: {employee.calculate_payroll()}\")\n",
    "            print(\" \")    "
   ]
  },
  {
   "cell_type": "code",
   "execution_count": 60,
   "id": "changed-teaching",
   "metadata": {},
   "outputs": [],
   "source": [
    "class Employee(ABC):\n",
    "    def __init__(self, id, name):\n",
    "        self.id = id\n",
    "        self.name = name\n",
    "        \n",
    "    @abstractmethod\n",
    "    def calculate_payroll(self):\n",
    "        pass"
   ]
  },
  {
   "cell_type": "code",
   "execution_count": 61,
   "id": "impaired-charleston",
   "metadata": {},
   "outputs": [],
   "source": [
    "class SalaryEmployee(Employee):\n",
    "    def __init__(self, id, name, weekly_salary):\n",
    "        super().__init__(id, name)\n",
    "        self.weekly_salary = weekly_salary\n",
    "    def calculate_payroll(self):\n",
    "        return self.weekly_salary"
   ]
  },
  {
   "cell_type": "code",
   "execution_count": 62,
   "id": "broken-award",
   "metadata": {},
   "outputs": [],
   "source": [
    "class HourlyEmployee(Employee):\n",
    "    def __init__(self, id, name, hours_worked, hour_rate):\n",
    "        super().__init__(id, name)\n",
    "        self.hours_worked = hours_worked\n",
    "        self.hour_rate = hour_rate\n",
    "    def calculate_payroll(self):\n",
    "        return self.hours_worked * self.hour_rate"
   ]
  },
  {
   "cell_type": "code",
   "execution_count": 47,
   "id": "accompanied-tuner",
   "metadata": {},
   "outputs": [],
   "source": [
    "class CommisionEmployee(SalaryEmployee):\n",
    "    def __init__(self, id, name, weekly_salary, commision):\n",
    "        super().__init__(id, name, weekly_salary)\n",
    "        self.commision = commision\n",
    "    def calculate_payroll(self):\n",
    "        fixed = super().calculate_payroll()\n",
    "        return fixed + self.commision"
   ]
  },
  {
   "cell_type": "code",
   "execution_count": 64,
   "id": "historic-professor",
   "metadata": {},
   "outputs": [],
   "source": [
    "salary_employee = SalaryEmployee(1, \"John Smith\", 1500)\n",
    "hourly_employee = HourlyEmployee(2, \"Jane Doe\", 40, 15)\n",
    "commission_employee = CommisionEmployee(3, \"Kevin Bacon\", 1000, 250)"
   ]
  },
  {
   "cell_type": "code",
   "execution_count": 65,
   "id": "square-shelf",
   "metadata": {},
   "outputs": [],
   "source": [
    "payroll_system = PayrollSystem()"
   ]
  },
  {
   "cell_type": "code",
   "execution_count": 66,
   "id": "numerous-position",
   "metadata": {},
   "outputs": [
    {
     "name": "stdout",
     "output_type": "stream",
     "text": [
      "Calculating Payroll\n",
      "===================\n",
      "Payroll for: 1 - John Smith\n",
      "- Check amount: 1500\n",
      " \n",
      "Payroll for: 2 - Jane Doe\n",
      "- Check amount: 600\n",
      " \n",
      "Payroll for: 3 - Kevin Bacon\n",
      "- Check amount: 1250\n",
      " \n"
     ]
    }
   ],
   "source": [
    "payroll_system.calculate_payroll([\n",
    "    salary_employee,\n",
    "    hourly_employee,\n",
    "    commission_employee\n",
    "])"
   ]
  },
  {
   "cell_type": "markdown",
   "id": "configured-ratio",
   "metadata": {},
   "source": [
    "## Source\n",
    "1. https://realpython.com/courses/inheritance-composition-python/"
   ]
  },
  {
   "cell_type": "code",
   "execution_count": null,
   "id": "concrete-shock",
   "metadata": {},
   "outputs": [],
   "source": []
  }
 ],
 "metadata": {
  "kernelspec": {
   "display_name": "torch",
   "language": "python",
   "name": "torch"
  },
  "language_info": {
   "codemirror_mode": {
    "name": "ipython",
    "version": 3
   },
   "file_extension": ".py",
   "mimetype": "text/x-python",
   "name": "python",
   "nbconvert_exporter": "python",
   "pygments_lexer": "ipython3",
   "version": "3.7.2"
  }
 },
 "nbformat": 4,
 "nbformat_minor": 5
}
