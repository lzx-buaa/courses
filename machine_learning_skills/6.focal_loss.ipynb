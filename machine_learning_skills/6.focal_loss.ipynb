{
 "cells": [
  {
   "cell_type": "code",
   "execution_count": 1,
   "id": "a26996f2-ed9b-4974-8a6d-39a625906341",
   "metadata": {},
   "outputs": [],
   "source": [
    "import numpy"
   ]
  },
  {
   "cell_type": "code",
   "execution_count": 2,
   "id": "61b983f8-e558-48e5-bb04-113f64b74fe9",
   "metadata": {},
   "outputs": [],
   "source": [
    "gamas = [1.,2.,3.]"
   ]
  },
  {
   "cell_type": "code",
   "execution_count": 3,
   "id": "f14c6da9-f6d7-469c-a753-93998732191b",
   "metadata": {},
   "outputs": [],
   "source": [
    "probas = [0.01, 0.1, 0.5, 0.8, 0.99]"
   ]
  },
  {
   "cell_type": "code",
   "execution_count": 4,
   "id": "ff001e29-ca80-4b8a-a15d-eff02118a9b9",
   "metadata": {},
   "outputs": [
    {
     "name": "stdout",
     "output_type": "stream",
     "text": [
      "---------- - 1.0------------------------------\n",
      " - Prob: 0.01  - focal: 0.99\n",
      " - Prob: 0.1  - focal: 0.9\n",
      " - Prob: 0.5  - focal: 0.5\n",
      " - Prob: 0.8  - focal: 0.19999999999999996\n",
      " - Prob: 0.99  - focal: 0.010000000000000009\n",
      "---------- - 2.0------------------------------\n",
      " - Prob: 0.01  - focal: 0.9801\n",
      " - Prob: 0.1  - focal: 0.81\n",
      " - Prob: 0.5  - focal: 0.25\n",
      " - Prob: 0.8  - focal: 0.03999999999999998\n",
      " - Prob: 0.99  - focal: 0.00010000000000000018\n",
      "---------- - 3.0------------------------------\n",
      " - Prob: 0.01  - focal: 0.970299\n",
      " - Prob: 0.1  - focal: 0.7290000000000001\n",
      " - Prob: 0.5  - focal: 0.125\n",
      " - Prob: 0.8  - focal: 0.007999999999999995\n",
      " - Prob: 0.99  - focal: 1.0000000000000027e-06\n"
     ]
    }
   ],
   "source": [
    "\n",
    "for g in gamas:\n",
    "    print(\"-\"*10 + f\" - {g}\" + \"-\"*30)\n",
    "    for p in probas:\n",
    "        focal = pow((1-p),g)\n",
    "        print(f\" - Prob: {p}  - focal: {focal}\")"
   ]
  },
  {
   "cell_type": "code",
   "execution_count": null,
   "id": "2fed1f0b-9bb8-49e7-91ad-fb950dcdc84b",
   "metadata": {},
   "outputs": [],
   "source": []
  },
  {
   "cell_type": "code",
   "execution_count": null,
   "id": "fbb5abed-8413-4b41-bfe5-55c79c28f326",
   "metadata": {},
   "outputs": [],
   "source": []
  }
 ],
 "metadata": {
  "kernelspec": {
   "display_name": "torch",
   "language": "python",
   "name": "torch"
  },
  "language_info": {
   "codemirror_mode": {
    "name": "ipython",
    "version": 3
   },
   "file_extension": ".py",
   "mimetype": "text/x-python",
   "name": "python",
   "nbconvert_exporter": "python",
   "pygments_lexer": "ipython3",
   "version": "3.10.4"
  }
 },
 "nbformat": 4,
 "nbformat_minor": 5
}
