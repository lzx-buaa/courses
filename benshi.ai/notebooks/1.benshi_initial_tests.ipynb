{
 "cells": [
  {
   "cell_type": "markdown",
   "id": "adjusted-blues",
   "metadata": {},
   "source": [
    "### Benshi Ai Forecastingb"
   ]
  },
  {
   "cell_type": "markdown",
   "id": "apparent-emerald",
   "metadata": {},
   "source": [
    "We would like you to do a practical exercise with the attached dataset. It has data about contraceptive consumption, and the goal is to predict consumption (stock_distributed from \"train.csv\") for 10 contraceptives across 156 health service delivery sites in the public sector health system in Côte D’Ivore. The predictions should be made monthly for three months (July, August, September from 2019). You should give the output of the model you consider to be the best approach in a file with the same format as “SampleSubmission.csv”\n",
    "\n",
    " \n",
    "\n",
    "With this exercise, we want to evaluate your analysis and modeling skills.  Even more important than the final prediction you submit is the process to get there. We would like to see all the analysis, additional modeling attempts, and verification metrics used to compare them, that lead you to your final choice. You can use any format to present this (notebook, pdf...), and should also send us the code used in the generation of all statistics, figures, and predictions. There is absolutely no constraint regarding which approaches, techniques, tools, or programming language to use. Hint: you could try using data augmentation, LSTMs, deepAr… (or really any other modeling techniques of your choice). You will find more information on the dataset in Table_of_contents.xls.\n",
    "\n",
    " \n",
    "\n",
    "You will have 7 days to do the task, but if you need more time, please let us know in advance. \n",
    "\n",
    "Feel free to reach us if you have any additional questions on the exercise or dataset."
   ]
  },
  {
   "cell_type": "markdown",
   "id": "victorian-briefs",
   "metadata": {},
   "source": [
    "Files available for download\n",
    "\n",
    "- Train.csv - you will use this data to train your model on  \n",
    "- SampleSubmission.csv - is an example of what your submission file should look like. The order of the rows does not matter, but the names of the IDs must be correct.\n",
    "- monthly_cases.csv - monthly information about distribution of contraceptives in from January to June 2019\n",
    "- annual_cases.csv - annual information about distribution of contraceptives per health center for 3 years\n",
    "- data_dictionary.csv - variable defintions for each csv file\n",
    "- product.csv - defintion of each contraceptive\n",
    "- Recommended_Supplementary_Data_Sources.docx - a list of extra data recommended by USAID\n",
    "- service_delivery_site_data.csv - information about delivery sites, including the latitude and longitude\n",
    "- Table_of_Contents.xlsx - description of the files available\n",
    "- contraceptive_case_data_annual.csv - annual information about distribution of contraceptives per health center for 3 years"
   ]
  },
  {
   "cell_type": "markdown",
   "id": "serious-spectacular",
   "metadata": {},
   "source": [
    "## Approaches\n",
    "- Simple Baseline\n",
    "- PyTorch LSTM\n",
    "- DeepAR\n",
    "- Hierarchical Bayesian Time Series (Prophet+PyMC3)"
   ]
  },
  {
   "cell_type": "code",
   "execution_count": null,
   "id": "boring-ownership",
   "metadata": {},
   "outputs": [],
   "source": []
  },
  {
   "cell_type": "code",
   "execution_count": null,
   "id": "binary-browse",
   "metadata": {},
   "outputs": [],
   "source": []
  },
  {
   "cell_type": "code",
   "execution_count": 2,
   "id": "distinct-despite",
   "metadata": {},
   "outputs": [],
   "source": [
    "import pandas as pd\n",
    "import numpy as np\n",
    "import torch"
   ]
  },
  {
   "cell_type": "code",
   "execution_count": null,
   "id": "damaged-botswana",
   "metadata": {},
   "outputs": [],
   "source": []
  },
  {
   "cell_type": "code",
   "execution_count": null,
   "id": "matched-machinery",
   "metadata": {},
   "outputs": [],
   "source": []
  },
  {
   "cell_type": "markdown",
   "id": "alpine-thickness",
   "metadata": {},
   "source": [
    "## Sources\n",
    "1. https://zindi.africa/competitions/usaids-intelligent-forecasting-challenge-model-future-contraceptive-use/data\n",
    "2. https://medium.com/analytics-vidhya/time-series-forecasting-with-deepar-cbdae8abab8a\n",
    "3. https://www.youtube.com/watch?v=jo12CWZ00Lo\n",
    "4. https://www.kaggle.com/kerneler/starter-usaid-s-intelligent-2f4f7ee8-c\n",
    "\n",
    "## Notebooks\n",
    "1. https://github.com/ritvikmath/YouTubeVideoCode/blob/main/Bayesian%20Time%20Series.ipynb\n",
    "2. https://docs.pymc.io/api/distributions/timeseries.html\n",
    "3. https://www.youtube.com/watch?v=jo12CWZ00Lo\n",
    "\n",
    "\n",
    "\n",
    "\n",
    "## Competition\n",
    "- https://github.com/AnilBetta/Zindi-UsiadS_Forecasting_Starter_Notebook/blob/master/Starter%20Notebook.ipynb\n",
    "- https://www.youtube.com/watch?v=FW1JZE_X2IE&t=694s"
   ]
  },
  {
   "cell_type": "code",
   "execution_count": null,
   "id": "enormous-owner",
   "metadata": {},
   "outputs": [],
   "source": []
  }
 ],
 "metadata": {
  "kernelspec": {
   "display_name": "torch",
   "language": "python",
   "name": "torch"
  },
  "language_info": {
   "codemirror_mode": {
    "name": "ipython",
    "version": 3
   },
   "file_extension": ".py",
   "mimetype": "text/x-python",
   "name": "python",
   "nbconvert_exporter": "python",
   "pygments_lexer": "ipython3",
   "version": "3.7.2"
  }
 },
 "nbformat": 4,
 "nbformat_minor": 5
}
