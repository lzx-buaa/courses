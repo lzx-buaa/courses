{
 "cells": [
  {
   "cell_type": "code",
   "execution_count": 1,
   "id": "egyptian-publisher",
   "metadata": {},
   "outputs": [],
   "source": [
    "import pandas as pd\n",
    "import numpy as np\n",
    "import torch\n",
    "import matplotlib.pyplot as plt\n",
    "%matplotlib inline"
   ]
  },
  {
   "cell_type": "code",
   "execution_count": 2,
   "id": "classical-miracle",
   "metadata": {},
   "outputs": [
    {
     "name": "stdout",
     "output_type": "stream",
     "text": [
      "cpu is available.\n"
     ]
    }
   ],
   "source": [
    "import torch\n",
    "import torch.nn as nn\n",
    "import torch.optim as optim\n",
    "import pandas as pd\n",
    "import numpy as np\n",
    "import matplotlib.pyplot as plt\n",
    "from datetime import datetime\n",
    "from torch.utils.data import TensorDataset, DataLoader\n",
    "\n",
    "device = \"cuda\" if torch.cuda.is_available() else \"cpu\"\n",
    "print(f\"{device}\" \" is available.\")"
   ]
  },
  {
   "cell_type": "code",
   "execution_count": 3,
   "id": "hindu-sustainability",
   "metadata": {},
   "outputs": [],
   "source": [
    "## Sklearn Stuff\n",
    "from sklearn.preprocessing import LabelEncoder\n",
    "from sklearn.preprocessing import MinMaxScaler\n",
    "from sklearn.metrics import mean_squared_error"
   ]
  },
  {
   "cell_type": "markdown",
   "id": "better-bridges",
   "metadata": {},
   "source": [
    "## Dataset preparation"
   ]
  },
  {
   "cell_type": "code",
   "execution_count": 4,
   "id": "entertaining-tactics",
   "metadata": {},
   "outputs": [
    {
     "data": {
      "text/html": [
       "<div>\n",
       "<style scoped>\n",
       "    .dataframe tbody tr th:only-of-type {\n",
       "        vertical-align: middle;\n",
       "    }\n",
       "\n",
       "    .dataframe tbody tr th {\n",
       "        vertical-align: top;\n",
       "    }\n",
       "\n",
       "    .dataframe thead th {\n",
       "        text-align: right;\n",
       "    }\n",
       "</style>\n",
       "<table border=\"1\" class=\"dataframe\">\n",
       "  <thead>\n",
       "    <tr style=\"text-align: right;\">\n",
       "      <th></th>\n",
       "      <th>year</th>\n",
       "      <th>month</th>\n",
       "      <th>region</th>\n",
       "      <th>district</th>\n",
       "      <th>site_code</th>\n",
       "      <th>product_code</th>\n",
       "      <th>stock_initial</th>\n",
       "      <th>stock_received</th>\n",
       "      <th>stock_distributed</th>\n",
       "      <th>stock_adjustment</th>\n",
       "      <th>stock_end</th>\n",
       "      <th>average_monthly_consumption</th>\n",
       "      <th>stock_stockout_days</th>\n",
       "      <th>stock_ordered</th>\n",
       "    </tr>\n",
       "  </thead>\n",
       "  <tbody>\n",
       "    <tr>\n",
       "      <th>35748</th>\n",
       "      <td>2016</td>\n",
       "      <td>7</td>\n",
       "      <td>LOH-DJIBOUA</td>\n",
       "      <td>GUITRY</td>\n",
       "      <td>C2055</td>\n",
       "      <td>AS27133</td>\n",
       "      <td>0</td>\n",
       "      <td>50</td>\n",
       "      <td>25</td>\n",
       "      <td>0</td>\n",
       "      <td>25</td>\n",
       "      <td>8</td>\n",
       "      <td>0</td>\n",
       "      <td>25.0</td>\n",
       "    </tr>\n",
       "    <tr>\n",
       "      <th>35749</th>\n",
       "      <td>2016</td>\n",
       "      <td>7</td>\n",
       "      <td>LOH-DJIBOUA</td>\n",
       "      <td>GUITRY</td>\n",
       "      <td>C2055</td>\n",
       "      <td>AS27138</td>\n",
       "      <td>150</td>\n",
       "      <td>0</td>\n",
       "      <td>0</td>\n",
       "      <td>0</td>\n",
       "      <td>150</td>\n",
       "      <td>0</td>\n",
       "      <td>0</td>\n",
       "      <td>0.0</td>\n",
       "    </tr>\n",
       "    <tr>\n",
       "      <th>35750</th>\n",
       "      <td>2016</td>\n",
       "      <td>7</td>\n",
       "      <td>LOH-DJIBOUA</td>\n",
       "      <td>GUITRY</td>\n",
       "      <td>C2055</td>\n",
       "      <td>AS27132</td>\n",
       "      <td>1</td>\n",
       "      <td>10</td>\n",
       "      <td>4</td>\n",
       "      <td>0</td>\n",
       "      <td>7</td>\n",
       "      <td>13</td>\n",
       "      <td>0</td>\n",
       "      <td>0.0</td>\n",
       "    </tr>\n",
       "    <tr>\n",
       "      <th>35751</th>\n",
       "      <td>2016</td>\n",
       "      <td>7</td>\n",
       "      <td>LOH-DJIBOUA</td>\n",
       "      <td>GUITRY</td>\n",
       "      <td>C2055</td>\n",
       "      <td>AS27134</td>\n",
       "      <td>8</td>\n",
       "      <td>0</td>\n",
       "      <td>8</td>\n",
       "      <td>0</td>\n",
       "      <td>0</td>\n",
       "      <td>10</td>\n",
       "      <td>0</td>\n",
       "      <td>0.0</td>\n",
       "    </tr>\n",
       "    <tr>\n",
       "      <th>35752</th>\n",
       "      <td>2016</td>\n",
       "      <td>7</td>\n",
       "      <td>LOH-DJIBOUA</td>\n",
       "      <td>GUITRY</td>\n",
       "      <td>C2055</td>\n",
       "      <td>AS17005</td>\n",
       "      <td>48</td>\n",
       "      <td>0</td>\n",
       "      <td>2</td>\n",
       "      <td>0</td>\n",
       "      <td>46</td>\n",
       "      <td>1</td>\n",
       "      <td>0</td>\n",
       "      <td>0.0</td>\n",
       "    </tr>\n",
       "  </tbody>\n",
       "</table>\n",
       "</div>"
      ],
      "text/plain": [
       "       year  month       region district site_code product_code  \\\n",
       "35748  2016      7  LOH-DJIBOUA   GUITRY     C2055      AS27133   \n",
       "35749  2016      7  LOH-DJIBOUA   GUITRY     C2055      AS27138   \n",
       "35750  2016      7  LOH-DJIBOUA   GUITRY     C2055      AS27132   \n",
       "35751  2016      7  LOH-DJIBOUA   GUITRY     C2055      AS27134   \n",
       "35752  2016      7  LOH-DJIBOUA   GUITRY     C2055      AS17005   \n",
       "\n",
       "       stock_initial  stock_received  stock_distributed  stock_adjustment  \\\n",
       "35748              0              50                 25                 0   \n",
       "35749            150               0                  0                 0   \n",
       "35750              1              10                  4                 0   \n",
       "35751              8               0                  8                 0   \n",
       "35752             48               0                  2                 0   \n",
       "\n",
       "       stock_end  average_monthly_consumption  stock_stockout_days  \\\n",
       "35748         25                            8                    0   \n",
       "35749        150                            0                    0   \n",
       "35750          7                           13                    0   \n",
       "35751          0                           10                    0   \n",
       "35752         46                            1                    0   \n",
       "\n",
       "       stock_ordered  \n",
       "35748           25.0  \n",
       "35749            0.0  \n",
       "35750            0.0  \n",
       "35751            0.0  \n",
       "35752            0.0  "
      ]
     },
     "execution_count": 4,
     "metadata": {},
     "output_type": "execute_result"
    }
   ],
   "source": [
    "train_instances = pd.read_csv(\"../data_forecasting/Train.csv\")\n",
    "train_instances.tail()"
   ]
  },
  {
   "cell_type": "code",
   "execution_count": null,
   "id": "rational-stanford",
   "metadata": {},
   "outputs": [],
   "source": [
    "train_instances['timestamp'] = train_instances['year'].astype('str') + \"-\" + train_instances['month'].astype('str')\n",
    "train_instances.drop(columns={'region', \n",
    "                      'district', \n",
    "                      'stock_initial', \n",
    "                      'stock_received', \n",
    "                      'stock_adjustment',\n",
    "                      'stock_end',\n",
    "                      'average_monthly_consumption',\n",
    "                      'stock_stockout_days',\n",
    "                      'stock_ordered'},\n",
    "                      inplace=True)"
   ]
  },
  {
   "cell_type": "code",
   "execution_count": null,
   "id": "radical-webmaster",
   "metadata": {},
   "outputs": [],
   "source": [
    "train_instances['timestamp']=pd.to_datetime(train_instances['timestamp'])\n",
    "train_instances.index= train_instances.timestamp\n",
    "train_instances.drop(columns={'timestamp'},inplace=True)\n",
    "\n",
    "## Sort Dataframe by Date - Causality in Preds\n",
    "train_instances.sort_values(by='timestamp', inplace=True)\n",
    "train_instances.tail()"
   ]
  },
  {
   "cell_type": "code",
   "execution_count": null,
   "id": "collaborative-hours",
   "metadata": {},
   "outputs": [],
   "source": [
    "site_encoder = LabelEncoder()\n",
    "product_encoder = LabelEncoder()\n",
    "#train_instances.drop(columns=['timestamp'], inplace=True)\n",
    "train_instances['site_code_encoded'] = site_encoder.fit_transform(train_instances['site_code'])\n",
    "train_instances['product_code_encoded'] = product_encoder.fit_transform(train_instances['product_code'])\n",
    "train_instances.tail()"
   ]
  },
  {
   "cell_type": "code",
   "execution_count": null,
   "id": "considerable-teens",
   "metadata": {},
   "outputs": [],
   "source": [
    "## feature definition\n",
    "features = ['year','month','site_code_encoded','product_code_encoded']\n",
    "label = ['stock_distributed']"
   ]
  },
  {
   "cell_type": "code",
   "execution_count": null,
   "id": "toxic-spending",
   "metadata": {},
   "outputs": [],
   "source": [
    "final_dataset=train_instances[features+label]\n",
    "final_dataset.tail()"
   ]
  },
  {
   "cell_type": "code",
   "execution_count": null,
   "id": "central-visitor",
   "metadata": {},
   "outputs": [],
   "source": [
    "## Train/Test Split\n",
    "train_size = 0.8\n",
    "train_df = final_dataset[:int(train_size*(len(final_dataset)))]\n",
    "valid_df = final_dataset[int(train_size*(len(final_dataset))):]\n",
    "valid_df"
   ]
  },
  {
   "cell_type": "code",
   "execution_count": null,
   "id": "graduate-insulation",
   "metadata": {},
   "outputs": [],
   "source": [
    "## Min/Max Scaler\n",
    "feature_scaler = MinMaxScaler()\n",
    "label_scaler = MinMaxScaler()\n",
    "\n",
    "x_train = feature_scaler.fit_transform(train_df[features])\n",
    "x_valid = feature_scaler.transform(valid_df[features])\n",
    "\n",
    "y_train = label_scaler.fit_transform(train_df[label])\n",
    "y_valid = label_scaler.transform(valid_df[label])\n",
    "y_train"
   ]
  },
  {
   "cell_type": "code",
   "execution_count": null,
   "id": "breeding-description",
   "metadata": {},
   "outputs": [],
   "source": [
    "## Pytorch Data loaders\n",
    "batch_size = 16\n",
    "\n",
    "train_features = torch.Tensor(x_train)\n",
    "train_targets = torch.Tensor(y_train)\n",
    "val_features = torch.Tensor(x_valid)\n",
    "val_targets = torch.Tensor(y_valid)\n",
    "\n",
    "train_dataset = TensorDataset(train_features, train_targets)\n",
    "val_dataset = TensorDataset(val_features, val_targets)\n",
    "\n",
    "train_loader = DataLoader(train_dataset, batch_size=batch_size, shuffle=False, drop_last=True)\n",
    "val_loader = DataLoader(val_dataset, batch_size=batch_size, shuffle=False, drop_last=True)"
   ]
  },
  {
   "cell_type": "markdown",
   "id": "revolutionary-colon",
   "metadata": {},
   "source": [
    "## PyTorch Modeling"
   ]
  },
  {
   "cell_type": "code",
   "execution_count": null,
   "id": "nearby-thong",
   "metadata": {},
   "outputs": [],
   "source": [
    "class LSTMPredictor(nn.Module):\n",
    "    def __init__(self, n_features, n_hidden, seq_len, n_layers, dropout):\n",
    "        super(LSTMPredictor, self).__init__()\n",
    "        self.n_hidden = n_hidden\n",
    "        self.seq_len = seq_len\n",
    "        self.n_layers = n_layers\n",
    "        self.lstm = nn.LSTM(\n",
    "          input_size=n_features,\n",
    "          hidden_size=n_hidden,\n",
    "          num_layers=n_layers,\n",
    "          dropout=dropout\n",
    "        )\n",
    "        self.linear = nn.Linear(in_features=n_hidden, out_features=1)\n",
    "        self.reset_hidden_state()\n",
    "        \n",
    "    def reset_hidden_state(self):\n",
    "        self.hidden = (\n",
    "            torch.zeros(self.n_layers, self.seq_len, self.n_hidden),\n",
    "            torch.zeros(self.n_layers, self.seq_len, self.n_hidden)\n",
    "        )\n",
    "    def forward(self, sequences):\n",
    "        lstm_out, self.hidden = self.lstm(\n",
    "          sequences.view(len(sequences), self.seq_len, -1),\n",
    "          self.hidden\n",
    "        )\n",
    "        last_time_step = \\\n",
    "          lstm_out.view(self.seq_len, len(sequences), self.n_hidden)[-1]\n",
    "        y_pred = self.linear(last_time_step)\n",
    "        return y_pred"
   ]
  },
  {
   "cell_type": "code",
   "execution_count": null,
   "id": "nervous-channel",
   "metadata": {},
   "outputs": [],
   "source": [
    "model_params = {\n",
    "    'n_features': x_train.shape[1],\n",
    "    'n_hidden': 64,\n",
    "    'seq_len': 1,\n",
    "    'n_layers': 2,\n",
    "    'dropout': 0.1\n",
    "}\n",
    "\n",
    "train_params = {\n",
    "    'learning_rate': 1e-5,\n",
    "    'weight_decay': 1e-6,\n",
    "    'n_epochs': 10\n",
    "    \n",
    "}"
   ]
  },
  {
   "cell_type": "code",
   "execution_count": null,
   "id": "geographic-exploration",
   "metadata": {},
   "outputs": [],
   "source": [
    "def train(train_data, valid_data, model_params, train_params):\n",
    "    ## Train Definitions\n",
    "    N_EPOCHS = train_params['n_epochs']\n",
    "    model = LSTMPredictor(**model_params)\n",
    "    loss_fn = nn.MSELoss(reduction=\"mean\")\n",
    "    optimizer = optim.Adam(model.parameters(), \n",
    "                           lr=train_params['learning_rate'], \n",
    "                           weight_decay=train_params['weight_decay'])\n",
    "    ## Start training\n",
    "    for epoch in range(N_EPOCHS):\n",
    "        print(f'Epoch {epoch}')\n",
    "        for step, (x,y) in enumerate(train_data):\n",
    "            model.train()\n",
    "            optimizer.zero_grad()\n",
    "            model.reset_hidden_state()\n",
    "            output = model(x)\n",
    "            loss = loss_fn(output, y)\n",
    "            loss.backward()\n",
    "            optimizer.step()\n",
    "            if step%500 == 0:\n",
    "                for step_valid, (x_valid,y_valid) in enumerate(valid_data):\n",
    "                    #model.eval()\n",
    "                    with torch.no_grad():\n",
    "                        output_valid = model.forward(x_valid)\n",
    "                    mse = mean_squared_error(y_valid.detach().numpy(), output_valid.detach().numpy())\n",
    "                print(f\"Iteration: {step}; Loss: {loss.item()}; MSE: {mse}\")\n",
    "    return model.eval()"
   ]
  },
  {
   "cell_type": "code",
   "execution_count": null,
   "id": "union-raleigh",
   "metadata": {},
   "outputs": [],
   "source": [
    "model_lstm = train(train_loader, val_loader, model_params, train_params)"
   ]
  },
  {
   "cell_type": "markdown",
   "id": "anonymous-fabric",
   "metadata": {},
   "source": [
    "## Checking some preds"
   ]
  },
  {
   "cell_type": "code",
   "execution_count": null,
   "id": "expanded-philip",
   "metadata": {},
   "outputs": [],
   "source": [
    "train_instances.stock_distributed.min(), train_instances.stock_distributed.max()"
   ]
  },
  {
   "cell_type": "code",
   "execution_count": null,
   "id": "metric-satellite",
   "metadata": {},
   "outputs": [],
   "source": [
    "train_instances[train_instances.stock_distributed==1728]"
   ]
  },
  {
   "cell_type": "code",
   "execution_count": null,
   "id": "technological-cabinet",
   "metadata": {},
   "outputs": [],
   "source": [
    "train_instances.tail(10)"
   ]
  },
  {
   "cell_type": "code",
   "execution_count": null,
   "id": "european-classroom",
   "metadata": {},
   "outputs": [],
   "source": [
    "def get_1step_preds(year, month, site_code, product_code):\n",
    "    site_encoded = site_encoder.transform([site_code])[0]\n",
    "    product_encoded = product_encoder.transform([product_code])[0]\n",
    "    x_vector = feature_scaler.transform([[year, month, site_encoded, product_encoded]])\n",
    "    print(x_vector)\n",
    "    model_lstm.eval()\n",
    "    pred = model_lstm(torch.tensor(x_vector.astype(np.float32)))\n",
    "    print(pred)\n",
    "    return label_scaler.inverse_transform(pred.detach().numpy()).item()"
   ]
  },
  {
   "cell_type": "code",
   "execution_count": null,
   "id": "antique-terminal",
   "metadata": {},
   "outputs": [],
   "source": [
    "label_scaler.inverse_transform([[0.1]])"
   ]
  },
  {
   "cell_type": "code",
   "execution_count": null,
   "id": "latter-adapter",
   "metadata": {},
   "outputs": [],
   "source": [
    "get_1step_preds(2019, 6, 'C1007', 'AS27137')"
   ]
  },
  {
   "cell_type": "code",
   "execution_count": null,
   "id": "buried-rings",
   "metadata": {},
   "outputs": [],
   "source": [
    "get_1step_preds(2019, 6, 'C5001', 'AS27137')"
   ]
  },
  {
   "cell_type": "code",
   "execution_count": null,
   "id": "comfortable-choir",
   "metadata": {},
   "outputs": [],
   "source": [
    "get_1step_preds(2019, 6, 'C1007', 'AS27139')"
   ]
  },
  {
   "cell_type": "code",
   "execution_count": null,
   "id": "sought-monitoring",
   "metadata": {},
   "outputs": [],
   "source": []
  },
  {
   "cell_type": "code",
   "execution_count": null,
   "id": "fluid-webmaster",
   "metadata": {},
   "outputs": [],
   "source": []
  },
  {
   "cell_type": "code",
   "execution_count": null,
   "id": "saving-danish",
   "metadata": {},
   "outputs": [],
   "source": []
  },
  {
   "cell_type": "markdown",
   "id": "uniform-bidder",
   "metadata": {},
   "source": [
    "## Sources\n",
    "- https://colab.research.google.com/drive/1enI68fTdPI2w5KKv6jyL0Lcq9Zg3BbLx?usp=sharing#scrollTo=A5guw4joPA8q\n",
    "- https://curiousily.com/posts/time-series-forecasting-with-lstm-for-daily-coronavirus-cases/"
   ]
  },
  {
   "cell_type": "code",
   "execution_count": null,
   "id": "instrumental-nickel",
   "metadata": {},
   "outputs": [],
   "source": []
  }
 ],
 "metadata": {
  "kernelspec": {
   "display_name": "torch",
   "language": "python",
   "name": "torch"
  },
  "language_info": {
   "codemirror_mode": {
    "name": "ipython",
    "version": 3
   },
   "file_extension": ".py",
   "mimetype": "text/x-python",
   "name": "python",
   "nbconvert_exporter": "python",
   "pygments_lexer": "ipython3",
   "version": "3.7.2"
  }
 },
 "nbformat": 4,
 "nbformat_minor": 5
}
