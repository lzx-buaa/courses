{
 "cells": [
  {
   "cell_type": "code",
   "execution_count": 1,
   "id": "national-lease",
   "metadata": {},
   "outputs": [],
   "source": [
    "import pandas as pd\n",
    "import numpy as np\n",
    "import matplotlib.pyplot as plt\n",
    "from sklearn.metrics import mean_squared_error\n",
    "%matplotlib inline"
   ]
  },
  {
   "cell_type": "code",
   "execution_count": 2,
   "id": "interesting-ambassador",
   "metadata": {},
   "outputs": [
    {
     "name": "stdout",
     "output_type": "stream",
     "text": [
      "1.benshi.ai_submission.ipynb AirQualityUCI.csv\r\n",
      "1.benshi_initial_tests.ipynb AirQualityUCI2.csv\r\n",
      "2.VAR_air_prediction.ipynb\r\n"
     ]
    }
   ],
   "source": [
    "!ls"
   ]
  },
  {
   "cell_type": "code",
   "execution_count": 3,
   "id": "editorial-geography",
   "metadata": {},
   "outputs": [
    {
     "data": {
      "text/plain": [
       "Index(['Date_Time', 'CO(GT)', 'PT08.S1(CO)', 'NMHC(GT)', 'C6H6(GT)',\n",
       "       'PT08.S2(NMHC)', 'NOx(GT)', 'PT08.S3(NOx)', 'NO2(GT)', 'PT08.S4(NO2)',\n",
       "       'PT08.S5(O3)', 'T', 'RH', 'AH'],\n",
       "      dtype='object')"
      ]
     },
     "execution_count": 3,
     "metadata": {},
     "output_type": "execute_result"
    }
   ],
   "source": [
    "#read the data\n",
    "df = pd.read_csv(\"AirQualityUCI2.csv\", sep=\";\", parse_dates=[['Date', 'Time']])\n",
    "df.columns"
   ]
  },
  {
   "cell_type": "code",
   "execution_count": 4,
   "id": "waiting-crossing",
   "metadata": {},
   "outputs": [
    {
     "data": {
      "text/plain": [
       "Date_Time        object\n",
       "CO(GT)           object\n",
       "PT08.S1(CO)       int64\n",
       "NMHC(GT)          int64\n",
       "C6H6(GT)         object\n",
       "PT08.S2(NMHC)     int64\n",
       "NOx(GT)           int64\n",
       "PT08.S3(NOx)      int64\n",
       "NO2(GT)           int64\n",
       "PT08.S4(NO2)      int64\n",
       "PT08.S5(O3)       int64\n",
       "T                object\n",
       "RH               object\n",
       "AH               object\n",
       "dtype: object"
      ]
     },
     "execution_count": 4,
     "metadata": {},
     "output_type": "execute_result"
    }
   ],
   "source": [
    "df.dtypes"
   ]
  },
  {
   "cell_type": "code",
   "execution_count": 5,
   "id": "about-budapest",
   "metadata": {},
   "outputs": [],
   "source": [
    "df['CO(GT)']=df['CO(GT)'].apply(lambda x: x.replace(\",\",\".\"))\n",
    "df['C6H6(GT)']=df['C6H6(GT)'].apply(lambda x: x.replace(\",\",\".\"))\n",
    "df['T']=df['T'].apply(lambda x: x.replace(\",\",\".\"))\n",
    "df['RH']=df['RH'].apply(lambda x: x.replace(\",\",\".\"))\n",
    "df['AH']=df['AH'].apply(lambda x: x.replace(\",\",\".\"))\n",
    "\n",
    "\n",
    "df['CO(GT)'] = df['CO(GT)'].apply(pd.to_numeric)\n",
    "df['C6H6(GT)'] = df['C6H6(GT)'].apply(pd.to_numeric)\n",
    "df['T'] = df['T'].apply(pd.to_numeric)\n",
    "df['RH'] = df['RH'].apply(pd.to_numeric)\n",
    "df['AH'] = df['AH'].apply(pd.to_numeric)"
   ]
  },
  {
   "cell_type": "code",
   "execution_count": 6,
   "id": "sapphire-history",
   "metadata": {},
   "outputs": [
    {
     "data": {
      "text/plain": [
       "Date_Time         object\n",
       "CO(GT)           float64\n",
       "PT08.S1(CO)        int64\n",
       "NMHC(GT)           int64\n",
       "C6H6(GT)         float64\n",
       "PT08.S2(NMHC)      int64\n",
       "NOx(GT)            int64\n",
       "PT08.S3(NOx)       int64\n",
       "NO2(GT)            int64\n",
       "PT08.S4(NO2)       int64\n",
       "PT08.S5(O3)        int64\n",
       "T                float64\n",
       "RH               float64\n",
       "AH               float64\n",
       "dtype: object"
      ]
     },
     "execution_count": 6,
     "metadata": {},
     "output_type": "execute_result"
    }
   ],
   "source": [
    "df.dtypes"
   ]
  },
  {
   "cell_type": "code",
   "execution_count": 7,
   "id": "rational-answer",
   "metadata": {},
   "outputs": [
    {
     "data": {
      "text/html": [
       "<div>\n",
       "<style scoped>\n",
       "    .dataframe tbody tr th:only-of-type {\n",
       "        vertical-align: middle;\n",
       "    }\n",
       "\n",
       "    .dataframe tbody tr th {\n",
       "        vertical-align: top;\n",
       "    }\n",
       "\n",
       "    .dataframe thead th {\n",
       "        text-align: right;\n",
       "    }\n",
       "</style>\n",
       "<table border=\"1\" class=\"dataframe\">\n",
       "  <thead>\n",
       "    <tr style=\"text-align: right;\">\n",
       "      <th></th>\n",
       "      <th>Date_Time</th>\n",
       "      <th>CO(GT)</th>\n",
       "      <th>PT08.S1(CO)</th>\n",
       "      <th>NMHC(GT)</th>\n",
       "      <th>C6H6(GT)</th>\n",
       "      <th>PT08.S2(NMHC)</th>\n",
       "      <th>NOx(GT)</th>\n",
       "      <th>PT08.S3(NOx)</th>\n",
       "      <th>NO2(GT)</th>\n",
       "      <th>PT08.S4(NO2)</th>\n",
       "      <th>PT08.S5(O3)</th>\n",
       "      <th>T</th>\n",
       "      <th>RH</th>\n",
       "      <th>AH</th>\n",
       "    </tr>\n",
       "  </thead>\n",
       "  <tbody>\n",
       "    <tr>\n",
       "      <th>9352</th>\n",
       "      <td>04/04/2005 10.00.00</td>\n",
       "      <td>3.1</td>\n",
       "      <td>1314</td>\n",
       "      <td>-200</td>\n",
       "      <td>13.5</td>\n",
       "      <td>1101</td>\n",
       "      <td>472</td>\n",
       "      <td>539</td>\n",
       "      <td>190</td>\n",
       "      <td>1374</td>\n",
       "      <td>1729</td>\n",
       "      <td>21.9</td>\n",
       "      <td>29.3</td>\n",
       "      <td>0.7568</td>\n",
       "    </tr>\n",
       "    <tr>\n",
       "      <th>9353</th>\n",
       "      <td>04/04/2005 11.00.00</td>\n",
       "      <td>2.4</td>\n",
       "      <td>1163</td>\n",
       "      <td>-200</td>\n",
       "      <td>11.4</td>\n",
       "      <td>1027</td>\n",
       "      <td>353</td>\n",
       "      <td>604</td>\n",
       "      <td>179</td>\n",
       "      <td>1264</td>\n",
       "      <td>1269</td>\n",
       "      <td>24.3</td>\n",
       "      <td>23.7</td>\n",
       "      <td>0.7119</td>\n",
       "    </tr>\n",
       "    <tr>\n",
       "      <th>9354</th>\n",
       "      <td>04/04/2005 12.00.00</td>\n",
       "      <td>2.4</td>\n",
       "      <td>1142</td>\n",
       "      <td>-200</td>\n",
       "      <td>12.4</td>\n",
       "      <td>1063</td>\n",
       "      <td>293</td>\n",
       "      <td>603</td>\n",
       "      <td>175</td>\n",
       "      <td>1241</td>\n",
       "      <td>1092</td>\n",
       "      <td>26.9</td>\n",
       "      <td>18.3</td>\n",
       "      <td>0.6406</td>\n",
       "    </tr>\n",
       "    <tr>\n",
       "      <th>9355</th>\n",
       "      <td>04/04/2005 13.00.00</td>\n",
       "      <td>2.1</td>\n",
       "      <td>1003</td>\n",
       "      <td>-200</td>\n",
       "      <td>9.5</td>\n",
       "      <td>961</td>\n",
       "      <td>235</td>\n",
       "      <td>702</td>\n",
       "      <td>156</td>\n",
       "      <td>1041</td>\n",
       "      <td>770</td>\n",
       "      <td>28.3</td>\n",
       "      <td>13.5</td>\n",
       "      <td>0.5139</td>\n",
       "    </tr>\n",
       "    <tr>\n",
       "      <th>9356</th>\n",
       "      <td>04/04/2005 14.00.00</td>\n",
       "      <td>2.2</td>\n",
       "      <td>1071</td>\n",
       "      <td>-200</td>\n",
       "      <td>11.9</td>\n",
       "      <td>1047</td>\n",
       "      <td>265</td>\n",
       "      <td>654</td>\n",
       "      <td>168</td>\n",
       "      <td>1129</td>\n",
       "      <td>816</td>\n",
       "      <td>28.5</td>\n",
       "      <td>13.1</td>\n",
       "      <td>0.5028</td>\n",
       "    </tr>\n",
       "  </tbody>\n",
       "</table>\n",
       "</div>"
      ],
      "text/plain": [
       "                Date_Time  CO(GT)  PT08.S1(CO)  NMHC(GT)  C6H6(GT)  \\\n",
       "9352  04/04/2005 10.00.00     3.1         1314      -200      13.5   \n",
       "9353  04/04/2005 11.00.00     2.4         1163      -200      11.4   \n",
       "9354  04/04/2005 12.00.00     2.4         1142      -200      12.4   \n",
       "9355  04/04/2005 13.00.00     2.1         1003      -200       9.5   \n",
       "9356  04/04/2005 14.00.00     2.2         1071      -200      11.9   \n",
       "\n",
       "      PT08.S2(NMHC)  NOx(GT)  PT08.S3(NOx)  NO2(GT)  PT08.S4(NO2)  \\\n",
       "9352           1101      472           539      190          1374   \n",
       "9353           1027      353           604      179          1264   \n",
       "9354           1063      293           603      175          1241   \n",
       "9355            961      235           702      156          1041   \n",
       "9356           1047      265           654      168          1129   \n",
       "\n",
       "      PT08.S5(O3)     T    RH      AH  \n",
       "9352         1729  21.9  29.3  0.7568  \n",
       "9353         1269  24.3  23.7  0.7119  \n",
       "9354         1092  26.9  18.3  0.6406  \n",
       "9355          770  28.3  13.5  0.5139  \n",
       "9356          816  28.5  13.1  0.5028  "
      ]
     },
     "execution_count": 7,
     "metadata": {},
     "output_type": "execute_result"
    }
   ],
   "source": [
    "df.tail()"
   ]
  },
  {
   "cell_type": "code",
   "execution_count": 8,
   "id": "olive-schedule",
   "metadata": {},
   "outputs": [],
   "source": [
    "df['Date_Time'] = pd.to_datetime(df.Date_Time , format = '%d/%m/%Y %H.%M.%S')\n",
    "data = df.drop(['Date_Time'], axis=1)\n",
    "data.index = df.Date_Time"
   ]
  },
  {
   "cell_type": "code",
   "execution_count": 9,
   "id": "equivalent-injury",
   "metadata": {},
   "outputs": [
    {
     "name": "stderr",
     "output_type": "stream",
     "text": [
      "/Users/rsilvei/.pyenv/versions/3.7.2/envs/torch/lib/python3.7/site-packages/ipykernel_launcher.py:6: SettingWithCopyWarning: \n",
      "A value is trying to be set on a copy of a slice from a DataFrame\n",
      "\n",
      "See the caveats in the documentation: https://pandas.pydata.org/pandas-docs/stable/user_guide/indexing.html#returning-a-view-versus-a-copy\n",
      "  \n"
     ]
    }
   ],
   "source": [
    "#missing value treatment\n",
    "cols = data.columns\n",
    "for j in cols:\n",
    "    for i in range(0,len(data)):\n",
    "        if data[j][i] == -200:\n",
    "            data[j][i] = data[j][i-1]"
   ]
  },
  {
   "cell_type": "code",
   "execution_count": 10,
   "id": "homeless-search",
   "metadata": {},
   "outputs": [
    {
     "data": {
      "text/plain": [
       "array([1.75510896e-01, 1.52389933e-01, 1.15120416e-01, 1.04126281e-01,\n",
       "       9.29485509e-02, 6.89397159e-02, 5.77070988e-02, 3.43554214e-02,\n",
       "       3.05980659e-02, 1.18697142e-02, 2.46766099e-03, 7.09584856e-05])"
      ]
     },
     "execution_count": 10,
     "metadata": {},
     "output_type": "execute_result"
    }
   ],
   "source": [
    "#checking stationarity\n",
    "from statsmodels.tsa.vector_ar.vecm import coint_johansen\n",
    "#since the test works for only 12 variables, I have randomly dropped\n",
    "#in the next iteration, I would drop another and check the eigenvalues\n",
    "johan_test_temp = data.drop([ 'CO(GT)'], axis=1)\n",
    "coint_johansen(johan_test_temp,-1,1).eig"
   ]
  },
  {
   "cell_type": "code",
   "execution_count": 33,
   "id": "administrative-appraisal",
   "metadata": {},
   "outputs": [],
   "source": [
    "#creating the train and validation set\n",
    "train = data[:int(0.8*(len(data)))]\n",
    "valid = data[int(0.8*(len(data))):]"
   ]
  },
  {
   "cell_type": "code",
   "execution_count": 34,
   "id": "breeding-wisdom",
   "metadata": {},
   "outputs": [
    {
     "data": {
      "text/plain": [
       "Date_Time\n",
       "2004-03-10 18:00:00    2.6\n",
       "2004-03-10 19:00:00    2.0\n",
       "2004-03-10 20:00:00    2.2\n",
       "2004-03-10 21:00:00    2.2\n",
       "2004-03-10 22:00:00    1.6\n",
       "                      ... \n",
       "2005-01-16 10:00:00    1.0\n",
       "2005-01-16 11:00:00    1.0\n",
       "2005-01-16 12:00:00    0.8\n",
       "2005-01-16 13:00:00    1.0\n",
       "2005-01-16 14:00:00    0.8\n",
       "Name: CO(GT), Length: 7485, dtype: float64"
      ]
     },
     "execution_count": 34,
     "metadata": {},
     "output_type": "execute_result"
    }
   ],
   "source": [
    "endog_list = train['CO(GT)']\n",
    "endog_list"
   ]
  },
  {
   "cell_type": "code",
   "execution_count": 35,
   "id": "unlike-proof",
   "metadata": {},
   "outputs": [
    {
     "data": {
      "text/plain": [
       "7485"
      ]
     },
     "execution_count": 35,
     "metadata": {},
     "output_type": "execute_result"
    }
   ],
   "source": [
    "dates_list = train.index\n",
    "len(dates_list)"
   ]
  },
  {
   "cell_type": "code",
   "execution_count": 37,
   "id": "central-miniature",
   "metadata": {},
   "outputs": [
    {
     "data": {
      "text/html": [
       "<div>\n",
       "<style scoped>\n",
       "    .dataframe tbody tr th:only-of-type {\n",
       "        vertical-align: middle;\n",
       "    }\n",
       "\n",
       "    .dataframe tbody tr th {\n",
       "        vertical-align: top;\n",
       "    }\n",
       "\n",
       "    .dataframe thead th {\n",
       "        text-align: right;\n",
       "    }\n",
       "</style>\n",
       "<table border=\"1\" class=\"dataframe\">\n",
       "  <thead>\n",
       "    <tr style=\"text-align: right;\">\n",
       "      <th></th>\n",
       "      <th>PT08.S1(CO)</th>\n",
       "      <th>NMHC(GT)</th>\n",
       "      <th>C6H6(GT)</th>\n",
       "    </tr>\n",
       "    <tr>\n",
       "      <th>Date_Time</th>\n",
       "      <th></th>\n",
       "      <th></th>\n",
       "      <th></th>\n",
       "    </tr>\n",
       "  </thead>\n",
       "  <tbody>\n",
       "    <tr>\n",
       "      <th>2004-03-10 18:00:00</th>\n",
       "      <td>1360</td>\n",
       "      <td>150</td>\n",
       "      <td>11.9</td>\n",
       "    </tr>\n",
       "    <tr>\n",
       "      <th>2004-03-10 19:00:00</th>\n",
       "      <td>1292</td>\n",
       "      <td>112</td>\n",
       "      <td>9.4</td>\n",
       "    </tr>\n",
       "    <tr>\n",
       "      <th>2004-03-10 20:00:00</th>\n",
       "      <td>1402</td>\n",
       "      <td>88</td>\n",
       "      <td>9.0</td>\n",
       "    </tr>\n",
       "    <tr>\n",
       "      <th>2004-03-10 21:00:00</th>\n",
       "      <td>1376</td>\n",
       "      <td>80</td>\n",
       "      <td>9.2</td>\n",
       "    </tr>\n",
       "    <tr>\n",
       "      <th>2004-03-10 22:00:00</th>\n",
       "      <td>1272</td>\n",
       "      <td>51</td>\n",
       "      <td>6.5</td>\n",
       "    </tr>\n",
       "    <tr>\n",
       "      <th>...</th>\n",
       "      <td>...</td>\n",
       "      <td>...</td>\n",
       "      <td>...</td>\n",
       "    </tr>\n",
       "    <tr>\n",
       "      <th>2005-01-16 10:00:00</th>\n",
       "      <td>841</td>\n",
       "      <td>275</td>\n",
       "      <td>2.6</td>\n",
       "    </tr>\n",
       "    <tr>\n",
       "      <th>2005-01-16 11:00:00</th>\n",
       "      <td>850</td>\n",
       "      <td>275</td>\n",
       "      <td>2.6</td>\n",
       "    </tr>\n",
       "    <tr>\n",
       "      <th>2005-01-16 12:00:00</th>\n",
       "      <td>831</td>\n",
       "      <td>275</td>\n",
       "      <td>2.2</td>\n",
       "    </tr>\n",
       "    <tr>\n",
       "      <th>2005-01-16 13:00:00</th>\n",
       "      <td>866</td>\n",
       "      <td>275</td>\n",
       "      <td>3.0</td>\n",
       "    </tr>\n",
       "    <tr>\n",
       "      <th>2005-01-16 14:00:00</th>\n",
       "      <td>819</td>\n",
       "      <td>275</td>\n",
       "      <td>1.9</td>\n",
       "    </tr>\n",
       "  </tbody>\n",
       "</table>\n",
       "<p>7485 rows × 3 columns</p>\n",
       "</div>"
      ],
      "text/plain": [
       "                     PT08.S1(CO)  NMHC(GT)  C6H6(GT)\n",
       "Date_Time                                           \n",
       "2004-03-10 18:00:00         1360       150      11.9\n",
       "2004-03-10 19:00:00         1292       112       9.4\n",
       "2004-03-10 20:00:00         1402        88       9.0\n",
       "2004-03-10 21:00:00         1376        80       9.2\n",
       "2004-03-10 22:00:00         1272        51       6.5\n",
       "...                          ...       ...       ...\n",
       "2005-01-16 10:00:00          841       275       2.6\n",
       "2005-01-16 11:00:00          850       275       2.6\n",
       "2005-01-16 12:00:00          831       275       2.2\n",
       "2005-01-16 13:00:00          866       275       3.0\n",
       "2005-01-16 14:00:00          819       275       1.9\n",
       "\n",
       "[7485 rows x 3 columns]"
      ]
     },
     "execution_count": 37,
     "metadata": {},
     "output_type": "execute_result"
    }
   ],
   "source": [
    "exog_list = train[['PT08.S1(CO)', 'NMHC(GT)', 'C6H6(GT)']]\n",
    "exog_list"
   ]
  },
  {
   "cell_type": "code",
   "execution_count": 38,
   "id": "authentic-popularity",
   "metadata": {},
   "outputs": [],
   "source": [
    "#fit the model\n",
    "from statsmodels.tsa.vector_ar.var_model import VAR\n",
    "from statsmodels.tsa.arima.model import ARIMA"
   ]
  },
  {
   "cell_type": "code",
   "execution_count": 39,
   "id": "hungry-private",
   "metadata": {},
   "outputs": [
    {
     "data": {
      "text/plain": [
       "'H'"
      ]
     },
     "execution_count": 39,
     "metadata": {},
     "output_type": "execute_result"
    }
   ],
   "source": [
    "endog_list.index.inferred_freq"
   ]
  },
  {
   "cell_type": "code",
   "execution_count": 40,
   "id": "affiliated-frank",
   "metadata": {},
   "outputs": [
    {
     "name": "stderr",
     "output_type": "stream",
     "text": [
      "/Users/rsilvei/.pyenv/versions/3.7.2/envs/torch/lib/python3.7/site-packages/statsmodels/tsa/base/tsa_model.py:527: ValueWarning: No frequency information was provided, so inferred frequency H will be used.\n",
      "  % freq, ValueWarning)\n"
     ]
    }
   ],
   "source": [
    "model = ARIMA(endog=v,exog=exog_list, dates=dates_list)\n",
    "# model = ARIMA(endog=endog_list, \n",
    "#               exog=exog_list, \n",
    "#               freq=endog_list.index.inferred_freq)\n",
    "\n",
    "model_fit = model.fit()"
   ]
  },
  {
   "cell_type": "code",
   "execution_count": 41,
   "id": "comic-thermal",
   "metadata": {},
   "outputs": [
    {
     "data": {
      "text/plain": [
       "(1872, 7485)"
      ]
     },
     "execution_count": 41,
     "metadata": {},
     "output_type": "execute_result"
    }
   ],
   "source": [
    "len(valid), len(train)"
   ]
  },
  {
   "cell_type": "code",
   "execution_count": 42,
   "id": "exotic-insertion",
   "metadata": {},
   "outputs": [
    {
     "data": {
      "text/html": [
       "<div>\n",
       "<style scoped>\n",
       "    .dataframe tbody tr th:only-of-type {\n",
       "        vertical-align: middle;\n",
       "    }\n",
       "\n",
       "    .dataframe tbody tr th {\n",
       "        vertical-align: top;\n",
       "    }\n",
       "\n",
       "    .dataframe thead th {\n",
       "        text-align: right;\n",
       "    }\n",
       "</style>\n",
       "<table border=\"1\" class=\"dataframe\">\n",
       "  <thead>\n",
       "    <tr style=\"text-align: right;\">\n",
       "      <th></th>\n",
       "      <th>PT08.S1(CO)</th>\n",
       "      <th>NMHC(GT)</th>\n",
       "      <th>C6H6(GT)</th>\n",
       "    </tr>\n",
       "    <tr>\n",
       "      <th>Date_Time</th>\n",
       "      <th></th>\n",
       "      <th></th>\n",
       "      <th></th>\n",
       "    </tr>\n",
       "  </thead>\n",
       "  <tbody>\n",
       "    <tr>\n",
       "      <th>2005-01-16 15:00:00</th>\n",
       "      <td>833</td>\n",
       "      <td>275</td>\n",
       "      <td>2.0</td>\n",
       "    </tr>\n",
       "    <tr>\n",
       "      <th>2005-01-16 16:00:00</th>\n",
       "      <td>877</td>\n",
       "      <td>275</td>\n",
       "      <td>2.8</td>\n",
       "    </tr>\n",
       "    <tr>\n",
       "      <th>2005-01-16 17:00:00</th>\n",
       "      <td>892</td>\n",
       "      <td>275</td>\n",
       "      <td>3.3</td>\n",
       "    </tr>\n",
       "    <tr>\n",
       "      <th>2005-01-16 18:00:00</th>\n",
       "      <td>899</td>\n",
       "      <td>275</td>\n",
       "      <td>3.4</td>\n",
       "    </tr>\n",
       "    <tr>\n",
       "      <th>2005-01-16 19:00:00</th>\n",
       "      <td>1008</td>\n",
       "      <td>275</td>\n",
       "      <td>7.1</td>\n",
       "    </tr>\n",
       "    <tr>\n",
       "      <th>...</th>\n",
       "      <td>...</td>\n",
       "      <td>...</td>\n",
       "      <td>...</td>\n",
       "    </tr>\n",
       "    <tr>\n",
       "      <th>2005-04-04 10:00:00</th>\n",
       "      <td>1314</td>\n",
       "      <td>275</td>\n",
       "      <td>13.5</td>\n",
       "    </tr>\n",
       "    <tr>\n",
       "      <th>2005-04-04 11:00:00</th>\n",
       "      <td>1163</td>\n",
       "      <td>275</td>\n",
       "      <td>11.4</td>\n",
       "    </tr>\n",
       "    <tr>\n",
       "      <th>2005-04-04 12:00:00</th>\n",
       "      <td>1142</td>\n",
       "      <td>275</td>\n",
       "      <td>12.4</td>\n",
       "    </tr>\n",
       "    <tr>\n",
       "      <th>2005-04-04 13:00:00</th>\n",
       "      <td>1003</td>\n",
       "      <td>275</td>\n",
       "      <td>9.5</td>\n",
       "    </tr>\n",
       "    <tr>\n",
       "      <th>2005-04-04 14:00:00</th>\n",
       "      <td>1071</td>\n",
       "      <td>275</td>\n",
       "      <td>11.9</td>\n",
       "    </tr>\n",
       "  </tbody>\n",
       "</table>\n",
       "<p>1872 rows × 3 columns</p>\n",
       "</div>"
      ],
      "text/plain": [
       "                     PT08.S1(CO)  NMHC(GT)  C6H6(GT)\n",
       "Date_Time                                           \n",
       "2005-01-16 15:00:00          833       275       2.0\n",
       "2005-01-16 16:00:00          877       275       2.8\n",
       "2005-01-16 17:00:00          892       275       3.3\n",
       "2005-01-16 18:00:00          899       275       3.4\n",
       "2005-01-16 19:00:00         1008       275       7.1\n",
       "...                          ...       ...       ...\n",
       "2005-04-04 10:00:00         1314       275      13.5\n",
       "2005-04-04 11:00:00         1163       275      11.4\n",
       "2005-04-04 12:00:00         1142       275      12.4\n",
       "2005-04-04 13:00:00         1003       275       9.5\n",
       "2005-04-04 14:00:00         1071       275      11.9\n",
       "\n",
       "[1872 rows x 3 columns]"
      ]
     },
     "execution_count": 42,
     "metadata": {},
     "output_type": "execute_result"
    }
   ],
   "source": [
    "exog_valid = valid[['PT08.S1(CO)', 'NMHC(GT)', 'C6H6(GT)']]\n",
    "exog_valid"
   ]
  },
  {
   "cell_type": "code",
   "execution_count": 43,
   "id": "analyzed-karaoke",
   "metadata": {},
   "outputs": [
    {
     "data": {
      "text/plain": [
       "1872"
      ]
     },
     "execution_count": 43,
     "metadata": {},
     "output_type": "execute_result"
    }
   ],
   "source": [
    "len(valid)"
   ]
  },
  {
   "cell_type": "code",
   "execution_count": 48,
   "id": "ranking-oriental",
   "metadata": {},
   "outputs": [
    {
     "data": {
      "text/plain": [
       "Date_Time\n",
       "2005-01-16 15:00:00    0.7\n",
       "2005-01-16 16:00:00    1.1\n",
       "2005-01-16 17:00:00    1.1\n",
       "2005-01-16 18:00:00    1.2\n",
       "2005-01-16 19:00:00    2.0\n",
       "                      ... \n",
       "2005-04-04 10:00:00    3.1\n",
       "2005-04-04 11:00:00    2.4\n",
       "2005-04-04 12:00:00    2.4\n",
       "2005-04-04 13:00:00    2.1\n",
       "2005-04-04 14:00:00    2.2\n",
       "Name: CO(GT), Length: 1872, dtype: float64"
      ]
     },
     "execution_count": 48,
     "metadata": {},
     "output_type": "execute_result"
    }
   ],
   "source": [
    "valid['CO(GT)']"
   ]
  },
  {
   "cell_type": "code",
   "execution_count": 45,
   "id": "acoustic-mobile",
   "metadata": {},
   "outputs": [
    {
     "data": {
      "text/plain": [
       "2005-01-16 15:00:00    0.727762\n",
       "2005-01-16 16:00:00    0.900942\n",
       "2005-01-16 17:00:00    0.979144\n",
       "2005-01-16 18:00:00    1.004396\n",
       "2005-01-16 19:00:00    1.578290\n",
       "                         ...   \n",
       "2005-04-04 10:00:00    2.853199\n",
       "2005-04-04 11:00:00    2.313305\n",
       "2005-04-04 12:00:00    2.347170\n",
       "2005-04-04 13:00:00    1.768651\n",
       "2005-04-04 14:00:00    2.134412\n",
       "Freq: H, Name: predicted_mean, Length: 1872, dtype: float64"
      ]
     },
     "execution_count": 45,
     "metadata": {},
     "output_type": "execute_result"
    }
   ],
   "source": [
    "preds = model_fit.forecast(exog=exog_valid, steps=len(valid))\n",
    "preds"
   ]
  },
  {
   "cell_type": "code",
   "execution_count": 49,
   "id": "french-three",
   "metadata": {},
   "outputs": [
    {
     "data": {
      "text/plain": [
       "0.7849157216492115"
      ]
     },
     "execution_count": 49,
     "metadata": {},
     "output_type": "execute_result"
    }
   ],
   "source": [
    "np.sqrt(mean_squared_error(preds, valid['CO(GT)']))"
   ]
  },
  {
   "cell_type": "code",
   "execution_count": 50,
   "id": "electrical-default",
   "metadata": {},
   "outputs": [
    {
     "name": "stdout",
     "output_type": "stream",
     "text": [
      "[[2.34596328e+00 1.08633212e+03 2.80762173e+02 1.24130779e+01\n",
      "  1.05535947e+03 2.80882233e+02 6.59534851e+02 1.68444418e+02\n",
      "  1.15918056e+03 8.50845529e+02 2.73639014e+01 1.55311062e+01\n",
      "  5.15317053e-01]]\n"
     ]
    },
    {
     "name": "stderr",
     "output_type": "stream",
     "text": [
      "/Users/rsilvei/.pyenv/versions/3.7.2/envs/torch/lib/python3.7/site-packages/statsmodels/tsa/base/tsa_model.py:527: ValueWarning: No frequency information was provided, so inferred frequency H will be used.\n",
      "  % freq, ValueWarning)\n",
      "/Users/rsilvei/.pyenv/versions/3.7.2/envs/torch/lib/python3.7/site-packages/statsmodels/base/wrapper.py:34: FutureWarning: y is a deprecated alias for endog, will be removed in version 0.11.0\n",
      "  obj = getattr(results, attr)\n"
     ]
    }
   ],
   "source": [
    "#make final predictions\n",
    "model = VAR(endog=data)\n",
    "model_fit = model.fit()\n",
    "yhat = model_fit.forecast(model_fit.y, steps=1)\n",
    "print(yhat)"
   ]
  },
  {
   "cell_type": "code",
   "execution_count": null,
   "id": "dangerous-rocket",
   "metadata": {},
   "outputs": [],
   "source": []
  },
  {
   "cell_type": "code",
   "execution_count": null,
   "id": "historical-diabetes",
   "metadata": {},
   "outputs": [],
   "source": []
  },
  {
   "cell_type": "markdown",
   "id": "color-finland",
   "metadata": {},
   "source": [
    "## Fit in the complete dataset"
   ]
  },
  {
   "cell_type": "code",
   "execution_count": null,
   "id": "veterinary-correction",
   "metadata": {},
   "outputs": [],
   "source": []
  }
 ],
 "metadata": {
  "kernelspec": {
   "display_name": "torch",
   "language": "python",
   "name": "torch"
  },
  "language_info": {
   "codemirror_mode": {
    "name": "ipython",
    "version": 3
   },
   "file_extension": ".py",
   "mimetype": "text/x-python",
   "name": "python",
   "nbconvert_exporter": "python",
   "pygments_lexer": "ipython3",
   "version": "3.7.2"
  }
 },
 "nbformat": 4,
 "nbformat_minor": 5
}
