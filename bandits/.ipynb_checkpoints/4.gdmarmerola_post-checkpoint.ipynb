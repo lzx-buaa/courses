{
 "cells": [
  {
   "cell_type": "markdown",
   "metadata": {},
   "source": [
    "## Source\n",
    "1. https://github.com/gdmarmerola/interactive-intro-rl/blob/master/notebooks/ts_for_multi_armed_bandit.ipynb"
   ]
  },
  {
   "cell_type": "code",
   "execution_count": 1,
   "metadata": {},
   "outputs": [],
   "source": [
    "# importing necessary modules\n",
    "import numpy as np\n",
    "import matplotlib.pyplot as plt\n",
    "import seaborn as sns\n",
    "from scipy.stats import beta as beta_dist\n",
    "from matplotlib.animation import FuncAnimation\n",
    "from IPython.display import HTML\n",
    "from tqdm import tqdm\n",
    "\n",
    "# turning off automatic plot showing, and setting style\n",
    "plt.ioff()\n",
    "plt.style.use('fivethirtyeight')"
   ]
  },
  {
   "cell_type": "code",
   "execution_count": 50,
   "metadata": {},
   "outputs": [],
   "source": [
    "class MAB:\n",
    "    def __init__(self, bandit_probs):\n",
    "        self.bandit_probs = bandit_probs\n",
    "        self.max_reward = np.max(self.bandit_probs)\n",
    "    def draw(self, k):\n",
    "        reward = np.random.binomial(1, self.bandit_probs[k])\n",
    "        regret =  self.max_reward - self.bandit_probs[k]\n",
    "        return reward, regret"
   ]
  },
  {
   "cell_type": "code",
   "execution_count": 51,
   "metadata": {},
   "outputs": [],
   "source": [
    "bandit_probs = [0.35, 0.40, 0.30, 0.25]"
   ]
  },
  {
   "cell_type": "code",
   "execution_count": 52,
   "metadata": {},
   "outputs": [],
   "source": [
    "mab = MAB(bandit_probs)"
   ]
  },
  {
   "cell_type": "code",
   "execution_count": 59,
   "metadata": {},
   "outputs": [
    {
     "ename": "RuntimeError",
     "evalue": "Requested MovieWriter (ffmpeg) not available",
     "output_type": "error",
     "traceback": [
      "\u001b[0;31m---------------------------------------------------------------------------\u001b[0m",
      "\u001b[0;31mKeyError\u001b[0m                                  Traceback (most recent call last)",
      "\u001b[0;32m~/Envs/nlp_new/lib/python3.6/site-packages/matplotlib/animation.py\u001b[0m in \u001b[0;36m__getitem__\u001b[0;34m(self, name)\u001b[0m\n\u001b[1;32m    160\u001b[0m         \u001b[0;32mtry\u001b[0m\u001b[0;34m:\u001b[0m\u001b[0;34m\u001b[0m\u001b[0m\n\u001b[0;32m--> 161\u001b[0;31m             \u001b[0;32mreturn\u001b[0m \u001b[0mself\u001b[0m\u001b[0;34m.\u001b[0m\u001b[0mavail\u001b[0m\u001b[0;34m[\u001b[0m\u001b[0mname\u001b[0m\u001b[0;34m]\u001b[0m\u001b[0;34m\u001b[0m\u001b[0m\n\u001b[0m\u001b[1;32m    162\u001b[0m         \u001b[0;32mexcept\u001b[0m \u001b[0mKeyError\u001b[0m\u001b[0;34m:\u001b[0m\u001b[0;34m\u001b[0m\u001b[0m\n",
      "\u001b[0;31mKeyError\u001b[0m: 'ffmpeg'",
      "\nDuring handling of the above exception, another exception occurred:\n",
      "\u001b[0;31mRuntimeError\u001b[0m                              Traceback (most recent call last)",
      "\u001b[0;32m<ipython-input-59-259911bf7852>\u001b[0m in \u001b[0;36m<module>\u001b[0;34m()\u001b[0m\n\u001b[1;32m     56\u001b[0m \u001b[0;34m\u001b[0m\u001b[0m\n\u001b[1;32m     57\u001b[0m \u001b[0;31m# showing\u001b[0m\u001b[0;34m\u001b[0m\u001b[0;34m\u001b[0m\u001b[0m\n\u001b[0;32m---> 58\u001b[0;31m \u001b[0mHTML\u001b[0m\u001b[0;34m(\u001b[0m\u001b[0manim\u001b[0m\u001b[0;34m.\u001b[0m\u001b[0mto_html5_video\u001b[0m\u001b[0;34m(\u001b[0m\u001b[0;34m)\u001b[0m\u001b[0;34m)\u001b[0m\u001b[0;34m\u001b[0m\u001b[0m\n\u001b[0m",
      "\u001b[0;32m~/Envs/nlp_new/lib/python3.6/site-packages/matplotlib/animation.py\u001b[0m in \u001b[0;36mto_html5_video\u001b[0;34m(self, embed_limit)\u001b[0m\n\u001b[1;32m   1337\u001b[0m                 \u001b[0;31m# We create a writer manually so that we can get the\u001b[0m\u001b[0;34m\u001b[0m\u001b[0;34m\u001b[0m\u001b[0m\n\u001b[1;32m   1338\u001b[0m                 \u001b[0;31m# appropriate size for the tag\u001b[0m\u001b[0;34m\u001b[0m\u001b[0;34m\u001b[0m\u001b[0m\n\u001b[0;32m-> 1339\u001b[0;31m                 \u001b[0mWriter\u001b[0m \u001b[0;34m=\u001b[0m \u001b[0mwriters\u001b[0m\u001b[0;34m[\u001b[0m\u001b[0mrcParams\u001b[0m\u001b[0;34m[\u001b[0m\u001b[0;34m'animation.writer'\u001b[0m\u001b[0;34m]\u001b[0m\u001b[0;34m]\u001b[0m\u001b[0;34m\u001b[0m\u001b[0m\n\u001b[0m\u001b[1;32m   1340\u001b[0m                 writer = Writer(codec='h264',\n\u001b[1;32m   1341\u001b[0m                                 \u001b[0mbitrate\u001b[0m\u001b[0;34m=\u001b[0m\u001b[0mrcParams\u001b[0m\u001b[0;34m[\u001b[0m\u001b[0;34m'animation.bitrate'\u001b[0m\u001b[0;34m]\u001b[0m\u001b[0;34m,\u001b[0m\u001b[0;34m\u001b[0m\u001b[0m\n",
      "\u001b[0;32m~/Envs/nlp_new/lib/python3.6/site-packages/matplotlib/animation.py\u001b[0m in \u001b[0;36m__getitem__\u001b[0;34m(self, name)\u001b[0m\n\u001b[1;32m    162\u001b[0m         \u001b[0;32mexcept\u001b[0m \u001b[0mKeyError\u001b[0m\u001b[0;34m:\u001b[0m\u001b[0;34m\u001b[0m\u001b[0m\n\u001b[1;32m    163\u001b[0m             raise RuntimeError(\n\u001b[0;32m--> 164\u001b[0;31m                 'Requested MovieWriter ({}) not available'.format(name))\n\u001b[0m\u001b[1;32m    165\u001b[0m \u001b[0;34m\u001b[0m\u001b[0m\n\u001b[1;32m    166\u001b[0m \u001b[0;34m\u001b[0m\u001b[0m\n",
      "\u001b[0;31mRuntimeError\u001b[0m: Requested MovieWriter (ffmpeg) not available"
     ]
    },
    {
     "data": {
      "image/png": "[encoded data removed]",
      "text/plain": [
       "<Figure size 1350x450 with 1 Axes>"
      ]
     },
     "metadata": {
      "needs_background": "light"
     },
     "output_type": "display_data"
    }
   ],
   "source": [
    "N_DRAWS = 500\n",
    "N_BANDITS = len(mab.bandit_probs)\n",
    "k_array = np.zeros((N_BANDITS,N_DRAWS))\n",
    "reward_array = np.zeros((N_BANDITS,N_DRAWS))\n",
    "\n",
    "# lists for ease of use, visualization\n",
    "k_list = []\n",
    "reward_list = []\n",
    "# opening figure and setting style\n",
    "fig, ax = plt.subplots(figsize=(9, 3), dpi=150)\n",
    "ax.set(xlim=(-1, N_DRAWS), ylim=(-0.5, N_BANDITS-0.5))\n",
    "# colors for each bandit\n",
    "bandit_colors = ['red', 'green', 'blue', 'purple']\n",
    "\n",
    "for draw_number in range(N_DRAWS):\n",
    "    # choosing arm and drawing\n",
    "    k = np.random.choice(range(N_BANDITS),1)[0]\n",
    "    reward, regret = mab.draw(k)\n",
    "#     print(k, \"-\", reward, \"-\", regret)\n",
    "    k_list.append(k)\n",
    "    reward_list.append(reward)\n",
    "    k_array[k, draw_number] = 1\n",
    "    reward_array[k, draw_number] = reward\n",
    "    \n",
    "    # getting list of colors that tells us the bandit\n",
    "    color_list = [bandit_colors[k] for k in k_list]\n",
    "    \n",
    "     # getting list of facecolors that tells us the reward\n",
    "    facecolor_list = [['none', bandit_colors[k_list[i]]][r] for i, r in enumerate(reward_list)]    \n",
    "\n",
    "    # initializing with first data\n",
    "scatter = ax.scatter(y=[k_list[0]], x=[list(range(N_DRAWS))[0]], color=[color_list[0]], linestyle='-', marker='o', s=30, facecolor=[facecolor_list[0]]);\n",
    "\n",
    "# titles\n",
    "plt.title('Random draws from the row of slot machines (MAB)', fontsize=10)\n",
    "plt.xlabel('Round', fontsize=10); plt.ylabel('Bandit', fontsize=10);\n",
    "ax.set_yticks([0,1,2,3])\n",
    "ax.set_yticklabels(['{}\\n($\\\\theta = {}$)'.format(i, bandit_probs[i]) for i in range(4)])\n",
    "ax.tick_params(labelsize=10)\n",
    "fig.tight_layout()\n",
    "\n",
    "# function for updating\n",
    "def animate(i):\n",
    "    x = list(range(N_DRAWS))[:i]\n",
    "    y = k_list[:i]\n",
    "    scatter.set_offsets(np.c_[x, y])\n",
    "    scatter.set_color(color_list[:i])\n",
    "    scatter.set_facecolor(facecolor_list[:i])\n",
    "    ax.set_yticks([0,1,2,3])\n",
    "    ax.set_yticklabels(['{}\\n($\\\\theta = {}$)'.format(i, bandit_probs[i]) for i in range(4)])\n",
    "    ax.tick_params(labelsize=10)\n",
    "    return (scatter,)\n",
    "\n",
    "# function for creating animation\n",
    "anim = FuncAnimation(fig, animate, frames=N_DRAWS, interval=25, blit=True)\n",
    "\n",
    "# showing\n",
    "HTML(anim.to_html5_video())"
   ]
  },
  {
   "cell_type": "code",
   "execution_count": null,
   "metadata": {},
   "outputs": [],
   "source": []
  }
 ],
 "metadata": {
  "kernelspec": {
   "display_name": "Python (nlp_new)",
   "language": "python",
   "name": "nlp_new"
  },
  "language_info": {
   "codemirror_mode": {
    "name": "ipython",
    "version": 3
   },
   "file_extension": ".py",
   "mimetype": "text/x-python",
   "name": "python",
   "nbconvert_exporter": "python",
   "pygments_lexer": "ipython3",
   "version": "3.6.3"
  }
 },
 "nbformat": 4,
 "nbformat_minor": 2
}
