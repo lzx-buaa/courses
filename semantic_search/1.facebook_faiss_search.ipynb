{
 "cells": [
  {
   "cell_type": "markdown",
   "id": "general-track",
   "metadata": {},
   "source": [
    "## Faiss Paper\n",
    "\n",
    "\n",
    "- **Title**: _Billion scale similarity search with GPUs_\n",
    "- 8.5x faster than previous GPU sota\n",
    "- k-NN graph construction is very expensive to build\n",
    "- Focuses on Product-Quantization (PQ) codes\n",
    "- Similarity Search in vector collections:\n",
    "\n",
    "$$\n",
    "    L = k-argmin_{i=o:l} \\Vert x-y_{i} \\Vert_{2}\n",
    "$$\n",
    "- Approximate Nearest Neighbor search"
   ]
  },
  {
   "cell_type": "markdown",
   "id": "nonprofit-decline",
   "metadata": {},
   "source": [
    "### Flat"
   ]
  },
  {
   "cell_type": "code",
   "execution_count": null,
   "id": "republican-friendly",
   "metadata": {},
   "outputs": [],
   "source": [
    "import numpy as np\n",
    "d = 764                           # dimension\n",
    "nb = 1000000                      # database size\n",
    "nq = 10000                       # nb of queries\n",
    "np.random.seed(1234)             # make reproducible"
   ]
  },
  {
   "cell_type": "code",
   "execution_count": null,
   "id": "excessive-poster",
   "metadata": {},
   "outputs": [],
   "source": [
    "xb = np.random.random((nb, d)).astype('float32')\n",
    "xb[:, 0] += np.arange(nb) / 1000.\n",
    "xq = np.random.random((nq, d)).astype('float32')\n",
    "xq[:, 0] += np.arange(nq) / 1000."
   ]
  },
  {
   "cell_type": "code",
   "execution_count": null,
   "id": "light-plastic",
   "metadata": {},
   "outputs": [],
   "source": [
    "xb.shape"
   ]
  },
  {
   "cell_type": "code",
   "execution_count": null,
   "id": "adaptive-repository",
   "metadata": {},
   "outputs": [],
   "source": [
    "xq.shape"
   ]
  },
  {
   "cell_type": "code",
   "execution_count": null,
   "id": "smart-shelter",
   "metadata": {},
   "outputs": [],
   "source": [
    "xb[0]"
   ]
  },
  {
   "cell_type": "code",
   "execution_count": null,
   "id": "written-begin",
   "metadata": {},
   "outputs": [],
   "source": [
    "import faiss                   # make faiss available\n",
    "index = faiss.IndexFlatL2(d)   # build the index\n",
    "print(index.is_trained)\n",
    "index.add(xb)                  # add vectors to the index\n",
    "print(index.ntotal)"
   ]
  },
  {
   "cell_type": "code",
   "execution_count": null,
   "id": "russian-mentor",
   "metadata": {},
   "outputs": [],
   "source": [
    "index.ntotal"
   ]
  },
  {
   "cell_type": "code",
   "execution_count": null,
   "id": "continuous-dining",
   "metadata": {},
   "outputs": [],
   "source": [
    "k = 4                          # we want to see 4 nearest neighbors\n",
    "D, I = index.search(xb[:5], k) # sanity check\n",
    "print(I)\n",
    "print(D)"
   ]
  },
  {
   "cell_type": "code",
   "execution_count": null,
   "id": "foreign-margin",
   "metadata": {},
   "outputs": [],
   "source": [
    "D, I = index.search(xq, k)     # actual search\n",
    "print(I[:5])                   # neighbors of the 5 first queries\n",
    "print(I[-5:])                  # neighbors of the 5 last queries"
   ]
  },
  {
   "cell_type": "markdown",
   "id": "million-nightlife",
   "metadata": {},
   "source": [
    "### IVFFlat"
   ]
  },
  {
   "cell_type": "code",
   "execution_count": null,
   "id": "boxed-championship",
   "metadata": {},
   "outputs": [],
   "source": [
    "import numpy as np\n",
    "\n",
    "d = 64                           # dimension\n",
    "nb = 100000                      # database size\n",
    "nq = 10000                       # nb of queries\n",
    "np.random.seed(1234)             # make reproducible\n",
    "xb = np.random.random((nb, d)).astype('float32')\n",
    "xb[:, 0] += np.arange(nb) / 1000.\n",
    "xq = np.random.random((nq, d)).astype('float32')\n",
    "xq[:, 0] += np.arange(nq) / 1000."
   ]
  },
  {
   "cell_type": "code",
   "execution_count": null,
   "id": "champion-scholarship",
   "metadata": {},
   "outputs": [],
   "source": [
    "xb.shape"
   ]
  },
  {
   "cell_type": "code",
   "execution_count": null,
   "id": "complex-doubt",
   "metadata": {},
   "outputs": [],
   "source": [
    "xq.shape"
   ]
  },
  {
   "cell_type": "code",
   "execution_count": null,
   "id": "disabled-omega",
   "metadata": {},
   "outputs": [],
   "source": [
    "import faiss\n",
    "\n",
    "nlist = 100\n",
    "k = 4\n",
    "quantizer = faiss.IndexFlatL2(d)  # the other index\n",
    "index = faiss.IndexIVFFlat(quantizer, d, nlist, faiss.METRIC_L2)"
   ]
  },
  {
   "cell_type": "code",
   "execution_count": null,
   "id": "valued-integrity",
   "metadata": {},
   "outputs": [],
   "source": [
    "assert not index.is_trained"
   ]
  },
  {
   "cell_type": "code",
   "execution_count": null,
   "id": "peripheral-repeat",
   "metadata": {},
   "outputs": [],
   "source": [
    "index.train(xb)\n",
    "assert index.is_trained"
   ]
  },
  {
   "cell_type": "code",
   "execution_count": null,
   "id": "precise-projection",
   "metadata": {},
   "outputs": [],
   "source": [
    "index.add(xb)                  # add may be a bit slower as well\n",
    "D, I = index.search(xq, k)     # actual search\n",
    "print(I[-5:])                  # neighbors of the 5 last queries\n",
    "index.nprobe = 10              # default nprobe is 1, try a few more\n",
    "D, I = index.search(xq, k)\n",
    "print(I[-5:])                  # neighbors of the 5 last queries\n",
    "print(D[-5:])"
   ]
  },
  {
   "cell_type": "markdown",
   "id": "recreational-musical",
   "metadata": {},
   "source": [
    "### IVFPQ"
   ]
  },
  {
   "cell_type": "code",
   "execution_count": 1,
   "id": "dominant-aaron",
   "metadata": {},
   "outputs": [],
   "source": [
    "import numpy as np\n",
    "\n",
    "d = 256                           # dimension\n",
    "nb = 100000                      # database size\n",
    "nq = 10000                       # nb of queries\n",
    "np.random.seed(1234)             # make reproducible\n",
    "xb = np.random.random((nb, d)).astype('float32')\n",
    "xb[:, 0] += np.arange(nb) / 1000.\n",
    "xq = np.random.random((nq, d)).astype('float32')\n",
    "xq[:, 0] += np.arange(nq) / 1000."
   ]
  },
  {
   "cell_type": "code",
   "execution_count": 4,
   "id": "tired-psychology",
   "metadata": {},
   "outputs": [],
   "source": [
    "import faiss\n",
    "\n",
    "nlist = 100\n",
    "m = 8\n",
    "k = 5\n",
    "quantizer = faiss.IndexFlatL2(d)  # this remains the same\n",
    "index = faiss.IndexIVFPQ(quantizer, d, nlist, m, 8) # 8 specifies that each sub-vector is encoded as 8 bits"
   ]
  },
  {
   "cell_type": "code",
   "execution_count": 5,
   "id": "charitable-grain",
   "metadata": {},
   "outputs": [
    {
     "name": "stdout",
     "output_type": "stream",
     "text": [
      "[[   0 1297  280  991   69]\n",
      " [   1  198  490  535  130]\n",
      " [   2  335  384  781  388]\n",
      " [   3  676   11  151  564]\n",
      " [   4  908 1168  870  110]]\n",
      "[[16.379608 22.267044 23.142925 23.37597  23.527748]\n",
      " [17.832582 23.692463 25.317284 25.410645 25.428934]\n",
      " [17.849506 23.984257 24.000374 24.645636 24.664366]\n",
      " [16.672308 23.469244 23.581505 23.741306 23.874958]\n",
      " [15.994578 22.744059 22.813297 22.911263 23.175169]]\n",
      "[[10901  9823 10297 10003  9370]\n",
      " [ 9462 10098  8798  9632  9526]\n",
      " [ 9552 10974  9965 10223  9500]\n",
      " [ 9772 11572  9949  9718  9954]\n",
      " [ 9272  9325 10114 10188 10228]]\n"
     ]
    }
   ],
   "source": [
    "index.train(xb)\n",
    "index.add(xb)\n",
    "D, I = index.search(xb[:5], k) # sanity check\n",
    "print(I)\n",
    "print(D)\n",
    "index.nprobe = 10              # make comparable with experiment above\n",
    "D, I = index.search(xq, k)     # search\n",
    "print(I[-5:])"
   ]
  },
  {
   "cell_type": "code",
   "execution_count": 6,
   "id": "narrative-cabinet",
   "metadata": {},
   "outputs": [
    {
     "data": {
      "text/plain": [
       "array([[21.794691, 22.022364, 22.046251, 22.23244 , 22.468832],\n",
       "       [22.156908, 22.775482, 22.796028, 23.161697, 23.385788],\n",
       "       [21.430569, 21.595377, 21.851482, 21.899704, 22.016834],\n",
       "       [20.965322, 21.888481, 22.060913, 22.265953, 22.359808],\n",
       "       [23.12369 , 23.25796 , 23.430618, 23.640244, 23.77743 ]],\n",
       "      dtype=float32)"
      ]
     },
     "execution_count": 6,
     "metadata": {},
     "output_type": "execute_result"
    }
   ],
   "source": [
    "D[-5:]"
   ]
  },
  {
   "cell_type": "code",
   "execution_count": null,
   "id": "explicit-memory",
   "metadata": {},
   "outputs": [],
   "source": []
  },
  {
   "cell_type": "markdown",
   "id": "macro-newton",
   "metadata": {},
   "source": [
    "## Getting Started\n",
    "\n",
    "[Getting Started](https://github.com/facebookresearch/faiss/wiki/Getting-started)"
   ]
  },
  {
   "cell_type": "markdown",
   "id": "coupled-robin",
   "metadata": {},
   "source": [
    "## References\n",
    "1. [Video 1](https://www.youtube.com/watch?v=Un1Q92lfhPM)\n",
    "2. [Product quantization for nearest neighbor search](https://lear.inrialpes.fr/pubs/2011/JDS11/jegou_searching_with_quantization.pdf)  \n",
    "3. [Blog Post - A Simple Guide to Faiss](https://towardsdatascience.com/facebook-ai-similarity-search-7c564daee9eb)"
   ]
  },
  {
   "cell_type": "code",
   "execution_count": null,
   "id": "closed-message",
   "metadata": {},
   "outputs": [],
   "source": []
  }
 ],
 "metadata": {
  "kernelspec": {
   "display_name": "torch",
   "language": "python",
   "name": "torch"
  },
  "language_info": {
   "codemirror_mode": {
    "name": "ipython",
    "version": 3
   },
   "file_extension": ".py",
   "mimetype": "text/x-python",
   "name": "python",
   "nbconvert_exporter": "python",
   "pygments_lexer": "ipython3",
   "version": "3.7.2"
  }
 },
 "nbformat": 4,
 "nbformat_minor": 5
}
