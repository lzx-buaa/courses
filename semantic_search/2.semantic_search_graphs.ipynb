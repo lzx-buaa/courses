{
 "cells": [
  {
   "cell_type": "markdown",
   "metadata": {},
   "source": [
    "### References - Recommender w/ NLP and Graphs\n",
    "\n",
    "1. [Building a Strong Baseline Recommender in PyTorch, on a Laptop](https://eugeneyan.com/writing/recommender-systems-baseline-pytorch/)\n",
    "2. [Beating the Baseline Recommender with Graph & NLP in Pytorch](https://eugeneyan.com/writing/recommender-systems-graph-and-nlp-pytorch/)"
   ]
  },
  {
   "cell_type": "code",
   "execution_count": 1,
   "metadata": {},
   "outputs": [],
   "source": [
    "import argparse\n",
    "import datetime\n",
    "\n",
    "import numpy as np\n",
    "import pandas as pd\n",
    "import torch\n",
    "from sklearn.metrics import roc_auc_score\n",
    "from torch import optim\n",
    "from torch.utils.data import DataLoader"
   ]
  },
  {
   "cell_type": "code",
   "execution_count": 2,
   "metadata": {},
   "outputs": [],
   "source": [
    "from parse_json import parse_json_to_df"
   ]
  },
  {
   "cell_type": "code",
   "execution_count": 3,
   "metadata": {},
   "outputs": [],
   "source": [
    "shuffle = True\n",
    "emb_dim = 128\n",
    "epochs = 5\n",
    "initial_lr = 0.01"
   ]
  },
  {
   "cell_type": "code",
   "execution_count": 4,
   "metadata": {},
   "outputs": [
    {
     "name": "stdout",
     "output_type": "stream",
     "text": [
      "total 11G\r\n",
      "drwxrwxr-x 2 roberto roberto 4.0K Oct  8 11:42 .\r\n",
      "drwxrwxr-x 5 roberto roberto 4.0K Oct  8 11:53 ..\r\n",
      "-rw-rw-r-- 1 roberto roberto 7.7G Oct  8 11:44 review_books.csv\r\n",
      "-rw-rw-r-- 1 roberto roberto 3.1G Apr 26  2016 reviews_Books_5.json.gz\r\n"
     ]
    }
   ],
   "source": [
    "!ls -lah data/"
   ]
  },
  {
   "cell_type": "code",
   "execution_count": 5,
   "metadata": {},
   "outputs": [],
   "source": [
    "#electronics_path = \"data/reviews_Electronics_5.json.gz\"\n",
    "#electronics_csv = \"data/electronics.csv\"\n",
    "books_path = \"data/reviews_Books_5.json.gz\"\n",
    "books_csv = \"data/books.csv\""
   ]
  },
  {
   "cell_type": "code",
   "execution_count": 6,
   "metadata": {},
   "outputs": [],
   "source": [
    "#df = parse_json_to_df(books_path)\n",
    "#df.tail()\n",
    "#df.to_csv(\"data/review_books.csv\", index=False)"
   ]
  },
  {
   "cell_type": "code",
   "execution_count": 7,
   "metadata": {},
   "outputs": [],
   "source": [
    "df = pd.read_csv(\"data/review_books.csv\")"
   ]
  },
  {
   "cell_type": "code",
   "execution_count": null,
   "metadata": {},
   "outputs": [],
   "source": []
  },
  {
   "cell_type": "code",
   "execution_count": 8,
   "metadata": {},
   "outputs": [],
   "source": [
    "value_reviews = df.overall.value_counts()"
   ]
  },
  {
   "cell_type": "code",
   "execution_count": 9,
   "metadata": {},
   "outputs": [
    {
     "data": {
      "text/plain": [
       "array([4980815, 2223094,  955189,  415110,  323833])"
      ]
     },
     "execution_count": 9,
     "metadata": {},
     "output_type": "execute_result"
    }
   ],
   "source": [
    "value_reviews.values"
   ]
  },
  {
   "cell_type": "code",
   "execution_count": 22,
   "metadata": {},
   "outputs": [
    {
     "data": {
      "text/plain": [
       "Int64Index([5, 4, 3, 2, 1], dtype='int64')"
      ]
     },
     "execution_count": 22,
     "metadata": {},
     "output_type": "execute_result"
    }
   ],
   "source": [
    "value_reviews.index.astype('int')"
   ]
  },
  {
   "cell_type": "code",
   "execution_count": 11,
   "metadata": {},
   "outputs": [],
   "source": [
    "import altair as alt"
   ]
  },
  {
   "cell_type": "code",
   "execution_count": 23,
   "metadata": {},
   "outputs": [],
   "source": [
    "ratings = pd.DataFrame({\"values\": value_reviews.values, \"ratings\": value_reviews.index.astype('int')})"
   ]
  },
  {
   "cell_type": "code",
   "execution_count": 24,
   "metadata": {},
   "outputs": [
    {
     "data": {
      "text/plain": [
       "0    4980815\n",
       "1    2223094\n",
       "2     955189\n",
       "3     415110\n",
       "4     323833\n",
       "Name: values, dtype: int64"
      ]
     },
     "execution_count": 24,
     "metadata": {},
     "output_type": "execute_result"
    }
   ],
   "source": [
    "ratings['values']"
   ]
  },
  {
   "cell_type": "code",
   "execution_count": 25,
   "metadata": {},
   "outputs": [
    {
     "data": {
      "text/plain": [
       "0    5\n",
       "1    4\n",
       "2    3\n",
       "3    2\n",
       "4    1\n",
       "Name: ratings, dtype: int64"
      ]
     },
     "execution_count": 25,
     "metadata": {},
     "output_type": "execute_result"
    }
   ],
   "source": [
    "ratings['ratings']"
   ]
  },
  {
   "cell_type": "code",
   "execution_count": 47,
   "metadata": {},
   "outputs": [
    {
     "data": {
      "text/html": [
       "\n",
       "<div id=\"altair-viz-c0d1676f94f74fc0a8d20b72fad191d9\"></div>\n",
       "<script type=\"text/javascript\">\n",
       "  (function(spec, embedOpt){\n",
       "    let outputDiv = document.currentScript.previousElementSibling;\n",
       "    if (outputDiv.id !== \"altair-viz-c0d1676f94f74fc0a8d20b72fad191d9\") {\n",
       "      outputDiv = document.getElementById(\"altair-viz-c0d1676f94f74fc0a8d20b72fad191d9\");\n",
       "    }\n",
       "    const paths = {\n",
       "      \"vega\": \"https://cdn.jsdelivr.net/npm//vega@5?noext\",\n",
       "      \"vega-lib\": \"https://cdn.jsdelivr.net/npm//vega-lib?noext\",\n",
       "      \"vega-lite\": \"https://cdn.jsdelivr.net/npm//vega-lite@4.8.1?noext\",\n",
       "      \"vega-embed\": \"https://cdn.jsdelivr.net/npm//vega-embed@6?noext\",\n",
       "    };\n",
       "\n",
       "    function loadScript(lib) {\n",
       "      return new Promise(function(resolve, reject) {\n",
       "        var s = document.createElement('script');\n",
       "        s.src = paths[lib];\n",
       "        s.async = true;\n",
       "        s.onload = () => resolve(paths[lib]);\n",
       "        s.onerror = () => reject(`Error loading script: ${paths[lib]}`);\n",
       "        document.getElementsByTagName(\"head\")[0].appendChild(s);\n",
       "      });\n",
       "    }\n",
       "\n",
       "    function showError(err) {\n",
       "      outputDiv.innerHTML = `<div class=\"error\" style=\"color:red;\">${err}</div>`;\n",
       "      throw err;\n",
       "    }\n",
       "\n",
       "    function displayChart(vegaEmbed) {\n",
       "      vegaEmbed(outputDiv, spec, embedOpt)\n",
       "        .catch(err => showError(`Javascript Error: ${err.message}<br>This usually means there's a typo in your chart specification. See the javascript console for the full traceback.`));\n",
       "    }\n",
       "\n",
       "    if(typeof define === \"function\" && define.amd) {\n",
       "      requirejs.config({paths});\n",
       "      require([\"vega-embed\"], displayChart, err => showError(`Error loading script: ${err.message}`));\n",
       "    } else if (typeof vegaEmbed === \"function\") {\n",
       "      displayChart(vegaEmbed);\n",
       "    } else {\n",
       "      loadScript(\"vega\")\n",
       "        .then(() => loadScript(\"vega-lite\"))\n",
       "        .then(() => loadScript(\"vega-embed\"))\n",
       "        .catch(showError)\n",
       "        .then(() => displayChart(vegaEmbed));\n",
       "    }\n",
       "  })({\"config\": {\"view\": {\"continuousWidth\": 400, \"continuousHeight\": 300}}, \"data\": {\"name\": \"data-00e869888dfb28c549e2083dbce8dc5c\"}, \"mark\": \"bar\", \"encoding\": {\"x\": {\"type\": \"quantitative\", \"field\": \"ratings\"}, \"y\": {\"type\": \"quantitative\", \"field\": \"values\"}}, \"$schema\": \"https://vega.github.io/schema/vega-lite/v4.8.1.json\", \"datasets\": {\"data-00e869888dfb28c549e2083dbce8dc5c\": [{\"values\": 4980815, \"ratings\": 5}, {\"values\": 2223094, \"ratings\": 4}, {\"values\": 955189, \"ratings\": 3}, {\"values\": 415110, \"ratings\": 2}, {\"values\": 323833, \"ratings\": 1}]}}, {\"mode\": \"vega-lite\"});\n",
       "</script>"
      ],
      "text/plain": [
       "alt.Chart(...)"
      ]
     },
     "execution_count": 47,
     "metadata": {},
     "output_type": "execute_result"
    }
   ],
   "source": [
    "# alt.Chart(ratings).mark_bar().encode(\n",
    "#     alt.X('ratings:Q',bin=alt.Bin(anchor = 5, extent=[0, 5.5], step=1)),\n",
    "#     alt.Y('values')\n",
    "# )\n",
    "alt.Chart(ratings).mark_bar().encode(\n",
    "    x='ratings',\n",
    "    y='values'\n",
    ")"
   ]
  },
  {
   "cell_type": "code",
   "execution_count": null,
   "metadata": {},
   "outputs": [],
   "source": [
    "def get_category_lvl(category_list: list, lvl=0) -> str:\n",
    "    try:\n",
    "        return category_list[lvl]\n",
    "    except IndexError:\n",
    "        return 'NA_VALUE'\n",
    "\n",
    "\n",
    "def get_categories(df: pd.DataFrame) -> pd.DataFrame:\n",
    "    df['category_lvl_1'] = df['categories'].apply(get_category_lvl, args=(0,))\n",
    "    df['category_lvl_2'] = df['categories'].apply(get_category_lvl, args=(1,))\n",
    "    df['category_lvl_3'] = df['categories'].apply(get_category_lvl, args=(2,))\n",
    "    df['category_lvl_4'] = df['categories'].apply(get_category_lvl, args=(3,))\n",
    "    logger.info('Categories lvl 1 - 4 prepared')\n",
    "\n",
    "    return df\n",
    "\n",
    "\n",
    "def get_meta(df: pd.DataFrame) -> pd.DataFrame:\n",
    "    # Update to reflect if relationship exist\n",
    "    df['related'] = np.where(df['related'].isnull(), 0, 1)\n",
    "\n",
    "    # Prep categories\n",
    "    df['categories'] = df['categories'].apply(eval)\n",
    "    df['categories'] = df['categories'].apply(lambda x: x[0])  # Get first category only\n",
    "    df = get_categories(df)\n",
    "\n",
    "    # Prep title and description\n",
    "    # TODO: Add cleaning of title and description\n",
    "\n",
    "    return df"
   ]
  },
  {
   "cell_type": "code",
   "execution_count": null,
   "metadata": {},
   "outputs": [],
   "source": []
  },
  {
   "cell_type": "code",
   "execution_count": null,
   "metadata": {},
   "outputs": [],
   "source": [
    "META_COLS = ['asin', 'categories', 'title', 'description', 'price', 'brand', 'related']\n",
    "df = pd.read_csv(write_books, error_bad_lines=False, warn_bad_lines=True,\n",
    "                 dtype={'asin': 'str', 'title': 'str', 'brand': 'str'},\n",
    "                 usecols=META_COLS)\n",
    "logger.info('DF shape: {}'.format(df.shape))\n",
    "\n",
    "meta_df = get_meta(df)\n",
    "\n",
    "meta_df.to_csv(args.write_path, index=False)"
   ]
  },
  {
   "cell_type": "code",
   "execution_count": null,
   "metadata": {},
   "outputs": [],
   "source": []
  }
 ],
 "metadata": {
  "kernelspec": {
   "display_name": "pytorch_new",
   "language": "python",
   "name": "pytorch_new"
  },
  "language_info": {
   "codemirror_mode": {
    "name": "ipython",
    "version": 3
   },
   "file_extension": ".py",
   "mimetype": "text/x-python",
   "name": "python",
   "nbconvert_exporter": "python",
   "pygments_lexer": "ipython3",
   "version": "3.6.7"
  }
 },
 "nbformat": 4,
 "nbformat_minor": 5
}
