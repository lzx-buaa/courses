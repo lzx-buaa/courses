{
 "cells": [
  {
   "cell_type": "code",
   "execution_count": 56,
   "id": "critical-shift",
   "metadata": {},
   "outputs": [],
   "source": [
    "import numpy as np"
   ]
  },
  {
   "cell_type": "code",
   "execution_count": 57,
   "id": "qualified-court",
   "metadata": {},
   "outputs": [],
   "source": [
    "## True Answer\n",
    "\n",
    "SQUARE_SIZE = 2\n",
    "RADIUS = 1\n",
    "area_square = SQUARE_SIZE*SQUARE_SIZE\n",
    "area_circle = np.pi*(RADIUS/2)**2"
   ]
  },
  {
   "cell_type": "code",
   "execution_count": 58,
   "id": "valid-savings",
   "metadata": {},
   "outputs": [
    {
     "data": {
      "text/plain": [
       "0.19634954084936207"
      ]
     },
     "execution_count": 58,
     "metadata": {},
     "output_type": "execute_result"
    }
   ],
   "source": [
    "p_circle = area_circle/area_square\n",
    "p_circle"
   ]
  },
  {
   "cell_type": "code",
   "execution_count": 59,
   "id": "reduced-polish",
   "metadata": {},
   "outputs": [
    {
     "data": {
      "text/plain": [
       "array([-0.48633059])"
      ]
     },
     "execution_count": 59,
     "metadata": {},
     "output_type": "execute_result"
    }
   ],
   "source": [
    "np.random.uniform(-1,1,1)"
   ]
  },
  {
   "cell_type": "code",
   "execution_count": 25,
   "id": "accomplished-middle",
   "metadata": {},
   "outputs": [
    {
     "name": "stdout",
     "output_type": "stream",
     "text": [
      "0.785306\n"
     ]
    }
   ],
   "source": [
    "n_tries = 1000000\n",
    "CIRC = 0\n",
    "for i in range(0,n_tries):\n",
    "    X_point = np.random.uniform(-1,1,1)\n",
    "    Y_point = np.random.uniform(-1,1,1)\n",
    "    if (X_point**2+Y_point**2)<=1:\n",
    "        CIRC +=1\n",
    "sampled_area = CIRC/n_tries\n",
    "print(sampled_area)"
   ]
  },
  {
   "cell_type": "code",
   "execution_count": 27,
   "id": "differential-processor",
   "metadata": {},
   "outputs": [
    {
     "data": {
      "text/plain": [
       "(0.7853981633974483, 0.785306)"
      ]
     },
     "execution_count": 27,
     "metadata": {},
     "output_type": "execute_result"
    }
   ],
   "source": [
    "area_circle, sampled_area"
   ]
  },
  {
   "cell_type": "code",
   "execution_count": 50,
   "id": "consecutive-refrigerator",
   "metadata": {},
   "outputs": [],
   "source": [
    "## Harder Problem\n",
    "\n",
    "p_win = 0.7\n",
    "rounds = []\n",
    "n_loss = 0\n",
    "r = 0\n",
    "n_simulation_steps = 1000000\n",
    "all_probs = [0.05, 0.1, 0.3, 0.5, 0.7]\n",
    "mean_rounds = []"
   ]
  },
  {
   "cell_type": "code",
   "execution_count": 55,
   "id": "controlled-liberia",
   "metadata": {},
   "outputs": [
    {
     "ename": "KeyboardInterrupt",
     "evalue": "",
     "output_type": "error",
     "traceback": [
      "\u001b[0;31m---------------------------------------------------------------------------\u001b[0m",
      "\u001b[0;31mKeyboardInterrupt\u001b[0m                         Traceback (most recent call last)",
      "\u001b[0;32m<ipython-input-55-7fe3d57c3d76>\u001b[0m in \u001b[0;36m<module>\u001b[0;34m\u001b[0m\n\u001b[1;32m      6\u001b[0m         \u001b[0;32mwhile\u001b[0m \u001b[0mn_loss\u001b[0m \u001b[0;34m!=\u001b[0m \u001b[0;36m2\u001b[0m\u001b[0;34m:\u001b[0m\u001b[0;34m\u001b[0m\u001b[0;34m\u001b[0m\u001b[0m\n\u001b[1;32m      7\u001b[0m             \u001b[0mr\u001b[0m\u001b[0;34m+=\u001b[0m\u001b[0;36m1\u001b[0m\u001b[0;34m\u001b[0m\u001b[0;34m\u001b[0m\u001b[0m\n\u001b[0;32m----> 8\u001b[0;31m             \u001b[0;32mif\u001b[0m \u001b[0mnp\u001b[0m\u001b[0;34m.\u001b[0m\u001b[0mrandom\u001b[0m\u001b[0;34m.\u001b[0m\u001b[0muniform\u001b[0m\u001b[0;34m(\u001b[0m\u001b[0;36m0\u001b[0m\u001b[0;34m,\u001b[0m\u001b[0;36m1\u001b[0m\u001b[0;34m,\u001b[0m\u001b[0;36m1\u001b[0m\u001b[0;34m)\u001b[0m\u001b[0;34m.\u001b[0m\u001b[0mitem\u001b[0m\u001b[0;34m(\u001b[0m\u001b[0;34m)\u001b[0m \u001b[0;34m<\u001b[0m \u001b[0mp_win\u001b[0m\u001b[0;34m:\u001b[0m\u001b[0;34m\u001b[0m\u001b[0;34m\u001b[0m\u001b[0m\n\u001b[0m\u001b[1;32m      9\u001b[0m                 \u001b[0mn_loss\u001b[0m \u001b[0;34m=\u001b[0m \u001b[0;36m0\u001b[0m\u001b[0;34m\u001b[0m\u001b[0;34m\u001b[0m\u001b[0m\n\u001b[1;32m     10\u001b[0m             \u001b[0;32melse\u001b[0m\u001b[0;34m:\u001b[0m\u001b[0;34m\u001b[0m\u001b[0;34m\u001b[0m\u001b[0m\n",
      "\u001b[0;31mKeyboardInterrupt\u001b[0m: "
     ]
    }
   ],
   "source": [
    "for p_win in all_probs:\n",
    "    rounds = []\n",
    "    for i in range(0,n_simulation_steps):\n",
    "        r = 0\n",
    "        n_loss = 0\n",
    "        while n_loss != 2:\n",
    "            r+=1\n",
    "            if np.random.uniform(0,1,1).item() < p_win:\n",
    "                n_loss = 0\n",
    "            else:\n",
    "                n_loss +=1\n",
    "        rounds.append(r) \n",
    "    avg_rounds = np.array(rounds).mean()\n",
    "    mean_rounds.append(avg_rounds)\n",
    "    print(f\"Average Rounds for {p_win}: {avg_rounds}\")"
   ]
  },
  {
   "cell_type": "code",
   "execution_count": 64,
   "id": "understood-brunei",
   "metadata": {},
   "outputs": [],
   "source": [
    "import matplotlib.pyplot as plt"
   ]
  },
  {
   "cell_type": "code",
   "execution_count": 62,
   "id": "matched-action",
   "metadata": {},
   "outputs": [],
   "source": [
    "y = np.random.normal(10, 0.5, 1000)"
   ]
  },
  {
   "cell_type": "code",
   "execution_count": 63,
   "id": "seeing-college",
   "metadata": {},
   "outputs": [
    {
     "data": {
      "text/plain": [
       "[<matplotlib.lines.Line2D at 0x10c7ef4a8>]"
      ]
     },
     "execution_count": 63,
     "metadata": {},
     "output_type": "execute_result"
    },
    {
     "data": {
      "image/png": "[encoded data removed]",
      "text/plain": [
       "<Figure size 432x288 with 1 Axes>"
      ]
     },
     "metadata": {
      "needs_background": "light"
     },
     "output_type": "display_data"
    }
   ],
   "source": [
    "plt.plot(y)"
   ]
  },
  {
   "cell_type": "code",
   "execution_count": null,
   "id": "overhead-patent",
   "metadata": {},
   "outputs": [],
   "source": []
  }
 ],
 "metadata": {
  "kernelspec": {
   "display_name": "torch",
   "language": "python",
   "name": "torch"
  },
  "language_info": {
   "codemirror_mode": {
    "name": "ipython",
    "version": 3
   },
   "file_extension": ".py",
   "mimetype": "text/x-python",
   "name": "python",
   "nbconvert_exporter": "python",
   "pygments_lexer": "ipython3",
   "version": "3.7.2"
  }
 },
 "nbformat": 4,
 "nbformat_minor": 5
}
