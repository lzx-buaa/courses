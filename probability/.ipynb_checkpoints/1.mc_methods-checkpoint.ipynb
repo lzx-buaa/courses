{
 "cells": [
  {
   "cell_type": "code",
   "execution_count": 1,
   "id": "alone-groove",
   "metadata": {},
   "outputs": [],
   "source": [
    "import numpy as np"
   ]
  },
  {
   "cell_type": "code",
   "execution_count": 5,
   "id": "improving-graph",
   "metadata": {},
   "outputs": [],
   "source": [
    "## True Answer\n",
    "\n",
    "SQUARE_SIZE = 2\n",
    "RADIUS = 1\n",
    "area_square = SQUARE_SIZE*SQUARE_SIZE\n",
    "area_circle = np.pi*(RADIUS/2)**2"
   ]
  },
  {
   "cell_type": "code",
   "execution_count": 10,
   "id": "prepared-romance",
   "metadata": {},
   "outputs": [
    {
     "data": {
      "text/plain": [
       "0.19634954084936207"
      ]
     },
     "execution_count": 10,
     "metadata": {},
     "output_type": "execute_result"
    }
   ],
   "source": [
    "p_circle = area_circle/area_square\n",
    "p_circle"
   ]
  },
  {
   "cell_type": "code",
   "execution_count": 15,
   "id": "nonprofit-alaska",
   "metadata": {},
   "outputs": [
    {
     "data": {
      "text/plain": [
       "array([0.6535904])"
      ]
     },
     "execution_count": 15,
     "metadata": {},
     "output_type": "execute_result"
    }
   ],
   "source": [
    "np.random.uniform(-1,1,1)"
   ]
  },
  {
   "cell_type": "code",
   "execution_count": 25,
   "id": "british-defense",
   "metadata": {},
   "outputs": [
    {
     "name": "stdout",
     "output_type": "stream",
     "text": [
      "0.785306\n"
     ]
    }
   ],
   "source": [
    "n_tries = 1000000\n",
    "CIRC = 0\n",
    "for i in range(0,n_tries):\n",
    "    X_point = np.random.uniform(-1,1,1)\n",
    "    Y_point = np.random.uniform(-1,1,1)\n",
    "    if (X_point**2+Y_point**2)<=1:\n",
    "        CIRC +=1\n",
    "sampled_area = CIRC/n_tries\n",
    "print(sampled_area)"
   ]
  },
  {
   "cell_type": "code",
   "execution_count": 27,
   "id": "flush-closure",
   "metadata": {},
   "outputs": [
    {
     "data": {
      "text/plain": [
       "(0.7853981633974483, 0.785306)"
      ]
     },
     "execution_count": 27,
     "metadata": {},
     "output_type": "execute_result"
    }
   ],
   "source": [
    "area_circle, sampled_area"
   ]
  },
  {
   "cell_type": "code",
   "execution_count": 50,
   "id": "adjusted-buffalo",
   "metadata": {},
   "outputs": [],
   "source": [
    "## Harder Problem\n",
    "\n",
    "p_win = 0.7\n",
    "rounds = []\n",
    "n_loss = 0\n",
    "r = 0\n",
    "n_simulation_steps = 1000000\n",
    "all_probs = [0.05, 0.1, 0.3, 0.5, 0.7]\n",
    "mean_rounds = []"
   ]
  },
  {
   "cell_type": "code",
   "execution_count": 51,
   "id": "official-cannon",
   "metadata": {},
   "outputs": [
    {
     "name": "stdout",
     "output_type": "stream",
     "text": [
      "Average Rounds for 0.05: 2.161588\n",
      "Average Rounds for 0.1: 2.345473\n",
      "Average Rounds for 0.3: 3.469355\n",
      "Average Rounds for 0.5: 5.998918\n",
      "Average Rounds for 0.7: 14.453403\n"
     ]
    }
   ],
   "source": [
    "for p_win in all_probs:\n",
    "    rounds = []\n",
    "    for i in range(0,n_simulation_steps):\n",
    "        r = 0\n",
    "        n_loss = 0\n",
    "        while n_loss != 2:\n",
    "            r+=1\n",
    "            if np.random.uniform(0,1,1).item() < p_win:\n",
    "                n_loss = 0\n",
    "            else:\n",
    "                n_loss +=1\n",
    "        rounds.append(r) \n",
    "    avg_rounds = np.array(rounds).mean()\n",
    "    mean_rounds.append(avg_rounds)\n",
    "    print(f\"Average Rounds for {p_win}: {avg_rounds}\")"
   ]
  },
  {
   "cell_type": "code",
   "execution_count": 52,
   "id": "senior-sacramento",
   "metadata": {},
   "outputs": [
    {
     "data": {
      "text/plain": [
       "[2.161588, 2.345473, 3.469355, 5.998918, 14.453403]"
      ]
     },
     "execution_count": 52,
     "metadata": {},
     "output_type": "execute_result"
    }
   ],
   "source": [
    "mean_rounds"
   ]
  },
  {
   "cell_type": "code",
   "execution_count": 53,
   "id": "independent-species",
   "metadata": {},
   "outputs": [],
   "source": [
    "import matplotlib.pyplot as plt"
   ]
  },
  {
   "cell_type": "code",
   "execution_count": 54,
   "id": "amber-present",
   "metadata": {},
   "outputs": [
    {
     "data": {
      "text/plain": [
       "[<matplotlib.lines.Line2D at 0x10c5af208>]"
      ]
     },
     "execution_count": 54,
     "metadata": {},
     "output_type": "execute_result"
    },
    {
     "data": {
      "image/png": "[encoded data removed]",
      "text/plain": [
       "<Figure size 432x288 with 1 Axes>"
      ]
     },
     "metadata": {
      "needs_background": "light"
     },
     "output_type": "display_data"
    }
   ],
   "source": [
    "plt.plot(all_probs, mean_rounds)"
   ]
  },
  {
   "cell_type": "code",
   "execution_count": null,
   "id": "nominated-million",
   "metadata": {},
   "outputs": [],
   "source": []
  }
 ],
 "metadata": {
  "kernelspec": {
   "display_name": "torch",
   "language": "python",
   "name": "torch"
  },
  "language_info": {
   "codemirror_mode": {
    "name": "ipython",
    "version": 3
   },
   "file_extension": ".py",
   "mimetype": "text/x-python",
   "name": "python",
   "nbconvert_exporter": "python",
   "pygments_lexer": "ipython3",
   "version": "3.7.2"
  }
 },
 "nbformat": 4,
 "nbformat_minor": 5
}
