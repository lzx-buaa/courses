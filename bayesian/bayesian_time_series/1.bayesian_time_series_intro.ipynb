{
 "cells": [
  {
   "cell_type": "markdown",
   "id": "90720fec-0e14-47c7-bce2-7d7b29f21019",
   "metadata": {},
   "source": [
    "## Sources\n",
    "- [Gaussian Processes for Time Series Forecasting with PyMC3](https://juanitorduz.github.io/gp_ts_pymc3/)\n",
    "- [Modeling Short Time Series with Prior Knowledge in PyMC](https://juanitorduz.github.io/short_time_series_pymc/)"
   ]
  },
  {
   "cell_type": "code",
   "execution_count": null,
   "id": "2c426c3f-e7e6-4d06-b257-89dad40b22d0",
   "metadata": {},
   "outputs": [],
   "source": []
  }
 ],
 "metadata": {
  "kernelspec": {
   "display_name": "bayesian",
   "language": "python",
   "name": "bayesian"
  },
  "language_info": {
   "codemirror_mode": {
    "name": "ipython",
    "version": 3
   },
   "file_extension": ".py",
   "mimetype": "text/x-python",
   "name": "python",
   "nbconvert_exporter": "python",
   "pygments_lexer": "ipython3",
   "version": "3.10.4"
  }
 },
 "nbformat": 4,
 "nbformat_minor": 5
}
