{
 "cells": [
  {
   "cell_type": "markdown",
   "id": "a45bb806-43e2-404d-a930-bd04e0c01230",
   "metadata": {},
   "source": [
    "## Introduction to Bayesian Modeling with PyMC3\n",
    "- Sources: https://juanitorduz.github.io/intro_pymc3/"
   ]
  },
  {
   "cell_type": "code",
   "execution_count": null,
   "id": "c886f4b3-3222-4434-8bce-89f5b3961840",
   "metadata": {},
   "outputs": [],
   "source": []
  }
 ],
 "metadata": {
  "kernelspec": {
   "display_name": "torch",
   "language": "python",
   "name": "torch"
  },
  "language_info": {
   "codemirror_mode": {
    "name": "ipython",
    "version": 3
   },
   "file_extension": ".py",
   "mimetype": "text/x-python",
   "name": "python",
   "nbconvert_exporter": "python",
   "pygments_lexer": "ipython3",
   "version": "3.10.4"
  }
 },
 "nbformat": 4,
 "nbformat_minor": 5
}
