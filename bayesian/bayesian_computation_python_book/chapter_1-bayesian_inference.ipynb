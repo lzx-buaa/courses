{
 "cells": [
  {
   "cell_type": "markdown",
   "id": "87df9b82-b689-4fe8-8cff-9321c184ed2f",
   "metadata": {},
   "source": [
    "## Chapter 1 - Intro\n",
    "\n",
    "- Link - https://bayesiancomputationbook.com/markdown/chp_01.html\n",
    "- Bayesian Inference\n",
    "- Exploratory Analysis of Bayesian Models\n",
    "\n",
    "- [Course Github](https://github.com/BayesianModelingandComputationInPython/BookCode_Edition1)\n"
   ]
  },
  {
   "cell_type": "code",
   "execution_count": 1,
   "id": "4b0fdc1c-7292-483f-98ec-f63a86374cb2",
   "metadata": {},
   "outputs": [],
   "source": [
    "# Exploratory Analysis of Bayesian Models/\n",
    "import arviz as az"
   ]
  },
  {
   "cell_type": "code",
   "execution_count": 2,
   "id": "8b7fb062-1c4b-43b1-a03d-60a98b781f64",
   "metadata": {},
   "outputs": [
    {
     "ename": "ModuleNotFoundError",
     "evalue": "No module named 'bambi'",
     "output_type": "error",
     "traceback": [
      "\u001b[0;31m---------------------------------------------------------------------------\u001b[0m",
      "\u001b[0;31mModuleNotFoundError\u001b[0m                       Traceback (most recent call last)",
      "Input \u001b[0;32mIn [2]\u001b[0m, in \u001b[0;36m<cell line: 2>\u001b[0;34m()\u001b[0m\n\u001b[1;32m      1\u001b[0m \u001b[38;5;66;03m# Probabilistic programming languages\u001b[39;00m\n\u001b[0;32m----> 2\u001b[0m \u001b[38;5;28;01mimport\u001b[39;00m \u001b[38;5;21;01mbambi\u001b[39;00m \u001b[38;5;28;01mas\u001b[39;00m \u001b[38;5;21;01mbmb\u001b[39;00m\n\u001b[1;32m      3\u001b[0m \u001b[38;5;28;01mimport\u001b[39;00m \u001b[38;5;21;01mpymc3\u001b[39;00m \u001b[38;5;28;01mas\u001b[39;00m \u001b[38;5;21;01mpm\u001b[39;00m\n\u001b[1;32m      4\u001b[0m \u001b[38;5;28;01mimport\u001b[39;00m \u001b[38;5;21;01mtensorflow_probability\u001b[39;00m \u001b[38;5;28;01mas\u001b[39;00m \u001b[38;5;21;01mtfp\u001b[39;00m\n",
      "\u001b[0;31mModuleNotFoundError\u001b[0m: No module named 'bambi'"
     ]
    }
   ],
   "source": [
    "# Probabilistic programming languages\n",
    "import bambi as bmb\n",
    "import pymc3 as pm\n",
    "import tensorflow_probability as tfp"
   ]
  },
  {
   "cell_type": "markdown",
   "id": "ef5fdd33-712d-4f9d-b6ba-aaa8eb743ebe",
   "metadata": {},
   "source": [
    "- Models exist solely as an aid to a further goal -- they are human-designed representations\n",
    "- Data is the raw material, and statistical distributions are the main mathematical tools to shape the statistical model\n",
    "- Bayesian Inference $\\rightarrow$ method to obtain a posterior distribution\n",
    "\n",
    "\n",
    "$$\n",
    "p(\\theta|Y) = \\frac{p(Y|\\theta) \\; p(\\theta)}{p(Y)}\n",
    "$$\n",
    "\n",
    "- Real world $\\rightarrow$ keep in mind that our results are conditioned not only on the data but also on the models\n",
    "- Bayesian models as generative models $\\rightarrow$ **mantra** = \"_models generate data_\"''\n",
    "- Predictions $\\rightarrow$ computed by integrating out (or marginalizing) over the posterior distribution of parameters - incorporates uncertainty"
   ]
  },
  {
   "cell_type": "code",
   "execution_count": null,
   "id": "6fe92a9a-853b-4fd0-b805-0d48a92d3785",
   "metadata": {},
   "outputs": [],
   "source": []
  },
  {
   "cell_type": "code",
   "execution_count": null,
   "id": "941c4666-c874-43ff-8f3e-33dac0d2e9ae",
   "metadata": {},
   "outputs": [],
   "source": []
  },
  {
   "cell_type": "code",
   "execution_count": null,
   "id": "3b65c50f-9d82-4ad0-9a43-8c714a0fa95a",
   "metadata": {},
   "outputs": [],
   "source": []
  },
  {
   "cell_type": "code",
   "execution_count": null,
   "id": "ae7abc52-9740-4f00-b675-09d617f7fcac",
   "metadata": {},
   "outputs": [],
   "source": []
  },
  {
   "cell_type": "markdown",
   "id": "e77ff208-9325-45e0-81bf-4439f3b8a2da",
   "metadata": {},
   "source": [
    "🔖       **BOOKMARK** - Section 1.2"
   ]
  },
  {
   "cell_type": "code",
   "execution_count": null,
   "id": "9cbdcf3e-4fa4-471c-b00b-affd0e2b89c8",
   "metadata": {},
   "outputs": [],
   "source": []
  }
 ],
 "metadata": {
  "kernelspec": {
   "display_name": "torch",
   "language": "python",
   "name": "torch"
  },
  "language_info": {
   "codemirror_mode": {
    "name": "ipython",
    "version": 3
   },
   "file_extension": ".py",
   "mimetype": "text/x-python",
   "name": "python",
   "nbconvert_exporter": "python",
   "pygments_lexer": "ipython3",
   "version": "3.10.4"
  }
 },
 "nbformat": 4,
 "nbformat_minor": 5
}
