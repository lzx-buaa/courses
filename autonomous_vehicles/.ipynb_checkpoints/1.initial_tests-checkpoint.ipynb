{
 "cells": [
  {
   "cell_type": "code",
   "execution_count": 1,
   "id": "aquatic-symbol",
   "metadata": {},
   "outputs": [
    {
     "data": {
      "text/plain": [
       "'1.2.0'"
      ]
     },
     "execution_count": 1,
     "metadata": {},
     "output_type": "execute_result"
    }
   ],
   "source": [
    "import l5kit\n",
    "l5kit.__version__"
   ]
  },
  {
   "cell_type": "code",
   "execution_count": 14,
   "id": "frozen-tucson",
   "metadata": {},
   "outputs": [],
   "source": [
    "#!mv /Users/rsilvei/Desktop/sdv_2.png figures/"
   ]
  },
  {
   "cell_type": "code",
   "execution_count": 15,
   "id": "unlimited-weekend",
   "metadata": {},
   "outputs": [
    {
     "name": "stdout",
     "output_type": "stream",
     "text": [
      "sdv_1.png sdv_2.png\r\n"
     ]
    }
   ],
   "source": [
    "!ls figures/"
   ]
  },
  {
   "cell_type": "markdown",
   "id": "capital-procurement",
   "metadata": {},
   "source": [
    "## L5 Dataset\n",
    "- largest and most detailed dataset to date for training motion forecasting and planning solutions\n",
    "- The largest dataset to date for motion prediction, containing 1,000 hours of traffic scenes\n"
   ]
  },
  {
   "cell_type": "markdown",
   "id": "wound-convergence",
   "metadata": {},
   "source": [
    "## Main SDV Tasks\n",
    "- motion forecasting\n",
    "- motion planning\n",
    "- simulation\n",
    "\n",
    "Typical SDV Pipeline\n",
    "<img src=\"figures/sdv_1.png\" width=1024/>\n",
    "\n",
    "- **Perception task**\n",
    "    - Supervised task\n",
    "    - Estimating 3D positions of nearby objects \n",
    "    - 3D Object Detection, Semantic Segmentation\n",
    "- **Prediction task**\n",
    "    - Trying to predict positions a few seconds into the future (uncertainty, counterfactuals?)\n",
    "    - Deep Learning solutions for predictions\n",
    "        - BEV - Bird Eyes View\n",
    "        - Graph Neural Nets\n",
    "- **Planning task**\n",
    "    - Final goal of the pipeline\n",
    "    - Receiving least attention from the community\n",
    "    - Traditional trajectory optimisation systems based on hand-crafted cost functions instead of machine learning\n",
    "    - Most recent approach based on imitation learning \n",
    "    \n",
    "- Dataset annotations\n",
    "    - Car: 92.47%\n",
    "    - Pedestrian: 5.91%\n",
    "    - Cyclist: 1.62%\n",
    "- L5Kit tool\n",
    "    - data loading and visualisation\n",
    "    - two baseline tasks:\n",
    "        - motion forecasting\n",
    "        - SDV motion planning\n",
    "- Performance of motion planning - benefits from larger datasets - ImageNet moment for SDV? \n",
    "<img src=\"figures/sdv_2.png\" width=480/>\n"
   ]
  },
  {
   "cell_type": "markdown",
   "id": "motivated-compound",
   "metadata": {},
   "source": [
    "# Notebooks\n",
    "1. [Visualization](https://github.com/lyft/l5kit/blob/master/examples/visualisation/visualise_data.ipynb)\n",
    "2. [Training](https://github.com/lyft/l5kit/blob/master/examples/agent_motion_prediction/agent_motion_prediction.ipynb)\n",
    "3. [Kaggle Baseline](https://www.kaggle.com/c7934597/lyft-complete-train-and-prediction-pipeline)"
   ]
  },
  {
   "cell_type": "markdown",
   "id": "realistic-journal",
   "metadata": {},
   "source": [
    "### Visualization Tutorial"
   ]
  },
  {
   "cell_type": "code",
   "execution_count": 16,
   "id": "connected-console",
   "metadata": {},
   "outputs": [],
   "source": [
    "import matplotlib.pyplot as plt\n",
    "\n",
    "import numpy as np\n",
    "\n",
    "from l5kit.data import ChunkedDataset, LocalDataManager\n",
    "from l5kit.dataset import EgoDataset, AgentDataset\n",
    "\n",
    "from l5kit.rasterization import build_rasterizer\n",
    "from l5kit.configs import load_config_data\n",
    "from l5kit.visualization import draw_trajectory, TARGET_POINTS_COLOR\n",
    "from l5kit.geometry import transform_points\n",
    "from tqdm import tqdm\n",
    "from collections import Counter\n",
    "from l5kit.data import PERCEPTION_LABELS\n",
    "from prettytable import PrettyTable\n",
    "\n",
    "import os"
   ]
  },
  {
   "cell_type": "markdown",
   "id": "brown-mills",
   "metadata": {},
   "source": [
    "## Sources\n",
    "1. [GNN 1] - S. Casas, C. Gulino, R. Liao, and R. Urtasun. Spatially-aware graph neural networks for relational behavior forecasting from sensor data. Int. Conf. on Robotics and Automation (ICRA), 2020.\n",
    "2. [GNN 2] - J. Gao, C. Sun, H. Zhao, Y. Shen, D. Anguelov, C. Li, and C. Schmid. Vectornet: Encoding hd maps and agent dynamics from vectorized representation. Int. Conf. on Computer Vision and Pattern Recognition (CVPR), 2020.\n",
    "3. [VectorNet Blog](https://blog.waymo.com/2020/05/vectornet.html)\n",
    "4. [Visualization Tool for L5kit](https://towardsdatascience.com/autonomous-driving-dataset-visualization-with-python-and-vizviewer-24ce3d3d11a0) \n",
    "5. [Coursera Video](https://www.coursera.org/lecture/motion-planning-self-driving-cars/lesson-1-motion-prediction-h9upg)  \n",
    "6. [ChauffeurNet Paper](https://arxiv.org/abs/1812.03079)"
   ]
  },
  {
   "cell_type": "code",
   "execution_count": null,
   "id": "center-crisis",
   "metadata": {},
   "outputs": [],
   "source": []
  },
  {
   "cell_type": "code",
   "execution_count": null,
   "id": "serial-method",
   "metadata": {},
   "outputs": [],
   "source": []
  }
 ],
 "metadata": {
  "kernelspec": {
   "display_name": "torch",
   "language": "python",
   "name": "torch"
  },
  "language_info": {
   "codemirror_mode": {
    "name": "ipython",
    "version": 3
   },
   "file_extension": ".py",
   "mimetype": "text/x-python",
   "name": "python",
   "nbconvert_exporter": "python",
   "pygments_lexer": "ipython3",
   "version": "3.7.2"
  }
 },
 "nbformat": 4,
 "nbformat_minor": 5
}
