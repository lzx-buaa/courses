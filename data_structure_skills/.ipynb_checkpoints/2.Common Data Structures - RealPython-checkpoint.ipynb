{
 "cells": [
  {
   "cell_type": "code",
   "execution_count": null,
   "id": "mineral-beach",
   "metadata": {},
   "outputs": [],
   "source": [
    "from collections import deque"
   ]
  },
  {
   "cell_type": "code",
   "execution_count": null,
   "id": "described-louisville",
   "metadata": {},
   "outputs": [],
   "source": [
    "llist= deque(\"abc\")\n",
    "llist"
   ]
  },
  {
   "cell_type": "code",
   "execution_count": null,
   "id": "arctic-cargo",
   "metadata": {},
   "outputs": [],
   "source": [
    "llist.appendleft(\"f\")\n",
    "llist"
   ]
  },
  {
   "cell_type": "code",
   "execution_count": null,
   "id": "dirty-circuit",
   "metadata": {},
   "outputs": [],
   "source": [
    "llist.append(\"g\")\n",
    "llist"
   ]
  },
  {
   "cell_type": "code",
   "execution_count": null,
   "id": "promotional-evanescence",
   "metadata": {},
   "outputs": [],
   "source": [
    "llist.pop()\n",
    "llist"
   ]
  },
  {
   "cell_type": "code",
   "execution_count": null,
   "id": "peaceful-tucson",
   "metadata": {},
   "outputs": [],
   "source": [
    "llist.popleft()\n",
    "llist"
   ]
  },
  {
   "cell_type": "code",
   "execution_count": null,
   "id": "nutritional-rebecca",
   "metadata": {},
   "outputs": [],
   "source": [
    "import time"
   ]
  },
  {
   "cell_type": "code",
   "execution_count": null,
   "id": "collective-knitting",
   "metadata": {},
   "outputs": [],
   "source": [
    "def time_funct()"
   ]
  },
  {
   "cell_type": "code",
   "execution_count": null,
   "id": "chicken-accordance",
   "metadata": {},
   "outputs": [],
   "source": []
  },
  {
   "cell_type": "code",
   "execution_count": null,
   "id": "danish-milwaukee",
   "metadata": {},
   "outputs": [],
   "source": [
    "def bubble_sort(item):\n",
    "    for i in range(len(item)):\n",
    "        for j in range(len(item)-i-1):\n",
    "            if item[j]>item[j+1]:\n",
    "                item[j], item[j+1]=item[j+1], item[j]\n",
    "    return item"
   ]
  },
  {
   "cell_type": "code",
   "execution_count": null,
   "id": "closed-dress",
   "metadata": {},
   "outputs": [],
   "source": [
    "def new_sort(item):\n",
    "    for i in range(len(item)):\n",
    "        for j in range(len(item)):\n",
    "            if item[i]<item[j]:\n",
    "                item[j], item[i]=item[i], item[j]\n",
    "    return item"
   ]
  },
  {
   "cell_type": "code",
   "execution_count": null,
   "id": "through-afghanistan",
   "metadata": {},
   "outputs": [],
   "source": [
    "def modSwapSort(L): \n",
    "    \"\"\" L is a list on integers \"\"\"\n",
    "    print(\"Original L: \", L)\n",
    "    for i in range(len(L)):\n",
    "        for j in range(len(L)):\n",
    "            if L[j] > L[i]:\n",
    "                L[j], L[i] = L[i], L[j] \n",
    "                print(L)\n",
    "    print(\"Final L: \", L)"
   ]
  },
  {
   "cell_type": "code",
   "execution_count": null,
   "id": "automotive-israel",
   "metadata": {},
   "outputs": [],
   "source": [
    "modSwapSort([301,23,34,1])"
   ]
  },
  {
   "cell_type": "code",
   "execution_count": null,
   "id": "confused-thomas",
   "metadata": {},
   "outputs": [],
   "source": [
    "a = [1,2,4,3,6,7,8, 9222, 23, 40]\n",
    "b =[30,29,211,10,1,3,100, 10, 404, 100002121]\n",
    "c = [200,300,1000,2,9, 1, 5, 300]"
   ]
  },
  {
   "cell_type": "code",
   "execution_count": null,
   "id": "quiet-princeton",
   "metadata": {},
   "outputs": [],
   "source": [
    "bubble_sort(a), new_sort(a)"
   ]
  },
  {
   "cell_type": "code",
   "execution_count": null,
   "id": "oriental-judge",
   "metadata": {},
   "outputs": [],
   "source": [
    "bubble_sort(b), new_sort(b)"
   ]
  },
  {
   "cell_type": "code",
   "execution_count": null,
   "id": "demanding-accommodation",
   "metadata": {},
   "outputs": [],
   "source": [
    "bubble_sort(c), new_sort(c)"
   ]
  },
  {
   "cell_type": "code",
   "execution_count": null,
   "id": "fossil-nigeria",
   "metadata": {},
   "outputs": [],
   "source": [
    "from collections import namedtuple"
   ]
  },
  {
   "cell_type": "code",
   "execution_count": null,
   "id": "coated-directive",
   "metadata": {},
   "outputs": [],
   "source": [
    "factory_list = []"
   ]
  },
  {
   "cell_type": "code",
   "execution_count": null,
   "id": "smoking-queen",
   "metadata": {},
   "outputs": [],
   "source": [
    "AccountInfo = namedtuple(\"account\",[\"first_name\",\"family_name\"])\n",
    "factory_list.append(AccountInfo(\"Roberto\",\"Silveira\"))\n",
    "factory_list.append(AccountInfo(\"Gustavo\",\"Silveira\"))\n",
    "factory_list.append(AccountInfo(\"Carolina\",\"Silveira\"))\n",
    "factory_list.append(AccountInfo(\"Luiza\",\"Schmidt\"))"
   ]
  },
  {
   "cell_type": "code",
   "execution_count": null,
   "id": "interpreted-genetics",
   "metadata": {},
   "outputs": [],
   "source": [
    "for i in range(len(factory_list)):\n",
    "    print(factory_list[i].first_name, factory_list[i].family_name)\n",
    "    print(\"-\"*30)"
   ]
  },
  {
   "cell_type": "code",
   "execution_count": null,
   "id": "conscious-cutting",
   "metadata": {},
   "outputs": [],
   "source": [
    "factory_list[1].family_name"
   ]
  },
  {
   "cell_type": "code",
   "execution_count": null,
   "id": "packed-module",
   "metadata": {},
   "outputs": [],
   "source": [
    "factory_list[1].family_name"
   ]
  },
  {
   "cell_type": "code",
   "execution_count": null,
   "id": "sexual-success",
   "metadata": {},
   "outputs": [],
   "source": []
  },
  {
   "cell_type": "code",
   "execution_count": null,
   "id": "known-armstrong",
   "metadata": {},
   "outputs": [],
   "source": []
  },
  {
   "cell_type": "markdown",
   "id": "subject-journalism",
   "metadata": {},
   "source": [
    "## Named Tuple (immutable)"
   ]
  },
  {
   "cell_type": "code",
   "execution_count": null,
   "id": "mental-nylon",
   "metadata": {},
   "outputs": [],
   "source": [
    "from collections import namedtuple"
   ]
  },
  {
   "cell_type": "code",
   "execution_count": null,
   "id": "canadian-default",
   "metadata": {},
   "outputs": [],
   "source": [
    "def create_account():\n",
    "    AccountInfo=namedtuple(\"account\",[\"name\", \"family\", \"age\"])\n",
    "    return AccountInfo"
   ]
  },
  {
   "cell_type": "code",
   "execution_count": null,
   "id": "significant-prayer",
   "metadata": {},
   "outputs": [],
   "source": [
    "company_list = []\n",
    "acc = create_account()\n",
    "company_list.append(acc(\"Roberto\", \"Silveira\", 42))\n",
    "print(company_list[0].age) "
   ]
  },
  {
   "cell_type": "code",
   "execution_count": null,
   "id": "proper-prisoner",
   "metadata": {},
   "outputs": [],
   "source": [
    "company_list.append(acc(\"Gustavo\", \"Silveira\", 40))\n",
    "print(company_list[1].age) "
   ]
  },
  {
   "cell_type": "code",
   "execution_count": null,
   "id": "agreed-webmaster",
   "metadata": {},
   "outputs": [],
   "source": [
    "company_list.append(acc(\"Luiza\", \"Schmidt\", 36))\n",
    "print(company_list[2].age) "
   ]
  },
  {
   "cell_type": "markdown",
   "id": "ranging-stocks",
   "metadata": {},
   "source": [
    "## Simple Sort"
   ]
  },
  {
   "cell_type": "code",
   "execution_count": null,
   "id": "configured-fruit",
   "metadata": {},
   "outputs": [],
   "source": []
  },
  {
   "cell_type": "markdown",
   "id": "computational-coordinator",
   "metadata": {},
   "source": [
    "## Sources\n",
    "1. https://realpython.com/python-data-structures/\n",
    "2. https://realpython.com/sorting-algorithms-python/\n",
    "3. https://realpython.com/linked-lists-python/\n",
    "4. https://realpython.com/binary-search-python/#binary-search\n",
    "5. https://realpython.com/binary-search-python/"
   ]
  },
  {
   "cell_type": "markdown",
   "id": "hourly-priority",
   "metadata": {},
   "source": [
    "## Binary Search"
   ]
  },
  {
   "cell_type": "code",
   "execution_count": 1,
   "id": "widespread-sheet",
   "metadata": {},
   "outputs": [],
   "source": [
    "import string\n",
    "import random"
   ]
  },
  {
   "cell_type": "code",
   "execution_count": 2,
   "id": "herbal-worth",
   "metadata": {},
   "outputs": [
    {
     "name": "stdout",
     "output_type": "stream",
     "text": [
      "emuyleycch\n"
     ]
    }
   ],
   "source": [
    "letters = string.ascii_lowercase\n",
    "print ( ''.join(random.choice(letters) for i in range(10)) )"
   ]
  },
  {
   "cell_type": "code",
   "execution_count": 6,
   "id": "reverse-fault",
   "metadata": {},
   "outputs": [
    {
     "data": {
      "text/plain": [
       "('abcdefghijklmnopqrstuvwxyz', 'o')"
      ]
     },
     "execution_count": 6,
     "metadata": {},
     "output_type": "execute_result"
    }
   ],
   "source": [
    "letters, random.choice(letters)"
   ]
  },
  {
   "cell_type": "code",
   "execution_count": 7,
   "id": "breathing-christian",
   "metadata": {},
   "outputs": [
    {
     "data": {
      "text/plain": [
       "'yomcn'"
      ]
     },
     "execution_count": 7,
     "metadata": {},
     "output_type": "execute_result"
    }
   ],
   "source": [
    "def generate_string(num_chars):\n",
    "    letters = string.ascii_lowercase\n",
    "    return''.join(random.choice(letters) for i in range(num_chars))\n",
    "generate_string(5)"
   ]
  },
  {
   "cell_type": "code",
   "execution_count": 8,
   "id": "documented-charter",
   "metadata": {},
   "outputs": [],
   "source": [
    "num_chars = 5\n",
    "num_items = 5000\n",
    "list_items = sorted([generate_string(num_chars) for _ in range(0,num_items)])"
   ]
  },
  {
   "cell_type": "code",
   "execution_count": 9,
   "id": "upper-geneva",
   "metadata": {},
   "outputs": [
    {
     "data": {
      "text/plain": [
       "['huplz',\n",
       " 'huugs',\n",
       " 'huwph',\n",
       " 'hvhci',\n",
       " 'hvild',\n",
       " 'hvkvc',\n",
       " 'hvpie',\n",
       " 'hvpys',\n",
       " 'hvqov',\n",
       " 'hvrle',\n",
       " 'hvrzk',\n",
       " 'hvzis',\n",
       " 'hwacm',\n",
       " 'hwdgk',\n",
       " 'hwizs',\n",
       " 'hwjmd',\n",
       " 'hwkux',\n",
       " 'hxfrw',\n",
       " 'hxtkr',\n",
       " 'hxuib']"
      ]
     },
     "execution_count": 9,
     "metadata": {},
     "output_type": "execute_result"
    }
   ],
   "source": [
    "list_items[1500:1520]"
   ]
  },
  {
   "cell_type": "code",
   "execution_count": 11,
   "id": "handy-principle",
   "metadata": {},
   "outputs": [],
   "source": [
    "def do_binary_search(items, search_str):\n",
    "    start = 0\n",
    "    end = len(items)\n",
    "    query_position = (start + end) // 2\n",
    "    query_name = items[query_position]\n",
    "    print(f\"Initial query position: {query_position} - {query_name}\")\n",
    "    iteration = 0\n",
    "    while search_str!=query_name:\n",
    "        iteration+=1\n",
    "        if search_str>query_name:\n",
    "            start = query_position\n",
    "            query_position = (start + end) // 2\n",
    "            query_name = items[query_position]\n",
    "            print(f\"{iteration} - Upper: {query_position} - Name: {query_name}\")\n",
    "            print(\"-\"*30)\n",
    "        elif search_str<=query_name:\n",
    "            end = query_position\n",
    "            query_position = (start + end) // 2\n",
    "            query_name = items[query_position]\n",
    "            print(f\"{iteration} - Lower: {query_position} - Name: {query_name}\")\n",
    "            print(\"-\"*30)\n",
    "        else:\n",
    "            query_name = None\n",
    "            query_position = 0\n",
    "    return query_name, query_position"
   ]
  },
  {
   "cell_type": "code",
   "execution_count": 12,
   "id": "smart-index",
   "metadata": {},
   "outputs": [
    {
     "data": {
      "text/plain": [
       "['rjcnr',\n",
       " 'rjdxd',\n",
       " 'rjebt',\n",
       " 'rjgxp',\n",
       " 'rjhom',\n",
       " 'rjhyz',\n",
       " 'rjnqe',\n",
       " 'rjvil',\n",
       " 'rjvot',\n",
       " 'rjxzm',\n",
       " 'rkbhr',\n",
       " 'rkgkg',\n",
       " 'rkjzu',\n",
       " 'rktfq',\n",
       " 'rktsu',\n",
       " 'rkvwf',\n",
       " 'rkwra',\n",
       " 'rkxrg',\n",
       " 'rlghp',\n",
       " 'rlivx']"
      ]
     },
     "execution_count": 12,
     "metadata": {},
     "output_type": "execute_result"
    }
   ],
   "source": [
    "list_items[3300:3320]"
   ]
  },
  {
   "cell_type": "code",
   "execution_count": 21,
   "id": "freelance-habitat",
   "metadata": {},
   "outputs": [
    {
     "name": "stdout",
     "output_type": "stream",
     "text": [
      "SEARCH ITEM: gjqxi\n",
      "Initial query position: 2500 - nekvi\n",
      "1 - Lower: 1250 - Name: gmlti\n",
      "------------------------------\n",
      "2 - Lower: 625 - Name: dgwyv\n",
      "------------------------------\n",
      "3 - Upper: 937 - Name: ewmnm\n",
      "------------------------------\n",
      "4 - Upper: 1093 - Name: frmfk\n",
      "------------------------------\n",
      "5 - Upper: 1171 - Name: gbigg\n",
      "------------------------------\n",
      "6 - Upper: 1210 - Name: ghwit\n",
      "------------------------------\n",
      "7 - Upper: 1230 - Name: gkacy\n",
      "------------------------------\n",
      "8 - Lower: 1220 - Name: gjblq\n",
      "------------------------------\n",
      "9 - Upper: 1225 - Name: gjkhx\n",
      "------------------------------\n",
      "10 - Upper: 1227 - Name: gjrfb\n",
      "------------------------------\n",
      "11 - Lower: 1226 - Name: gjqxi\n",
      "------------------------------\n"
     ]
    },
    {
     "data": {
      "text/plain": [
       "('gjqxi', 1226)"
      ]
     },
     "execution_count": 21,
     "metadata": {},
     "output_type": "execute_result"
    }
   ],
   "source": [
    "search_item = random.choice(list_items)\n",
    "print(f\"SEARCH ITEM: {search_item}\")\n",
    "resp = do_binary_search(list_items, search_item)\n",
    "resp"
   ]
  },
  {
   "cell_type": "code",
   "execution_count": 22,
   "id": "bright-backing",
   "metadata": {},
   "outputs": [],
   "source": [
    "# Returns index of x in arr if present, else -1\n",
    "def binary_search(arr, low, high, x):\n",
    " \n",
    "    # Check base case\n",
    "    if high >= low:\n",
    "        print(\"Iter +1\")\n",
    "        print(\"-\"*30)\n",
    "        mid = (high + low) // 2\n",
    " \n",
    "        # If element is present at the middle itself\n",
    "        if arr[mid] == x:\n",
    "            return mid\n",
    " \n",
    "        # If element is smaller than mid, then it can only\n",
    "        # be present in left subarray\n",
    "        elif arr[mid] > x:\n",
    "            return binary_search(arr, low, mid - 1, x)\n",
    " \n",
    "        # Else the element can only be present in right subarray\n",
    "        else:\n",
    "            return binary_search(arr, mid + 1, high, x)\n",
    " \n",
    "    else:\n",
    "        # Element is not present in the array\n",
    "        return -1"
   ]
  },
  {
   "cell_type": "code",
   "execution_count": 23,
   "id": "conceptual-scenario",
   "metadata": {},
   "outputs": [
    {
     "name": "stdout",
     "output_type": "stream",
     "text": [
      "Iter +1\n",
      "------------------------------\n",
      "Iter +1\n",
      "------------------------------\n",
      "Iter +1\n",
      "------------------------------\n",
      "Iter +1\n",
      "------------------------------\n",
      "Iter +1\n",
      "------------------------------\n",
      "Iter +1\n",
      "------------------------------\n",
      "Iter +1\n",
      "------------------------------\n",
      "Iter +1\n",
      "------------------------------\n",
      "Iter +1\n",
      "------------------------------\n",
      "Iter +1\n",
      "------------------------------\n",
      "Iter +1\n",
      "------------------------------\n"
     ]
    },
    {
     "data": {
      "text/plain": [
       "1226"
      ]
     },
     "execution_count": 23,
     "metadata": {},
     "output_type": "execute_result"
    }
   ],
   "source": [
    "binary_search(list_items, 0, len(list_items), search_item)"
   ]
  }
 ],
 "metadata": {
  "kernelspec": {
   "display_name": "torch",
   "language": "python",
   "name": "torch"
  },
  "language_info": {
   "codemirror_mode": {
    "name": "ipython",
    "version": 3
   },
   "file_extension": ".py",
   "mimetype": "text/x-python",
   "name": "python",
   "nbconvert_exporter": "python",
   "pygments_lexer": "ipython3",
   "version": "3.7.2"
  }
 },
 "nbformat": 4,
 "nbformat_minor": 5
}
