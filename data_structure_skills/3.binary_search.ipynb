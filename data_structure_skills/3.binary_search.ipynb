{
 "cells": [
  {
   "cell_type": "code",
   "execution_count": 3,
   "id": "right-pennsylvania",
   "metadata": {},
   "outputs": [],
   "source": [
    "import string\n",
    "import random"
   ]
  },
  {
   "cell_type": "code",
   "execution_count": 4,
   "id": "greatest-content",
   "metadata": {},
   "outputs": [
    {
     "data": {
      "text/plain": [
       "'abcdefghijklmnopqrstuvwxyzABCDEFGHIJKLMNOPQRSTUVWXYZ'"
      ]
     },
     "execution_count": 4,
     "metadata": {},
     "output_type": "execute_result"
    }
   ],
   "source": [
    "string.ascii_letters"
   ]
  },
  {
   "cell_type": "code",
   "execution_count": 5,
   "id": "contained-throw",
   "metadata": {},
   "outputs": [],
   "source": [
    "num_chars = 10\n",
    "num_strings = 10000\n",
    "string_sizes = [5,6,7,8,10,20]"
   ]
  },
  {
   "cell_type": "code",
   "execution_count": 6,
   "id": "silver-rugby",
   "metadata": {},
   "outputs": [],
   "source": [
    "def produce_random_string(num_chars):\n",
    "    return \"\".join(random.choice(string.ascii_letters) for _ in range(0,num_chars))"
   ]
  },
  {
   "cell_type": "code",
   "execution_count": 7,
   "id": "protecting-backup",
   "metadata": {},
   "outputs": [
    {
     "data": {
      "text/plain": [
       "['FEaNf',\n",
       " 'FEcgka',\n",
       " 'FEgZc',\n",
       " 'FEoXi',\n",
       " 'FErCBZD',\n",
       " 'FEupZQiIcGubPMpMgKoI',\n",
       " 'FExRWZ',\n",
       " 'FFfDZxEtCTMwKokQRnpX',\n",
       " 'FFjAxdhmKI',\n",
       " 'FFlKaahM',\n",
       " 'FGBRdtQQiF',\n",
       " 'FGdyozLmglNQDdCySuPf',\n",
       " 'FGtwF',\n",
       " 'FGwNRUcM',\n",
       " 'FGwPT',\n",
       " 'FGzHMuRKmgINzvkMCCwo',\n",
       " 'FHHMxNqW',\n",
       " 'FHHnZ',\n",
       " 'FHMdehMb',\n",
       " 'FHUvJ']"
      ]
     },
     "execution_count": 7,
     "metadata": {},
     "output_type": "execute_result"
    }
   ],
   "source": [
    "list_string = sorted([produce_random_string(random.choice(string_sizes)) for _ in range(0,num_strings)])\n",
    "list_string[1000:1020]"
   ]
  },
  {
   "cell_type": "code",
   "execution_count": 17,
   "id": "collaborative-chicago",
   "metadata": {},
   "outputs": [],
   "source": [
    "def binary_search(search_str, search_list):\n",
    "    low = 0\n",
    "    high = len(search_list)\n",
    "    mid = (low + high) // 2\n",
    "    query_str = search_list[mid]\n",
    "    iteration = 0\n",
    "    print(f\"ITERATION: {iteration}\\nLow:  {low} \\nMid:  {mid} \\nHigh: {high}\\nstr:  {query_str} \\n-------------\")\n",
    "    while (query_str!=search_str):\n",
    "        iteration +=1\n",
    "        if query_str>search_str:\n",
    "            if high==mid:\n",
    "                mid = None\n",
    "                break\n",
    "            high = mid\n",
    "            mid =  mid = (low + high) // 2\n",
    "            query_str = search_list[mid]\n",
    "            print(f\"ITERATION: {iteration}\\nLow:  {low} \\nMid:  {mid} \\nHigh: {high}\\nstr:  {query_str} \\n-------------\")\n",
    "        elif query_str<search_str:\n",
    "            if low==mid:\n",
    "                mid = None\n",
    "                break\n",
    "            low = mid\n",
    "            mid =  mid = (low + high) // 2\n",
    "            query_str = search_list[mid]\n",
    "            print(f\"ITERATION: {iteration}\\nLow:  {low} \\nMid:  {mid} \\nHigh: {high}\\nstr:  {query_str} \\n-------------\")\n",
    "    return mid"
   ]
  },
  {
   "cell_type": "code",
   "execution_count": 18,
   "id": "balanced-tracker",
   "metadata": {},
   "outputs": [
    {
     "name": "stdout",
     "output_type": "stream",
     "text": [
      "ITERATION: 0\n",
      "Low:  0 \n",
      "Mid:  5000 \n",
      "High: 10000\n",
      "str:  ZjCUsoYKPH \n",
      "-------------\n",
      "ITERATION: 1\n",
      "Low:  0 \n",
      "Mid:  2500 \n",
      "High: 5000\n",
      "str:  MYJrjOBxnZnYBSqGSOfu \n",
      "-------------\n",
      "ITERATION: 2\n",
      "Low:  0 \n",
      "Mid:  1250 \n",
      "High: 2500\n",
      "str:  GLZRCJ \n",
      "-------------\n",
      "ITERATION: 3\n",
      "Low:  0 \n",
      "Mid:  625 \n",
      "High: 1250\n",
      "str:  DKoSaK \n",
      "-------------\n",
      "ITERATION: 4\n",
      "Low:  625 \n",
      "Mid:  937 \n",
      "High: 1250\n",
      "str:  EltarZF \n",
      "-------------\n",
      "ITERATION: 5\n",
      "Low:  937 \n",
      "Mid:  1093 \n",
      "High: 1250\n",
      "str:  FTsakV \n",
      "-------------\n",
      "ITERATION: 6\n",
      "Low:  937 \n",
      "Mid:  1015 \n",
      "High: 1093\n",
      "str:  FGzHMuRKmgINzvkMCCwo \n",
      "-------------\n",
      "ITERATION: 7\n",
      "Low:  1015 \n",
      "Mid:  1054 \n",
      "High: 1093\n",
      "str:  FOnLwe \n",
      "-------------\n",
      "ITERATION: 8\n",
      "Low:  1015 \n",
      "Mid:  1034 \n",
      "High: 1054\n",
      "str:  FKfgPueX \n",
      "-------------\n",
      "ITERATION: 9\n",
      "Low:  1015 \n",
      "Mid:  1024 \n",
      "High: 1034\n",
      "str:  FIblegBBVH \n",
      "-------------\n",
      "ITERATION: 10\n",
      "Low:  1015 \n",
      "Mid:  1019 \n",
      "High: 1024\n",
      "str:  FHUvJ \n",
      "-------------\n",
      "ITERATION: 11\n",
      "Low:  1015 \n",
      "Mid:  1017 \n",
      "High: 1019\n",
      "str:  FHHnZ \n",
      "-------------\n",
      "ITERATION: 12\n",
      "Low:  1015 \n",
      "Mid:  1016 \n",
      "High: 1017\n",
      "str:  FHHMxNqW \n",
      "-------------\n"
     ]
    },
    {
     "data": {
      "text/plain": [
       "1016"
      ]
     },
     "execution_count": 18,
     "metadata": {},
     "output_type": "execute_result"
    }
   ],
   "source": [
    "binary_search(\"FHHMxNqW\", list_string)"
   ]
  },
  {
   "cell_type": "code",
   "execution_count": 19,
   "id": "unlikely-companion",
   "metadata": {},
   "outputs": [
    {
     "name": "stdout",
     "output_type": "stream",
     "text": [
      "ITERATION: 0\n",
      "Low:  0 \n",
      "Mid:  5000 \n",
      "High: 10000\n",
      "str:  ZjCUsoYKPH \n",
      "-------------\n",
      "ITERATION: 1\n",
      "Low:  0 \n",
      "Mid:  2500 \n",
      "High: 5000\n",
      "str:  MYJrjOBxnZnYBSqGSOfu \n",
      "-------------\n",
      "ITERATION: 2\n",
      "Low:  0 \n",
      "Mid:  1250 \n",
      "High: 2500\n",
      "str:  GLZRCJ \n",
      "-------------\n",
      "ITERATION: 3\n",
      "Low:  0 \n",
      "Mid:  625 \n",
      "High: 1250\n",
      "str:  DKoSaK \n",
      "-------------\n",
      "ITERATION: 4\n",
      "Low:  625 \n",
      "Mid:  937 \n",
      "High: 1250\n",
      "str:  EltarZF \n",
      "-------------\n",
      "ITERATION: 5\n",
      "Low:  937 \n",
      "Mid:  1093 \n",
      "High: 1250\n",
      "str:  FTsakV \n",
      "-------------\n",
      "ITERATION: 6\n",
      "Low:  937 \n",
      "Mid:  1015 \n",
      "High: 1093\n",
      "str:  FGzHMuRKmgINzvkMCCwo \n",
      "-------------\n",
      "ITERATION: 7\n",
      "Low:  937 \n",
      "Mid:  976 \n",
      "High: 1015\n",
      "str:  EzRFdnV \n",
      "-------------\n",
      "ITERATION: 8\n",
      "Low:  976 \n",
      "Mid:  995 \n",
      "High: 1015\n",
      "str:  FDbcN \n",
      "-------------\n",
      "ITERATION: 9\n",
      "Low:  976 \n",
      "Mid:  985 \n",
      "High: 995\n",
      "str:  FBKebFaWXIsETlEIBKrC \n",
      "-------------\n",
      "ITERATION: 10\n",
      "Low:  985 \n",
      "Mid:  990 \n",
      "High: 995\n",
      "str:  FCXXT \n",
      "-------------\n",
      "ITERATION: 11\n",
      "Low:  990 \n",
      "Mid:  992 \n",
      "High: 995\n",
      "str:  FCxvI \n",
      "-------------\n",
      "ITERATION: 12\n",
      "Low:  992 \n",
      "Mid:  993 \n",
      "High: 995\n",
      "str:  FDDJR \n",
      "-------------\n",
      "ITERATION: 13\n",
      "Low:  992 \n",
      "Mid:  992 \n",
      "High: 993\n",
      "str:  FCxvI \n",
      "-------------\n"
     ]
    }
   ],
   "source": [
    "binary_search(\"FCywHAAA\", list_string)"
   ]
  },
  {
   "cell_type": "code",
   "execution_count": 24,
   "id": "sized-classic",
   "metadata": {},
   "outputs": [
    {
     "data": {
      "text/plain": [
       "'FFjAxdhmKI'"
      ]
     },
     "execution_count": 24,
     "metadata": {},
     "output_type": "execute_result"
    }
   ],
   "source": [
    "list_string[1008]"
   ]
  },
  {
   "cell_type": "markdown",
   "id": "horizontal-store",
   "metadata": {},
   "source": [
    "## Binary Search Recursive"
   ]
  },
  {
   "cell_type": "code",
   "execution_count": 58,
   "id": "clinical-judge",
   "metadata": {},
   "outputs": [],
   "source": [
    "def binary_search_recursive(search_str, search_list, low, high):\n",
    "    if high >=low:\n",
    "        mid = (low + high) // 2\n",
    "        print(mid)\n",
    "        print(f\"Low:  {low} \\nMid:  {mid} \\nHigh: {high}\\n-------------\")\n",
    "        if search_list[mid]==search_str:\n",
    "            return mid\n",
    "        elif search_list[mid]>search_str:\n",
    "            return binary_search_recursive(search_str, search_list, low, mid-1)\n",
    "        else:\n",
    "            return binary_search_recursive(search_str, search_list, mid+1, high)\n",
    "    else:\n",
    "        return None"
   ]
  },
  {
   "cell_type": "code",
   "execution_count": 59,
   "id": "respective-amino",
   "metadata": {},
   "outputs": [
    {
     "name": "stdout",
     "output_type": "stream",
     "text": [
      "5000\n",
      "Low:  0 \n",
      "Mid:  5000 \n",
      "High: 10000\n",
      "-------------\n",
      "2499\n",
      "Low:  0 \n",
      "Mid:  2499 \n",
      "High: 4999\n",
      "-------------\n",
      "1249\n",
      "Low:  0 \n",
      "Mid:  1249 \n",
      "High: 2498\n",
      "-------------\n",
      "624\n",
      "Low:  0 \n",
      "Mid:  624 \n",
      "High: 1248\n",
      "-------------\n",
      "936\n",
      "Low:  625 \n",
      "Mid:  936 \n",
      "High: 1248\n",
      "-------------\n",
      "1092\n",
      "Low:  937 \n",
      "Mid:  1092 \n",
      "High: 1248\n",
      "-------------\n",
      "1014\n",
      "Low:  937 \n",
      "Mid:  1014 \n",
      "High: 1091\n",
      "-------------\n",
      "975\n",
      "Low:  937 \n",
      "Mid:  975 \n",
      "High: 1013\n",
      "-------------\n",
      "994\n",
      "Low:  976 \n",
      "Mid:  994 \n",
      "High: 1013\n",
      "-------------\n",
      "1004\n",
      "Low:  995 \n",
      "Mid:  1004 \n",
      "High: 1013\n",
      "-------------\n",
      "1009\n",
      "Low:  1005 \n",
      "Mid:  1009 \n",
      "High: 1013\n",
      "-------------\n",
      "1006\n",
      "Low:  1005 \n",
      "Mid:  1006 \n",
      "High: 1008\n",
      "-------------\n",
      "1007\n",
      "Low:  1007 \n",
      "Mid:  1007 \n",
      "High: 1008\n",
      "-------------\n",
      "1008\n",
      "Low:  1008 \n",
      "Mid:  1008 \n",
      "High: 1008\n",
      "-------------\n",
      "None\n"
     ]
    }
   ],
   "source": [
    "a = binary_search_recursive(\"FFjAxdhmKIa\", list_string, 0, len(list_string))\n",
    "print(a)"
   ]
  },
  {
   "cell_type": "code",
   "execution_count": 61,
   "id": "adjacent-chancellor",
   "metadata": {},
   "outputs": [
    {
     "name": "stdout",
     "output_type": "stream",
     "text": [
      "5000\n",
      "Low:  0 \n",
      "Mid:  5000 \n",
      "High: 10000\n",
      "-------------\n",
      "2499\n",
      "Low:  0 \n",
      "Mid:  2499 \n",
      "High: 4999\n",
      "-------------\n",
      "1249\n",
      "Low:  0 \n",
      "Mid:  1249 \n",
      "High: 2498\n",
      "-------------\n",
      "624\n",
      "Low:  0 \n",
      "Mid:  624 \n",
      "High: 1248\n",
      "-------------\n",
      "936\n",
      "Low:  625 \n",
      "Mid:  936 \n",
      "High: 1248\n",
      "-------------\n",
      "1092\n",
      "Low:  937 \n",
      "Mid:  1092 \n",
      "High: 1248\n",
      "-------------\n",
      "1014\n",
      "Low:  937 \n",
      "Mid:  1014 \n",
      "High: 1091\n",
      "-------------\n",
      "975\n",
      "Low:  937 \n",
      "Mid:  975 \n",
      "High: 1013\n",
      "-------------\n",
      "994\n",
      "Low:  976 \n",
      "Mid:  994 \n",
      "High: 1013\n",
      "-------------\n",
      "1004\n",
      "Low:  995 \n",
      "Mid:  1004 \n",
      "High: 1013\n",
      "-------------\n",
      "1009\n",
      "Low:  1005 \n",
      "Mid:  1009 \n",
      "High: 1013\n",
      "-------------\n",
      "1006\n",
      "Low:  1005 \n",
      "Mid:  1006 \n",
      "High: 1008\n",
      "-------------\n",
      "1007\n",
      "Low:  1007 \n",
      "Mid:  1007 \n",
      "High: 1008\n",
      "-------------\n",
      "1008\n",
      "Low:  1008 \n",
      "Mid:  1008 \n",
      "High: 1008\n",
      "-------------\n",
      "1008\n"
     ]
    }
   ],
   "source": [
    "a = binary_search_recursive(\"FFjAxdhmKI\", list_string, 0, len(list_string))\n",
    "print(a)"
   ]
  },
  {
   "cell_type": "code",
   "execution_count": null,
   "id": "indie-graham",
   "metadata": {},
   "outputs": [],
   "source": []
  }
 ],
 "metadata": {
  "kernelspec": {
   "display_name": "torch",
   "language": "python",
   "name": "torch"
  },
  "language_info": {
   "codemirror_mode": {
    "name": "ipython",
    "version": 3
   },
   "file_extension": ".py",
   "mimetype": "text/x-python",
   "name": "python",
   "nbconvert_exporter": "python",
   "pygments_lexer": "ipython3",
   "version": "3.7.2"
  }
 },
 "nbformat": 4,
 "nbformat_minor": 5
}
