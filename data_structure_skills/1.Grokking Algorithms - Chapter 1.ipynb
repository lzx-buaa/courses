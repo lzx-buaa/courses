{
 "cells": [
  {
   "cell_type": "code",
   "execution_count": 1,
   "id": "living-shield",
   "metadata": {},
   "outputs": [],
   "source": [
    "import numpy as np"
   ]
  },
  {
   "cell_type": "code",
   "execution_count": 2,
   "id": "common-meeting",
   "metadata": {},
   "outputs": [],
   "source": [
    "n = 24000"
   ]
  },
  {
   "cell_type": "code",
   "execution_count": 3,
   "id": "organizational-expense",
   "metadata": {},
   "outputs": [
    {
     "data": {
      "text/plain": [
       "14.550746785383243"
      ]
     },
     "execution_count": 3,
     "metadata": {},
     "output_type": "execute_result"
    }
   ],
   "source": [
    "np.log2(n)"
   ]
  },
  {
   "cell_type": "code",
   "execution_count": 4,
   "id": "historical-liberal",
   "metadata": {},
   "outputs": [
    {
     "data": {
      "text/plain": [
       "4.380211241711606"
      ]
     },
     "execution_count": 4,
     "metadata": {},
     "output_type": "execute_result"
    }
   ],
   "source": [
    "np.log10(n)"
   ]
  },
  {
   "cell_type": "code",
   "execution_count": 5,
   "id": "found-wednesday",
   "metadata": {},
   "outputs": [
    {
     "data": {
      "text/plain": [
       "10.085809109330082"
      ]
     },
     "execution_count": 5,
     "metadata": {},
     "output_type": "execute_result"
    }
   ],
   "source": [
    "np.log(n)"
   ]
  },
  {
   "cell_type": "code",
   "execution_count": null,
   "id": "developed-organ",
   "metadata": {},
   "outputs": [],
   "source": []
  }
 ],
 "metadata": {
  "kernelspec": {
   "display_name": "torch",
   "language": "python",
   "name": "torch"
  },
  "language_info": {
   "codemirror_mode": {
    "name": "ipython",
    "version": 3
   },
   "file_extension": ".py",
   "mimetype": "text/x-python",
   "name": "python",
   "nbconvert_exporter": "python",
   "pygments_lexer": "ipython3",
   "version": "3.7.2"
  }
 },
 "nbformat": 4,
 "nbformat_minor": 5
}
