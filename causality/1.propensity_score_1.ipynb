{
 "cells": [
  {
   "cell_type": "markdown",
   "id": "5c0fa418-cf79-4829-af69-e26c8c2eda20",
   "metadata": {},
   "source": [
    "## Source \n",
    "- [Causal Effects via Propensity Scores - Medium Shawhin Talebi](https://towardsdatascience.com/propensity-score-5c29c480130c)\n",
    "- [Part 1 - Causal Effects](https://towardsdatascience.com/causal-effects-f30f962ffff3)\n",
    "- [Part 2 - Causal Inference](https://towardsdatascience.com/causal-inference-962ae97cefda)\n",
    "- [Part 4 - Causal Discovery](https://towardsdatascience.com/causal-discovery-6858f9af6dcb)\n",
    "- [Github](https://github.com/ShawhinT/YouTube-Blog)\n",
    "\n",
    "- **Outcome** $\\rightarrow$ variable that we are interested (e.g. profit, incidence of heart disease)\n",
    "- **Treatments** $\\rightarrow$ variables we want to change to influence the outcome variable\n",
    "- **Covariates** $\\rightarrow$ everything else (features) - in clinical example, can be age, weight, height, etc\n",
    "\n",
    "- Ways to obtain data:\n",
    "    1. Observational study $\\rightarrow$ passively measuring a system without any intervention\n",
    "    2. Interventional study $\\rightarrow$ influence on data generation process for a particular goal (including randomized controlled trials - RCTs)\n",
    "\n",
    "- Compute effect from observational data - using propensity score\n",
    "- Subjects with similar propensity score have similar baseline covariates\n",
    "- Popular propensity score techniques:\n",
    "    - Matching\n",
    "    - Stratification\n",
    "    - Inverse Propability of Treatment Weighting (IPTW)\n",
    "- Very difficult to compute unbiased causal effects from observational data\n",
    "\n",
    "\n",
    "## Propensity Score\n",
    "- Estimates probability a subject receives a particular treatment based on other characteristics (i.e. covariates) - treatment and control group covariates looks similar\n",
    "- Most popular way to generate propensity score is via **logistic regression**\n",
    "\n",
    "<img src=https://miro.medium.com/max/700/1*G5RHbRZCzK9yUW_Ni7Sj7g.png width=\"700\">\n",
    "\n",
    "<img src=https://miro.medium.com/max/1400/1*uM3W3HNBArG1nuXXSZW1zg.png width=\"700\">\n",
    "\n",
    "With Propensity Score in hand, there are 3 ways to estimate causal effects:\n",
    "\n",
    "### 1. Matching\n",
    "\n",
    "- create pairs of treated-untreated pairs with similar propensity score\n",
    "\n",
    "<img src=https://miro.medium.com/max/1400/1*K480UhgiFpwuygzYAM_DJQ.png width=\"500\">\n",
    "\n",
    "\n",
    "### 2. Stratification\n",
    "\n",
    "- split subjects into groups with similar propensity scores\n",
    "\n",
    "<img src=https://miro.medium.com/max/1400/1*LCRvlPP1VQkK29rOm2Lghg.png width=\"500\">\n",
    "\n",
    "\n",
    "### 3. Inverse Propability of Treatment Weighting (IPTW)\n",
    "\n",
    "- Different from other methods, before we used PS to derive subject groups\n",
    "- In IPTW, use PS to derive _**weights**_ for each subject which are then used to compute treatment effects directly\n",
    "\n",
    "<img src=https://miro.medium.com/max/1400/1*WTKiqp0VpPUWSLT9Jhw5sQ.png width=\"500\">\n",
    "\n",
    "<img src=https://miro.medium.com/max/1400/1*scMiqY765Pi-Echdqlvysg.png width=\"700\">\n",
    "\n"
   ]
  },
  {
   "cell_type": "code",
   "execution_count": 1,
   "id": "f4b28359-e37c-4b0b-b88a-83edca03836d",
   "metadata": {},
   "outputs": [],
   "source": [
    "import pickle"
   ]
  },
  {
   "cell_type": "code",
   "execution_count": 2,
   "id": "65d838a3-3cd4-487b-83db-8ca7ff8a6676",
   "metadata": {},
   "outputs": [],
   "source": [
    "import dowhy\n",
    "from dowhy import CausalModel\n",
    "import numpy as np"
   ]
  },
  {
   "cell_type": "code",
   "execution_count": 5,
   "id": "76f7fc88-cd3b-480e-bc02-4bc8c2708ab5",
   "metadata": {},
   "outputs": [
    {
     "data": {
      "text/html": [
       "<div>\n",
       "<style scoped>\n",
       "    .dataframe tbody tr th:only-of-type {\n",
       "        vertical-align: middle;\n",
       "    }\n",
       "\n",
       "    .dataframe tbody tr th {\n",
       "        vertical-align: top;\n",
       "    }\n",
       "\n",
       "    .dataframe thead th {\n",
       "        text-align: right;\n",
       "    }\n",
       "</style>\n",
       "<table border=\"1\" class=\"dataframe\">\n",
       "  <thead>\n",
       "    <tr style=\"text-align: right;\">\n",
       "      <th></th>\n",
       "      <th>age</th>\n",
       "      <th>hours-per-week</th>\n",
       "      <th>hasGraduateDegree</th>\n",
       "      <th>inRelationship</th>\n",
       "      <th>isWhite</th>\n",
       "      <th>isFemale</th>\n",
       "      <th>greaterThan50k</th>\n",
       "    </tr>\n",
       "  </thead>\n",
       "  <tbody>\n",
       "    <tr>\n",
       "      <th>0</th>\n",
       "      <td>39</td>\n",
       "      <td>40</td>\n",
       "      <td>0</td>\n",
       "      <td>0</td>\n",
       "      <td>1</td>\n",
       "      <td>0</td>\n",
       "      <td>0</td>\n",
       "    </tr>\n",
       "    <tr>\n",
       "      <th>1</th>\n",
       "      <td>50</td>\n",
       "      <td>13</td>\n",
       "      <td>0</td>\n",
       "      <td>1</td>\n",
       "      <td>1</td>\n",
       "      <td>0</td>\n",
       "      <td>0</td>\n",
       "    </tr>\n",
       "    <tr>\n",
       "      <th>2</th>\n",
       "      <td>38</td>\n",
       "      <td>40</td>\n",
       "      <td>0</td>\n",
       "      <td>0</td>\n",
       "      <td>1</td>\n",
       "      <td>0</td>\n",
       "      <td>0</td>\n",
       "    </tr>\n",
       "    <tr>\n",
       "      <th>3</th>\n",
       "      <td>53</td>\n",
       "      <td>40</td>\n",
       "      <td>0</td>\n",
       "      <td>1</td>\n",
       "      <td>0</td>\n",
       "      <td>0</td>\n",
       "      <td>0</td>\n",
       "    </tr>\n",
       "    <tr>\n",
       "      <th>5</th>\n",
       "      <td>37</td>\n",
       "      <td>40</td>\n",
       "      <td>1</td>\n",
       "      <td>0</td>\n",
       "      <td>1</td>\n",
       "      <td>1</td>\n",
       "      <td>0</td>\n",
       "    </tr>\n",
       "    <tr>\n",
       "      <th>...</th>\n",
       "      <td>...</td>\n",
       "      <td>...</td>\n",
       "      <td>...</td>\n",
       "      <td>...</td>\n",
       "      <td>...</td>\n",
       "      <td>...</td>\n",
       "      <td>...</td>\n",
       "    </tr>\n",
       "    <tr>\n",
       "      <th>32556</th>\n",
       "      <td>27</td>\n",
       "      <td>38</td>\n",
       "      <td>0</td>\n",
       "      <td>0</td>\n",
       "      <td>1</td>\n",
       "      <td>1</td>\n",
       "      <td>0</td>\n",
       "    </tr>\n",
       "    <tr>\n",
       "      <th>32557</th>\n",
       "      <td>40</td>\n",
       "      <td>40</td>\n",
       "      <td>0</td>\n",
       "      <td>1</td>\n",
       "      <td>1</td>\n",
       "      <td>0</td>\n",
       "      <td>1</td>\n",
       "    </tr>\n",
       "    <tr>\n",
       "      <th>32558</th>\n",
       "      <td>58</td>\n",
       "      <td>40</td>\n",
       "      <td>0</td>\n",
       "      <td>0</td>\n",
       "      <td>1</td>\n",
       "      <td>1</td>\n",
       "      <td>0</td>\n",
       "    </tr>\n",
       "    <tr>\n",
       "      <th>32559</th>\n",
       "      <td>22</td>\n",
       "      <td>20</td>\n",
       "      <td>0</td>\n",
       "      <td>0</td>\n",
       "      <td>1</td>\n",
       "      <td>0</td>\n",
       "      <td>0</td>\n",
       "    </tr>\n",
       "    <tr>\n",
       "      <th>32560</th>\n",
       "      <td>52</td>\n",
       "      <td>40</td>\n",
       "      <td>0</td>\n",
       "      <td>0</td>\n",
       "      <td>1</td>\n",
       "      <td>1</td>\n",
       "      <td>1</td>\n",
       "    </tr>\n",
       "  </tbody>\n",
       "</table>\n",
       "<p>29170 rows × 7 columns</p>\n",
       "</div>"
      ],
      "text/plain": [
       "       age  hours-per-week  hasGraduateDegree  inRelationship  isWhite  \\\n",
       "0       39              40                  0               0        1   \n",
       "1       50              13                  0               1        1   \n",
       "2       38              40                  0               0        1   \n",
       "3       53              40                  0               1        0   \n",
       "5       37              40                  1               0        1   \n",
       "...    ...             ...                ...             ...      ...   \n",
       "32556   27              38                  0               0        1   \n",
       "32557   40              40                  0               1        1   \n",
       "32558   58              40                  0               0        1   \n",
       "32559   22              20                  0               0        1   \n",
       "32560   52              40                  0               0        1   \n",
       "\n",
       "       isFemale  greaterThan50k  \n",
       "0             0               0  \n",
       "1             0               0  \n",
       "2             0               0  \n",
       "3             0               0  \n",
       "5             1               0  \n",
       "...         ...             ...  \n",
       "32556         1               0  \n",
       "32557         0               1  \n",
       "32558         1               0  \n",
       "32559         0               0  \n",
       "32560         1               1  \n",
       "\n",
       "[29170 rows x 7 columns]"
      ]
     },
     "execution_count": 5,
     "metadata": {},
     "output_type": "execute_result"
    }
   ],
   "source": [
    "df = pickle.load( open( \"data/df_propensity_score.p\", \"rb\" ) )\n",
    "df"
   ]
  },
  {
   "cell_type": "code",
   "execution_count": 6,
   "id": "605c7bc0-eefc-4428-a3fe-8ed0d6d1809a",
   "metadata": {},
   "outputs": [
    {
     "data": {
      "image/png": "[encoded data removed]",
      "text/plain": [
       "<Figure size 576x432 with 1 Axes>"
      ]
     },
     "metadata": {},
     "output_type": "display_data"
    }
   ],
   "source": [
    "model=CausalModel(\n",
    "        data = df,\n",
    "        treatment= \"hasGraduateDegree\",\n",
    "        outcome= \"greaterThan50k\",\n",
    "        common_causes=\"age\",\n",
    "        )\n",
    "model.view_model()"
   ]
  },
  {
   "cell_type": "code",
   "execution_count": 8,
   "id": "f59db064-664a-4766-87ea-3f13c6beff3d",
   "metadata": {},
   "outputs": [
    {
     "data": {
      "text/plain": [
       "<dowhy.causal_identifier.IdentifiedEstimand at 0x136a209d0>"
      ]
     },
     "execution_count": 8,
     "metadata": {},
     "output_type": "execute_result"
    }
   ],
   "source": [
    "identified_estimand_experiment = model.identify_effect(proceed_when_unidentifiable=True)\n",
    "identified_estimand_experiment"
   ]
  },
  {
   "cell_type": "code",
   "execution_count": 9,
   "id": "e16ea465-b8ed-4eb1-a2fa-2395237a6c13",
   "metadata": {},
   "outputs": [
    {
     "data": {
      "text/plain": [
       "'nonparametric-ate'"
      ]
     },
     "execution_count": 9,
     "metadata": {},
     "output_type": "execute_result"
    }
   ],
   "source": [
    "identified_estimand_experiment.estimand_type"
   ]
  },
  {
   "cell_type": "code",
   "execution_count": 10,
   "id": "36a4ce96-3338-497f-95b6-ac3e2269093a",
   "metadata": {},
   "outputs": [],
   "source": [
    "ps_method_name_list = [\"matching\", \"stratification\", \"weighting\"]"
   ]
  },
  {
   "cell_type": "code",
   "execution_count": 11,
   "id": "2774bd1a-8094-40be-8e0c-8cef8b4aaad3",
   "metadata": {},
   "outputs": [
    {
     "name": "stdout",
     "output_type": "stream",
     "text": [
      "propensity_score_matching\n"
     ]
    },
    {
     "name": "stderr",
     "output_type": "stream",
     "text": [
      "/Users/esirsilvei/.pyenv/versions/torch/lib/python3.10/site-packages/sklearn/utils/validation.py:1111: DataConversionWarning: A column-vector y was passed when a 1d array was expected. Please change the shape of y to (n_samples, ), for example using ravel().\n",
      "  y = column_or_1d(y, warn=True)\n"
     ]
    },
    {
     "name": "stdout",
     "output_type": "stream",
     "text": [
      "*** Causal Estimate ***\n",
      "\n",
      "## Identified estimand\n",
      "Estimand type: nonparametric-ate\n",
      "\n",
      "### Estimand : 1\n",
      "Estimand name: backdoor\n",
      "Estimand expression:\n",
      "         d                                 \n",
      "────────────────────(E[greaterThan50k|age])\n",
      "d[hasGraduateDegree]                       \n",
      "Estimand assumption 1, Unconfoundedness: If U→{hasGraduateDegree} and U→greaterThan50k then P(greaterThan50k|hasGraduateDegree,age,U) = P(greaterThan50k|hasGraduateDegree,age)\n",
      "\n",
      "## Realized estimand\n",
      "b: greaterThan50k~hasGraduateDegree+age\n",
      "Target units: ate\n",
      "\n",
      "## Estimate\n",
      "Mean value: 0.13596160438806992\n",
      "\n",
      "\n",
      "\n",
      "propensity_score_stratification\n"
     ]
    },
    {
     "name": "stderr",
     "output_type": "stream",
     "text": [
      "/Users/esirsilvei/.pyenv/versions/torch/lib/python3.10/site-packages/sklearn/utils/validation.py:1111: DataConversionWarning: A column-vector y was passed when a 1d array was expected. Please change the shape of y to (n_samples, ), for example using ravel().\n",
      "  y = column_or_1d(y, warn=True)\n"
     ]
    },
    {
     "name": "stdout",
     "output_type": "stream",
     "text": [
      "*** Causal Estimate ***\n",
      "\n",
      "## Identified estimand\n",
      "Estimand type: nonparametric-ate\n",
      "\n",
      "### Estimand : 1\n",
      "Estimand name: backdoor\n",
      "Estimand expression:\n",
      "         d                                 \n",
      "────────────────────(E[greaterThan50k|age])\n",
      "d[hasGraduateDegree]                       \n",
      "Estimand assumption 1, Unconfoundedness: If U→{hasGraduateDegree} and U→greaterThan50k then P(greaterThan50k|hasGraduateDegree,age,U) = P(greaterThan50k|hasGraduateDegree,age)\n",
      "\n",
      "## Realized estimand\n",
      "b: greaterThan50k~hasGraduateDegree+age\n",
      "Target units: ate\n",
      "\n",
      "## Estimate\n",
      "Mean value: 0.2500672088597893\n",
      "\n",
      "\n",
      "\n",
      "propensity_score_weighting\n",
      "*** Causal Estimate ***\n",
      "\n",
      "## Identified estimand\n",
      "Estimand type: nonparametric-ate\n",
      "\n",
      "### Estimand : 1\n",
      "Estimand name: backdoor\n",
      "Estimand expression:\n",
      "         d                                 \n",
      "────────────────────(E[greaterThan50k|age])\n",
      "d[hasGraduateDegree]                       \n",
      "Estimand assumption 1, Unconfoundedness: If U→{hasGraduateDegree} and U→greaterThan50k then P(greaterThan50k|hasGraduateDegree,age,U) = P(greaterThan50k|hasGraduateDegree,age)\n",
      "\n",
      "## Realized estimand\n",
      "b: greaterThan50k~hasGraduateDegree+age\n",
      "Target units: ate\n",
      "\n",
      "## Estimate\n",
      "Mean value: 0.3312402065909217\n",
      "\n",
      "\n",
      "\n"
     ]
    },
    {
     "name": "stderr",
     "output_type": "stream",
     "text": [
      "/Users/esirsilvei/.pyenv/versions/torch/lib/python3.10/site-packages/sklearn/utils/validation.py:1111: DataConversionWarning: A column-vector y was passed when a 1d array was expected. Please change the shape of y to (n_samples, ), for example using ravel().\n",
      "  y = column_or_1d(y, warn=True)\n"
     ]
    }
   ],
   "source": [
    "ps_estimate_dict = {}\n",
    "ps_estimate_val_list = []\n",
    "# estimate effect for each method\n",
    "for ps_method_name in ps_method_name_list:\n",
    "    ps_estimate =  model.estimate_effect(identified_estimand_experiment,\n",
    "                                    method_name=\"backdoor.propensity_score_\" + ps_method_name,\n",
    "                                    confidence_intervals=False,\n",
    "                                    method_params={})\n",
    "    # add estimate to dict and ATE to list\n",
    "    ps_estimate_dict[ps_method_name] = ps_estimate\n",
    "    ps_estimate_val_list.append(ps_estimate.value)\n",
    "    \n",
    "    print(ps_estimate)\n",
    "    print(\"\\n\")"
   ]
  },
  {
   "cell_type": "code",
   "execution_count": null,
   "id": "74e37aae-5186-45ed-91ad-5d329adc3166",
   "metadata": {},
   "outputs": [],
   "source": []
  }
 ],
 "metadata": {
  "kernelspec": {
   "display_name": "torch",
   "language": "python",
   "name": "torch"
  },
  "language_info": {
   "codemirror_mode": {
    "name": "ipython",
    "version": 3
   },
   "file_extension": ".py",
   "mimetype": "text/x-python",
   "name": "python",
   "nbconvert_exporter": "python",
   "pygments_lexer": "ipython3",
   "version": "3.10.4"
  }
 },
 "nbformat": 4,
 "nbformat_minor": 5
}
