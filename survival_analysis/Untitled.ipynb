{
 "cells": [
  {
   "cell_type": "markdown",
   "id": "7b8190e7-b24d-4dc4-9f62-d330d95e17ac",
   "metadata": {},
   "source": [
    "### Review Paper - `An Introduction to Event History Analysis`\n",
    "\n",
    " -Oxford Spring School - [Link to Paper](https://spia.uga.edu/faculty_pages/rbakker/pols8501/OxfordOneNotes.pdf)"
   ]
  },
  {
   "cell_type": "code",
   "execution_count": null,
   "id": "1193d594-0ef4-4384-b0b6-b39db0845cb3",
   "metadata": {},
   "outputs": [],
   "source": []
  }
 ],
 "metadata": {
  "kernelspec": {
   "display_name": "torch",
   "language": "python",
   "name": "torch"
  },
  "language_info": {
   "codemirror_mode": {
    "name": "ipython",
    "version": 3
   },
   "file_extension": ".py",
   "mimetype": "text/x-python",
   "name": "python",
   "nbconvert_exporter": "python",
   "pygments_lexer": "ipython3",
   "version": "3.10.4"
  }
 },
 "nbformat": 4,
 "nbformat_minor": 5
}
