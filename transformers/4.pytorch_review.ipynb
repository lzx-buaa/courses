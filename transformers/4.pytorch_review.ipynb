{
 "cells": [
  {
   "cell_type": "code",
   "execution_count": 1,
   "id": "synthetic-christianity",
   "metadata": {},
   "outputs": [],
   "source": [
    "import torch.nn as nn\n",
    "import torch\n",
    "import torch.nn.functional as F"
   ]
  },
  {
   "cell_type": "code",
   "execution_count": 2,
   "id": "square-tablet",
   "metadata": {},
   "outputs": [],
   "source": [
    "m = torch.randn(16,10,10)"
   ]
  },
  {
   "cell_type": "code",
   "execution_count": 9,
   "id": "specified-luxembourg",
   "metadata": {},
   "outputs": [
    {
     "data": {
      "text/plain": [
       "torch.Size([10, 10])"
      ]
     },
     "execution_count": 9,
     "metadata": {},
     "output_type": "execute_result"
    }
   ],
   "source": [
    "m.shape"
   ]
  },
  {
   "cell_type": "code",
   "execution_count": 10,
   "id": "heard-transcription",
   "metadata": {},
   "outputs": [
    {
     "data": {
      "text/plain": [
       "tensor([[ 3.1447e-02,  3.2668e-01, -1.7085e+00, -5.4144e-01, -4.4171e-01,\n",
       "         -2.7244e+00,  1.9379e+00,  1.9653e-01,  9.2765e-01, -9.1062e-01],\n",
       "        [ 7.2113e-01,  1.2584e-01,  1.3145e+00, -4.4236e-01,  6.0245e-01,\n",
       "         -7.2190e-01,  2.0908e+00, -6.5826e-01,  1.8812e+00,  5.3028e-01],\n",
       "        [-9.8089e-01, -1.9077e-02, -2.2262e-01, -1.5045e+00,  2.4048e-01,\n",
       "         -7.5032e-01, -5.8930e-02,  1.2326e+00,  2.6630e-01,  2.7602e+00],\n",
       "        [ 2.1198e-01,  6.0433e-01, -2.0433e-02, -1.1413e+00,  3.1655e-01,\n",
       "         -2.0304e+00,  1.3585e+00, -9.3737e-01, -1.1473e+00, -2.7243e-01],\n",
       "        [-1.1220e+00,  4.6036e-01, -7.9252e-01, -2.1815e+00, -5.2034e-01,\n",
       "         -3.1954e-01, -1.8479e-01,  7.8500e-01,  5.8837e-01,  4.2441e-01],\n",
       "        [-1.3408e+00, -9.0267e-01, -8.7640e-01,  2.0388e-01, -5.8022e-01,\n",
       "         -4.6303e-01, -6.2919e-04, -6.8968e-02,  1.5976e-01,  9.4712e-01],\n",
       "        [-1.0584e+00,  7.2376e-01, -4.4445e-01,  3.1836e-01,  6.2859e-01,\n",
       "         -1.7672e+00,  1.9939e-01, -3.7285e-01, -1.5313e-01, -6.8000e-01],\n",
       "        [ 1.1033e+00, -3.1687e-01, -1.5950e+00,  8.8517e-03,  1.4897e+00,\n",
       "         -2.4264e+00,  1.0153e+00,  2.9088e-01, -8.3108e-02,  9.1434e-01],\n",
       "        [-1.9381e-01,  5.1131e-01,  1.2062e+00,  1.2189e+00,  4.5821e-01,\n",
       "         -1.3330e+00, -9.4081e-01,  3.4112e-01,  2.5545e-01, -4.1229e-01],\n",
       "        [ 1.9503e-01,  2.9245e-01, -3.7854e-01,  1.6349e+00,  3.8230e-01,\n",
       "         -5.3119e-01, -1.5083e+00,  2.1114e+00,  1.3587e-01,  1.9853e-02]])"
      ]
     },
     "execution_count": 10,
     "metadata": {},
     "output_type": "execute_result"
    }
   ],
   "source": [
    "m = torch.randn(10,10)\n",
    "m"
   ]
  },
  {
   "cell_type": "code",
   "execution_count": 11,
   "id": "altered-excerpt",
   "metadata": {},
   "outputs": [
    {
     "data": {
      "text/plain": [
       "torch.return_types.eig(\n",
       "eigenvalues=tensor([[ 1.9819,  2.4940],\n",
       "        [ 1.9819, -2.4940],\n",
       "        [ 2.8347,  0.0000],\n",
       "        [-3.0739,  0.8954],\n",
       "        [-3.0739, -0.8954],\n",
       "        [-1.2038,  2.0603],\n",
       "        [-1.2038, -2.0603],\n",
       "        [ 0.2939,  0.6124],\n",
       "        [ 0.2939, -0.6124],\n",
       "        [-0.2552,  0.0000]]),\n",
       "eigenvectors=tensor([]))"
      ]
     },
     "execution_count": 11,
     "metadata": {},
     "output_type": "execute_result"
    }
   ],
   "source": [
    "torch.eig(m)"
   ]
  },
  {
   "cell_type": "code",
   "execution_count": 13,
   "id": "consecutive-latex",
   "metadata": {},
   "outputs": [
    {
     "data": {
      "text/plain": [
       "tensor(0.5130)"
      ]
     },
     "execution_count": 13,
     "metadata": {},
     "output_type": "execute_result"
    }
   ],
   "source": [
    "torch.rand(10,10).mean()"
   ]
  },
  {
   "cell_type": "code",
   "execution_count": 15,
   "id": "utility-nicholas",
   "metadata": {},
   "outputs": [
    {
     "data": {
      "text/plain": [
       "tensor([[-4.8176e-02,  7.6771e-01, -1.6432e+00, -1.9178e-01,  8.5711e-01,\n",
       "          1.2240e+00, -1.5911e-01,  1.9872e-01,  9.1373e-01, -8.7305e-01],\n",
       "        [-9.8386e-02,  1.2465e+00,  6.5991e-01, -2.5145e-01,  7.4687e-01,\n",
       "         -2.1940e-01, -1.1304e+00, -9.3520e-01, -1.5594e+00, -1.5585e+00],\n",
       "        [ 3.5543e-01,  1.1585e+00, -1.0377e+00,  1.8529e+00,  6.5053e-01,\n",
       "         -2.1278e+00, -1.1634e+00,  1.4021e+00,  6.7093e-01, -5.3817e-01],\n",
       "        [-5.7099e-01,  8.2360e-02, -1.3845e+00, -3.0416e-01, -7.1347e-01,\n",
       "         -4.2155e-01,  9.1945e-01, -2.3024e+00, -3.2827e-02,  8.8343e-01],\n",
       "        [-1.7183e+00,  1.9819e+00, -9.2287e-02, -7.2772e-01,  4.2364e-02,\n",
       "         -1.0414e+00,  4.9867e-01,  1.3450e+00, -4.2339e-02,  4.9512e-01],\n",
       "        [ 1.2654e+00,  4.6807e-02,  2.8336e-01,  1.8065e+00,  9.8196e-01,\n",
       "         -1.1619e+00,  1.1469e+00, -9.9717e-01,  1.2640e-01,  5.0108e-01],\n",
       "        [-1.4556e+00,  1.2922e+00,  1.9016e+00,  3.5858e-02, -1.0105e-01,\n",
       "         -8.2714e-01,  6.2036e-01, -1.8875e-01, -1.1738e+00, -5.3133e-01],\n",
       "        [ 2.0693e-03,  2.7801e-01, -5.8048e-01, -1.8598e-01, -8.7174e-02,\n",
       "          6.7652e-01,  1.1707e+00, -8.7698e-01,  1.0225e+00,  6.7517e-01],\n",
       "        [-6.4204e-01, -8.9796e-01, -4.8466e-01,  1.7268e+00, -3.0635e-01,\n",
       "         -1.0174e+00,  1.1389e+00,  9.6052e-01,  6.7397e-02, -1.6904e-01],\n",
       "        [ 1.1483e+00,  8.2416e-01,  3.0820e-01,  3.3330e-01,  3.2093e-01,\n",
       "          4.1457e-02,  1.1030e+00, -1.6929e+00, -3.8413e-02, -1.9739e-01]])"
      ]
     },
     "execution_count": 15,
     "metadata": {},
     "output_type": "execute_result"
    }
   ],
   "source": [
    "torch.randn(10,10)"
   ]
  },
  {
   "cell_type": "code",
   "execution_count": 31,
   "id": "affiliated-metadata",
   "metadata": {},
   "outputs": [
    {
     "data": {
      "text/plain": [
       "tensor([[36, 40, 32],\n",
       "        [-1, 37, 26],\n",
       "        [35, -2, -5]])"
      ]
     },
     "execution_count": 31,
     "metadata": {},
     "output_type": "execute_result"
    }
   ],
   "source": [
    "torch.randint(low=-5, high=50, size=(3,3))"
   ]
  },
  {
   "cell_type": "code",
   "execution_count": 32,
   "id": "scheduled-health",
   "metadata": {},
   "outputs": [
    {
     "data": {
      "text/plain": [
       "tensor([3, 9, 5, 7, 8, 6, 0, 1, 4, 2])"
      ]
     },
     "execution_count": 32,
     "metadata": {},
     "output_type": "execute_result"
    }
   ],
   "source": [
    "torch.randperm(10)"
   ]
  },
  {
   "cell_type": "code",
   "execution_count": 33,
   "id": "sought-tunnel",
   "metadata": {},
   "outputs": [
    {
     "data": {
      "text/plain": [
       "tensor([3, 0, 4, 1, 2])"
      ]
     },
     "execution_count": 33,
     "metadata": {},
     "output_type": "execute_result"
    }
   ],
   "source": [
    "torch.randperm(5)"
   ]
  },
  {
   "cell_type": "code",
   "execution_count": 34,
   "id": "moderate-frank",
   "metadata": {},
   "outputs": [
    {
     "data": {
      "text/plain": [
       "tensor([5, 3, 2, 6, 1, 7, 4, 8, 0, 9])"
      ]
     },
     "execution_count": 34,
     "metadata": {},
     "output_type": "execute_result"
    }
   ],
   "source": [
    "torch.randperm(10)"
   ]
  },
  {
   "cell_type": "code",
   "execution_count": null,
   "id": "liked-collapse",
   "metadata": {},
   "outputs": [],
   "source": []
  }
 ],
 "metadata": {
  "kernelspec": {
   "display_name": "torch",
   "language": "python",
   "name": "torch"
  },
  "language_info": {
   "codemirror_mode": {
    "name": "ipython",
    "version": 3
   },
   "file_extension": ".py",
   "mimetype": "text/x-python",
   "name": "python",
   "nbconvert_exporter": "python",
   "pygments_lexer": "ipython3",
   "version": "3.7.2"
  }
 },
 "nbformat": 4,
 "nbformat_minor": 5
}
