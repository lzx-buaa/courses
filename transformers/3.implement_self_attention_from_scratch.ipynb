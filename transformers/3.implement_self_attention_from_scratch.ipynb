{
 "cells": [
  {
   "cell_type": "code",
   "execution_count": 1,
   "id": "cheap-google",
   "metadata": {},
   "outputs": [],
   "source": [
    "import torch\n",
    "import torch.nn as nn\n",
    "import torch.nn.functional as F\n",
    "import numpy as np\n",
    "from matplotlib.pyplot import imshow"
   ]
  },
  {
   "cell_type": "code",
   "execution_count": 23,
   "id": "judicial-scout",
   "metadata": {},
   "outputs": [
    {
     "data": {
      "text/plain": [
       "('1.19.5', '1.7.1')"
      ]
     },
     "execution_count": 23,
     "metadata": {},
     "output_type": "execute_result"
    }
   ],
   "source": [
    "np.__version__, torch.__version__"
   ]
  },
  {
   "cell_type": "code",
   "execution_count": 2,
   "id": "juvenile-scenario",
   "metadata": {},
   "outputs": [],
   "source": [
    "EMBED_SIZE = 50\n",
    "SEQ_LENGHT = 20\n",
    "BATCH_SIZE = 16"
   ]
  },
  {
   "cell_type": "code",
   "execution_count": 3,
   "id": "sonic-range",
   "metadata": {},
   "outputs": [
    {
     "data": {
      "text/plain": [
       "torch.Size([16, 20, 50])"
      ]
     },
     "execution_count": 3,
     "metadata": {},
     "output_type": "execute_result"
    }
   ],
   "source": [
    "x = torch.rand(BATCH_SIZE, SEQ_LENGHT, EMBED_SIZE)\n",
    "x.shape"
   ]
  },
  {
   "cell_type": "code",
   "execution_count": 4,
   "id": "looking-handle",
   "metadata": {},
   "outputs": [],
   "source": [
    "class SelfAttention(nn.Module):\n",
    "    def __init__(self, seq_lenght, embed_dim, batch_size):\n",
    "        super().__init__()\n",
    "        self.seq = seq_lenght\n",
    "        self.embed = embed_dim\n",
    "        self.batch = batch_size\n",
    "        self.transform_q = nn.Linear(self.embed, self.embed)\n",
    "        self.transform_k = nn.Linear(self.embed, self.embed)\n",
    "        self.transform_v = nn.Linear(self.embed, self.embed)\n",
    "        return None\n",
    "    def forward(self, x):\n",
    "        b, s, e = x.size()\n",
    "        q = self.transform_q(x)\n",
    "        k = self.transform_q(x)\n",
    "        v = self.transform_q(x)\n",
    "        out, w = self.scaled_dot_attention(q,k,v)\n",
    "        return out, w.detach().numpy()\n",
    "    def scaled_dot_attention(self, q,k,v):\n",
    "        raw_w = torch.bmm(q, k.transpose(1,2))\n",
    "        raw_w = raw_w / np.sqrt(self.embed)\n",
    "        w = F.softmax(raw_w, dim=2)\n",
    "        out = torch.bmm(w,v)\n",
    "        return out, w"
   ]
  },
  {
   "cell_type": "code",
   "execution_count": null,
   "id": "jewish-vinyl",
   "metadata": {},
   "outputs": [],
   "source": [
    "$$\n",
    "w_{ij} = Softmax(\\frac{Q_{i}^T \\; K_{j}}{\\sqrt k})\n",
    "$$"
   ]
  },
  {
   "cell_type": "markdown",
   "id": "young-syndicate",
   "metadata": {},
   "source": [
    "$$\n",
    "w_{ij} = Softmax(\\frac{Q_{i}^T \\; K_{j}}{\\sqrt k})\n",
    "$$"
   ]
  },
  {
   "cell_type": "code",
   "execution_count": 5,
   "id": "happy-fiber",
   "metadata": {},
   "outputs": [],
   "source": [
    "attn = SelfAttention(SEQ_LENGHT, EMBED_SIZE, BATCH_SIZE)"
   ]
  },
  {
   "cell_type": "code",
   "execution_count": 6,
   "id": "younger-bathroom",
   "metadata": {},
   "outputs": [],
   "source": [
    "o, w = attn(x)"
   ]
  },
  {
   "cell_type": "code",
   "execution_count": 7,
   "id": "formal-third",
   "metadata": {},
   "outputs": [
    {
     "data": {
      "text/plain": [
       "(torch.Size([16, 20, 50]), (16, 20, 20))"
      ]
     },
     "execution_count": 7,
     "metadata": {},
     "output_type": "execute_result"
    }
   ],
   "source": [
    "o.shape, w.shape"
   ]
  },
  {
   "cell_type": "code",
   "execution_count": 8,
   "id": "prompt-chest",
   "metadata": {},
   "outputs": [
    {
     "data": {
      "text/plain": [
       "<matplotlib.image.AxesImage at 0x117247ef0>"
      ]
     },
     "execution_count": 8,
     "metadata": {},
     "output_type": "execute_result"
    },
    {
     "data": {
      "image/png": "[encoded data removed]",
      "text/plain": [
       "<Figure size 432x288 with 1 Axes>"
      ]
     },
     "metadata": {
      "needs_background": "light"
     },
     "output_type": "display_data"
    }
   ],
   "source": [
    "imshow(w[0])"
   ]
  },
  {
   "cell_type": "code",
   "execution_count": 9,
   "id": "anonymous-statistics",
   "metadata": {},
   "outputs": [
    {
     "data": {
      "text/plain": [
       "<matplotlib.image.AxesImage at 0x11733e080>"
      ]
     },
     "execution_count": 9,
     "metadata": {},
     "output_type": "execute_result"
    },
    {
     "data": {
      "image/png": "[encoded data removed]",
      "text/plain": [
       "<Figure size 432x288 with 1 Axes>"
      ]
     },
     "metadata": {
      "needs_background": "light"
     },
     "output_type": "display_data"
    }
   ],
   "source": [
    "imshow(w[1])"
   ]
  },
  {
   "cell_type": "code",
   "execution_count": 10,
   "id": "congressional-costume",
   "metadata": {},
   "outputs": [
    {
     "data": {
      "text/plain": [
       "<matplotlib.image.AxesImage at 0x11739e9e8>"
      ]
     },
     "execution_count": 10,
     "metadata": {},
     "output_type": "execute_result"
    },
    {
     "data": {
      "image/png": "[encoded data removed]",
      "text/plain": [
       "<Figure size 432x288 with 1 Axes>"
      ]
     },
     "metadata": {
      "needs_background": "light"
     },
     "output_type": "display_data"
    }
   ],
   "source": [
    "imshow(w[2])"
   ]
  },
  {
   "cell_type": "markdown",
   "id": "matched-segment",
   "metadata": {},
   "source": [
    "## Pure Self Attention"
   ]
  },
  {
   "cell_type": "code",
   "execution_count": 11,
   "id": "mathematical-burns",
   "metadata": {},
   "outputs": [],
   "source": [
    "def self_attn(x):\n",
    "    b, h, e = x.size()\n",
    "    raw_w = torch.bmm(x, x.transpose(1,2))\n",
    "    w = F.softmax(raw_w, dim=2)\n",
    "    y = torch.bmm(w, x)\n",
    "    return y, w"
   ]
  },
  {
   "cell_type": "code",
   "execution_count": 12,
   "id": "modified-jimmy",
   "metadata": {},
   "outputs": [],
   "source": [
    "def scaled_self_attn(x):\n",
    "    b, h, e = x.size()\n",
    "    raw_w = torch.bmm(x, x.transpose(1,2))\n",
    "    raw_w = raw_w / np.sqrt(e)\n",
    "    w = F.softmax(raw_w, dim=2)\n",
    "    y = torch.bmm(w, x)\n",
    "    return y, w"
   ]
  },
  {
   "cell_type": "code",
   "execution_count": 13,
   "id": "incredible-injury",
   "metadata": {},
   "outputs": [
    {
     "data": {
      "text/plain": [
       "torch.Size([16, 20, 50])"
      ]
     },
     "execution_count": 13,
     "metadata": {},
     "output_type": "execute_result"
    }
   ],
   "source": [
    "x.shape"
   ]
  },
  {
   "cell_type": "code",
   "execution_count": 14,
   "id": "engaging-philippines",
   "metadata": {},
   "outputs": [],
   "source": [
    "o, w = scaled_self_attn(x)"
   ]
  },
  {
   "cell_type": "code",
   "execution_count": 15,
   "id": "continent-berlin",
   "metadata": {},
   "outputs": [
    {
     "data": {
      "text/plain": [
       "<matplotlib.image.AxesImage at 0x1172a63c8>"
      ]
     },
     "execution_count": 15,
     "metadata": {},
     "output_type": "execute_result"
    },
    {
     "data": {
      "image/png": "[encoded data removed]",
      "text/plain": [
       "<Figure size 432x288 with 1 Axes>"
      ]
     },
     "metadata": {
      "needs_background": "light"
     },
     "output_type": "display_data"
    }
   ],
   "source": [
    "imshow(w[0])"
   ]
  },
  {
   "cell_type": "code",
   "execution_count": 16,
   "id": "aggregate-tonight",
   "metadata": {},
   "outputs": [],
   "source": [
    "o, w = self_attn(x)"
   ]
  },
  {
   "cell_type": "code",
   "execution_count": 17,
   "id": "solar-ethnic",
   "metadata": {},
   "outputs": [
    {
     "data": {
      "text/plain": [
       "<matplotlib.image.AxesImage at 0x117311048>"
      ]
     },
     "execution_count": 17,
     "metadata": {},
     "output_type": "execute_result"
    },
    {
     "data": {
      "image/png": "[encoded data removed]",
      "text/plain": [
       "<Figure size 432x288 with 1 Axes>"
      ]
     },
     "metadata": {
      "needs_background": "light"
     },
     "output_type": "display_data"
    }
   ],
   "source": [
    "imshow(w[0])"
   ]
  },
  {
   "cell_type": "markdown",
   "id": "north-region",
   "metadata": {},
   "source": [
    "## Important properties\n",
    "1. Up to start training, there are no parameters yet. They are learned when we plug in the downstream task, so that it is related to the specific task\n",
    "2. Self attention sees the input as a **_set_**, not a sequence (permutation equivariant)\n"
   ]
  },
  {
   "cell_type": "markdown",
   "id": "smooth-memory",
   "metadata": {},
   "source": [
    "## Multi-Head Attention\n",
    "- Option to give the network more abstraction power\n",
    "- Narrow or wide self attention\n",
    "    - **Narrow** - divide the embedding matrix by the number of attention heads (e.g. $W_{q}^{r}$, $W_{k}^{r}$, $W_{v}^{r}$) if W is 256, each head with be 32 dimension\n",
    "    - **Wide** - embedding matrix is complete 256x256 dimension"
   ]
  },
  {
   "cell_type": "code",
   "execution_count": 18,
   "id": "moving-stretch",
   "metadata": {},
   "outputs": [],
   "source": [
    "class MultiHeadAttention_1(nn.Module):\n",
    "    def __init__(self, seq_lenght, embed_dim, batch_size, num_heads=8):\n",
    "        super().__init__()\n",
    "        self.seq = seq_lenght\n",
    "        self.embed = embed_dim\n",
    "        self.batch = batch_size\n",
    "        self.num_heads = num_heads\n",
    "        self.transform_q = nn.Linear(self.embed, self.num_heads * self.embed) ## 50 x 400\n",
    "        self.transform_k = nn.Linear(self.embed, self.num_heads * self.embed) ## 50 x 400\n",
    "        self.transform_v = nn.Linear(self.embed, self.num_heads * self.embed) ## 50 x 400\n",
    "        self.unify_heads = nn.Linear(self.num_heads * self.embed, self.embed) ## 400 x 50\n",
    "        \n",
    "    def forward(self, x):\n",
    "        b, s, e = x.size()\n",
    "        q = self.transform_q(x)\n",
    "        k = self.transform_k(x)\n",
    "        v = self.transform_v(x)\n",
    "        print(q.shape)\n",
    "        out, w = self.scaled_dot_attention(q,k,v)\n",
    "        return out, w.detach().numpy()\n",
    "    \n",
    "    def scaled_dot_attention(self, q,k,v):\n",
    "        raw_w = torch.bmm(q, k.transpose(1,2))\n",
    "        raw_w = raw_w / np.sqrt(self.embed)\n",
    "        w = F.softmax(raw_w, dim=2)\n",
    "        out = torch.bmm(w,v)\n",
    "        print(out.shape)\n",
    "        out = self.unify_heads(out)\n",
    "        print(out.shape)\n",
    "        return out, w\n",
    "\n",
    "class MultiHeadAttention(nn.Module):\n",
    "    def __init__(self, seq_lenght, embed_dim, batch_size, num_heads=8):\n",
    "        super().__init__()\n",
    "        self.seq = seq_lenght\n",
    "        self.embed = embed_dim\n",
    "        self.batch = batch_size\n",
    "        self.num_heads = num_heads\n",
    "        self.transform_q = nn.Linear(self.embed, self.num_heads * self.embed) ## 50 x 400\n",
    "        self.transform_k = nn.Linear(self.embed, self.num_heads * self.embed) ## 50 x 400\n",
    "        self.transform_v = nn.Linear(self.embed, self.num_heads * self.embed) ## 50 x 400\n",
    "        self.unify_heads = nn.Linear(self.num_heads * self.embed, self.embed) ## 400 x 50\n",
    "        \n",
    "    def forward(self, x):\n",
    "        b, s, e = x.size()\n",
    "        q = self.transform_q(x).view(b, s, self.num_heads, e) ## 16 x 20 x 8 x 50\n",
    "        k = self.transform_k(x).view(b, s, self.num_heads, e)\n",
    "        v = self.transform_v(x).view(b, s, self.num_heads, e)\n",
    "        k = k.transpose(1, 2).contiguous().view(b * self.num_heads, s, e) ## 128 x 20 x 50\n",
    "        q = q.transpose(1, 2).contiguous().view(b * self.num_heads, s, e)\n",
    "        v = v.transpose(1, 2).contiguous().view(b * self.num_heads, s, e)\n",
    "        out, w = self.scaled_dot_attention(q,k,v)\n",
    "        return out, w.detach().numpy()\n",
    "    \n",
    "    def scaled_dot_attention(self, q,k,v):\n",
    "        raw_w = torch.bmm(q, k.transpose(1,2))\n",
    "        raw_w = raw_w / np.sqrt(self.embed)\n",
    "        w = F.softmax(raw_w, dim=2)\n",
    "        out = torch.bmm(w,v).view(self.batch, self.num_heads, self.seq, self.embed)\n",
    "        out = out.transpose(1, 2).contiguous().view(self.batch,  self.seq, self.num_heads * self.embed)\n",
    "        out = self.unify_heads(out)\n",
    "        return out, w"
   ]
  },
  {
   "cell_type": "code",
   "execution_count": 19,
   "id": "blank-reminder",
   "metadata": {},
   "outputs": [],
   "source": [
    "EMBED_SIZE = 50\n",
    "SEQ_LENGHT = 20\n",
    "BATCH_SIZE = 16\n",
    "NUM_HEADS = 8"
   ]
  },
  {
   "cell_type": "code",
   "execution_count": 20,
   "id": "serious-processor",
   "metadata": {},
   "outputs": [],
   "source": [
    "att_1 = MultiHeadAttention_1(SEQ_LENGHT, EMBED_SIZE, BATCH_SIZE, NUM_HEADS)\n",
    "att_2 = MultiHeadAttention(SEQ_LENGHT, EMBED_SIZE, BATCH_SIZE, NUM_HEADS)"
   ]
  },
  {
   "cell_type": "code",
   "execution_count": 162,
   "id": "institutional-luxury",
   "metadata": {},
   "outputs": [
    {
     "data": {
      "text/plain": [
       "torch.Size([16, 20, 50])"
      ]
     },
     "execution_count": 162,
     "metadata": {},
     "output_type": "execute_result"
    }
   ],
   "source": [
    "x = torch.randn(BATCH_SIZE, SEQ_LENGHT, EMBED_SIZE)\n",
    "x.shape"
   ]
  },
  {
   "cell_type": "code",
   "execution_count": 163,
   "id": "characteristic-pacific",
   "metadata": {},
   "outputs": [
    {
     "name": "stdout",
     "output_type": "stream",
     "text": [
      "torch.Size([16, 20, 400])\n",
      "torch.Size([16, 20, 400])\n",
      "torch.Size([16, 20, 50])\n"
     ]
    }
   ],
   "source": [
    "o_1, w_1 = att_1(x)\n",
    "o_2, w_2 = att_2(x)"
   ]
  },
  {
   "cell_type": "code",
   "execution_count": 164,
   "id": "deluxe-appointment",
   "metadata": {},
   "outputs": [
    {
     "data": {
      "text/plain": [
       "<matplotlib.image.AxesImage at 0x16a875c18>"
      ]
     },
     "execution_count": 164,
     "metadata": {},
     "output_type": "execute_result"
    },
    {
     "data": {
      "image/png": "[encoded data removed]",
      "text/plain": [
       "<Figure size 432x288 with 1 Axes>"
      ]
     },
     "metadata": {
      "needs_background": "light"
     },
     "output_type": "display_data"
    }
   ],
   "source": [
    "imshow(w_1[0])"
   ]
  },
  {
   "cell_type": "code",
   "execution_count": 165,
   "id": "liberal-emerald",
   "metadata": {},
   "outputs": [
    {
     "data": {
      "text/plain": [
       "<matplotlib.image.AxesImage at 0x16a8cefd0>"
      ]
     },
     "execution_count": 165,
     "metadata": {},
     "output_type": "execute_result"
    },
    {
     "data": {
      "image/png": "[encoded data removed]",
      "text/plain": [
       "<Figure size 432x288 with 1 Axes>"
      ]
     },
     "metadata": {
      "needs_background": "light"
     },
     "output_type": "display_data"
    }
   ],
   "source": [
    "imshow(w_2[0])"
   ]
  },
  {
   "cell_type": "code",
   "execution_count": 166,
   "id": "extended-builder",
   "metadata": {},
   "outputs": [
    {
     "data": {
      "text/plain": [
       "<matplotlib.image.AxesImage at 0x16a92fe80>"
      ]
     },
     "execution_count": 166,
     "metadata": {},
     "output_type": "execute_result"
    },
    {
     "data": {
      "image/png": "[encoded data removed]",
      "text/plain": [
       "<Figure size 432x288 with 1 Axes>"
      ]
     },
     "metadata": {
      "needs_background": "light"
     },
     "output_type": "display_data"
    }
   ],
   "source": [
    "imshow(w_1[1])"
   ]
  },
  {
   "cell_type": "code",
   "execution_count": 167,
   "id": "danish-legislation",
   "metadata": {},
   "outputs": [
    {
     "data": {
      "text/plain": [
       "<matplotlib.image.AxesImage at 0x169ed5550>"
      ]
     },
     "execution_count": 167,
     "metadata": {},
     "output_type": "execute_result"
    },
    {
     "data": {
      "image/png": "[encoded data removed]",
      "text/plain": [
       "<Figure size 432x288 with 1 Axes>"
      ]
     },
     "metadata": {
      "needs_background": "light"
     },
     "output_type": "display_data"
    }
   ],
   "source": [
    "imshow(w_2[1])"
   ]
  },
  {
   "cell_type": "markdown",
   "id": "political-reform",
   "metadata": {},
   "source": [
    "## Transformer Block"
   ]
  },
  {
   "cell_type": "code",
   "execution_count": 171,
   "id": "accompanied-keyboard",
   "metadata": {},
   "outputs": [
    {
     "name": "stdout",
     "output_type": "stream",
     "text": [
      "big_o_1.png                  naive_bayes_1.png\r\n",
      "big_o_2.png                  naive_bayes_2.png\r\n",
      "big_o_3.png                  transformer-block.svg\r\n",
      "hash_table_1.png             trees_1.png\r\n",
      "heap_1.png                   tries_1.png\r\n",
      "heap_2.png                   tries_2.png\r\n",
      "hierachical_clustering_1.png tries_3.png\r\n",
      "hierachical_clustering_2.png\r\n"
     ]
    }
   ],
   "source": [
    "!ls figures/"
   ]
  },
  {
   "cell_type": "markdown",
   "id": "fiscal-spokesman",
   "metadata": {},
   "source": [
    "<img src=\"figures/transformer-block.svg\" width=640/>\n"
   ]
  },
  {
   "cell_type": "code",
   "execution_count": 273,
   "id": "sustained-louisiana",
   "metadata": {},
   "outputs": [],
   "source": [
    "class TransformerBlock(nn.Module):\n",
    "    def __init__(self, seq_lenght, embed_dim, batch_size, num_heads=8):\n",
    "        super().__init__()\n",
    "        self.seq = seq_lenght\n",
    "        self.embed = embed_dim\n",
    "        self.batch = batch_size\n",
    "        self.num_heads = num_heads\n",
    "        self.attn = MultiHeadAttention(self.seq, self.embed, self.batch, self.num_heads)\n",
    "        \n",
    "        self.norm1 = nn.LayerNorm(self.embed)\n",
    "        self.norm2 = nn.LayerNorm(self.embed)\n",
    "        self.drop = nn.Dropout(0.2)\n",
    "        \n",
    "        self.mlp = nn.Linear(self.embed, self.embed)\n",
    "        \n",
    "    def forward(self, x):\n",
    "        x, w = self.attn(x)\n",
    "        x+= x              ## Residual\n",
    "        x = self.norm1(x)  ## Layer Norm 1\n",
    "        x = self.drop(x)   ## Dropout\n",
    "        x = self.mlp(x)+x  ## Residual\n",
    "        x = self.norm2(x)  ## Layer Norm 2\n",
    "        x = self.drop(x)   ## Dropout\n",
    "        return x, w"
   ]
  },
  {
   "cell_type": "code",
   "execution_count": 274,
   "id": "aging-creator",
   "metadata": {},
   "outputs": [],
   "source": [
    "EMBED_SIZE = 50\n",
    "SEQ_LENGHT = 20\n",
    "BATCH_SIZE = 16\n",
    "NUM_HEADS = 8"
   ]
  },
  {
   "cell_type": "code",
   "execution_count": 275,
   "id": "outdoor-carry",
   "metadata": {},
   "outputs": [],
   "source": [
    "transformer_blk = TransformerBlock(SEQ_LENGHT, EMBED_SIZE, BATCH_SIZE, NUM_HEADS)"
   ]
  },
  {
   "cell_type": "code",
   "execution_count": 276,
   "id": "homeless-conversion",
   "metadata": {},
   "outputs": [
    {
     "data": {
      "text/plain": [
       "torch.Size([16, 20, 50])"
      ]
     },
     "execution_count": 276,
     "metadata": {},
     "output_type": "execute_result"
    }
   ],
   "source": [
    "x = torch.randn(BATCH_SIZE, SEQ_LENGHT, EMBED_SIZE)\n",
    "x.shape"
   ]
  },
  {
   "cell_type": "code",
   "execution_count": 277,
   "id": "apart-penny",
   "metadata": {},
   "outputs": [],
   "source": [
    "o, w = transformer_blk(x)"
   ]
  },
  {
   "cell_type": "code",
   "execution_count": 278,
   "id": "generous-manhattan",
   "metadata": {},
   "outputs": [
    {
     "data": {
      "text/plain": [
       "<matplotlib.image.AxesImage at 0x16aadf358>"
      ]
     },
     "execution_count": 278,
     "metadata": {},
     "output_type": "execute_result"
    },
    {
     "data": {
      "image/png": "[encoded data removed]",
      "text/plain": [
       "<Figure size 432x288 with 1 Axes>"
      ]
     },
     "metadata": {
      "needs_background": "light"
     },
     "output_type": "display_data"
    }
   ],
   "source": [
    "imshow(w[1])"
   ]
  },
  {
   "cell_type": "code",
   "execution_count": 279,
   "id": "advisory-consent",
   "metadata": {},
   "outputs": [
    {
     "data": {
      "text/plain": [
       "<matplotlib.image.AxesImage at 0x16ab3d7b8>"
      ]
     },
     "execution_count": 279,
     "metadata": {},
     "output_type": "execute_result"
    },
    {
     "data": {
      "image/png": "[encoded data removed]",
      "text/plain": [
       "<Figure size 432x288 with 1 Axes>"
      ]
     },
     "metadata": {
      "needs_background": "light"
     },
     "output_type": "display_data"
    }
   ],
   "source": [
    "imshow(w[-1])"
   ]
  },
  {
   "cell_type": "code",
   "execution_count": null,
   "id": "altered-treat",
   "metadata": {},
   "outputs": [],
   "source": []
  }
 ],
 "metadata": {
  "kernelspec": {
   "display_name": "torch",
   "language": "python",
   "name": "torch"
  },
  "language_info": {
   "codemirror_mode": {
    "name": "ipython",
    "version": 3
   },
   "file_extension": ".py",
   "mimetype": "text/x-python",
   "name": "python",
   "nbconvert_exporter": "python",
   "pygments_lexer": "ipython3",
   "version": "3.7.2"
  }
 },
 "nbformat": 4,
 "nbformat_minor": 5
}
