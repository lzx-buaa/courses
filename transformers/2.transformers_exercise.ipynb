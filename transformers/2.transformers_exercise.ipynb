{
 "cells": [
  {
   "cell_type": "code",
   "execution_count": 1,
   "id": "material-concord",
   "metadata": {},
   "outputs": [],
   "source": [
    "import torch.nn.functional as F\n",
    "import torch\n",
    "import numpy as np\n",
    "import torch.nn as nn"
   ]
  },
  {
   "cell_type": "code",
   "execution_count": 2,
   "id": "saved-bonus",
   "metadata": {},
   "outputs": [],
   "source": [
    "embed_size = 300\n",
    "batch_size = 16\n",
    "seq_lenght = 20"
   ]
  },
  {
   "cell_type": "markdown",
   "id": "compressed-guarantee",
   "metadata": {},
   "source": [
    "## Standard Self Attention"
   ]
  },
  {
   "cell_type": "markdown",
   "id": "copyrighted-malpractice",
   "metadata": {},
   "source": [
    "$$\n",
    "y_{i} = \\sum w_{ij}*x_{i}\n",
    "$$\n",
    "\n",
    "$$\n",
    "w_{ij}'=x_{i}*x_{j}^\\intercal\n",
    "$$\n",
    "\n",
    "$$\n",
    "w_{ij}=\\frac{\\exp{w_{ij}'}}{\\sum_{j}\\exp{w_{ij}'}}\n",
    "$$"
   ]
  },
  {
   "cell_type": "code",
   "execution_count": 4,
   "id": "minute-carter",
   "metadata": {},
   "outputs": [
    {
     "data": {
      "text/plain": [
       "torch.Size([16, 20, 300])"
      ]
     },
     "execution_count": 4,
     "metadata": {},
     "output_type": "execute_result"
    }
   ],
   "source": [
    "x = torch.rand(batch_size, seq_lenght, embed_size)\n",
    "x.shape"
   ]
  },
  {
   "cell_type": "code",
   "execution_count": 5,
   "id": "incorrect-lingerie",
   "metadata": {},
   "outputs": [
    {
     "data": {
      "text/plain": [
       "torch.Size([16, 20, 20])"
      ]
     },
     "execution_count": 5,
     "metadata": {},
     "output_type": "execute_result"
    }
   ],
   "source": [
    "raw_w = torch.bmm(x,x.transpose(1,2))\n",
    "raw_w.shape"
   ]
  },
  {
   "cell_type": "code",
   "execution_count": 6,
   "id": "organic-cycle",
   "metadata": {},
   "outputs": [
    {
     "data": {
      "text/plain": [
       "torch.Size([16, 20, 20])"
      ]
     },
     "execution_count": 6,
     "metadata": {},
     "output_type": "execute_result"
    }
   ],
   "source": [
    "w = F.softmax(raw_w, dim=2)\n",
    "w.shape"
   ]
  },
  {
   "cell_type": "code",
   "execution_count": 7,
   "id": "hawaiian-waterproof",
   "metadata": {},
   "outputs": [
    {
     "data": {
      "text/plain": [
       "torch.Size([16, 20, 300])"
      ]
     },
     "execution_count": 7,
     "metadata": {},
     "output_type": "execute_result"
    }
   ],
   "source": [
    "y = torch.bmm(w,x)\n",
    "y.shape"
   ]
  },
  {
   "cell_type": "code",
   "execution_count": 9,
   "id": "endless-doctor",
   "metadata": {},
   "outputs": [],
   "source": [
    "def raw_self_attn(x):\n",
    "    raw_w = torch.bmm(x,x.transpose(1,2))\n",
    "    w = F.softmax(raw_w, dim=2)\n",
    "    y = torch.bmm(w,x)\n",
    "    return y, w"
   ]
  },
  {
   "cell_type": "code",
   "execution_count": 10,
   "id": "rapid-magnitude",
   "metadata": {},
   "outputs": [],
   "source": [
    "out, att_m = raw_self_attn(x)"
   ]
  },
  {
   "cell_type": "code",
   "execution_count": 11,
   "id": "early-encyclopedia",
   "metadata": {},
   "outputs": [
    {
     "data": {
      "text/plain": [
       "torch.Size([16, 20, 300])"
      ]
     },
     "execution_count": 11,
     "metadata": {},
     "output_type": "execute_result"
    }
   ],
   "source": [
    "out.shape"
   ]
  },
  {
   "cell_type": "code",
   "execution_count": 18,
   "id": "maritime-trade",
   "metadata": {},
   "outputs": [
    {
     "data": {
      "text/plain": [
       "tensor([[[1.0000e+00, 2.0045e-10, 7.7414e-08,  ..., 1.3308e-07,\n",
       "          1.1775e-09, 1.8701e-09],\n",
       "         [2.7884e-14, 1.0000e+00, 8.3759e-11,  ..., 6.3188e-11,\n",
       "          1.1942e-12, 7.6295e-14],\n",
       "         [2.4892e-14, 1.9362e-13, 1.0000e+00,  ..., 6.5164e-11,\n",
       "          1.2360e-13, 2.7220e-14],\n",
       "         ...,\n",
       "         [4.8135e-14, 1.6430e-13, 7.3300e-11,  ..., 1.0000e+00,\n",
       "          9.3402e-13, 8.6465e-14],\n",
       "         [2.0050e-12, 1.4618e-11, 6.5451e-10,  ..., 4.3969e-09,\n",
       "          1.0000e+00, 4.5316e-11],\n",
       "         [8.2453e-11, 2.4182e-11, 3.7324e-09,  ..., 1.0540e-08,\n",
       "          1.1734e-09, 1.0000e+00]],\n",
       "\n",
       "        [[1.0000e+00, 1.0405e-12, 7.9192e-12,  ..., 1.1345e-11,\n",
       "          1.1226e-11, 3.1299e-10],\n",
       "         [6.2483e-10, 1.0000e+00, 2.5145e-10,  ..., 1.8332e-12,\n",
       "          2.8901e-11, 1.1827e-09],\n",
       "         [3.3825e-11, 1.7885e-12, 1.0000e+00,  ..., 3.2056e-13,\n",
       "          1.0353e-12, 2.1346e-10],\n",
       "         ...,\n",
       "         [3.7643e-10, 1.0129e-13, 2.4902e-12,  ..., 1.0000e+00,\n",
       "          7.4914e-12, 1.5288e-09],\n",
       "         [1.5931e-10, 6.8298e-13, 3.4398e-12,  ..., 3.2041e-12,\n",
       "          1.0000e+00, 2.1582e-10],\n",
       "         [3.1856e-12, 2.0046e-14, 5.0864e-13,  ..., 4.6896e-13,\n",
       "          1.5479e-13, 1.0000e+00]],\n",
       "\n",
       "        [[1.0000e+00, 8.6878e-08, 2.8704e-09,  ..., 5.7469e-10,\n",
       "          1.3429e-08, 1.5621e-10],\n",
       "         [1.4767e-15, 1.0000e+00, 9.7251e-15,  ..., 2.3947e-14,\n",
       "          3.0351e-12, 8.3380e-16],\n",
       "         [5.8633e-11, 1.1687e-08, 1.0000e+00,  ..., 1.8688e-10,\n",
       "          2.3245e-10, 1.9686e-11],\n",
       "         ...,\n",
       "         [1.5075e-12, 3.6955e-09, 2.3998e-11,  ..., 1.0000e+00,\n",
       "          1.9982e-09, 5.3997e-12],\n",
       "         [6.6789e-15, 8.8807e-11, 5.6597e-15,  ..., 3.7887e-13,\n",
       "          1.0000e+00, 1.1901e-14],\n",
       "         [5.5189e-10, 1.7331e-07, 3.4047e-09,  ..., 7.2725e-09,\n",
       "          8.4535e-08, 1.0000e+00]],\n",
       "\n",
       "        ...,\n",
       "\n",
       "        [[1.0000e+00, 8.0439e-08, 3.8587e-09,  ..., 9.9301e-08,\n",
       "          4.1436e-09, 1.5227e-08],\n",
       "         [1.4990e-14, 1.0000e+00, 2.3527e-14,  ..., 9.0656e-12,\n",
       "          3.7424e-13, 2.6986e-13],\n",
       "         [3.8021e-13, 1.2440e-11, 1.0000e+00,  ..., 1.0269e-09,\n",
       "          1.2552e-11, 2.9494e-10],\n",
       "         ...,\n",
       "         [2.2180e-15, 1.0866e-12, 2.3279e-13,  ..., 1.0000e+00,\n",
       "          7.3001e-14, 1.6093e-12],\n",
       "         [1.4316e-13, 6.9381e-11, 4.4011e-12,  ..., 1.1292e-10,\n",
       "          1.0000e+00, 4.9156e-13],\n",
       "         [2.5946e-13, 2.4674e-11, 5.1002e-11,  ..., 1.2277e-09,\n",
       "          2.4243e-13, 1.0000e+00]],\n",
       "\n",
       "        [[1.0000e+00, 3.2121e-11, 1.2244e-10,  ..., 1.0035e-12,\n",
       "          8.2896e-12, 1.7770e-12],\n",
       "         [1.3253e-10, 1.0000e+00, 5.2325e-11,  ..., 1.3780e-11,\n",
       "          3.9606e-11, 6.8399e-12],\n",
       "         [6.5171e-11, 6.7506e-12, 1.0000e+00,  ..., 1.2733e-12,\n",
       "          1.3088e-11, 1.4351e-12],\n",
       "         ...,\n",
       "         [4.0946e-09, 1.3627e-08, 9.7605e-09,  ..., 1.0000e+00,\n",
       "          1.4795e-09, 8.4318e-11],\n",
       "         [2.1915e-11, 2.5378e-11, 6.5006e-11,  ..., 9.5863e-13,\n",
       "          1.0000e+00, 2.3185e-13],\n",
       "         [9.1315e-10, 8.5190e-10, 1.3855e-09,  ..., 1.0619e-11,\n",
       "          4.5065e-11, 1.0000e+00]],\n",
       "\n",
       "        [[1.0000e+00, 2.4146e-13, 1.1915e-14,  ..., 3.0777e-12,\n",
       "          2.7119e-14, 6.8305e-13],\n",
       "         [4.2615e-09, 1.0000e+00, 1.6828e-13,  ..., 4.1510e-10,\n",
       "          4.6091e-11, 1.8194e-11],\n",
       "         [1.1052e-07, 8.8447e-11, 1.0000e+00,  ..., 1.0773e-09,\n",
       "          3.5153e-12, 9.5487e-11],\n",
       "         ...,\n",
       "         [3.3449e-09, 2.5562e-11, 1.2623e-13,  ..., 1.0000e+00,\n",
       "          4.9381e-11, 4.7844e-11],\n",
       "         [1.3110e-08, 1.2625e-09, 1.8320e-13,  ..., 2.1966e-08,\n",
       "          1.0000e+00, 6.9558e-10],\n",
       "         [9.7036e-10, 1.4645e-12, 1.4624e-14,  ..., 6.2539e-11,\n",
       "          2.0440e-12, 1.0000e+00]]])"
      ]
     },
     "execution_count": 18,
     "metadata": {},
     "output_type": "execute_result"
    }
   ],
   "source": [
    "att_m"
   ]
  },
  {
   "cell_type": "code",
   "execution_count": 13,
   "id": "balanced-cutting",
   "metadata": {},
   "outputs": [],
   "source": [
    "from matplotlib.pyplot import imshow"
   ]
  },
  {
   "cell_type": "code",
   "execution_count": 14,
   "id": "silent-spring",
   "metadata": {},
   "outputs": [
    {
     "data": {
      "text/plain": [
       "<matplotlib.image.AxesImage at 0x131dcdf98>"
      ]
     },
     "execution_count": 14,
     "metadata": {},
     "output_type": "execute_result"
    },
    {
     "data": {
      "image/png": "[encoded data removed]",
      "text/plain": [
       "<Figure size 432x288 with 1 Axes>"
      ]
     },
     "metadata": {
      "needs_background": "light"
     },
     "output_type": "display_data"
    }
   ],
   "source": [
    "imshow(att_m[0])"
   ]
  },
  {
   "cell_type": "code",
   "execution_count": 15,
   "id": "collectible-lunch",
   "metadata": {},
   "outputs": [
    {
     "data": {
      "text/plain": [
       "<matplotlib.image.AxesImage at 0x131ecfe48>"
      ]
     },
     "execution_count": 15,
     "metadata": {},
     "output_type": "execute_result"
    },
    {
     "data": {
      "image/png": "[encoded data removed]",
      "text/plain": [
       "<Figure size 432x288 with 1 Axes>"
      ]
     },
     "metadata": {
      "needs_background": "light"
     },
     "output_type": "display_data"
    }
   ],
   "source": [
    "imshow(att_m[-1])"
   ]
  },
  {
   "cell_type": "markdown",
   "id": "selective-nursery",
   "metadata": {},
   "source": [
    "## Benefits of Self Attention\n",
    "- Best of both worlds (CNNs and RNNs)\n",
    "    - work with long sequences inputs (RNNs)\n",
    "    - paralelization (CNNs)"
   ]
  },
  {
   "cell_type": "code",
   "execution_count": null,
   "id": "russian-chapter",
   "metadata": {},
   "outputs": [],
   "source": [
    "x = torch.rand(batch_size, seq_lenght, embed_size)\n",
    "x"
   ]
  },
  {
   "cell_type": "code",
   "execution_count": null,
   "id": "grateful-twelve",
   "metadata": {},
   "outputs": [],
   "source": [
    "raw_w = torch.bmm(x,x.transpose(1,2))\n",
    "w = F.softmax(raw_w, dim=2)"
   ]
  },
  {
   "cell_type": "code",
   "execution_count": null,
   "id": "twelve-combine",
   "metadata": {},
   "outputs": [],
   "source": [
    "w[0]"
   ]
  },
  {
   "cell_type": "markdown",
   "id": "foreign-jacksonville",
   "metadata": {},
   "source": [
    "# Improvements\n",
    "- Scaled Self Attention\n",
    "- Queries, Keys, Values\n",
    "- Multi-Head Attention"
   ]
  },
  {
   "cell_type": "markdown",
   "id": "solar-proxy",
   "metadata": {},
   "source": [
    "### 1. Scaled Self Attention"
   ]
  },
  {
   "cell_type": "code",
   "execution_count": 19,
   "id": "integrated-button",
   "metadata": {},
   "outputs": [
    {
     "name": "stdout",
     "output_type": "stream",
     "text": [
      "tensor(75.7632)\n"
     ]
    },
    {
     "data": {
      "text/plain": [
       "tensor(4.3742)"
      ]
     },
     "execution_count": 19,
     "metadata": {},
     "output_type": "execute_result"
    }
   ],
   "source": [
    "raw_w = torch.bmm(x,x.transpose(1,2))\n",
    "print(raw_w.mean())\n",
    "raw_w = raw_w/ np.sqrt(embed_size)\n",
    "raw_w.mean()"
   ]
  },
  {
   "cell_type": "code",
   "execution_count": 20,
   "id": "running-mystery",
   "metadata": {},
   "outputs": [
    {
     "data": {
      "text/plain": [
       "17.320508075688775"
      ]
     },
     "execution_count": 20,
     "metadata": {},
     "output_type": "execute_result"
    }
   ],
   "source": [
    "np.sqrt(embed_size)"
   ]
  },
  {
   "cell_type": "code",
   "execution_count": 21,
   "id": "affiliated-porcelain",
   "metadata": {},
   "outputs": [],
   "source": [
    "def scaled_self_attn(x):\n",
    "    batch_size, seq_lengt, embed_size = x.size()\n",
    "    raw_w = torch.bmm(x,x.transpose(1,2))\n",
    "    raw_w = raw_w/ np.sqrt(embed_size)\n",
    "    w = F.softmax(raw_w, dim=2)\n",
    "    y = torch.bmm(w,x)\n",
    "    return y, w"
   ]
  },
  {
   "cell_type": "code",
   "execution_count": 22,
   "id": "horizontal-highlight",
   "metadata": {},
   "outputs": [
    {
     "data": {
      "text/plain": [
       "tensor(0.0500)"
      ]
     },
     "execution_count": 22,
     "metadata": {},
     "output_type": "execute_result"
    }
   ],
   "source": [
    "y0,w0 = raw_self_attn(x)\n",
    "w0.mean()"
   ]
  },
  {
   "cell_type": "code",
   "execution_count": 23,
   "id": "administrative-victory",
   "metadata": {},
   "outputs": [
    {
     "data": {
      "text/plain": [
       "tensor(0.0500)"
      ]
     },
     "execution_count": 23,
     "metadata": {},
     "output_type": "execute_result"
    }
   ],
   "source": [
    "y1,w1 = scaled_self_attn(x)\n",
    "w1.mean()"
   ]
  },
  {
   "cell_type": "code",
   "execution_count": 24,
   "id": "spatial-portable",
   "metadata": {},
   "outputs": [
    {
     "data": {
      "text/plain": [
       "<matplotlib.image.AxesImage at 0x131f5e940>"
      ]
     },
     "execution_count": 24,
     "metadata": {},
     "output_type": "execute_result"
    },
    {
     "data": {
      "image/png": "[encoded data removed]",
      "text/plain": [
       "<Figure size 432x288 with 1 Axes>"
      ]
     },
     "metadata": {
      "needs_background": "light"
     },
     "output_type": "display_data"
    }
   ],
   "source": [
    "imshow(w0[0])"
   ]
  },
  {
   "cell_type": "code",
   "execution_count": 25,
   "id": "imperial-moisture",
   "metadata": {},
   "outputs": [
    {
     "data": {
      "text/plain": [
       "<matplotlib.image.AxesImage at 0x131fcdbe0>"
      ]
     },
     "execution_count": 25,
     "metadata": {},
     "output_type": "execute_result"
    },
    {
     "data": {
      "image/png": "[encoded data removed]",
      "text/plain": [
       "<Figure size 432x288 with 1 Axes>"
      ]
     },
     "metadata": {
      "needs_background": "light"
     },
     "output_type": "display_data"
    }
   ],
   "source": [
    "imshow(w1[0])"
   ]
  },
  {
   "cell_type": "markdown",
   "id": "adopted-portal",
   "metadata": {},
   "source": [
    "### 2. Queries, Keys, Values\n",
    "- Attention is a soft dictionary\n",
    "- Every key matches a query to some extend\n",
    "- Not return a specific value, but a mixture of values (with softmax normalized dot products as a mixture of weights)\n",
    "- In self attention, all keys, queries and values comes from the same set"
   ]
  },
  {
   "cell_type": "code",
   "execution_count": 26,
   "id": "coordinated-screen",
   "metadata": {},
   "outputs": [],
   "source": [
    "class SingleHeadSelfAttn(nn.Module):\n",
    "    def __init__(self, seq_lenght, embed_size, return_attention = False):\n",
    "        super().__init__()\n",
    "        self.lenght = seq_lenght\n",
    "        self.embed = embed_size\n",
    "        self.return_w = return_attention\n",
    "        self.transform_q = nn.Linear(self.embed, self.embed)\n",
    "        self.transform_k = nn.Linear(self.embed, self.embed)\n",
    "        self.transform_v = nn.Linear(self.embed, self.embed)\n",
    "        return None\n",
    "    \n",
    "    def scaled_dot_attention(self, q, k, v):\n",
    "        raw_w = torch.bmm(q,k.transpose(1,2))\n",
    "        raw_w = raw_w/ np.sqrt(self.embed)\n",
    "        w = F.softmax(raw_w, dim=2)\n",
    "        out = torch.bmm(w, v)\n",
    "        if self.return_w:\n",
    "            return out, w.detach().numpy()\n",
    "        else:\n",
    "            return out\n",
    "    \n",
    "    def forward(self, x):\n",
    "        q = self.transform_q(x)\n",
    "        k = self.transform_k(x)\n",
    "        v = self.transform_v(x)\n",
    "        out = self.scaled_dot_attention(q,k,v)\n",
    "        return out"
   ]
  },
  {
   "cell_type": "code",
   "execution_count": 27,
   "id": "expected-treasury",
   "metadata": {},
   "outputs": [
    {
     "data": {
      "text/plain": [
       "(20, 300)"
      ]
     },
     "execution_count": 27,
     "metadata": {},
     "output_type": "execute_result"
    }
   ],
   "source": [
    "seq_lenght, embed_size"
   ]
  },
  {
   "cell_type": "code",
   "execution_count": 28,
   "id": "matched-vertex",
   "metadata": {},
   "outputs": [
    {
     "data": {
      "text/plain": [
       "torch.Size([16, 20, 300])"
      ]
     },
     "execution_count": 28,
     "metadata": {},
     "output_type": "execute_result"
    }
   ],
   "source": [
    "x.shape"
   ]
  },
  {
   "cell_type": "code",
   "execution_count": 29,
   "id": "considerable-income",
   "metadata": {},
   "outputs": [],
   "source": [
    "att = SingleHeadSelfAttn(seq_lenght, embed_size, return_attention=True)"
   ]
  },
  {
   "cell_type": "code",
   "execution_count": 30,
   "id": "peaceful-capture",
   "metadata": {},
   "outputs": [
    {
     "data": {
      "text/plain": [
       "(torch.Size([16, 20, 300]), (16, 20, 20))"
      ]
     },
     "execution_count": 30,
     "metadata": {},
     "output_type": "execute_result"
    }
   ],
   "source": [
    "outs, w = att(x)\n",
    "outs.shape, w.shape"
   ]
  },
  {
   "cell_type": "code",
   "execution_count": 31,
   "id": "domestic-flush",
   "metadata": {},
   "outputs": [
    {
     "data": {
      "text/plain": [
       "array([[0.05294493, 0.04797028, 0.05228442, 0.05048753, 0.05051535,\n",
       "        0.05176257, 0.04710874, 0.04480923, 0.04823131, 0.04902227,\n",
       "        0.04751909, 0.04619498, 0.05433052, 0.0474708 , 0.05104551,\n",
       "        0.05373199, 0.05243361, 0.04824755, 0.04944122, 0.05444816],\n",
       "       [0.05147185, 0.04886695, 0.05337277, 0.05394008, 0.05102687,\n",
       "        0.05158846, 0.04635799, 0.04611656, 0.04731797, 0.04819224,\n",
       "        0.04747458, 0.04662602, 0.05438085, 0.04620897, 0.04955987,\n",
       "        0.05259199, 0.05024915, 0.05165584, 0.05064415, 0.05235688],\n",
       "       [0.05261984, 0.05076938, 0.05274709, 0.05299453, 0.04946551,\n",
       "        0.05038333, 0.04898863, 0.04460839, 0.04617782, 0.04759924,\n",
       "        0.04913336, 0.04440113, 0.05628961, 0.04656982, 0.04956175,\n",
       "        0.05219776, 0.05335011, 0.05057373, 0.05055245, 0.05101646],\n",
       "       [0.05356193, 0.04775684, 0.05358396, 0.05126304, 0.05135076,\n",
       "        0.05198791, 0.04613065, 0.0467647 , 0.04768611, 0.04876988,\n",
       "        0.04718163, 0.04768127, 0.05413708, 0.04647847, 0.04846521,\n",
       "        0.05250404, 0.05146901, 0.05013776, 0.05053812, 0.05255171],\n",
       "       [0.05063172, 0.05074178, 0.05136881, 0.05414624, 0.05045361,\n",
       "        0.049753  , 0.04639392, 0.04621012, 0.04768944, 0.04722549,\n",
       "        0.04598381, 0.04895234, 0.05618561, 0.04734235, 0.05049477,\n",
       "        0.0539006 , 0.04977761, 0.05010696, 0.049489  , 0.05315277],\n",
       "       [0.05261448, 0.04945537, 0.05096258, 0.05248849, 0.0513011 ,\n",
       "        0.05180888, 0.04717193, 0.04504442, 0.04824568, 0.04701336,\n",
       "        0.04508067, 0.04698158, 0.05416863, 0.04693384, 0.04970144,\n",
       "        0.05208491, 0.0540517 , 0.05197168, 0.05017146, 0.05274767],\n",
       "       [0.05220072, 0.04796578, 0.05457696, 0.05031921, 0.04902728,\n",
       "        0.05122901, 0.047729  , 0.04428645, 0.04846358, 0.04884899,\n",
       "        0.04585568, 0.04714147, 0.05318135, 0.04850206, 0.05086128,\n",
       "        0.05329319, 0.05041626, 0.0516657 , 0.05184752, 0.05258843],\n",
       "       [0.05424212, 0.0503691 , 0.04951834, 0.05271691, 0.05042409,\n",
       "        0.05356412, 0.04837422, 0.04610135, 0.04777697, 0.04522327,\n",
       "        0.04686812, 0.04676396, 0.05418034, 0.04585097, 0.05072231,\n",
       "        0.05227413, 0.05067161, 0.04971916, 0.05183185, 0.05280703],\n",
       "       [0.05133672, 0.05260697, 0.0522658 , 0.05167484, 0.05039026,\n",
       "        0.04842844, 0.04531179, 0.04593448, 0.04774459, 0.04725553,\n",
       "        0.04725509, 0.04582866, 0.05503417, 0.04739537, 0.05180348,\n",
       "        0.05177206, 0.05148418, 0.05298596, 0.05125941, 0.05223221],\n",
       "       [0.05083294, 0.05026429, 0.05118723, 0.05004147, 0.05217217,\n",
       "        0.05090492, 0.04664631, 0.04654686, 0.0475536 , 0.04899273,\n",
       "        0.04758227, 0.04670531, 0.05681568, 0.04669479, 0.0493221 ,\n",
       "        0.05349831, 0.05433128, 0.05135368, 0.04917957, 0.04937452],\n",
       "       [0.0517513 , 0.04910514, 0.05218123, 0.05240883, 0.05103461,\n",
       "        0.0509063 , 0.04892008, 0.04548511, 0.04729927, 0.04663856,\n",
       "        0.04850839, 0.04668217, 0.05458774, 0.04648181, 0.0500435 ,\n",
       "        0.05380176, 0.04979705, 0.05097701, 0.05056058, 0.05282961],\n",
       "       [0.05271298, 0.05021127, 0.05451649, 0.05182852, 0.0507398 ,\n",
       "        0.05193458, 0.04656908, 0.04588806, 0.04709836, 0.04861578,\n",
       "        0.04575323, 0.04515056, 0.05227996, 0.04660592, 0.05302588,\n",
       "        0.04959394, 0.05246181, 0.05340767, 0.04952223, 0.05208376],\n",
       "       [0.05241424, 0.04761734, 0.05311235, 0.05244182, 0.04763131,\n",
       "        0.05282888, 0.04748665, 0.04478736, 0.0481089 , 0.0475608 ,\n",
       "        0.0457045 , 0.04906855, 0.05313479, 0.04519061, 0.05143502,\n",
       "        0.05264185, 0.05112866, 0.05320119, 0.05277564, 0.05172958],\n",
       "       [0.05258086, 0.04914653, 0.05281635, 0.05312173, 0.05030651,\n",
       "        0.04871818, 0.04645764, 0.0429507 , 0.04691826, 0.04836266,\n",
       "        0.04916582, 0.04904586, 0.05464519, 0.04728422, 0.05232555,\n",
       "        0.05187843, 0.05171065, 0.05005471, 0.05128125, 0.05122891],\n",
       "       [0.0526373 , 0.04758435, 0.05018985, 0.0536635 , 0.05123902,\n",
       "        0.05002027, 0.04609427, 0.0436266 , 0.04877698, 0.04929224,\n",
       "        0.04704206, 0.04636281, 0.05420128, 0.04807385, 0.05141313,\n",
       "        0.05213979, 0.05056616, 0.05307623, 0.049949  , 0.05405135],\n",
       "       [0.0514284 , 0.05166456, 0.05096716, 0.05389589, 0.0519973 ,\n",
       "        0.04942628, 0.04771656, 0.04480574, 0.04578124, 0.04851983,\n",
       "        0.04857923, 0.04647138, 0.05571795, 0.04627015, 0.0498351 ,\n",
       "        0.05276928, 0.05245798, 0.0516383 , 0.04836464, 0.05169296],\n",
       "       [0.05351079, 0.04933281, 0.05080214, 0.05210572, 0.05463582,\n",
       "        0.05054361, 0.04802118, 0.04148871, 0.04457775, 0.04835457,\n",
       "        0.04923774, 0.04559591, 0.05538338, 0.04558144, 0.04974401,\n",
       "        0.05246577, 0.05228223, 0.05430431, 0.04930563, 0.05272652],\n",
       "       [0.05331421, 0.04963277, 0.05113559, 0.05544593, 0.05037301,\n",
       "        0.04947526, 0.04572706, 0.04428463, 0.04669192, 0.04678934,\n",
       "        0.04895931, 0.04678486, 0.05714327, 0.04579676, 0.05198022,\n",
       "        0.05106942, 0.05092219, 0.04999405, 0.05193074, 0.0525495 ],\n",
       "       [0.05296086, 0.04900886, 0.05152544, 0.05240724, 0.05178278,\n",
       "        0.04832656, 0.04602211, 0.04668454, 0.04781305, 0.04922749,\n",
       "        0.04794411, 0.04797255, 0.05373735, 0.04601708, 0.04967523,\n",
       "        0.05219143, 0.05121623, 0.05220842, 0.05142301, 0.05185576],\n",
       "       [0.05185255, 0.04844756, 0.05112618, 0.05289862, 0.05067054,\n",
       "        0.05016283, 0.04740037, 0.0454158 , 0.04729149, 0.04802156,\n",
       "        0.04633233, 0.04765332, 0.0550312 , 0.04550459, 0.05288396,\n",
       "        0.05059592, 0.05443966, 0.05153786, 0.04959159, 0.05314204]],\n",
       "      dtype=float32)"
      ]
     },
     "execution_count": 31,
     "metadata": {},
     "output_type": "execute_result"
    }
   ],
   "source": [
    "w[0]"
   ]
  },
  {
   "cell_type": "code",
   "execution_count": 33,
   "id": "upset-qualification",
   "metadata": {},
   "outputs": [
    {
     "data": {
      "text/plain": [
       "<matplotlib.image.AxesImage at 0x1320beeb8>"
      ]
     },
     "execution_count": 33,
     "metadata": {},
     "output_type": "execute_result"
    },
    {
     "data": {
      "image/png": "[encoded data removed]",
      "text/plain": [
       "<Figure size 432x288 with 1 Axes>"
      ]
     },
     "metadata": {
      "needs_background": "light"
     },
     "output_type": "display_data"
    }
   ],
   "source": [
    "imshow(w[2])"
   ]
  },
  {
   "cell_type": "code",
   "execution_count": null,
   "id": "immediate-revelation",
   "metadata": {},
   "outputs": [],
   "source": []
  }
 ],
 "metadata": {
  "kernelspec": {
   "display_name": "torch",
   "language": "python",
   "name": "torch"
  },
  "language_info": {
   "codemirror_mode": {
    "name": "ipython",
    "version": 3
   },
   "file_extension": ".py",
   "mimetype": "text/x-python",
   "name": "python",
   "nbconvert_exporter": "python",
   "pygments_lexer": "ipython3",
   "version": "3.7.2"
  }
 },
 "nbformat": 4,
 "nbformat_minor": 5
}
