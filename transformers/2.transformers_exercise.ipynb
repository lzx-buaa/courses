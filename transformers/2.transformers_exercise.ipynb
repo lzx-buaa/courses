{
 "cells": [
  {
   "cell_type": "code",
   "execution_count": 31,
   "id": "material-concord",
   "metadata": {},
   "outputs": [],
   "source": [
    "import torch.nn.functional as F\n",
    "import torch\n",
    "import numpy as np\n",
    "import torch.nn as nn"
   ]
  },
  {
   "cell_type": "code",
   "execution_count": 32,
   "id": "saved-bonus",
   "metadata": {},
   "outputs": [],
   "source": [
    "embed_size = 300\n",
    "batch_size = 16\n",
    "seq_lenght = 20"
   ]
  },
  {
   "cell_type": "code",
   "execution_count": 33,
   "id": "signal-mainland",
   "metadata": {},
   "outputs": [],
   "source": [
    "## Standard Self Attention"
   ]
  },
  {
   "cell_type": "markdown",
   "id": "copyrighted-malpractice",
   "metadata": {},
   "source": [
    "$$\n",
    "y_{i} = \\sum w_{ij}*x_{i}\n",
    "$$\n",
    "\n",
    "$$\n",
    "w_{ij}'=x_{i}*x_{j}^\\intercal\n",
    "$$\n",
    "\n",
    "$$\n",
    "w_{ij}=\\frac{\\exp{w_{ij}'}}{\\sum_{j}\\exp{w_{ij}'}}\n",
    "$$"
   ]
  },
  {
   "cell_type": "code",
   "execution_count": 34,
   "id": "minute-carter",
   "metadata": {},
   "outputs": [
    {
     "data": {
      "text/plain": [
       "torch.Size([16, 20, 300])"
      ]
     },
     "execution_count": 34,
     "metadata": {},
     "output_type": "execute_result"
    }
   ],
   "source": [
    "x = torch.rand(batch_size, seq_lenght, embed_size)\n",
    "x.shape"
   ]
  },
  {
   "cell_type": "code",
   "execution_count": 35,
   "id": "incorrect-lingerie",
   "metadata": {},
   "outputs": [
    {
     "data": {
      "text/plain": [
       "torch.Size([16, 20, 20])"
      ]
     },
     "execution_count": 35,
     "metadata": {},
     "output_type": "execute_result"
    }
   ],
   "source": [
    "raw_w = torch.bmm(x,x.transpose(1,2))\n",
    "raw_w.shape"
   ]
  },
  {
   "cell_type": "code",
   "execution_count": 36,
   "id": "organic-cycle",
   "metadata": {},
   "outputs": [
    {
     "data": {
      "text/plain": [
       "torch.Size([16, 20, 20])"
      ]
     },
     "execution_count": 36,
     "metadata": {},
     "output_type": "execute_result"
    }
   ],
   "source": [
    "w = F.softmax(raw_w, dim=2)\n",
    "w.shape"
   ]
  },
  {
   "cell_type": "code",
   "execution_count": 37,
   "id": "hawaiian-waterproof",
   "metadata": {},
   "outputs": [
    {
     "data": {
      "text/plain": [
       "torch.Size([16, 20, 300])"
      ]
     },
     "execution_count": 37,
     "metadata": {},
     "output_type": "execute_result"
    }
   ],
   "source": [
    "y = torch.bmm(w,x)\n",
    "y.shape"
   ]
  },
  {
   "cell_type": "code",
   "execution_count": 38,
   "id": "endless-doctor",
   "metadata": {},
   "outputs": [],
   "source": [
    "def raw_self_attn(x):\n",
    "    raw_w = torch.bmm(x,x.transpose(1,2))\n",
    "    w = F.softmax(raw_w, dim=2)\n",
    "    y = torch.bmm(w,x)\n",
    "    return y, w"
   ]
  },
  {
   "cell_type": "code",
   "execution_count": 39,
   "id": "rapid-magnitude",
   "metadata": {},
   "outputs": [],
   "source": [
    "out, att_m = raw_self_attn(x)"
   ]
  },
  {
   "cell_type": "code",
   "execution_count": 40,
   "id": "early-encyclopedia",
   "metadata": {},
   "outputs": [
    {
     "data": {
      "text/plain": [
       "torch.Size([16, 20, 300])"
      ]
     },
     "execution_count": 40,
     "metadata": {},
     "output_type": "execute_result"
    }
   ],
   "source": [
    "out.shape"
   ]
  },
  {
   "cell_type": "code",
   "execution_count": 41,
   "id": "maritime-trade",
   "metadata": {},
   "outputs": [
    {
     "data": {
      "text/plain": [
       "torch.Size([16, 20, 20])"
      ]
     },
     "execution_count": 41,
     "metadata": {},
     "output_type": "execute_result"
    }
   ],
   "source": [
    "att_m.shape"
   ]
  },
  {
   "cell_type": "code",
   "execution_count": 42,
   "id": "balanced-cutting",
   "metadata": {},
   "outputs": [],
   "source": [
    "from matplotlib.pyplot import imshow"
   ]
  },
  {
   "cell_type": "code",
   "execution_count": 43,
   "id": "silent-spring",
   "metadata": {},
   "outputs": [
    {
     "data": {
      "text/plain": [
       "<matplotlib.image.AxesImage at 0x119a39048>"
      ]
     },
     "execution_count": 43,
     "metadata": {},
     "output_type": "execute_result"
    },
    {
     "data": {
      "image/png": "[encoded data removed]",
      "text/plain": [
       "<Figure size 432x288 with 1 Axes>"
      ]
     },
     "metadata": {
      "needs_background": "light"
     },
     "output_type": "display_data"
    }
   ],
   "source": [
    "imshow(att_m[0])"
   ]
  },
  {
   "cell_type": "code",
   "execution_count": 44,
   "id": "collectible-lunch",
   "metadata": {},
   "outputs": [
    {
     "data": {
      "text/plain": [
       "<matplotlib.image.AxesImage at 0x119bf8080>"
      ]
     },
     "execution_count": 44,
     "metadata": {},
     "output_type": "execute_result"
    },
    {
     "data": {
      "image/png": "[encoded data removed]",
      "text/plain": [
       "<Figure size 432x288 with 1 Axes>"
      ]
     },
     "metadata": {
      "needs_background": "light"
     },
     "output_type": "display_data"
    }
   ],
   "source": [
    "imshow(att_m[-1])"
   ]
  },
  {
   "cell_type": "markdown",
   "id": "selective-nursery",
   "metadata": {},
   "source": [
    "## Benefits of Self Attention\n",
    "- Best of both worlds (CNNs and RNNs)\n",
    "    - work with long sequences inputs (RNNs)\n",
    "    - paralelization (CNNs)"
   ]
  },
  {
   "cell_type": "code",
   "execution_count": 45,
   "id": "russian-chapter",
   "metadata": {},
   "outputs": [
    {
     "data": {
      "text/plain": [
       "tensor([[[0.0856, 0.1917, 0.3817,  ..., 0.7692, 0.3625, 0.0669],\n",
       "         [0.0514, 0.7932, 0.8035,  ..., 0.0321, 0.0751, 0.6124],\n",
       "         [0.6006, 0.7362, 0.3930,  ..., 0.0893, 0.9119, 0.8380],\n",
       "         ...,\n",
       "         [0.7212, 0.7860, 0.7201,  ..., 0.3659, 0.8427, 0.4664],\n",
       "         [0.1301, 0.8760, 0.3244,  ..., 0.0035, 0.6172, 0.0257],\n",
       "         [0.1938, 0.7037, 0.6439,  ..., 0.9373, 0.3727, 0.9019]],\n",
       "\n",
       "        [[0.8212, 0.3045, 0.3686,  ..., 0.7035, 0.9349, 0.6780],\n",
       "         [0.9223, 0.7732, 0.5127,  ..., 0.9006, 0.6987, 0.3132],\n",
       "         [0.8569, 0.7703, 0.9948,  ..., 0.4629, 0.9225, 0.0412],\n",
       "         ...,\n",
       "         [0.6115, 0.8857, 0.3158,  ..., 0.2340, 0.1191, 0.8765],\n",
       "         [0.6330, 0.0824, 0.1951,  ..., 0.0161, 0.6999, 0.9743],\n",
       "         [0.7470, 0.3522, 0.9998,  ..., 0.5571, 0.9565, 0.8251]],\n",
       "\n",
       "        [[0.6558, 0.7204, 0.9954,  ..., 0.8924, 0.0433, 0.8419],\n",
       "         [0.4929, 0.2820, 0.0615,  ..., 0.4065, 0.2151, 0.1029],\n",
       "         [0.4674, 0.8735, 0.0567,  ..., 0.3055, 0.0181, 0.3938],\n",
       "         ...,\n",
       "         [0.3079, 0.7717, 0.3991,  ..., 0.3352, 0.4834, 0.3026],\n",
       "         [0.4065, 0.6910, 0.9456,  ..., 0.4152, 0.1637, 0.0495],\n",
       "         [0.7788, 0.3055, 0.5812,  ..., 0.9205, 0.9272, 0.2216]],\n",
       "\n",
       "        ...,\n",
       "\n",
       "        [[0.4767, 0.8857, 0.4848,  ..., 0.0301, 0.3478, 0.7413],\n",
       "         [0.5104, 0.1538, 0.1272,  ..., 0.1431, 0.6978, 0.0703],\n",
       "         [0.2925, 0.5778, 0.0744,  ..., 0.9027, 0.4208, 0.4606],\n",
       "         ...,\n",
       "         [0.3692, 0.9301, 0.9714,  ..., 0.2657, 0.8791, 0.1044],\n",
       "         [0.4452, 0.9902, 0.9977,  ..., 0.8379, 0.8823, 0.8268],\n",
       "         [0.7102, 0.2024, 0.0875,  ..., 0.9923, 0.6102, 0.7891]],\n",
       "\n",
       "        [[0.7388, 0.1740, 0.2940,  ..., 0.8808, 0.9318, 0.8444],\n",
       "         [0.6522, 0.3983, 0.7879,  ..., 0.3298, 0.3925, 0.5468],\n",
       "         [0.8607, 0.5961, 0.9488,  ..., 0.8005, 0.0501, 0.0979],\n",
       "         ...,\n",
       "         [0.4290, 0.9515, 0.8867,  ..., 0.0255, 0.8038, 0.0599],\n",
       "         [0.8282, 0.5388, 0.5618,  ..., 0.6357, 0.6436, 0.5713],\n",
       "         [0.4295, 0.6478, 0.7178,  ..., 0.0523, 0.6693, 0.5998]],\n",
       "\n",
       "        [[0.1236, 0.2246, 0.9519,  ..., 0.3363, 0.6399, 0.3840],\n",
       "         [0.3584, 0.9697, 0.0530,  ..., 0.6840, 0.5170, 0.9498],\n",
       "         [0.9655, 0.0337, 0.9962,  ..., 0.9126, 0.8144, 0.9270],\n",
       "         ...,\n",
       "         [0.2165, 0.7488, 0.1674,  ..., 0.1883, 0.3999, 0.2073],\n",
       "         [0.4063, 0.7688, 0.3845,  ..., 0.4912, 0.9426, 0.8687],\n",
       "         [0.0787, 0.8262, 0.2830,  ..., 0.6538, 0.7633, 0.8399]]])"
      ]
     },
     "execution_count": 45,
     "metadata": {},
     "output_type": "execute_result"
    }
   ],
   "source": [
    "x = torch.rand(batch_size, seq_lenght, embed_size)\n",
    "x"
   ]
  },
  {
   "cell_type": "code",
   "execution_count": 46,
   "id": "grateful-twelve",
   "metadata": {},
   "outputs": [],
   "source": [
    "raw_w = torch.bmm(x,x.transpose(1,2))\n",
    "w = F.softmax(raw_w, dim=2)"
   ]
  },
  {
   "cell_type": "code",
   "execution_count": 47,
   "id": "twelve-combine",
   "metadata": {},
   "outputs": [
    {
     "data": {
      "text/plain": [
       "tensor([[1.0000e+00, 3.3188e-10, 1.0226e-13, 1.5844e-12, 1.8791e-13, 2.9940e-12,\n",
       "         1.1840e-14, 1.8750e-11, 3.7648e-15, 1.9065e-11, 4.8581e-10, 1.5364e-12,\n",
       "         2.5318e-13, 5.0394e-14, 1.0582e-12, 7.1780e-12, 8.3139e-12, 1.0477e-11,\n",
       "         3.2748e-12, 1.3927e-12],\n",
       "        [5.1502e-13, 1.0000e+00, 3.2254e-13, 3.4809e-13, 1.8266e-14, 2.4460e-13,\n",
       "         2.8184e-16, 1.6522e-12, 1.6795e-14, 8.8632e-13, 1.0680e-11, 1.1164e-12,\n",
       "         1.5191e-14, 4.1144e-15, 2.3144e-14, 4.1371e-15, 2.8554e-13, 4.4913e-12,\n",
       "         1.5573e-12, 1.4297e-13],\n",
       "        [1.0132e-13, 2.0592e-10, 1.0000e+00, 1.8812e-12, 9.8147e-14, 1.4264e-11,\n",
       "         1.2003e-14, 3.6623e-12, 1.7419e-12, 2.8750e-12, 1.6348e-09, 8.3222e-13,\n",
       "         1.9178e-12, 8.5284e-13, 1.2768e-12, 2.2190e-13, 4.1252e-11, 2.5239e-11,\n",
       "         4.6964e-13, 5.9951e-12],\n",
       "        [3.8560e-13, 5.4591e-11, 4.6212e-13, 1.0000e+00, 1.3654e-12, 7.5007e-11,\n",
       "         6.2557e-14, 1.5267e-11, 1.7706e-13, 1.7627e-11, 3.8040e-09, 3.6556e-12,\n",
       "         4.9659e-12, 2.0637e-13, 3.3246e-10, 1.2913e-11, 5.4079e-11, 2.5088e-11,\n",
       "         4.3528e-11, 2.4439e-13],\n",
       "        [2.4105e-11, 1.5100e-09, 1.2709e-11, 7.1971e-10, 1.0000e+00, 6.7770e-11,\n",
       "         4.1617e-12, 1.0154e-09, 1.3987e-11, 9.3887e-10, 4.0296e-09, 1.0148e-11,\n",
       "         2.5968e-11, 3.1890e-12, 4.9262e-11, 1.4694e-10, 1.3296e-09, 8.9233e-10,\n",
       "         2.0194e-09, 4.0216e-12],\n",
       "        [2.0051e-13, 1.0556e-11, 9.6423e-13, 2.0640e-11, 3.5379e-14, 1.0000e+00,\n",
       "         1.1328e-15, 5.7403e-12, 4.7460e-13, 8.9465e-11, 8.8852e-10, 2.9599e-12,\n",
       "         2.0089e-12, 6.7870e-14, 1.5163e-12, 1.2588e-11, 6.6411e-12, 1.6541e-11,\n",
       "         1.7136e-11, 5.9909e-14],\n",
       "        [5.6488e-11, 8.6651e-10, 5.7803e-11, 1.2263e-09, 1.5478e-10, 8.0701e-11,\n",
       "         1.0000e+00, 1.4557e-09, 9.0112e-12, 6.8438e-10, 3.4712e-08, 1.2319e-10,\n",
       "         1.3518e-10, 1.8961e-11, 5.2086e-10, 2.4226e-10, 2.2072e-09, 2.7743e-09,\n",
       "         1.3636e-08, 2.9273e-11],\n",
       "        [2.4215e-12, 1.3750e-10, 4.7740e-13, 8.1012e-12, 1.0222e-12, 1.1070e-11,\n",
       "         3.9404e-14, 1.0000e+00, 5.8198e-13, 1.8163e-10, 2.8726e-10, 1.3886e-11,\n",
       "         7.0314e-13, 6.7894e-14, 2.7298e-12, 9.1238e-12, 5.4379e-12, 3.2043e-11,\n",
       "         7.0894e-10, 2.8453e-13],\n",
       "        [3.6412e-11, 1.0467e-07, 1.7005e-08, 7.0365e-09, 1.0545e-09, 6.8542e-08,\n",
       "         1.8268e-11, 4.3584e-08, 1.0000e+00, 1.4353e-08, 5.3056e-07, 1.1517e-08,\n",
       "         6.0291e-09, 7.8333e-10, 1.0197e-08, 1.1506e-09, 1.7778e-07, 2.0263e-06,\n",
       "         1.1676e-09, 4.8567e-09],\n",
       "        [1.6715e-11, 5.0074e-10, 2.5442e-12, 6.3498e-11, 6.4165e-12, 1.1712e-09,\n",
       "         1.2576e-13, 1.2330e-09, 1.3011e-12, 1.0000e+00, 2.2841e-09, 8.0114e-12,\n",
       "         4.9188e-12, 2.5508e-13, 5.0170e-11, 6.0879e-11, 1.7549e-10, 4.1662e-11,\n",
       "         1.0573e-10, 1.6796e-13],\n",
       "        [5.3181e-14, 7.5340e-13, 1.8063e-13, 1.7110e-12, 3.4386e-15, 1.4524e-12,\n",
       "         7.9645e-16, 2.4349e-13, 6.0051e-15, 2.8520e-13, 1.0000e+00, 2.0994e-13,\n",
       "         2.2416e-15, 2.1562e-14, 2.3194e-13, 3.7573e-13, 4.9067e-13, 2.3819e-13,\n",
       "         1.2664e-13, 9.3222e-15],\n",
       "        [1.1318e-13, 5.2997e-11, 6.1879e-14, 1.1065e-12, 5.8272e-15, 3.2558e-12,\n",
       "         1.9021e-15, 7.9205e-12, 8.7720e-14, 6.7314e-13, 1.4128e-10, 1.0000e+00,\n",
       "         5.0605e-14, 1.2651e-13, 3.2432e-13, 3.0141e-13, 5.6025e-12, 1.6258e-11,\n",
       "         5.3809e-11, 1.0578e-13],\n",
       "        [2.1258e-11, 8.2194e-10, 1.6254e-10, 1.7132e-09, 1.6997e-11, 2.5188e-09,\n",
       "         2.3790e-12, 4.5715e-10, 5.2341e-11, 4.7108e-10, 1.7194e-09, 5.7681e-11,\n",
       "         1.0000e+00, 6.5834e-12, 2.7558e-11, 1.0316e-10, 7.2645e-10, 1.8570e-09,\n",
       "         2.0683e-10, 1.9318e-11],\n",
       "        [4.1014e-10, 2.1579e-08, 7.0060e-09, 6.9013e-09, 2.0232e-10, 8.2480e-09,\n",
       "         3.2346e-11, 4.2786e-09, 6.5916e-10, 2.3679e-09, 1.6031e-06, 1.3977e-08,\n",
       "         6.3812e-10, 1.0000e+00, 2.4455e-10, 1.7890e-09, 2.3881e-08, 2.5996e-08,\n",
       "         1.7322e-09, 1.6490e-09],\n",
       "        [4.4718e-14, 6.3024e-13, 5.4459e-14, 5.7727e-11, 1.6227e-14, 9.5677e-13,\n",
       "         4.6135e-15, 8.9321e-13, 4.4552e-14, 2.4182e-12, 8.9534e-11, 1.8605e-13,\n",
       "         1.3869e-14, 1.2698e-15, 1.0000e+00, 5.0933e-14, 7.9201e-13, 6.9408e-11,\n",
       "         5.5929e-12, 7.2975e-14],\n",
       "        [2.2695e-10, 8.4292e-11, 7.0815e-12, 1.6776e-09, 3.6217e-11, 5.9429e-09,\n",
       "         1.6055e-12, 2.2337e-09, 3.7614e-12, 2.1955e-09, 1.0852e-07, 1.2937e-10,\n",
       "         3.8847e-11, 6.9499e-12, 3.8108e-11, 1.0000e+00, 2.3056e-09, 1.2850e-09,\n",
       "         1.2147e-10, 7.2728e-12],\n",
       "        [1.0932e-12, 2.4194e-11, 5.4749e-12, 2.9218e-11, 1.3628e-12, 1.3039e-11,\n",
       "         6.0832e-14, 5.5366e-12, 2.4169e-12, 2.6319e-11, 5.8937e-10, 1.0000e-11,\n",
       "         1.1376e-12, 3.8583e-13, 2.4644e-12, 9.5881e-12, 1.0000e+00, 1.5935e-09,\n",
       "         4.7893e-12, 2.8602e-12],\n",
       "        [1.7579e-13, 4.8562e-11, 4.2745e-13, 1.7297e-12, 1.1671e-13, 4.1443e-12,\n",
       "         9.7570e-15, 4.1632e-12, 3.5153e-12, 7.9733e-13, 3.6508e-11, 3.7031e-12,\n",
       "         3.7109e-13, 5.3595e-14, 2.7559e-11, 6.8196e-13, 2.0334e-10, 1.0000e+00,\n",
       "         9.1378e-12, 2.8469e-13],\n",
       "        [4.2734e-14, 1.3095e-11, 6.1859e-15, 2.3339e-12, 2.0542e-13, 3.3390e-12,\n",
       "         3.7296e-14, 7.1633e-11, 1.5753e-15, 1.5738e-12, 1.5096e-11, 9.5320e-12,\n",
       "         3.2145e-14, 2.7773e-15, 1.7271e-12, 5.0134e-14, 4.7530e-13, 7.1066e-12,\n",
       "         1.0000e+00, 3.2709e-14],\n",
       "        [2.3788e-11, 1.5737e-09, 1.0336e-10, 1.7152e-11, 5.3548e-13, 1.5280e-11,\n",
       "         1.0480e-13, 3.7633e-11, 8.5774e-12, 3.2724e-12, 1.4546e-09, 2.4528e-11,\n",
       "         3.9299e-12, 3.4609e-12, 2.9497e-11, 3.9291e-12, 3.7156e-10, 2.8982e-10,\n",
       "         4.2816e-11, 1.0000e+00]])"
      ]
     },
     "execution_count": 47,
     "metadata": {},
     "output_type": "execute_result"
    }
   ],
   "source": [
    "w[0]"
   ]
  },
  {
   "cell_type": "markdown",
   "id": "foreign-jacksonville",
   "metadata": {},
   "source": [
    "# Improvements\n",
    "- Scaled Self Attention\n",
    "- Queries, Keys, Values\n",
    "- Multi-Head Attention"
   ]
  },
  {
   "cell_type": "markdown",
   "id": "solar-proxy",
   "metadata": {},
   "source": [
    "### 1. Scaled Self Attention"
   ]
  },
  {
   "cell_type": "code",
   "execution_count": 48,
   "id": "industrial-assets",
   "metadata": {},
   "outputs": [
    {
     "data": {
      "text/plain": [
       "tensor([[[0.0856, 0.1917, 0.3817,  ..., 0.7692, 0.3625, 0.0669],\n",
       "         [0.0514, 0.7932, 0.8035,  ..., 0.0321, 0.0751, 0.6124],\n",
       "         [0.6006, 0.7362, 0.3930,  ..., 0.0893, 0.9119, 0.8380],\n",
       "         ...,\n",
       "         [0.7212, 0.7860, 0.7201,  ..., 0.3659, 0.8427, 0.4664],\n",
       "         [0.1301, 0.8760, 0.3244,  ..., 0.0035, 0.6172, 0.0257],\n",
       "         [0.1938, 0.7037, 0.6439,  ..., 0.9373, 0.3727, 0.9019]],\n",
       "\n",
       "        [[0.8212, 0.3045, 0.3686,  ..., 0.7035, 0.9349, 0.6780],\n",
       "         [0.9223, 0.7732, 0.5127,  ..., 0.9006, 0.6987, 0.3132],\n",
       "         [0.8569, 0.7703, 0.9948,  ..., 0.4629, 0.9225, 0.0412],\n",
       "         ...,\n",
       "         [0.6115, 0.8857, 0.3158,  ..., 0.2340, 0.1191, 0.8765],\n",
       "         [0.6330, 0.0824, 0.1951,  ..., 0.0161, 0.6999, 0.9743],\n",
       "         [0.7470, 0.3522, 0.9998,  ..., 0.5571, 0.9565, 0.8251]],\n",
       "\n",
       "        [[0.6558, 0.7204, 0.9954,  ..., 0.8924, 0.0433, 0.8419],\n",
       "         [0.4929, 0.2820, 0.0615,  ..., 0.4065, 0.2151, 0.1029],\n",
       "         [0.4674, 0.8735, 0.0567,  ..., 0.3055, 0.0181, 0.3938],\n",
       "         ...,\n",
       "         [0.3079, 0.7717, 0.3991,  ..., 0.3352, 0.4834, 0.3026],\n",
       "         [0.4065, 0.6910, 0.9456,  ..., 0.4152, 0.1637, 0.0495],\n",
       "         [0.7788, 0.3055, 0.5812,  ..., 0.9205, 0.9272, 0.2216]],\n",
       "\n",
       "        ...,\n",
       "\n",
       "        [[0.4767, 0.8857, 0.4848,  ..., 0.0301, 0.3478, 0.7413],\n",
       "         [0.5104, 0.1538, 0.1272,  ..., 0.1431, 0.6978, 0.0703],\n",
       "         [0.2925, 0.5778, 0.0744,  ..., 0.9027, 0.4208, 0.4606],\n",
       "         ...,\n",
       "         [0.3692, 0.9301, 0.9714,  ..., 0.2657, 0.8791, 0.1044],\n",
       "         [0.4452, 0.9902, 0.9977,  ..., 0.8379, 0.8823, 0.8268],\n",
       "         [0.7102, 0.2024, 0.0875,  ..., 0.9923, 0.6102, 0.7891]],\n",
       "\n",
       "        [[0.7388, 0.1740, 0.2940,  ..., 0.8808, 0.9318, 0.8444],\n",
       "         [0.6522, 0.3983, 0.7879,  ..., 0.3298, 0.3925, 0.5468],\n",
       "         [0.8607, 0.5961, 0.9488,  ..., 0.8005, 0.0501, 0.0979],\n",
       "         ...,\n",
       "         [0.4290, 0.9515, 0.8867,  ..., 0.0255, 0.8038, 0.0599],\n",
       "         [0.8282, 0.5388, 0.5618,  ..., 0.6357, 0.6436, 0.5713],\n",
       "         [0.4295, 0.6478, 0.7178,  ..., 0.0523, 0.6693, 0.5998]],\n",
       "\n",
       "        [[0.1236, 0.2246, 0.9519,  ..., 0.3363, 0.6399, 0.3840],\n",
       "         [0.3584, 0.9697, 0.0530,  ..., 0.6840, 0.5170, 0.9498],\n",
       "         [0.9655, 0.0337, 0.9962,  ..., 0.9126, 0.8144, 0.9270],\n",
       "         ...,\n",
       "         [0.2165, 0.7488, 0.1674,  ..., 0.1883, 0.3999, 0.2073],\n",
       "         [0.4063, 0.7688, 0.3845,  ..., 0.4912, 0.9426, 0.8687],\n",
       "         [0.0787, 0.8262, 0.2830,  ..., 0.6538, 0.7633, 0.8399]]])"
      ]
     },
     "execution_count": 48,
     "metadata": {},
     "output_type": "execute_result"
    }
   ],
   "source": [
    "x"
   ]
  },
  {
   "cell_type": "code",
   "execution_count": 49,
   "id": "integrated-button",
   "metadata": {},
   "outputs": [
    {
     "name": "stdout",
     "output_type": "stream",
     "text": [
      "tensor(76.4424)\n"
     ]
    },
    {
     "data": {
      "text/plain": [
       "tensor(4.4134)"
      ]
     },
     "execution_count": 49,
     "metadata": {},
     "output_type": "execute_result"
    }
   ],
   "source": [
    "raw_w = torch.bmm(x,x.transpose(1,2))\n",
    "print(raw_w.mean())\n",
    "raw_w = raw_w/ np.sqrt(embed_size)\n",
    "raw_w.mean()"
   ]
  },
  {
   "cell_type": "code",
   "execution_count": 50,
   "id": "running-mystery",
   "metadata": {},
   "outputs": [
    {
     "data": {
      "text/plain": [
       "17.320508075688775"
      ]
     },
     "execution_count": 50,
     "metadata": {},
     "output_type": "execute_result"
    }
   ],
   "source": [
    "np.sqrt(embed_size)"
   ]
  },
  {
   "cell_type": "code",
   "execution_count": 51,
   "id": "affiliated-porcelain",
   "metadata": {},
   "outputs": [],
   "source": [
    "def scaled_self_attn(x):\n",
    "    batch_size, seq_lengt, embed_size = x.size()\n",
    "    raw_w = torch.bmm(x,x.transpose(1,2))\n",
    "    raw_w = raw_w/ np.sqrt(embed_size)\n",
    "    w = F.softmax(raw_w, dim=2)\n",
    "    y = torch.bmm(w,x)\n",
    "    return y, w"
   ]
  },
  {
   "cell_type": "code",
   "execution_count": 52,
   "id": "horizontal-highlight",
   "metadata": {},
   "outputs": [
    {
     "data": {
      "text/plain": [
       "tensor(0.0500)"
      ]
     },
     "execution_count": 52,
     "metadata": {},
     "output_type": "execute_result"
    }
   ],
   "source": [
    "y0,w0 = raw_self_attn(x)\n",
    "w0.mean()"
   ]
  },
  {
   "cell_type": "code",
   "execution_count": 53,
   "id": "administrative-victory",
   "metadata": {},
   "outputs": [
    {
     "data": {
      "text/plain": [
       "tensor(0.0500)"
      ]
     },
     "execution_count": 53,
     "metadata": {},
     "output_type": "execute_result"
    }
   ],
   "source": [
    "y1,w1 = scaled_self_attn(x)\n",
    "w1.mean()"
   ]
  },
  {
   "cell_type": "code",
   "execution_count": 54,
   "id": "spatial-portable",
   "metadata": {},
   "outputs": [
    {
     "data": {
      "text/plain": [
       "<matplotlib.image.AxesImage at 0x119c54940>"
      ]
     },
     "execution_count": 54,
     "metadata": {},
     "output_type": "execute_result"
    },
    {
     "data": {
      "image/png": "[encoded data removed]",
      "text/plain": [
       "<Figure size 432x288 with 1 Axes>"
      ]
     },
     "metadata": {
      "needs_background": "light"
     },
     "output_type": "display_data"
    }
   ],
   "source": [
    "imshow(w0[0])"
   ]
  },
  {
   "cell_type": "code",
   "execution_count": 55,
   "id": "imperial-moisture",
   "metadata": {},
   "outputs": [
    {
     "data": {
      "text/plain": [
       "<matplotlib.image.AxesImage at 0x119cabd30>"
      ]
     },
     "execution_count": 55,
     "metadata": {},
     "output_type": "execute_result"
    },
    {
     "data": {
      "image/png": "[encoded data removed]",
      "text/plain": [
       "<Figure size 432x288 with 1 Axes>"
      ]
     },
     "metadata": {
      "needs_background": "light"
     },
     "output_type": "display_data"
    }
   ],
   "source": [
    "imshow(w1[0])"
   ]
  },
  {
   "cell_type": "markdown",
   "id": "adopted-portal",
   "metadata": {},
   "source": [
    "### 2. Queries, Keys, Values\n",
    "- Attention is a soft dictionary\n",
    "- Every key matches a query to some extend\n",
    "- Not return a specific value, but a mixture of values (with softmax normalized dot products as a mixture of weights)\n",
    "- In self attention, all keys, queries and values comes from the same set"
   ]
  },
  {
   "cell_type": "code",
   "execution_count": 199,
   "id": "coordinated-screen",
   "metadata": {},
   "outputs": [],
   "source": [
    "class SingleHeadSelfAttn(nn.Module):\n",
    "    def __init__(self, seq_lenght, embed_size, return_attention = False):\n",
    "        super().__init__()\n",
    "        self.lenght = seq_lenght\n",
    "        self.embed = embed_size\n",
    "        self.return_w = return_attention\n",
    "        self.transform_q = nn.Linear(self.embed, self.embed)\n",
    "        self.transform_k = nn.Linear(self.embed, self.embed)\n",
    "        self.transform_v = nn.Linear(self.embed, self.embed)\n",
    "        return None\n",
    "    \n",
    "    def scaled_dot_attention(self, q, k, v):\n",
    "        raw_w = torch.bmm(q,k.transpose(1,2))\n",
    "        raw_w = raw_w/ np.sqrt(self.embed)\n",
    "        w = F.softmax(raw_w, dim=2)\n",
    "        out = torch.bmm(w, v)\n",
    "        if self.return_w:\n",
    "            return out, w.detach().numpy()\n",
    "        else:\n",
    "            return out\n",
    "    \n",
    "    def forward(self, x):\n",
    "        q = self.transform_q(x)\n",
    "        k = self.transform_k(x)\n",
    "        v = self.transform_v(x)\n",
    "        out = self.scaled_dot_attention(q,k,v)\n",
    "        return out"
   ]
  },
  {
   "cell_type": "code",
   "execution_count": 200,
   "id": "expected-treasury",
   "metadata": {},
   "outputs": [
    {
     "data": {
      "text/plain": [
       "(20, 300)"
      ]
     },
     "execution_count": 200,
     "metadata": {},
     "output_type": "execute_result"
    }
   ],
   "source": [
    "seq_lenght, embed_size"
   ]
  },
  {
   "cell_type": "code",
   "execution_count": 201,
   "id": "matched-vertex",
   "metadata": {},
   "outputs": [
    {
     "data": {
      "text/plain": [
       "torch.Size([16, 20, 300])"
      ]
     },
     "execution_count": 201,
     "metadata": {},
     "output_type": "execute_result"
    }
   ],
   "source": [
    "x.shape"
   ]
  },
  {
   "cell_type": "code",
   "execution_count": 202,
   "id": "considerable-income",
   "metadata": {},
   "outputs": [],
   "source": [
    "att = SingleHeadSelfAttn(seq_lenght, embed_size, return_attention=True)"
   ]
  },
  {
   "cell_type": "code",
   "execution_count": 203,
   "id": "peaceful-capture",
   "metadata": {},
   "outputs": [
    {
     "data": {
      "text/plain": [
       "(torch.Size([16, 20, 300]), (16, 20, 20))"
      ]
     },
     "execution_count": 203,
     "metadata": {},
     "output_type": "execute_result"
    }
   ],
   "source": [
    "outs, w = att(x)\n",
    "outs.shape, w.shape"
   ]
  },
  {
   "cell_type": "code",
   "execution_count": 204,
   "id": "domestic-flush",
   "metadata": {},
   "outputs": [
    {
     "data": {
      "text/plain": [
       "array([[0.04866564, 0.05307571, 0.05631923, 0.05000139, 0.05032464,\n",
       "        0.0512806 , 0.04653352, 0.05343568, 0.05104593, 0.05202592,\n",
       "        0.05050563, 0.04342857, 0.05074209, 0.05141867, 0.04634961,\n",
       "        0.04906446, 0.04635028, 0.04808216, 0.0502267 , 0.05112353],\n",
       "       [0.04560511, 0.04957413, 0.05686795, 0.04949437, 0.05134268,\n",
       "        0.05355142, 0.04719977, 0.05382648, 0.05049339, 0.05048638,\n",
       "        0.04893049, 0.04203658, 0.04968655, 0.05296049, 0.050453  ,\n",
       "        0.04983963, 0.04422356, 0.04834776, 0.05432617, 0.05075407],\n",
       "       [0.04902902, 0.04899746, 0.05419888, 0.05313929, 0.04902532,\n",
       "        0.05726247, 0.04533409, 0.05293822, 0.04804694, 0.05273312,\n",
       "        0.05071581, 0.04484954, 0.0479059 , 0.04971744, 0.04945495,\n",
       "        0.05128388, 0.04522665, 0.05032463, 0.05232645, 0.04749001],\n",
       "       [0.04838726, 0.05075201, 0.05424774, 0.04781309, 0.04908088,\n",
       "        0.05639474, 0.04774433, 0.05180538, 0.05210044, 0.05152094,\n",
       "        0.05016092, 0.04611476, 0.05071174, 0.05121927, 0.0474802 ,\n",
       "        0.0515498 , 0.0434024 , 0.05059592, 0.05060064, 0.0483175 ],\n",
       "       [0.04806658, 0.0466978 , 0.05449565, 0.05011796, 0.04837423,\n",
       "        0.0553933 , 0.05079156, 0.05463413, 0.04903401, 0.05339538,\n",
       "        0.05014829, 0.04402713, 0.04740505, 0.05262116, 0.04784426,\n",
       "        0.05213098, 0.04523364, 0.04788093, 0.05270244, 0.04900559],\n",
       "       [0.04915077, 0.04869547, 0.05516015, 0.04966611, 0.05106134,\n",
       "        0.05210776, 0.04904287, 0.05619464, 0.0510566 , 0.05239816,\n",
       "        0.04856099, 0.04583621, 0.04996951, 0.0512142 , 0.04893499,\n",
       "        0.0491448 , 0.04230567, 0.04813069, 0.0525457 , 0.04882334],\n",
       "       [0.048942  , 0.04790678, 0.05326637, 0.05316128, 0.04927819,\n",
       "        0.05649053, 0.04897638, 0.05407615, 0.04960454, 0.05368204,\n",
       "        0.05029095, 0.04276339, 0.05029411, 0.05086937, 0.04849244,\n",
       "        0.04997749, 0.04510503, 0.04654199, 0.05209772, 0.04818325],\n",
       "       [0.04781365, 0.04907018, 0.05516894, 0.04773459, 0.04857425,\n",
       "        0.05752613, 0.04744409, 0.0569493 , 0.04951011, 0.05175096,\n",
       "        0.04935775, 0.04430645, 0.04826807, 0.05455589, 0.04839883,\n",
       "        0.05035903, 0.04523746, 0.04847784, 0.05203755, 0.04745901],\n",
       "       [0.04718842, 0.04592577, 0.05414988, 0.05139541, 0.04888101,\n",
       "        0.05681028, 0.04805562, 0.05591433, 0.04856991, 0.05349696,\n",
       "        0.04947886, 0.04388797, 0.04994311, 0.05236291, 0.0479993 ,\n",
       "        0.05192532, 0.0433581 , 0.04892845, 0.05394047, 0.04778785],\n",
       "       [0.04651668, 0.0491271 , 0.05655771, 0.05216223, 0.05006163,\n",
       "        0.05655367, 0.04844102, 0.05415844, 0.04765137, 0.0539057 ,\n",
       "        0.04914432, 0.04447976, 0.04912137, 0.05238212, 0.04685614,\n",
       "        0.05065218, 0.04482774, 0.04836533, 0.04978259, 0.04925288],\n",
       "       [0.04760894, 0.04622953, 0.05564443, 0.05006234, 0.04756904,\n",
       "        0.05201649, 0.05247974, 0.05576931, 0.04865459, 0.05272113,\n",
       "        0.04949211, 0.04707579, 0.04913689, 0.05008128, 0.04793671,\n",
       "        0.04888707, 0.04754616, 0.04983085, 0.05263428, 0.04862343],\n",
       "       [0.04824409, 0.04715846, 0.0546841 , 0.04991106, 0.04713663,\n",
       "        0.05534562, 0.04900751, 0.056049  , 0.04787042, 0.05349793,\n",
       "        0.05138728, 0.04581043, 0.04905054, 0.05170941, 0.04942414,\n",
       "        0.04873168, 0.04454163, 0.04798933, 0.054387  , 0.04806375],\n",
       "       [0.04911813, 0.05062464, 0.05444431, 0.049768  , 0.04799373,\n",
       "        0.05725528, 0.04912042, 0.0547836 , 0.04776359, 0.0537483 ,\n",
       "        0.05088314, 0.04520028, 0.04909614, 0.05013951, 0.04622677,\n",
       "        0.05121939, 0.04504409, 0.04874342, 0.0520294 , 0.04679788],\n",
       "       [0.04902837, 0.04465818, 0.05344275, 0.05338371, 0.04825055,\n",
       "        0.05563609, 0.05044895, 0.05352697, 0.04989094, 0.04825253,\n",
       "        0.05076101, 0.0466996 , 0.05108774, 0.05064111, 0.04775421,\n",
       "        0.05108164, 0.04653648, 0.04892065, 0.05179101, 0.04820748],\n",
       "       [0.04940475, 0.04937687, 0.05773348, 0.04986493, 0.04918094,\n",
       "        0.0550479 , 0.04750659, 0.05594803, 0.04915622, 0.05313354,\n",
       "        0.05013753, 0.04286005, 0.04903768, 0.05324944, 0.0452426 ,\n",
       "        0.04932917, 0.04348796, 0.04878145, 0.05258377, 0.04893714],\n",
       "       [0.04864432, 0.04915648, 0.05343893, 0.04972124, 0.04913025,\n",
       "        0.05506561, 0.04833644, 0.05422118, 0.05097427, 0.05363781,\n",
       "        0.04931141, 0.0470369 , 0.04923775, 0.04981878, 0.04845015,\n",
       "        0.05121286, 0.04412465, 0.04951393, 0.05161826, 0.04734889],\n",
       "       [0.04912771, 0.04639353, 0.05328674, 0.049647  , 0.05032328,\n",
       "        0.05704046, 0.04904886, 0.05237337, 0.05119022, 0.0499414 ,\n",
       "        0.05061989, 0.0415758 , 0.050217  , 0.05266282, 0.04463052,\n",
       "        0.05201527, 0.0479161 , 0.05043487, 0.05174974, 0.0498054 ],\n",
       "       [0.04736342, 0.04857712, 0.05538451, 0.05093076, 0.04946999,\n",
       "        0.05567469, 0.04883213, 0.05341301, 0.04949024, 0.05171902,\n",
       "        0.05156181, 0.04282993, 0.04915767, 0.05210471, 0.04762995,\n",
       "        0.05154845, 0.04484036, 0.04814034, 0.05197828, 0.04935355],\n",
       "       [0.04932996, 0.04913666, 0.05570422, 0.04802791, 0.04853993,\n",
       "        0.05451925, 0.04936104, 0.05507399, 0.04901197, 0.05195316,\n",
       "        0.05045361, 0.04594139, 0.04752826, 0.05387475, 0.04700172,\n",
       "        0.05046836, 0.04485829, 0.04967816, 0.05137773, 0.04815969],\n",
       "       [0.04898112, 0.04889061, 0.05597259, 0.05336568, 0.04859672,\n",
       "        0.05584116, 0.0479601 , 0.0544666 , 0.04778107, 0.05001486,\n",
       "        0.05039944, 0.04232126, 0.04887534, 0.05139085, 0.04764633,\n",
       "        0.04947365, 0.04600554, 0.04973944, 0.05264319, 0.04963445]],\n",
       "      dtype=float32)"
      ]
     },
     "execution_count": 204,
     "metadata": {},
     "output_type": "execute_result"
    }
   ],
   "source": [
    "w[0]"
   ]
  },
  {
   "cell_type": "code",
   "execution_count": 207,
   "id": "upset-qualification",
   "metadata": {},
   "outputs": [
    {
     "data": {
      "text/plain": [
       "<matplotlib.image.AxesImage at 0x11a001a58>"
      ]
     },
     "execution_count": 207,
     "metadata": {},
     "output_type": "execute_result"
    },
    {
     "data": {
      "image/png": "[encoded data removed]",
      "text/plain": [
       "<Figure size 432x288 with 1 Axes>"
      ]
     },
     "metadata": {
      "needs_background": "light"
     },
     "output_type": "display_data"
    }
   ],
   "source": [
    "imshow(w[2])"
   ]
  },
  {
   "cell_type": "code",
   "execution_count": null,
   "id": "immediate-revelation",
   "metadata": {},
   "outputs": [],
   "source": []
  }
 ],
 "metadata": {
  "kernelspec": {
   "display_name": "torch",
   "language": "python",
   "name": "torch"
  },
  "language_info": {
   "codemirror_mode": {
    "name": "ipython",
    "version": 3
   },
   "file_extension": ".py",
   "mimetype": "text/x-python",
   "name": "python",
   "nbconvert_exporter": "python",
   "pygments_lexer": "ipython3",
   "version": "3.7.2"
  }
 },
 "nbformat": 4,
 "nbformat_minor": 5
}
