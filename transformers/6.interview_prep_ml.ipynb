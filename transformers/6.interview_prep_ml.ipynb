{
 "cells": [
  {
   "cell_type": "code",
   "execution_count": 9,
   "id": "quick-motor",
   "metadata": {},
   "outputs": [],
   "source": [
    "! mv /Users/rsilvei/Desktop/naive_bayes_2.png figures/"
   ]
  },
  {
   "cell_type": "code",
   "execution_count": 8,
   "id": "freelance-centre",
   "metadata": {},
   "outputs": [
    {
     "name": "stdout",
     "output_type": "stream",
     "text": [
      "big_o_1.png                  hierachical_clustering_1.png\r\n",
      "big_o_2.png                  hierachical_clustering_2.png\r\n",
      "big_o_3.png                  naive_bayes_1.png\r\n"
     ]
    }
   ],
   "source": [
    "! ls figures"
   ]
  },
  {
   "cell_type": "markdown",
   "id": "choice-miracle",
   "metadata": {},
   "source": [
    "##  Hierarchical Clustering\n",
    "- orders rows and columns based on similarity\n",
    "- are accompanied by a dendogram\n",
    "\n",
    "<img src=\"figures/hierachical_clustering_1.png\" width=640/>\n",
    "\n",
    "\n",
    "Uses Euclidean Distance to compute similarity:\n",
    "$ \\sqrt{(difSample1)^2 + (difSample2)^2}$\n",
    "\n",
    "<img src=\"figures/hierachical_clustering_2.png\" width=640/>\n",
    "\n",
    "Manhattan distance is the sum of the diferences:\n",
    "$ |difSample1| + |difSample2| + |difSampleN|$"
   ]
  },
  {
   "cell_type": "markdown",
   "id": "romance-intro",
   "metadata": {},
   "source": [
    "##  Naive Bayes\n",
    "- Two versions = Multinomial Naive Bayes and Gaussian Naive Bayes\n",
    "- Calculate Prior Probability of a given message being normal - $P(N)*P(Dear|N)*P(Friend|N)$\n",
    "- Calculate Prior Probability of a given message being spam - $P(S)*P(Dear|S)*P(Friend|S)$\n",
    "- Compare both values and decide\n",
    "- Add 1 black box on each count not to have 0 and multiply \"Case of Lunch Money Money Money\"\n",
    "    - Greek letter $\\alpha$\n",
    "- It's naive because don't take order into consideration\n",
    "\n",
    "<img src=\"figures/naive_bayes_1.png\" width=480/>\n",
    "\n",
    "<img src=\"figures/naive_bayes_2.png\" width=480/>"
   ]
  },
  {
   "cell_type": "code",
   "execution_count": null,
   "id": "stunning-viking",
   "metadata": {},
   "outputs": [],
   "source": []
  },
  {
   "cell_type": "markdown",
   "id": "dynamic-handbook",
   "metadata": {},
   "source": [
    "## Cross Validation"
   ]
  },
  {
   "cell_type": "code",
   "execution_count": null,
   "id": "extensive-hammer",
   "metadata": {},
   "outputs": [],
   "source": []
  },
  {
   "cell_type": "code",
   "execution_count": null,
   "id": "hispanic-motion",
   "metadata": {},
   "outputs": [],
   "source": []
  },
  {
   "cell_type": "code",
   "execution_count": 4,
   "id": "prescription-democrat",
   "metadata": {},
   "outputs": [
    {
     "name": "stdout",
     "output_type": "stream",
     "text": [
      "big_o_1.png                  naive_bayes_1.png\r\n",
      "big_o_2.png                  naive_bayes_2.png\r\n",
      "big_o_3.png                  overfitting_1.png\r\n",
      "hash_table_1.png             transformer-block.svg\r\n",
      "heap_1.png                   trees_1.png\r\n",
      "heap_2.png                   tries_1.png\r\n",
      "hierachical_clustering_1.png tries_2.png\r\n",
      "hierachical_clustering_2.png tries_3.png\r\n"
     ]
    }
   ],
   "source": [
    "!ls figures/"
   ]
  },
  {
   "cell_type": "markdown",
   "id": "worthy-kenya",
   "metadata": {},
   "source": [
    "## Overfitting and Regularization\n",
    "\n",
    "- **Overfitting** --> model complexity is much higher than data complexity\n",
    "    - Signs - training error going down, validation error going up\n",
    "<img src=\"figures/overfitting_1.png\" width=480/>\n",
    "\n",
    "- **Regularization**\n",
    "    - adds prior knowledge to the model - prior distribution specified by the parameters\n",
    "    - restriction of set of possible learnable functions\n",
    "    - any modification to the learning algorithm that reduces generalization error smaller but not training error\n",
    "- **Regularization techniques**\n",
    "    - Xavier - initialization techniques\n",
    "    - Weight decay\n",
    "    - L1 regularization \n",
    "    - Dropout\n",
    "    - Early stopping\n",
    "    - Batch Normalization\n",
    "    - More data\n",
    "    - Data Augmentation\n",
    "    - Transfer Learning and Fine Tuning\n",
    "    "
   ]
  },
  {
   "cell_type": "code",
   "execution_count": null,
   "id": "invalid-cigarette",
   "metadata": {},
   "outputs": [],
   "source": []
  }
 ],
 "metadata": {
  "kernelspec": {
   "display_name": "torch",
   "language": "python",
   "name": "torch"
  },
  "language_info": {
   "codemirror_mode": {
    "name": "ipython",
    "version": 3
   },
   "file_extension": ".py",
   "mimetype": "text/x-python",
   "name": "python",
   "nbconvert_exporter": "python",
   "pygments_lexer": "ipython3",
   "version": "3.7.2"
  }
 },
 "nbformat": 4,
 "nbformat_minor": 5
}
