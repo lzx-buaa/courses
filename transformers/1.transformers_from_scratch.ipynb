{
 "cells": [
  {
   "cell_type": "code",
   "execution_count": 1,
   "id": "fantastic-meter",
   "metadata": {},
   "outputs": [],
   "source": [
    "import torch"
   ]
  },
  {
   "cell_type": "code",
   "execution_count": 2,
   "id": "handled-villa",
   "metadata": {},
   "outputs": [
    {
     "data": {
      "text/plain": [
       "'1.7.1'"
      ]
     },
     "execution_count": 2,
     "metadata": {},
     "output_type": "execute_result"
    }
   ],
   "source": [
    "torch.__version__"
   ]
  },
  {
   "cell_type": "markdown",
   "id": "julian-cooler",
   "metadata": {},
   "source": [
    "## Self Attention\n",
    "- Self attention is the only operation *between* vectors in transformers. All other operation is applied to each vector in the input sequence w/o interactions between vectors\n",
    "- We are learning what weights $w_{ij}$ should be, so their values is completely dependent on the task in hand\n",
    "- **Basic intuition** $\\rightarrow$ dot product express how related two vectors in the input sequence are\n",
    "- Self attention sees input as a *set*, not as a sequence $\\rightarrow$ **permutation invariant**"
   ]
  },
  {
   "cell_type": "code",
   "execution_count": 69,
   "id": "mobile-morocco",
   "metadata": {},
   "outputs": [],
   "source": [
    "import torch, os\n",
    "\n",
    "def mask_(matrices, maskval=0.0, mask_diagonal=True):\n",
    "    \"\"\"\n",
    "    Masks out all values in the given batch of matrices where i <= j holds,\n",
    "    i < j if mask_diagonal is false\n",
    "    In place operation\n",
    "    :param tns:\n",
    "    :return:\n",
    "    \"\"\"\n",
    "\n",
    "    b, h, w = matrices.size()\n",
    "\n",
    "    indices = torch.triu_indices(h, w, offset=0 if mask_diagonal else 1)\n",
    "    matrices[:, indices[0], indices[1]] = maskval\n",
    "\n",
    "def d(tensor=None):\n",
    "    \"\"\"\n",
    "    Returns a device string either for the best available device,\n",
    "    or for the device corresponding to the argument\n",
    "    :param tensor:\n",
    "    :return:\n",
    "    \"\"\"\n",
    "    if tensor is None:\n",
    "        return 'cuda' if torch.cuda.is_available() else 'cpu'\n",
    "    return 'cuda' if tensor.is_cuda else 'cpu'\n",
    "\n",
    "def here(subpath=None):\n",
    "    \"\"\"\n",
    "    :return: the path in which the package resides (the directory containing the 'former' dir)\n",
    "    \"\"\"\n",
    "    if subpath is None:\n",
    "        return os.path.abspath(os.path.join(os.path.dirname(__file__), '../..'))\n",
    "\n",
    "    return os.path.abspath(os.path.join(os.path.dirname(__file__), '../..', subpath))\n",
    "\n",
    "def contains_nan(tensor):\n",
    "    return bool((tensor != tensor).sum() > 0)"
   ]
  },
  {
   "cell_type": "markdown",
   "id": "coated-report",
   "metadata": {},
   "source": [
    "## Implementation in PyTorch\n",
    "\n",
    "- t $\\rightarrow$ lenght of the input vector\n",
    "- k $\\rightarrow$ dimension of the input vector\n",
    "- b $\\rightarrow$ minibatch dimension\n",
    "\n",
    "- Input $\\rightarrow$ **(b, t, k)**"
   ]
  },
  {
   "cell_type": "code",
   "execution_count": 70,
   "id": "strategic-invitation",
   "metadata": {},
   "outputs": [],
   "source": [
    "import torch\n",
    "import torch.nn.functional as F"
   ]
  },
  {
   "cell_type": "code",
   "execution_count": 71,
   "id": "handy-house",
   "metadata": {},
   "outputs": [],
   "source": [
    "k = 512\n",
    "t = 20\n",
    "b = 32"
   ]
  },
  {
   "cell_type": "code",
   "execution_count": 72,
   "id": "african-substance",
   "metadata": {},
   "outputs": [
    {
     "data": {
      "text/plain": [
       "torch.Size([32, 20, 512])"
      ]
     },
     "execution_count": 72,
     "metadata": {},
     "output_type": "execute_result"
    }
   ],
   "source": [
    "x = torch.rand(b,t,k)\n",
    "x.shape"
   ]
  },
  {
   "cell_type": "code",
   "execution_count": 73,
   "id": "finnish-knight",
   "metadata": {},
   "outputs": [
    {
     "data": {
      "text/plain": [
       "torch.Size([512])"
      ]
     },
     "execution_count": 73,
     "metadata": {},
     "output_type": "execute_result"
    }
   ],
   "source": [
    "x[0][0].shape"
   ]
  },
  {
   "cell_type": "code",
   "execution_count": 74,
   "id": "curious-portal",
   "metadata": {},
   "outputs": [
    {
     "data": {
      "text/plain": [
       "torch.Size([32, 512, 20])"
      ]
     },
     "execution_count": 74,
     "metadata": {},
     "output_type": "execute_result"
    }
   ],
   "source": [
    "x.transpose(1,2).shape"
   ]
  },
  {
   "cell_type": "code",
   "execution_count": 75,
   "id": "mexican-african",
   "metadata": {},
   "outputs": [
    {
     "data": {
      "text/plain": [
       "torch.Size([20, 32, 512])"
      ]
     },
     "execution_count": 75,
     "metadata": {},
     "output_type": "execute_result"
    }
   ],
   "source": [
    "x.transpose(0,1).shape"
   ]
  },
  {
   "cell_type": "code",
   "execution_count": 76,
   "id": "hungarian-training",
   "metadata": {},
   "outputs": [
    {
     "data": {
      "text/plain": [
       "torch.Size([512, 20, 32])"
      ]
     },
     "execution_count": 76,
     "metadata": {},
     "output_type": "execute_result"
    }
   ],
   "source": [
    "x.transpose(0,2).shape"
   ]
  },
  {
   "cell_type": "code",
   "execution_count": 77,
   "id": "duplicate-amazon",
   "metadata": {},
   "outputs": [
    {
     "data": {
      "text/plain": [
       "torch.Size([32, 20, 20])"
      ]
     },
     "execution_count": 77,
     "metadata": {},
     "output_type": "execute_result"
    }
   ],
   "source": [
    "raw_weights = torch.bmm(x, x.transpose(1,2))\n",
    "raw_weights.shape"
   ]
  },
  {
   "cell_type": "code",
   "execution_count": 78,
   "id": "applied-reach",
   "metadata": {},
   "outputs": [],
   "source": [
    "weights = F.softmax(raw_weights, dim=2)"
   ]
  },
  {
   "cell_type": "code",
   "execution_count": 79,
   "id": "clean-retro",
   "metadata": {},
   "outputs": [
    {
     "data": {
      "text/plain": [
       "torch.Size([32, 20, 20])"
      ]
     },
     "execution_count": 79,
     "metadata": {},
     "output_type": "execute_result"
    }
   ],
   "source": [
    "weights.shape"
   ]
  },
  {
   "cell_type": "code",
   "execution_count": 80,
   "id": "greatest-korea",
   "metadata": {},
   "outputs": [
    {
     "data": {
      "text/plain": [
       "torch.Size([32, 20, 512])"
      ]
     },
     "execution_count": 80,
     "metadata": {},
     "output_type": "execute_result"
    }
   ],
   "source": [
    "x.shape"
   ]
  },
  {
   "cell_type": "code",
   "execution_count": 81,
   "id": "intense-monitoring",
   "metadata": {},
   "outputs": [
    {
     "data": {
      "text/plain": [
       "torch.Size([32, 20, 512])"
      ]
     },
     "execution_count": 81,
     "metadata": {},
     "output_type": "execute_result"
    }
   ],
   "source": [
    "output_seq = torch.bmm(weights, x)\n",
    "output_seq.shape"
   ]
  },
  {
   "cell_type": "code",
   "execution_count": 82,
   "id": "bacterial-titanium",
   "metadata": {},
   "outputs": [
    {
     "data": {
      "text/plain": [
       "tensor([1.0000e+00, 6.8309e-20, 1.3575e-15, 2.0298e-16, 5.1996e-17, 4.2063e-17,\n",
       "        1.3181e-14, 3.5323e-18, 7.2735e-18, 6.0867e-17, 7.9257e-16, 1.1209e-17,\n",
       "        4.6487e-16, 7.5263e-18, 7.8510e-21, 6.8424e-18, 1.3988e-16, 1.7266e-16,\n",
       "        1.1696e-17, 5.8822e-15])"
      ]
     },
     "execution_count": 82,
     "metadata": {},
     "output_type": "execute_result"
    }
   ],
   "source": [
    "weights[0][0]"
   ]
  },
  {
   "cell_type": "code",
   "execution_count": 83,
   "id": "coupled-reading",
   "metadata": {},
   "outputs": [],
   "source": [
    "from matplotlib.pyplot import imshow"
   ]
  },
  {
   "cell_type": "code",
   "execution_count": 84,
   "id": "adapted-coordinator",
   "metadata": {},
   "outputs": [
    {
     "data": {
      "text/plain": [
       "<matplotlib.image.AxesImage at 0x10d537048>"
      ]
     },
     "execution_count": 84,
     "metadata": {},
     "output_type": "execute_result"
    },
    {
     "data": {
      "image/png": "[encoded data removed]",
      "text/plain": [
       "<Figure size 432x288 with 1 Axes>"
      ]
     },
     "metadata": {
      "needs_background": "light"
     },
     "output_type": "display_data"
    }
   ],
   "source": [
    "imshow(weights[0])"
   ]
  },
  {
   "cell_type": "code",
   "execution_count": 85,
   "id": "abstract-abraham",
   "metadata": {},
   "outputs": [
    {
     "data": {
      "text/plain": [
       "<matplotlib.image.AxesImage at 0x10d588470>"
      ]
     },
     "execution_count": 85,
     "metadata": {},
     "output_type": "execute_result"
    },
    {
     "data": {
      "image/png": "[encoded data removed]",
      "text/plain": [
       "<Figure size 432x288 with 1 Axes>"
      ]
     },
     "metadata": {
      "needs_background": "light"
     },
     "output_type": "display_data"
    }
   ],
   "source": [
    "imshow(weights[1])"
   ]
  },
  {
   "cell_type": "code",
   "execution_count": 86,
   "id": "adjacent-washington",
   "metadata": {},
   "outputs": [
    {
     "data": {
      "text/plain": [
       "<matplotlib.image.AxesImage at 0x10d5e3898>"
      ]
     },
     "execution_count": 86,
     "metadata": {},
     "output_type": "execute_result"
    },
    {
     "data": {
      "image/png": "[encoded data removed]",
      "text/plain": [
       "<Figure size 432x288 with 1 Axes>"
      ]
     },
     "metadata": {
      "needs_background": "light"
     },
     "output_type": "display_data"
    }
   ],
   "source": [
    "imshow(weights[2])"
   ]
  },
  {
   "cell_type": "markdown",
   "id": "latest-province",
   "metadata": {},
   "source": [
    "## Full Self Attention with Queries, Keys, Values\n",
    "\n",
    "Roles of each input vector $w_{i}$\n",
    "- **Query** $\\rightarrow$ compare to every other vector to establish weights for its own input $y_{i}$\n",
    "- **Key** $\\rightarrow$ compare to every other vector to establish weights for the output of the j-th vector $y_{j}$\n",
    "- **Values** $\\rightarrow$ it is used as part of the weighted sum to compute each output vector once the weights have been established\n"
   ]
  },
  {
   "cell_type": "code",
   "execution_count": 87,
   "id": "virgin-fellow",
   "metadata": {},
   "outputs": [],
   "source": [
    "import torch\n",
    "from torch import nn\n",
    "import torch.nn.functional as F\n",
    "import random, math"
   ]
  },
  {
   "cell_type": "code",
   "execution_count": 92,
   "id": "driving-invite",
   "metadata": {},
   "outputs": [],
   "source": [
    "class SelfAttention(nn.Module):\n",
    "    def __init__(self, emb, heads=8, mask=False):\n",
    "        \"\"\"\n",
    "        :param emb:\n",
    "        :param heads:\n",
    "        :param mask:\n",
    "        \"\"\"\n",
    "\n",
    "        super().__init__()\n",
    "\n",
    "        self.emb = emb\n",
    "        self.heads = heads\n",
    "        self.mask = mask\n",
    "\n",
    "        self.tokeys = nn.Linear(emb, emb * heads, bias=False)\n",
    "        self.toqueries = nn.Linear(emb, emb * heads, bias=False)\n",
    "        self.tovalues = nn.Linear(emb, emb * heads, bias=False)\n",
    "\n",
    "        self.unifyheads = nn.Linear(heads * emb, emb)\n",
    "\n",
    "    def forward(self, x):\n",
    "\n",
    "        b, t, e = x.size()\n",
    "        h = self.heads\n",
    "        assert e == self.emb, f'Input embedding dim ({e}) should match layer embedding dim ({self.emb})'\n",
    "\n",
    "        keys    = self.tokeys(x)   .view(b, t, h, e)\n",
    "        queries = self.toqueries(x).view(b, t, h, e)\n",
    "        values  = self.tovalues(x) .view(b, t, h, e)\n",
    "\n",
    "        # compute scaled dot-product self-attention\n",
    "\n",
    "        # - fold heads into the batch dimension\n",
    "        keys = keys.transpose(1, 2).contiguous().view(b * h, t, e)\n",
    "        queries = queries.transpose(1, 2).contiguous().view(b * h, t, e)\n",
    "        values = values.transpose(1, 2).contiguous().view(b * h, t, e)\n",
    "\n",
    "        # - get dot product of queries and keys, and scale\n",
    "        dot = torch.bmm(queries, keys.transpose(1, 2))\n",
    "        dot = dot / math.sqrt(e) # dot contains b*h  t-by-t matrices with raw self-attention logits\n",
    "\n",
    "        assert dot.size() == (b*h, t, t), f'Matrix has size {dot.size()}, expected {(b*h, t, t)}.'\n",
    "\n",
    "        if self.mask: # mask out the lower half of the dot matrix,including the diagonal\n",
    "            mask_(dot, maskval=float('-inf'), mask_diagonal=False)\n",
    "\n",
    "        dot = F.softmax(dot, dim=2) # dot now has row-wise self-attention probabilities\n",
    "\n",
    "        assert not contains_nan(dot[:, 1:, :]) # only the forst row may contain nan\n",
    "\n",
    "        if self.mask == 'first':\n",
    "            dot = dot.clone()\n",
    "            dot[:, :1, :] = 0.0\n",
    "            # - The first row of the first attention matrix is entirely masked out, so the softmax operation results\n",
    "            #   in a division by zero. We set this row to zero by hand to get rid of the NaNs\n",
    "\n",
    "        # apply the self attention to the values\n",
    "        out = torch.bmm(dot, values).view(b, h, t, e)\n",
    "\n",
    "        # swap h, t back, unify heads\n",
    "        out = out.transpose(1, 2).contiguous().view(b, t, h * e)\n",
    "\n",
    "        return self.unifyheads(out)"
   ]
  },
  {
   "cell_type": "code",
   "execution_count": 93,
   "id": "daily-possible",
   "metadata": {},
   "outputs": [
    {
     "data": {
      "text/plain": [
       "SelfAttention(\n",
       "  (tokeys): Linear(in_features=100, out_features=400, bias=False)\n",
       "  (toqueries): Linear(in_features=100, out_features=400, bias=False)\n",
       "  (tovalues): Linear(in_features=100, out_features=400, bias=False)\n",
       "  (unifyheads): Linear(in_features=400, out_features=100, bias=True)\n",
       ")"
      ]
     },
     "execution_count": 93,
     "metadata": {},
     "output_type": "execute_result"
    }
   ],
   "source": [
    "embed_dim =100\n",
    "n_heads = 4\n",
    "\n",
    "attn = SelfAttention(emb=embed_dim, heads=n_heads)\n",
    "attn"
   ]
  },
  {
   "cell_type": "code",
   "execution_count": 101,
   "id": "equipped-enzyme",
   "metadata": {},
   "outputs": [
    {
     "data": {
      "text/plain": [
       "torch.Size([16, 200, 100])"
      ]
     },
     "execution_count": 101,
     "metadata": {},
     "output_type": "execute_result"
    }
   ],
   "source": [
    "seq_lenght = 200\n",
    "b_size =16\n",
    "x = torch.rand(b_size, seq_lenght, embed_dim)\n",
    "x.shape"
   ]
  },
  {
   "cell_type": "code",
   "execution_count": 102,
   "id": "dramatic-spyware",
   "metadata": {},
   "outputs": [
    {
     "data": {
      "text/plain": [
       "torch.Size([16, 200, 100])"
      ]
     },
     "execution_count": 102,
     "metadata": {},
     "output_type": "execute_result"
    }
   ],
   "source": [
    "x.size()"
   ]
  },
  {
   "cell_type": "code",
   "execution_count": 111,
   "id": "covered-pipeline",
   "metadata": {},
   "outputs": [
    {
     "data": {
      "text/plain": [
       "4"
      ]
     },
     "execution_count": 111,
     "metadata": {},
     "output_type": "execute_result"
    }
   ],
   "source": [
    "h = n_heads\n",
    "h"
   ]
  },
  {
   "cell_type": "code",
   "execution_count": 112,
   "id": "daily-collective",
   "metadata": {},
   "outputs": [
    {
     "data": {
      "text/plain": [
       "(16, 200, 100)"
      ]
     },
     "execution_count": 112,
     "metadata": {},
     "output_type": "execute_result"
    }
   ],
   "source": [
    "b, t, e = x.size()\n",
    "b, t, e"
   ]
  },
  {
   "cell_type": "code",
   "execution_count": 123,
   "id": "individual-childhood",
   "metadata": {},
   "outputs": [],
   "source": [
    "queries = attn.toqueries(x).view(b,t,e, h)\n",
    "keys = attn.tokeys(x).view(b,t,e, h)\n",
    "values = attn.tovalues(x).view(b,t,e, h)"
   ]
  },
  {
   "cell_type": "code",
   "execution_count": 124,
   "id": "informative-cabin",
   "metadata": {},
   "outputs": [
    {
     "data": {
      "text/plain": [
       "(torch.Size([16, 200, 100, 4]),\n",
       " torch.Size([16, 200, 100, 4]),\n",
       " torch.Size([16, 200, 100, 4]))"
      ]
     },
     "execution_count": 124,
     "metadata": {},
     "output_type": "execute_result"
    }
   ],
   "source": [
    "queries.shape, keys.shape, values.shape"
   ]
  },
  {
   "cell_type": "code",
   "execution_count": 125,
   "id": "durable-germany",
   "metadata": {},
   "outputs": [],
   "source": [
    "# - fold heads into the batch dimension\n",
    "keys = keys.transpose(1, 2).contiguous().view(b * h, t, e)\n",
    "queries = queries.transpose(1, 2).contiguous().view(b * h, t, e)\n",
    "values = values.transpose(1, 2).contiguous().view(b * h, t, e)"
   ]
  },
  {
   "cell_type": "code",
   "execution_count": 126,
   "id": "celtic-moment",
   "metadata": {},
   "outputs": [
    {
     "data": {
      "text/plain": [
       "(torch.Size([64, 200, 100]),\n",
       " torch.Size([64, 200, 100]),\n",
       " torch.Size([64, 200, 100]))"
      ]
     },
     "execution_count": 126,
     "metadata": {},
     "output_type": "execute_result"
    }
   ],
   "source": [
    "queries.shape, keys.shape, values.shape"
   ]
  },
  {
   "cell_type": "code",
   "execution_count": 136,
   "id": "charged-amount",
   "metadata": {},
   "outputs": [
    {
     "name": "stdout",
     "output_type": "stream",
     "text": [
      "torch.Size([64, 200, 200])\n",
      "tensor(0.1430, grad_fn=<MeanBackward0>)\n"
     ]
    }
   ],
   "source": [
    "# - get dot product of queries and keys, and scale\n",
    "dot = torch.bmm(queries, keys.transpose(1, 2))\n",
    "print(dot.shape)\n",
    "print(dot.mean())\n",
    "dot = dot / math.sqrt(e) # dot contains b*h  t-by-t matrices with raw self-attention logits"
   ]
  },
  {
   "cell_type": "code",
   "execution_count": 137,
   "id": "professional-affiliation",
   "metadata": {},
   "outputs": [
    {
     "data": {
      "text/plain": [
       "(torch.Size([64, 200, 200]), tensor(0.0143, grad_fn=<MeanBackward0>))"
      ]
     },
     "execution_count": 137,
     "metadata": {},
     "output_type": "execute_result"
    }
   ],
   "source": [
    "dot.shape, dot.mean()"
   ]
  },
  {
   "cell_type": "code",
   "execution_count": 138,
   "id": "vocal-chester",
   "metadata": {},
   "outputs": [
    {
     "data": {
      "text/plain": [
       "tensor([[[ 1.6648e-01,  1.8130e-01,  1.4998e-01,  ...,  1.9634e-01,\n",
       "           1.3229e-01,  2.5056e-01],\n",
       "         [ 2.7216e-01,  1.7333e-01,  2.0434e-01,  ...,  1.8997e-01,\n",
       "           1.4760e-01,  2.5760e-01],\n",
       "         [ 1.7306e-01,  1.0894e-01,  1.4759e-01,  ...,  1.5102e-01,\n",
       "           1.2370e-01,  1.5106e-01],\n",
       "         ...,\n",
       "         [-4.4215e-01, -3.7666e-01, -3.5990e-01,  ..., -3.7449e-02,\n",
       "          -1.2372e-01, -1.5333e-01],\n",
       "         [-2.9236e-01, -4.1911e-01, -3.6764e-01,  ..., -3.7292e-02,\n",
       "          -9.2219e-02, -1.1336e-01],\n",
       "         [-3.9456e-01, -4.6761e-01, -4.5902e-01,  ..., -9.0837e-02,\n",
       "          -1.0957e-01, -2.1539e-01]],\n",
       "\n",
       "        [[-2.4625e-01, -2.6120e-01, -2.2405e-01,  ..., -1.5732e-01,\n",
       "          -3.2021e-01, -1.8951e-01],\n",
       "         [-2.0286e-01, -2.7717e-01, -1.9271e-01,  ..., -2.6199e-01,\n",
       "          -3.2021e-01, -2.1984e-01],\n",
       "         [-1.9553e-01, -2.5184e-01, -2.2192e-01,  ..., -1.6762e-01,\n",
       "          -2.8020e-01, -1.9099e-01],\n",
       "         ...,\n",
       "         [-8.0675e-02,  3.2134e-02, -4.9381e-02,  ...,  8.6409e-02,\n",
       "           2.6287e-02,  1.0629e-01],\n",
       "         [-7.2518e-02,  2.6970e-02, -1.3566e-02,  ...,  1.5939e-01,\n",
       "           6.0668e-02,  1.5855e-01],\n",
       "         [-5.2355e-02,  8.8958e-02, -1.1714e-01,  ...,  2.1623e-01,\n",
       "           1.0326e-01,  1.0227e-01]],\n",
       "\n",
       "        [[ 2.8577e-01,  2.7336e-01,  2.5301e-01,  ...,  3.4180e-01,\n",
       "           3.3591e-01,  3.9208e-01],\n",
       "         [ 2.3640e-01,  1.5990e-01,  1.9865e-01,  ...,  3.8733e-01,\n",
       "           2.7210e-01,  3.8171e-01],\n",
       "         [ 2.7470e-01,  2.4545e-01,  1.9072e-01,  ...,  4.2939e-01,\n",
       "           3.3230e-01,  3.9743e-01],\n",
       "         ...,\n",
       "         [-5.0981e-02, -2.3929e-02,  7.8365e-05,  ..., -1.1916e-01,\n",
       "          -7.8368e-02, -3.0215e-02],\n",
       "         [ 1.7073e-02,  2.7500e-02, -2.9712e-02,  ..., -2.4467e-01,\n",
       "          -2.5319e-01, -1.9521e-01],\n",
       "         [-2.3829e-02,  4.8522e-02, -3.5954e-02,  ..., -2.2800e-01,\n",
       "          -1.5862e-01, -1.9259e-01]],\n",
       "\n",
       "        ...,\n",
       "\n",
       "        [[-2.7306e-01, -1.9364e-01, -2.7304e-01,  ..., -1.6078e-01,\n",
       "          -2.8133e-01, -2.2495e-01],\n",
       "         [-3.2204e-01, -2.4138e-01, -2.2680e-01,  ..., -2.7610e-01,\n",
       "          -3.6516e-01, -2.9893e-01],\n",
       "         [-2.9696e-01, -2.4898e-01, -2.2739e-01,  ..., -2.2956e-01,\n",
       "          -3.1424e-01, -2.5878e-01],\n",
       "         ...,\n",
       "         [-1.1089e-01, -3.2030e-02,  3.0769e-02,  ...,  1.2220e-01,\n",
       "           2.8149e-02,  3.8737e-02],\n",
       "         [-7.1312e-02, -2.2931e-02,  5.4194e-02,  ...,  1.1155e-01,\n",
       "          -2.8692e-02, -2.5346e-02],\n",
       "         [-1.3886e-02, -4.4077e-03,  1.0307e-01,  ...,  1.6053e-01,\n",
       "           8.6259e-02,  4.9228e-02]],\n",
       "\n",
       "        [[ 8.8334e-02,  1.1756e-01,  5.9166e-02,  ...,  3.7483e-01,\n",
       "           3.6176e-01,  3.6305e-01],\n",
       "         [ 1.1177e-01,  2.3656e-01,  1.0138e-01,  ...,  4.6490e-01,\n",
       "           3.9275e-01,  4.0905e-01],\n",
       "         [ 1.7482e-01,  1.8585e-01,  8.8539e-02,  ...,  2.8650e-01,\n",
       "           2.9463e-01,  3.5305e-01],\n",
       "         ...,\n",
       "         [-2.2785e-02, -1.1656e-01, -3.7839e-02,  ..., -3.8845e-02,\n",
       "          -7.9642e-02, -1.1285e-01],\n",
       "         [ 4.5176e-03, -8.3662e-02, -2.8136e-02,  ..., -1.4169e-01,\n",
       "          -1.4896e-01, -1.3037e-01],\n",
       "         [ 1.3549e-01,  1.0613e-01,  1.0990e-01,  ..., -1.3742e-01,\n",
       "          -2.9154e-01, -2.0104e-01]],\n",
       "\n",
       "        [[-3.0301e-01, -2.9639e-01, -2.4173e-01,  ...,  1.6650e-01,\n",
       "           1.0870e-01,  2.0521e-01],\n",
       "         [-3.4473e-01, -3.3402e-01, -2.9672e-01,  ...,  2.5803e-01,\n",
       "           2.5134e-01,  3.3884e-01],\n",
       "         [-2.6910e-01, -2.3850e-01, -2.5951e-01,  ...,  1.7692e-01,\n",
       "           1.9341e-01,  2.7198e-01],\n",
       "         ...,\n",
       "         [ 3.0734e-01,  3.3555e-01,  4.2092e-01,  ..., -1.9094e-02,\n",
       "           7.0582e-02,  1.8923e-01],\n",
       "         [ 2.8783e-01,  3.2464e-01,  3.2554e-01,  ..., -6.2519e-02,\n",
       "           2.0928e-03,  1.6210e-01],\n",
       "         [ 2.6006e-01,  3.2679e-01,  3.6638e-01,  ..., -3.7337e-02,\n",
       "           6.6803e-02,  9.9300e-02]]], grad_fn=<DivBackward0>)"
      ]
     },
     "execution_count": 138,
     "metadata": {},
     "output_type": "execute_result"
    }
   ],
   "source": [
    "dot"
   ]
  },
  {
   "cell_type": "code",
   "execution_count": null,
   "id": "searching-nation",
   "metadata": {},
   "outputs": [],
   "source": []
  },
  {
   "cell_type": "code",
   "execution_count": null,
   "id": "unexpected-legislation",
   "metadata": {},
   "outputs": [],
   "source": []
  },
  {
   "cell_type": "code",
   "execution_count": null,
   "id": "wireless-market",
   "metadata": {},
   "outputs": [],
   "source": []
  },
  {
   "cell_type": "code",
   "execution_count": null,
   "id": "separated-knight",
   "metadata": {},
   "outputs": [],
   "source": []
  },
  {
   "cell_type": "code",
   "execution_count": 99,
   "id": "behavioral-interim",
   "metadata": {},
   "outputs": [
    {
     "data": {
      "text/plain": [
       "tensor([[[-0.1791, -0.1709, -0.2172,  ..., -0.1068, -0.0801, -0.1088],\n",
       "         [-0.1797, -0.1715, -0.2185,  ..., -0.1053, -0.0816, -0.1105],\n",
       "         [-0.1797, -0.1715, -0.2188,  ..., -0.1074, -0.0815, -0.1110],\n",
       "         ...,\n",
       "         [-0.1795, -0.1701, -0.2178,  ..., -0.1067, -0.0823, -0.1082],\n",
       "         [-0.1795, -0.1708, -0.2178,  ..., -0.1065, -0.0806, -0.1103],\n",
       "         [-0.1787, -0.1706, -0.2192,  ..., -0.1050, -0.0814, -0.1099]],\n",
       "\n",
       "        [[-0.0741, -0.1324, -0.1654,  ..., -0.1543, -0.0711, -0.1105],\n",
       "         [-0.0741, -0.1321, -0.1664,  ..., -0.1543, -0.0702, -0.1111],\n",
       "         [-0.0737, -0.1315, -0.1668,  ..., -0.1561, -0.0688, -0.1084],\n",
       "         ...,\n",
       "         [-0.0737, -0.1325, -0.1664,  ..., -0.1535, -0.0697, -0.1082],\n",
       "         [-0.0735, -0.1316, -0.1658,  ..., -0.1541, -0.0697, -0.1108],\n",
       "         [-0.0732, -0.1322, -0.1664,  ..., -0.1565, -0.0683, -0.1099]],\n",
       "\n",
       "        [[-0.1489, -0.1558, -0.2270,  ..., -0.1053, -0.1041, -0.0720],\n",
       "         [-0.1480, -0.1560, -0.2272,  ..., -0.1060, -0.1065, -0.0729],\n",
       "         [-0.1500, -0.1559, -0.2280,  ..., -0.1061, -0.1044, -0.0722],\n",
       "         ...,\n",
       "         [-0.1485, -0.1551, -0.2279,  ..., -0.1043, -0.1047, -0.0732],\n",
       "         [-0.1489, -0.1558, -0.2272,  ..., -0.1051, -0.1056, -0.0736],\n",
       "         [-0.1504, -0.1568, -0.2271,  ..., -0.1043, -0.1035, -0.0737]],\n",
       "\n",
       "        ...,\n",
       "\n",
       "        [[-0.1185, -0.1648, -0.1819,  ..., -0.1184, -0.1008, -0.0831],\n",
       "         [-0.1185, -0.1657, -0.1829,  ..., -0.1170, -0.0998, -0.0842],\n",
       "         [-0.1180, -0.1658, -0.1819,  ..., -0.1199, -0.1025, -0.0834],\n",
       "         ...,\n",
       "         [-0.1191, -0.1663, -0.1810,  ..., -0.1183, -0.1003, -0.0831],\n",
       "         [-0.1186, -0.1667, -0.1824,  ..., -0.1203, -0.1014, -0.0836],\n",
       "         [-0.1187, -0.1668, -0.1820,  ..., -0.1174, -0.1009, -0.0838]],\n",
       "\n",
       "        [[-0.1275, -0.1828, -0.1669,  ..., -0.0827, -0.0907, -0.1166],\n",
       "         [-0.1264, -0.1839, -0.1679,  ..., -0.0834, -0.0905, -0.1162],\n",
       "         [-0.1265, -0.1843, -0.1684,  ..., -0.0844, -0.0868, -0.1167],\n",
       "         ...,\n",
       "         [-0.1273, -0.1842, -0.1684,  ..., -0.0825, -0.0896, -0.1167],\n",
       "         [-0.1288, -0.1848, -0.1663,  ..., -0.0831, -0.0898, -0.1167],\n",
       "         [-0.1272, -0.1826, -0.1665,  ..., -0.0835, -0.0910, -0.1171]],\n",
       "\n",
       "        [[-0.1111, -0.1650, -0.1907,  ..., -0.0667, -0.0970, -0.1014],\n",
       "         [-0.1095, -0.1665, -0.1893,  ..., -0.0662, -0.0952, -0.1013],\n",
       "         [-0.1121, -0.1657, -0.1913,  ..., -0.0662, -0.0973, -0.1014],\n",
       "         ...,\n",
       "         [-0.1111, -0.1663, -0.1904,  ..., -0.0649, -0.0950, -0.1031],\n",
       "         [-0.1109, -0.1655, -0.1904,  ..., -0.0672, -0.0956, -0.1028],\n",
       "         [-0.1092, -0.1669, -0.1899,  ..., -0.0664, -0.0949, -0.1028]]],\n",
       "       grad_fn=<AddBackward0>)"
      ]
     },
     "execution_count": 99,
     "metadata": {},
     "output_type": "execute_result"
    }
   ],
   "source": [
    "attn.forward(x)"
   ]
  },
  {
   "cell_type": "code",
   "execution_count": null,
   "id": "proved-paintball",
   "metadata": {},
   "outputs": [],
   "source": []
  },
  {
   "cell_type": "code",
   "execution_count": null,
   "id": "beginning-sentence",
   "metadata": {},
   "outputs": [],
   "source": []
  },
  {
   "cell_type": "code",
   "execution_count": null,
   "id": "improved-oxide",
   "metadata": {},
   "outputs": [],
   "source": []
  },
  {
   "cell_type": "markdown",
   "id": "chemical-husband",
   "metadata": {},
   "source": [
    "## Sources\n",
    " - http://peterbloem.nl/blog/transformers"
   ]
  },
  {
   "cell_type": "code",
   "execution_count": null,
   "id": "nasty-honolulu",
   "metadata": {},
   "outputs": [],
   "source": []
  }
 ],
 "metadata": {
  "kernelspec": {
   "display_name": "torch",
   "language": "python",
   "name": "torch"
  },
  "language_info": {
   "codemirror_mode": {
    "name": "ipython",
    "version": 3
   },
   "file_extension": ".py",
   "mimetype": "text/x-python",
   "name": "python",
   "nbconvert_exporter": "python",
   "pygments_lexer": "ipython3",
   "version": "3.7.2"
  }
 },
 "nbformat": 4,
 "nbformat_minor": 5
}
