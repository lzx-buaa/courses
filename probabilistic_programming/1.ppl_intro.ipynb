{
 "cells": [
  {
   "cell_type": "code",
   "execution_count": 4,
   "id": "baking-statement",
   "metadata": {},
   "outputs": [],
   "source": [
    "import matplotlib.pyplot as plt\n",
    "import numpy as np\n",
    "\n",
    "np.random.seed(0)\n",
    "\n",
    "ndims = 5\n",
    "ndata = 100\n",
    "X = np.random.randn(ndata, ndims)\n",
    "w_ = np.random.randn(ndims)  # hidden\n",
    "noise_ = 0.1 * np.random.randn(ndata)  # hidden\n",
    "\n",
    "y_obs = X.dot(w_) + noise_"
   ]
  },
  {
   "cell_type": "code",
   "execution_count": 5,
   "id": "outside-direction",
   "metadata": {},
   "outputs": [
    {
     "data": {
      "text/plain": [
       "array([ 0.50263036, -0.85425981,  0.50019826, -0.04286238, -0.53642963,\n",
       "       -1.54342296, -0.2046543 ,  1.3984694 , -2.70004042,  1.11354392,\n",
       "       -0.61209558,  0.81774485, -0.68907781,  0.6323001 ,  1.84749701,\n",
       "       -0.83570568, -0.21484901,  0.20428957, -0.40928775,  2.08281792,\n",
       "       -0.53431659, -0.9325346 , -0.4734684 , -0.5964619 ,  0.52576148,\n",
       "        1.46206977, -0.79881964,  0.42030245, -1.37334045,  1.95799259,\n",
       "       -0.7320674 , -1.08178114,  1.17125777, -1.74485712,  1.78175267,\n",
       "       -0.34563905, -0.61137078, -0.90525787, -0.30343104, -0.19874412,\n",
       "        0.65223651, -1.35080701,  1.38105361, -0.13702041, -0.50289595,\n",
       "        0.512364  , -0.80940338, -2.26238812, -0.22569292,  1.13492724,\n",
       "        0.33907537, -1.30364248, -0.40432027,  0.0554339 ,  2.45118259,\n",
       "       -0.3343929 , -1.29976083,  1.00226479,  2.41932577,  0.96297494,\n",
       "       -0.73894816, -1.67868681, -0.95691658, -0.22439245,  0.71687859,\n",
       "        2.24271977,  2.1926795 ,  0.37385914,  0.18471478, -0.12100999,\n",
       "        1.60450463, -0.84415401,  1.1028145 ,  0.07675912,  1.2185988 ,\n",
       "       -2.00750826, -2.97598639, -2.77103466,  0.39576014,  0.2350718 ,\n",
       "        1.13358201,  0.47503181, -1.42275061, -0.58768625, -2.2489826 ,\n",
       "       -2.9060749 ,  1.13899398, -0.13849022, -0.66399447, -0.86043069,\n",
       "       -0.06917374, -1.70006963, -0.53549948,  0.4423193 , -1.51130442,\n",
       "       -1.22373371, -0.89492375, -0.62213455, -0.39292526, -0.44462591])"
      ]
     },
     "execution_count": 5,
     "metadata": {},
     "output_type": "execute_result"
    }
   ],
   "source": [
    "y_obs"
   ]
  },
  {
   "cell_type": "code",
   "execution_count": 7,
   "id": "sixth-ownership",
   "metadata": {},
   "outputs": [
    {
     "ename": "TypeError",
     "evalue": "scatter() missing 1 required positional argument: 'y'",
     "output_type": "error",
     "traceback": [
      "\u001b[0;31m---------------------------------------------------------------------------\u001b[0m",
      "\u001b[0;31mTypeError\u001b[0m                                 Traceback (most recent call last)",
      "\u001b[0;32m<ipython-input-7-d48e8e779a08>\u001b[0m in \u001b[0;36m<module>\u001b[0;34m\u001b[0m\n\u001b[0;32m----> 1\u001b[0;31m \u001b[0mplt\u001b[0m\u001b[0;34m.\u001b[0m\u001b[0mscatter\u001b[0m\u001b[0;34m(\u001b[0m\u001b[0mX\u001b[0m\u001b[0;34m[\u001b[0m\u001b[0;36m0\u001b[0m\u001b[0;34m]\u001b[0m\u001b[0;34m)\u001b[0m\u001b[0;34m\u001b[0m\u001b[0;34m\u001b[0m\u001b[0m\n\u001b[0m",
      "\u001b[0;31mTypeError\u001b[0m: scatter() missing 1 required positional argument: 'y'"
     ]
    }
   ],
   "source": [
    "plt.scatter(X[0])"
   ]
  },
  {
   "cell_type": "code",
   "execution_count": null,
   "id": "pursuant-bristol",
   "metadata": {},
   "outputs": [],
   "source": []
  }
 ],
 "metadata": {
  "kernelspec": {
   "display_name": "torch",
   "language": "python",
   "name": "torch"
  },
  "language_info": {
   "codemirror_mode": {
    "name": "ipython",
    "version": 3
   },
   "file_extension": ".py",
   "mimetype": "text/x-python",
   "name": "python",
   "nbconvert_exporter": "python",
   "pygments_lexer": "ipython3",
   "version": "3.7.2"
  }
 },
 "nbformat": 4,
 "nbformat_minor": 5
}
