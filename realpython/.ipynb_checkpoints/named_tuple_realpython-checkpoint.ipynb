{
 "cells": [
  {
   "cell_type": "code",
   "execution_count": 1,
   "id": "complimentary-message",
   "metadata": {},
   "outputs": [],
   "source": [
    "from collections import namedtuple"
   ]
  },
  {
   "cell_type": "code",
   "execution_count": 2,
   "id": "annual-investor",
   "metadata": {},
   "outputs": [],
   "source": [
    "Car = namedtuple(\"Car\", [\"color\", \"make\", \"model\", \"mileage\"])"
   ]
  },
  {
   "cell_type": "code",
   "execution_count": 4,
   "id": "moving-israel",
   "metadata": {},
   "outputs": [
    {
     "data": {
      "text/plain": [
       "<property at 0x1064268b8>"
      ]
     },
     "execution_count": 4,
     "metadata": {},
     "output_type": "execute_result"
    }
   ],
   "source": [
    "Car.color"
   ]
  },
  {
   "cell_type": "code",
   "execution_count": 9,
   "id": "alert-syndicate",
   "metadata": {},
   "outputs": [],
   "source": [
    "my_car = Car(color=\"midnight silver\", make=\"Tesla\", model=\"Model Y\", mileage=5)"
   ]
  },
  {
   "cell_type": "code",
   "execution_count": 11,
   "id": "understood-night",
   "metadata": {},
   "outputs": [
    {
     "data": {
      "text/plain": [
       "'midnight silver'"
      ]
     },
     "execution_count": 11,
     "metadata": {},
     "output_type": "execute_result"
    }
   ],
   "source": [
    "my_car.color"
   ]
  },
  {
   "cell_type": "code",
   "execution_count": 12,
   "id": "secondary-genome",
   "metadata": {},
   "outputs": [
    {
     "data": {
      "text/plain": [
       "'Model Y'"
      ]
     },
     "execution_count": 12,
     "metadata": {},
     "output_type": "execute_result"
    }
   ],
   "source": [
    "my_car.model"
   ]
  },
  {
   "cell_type": "code",
   "execution_count": 13,
   "id": "loaded-shuttle",
   "metadata": {},
   "outputs": [
    {
     "data": {
      "text/plain": [
       "5"
      ]
     },
     "execution_count": 13,
     "metadata": {},
     "output_type": "execute_result"
    }
   ],
   "source": [
    "my_car.mileage"
   ]
  },
  {
   "cell_type": "code",
   "execution_count": 14,
   "id": "removable-learning",
   "metadata": {},
   "outputs": [
    {
     "data": {
      "text/plain": [
       "6"
      ]
     },
     "execution_count": 14,
     "metadata": {},
     "output_type": "execute_result"
    }
   ],
   "source": [
    "my_car.mileage+1"
   ]
  },
  {
   "cell_type": "code",
   "execution_count": 15,
   "id": "floating-turner",
   "metadata": {},
   "outputs": [
    {
     "data": {
      "text/plain": [
       "5"
      ]
     },
     "execution_count": 15,
     "metadata": {},
     "output_type": "execute_result"
    }
   ],
   "source": [
    "my_car.mileage"
   ]
  },
  {
   "cell_type": "markdown",
   "id": "indoor-rebound",
   "metadata": {},
   "source": [
    "## Main Features\n",
    "- named tuple is a factory function\n",
    "- create `tuple` subclasses with named fields\n",
    "- code cleaner and mode maintanable"
   ]
  },
  {
   "cell_type": "code",
   "execution_count": 16,
   "id": "promising-better",
   "metadata": {},
   "outputs": [],
   "source": [
    "point = (2, 4)"
   ]
  },
  {
   "cell_type": "code",
   "execution_count": 17,
   "id": "marine-soccer",
   "metadata": {},
   "outputs": [
    {
     "data": {
      "text/plain": [
       "2"
      ]
     },
     "execution_count": 17,
     "metadata": {},
     "output_type": "execute_result"
    }
   ],
   "source": [
    "point[0]"
   ]
  },
  {
   "cell_type": "code",
   "execution_count": 18,
   "id": "breathing-tribe",
   "metadata": {},
   "outputs": [
    {
     "ename": "TypeError",
     "evalue": "'tuple' object does not support item assignment",
     "output_type": "error",
     "traceback": [
      "\u001b[0;31m---------------------------------------------------------------------------\u001b[0m",
      "\u001b[0;31mTypeError\u001b[0m                                 Traceback (most recent call last)",
      "\u001b[0;32m<ipython-input-18-c1357a7ff7f9>\u001b[0m in \u001b[0;36m<module>\u001b[0;34m\u001b[0m\n\u001b[0;32m----> 1\u001b[0;31m \u001b[0mpoint\u001b[0m\u001b[0;34m[\u001b[0m\u001b[0;36m0\u001b[0m\u001b[0;34m]\u001b[0m\u001b[0;34m=\u001b[0m\u001b[0;36m3\u001b[0m\u001b[0;34m\u001b[0m\u001b[0;34m\u001b[0m\u001b[0m\n\u001b[0m",
      "\u001b[0;31mTypeError\u001b[0m: 'tuple' object does not support item assignment"
     ]
    }
   ],
   "source": [
    "point[0]=3"
   ]
  },
  {
   "cell_type": "code",
   "execution_count": 23,
   "id": "paperback-cologne",
   "metadata": {},
   "outputs": [],
   "source": [
    "Point = namedtuple(\"Point\", [\"x\",\"y\"])"
   ]
  },
  {
   "cell_type": "code",
   "execution_count": 24,
   "id": "periodic-raising",
   "metadata": {},
   "outputs": [
    {
     "data": {
      "text/plain": [
       "True"
      ]
     },
     "execution_count": 24,
     "metadata": {},
     "output_type": "execute_result"
    }
   ],
   "source": [
    "issubclass(Point, tuple)"
   ]
  },
  {
   "cell_type": "code",
   "execution_count": 27,
   "id": "textile-walter",
   "metadata": {},
   "outputs": [],
   "source": [
    "p1=Point(2,4)"
   ]
  },
  {
   "cell_type": "code",
   "execution_count": 28,
   "id": "advance-enough",
   "metadata": {},
   "outputs": [
    {
     "data": {
      "text/plain": [
       "2"
      ]
     },
     "execution_count": 28,
     "metadata": {},
     "output_type": "execute_result"
    }
   ],
   "source": [
    "p1.x"
   ]
  },
  {
   "cell_type": "code",
   "execution_count": 30,
   "id": "smaller-apparel",
   "metadata": {},
   "outputs": [],
   "source": [
    "from collections import namedtuple"
   ]
  },
  {
   "cell_type": "code",
   "execution_count": 36,
   "id": "united-occasion",
   "metadata": {},
   "outputs": [],
   "source": [
    "Person = namedtuple(\"Person\", \"name children\")\n",
    "john = Person(\"John Doe\", [\"Timmy\", \"Jimmy\"])"
   ]
  },
  {
   "cell_type": "code",
   "execution_count": 37,
   "id": "parental-tuner",
   "metadata": {},
   "outputs": [
    {
     "data": {
      "text/plain": [
       "['Timmy', 'Jimmy']"
      ]
     },
     "execution_count": 37,
     "metadata": {},
     "output_type": "execute_result"
    }
   ],
   "source": [
    "john.children"
   ]
  },
  {
   "cell_type": "code",
   "execution_count": 38,
   "id": "different-copyright",
   "metadata": {},
   "outputs": [
    {
     "data": {
      "text/plain": [
       "'John Doe'"
      ]
     },
     "execution_count": 38,
     "metadata": {},
     "output_type": "execute_result"
    }
   ],
   "source": [
    "john.name"
   ]
  },
  {
   "cell_type": "code",
   "execution_count": 39,
   "id": "filled-yorkshire",
   "metadata": {},
   "outputs": [
    {
     "data": {
      "text/plain": [
       "4400778952"
      ]
     },
     "execution_count": 39,
     "metadata": {},
     "output_type": "execute_result"
    }
   ],
   "source": [
    "id(john.children)"
   ]
  },
  {
   "cell_type": "code",
   "execution_count": 40,
   "id": "victorian-revelation",
   "metadata": {},
   "outputs": [],
   "source": [
    "john.children.append(\"Bob\")"
   ]
  },
  {
   "cell_type": "code",
   "execution_count": 41,
   "id": "convinced-savage",
   "metadata": {},
   "outputs": [
    {
     "data": {
      "text/plain": [
       "['Timmy', 'Jimmy', 'Bob']"
      ]
     },
     "execution_count": 41,
     "metadata": {},
     "output_type": "execute_result"
    }
   ],
   "source": [
    "john.children"
   ]
  },
  {
   "cell_type": "code",
   "execution_count": 42,
   "id": "durable-breathing",
   "metadata": {},
   "outputs": [
    {
     "data": {
      "text/plain": [
       "4400778952"
      ]
     },
     "execution_count": 42,
     "metadata": {},
     "output_type": "execute_result"
    }
   ],
   "source": [
    "id(john.children)"
   ]
  },
  {
   "cell_type": "code",
   "execution_count": 43,
   "id": "caring-makeup",
   "metadata": {},
   "outputs": [],
   "source": [
    "Point = namedtuple(\"Point\", \"x y\")"
   ]
  },
  {
   "cell_type": "code",
   "execution_count": 44,
   "id": "genetic-theme",
   "metadata": {},
   "outputs": [],
   "source": [
    "p1 = Point(x=2, y=4)"
   ]
  },
  {
   "cell_type": "code",
   "execution_count": 45,
   "id": "renewable-destruction",
   "metadata": {},
   "outputs": [
    {
     "data": {
      "text/plain": [
       "2"
      ]
     },
     "execution_count": 45,
     "metadata": {},
     "output_type": "execute_result"
    }
   ],
   "source": [
    "p1.x"
   ]
  },
  {
   "cell_type": "code",
   "execution_count": 47,
   "id": "individual-starter",
   "metadata": {},
   "outputs": [],
   "source": [
    "p2 = Point(**{\"x\": 4, \"y\": 8})"
   ]
  },
  {
   "cell_type": "code",
   "execution_count": 48,
   "id": "boolean-click",
   "metadata": {},
   "outputs": [
    {
     "data": {
      "text/plain": [
       "4"
      ]
     },
     "execution_count": 48,
     "metadata": {},
     "output_type": "execute_result"
    }
   ],
   "source": [
    "p2.x"
   ]
  },
  {
   "cell_type": "code",
   "execution_count": 49,
   "id": "selected-confidence",
   "metadata": {},
   "outputs": [
    {
     "data": {
      "text/plain": [
       "8"
      ]
     },
     "execution_count": 49,
     "metadata": {},
     "output_type": "execute_result"
    }
   ],
   "source": [
    "p2.y"
   ]
  },
  {
   "cell_type": "code",
   "execution_count": 51,
   "id": "sporting-ivory",
   "metadata": {},
   "outputs": [],
   "source": [
    "p2_dict = p2._asdict()"
   ]
  },
  {
   "cell_type": "code",
   "execution_count": 53,
   "id": "alert-merit",
   "metadata": {},
   "outputs": [
    {
     "data": {
      "text/plain": [
       "4"
      ]
     },
     "execution_count": 53,
     "metadata": {},
     "output_type": "execute_result"
    }
   ],
   "source": [
    "p2_dict['x']"
   ]
  },
  {
   "cell_type": "code",
   "execution_count": 54,
   "id": "spoken-hanging",
   "metadata": {},
   "outputs": [
    {
     "data": {
      "text/plain": [
       "8"
      ]
     },
     "execution_count": 54,
     "metadata": {},
     "output_type": "execute_result"
    }
   ],
   "source": [
    "p2_dict['y']"
   ]
  },
  {
   "cell_type": "code",
   "execution_count": 56,
   "id": "aging-symphony",
   "metadata": {},
   "outputs": [],
   "source": [
    "Person = namedtuple(\"Person\", \"name age height\")\n",
    "jane = Person(\"Jane\", 25, 1.75)"
   ]
  },
  {
   "cell_type": "code",
   "execution_count": 57,
   "id": "friendly-equivalent",
   "metadata": {},
   "outputs": [
    {
     "data": {
      "text/plain": [
       "'Jane'"
      ]
     },
     "execution_count": 57,
     "metadata": {},
     "output_type": "execute_result"
    }
   ],
   "source": [
    "jane.name"
   ]
  },
  {
   "cell_type": "code",
   "execution_count": 58,
   "id": "inside-federal",
   "metadata": {},
   "outputs": [
    {
     "data": {
      "text/plain": [
       "25"
      ]
     },
     "execution_count": 58,
     "metadata": {},
     "output_type": "execute_result"
    }
   ],
   "source": [
    "jane.age"
   ]
  },
  {
   "cell_type": "code",
   "execution_count": 59,
   "id": "hungarian-plain",
   "metadata": {},
   "outputs": [
    {
     "data": {
      "text/plain": [
       "1.75"
      ]
     },
     "execution_count": 59,
     "metadata": {},
     "output_type": "execute_result"
    }
   ],
   "source": [
    "jane.height"
   ]
  },
  {
   "cell_type": "code",
   "execution_count": 60,
   "id": "mysterious-carrier",
   "metadata": {},
   "outputs": [],
   "source": [
    "jane = jane._replace(age=26)"
   ]
  },
  {
   "cell_type": "code",
   "execution_count": 61,
   "id": "educated-street",
   "metadata": {},
   "outputs": [
    {
     "data": {
      "text/plain": [
       "26"
      ]
     },
     "execution_count": 61,
     "metadata": {},
     "output_type": "execute_result"
    }
   ],
   "source": [
    "jane.age"
   ]
  },
  {
   "cell_type": "code",
   "execution_count": 62,
   "id": "blind-paste",
   "metadata": {},
   "outputs": [
    {
     "data": {
      "text/plain": [
       "Person(name='Jane', age=26, height=1.75)"
      ]
     },
     "execution_count": 62,
     "metadata": {},
     "output_type": "execute_result"
    }
   ],
   "source": [
    "jane"
   ]
  },
  {
   "cell_type": "code",
   "execution_count": 63,
   "id": "nervous-think",
   "metadata": {},
   "outputs": [
    {
     "data": {
      "text/plain": [
       "('name', 'age', 'height')"
      ]
     },
     "execution_count": 63,
     "metadata": {},
     "output_type": "execute_result"
    }
   ],
   "source": [
    "Person._fields"
   ]
  },
  {
   "cell_type": "code",
   "execution_count": 64,
   "id": "chubby-bumper",
   "metadata": {},
   "outputs": [
    {
     "data": {
      "text/plain": [
       "{}"
      ]
     },
     "execution_count": 64,
     "metadata": {},
     "output_type": "execute_result"
    }
   ],
   "source": [
    "Person._fields_defaults"
   ]
  },
  {
   "cell_type": "markdown",
   "id": "requested-transcription",
   "metadata": {},
   "source": [
    "## Sources\n",
    "- https://realpython.com/lessons/collectionsnamedtuple/ \n",
    "- https://realpython.com/python-namedtuple/"
   ]
  },
  {
   "cell_type": "code",
   "execution_count": null,
   "id": "fluid-treasury",
   "metadata": {},
   "outputs": [],
   "source": []
  }
 ],
 "metadata": {
  "kernelspec": {
   "display_name": "torch",
   "language": "python",
   "name": "torch"
  },
  "language_info": {
   "codemirror_mode": {
    "name": "ipython",
    "version": 3
   },
   "file_extension": ".py",
   "mimetype": "text/x-python",
   "name": "python",
   "nbconvert_exporter": "python",
   "pygments_lexer": "ipython3",
   "version": "3.7.2"
  }
 },
 "nbformat": 4,
 "nbformat_minor": 5
}
