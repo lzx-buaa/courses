{
 "cells": [
  {
   "cell_type": "code",
   "execution_count": 10,
   "id": "interim-syndication",
   "metadata": {},
   "outputs": [],
   "source": [
    "import abc"
   ]
  },
  {
   "cell_type": "code",
   "execution_count": 14,
   "id": "material-candidate",
   "metadata": {},
   "outputs": [],
   "source": [
    "class Engine(object):\n",
    "    def __init__(self):\n",
    "        self.motor = 2.0\n",
    "        self.num_tires = 4\n",
    "        pass\n",
    "    def _acelerate(self):\n",
    "        pass\n",
    "    def _break(self):\n",
    "        pass"
   ]
  },
  {
   "cell_type": "code",
   "execution_count": 15,
   "id": "excessive-jimmy",
   "metadata": {},
   "outputs": [],
   "source": [
    "class Brand(object):\n",
    "    def __init__():\n",
    "        pass"
   ]
  },
  {
   "cell_type": "code",
   "execution_count": 16,
   "id": "african-transfer",
   "metadata": {},
   "outputs": [],
   "source": [
    "e1 = Engine()"
   ]
  },
  {
   "cell_type": "code",
   "execution_count": 17,
   "id": "accepting-herald",
   "metadata": {},
   "outputs": [
    {
     "data": {
      "text/plain": [
       "2.0"
      ]
     },
     "execution_count": 17,
     "metadata": {},
     "output_type": "execute_result"
    }
   ],
   "source": [
    "e1.motor"
   ]
  },
  {
   "cell_type": "code",
   "execution_count": 18,
   "id": "cardiovascular-configuration",
   "metadata": {},
   "outputs": [
    {
     "data": {
      "text/plain": [
       "4"
      ]
     },
     "execution_count": 18,
     "metadata": {},
     "output_type": "execute_result"
    }
   ],
   "source": [
    "e1.num_tires"
   ]
  },
  {
   "cell_type": "code",
   "execution_count": null,
   "id": "operating-advice",
   "metadata": {},
   "outputs": [],
   "source": []
  },
  {
   "cell_type": "markdown",
   "id": "configured-ratio",
   "metadata": {},
   "source": [
    "## Source\n",
    "1. https://realpython.com/courses/inheritance-composition-python/"
   ]
  },
  {
   "cell_type": "code",
   "execution_count": null,
   "id": "concrete-shock",
   "metadata": {},
   "outputs": [],
   "source": []
  }
 ],
 "metadata": {
  "kernelspec": {
   "display_name": "torch",
   "language": "python",
   "name": "torch"
  },
  "language_info": {
   "codemirror_mode": {
    "name": "ipython",
    "version": 3
   },
   "file_extension": ".py",
   "mimetype": "text/x-python",
   "name": "python",
   "nbconvert_exporter": "python",
   "pygments_lexer": "ipython3",
   "version": "3.7.2"
  }
 },
 "nbformat": 4,
 "nbformat_minor": 5
}
