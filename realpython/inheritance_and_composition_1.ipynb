{
 "cells": [
  {
   "cell_type": "code",
   "execution_count": null,
   "id": "interim-syndication",
   "metadata": {},
   "outputs": [],
   "source": [
    "import abc"
   ]
  },
  {
   "cell_type": "code",
   "execution_count": null,
   "id": "material-candidate",
   "metadata": {},
   "outputs": [],
   "source": [
    "class Engine(object):\n",
    "    def __init__(self):\n",
    "        self.motor = 2.0\n",
    "        self.num_tires = 4\n",
    "        pass\n",
    "    def _acelerate(self):\n",
    "        pass\n",
    "    def _break(self):\n",
    "        pass"
   ]
  },
  {
   "cell_type": "code",
   "execution_count": null,
   "id": "excessive-jimmy",
   "metadata": {},
   "outputs": [],
   "source": [
    "class Brand(object):\n",
    "    def __init__():\n",
    "        pass"
   ]
  },
  {
   "cell_type": "code",
   "execution_count": null,
   "id": "african-transfer",
   "metadata": {},
   "outputs": [],
   "source": [
    "e1 = Engine()"
   ]
  },
  {
   "cell_type": "code",
   "execution_count": null,
   "id": "accepting-herald",
   "metadata": {},
   "outputs": [],
   "source": [
    "e1.motor"
   ]
  },
  {
   "cell_type": "code",
   "execution_count": null,
   "id": "cardiovascular-configuration",
   "metadata": {},
   "outputs": [],
   "source": [
    "e1.num_tires"
   ]
  },
  {
   "cell_type": "markdown",
   "id": "mechanical-quilt",
   "metadata": {},
   "source": [
    "## Composition"
   ]
  },
  {
   "cell_type": "code",
   "execution_count": null,
   "id": "undefined-origin",
   "metadata": {},
   "outputs": [],
   "source": [
    "class MyClass:\n",
    "    '''\n",
    "    My class here\n",
    "    '''\n",
    "    pass"
   ]
  },
  {
   "cell_type": "code",
   "execution_count": null,
   "id": "compressed-samuel",
   "metadata": {},
   "outputs": [],
   "source": [
    "c = MyClass()"
   ]
  },
  {
   "cell_type": "code",
   "execution_count": null,
   "id": "operating-advice",
   "metadata": {},
   "outputs": [],
   "source": [
    "dir(c)"
   ]
  },
  {
   "cell_type": "code",
   "execution_count": null,
   "id": "asian-detective",
   "metadata": {},
   "outputs": [],
   "source": [
    "c.__doc__"
   ]
  },
  {
   "cell_type": "code",
   "execution_count": null,
   "id": "greater-christian",
   "metadata": {},
   "outputs": [],
   "source": [
    "c.__init__"
   ]
  },
  {
   "cell_type": "code",
   "execution_count": null,
   "id": "endless-funds",
   "metadata": {},
   "outputs": [],
   "source": [
    "o = object()"
   ]
  },
  {
   "cell_type": "code",
   "execution_count": null,
   "id": "organized-helping",
   "metadata": {},
   "outputs": [],
   "source": [
    "dir(o)"
   ]
  },
  {
   "cell_type": "code",
   "execution_count": null,
   "id": "listed-brave",
   "metadata": {},
   "outputs": [],
   "source": [
    "class MyError(Exception):\n",
    "    def __init__(self, message):\n",
    "        super().__init__(message)\n",
    "    pass"
   ]
  },
  {
   "cell_type": "code",
   "execution_count": null,
   "id": "assigned-shower",
   "metadata": {},
   "outputs": [],
   "source": [
    "raise MyError(\"Something went wrong!\")"
   ]
  },
  {
   "cell_type": "markdown",
   "id": "universal-plant",
   "metadata": {},
   "source": [
    "## Interfaces\n",
    "\n",
    "- Python support multiple inheritances\n",
    "- Interface is more a conceptual construct\n",
    "- For a  class to implement an interface it must have the attributes that describes the interface"
   ]
  },
  {
   "cell_type": "code",
   "execution_count": null,
   "id": "identical-union",
   "metadata": {},
   "outputs": [],
   "source": [
    "from abc import ABC, abstractmethod"
   ]
  },
  {
   "cell_type": "code",
   "execution_count": null,
   "id": "alone-australia",
   "metadata": {},
   "outputs": [],
   "source": [
    "class PayrollObject:\n",
    "    def __init__(self, id, name):\n",
    "        self.id = id\n",
    "        self.name = name\n",
    "    def calculate_payroll(self):\n",
    "        return 1234"
   ]
  },
  {
   "cell_type": "code",
   "execution_count": null,
   "id": "muslim-forge",
   "metadata": {},
   "outputs": [],
   "source": [
    "class PayrollSystem:\n",
    "    def calculate_payroll(self, employees):\n",
    "        print(\"Calculating Payroll\")\n",
    "        print(\"===================\")\n",
    "        for employee in employees:\n",
    "            print(f\"Payroll for: {employee.id} - {employee.name}\")\n",
    "            print(f\"- Check amount: {employee.calculate_payroll()}\")\n",
    "            print(\" \")    "
   ]
  },
  {
   "cell_type": "code",
   "execution_count": null,
   "id": "anticipated-roman",
   "metadata": {},
   "outputs": [],
   "source": [
    "class Employee(ABC):\n",
    "    def __init__(self, id, name):\n",
    "        self.id = id\n",
    "        self.name = name\n",
    "        \n",
    "    @abstractmethod\n",
    "    def calculate_payroll(self):\n",
    "        pass"
   ]
  },
  {
   "cell_type": "code",
   "execution_count": null,
   "id": "rocky-peeing",
   "metadata": {},
   "outputs": [],
   "source": [
    "class SalaryEmployee(Employee):\n",
    "    def __init__(self, id, name, weekly_salary):\n",
    "        super().__init__(id, name)\n",
    "        self.weekly_salary = weekly_salary\n",
    "    def calculate_payroll(self):\n",
    "        return self.weekly_salary"
   ]
  },
  {
   "cell_type": "code",
   "execution_count": null,
   "id": "distant-policy",
   "metadata": {},
   "outputs": [],
   "source": [
    "class HourlyEmployee(Employee):\n",
    "    def __init__(self, id, name, hours_worked, hour_rate):\n",
    "        super().__init__(id, name)\n",
    "        self.hours_worked = hours_worked\n",
    "        self.hour_rate = hour_rate\n",
    "    def calculate_payroll(self):\n",
    "        return self.hours_worked * self.hour_rate"
   ]
  },
  {
   "cell_type": "code",
   "execution_count": null,
   "id": "south-cemetery",
   "metadata": {},
   "outputs": [],
   "source": [
    "class CommisionEmployee(SalaryEmployee):\n",
    "    def __init__(self, id, name, weekly_salary, commision):\n",
    "        super().__init__(id, name, weekly_salary)\n",
    "        self.commision = commision\n",
    "    def calculate_payroll(self):\n",
    "        fixed = super().calculate_payroll()\n",
    "        return fixed + self.commision"
   ]
  },
  {
   "cell_type": "code",
   "execution_count": null,
   "id": "opposed-circus",
   "metadata": {},
   "outputs": [],
   "source": [
    "salary_employee = SalaryEmployee(1, \"John Smith\", 1500)\n",
    "hourly_employee = HourlyEmployee(2, \"Jane Doe\", 40, 15)\n",
    "commission_employee = CommisionEmployee(3, \"Kevin Bacon\", 1000, 250)"
   ]
  },
  {
   "cell_type": "code",
   "execution_count": null,
   "id": "boolean-official",
   "metadata": {},
   "outputs": [],
   "source": [
    "payroll_system = PayrollSystem()"
   ]
  },
  {
   "cell_type": "code",
   "execution_count": null,
   "id": "fiscal-publisher",
   "metadata": {},
   "outputs": [],
   "source": [
    "payroll_system.calculate_payroll([\n",
    "    salary_employee,\n",
    "    hourly_employee,\n",
    "    commission_employee\n",
    "])"
   ]
  },
  {
   "cell_type": "markdown",
   "id": "small-smooth",
   "metadata": {},
   "source": [
    "## Productivity System"
   ]
  },
  {
   "cell_type": "code",
   "execution_count": 5,
   "id": "preliminary-sailing",
   "metadata": {},
   "outputs": [],
   "source": [
    "import employees"
   ]
  },
  {
   "cell_type": "code",
   "execution_count": 6,
   "id": "foreign-patent",
   "metadata": {},
   "outputs": [],
   "source": [
    "salary_employee = employees.SalaryEmployee(1, \"John Smith\", 1500)\n",
    "hourly_employee = employees.HourlyEmployee(2, \"Jane Doe\", 40, 15)\n",
    "commission_employee = employees.CommisionEmployee(3, \"Kevin Bacon\", 1000, 250)"
   ]
  },
  {
   "cell_type": "code",
   "execution_count": 7,
   "id": "worthy-integration",
   "metadata": {},
   "outputs": [
    {
     "name": "stdout",
     "output_type": "stream",
     "text": [
      "Calculating Payroll\n",
      "===================\n",
      "Payroll for: 1 - John Smith\n",
      "- Check amount: 1500\n",
      " \n",
      "Payroll for: 2 - Jane Doe\n",
      "- Check amount: 600\n",
      " \n",
      "Payroll for: 3 - Kevin Bacon\n",
      "- Check amount: 1250\n",
      " \n"
     ]
    }
   ],
   "source": [
    "payroll_system = employees.PayrollSystem()\n",
    "payroll_system.calculate_payroll([\n",
    "    salary_employee,\n",
    "    hourly_employee,\n",
    "    commission_employee\n",
    "])"
   ]
  },
  {
   "cell_type": "code",
   "execution_count": 12,
   "id": "gothic-update",
   "metadata": {},
   "outputs": [],
   "source": [
    "class Manager(SalaryEmployee):\n",
    "    def work(self, hours):\n",
    "        print(f\"{self.name} screams and yells for {hours} hours.\")\n",
    "\n",
    "class Secretary(SalaryEmployee):\n",
    "    def work(self, hours):\n",
    "        print(f\"{self.name} expends {hours} hours doing office paperwork.\")\n",
    "\n",
    "class SalesPerson(SalaryEmployee):\n",
    "    def work(self, hours):\n",
    "        print(f\"{self.name} screams and yells for {hours} hours.\")"
   ]
  },
  {
   "cell_type": "code",
   "execution_count": 13,
   "id": "oriental-amber",
   "metadata": {},
   "outputs": [],
   "source": [
    "class ProductivitySystem:\n",
    "    def work(self, employees, hours):\n",
    "        print(\"Tracking Employee Productivity\")\n",
    "        print(\"===================\")\n",
    "        for employee in employees:\n",
    "            employee.work(hours)\n",
    "            print(\" \") "
   ]
  },
  {
   "cell_type": "code",
   "execution_count": 14,
   "id": "immediate-north",
   "metadata": {},
   "outputs": [
    {
     "ename": "TypeError",
     "evalue": "__init__() takes 4 positional arguments but 5 were given",
     "output_type": "error",
     "traceback": [
      "\u001b[0;31m---------------------------------------------------------------------------\u001b[0m",
      "\u001b[0;31mTypeError\u001b[0m                                 Traceback (most recent call last)",
      "\u001b[0;32m<ipython-input-14-f3ff6b0b3be3>\u001b[0m in \u001b[0;36m<module>\u001b[0;34m\u001b[0m\n\u001b[1;32m      1\u001b[0m \u001b[0mmanager\u001b[0m \u001b[0;34m=\u001b[0m \u001b[0mManager\u001b[0m\u001b[0;34m(\u001b[0m\u001b[0;36m1\u001b[0m\u001b[0;34m,\u001b[0m \u001b[0;34m\"John Smith\"\u001b[0m\u001b[0;34m,\u001b[0m \u001b[0;36m1500\u001b[0m\u001b[0;34m)\u001b[0m\u001b[0;34m\u001b[0m\u001b[0;34m\u001b[0m\u001b[0m\n\u001b[0;32m----> 2\u001b[0;31m \u001b[0msecretary\u001b[0m \u001b[0;34m=\u001b[0m \u001b[0mSecretary\u001b[0m\u001b[0;34m(\u001b[0m\u001b[0;36m2\u001b[0m\u001b[0;34m,\u001b[0m \u001b[0;34m\"Jane Doe\"\u001b[0m\u001b[0;34m,\u001b[0m \u001b[0;36m40\u001b[0m\u001b[0;34m,\u001b[0m \u001b[0;36m15\u001b[0m\u001b[0;34m)\u001b[0m\u001b[0;34m\u001b[0m\u001b[0;34m\u001b[0m\u001b[0m\n\u001b[0m\u001b[1;32m      3\u001b[0m \u001b[0msales_person\u001b[0m \u001b[0;34m=\u001b[0m \u001b[0memployees\u001b[0m\u001b[0;34m.\u001b[0m\u001b[0mCommisionEmployee\u001b[0m\u001b[0;34m(\u001b[0m\u001b[0;36m3\u001b[0m\u001b[0;34m,\u001b[0m \u001b[0;34m\"Kevin Bacon\"\u001b[0m\u001b[0;34m,\u001b[0m \u001b[0;36m1000\u001b[0m\u001b[0;34m,\u001b[0m \u001b[0;36m250\u001b[0m\u001b[0;34m)\u001b[0m\u001b[0;34m\u001b[0m\u001b[0;34m\u001b[0m\u001b[0m\n",
      "\u001b[0;31mTypeError\u001b[0m: __init__() takes 4 positional arguments but 5 were given"
     ]
    }
   ],
   "source": [
    "manager = Manager(1, \"John Smith\", 1500)\n",
    "secretary = Secretary(2, \"Jane Doe\", 40, 15)\n",
    "sales_person = employees.CommisionEmployee(3, \"Kevin Bacon\", 1000, 250)"
   ]
  },
  {
   "cell_type": "code",
   "execution_count": null,
   "id": "associate-connecticut",
   "metadata": {},
   "outputs": [],
   "source": []
  },
  {
   "cell_type": "code",
   "execution_count": null,
   "id": "union-engagement",
   "metadata": {},
   "outputs": [],
   "source": []
  },
  {
   "cell_type": "code",
   "execution_count": null,
   "id": "intense-delight",
   "metadata": {},
   "outputs": [],
   "source": []
  },
  {
   "cell_type": "code",
   "execution_count": null,
   "id": "latest-cookbook",
   "metadata": {},
   "outputs": [],
   "source": []
  },
  {
   "cell_type": "code",
   "execution_count": null,
   "id": "returning-blogger",
   "metadata": {},
   "outputs": [],
   "source": []
  },
  {
   "cell_type": "markdown",
   "id": "configured-ratio",
   "metadata": {},
   "source": [
    "## Source\n",
    "1. https://realpython.com/courses/inheritance-composition-python/"
   ]
  },
  {
   "cell_type": "code",
   "execution_count": null,
   "id": "concrete-shock",
   "metadata": {},
   "outputs": [],
   "source": []
  }
 ],
 "metadata": {
  "kernelspec": {
   "display_name": "torch",
   "language": "python",
   "name": "torch"
  },
  "language_info": {
   "codemirror_mode": {
    "name": "ipython",
    "version": 3
   },
   "file_extension": ".py",
   "mimetype": "text/x-python",
   "name": "python",
   "nbconvert_exporter": "python",
   "pygments_lexer": "ipython3",
   "version": "3.7.2"
  }
 },
 "nbformat": 4,
 "nbformat_minor": 5
}
